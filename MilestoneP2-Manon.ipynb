{
 "cells": [
  {
   "cell_type": "markdown",
   "id": "0b95ebaa",
   "metadata": {},
   "source": [
    "# Wikiworld - Milestone P2\n",
    "\n",
    "<div class=\"alert alert-block alert-info\">\n",
    "<b>Team:</b> flagADA22\n",
    "\n",
    "<b>Authors:</b> Flore Barde, Manon Béchaz, Zoé Jeandupeux, Killian Rigaux\n",
    "</div>\n",
    "\n",
    "## <a id=\"ToC_1_WT\"></a>Table of contents\n",
    "\n",
    "1. [Data Loading and First analyses](#1.-Data-Loading-and-First-analyses)\n",
    "    1. [Data Loading](#1.A-Data-Loading)\n",
    "    2. [Categories of the articles](#1.B-Categories-of-the-articles)\n",
    "2. [Tools](#2.Tools)\n",
    "    1. [Graph Analysis and Centrality](#2.A-Graph-Analysis-and-Centrality)\n",
    "        1. [Creation of the graph](#2.A.a-Creation-of-the-graph)\n",
    "        2. [Centrality](#2.A.b-Centrality)\n",
    "    2. [Semantic distance](#2.B-Semantic-distance)\n",
    "3. [Countries](#3.-Countries)\n",
    "    1. [Continents](#3.A-Continents)\n",
    "    2. [What are the most important countries, according to Wikipedia's users?](#3.B-What-are-the-most-important-countries-according-to-Wikipedia's-users?)\n",
    "    3. [If I say Switzerland, what do you think?](#3.C-If-I-say-Switzerland,-what-do-you-think?)\n",
    "4. [People](#4.-People)\n",
    "    1. [Categories of People](#4.A-Categories-of-People)\n",
    "    2. [Who are the people in our dataset?](#4.B-Who-are-the-people-in-our-dataset?)\n",
    "        1. [Extracting the information from the plaintext](#4.B.a-Extracting-the-information-from-the-plaintext) \n",
    "        2. [Extracting the information from the html page](#4.B.b-Extracting-the-information-from-the-html-page) \n",
    "    3. [What are the most important people according to Wikipedia's users?](#4.C-What-are-the-most-important-people-according-to-Wikipedia's-users?)\n",
    "    4. [Linking people and countries](#4.D-Linking-people-and-countries)\n",
    "5. [Historical events](#5.-Historical-events)\n",
    "6. [Appendix](#6.-Appendix)"
   ]
  },
  {
   "cell_type": "markdown",
   "id": "a63ce07a",
   "metadata": {},
   "source": [
    "During this project, we are going to study the Wikispeedia data. This notebook represents a preliminary analysis of the project data. \n",
    "\n",
    "One first imports all necessary packages for our analysis."
   ]
  },
  {
   "cell_type": "code",
   "execution_count": 1,
   "id": "26b16bb5",
   "metadata": {},
   "outputs": [],
   "source": [
    "%matplotlib inline\n",
    "import pandas as pd\n",
    "import numpy as np\n",
    "import matplotlib.pyplot as plt\n",
    "import networkx as nx\n",
    "from urllib.parse import unquote\n",
    "import plotly.graph_objects as go\n",
    "import re\n",
    "from bs4 import BeautifulSoup"
   ]
  },
  {
   "cell_type": "code",
   "execution_count": 2,
   "id": "92ae273f",
   "metadata": {},
   "outputs": [],
   "source": [
    "pd.options.display.max_colwidth = 200 #allows to desplay the entire strings in the dataframe"
   ]
  },
  {
   "cell_type": "markdown",
   "id": "6b4ec7a4",
   "metadata": {},
   "source": [
    "# 1. Data Loading and First analyses\n",
    "\n",
    "## 1.A Data Loading\n",
    "As a first step, we load the data from the path and graph folder: `wikispeedia_paths-and-graph`.\n",
    "Amoung these data, we can find:\n",
    "- `articles.tsv`: list of all the Wikipedia articles given in the Wikispeedia dataset.\n",
    "- `categories.tsv`: categories to which belong a specific Wikipedia article.\n",
    "- `links.tsv`: list of all the hyperlinks existing between two different Wikipedia page.\n",
    "- `paths_finished.tsv`: hyperlinks path chosen by users while playing the Wikispeedia game, and were able to finish the game.\n",
    "- `paths_unfinished.tsv`: hyperlinks path chosen be users while playing the Wikispeedia game, but were not able to finish the game.\n",
    "- `shortest-path-distance-matrix.txt`: matrix of the smaller number of hyperlinks necessary to go from one Wikipedia article to the other."
   ]
  },
  {
   "cell_type": "code",
   "execution_count": 3,
   "id": "06351f6e",
   "metadata": {},
   "outputs": [],
   "source": [
    "# Folder\n",
    "PATH_FOLDER = 'wikispeedia_paths-and-graph/'\n",
    "\n",
    "# Defining paths\n",
    "ARTICLES_DATA = PATH_FOLDER + \"articles.tsv\"\n",
    "CATEGORIES_DATA = PATH_FOLDER + \"categories.tsv\"\n",
    "LINKS_DATA = PATH_FOLDER + \"links.tsv\"\n",
    "PATH_FINISHED_DATA = PATH_FOLDER + \"paths_finished.tsv\"\n",
    "PATH_UNFINISHED_DATA = PATH_FOLDER + \"paths_unfinished.tsv\"\n",
    "SHORTESTPATH_DATA = PATH_FOLDER + \"shortest-path-distance-matrix.txt\"\n",
    "\n",
    "# Loading all data series\n",
    "articles = pd.read_csv(ARTICLES_DATA, header=None, names=['article'], comment='#')\n",
    "categories = pd.read_csv(CATEGORIES_DATA, sep='\\t', header=None, names=['article', 'category'], comment='#')\n",
    "links = pd.read_csv(LINKS_DATA, sep='\\t', header=None, names=[\"linkSource\", 'linkTarget'], comment='#')\n",
    "path_finished = pd.read_csv(PATH_FINISHED_DATA, sep='\\t', header=None, names=['hashedIpAddress', 'timestamp', 'durationInSec', 'path', 'rating'], comment='#')\n",
    "path_unfinished = pd.read_csv(PATH_UNFINISHED_DATA, sep='\\t', header=None, names=['hashedIpAddress', 'timestamp', 'durationInSec', 'path', 'target', 'type'], comment='#')\n"
   ]
  },
  {
   "cell_type": "code",
   "execution_count": 4,
   "id": "92ed875c",
   "metadata": {},
   "outputs": [],
   "source": [
    "#### CODE A SUPPRIMER ?? #### TROUVER COMMENT BIEN FAIRE\n",
    "shortest_path = pd.read_csv(SHORTESTPATH_DATA, sep='\\t', header=None, names=['shortestPath'], comment='#')"
   ]
  },
  {
   "cell_type": "markdown",
   "id": "83ea4039",
   "metadata": {},
   "source": [
    "Let's take a quick look at what the data we just loaded look like:"
   ]
  },
  {
   "cell_type": "code",
   "execution_count": 5,
   "id": "ed21c8f1",
   "metadata": {},
   "outputs": [
    {
     "name": "stdout",
     "output_type": "stream",
     "text": [
      "There are 4604 Wikipedia articles given in the Wikispeedia dataset.\n"
     ]
    },
    {
     "data": {
      "text/html": [
       "<div>\n",
       "<style scoped>\n",
       "    .dataframe tbody tr th:only-of-type {\n",
       "        vertical-align: middle;\n",
       "    }\n",
       "\n",
       "    .dataframe tbody tr th {\n",
       "        vertical-align: top;\n",
       "    }\n",
       "\n",
       "    .dataframe thead th {\n",
       "        text-align: right;\n",
       "    }\n",
       "</style>\n",
       "<table border=\"1\" class=\"dataframe\">\n",
       "  <thead>\n",
       "    <tr style=\"text-align: right;\">\n",
       "      <th></th>\n",
       "      <th>article</th>\n",
       "    </tr>\n",
       "  </thead>\n",
       "  <tbody>\n",
       "    <tr>\n",
       "      <th>0</th>\n",
       "      <td>%C3%81ed%C3%A1n_mac_Gabr%C3%A1in</td>\n",
       "    </tr>\n",
       "    <tr>\n",
       "      <th>1</th>\n",
       "      <td>%C3%85land</td>\n",
       "    </tr>\n",
       "    <tr>\n",
       "      <th>2</th>\n",
       "      <td>%C3%89douard_Manet</td>\n",
       "    </tr>\n",
       "  </tbody>\n",
       "</table>\n",
       "</div>"
      ],
      "text/plain": [
       "                            article\n",
       "0  %C3%81ed%C3%A1n_mac_Gabr%C3%A1in\n",
       "1                        %C3%85land\n",
       "2                %C3%89douard_Manet"
      ]
     },
     "execution_count": 5,
     "metadata": {},
     "output_type": "execute_result"
    }
   ],
   "source": [
    "print('There are {} Wikipedia articles given in the Wikispeedia dataset.'.format(len(articles)))\n",
    "articles.head(3)"
   ]
  },
  {
   "cell_type": "code",
   "execution_count": 6,
   "id": "0ab05240",
   "metadata": {},
   "outputs": [
    {
     "data": {
      "text/html": [
       "<div>\n",
       "<style scoped>\n",
       "    .dataframe tbody tr th:only-of-type {\n",
       "        vertical-align: middle;\n",
       "    }\n",
       "\n",
       "    .dataframe tbody tr th {\n",
       "        vertical-align: top;\n",
       "    }\n",
       "\n",
       "    .dataframe thead th {\n",
       "        text-align: right;\n",
       "    }\n",
       "</style>\n",
       "<table border=\"1\" class=\"dataframe\">\n",
       "  <thead>\n",
       "    <tr style=\"text-align: right;\">\n",
       "      <th></th>\n",
       "      <th>article</th>\n",
       "      <th>category</th>\n",
       "    </tr>\n",
       "  </thead>\n",
       "  <tbody>\n",
       "    <tr>\n",
       "      <th>0</th>\n",
       "      <td>%C3%81ed%C3%A1n_mac_Gabr%C3%A1in</td>\n",
       "      <td>subject.History.British_History.British_History_1500_and_before_including_Roman_Britain</td>\n",
       "    </tr>\n",
       "    <tr>\n",
       "      <th>1</th>\n",
       "      <td>%C3%81ed%C3%A1n_mac_Gabr%C3%A1in</td>\n",
       "      <td>subject.People.Historical_figures</td>\n",
       "    </tr>\n",
       "    <tr>\n",
       "      <th>2</th>\n",
       "      <td>%C3%85land</td>\n",
       "      <td>subject.Countries</td>\n",
       "    </tr>\n",
       "  </tbody>\n",
       "</table>\n",
       "</div>"
      ],
      "text/plain": [
       "                            article  \\\n",
       "0  %C3%81ed%C3%A1n_mac_Gabr%C3%A1in   \n",
       "1  %C3%81ed%C3%A1n_mac_Gabr%C3%A1in   \n",
       "2                        %C3%85land   \n",
       "\n",
       "                                                                                  category  \n",
       "0  subject.History.British_History.British_History_1500_and_before_including_Roman_Britain  \n",
       "1                                                        subject.People.Historical_figures  \n",
       "2                                                                        subject.Countries  "
      ]
     },
     "execution_count": 6,
     "metadata": {},
     "output_type": "execute_result"
    }
   ],
   "source": [
    "categories.head(3)"
   ]
  },
  {
   "cell_type": "code",
   "execution_count": 7,
   "id": "6528faf5",
   "metadata": {},
   "outputs": [
    {
     "data": {
      "text/html": [
       "<div>\n",
       "<style scoped>\n",
       "    .dataframe tbody tr th:only-of-type {\n",
       "        vertical-align: middle;\n",
       "    }\n",
       "\n",
       "    .dataframe tbody tr th {\n",
       "        vertical-align: top;\n",
       "    }\n",
       "\n",
       "    .dataframe thead th {\n",
       "        text-align: right;\n",
       "    }\n",
       "</style>\n",
       "<table border=\"1\" class=\"dataframe\">\n",
       "  <thead>\n",
       "    <tr style=\"text-align: right;\">\n",
       "      <th></th>\n",
       "      <th>linkSource</th>\n",
       "      <th>linkTarget</th>\n",
       "    </tr>\n",
       "  </thead>\n",
       "  <tbody>\n",
       "    <tr>\n",
       "      <th>0</th>\n",
       "      <td>%C3%81ed%C3%A1n_mac_Gabr%C3%A1in</td>\n",
       "      <td>Bede</td>\n",
       "    </tr>\n",
       "    <tr>\n",
       "      <th>1</th>\n",
       "      <td>%C3%81ed%C3%A1n_mac_Gabr%C3%A1in</td>\n",
       "      <td>Columba</td>\n",
       "    </tr>\n",
       "    <tr>\n",
       "      <th>2</th>\n",
       "      <td>%C3%81ed%C3%A1n_mac_Gabr%C3%A1in</td>\n",
       "      <td>D%C3%A1l_Riata</td>\n",
       "    </tr>\n",
       "  </tbody>\n",
       "</table>\n",
       "</div>"
      ],
      "text/plain": [
       "                         linkSource      linkTarget\n",
       "0  %C3%81ed%C3%A1n_mac_Gabr%C3%A1in            Bede\n",
       "1  %C3%81ed%C3%A1n_mac_Gabr%C3%A1in         Columba\n",
       "2  %C3%81ed%C3%A1n_mac_Gabr%C3%A1in  D%C3%A1l_Riata"
      ]
     },
     "execution_count": 7,
     "metadata": {},
     "output_type": "execute_result"
    }
   ],
   "source": [
    "links.head(3)"
   ]
  },
  {
   "cell_type": "code",
   "execution_count": 8,
   "id": "cbb883a5",
   "metadata": {},
   "outputs": [
    {
     "data": {
      "text/html": [
       "<div>\n",
       "<style scoped>\n",
       "    .dataframe tbody tr th:only-of-type {\n",
       "        vertical-align: middle;\n",
       "    }\n",
       "\n",
       "    .dataframe tbody tr th {\n",
       "        vertical-align: top;\n",
       "    }\n",
       "\n",
       "    .dataframe thead th {\n",
       "        text-align: right;\n",
       "    }\n",
       "</style>\n",
       "<table border=\"1\" class=\"dataframe\">\n",
       "  <thead>\n",
       "    <tr style=\"text-align: right;\">\n",
       "      <th></th>\n",
       "      <th>hashedIpAddress</th>\n",
       "      <th>timestamp</th>\n",
       "      <th>durationInSec</th>\n",
       "      <th>path</th>\n",
       "      <th>rating</th>\n",
       "    </tr>\n",
       "  </thead>\n",
       "  <tbody>\n",
       "    <tr>\n",
       "      <th>0</th>\n",
       "      <td>6a3701d319fc3754</td>\n",
       "      <td>1297740409</td>\n",
       "      <td>166</td>\n",
       "      <td>14th_century;15th_century;16th_century;Pacific_Ocean;Atlantic_Ocean;Accra;Africa;Atlantic_slave_trade;African_slave_trade</td>\n",
       "      <td>NaN</td>\n",
       "    </tr>\n",
       "    <tr>\n",
       "      <th>1</th>\n",
       "      <td>3824310e536af032</td>\n",
       "      <td>1344753412</td>\n",
       "      <td>88</td>\n",
       "      <td>14th_century;Europe;Africa;Atlantic_slave_trade;African_slave_trade</td>\n",
       "      <td>3.0</td>\n",
       "    </tr>\n",
       "    <tr>\n",
       "      <th>2</th>\n",
       "      <td>415612e93584d30e</td>\n",
       "      <td>1349298640</td>\n",
       "      <td>138</td>\n",
       "      <td>14th_century;Niger;Nigeria;British_Empire;Slavery;Africa;Atlantic_slave_trade;African_slave_trade</td>\n",
       "      <td>NaN</td>\n",
       "    </tr>\n",
       "  </tbody>\n",
       "</table>\n",
       "</div>"
      ],
      "text/plain": [
       "    hashedIpAddress   timestamp  durationInSec  \\\n",
       "0  6a3701d319fc3754  1297740409            166   \n",
       "1  3824310e536af032  1344753412             88   \n",
       "2  415612e93584d30e  1349298640            138   \n",
       "\n",
       "                                                                                                                        path  \\\n",
       "0  14th_century;15th_century;16th_century;Pacific_Ocean;Atlantic_Ocean;Accra;Africa;Atlantic_slave_trade;African_slave_trade   \n",
       "1                                                        14th_century;Europe;Africa;Atlantic_slave_trade;African_slave_trade   \n",
       "2                          14th_century;Niger;Nigeria;British_Empire;Slavery;Africa;Atlantic_slave_trade;African_slave_trade   \n",
       "\n",
       "   rating  \n",
       "0     NaN  \n",
       "1     3.0  \n",
       "2     NaN  "
      ]
     },
     "execution_count": 8,
     "metadata": {},
     "output_type": "execute_result"
    }
   ],
   "source": [
    "path_finished.head(3)"
   ]
  },
  {
   "cell_type": "code",
   "execution_count": 9,
   "id": "404d75c7",
   "metadata": {},
   "outputs": [
    {
     "data": {
      "text/html": [
       "<div>\n",
       "<style scoped>\n",
       "    .dataframe tbody tr th:only-of-type {\n",
       "        vertical-align: middle;\n",
       "    }\n",
       "\n",
       "    .dataframe tbody tr th {\n",
       "        vertical-align: top;\n",
       "    }\n",
       "\n",
       "    .dataframe thead th {\n",
       "        text-align: right;\n",
       "    }\n",
       "</style>\n",
       "<table border=\"1\" class=\"dataframe\">\n",
       "  <thead>\n",
       "    <tr style=\"text-align: right;\">\n",
       "      <th></th>\n",
       "      <th>hashedIpAddress</th>\n",
       "      <th>timestamp</th>\n",
       "      <th>durationInSec</th>\n",
       "      <th>path</th>\n",
       "      <th>target</th>\n",
       "      <th>type</th>\n",
       "    </tr>\n",
       "  </thead>\n",
       "  <tbody>\n",
       "    <tr>\n",
       "      <th>0</th>\n",
       "      <td>2426091a53125110</td>\n",
       "      <td>1297054935</td>\n",
       "      <td>1804</td>\n",
       "      <td>Obi-Wan_Kenobi</td>\n",
       "      <td>Microsoft</td>\n",
       "      <td>timeout</td>\n",
       "    </tr>\n",
       "    <tr>\n",
       "      <th>1</th>\n",
       "      <td>26141fd878806294</td>\n",
       "      <td>1297055651</td>\n",
       "      <td>1805</td>\n",
       "      <td>Julius_Caesar</td>\n",
       "      <td>Caracas</td>\n",
       "      <td>timeout</td>\n",
       "    </tr>\n",
       "    <tr>\n",
       "      <th>2</th>\n",
       "      <td>2b015fb8181c48f2</td>\n",
       "      <td>1297090819</td>\n",
       "      <td>1818</td>\n",
       "      <td>Malawi;Democracy;Alexander_the_Great</td>\n",
       "      <td>First_Crusade</td>\n",
       "      <td>timeout</td>\n",
       "    </tr>\n",
       "  </tbody>\n",
       "</table>\n",
       "</div>"
      ],
      "text/plain": [
       "    hashedIpAddress   timestamp  durationInSec  \\\n",
       "0  2426091a53125110  1297054935           1804   \n",
       "1  26141fd878806294  1297055651           1805   \n",
       "2  2b015fb8181c48f2  1297090819           1818   \n",
       "\n",
       "                                   path         target     type  \n",
       "0                        Obi-Wan_Kenobi      Microsoft  timeout  \n",
       "1                         Julius_Caesar        Caracas  timeout  \n",
       "2  Malawi;Democracy;Alexander_the_Great  First_Crusade  timeout  "
      ]
     },
     "execution_count": 9,
     "metadata": {},
     "output_type": "execute_result"
    }
   ],
   "source": [
    "path_unfinished.head(3)"
   ]
  },
  {
   "cell_type": "markdown",
   "id": "a3093039",
   "metadata": {},
   "source": [
    "As one can notice, the `path_finished` and path `path_unfinished` dataframe possess a `timestamp` column. However, the time values are in Unix Time Stamp, so not very readable. As a result, we are going to transform them in Christian time."
   ]
  },
  {
   "cell_type": "code",
   "execution_count": 10,
   "id": "ea62d036",
   "metadata": {},
   "outputs": [
    {
     "data": {
      "text/html": [
       "<div>\n",
       "<style scoped>\n",
       "    .dataframe tbody tr th:only-of-type {\n",
       "        vertical-align: middle;\n",
       "    }\n",
       "\n",
       "    .dataframe tbody tr th {\n",
       "        vertical-align: top;\n",
       "    }\n",
       "\n",
       "    .dataframe thead th {\n",
       "        text-align: right;\n",
       "    }\n",
       "</style>\n",
       "<table border=\"1\" class=\"dataframe\">\n",
       "  <thead>\n",
       "    <tr style=\"text-align: right;\">\n",
       "      <th></th>\n",
       "      <th>hashedIpAddress</th>\n",
       "      <th>timestamp</th>\n",
       "      <th>durationInSec</th>\n",
       "      <th>path</th>\n",
       "      <th>rating</th>\n",
       "    </tr>\n",
       "  </thead>\n",
       "  <tbody>\n",
       "    <tr>\n",
       "      <th>0</th>\n",
       "      <td>6a3701d319fc3754</td>\n",
       "      <td>2011-02-15 03:26:49</td>\n",
       "      <td>166</td>\n",
       "      <td>14th_century;15th_century;16th_century;Pacific_Ocean;Atlantic_Ocean;Accra;Africa;Atlantic_slave_trade;African_slave_trade</td>\n",
       "      <td>NaN</td>\n",
       "    </tr>\n",
       "    <tr>\n",
       "      <th>1</th>\n",
       "      <td>3824310e536af032</td>\n",
       "      <td>2012-08-12 06:36:52</td>\n",
       "      <td>88</td>\n",
       "      <td>14th_century;Europe;Africa;Atlantic_slave_trade;African_slave_trade</td>\n",
       "      <td>3.0</td>\n",
       "    </tr>\n",
       "  </tbody>\n",
       "</table>\n",
       "</div>"
      ],
      "text/plain": [
       "    hashedIpAddress           timestamp  durationInSec  \\\n",
       "0  6a3701d319fc3754 2011-02-15 03:26:49            166   \n",
       "1  3824310e536af032 2012-08-12 06:36:52             88   \n",
       "\n",
       "                                                                                                                        path  \\\n",
       "0  14th_century;15th_century;16th_century;Pacific_Ocean;Atlantic_Ocean;Accra;Africa;Atlantic_slave_trade;African_slave_trade   \n",
       "1                                                        14th_century;Europe;Africa;Atlantic_slave_trade;African_slave_trade   \n",
       "\n",
       "   rating  \n",
       "0     NaN  \n",
       "1     3.0  "
      ]
     },
     "execution_count": 10,
     "metadata": {},
     "output_type": "execute_result"
    }
   ],
   "source": [
    "# Conversion of Unix to Christian time for the path files\n",
    "path_finished['timestamp'] = pd.to_datetime(path_finished['timestamp'], unit='s', origin='unix')\n",
    "path_unfinished['timestamp'] = pd.to_datetime(path_finished['timestamp'], unit='s', origin='unix')\n",
    "path_finished.head(2)"
   ]
  },
  {
   "cell_type": "markdown",
   "id": "cb39035d",
   "metadata": {},
   "source": [
    "## 1.B Categories of the articles\n",
    "\n",
    "We now start by getting some insights into the categories of the Wikipedia's articles in the dataset.\\\n",
    "One first checks if some NaN values appear among the categories. "
   ]
  },
  {
   "cell_type": "code",
   "execution_count": 11,
   "id": "2d6847de",
   "metadata": {},
   "outputs": [
    {
     "data": {
      "text/plain": [
       "article     0\n",
       "category    0\n",
       "dtype: int64"
      ]
     },
     "execution_count": 11,
     "metadata": {},
     "output_type": "execute_result"
    }
   ],
   "source": [
    "categories.isna().sum()"
   ]
  },
  {
   "cell_type": "markdown",
   "id": "33d4c4b6",
   "metadata": {},
   "source": [
    "The previous cell shows that there is no NaN amoung the categories. Meaning that all articles present in this dataset belong to at least one category.\\\n",
    "As there are no NaN values to handle, we are now going to make a quick overview over the `article` dataset."
   ]
  },
  {
   "cell_type": "code",
   "execution_count": 12,
   "id": "2afd86b0",
   "metadata": {},
   "outputs": [
    {
     "data": {
      "text/html": [
       "<div>\n",
       "<style scoped>\n",
       "    .dataframe tbody tr th:only-of-type {\n",
       "        vertical-align: middle;\n",
       "    }\n",
       "\n",
       "    .dataframe tbody tr th {\n",
       "        vertical-align: top;\n",
       "    }\n",
       "\n",
       "    .dataframe thead th {\n",
       "        text-align: right;\n",
       "    }\n",
       "</style>\n",
       "<table border=\"1\" class=\"dataframe\">\n",
       "  <thead>\n",
       "    <tr style=\"text-align: right;\">\n",
       "      <th></th>\n",
       "      <th>article</th>\n",
       "      <th>category</th>\n",
       "    </tr>\n",
       "  </thead>\n",
       "  <tbody>\n",
       "    <tr>\n",
       "      <th>count</th>\n",
       "      <td>5204</td>\n",
       "      <td>5204</td>\n",
       "    </tr>\n",
       "    <tr>\n",
       "      <th>unique</th>\n",
       "      <td>4598</td>\n",
       "      <td>129</td>\n",
       "    </tr>\n",
       "    <tr>\n",
       "      <th>top</th>\n",
       "      <td>Henry_VII_of_England</td>\n",
       "      <td>subject.Countries</td>\n",
       "    </tr>\n",
       "    <tr>\n",
       "      <th>freq</th>\n",
       "      <td>3</td>\n",
       "      <td>229</td>\n",
       "    </tr>\n",
       "  </tbody>\n",
       "</table>\n",
       "</div>"
      ],
      "text/plain": [
       "                     article           category\n",
       "count                   5204               5204\n",
       "unique                  4598                129\n",
       "top     Henry_VII_of_England  subject.Countries\n",
       "freq                       3                229"
      ]
     },
     "execution_count": 12,
     "metadata": {},
     "output_type": "execute_result"
    }
   ],
   "source": [
    "categories.describe()"
   ]
  },
  {
   "cell_type": "markdown",
   "id": "5f762c43",
   "metadata": {},
   "source": [
    "The previous dataset description gives us some interesting insights. First of all, we can notice that there is a total of 4598 unique articles in the `categories` dataset. However, we had previously observed that there were 4604 articles in the `articles` list. This shows that some of the Wikipedia articles given in our dataset do not belong to any category.\\\n",
    "Moreover, one can notice that some Wikipedia articles belong to more then just one category. Indeed, the article on \"Pottery\" belongs to 3 different categories.\\\n",
    "Finally, we notice that there are 129 different categories in the dataset. And the category regrouping the highest number of articles is `subject.Countries`, with 229 articles under this category."
   ]
  },
  {
   "cell_type": "markdown",
   "id": "adc72081-dfc8-43a6-90f5-f6c566a6a49b",
   "metadata": {},
   "source": [
    "We are now going to group all articles by category."
   ]
  },
  {
   "cell_type": "code",
   "execution_count": 20,
   "id": "08bd3652-225e-4230-9205-995fd69d5eb4",
   "metadata": {},
   "outputs": [
    {
     "data": {
      "image/png": "[encoded data removed]",
      "text/plain": [
       "<Figure size 432x288 with 1 Axes>"
      ]
     },
     "metadata": {
      "needs_background": "light"
     },
     "output_type": "display_data"
    }
   ],
   "source": [
    "categories_grouped = categories.groupby(by=\"category\")\n",
    "\n",
    "nb_articles_per_category = categories_grouped.size()\n",
    "nb_articles_per_category.hist()\n",
    "plt.xlabel('Number of articles')\n",
    "plt.ylabel('Absolute frequency of category')\n",
    "plt.title('Distribution of the number of articles per category');"
   ]
  },
  {
   "cell_type": "markdown",
   "id": "b8fe7db0-2ea4-4a1c-a915-a17cbe63b42f",
   "metadata": {},
   "source": [
    "This histogram provides the distribution of articles per category. Thus, it shows the number of categories that have a certain number of articles assigned to it.\\\n",
    "With this representation, we can notice that most categories have less then 50 articles assigned to it. A smaller proportion of categories have between 50 and 100 articles assigned to them. Finally, the category `subject.Countries` is the only one with more then 200 articles assigned to it. "
   ]
  },
  {
   "cell_type": "markdown",
   "id": "beebca86-0d06-467b-bcce-5dbe729dacc1",
   "metadata": {},
   "source": [
    "Later in the notebook, we will interest ourselves to specific categories. Amoung them : countries, geographic regions and people."
   ]
  },
  {
   "cell_type": "markdown",
   "id": "156afa46",
   "metadata": {},
   "source": [
    "# 2. Tools\n",
    "\n",
    "In this part, we are going to develop the main tools that we are going to use during our analysis of the Wikispeedia dataset.\n",
    "\n",
    "## 2.A Graph Analysis and Centrality\n",
    "\n",
    "The finished and unfinished paths can be cast into a directed graph with Wikipedia articles as nodes and the paths connecting articles as edges. From there Graph Analysis can provide us powerful tools, for instance to explore the importance of articles, their connectivity, etc.\n",
    "\n",
    "### 2.A.a Creation of the graph\n",
    "\n",
    "For the sake of simplicity in this first part of the project, the idea is to focus on the graph of finished paths (at first) and then filter the paths where `<` occurs (i.e. the paths where the player had pressed the back button), but in a second step we could also decide to keep these paths but just delete the `<` as well as the previous page. We could also add later the unfinished paths to the graph.\n",
    "\n",
    "As said before, we thus start by filtering the paths where `<` occurs."
   ]
  },
  {
   "cell_type": "code",
   "execution_count": 6,
   "id": "141e1bbe",
   "metadata": {},
   "outputs": [],
   "source": [
    "def check_character(headline, character):\n",
    "    '''\n",
    "    This function tests if a given character is in the headline\n",
    "        Inputs:\n",
    "            headline: string\n",
    "            character: string\n",
    "        Return:\n",
    "            1 if the character is in the headline\n",
    "            0 otherwise\n",
    "    '''\n",
    "    if character in headline: \n",
    "        return 1 \n",
    "    else:\n",
    "         return 0"
   ]
  },
  {
   "cell_type": "code",
   "execution_count": 7,
   "id": "2e2ab808",
   "metadata": {},
   "outputs": [
    {
     "name": "stderr",
     "output_type": "stream",
     "text": [
      "C:\\Users\\manon\\anaconda3\\lib\\site-packages\\pandas\\core\\frame.py:4308: SettingWithCopyWarning: \n",
      "A value is trying to be set on a copy of a slice from a DataFrame\n",
      "\n",
      "See the caveats in the documentation: https://pandas.pydata.org/pandas-docs/stable/user_guide/indexing.html#returning-a-view-versus-a-copy\n",
      "  return super().drop(\n"
     ]
    }
   ],
   "source": [
    "path_finished['back'] = path_finished['path'].apply(lambda x : check_character(x, '<'))\n",
    "path_finished_filtered = path_finished[path_finished['back']==0]\n",
    "path_finished_filtered.drop(columns=['back'],inplace=True)"
   ]
  },
  {
   "cell_type": "markdown",
   "id": "48c7b006",
   "metadata": {},
   "source": [
    "The graph is then created from a list of edges (i.e. in our case links between two articles) using the function `nx.add_edge`. \n",
    "To obtain a list of linked articles, we start by transforming the paths into a list of successive nodes (i.e. the successive articles) using the function `Convert` defined in the following cell."
   ]
  },
  {
   "cell_type": "code",
   "execution_count": 8,
   "id": "99bf230a",
   "metadata": {},
   "outputs": [],
   "source": [
    "def Convert(string):\n",
    "    li = list(string.split(\";\"))\n",
    "    return li"
   ]
  },
  {
   "cell_type": "code",
   "execution_count": 9,
   "id": "f98d5b43",
   "metadata": {
    "scrolled": true
   },
   "outputs": [
    {
     "name": "stderr",
     "output_type": "stream",
     "text": [
      "<ipython-input-9-3dcaea751aa0>:1: SettingWithCopyWarning: \n",
      "A value is trying to be set on a copy of a slice from a DataFrame.\n",
      "Try using .loc[row_indexer,col_indexer] = value instead\n",
      "\n",
      "See the caveats in the documentation: https://pandas.pydata.org/pandas-docs/stable/user_guide/indexing.html#returning-a-view-versus-a-copy\n",
      "  path_finished_filtered['path_list'] = path_finished_filtered['path'].apply(lambda x : Convert(x))\n"
     ]
    }
   ],
   "source": [
    "path_finished_filtered['path_list'] = path_finished_filtered['path'].apply(lambda x : Convert(x))"
   ]
  },
  {
   "cell_type": "markdown",
   "id": "08d9b6c8",
   "metadata": {},
   "source": [
    "We then create a list of all edges, i.e. all pairs of articles that are connected (at least once) in the paths. We remove the duplicates; the weigths of the connections/edges (i.e. the number of times two articles are connected by Wikispeedia's players) will be taken into account later."
   ]
  },
  {
   "cell_type": "code",
   "execution_count": 10,
   "id": "0209308a",
   "metadata": {},
   "outputs": [],
   "source": [
    "edges = []\n",
    "for index, row in path_finished_filtered.iterrows(): #create the list of edges\n",
    "    edges.extend(list(zip(row['path_list'][0:-2],row['path_list'][1:-1])))\n",
    "\n",
    "edges_wo_duplicates = [] #remove duplicates\n",
    "for tup in edges:\n",
    "    if tup not in edges_wo_duplicates:\n",
    "        edges_wo_duplicates.append(tup)\n"
   ]
  },
  {
   "cell_type": "markdown",
   "id": "cfb3d834",
   "metadata": {},
   "source": [
    "The weight is computed by counting the number of occurences of edges"
   ]
  },
  {
   "cell_type": "code",
   "execution_count": 11,
   "id": "76d0bc4c",
   "metadata": {},
   "outputs": [],
   "source": [
    "#compute weight by counting occurences of edges in the list (before removing duplicates)\n",
    "import collections\n",
    "count = collections.defaultdict(int)\n",
    "for elem in edges:\n",
    "    count[elem] += 1"
   ]
  },
  {
   "cell_type": "markdown",
   "id": "a3270e29",
   "metadata": {},
   "source": [
    "Eventually, the graph can be created by adding successively all edges and associated weights."
   ]
  },
  {
   "cell_type": "code",
   "execution_count": 12,
   "id": "fe6bfe05",
   "metadata": {},
   "outputs": [],
   "source": [
    "G = nx.DiGraph()\n",
    "for t in edges_wo_duplicates:\n",
    "    G.add_edge(t[0],t[1],weight = count[t]) #normalement on a un graphe pondéré maintenant"
   ]
  },
  {
   "cell_type": "markdown",
   "id": "49461dee",
   "metadata": {},
   "source": [
    "Another useful feature of the graph is the distance between two nodes. Here, the latter is implemented using the inverse of the weight of the corresponding edge. However, other distances could be interesting to use. In particular, one could in a second step use the semantic distance between two articles (see next section) as a distance in the graph."
   ]
  },
  {
   "cell_type": "code",
   "execution_count": 13,
   "id": "241bba3d",
   "metadata": {},
   "outputs": [],
   "source": [
    "G_distance_dict = {(e1, e2): 1 / weight for e1, e2, weight in G.edges(data='weight')}\n",
    "nx.set_edge_attributes(G, G_distance_dict, 'distance')"
   ]
  },
  {
   "cell_type": "markdown",
   "id": "16638ff1",
   "metadata": {},
   "source": [
    "An example of weight and distance between two articles in the graph is provided in the two following cells."
   ]
  },
  {
   "cell_type": "code",
   "execution_count": 22,
   "id": "a708d3d6",
   "metadata": {},
   "outputs": [
    {
     "data": {
      "text/plain": [
       "11"
      ]
     },
     "execution_count": 22,
     "metadata": {},
     "output_type": "execute_result"
    }
   ],
   "source": [
    "G.edges[('Pacific_Ocean','United_States')]['weight']"
   ]
  },
  {
   "cell_type": "code",
   "execution_count": 23,
   "id": "5888d937",
   "metadata": {
    "scrolled": true
   },
   "outputs": [
    {
     "data": {
      "text/plain": [
       "0.09090909090909091"
      ]
     },
     "execution_count": 23,
     "metadata": {},
     "output_type": "execute_result"
    }
   ],
   "source": [
    "G.edges[('Pacific_Ocean','United_States')]['distance']"
   ]
  },
  {
   "cell_type": "markdown",
   "id": "9a6929de",
   "metadata": {},
   "source": [
    "### 2.A.b Centrality\n",
    "\n",
    "Centrality is used to measure the importance (how “central” a node is in the graph) of various nodes in a graph. There exist different measures of the centrality, such as:\n",
    "\n",
    "- **Degree Centrality** : The node with the highest degree (highest number of connections to other nodes in the network) is more important and has the higher centrality.\n",
    "\n",
    "- **Closeness Centrality** : Here we take the average distance of a node from all the other nodes. Whichever node has a lesser average value is the node which is nearer to every node and thus it is the node with the higher centrality.\n",
    "\n",
    "- **Betweeness Centrality** : The node that is visited most of the times while traversing the shortest paths is the one with highest centrality\n",
    "\n",
    "- **EigenVector Centrality** : This method takes into account the neighboring nodes. A node which is connected to a node with a great importance will always get a better centrality."
   ]
  },
  {
   "cell_type": "markdown",
   "id": "fe8ebfa7",
   "metadata": {},
   "source": [
    "The most appropriate centrality measure is our case is the **Closeness centrality**. This is the one we will use here. To account for the weight, we use the attribute `distance` defined before. We use the function `nx.closeness_centrality` to get the centrality for each article."
   ]
  },
  {
   "cell_type": "code",
   "execution_count": 14,
   "id": "a25a17f2",
   "metadata": {},
   "outputs": [],
   "source": [
    "clos_centrality = nx.closeness_centrality(G, u=None, distance='distance', wf_improved=True)"
   ]
  },
  {
   "cell_type": "code",
   "execution_count": 15,
   "id": "68751188",
   "metadata": {},
   "outputs": [],
   "source": [
    "#transform clos_centrality into a df\n",
    "centralities = pd.DataFrame.from_dict(clos_centrality, orient='index',columns=['centrality'])\n",
    "centralities = centralities.reset_index(level=0)\n",
    "centralities = centralities.rename(columns={'index': 'article'})"
   ]
  },
  {
   "cell_type": "code",
   "execution_count": 16,
   "id": "8c55f760",
   "metadata": {},
   "outputs": [
    {
     "data": {
      "text/html": [
       "<div>\n",
       "<style scoped>\n",
       "    .dataframe tbody tr th:only-of-type {\n",
       "        vertical-align: middle;\n",
       "    }\n",
       "\n",
       "    .dataframe tbody tr th {\n",
       "        vertical-align: top;\n",
       "    }\n",
       "\n",
       "    .dataframe thead th {\n",
       "        text-align: right;\n",
       "    }\n",
       "</style>\n",
       "<table border=\"1\" class=\"dataframe\">\n",
       "  <thead>\n",
       "    <tr style=\"text-align: right;\">\n",
       "      <th></th>\n",
       "      <th>article</th>\n",
       "      <th>centrality</th>\n",
       "    </tr>\n",
       "  </thead>\n",
       "  <tbody>\n",
       "    <tr>\n",
       "      <th>0</th>\n",
       "      <td>14th_century</td>\n",
       "      <td>1.822051</td>\n",
       "    </tr>\n",
       "    <tr>\n",
       "      <th>1</th>\n",
       "      <td>15th_century</td>\n",
       "      <td>1.927752</td>\n",
       "    </tr>\n",
       "    <tr>\n",
       "      <th>2</th>\n",
       "      <td>16th_century</td>\n",
       "      <td>2.031601</td>\n",
       "    </tr>\n",
       "    <tr>\n",
       "      <th>3</th>\n",
       "      <td>Pacific_Ocean</td>\n",
       "      <td>2.515372</td>\n",
       "    </tr>\n",
       "    <tr>\n",
       "      <th>4</th>\n",
       "      <td>Atlantic_Ocean</td>\n",
       "      <td>2.538788</td>\n",
       "    </tr>\n",
       "  </tbody>\n",
       "</table>\n",
       "</div>"
      ],
      "text/plain": [
       "          article  centrality\n",
       "0    14th_century    1.822051\n",
       "1    15th_century    1.927752\n",
       "2    16th_century    2.031601\n",
       "3   Pacific_Ocean    2.515372\n",
       "4  Atlantic_Ocean    2.538788"
      ]
     },
     "execution_count": 16,
     "metadata": {},
     "output_type": "execute_result"
    }
   ],
   "source": [
    "centralities.head()"
   ]
  },
  {
   "cell_type": "markdown",
   "id": "b658417c",
   "metadata": {},
   "source": [
    "In view of future uses, we merge the dataframe containing the centralities with the dataframe containing the categories"
   ]
  },
  {
   "cell_type": "code",
   "execution_count": 17,
   "id": "13b125a7",
   "metadata": {
    "scrolled": true
   },
   "outputs": [
    {
     "data": {
      "text/html": [
       "<div>\n",
       "<style scoped>\n",
       "    .dataframe tbody tr th:only-of-type {\n",
       "        vertical-align: middle;\n",
       "    }\n",
       "\n",
       "    .dataframe tbody tr th {\n",
       "        vertical-align: top;\n",
       "    }\n",
       "\n",
       "    .dataframe thead th {\n",
       "        text-align: right;\n",
       "    }\n",
       "</style>\n",
       "<table border=\"1\" class=\"dataframe\">\n",
       "  <thead>\n",
       "    <tr style=\"text-align: right;\">\n",
       "      <th></th>\n",
       "      <th>article</th>\n",
       "      <th>centrality</th>\n",
       "      <th>category</th>\n",
       "    </tr>\n",
       "  </thead>\n",
       "  <tbody>\n",
       "    <tr>\n",
       "      <th>0</th>\n",
       "      <td>14th_century</td>\n",
       "      <td>1.822051</td>\n",
       "      <td>subject.History.General_history</td>\n",
       "    </tr>\n",
       "    <tr>\n",
       "      <th>1</th>\n",
       "      <td>15th_century</td>\n",
       "      <td>1.927752</td>\n",
       "      <td>subject.History.General_history</td>\n",
       "    </tr>\n",
       "    <tr>\n",
       "      <th>2</th>\n",
       "      <td>16th_century</td>\n",
       "      <td>2.031601</td>\n",
       "      <td>subject.History.General_history</td>\n",
       "    </tr>\n",
       "    <tr>\n",
       "      <th>3</th>\n",
       "      <td>Pacific_Ocean</td>\n",
       "      <td>2.515372</td>\n",
       "      <td>subject.Geography.General_Geography</td>\n",
       "    </tr>\n",
       "    <tr>\n",
       "      <th>4</th>\n",
       "      <td>Atlantic_Ocean</td>\n",
       "      <td>2.538788</td>\n",
       "      <td>subject.Geography.General_Geography</td>\n",
       "    </tr>\n",
       "  </tbody>\n",
       "</table>\n",
       "</div>"
      ],
      "text/plain": [
       "          article  centrality                             category\n",
       "0    14th_century    1.822051      subject.History.General_history\n",
       "1    15th_century    1.927752      subject.History.General_history\n",
       "2    16th_century    2.031601      subject.History.General_history\n",
       "3   Pacific_Ocean    2.515372  subject.Geography.General_Geography\n",
       "4  Atlantic_Ocean    2.538788  subject.Geography.General_Geography"
      ]
     },
     "execution_count": 17,
     "metadata": {},
     "output_type": "execute_result"
    }
   ],
   "source": [
    "centralities = centralities.merge(categories, on='article', how='left')\n",
    "centralities.head()"
   ]
  },
  {
   "cell_type": "markdown",
   "id": "c2953f6c",
   "metadata": {},
   "source": [
    "Let's eventually have a look at the most central articles in the Wikispeedia's graph: "
   ]
  },
  {
   "cell_type": "code",
   "execution_count": 126,
   "id": "47114145",
   "metadata": {},
   "outputs": [
    {
     "data": {
      "text/html": [
       "<div>\n",
       "<style scoped>\n",
       "    .dataframe tbody tr th:only-of-type {\n",
       "        vertical-align: middle;\n",
       "    }\n",
       "\n",
       "    .dataframe tbody tr th {\n",
       "        vertical-align: top;\n",
       "    }\n",
       "\n",
       "    .dataframe thead th {\n",
       "        text-align: right;\n",
       "    }\n",
       "</style>\n",
       "<table border=\"1\" class=\"dataframe\">\n",
       "  <thead>\n",
       "    <tr style=\"text-align: right;\">\n",
       "      <th></th>\n",
       "      <th>article</th>\n",
       "      <th>centrality</th>\n",
       "      <th>category</th>\n",
       "    </tr>\n",
       "  </thead>\n",
       "  <tbody>\n",
       "    <tr>\n",
       "      <th>24</th>\n",
       "      <td>United_States</td>\n",
       "      <td>2.572896</td>\n",
       "      <td>subject.Countries</td>\n",
       "    </tr>\n",
       "    <tr>\n",
       "      <th>25</th>\n",
       "      <td>United_States</td>\n",
       "      <td>2.572896</td>\n",
       "      <td>subject.Geography.North_American_Geography</td>\n",
       "    </tr>\n",
       "    <tr>\n",
       "      <th>8</th>\n",
       "      <td>Europe</td>\n",
       "      <td>2.563019</td>\n",
       "      <td>subject.Geography.European_Geography</td>\n",
       "    </tr>\n",
       "    <tr>\n",
       "      <th>214</th>\n",
       "      <td>Computer</td>\n",
       "      <td>2.560876</td>\n",
       "      <td>subject.IT.Computing_hardware_and_infrastructure</td>\n",
       "    </tr>\n",
       "    <tr>\n",
       "      <th>192</th>\n",
       "      <td>Earth</td>\n",
       "      <td>2.560105</td>\n",
       "      <td>subject.Science.Physics.The_Planets</td>\n",
       "    </tr>\n",
       "  </tbody>\n",
       "</table>\n",
       "</div>"
      ],
      "text/plain": [
       "           article  centrality  \\\n",
       "24   United_States    2.572896   \n",
       "25   United_States    2.572896   \n",
       "8           Europe    2.563019   \n",
       "214       Computer    2.560876   \n",
       "192          Earth    2.560105   \n",
       "\n",
       "                                             category  \n",
       "24                                  subject.Countries  \n",
       "25         subject.Geography.North_American_Geography  \n",
       "8                subject.Geography.European_Geography  \n",
       "214  subject.IT.Computing_hardware_and_infrastructure  \n",
       "192               subject.Science.Physics.The_Planets  "
      ]
     },
     "execution_count": 126,
     "metadata": {},
     "output_type": "execute_result"
    }
   ],
   "source": [
    "sorted_centrailities = centralities.sort_values(by=['centrality'],ascending=False)\n",
    "sorted_centrailities.head()"
   ]
  },
  {
   "cell_type": "markdown",
   "id": "2b5fb67e",
   "metadata": {},
   "source": [
    "Note that some articles have multiple categories (such as the United States), but there is only one Wikipedia article, hence only one centrality."
   ]
  },
  {
   "cell_type": "code",
   "execution_count": 266,
   "id": "172a94f4",
   "metadata": {
    "scrolled": true
   },
   "outputs": [
    {
     "data": {
      "text/plain": [
       "article       0\n",
       "centrality    0\n",
       "category      1\n",
       "dtype: int64"
      ]
     },
     "execution_count": 266,
     "metadata": {},
     "output_type": "execute_result"
    }
   ],
   "source": [
    "centralities.isna().sum()"
   ]
  },
  {
   "cell_type": "markdown",
   "id": "e66d4d76",
   "metadata": {},
   "source": [
    "One article has no category, we remove it from the dataframe."
   ]
  },
  {
   "cell_type": "code",
   "execution_count": 267,
   "id": "3a0bb0f3",
   "metadata": {},
   "outputs": [],
   "source": [
    "centralities = centralities.dropna() "
   ]
  },
  {
   "cell_type": "code",
   "execution_count": 213,
   "id": "1545b73b",
   "metadata": {},
   "outputs": [],
   "source": [
    "G_nodes_centrality = dict(zip(sorted_centrailities.article, sorted_centrailities.centrality))\n",
    "nx.set_node_attributes(G, G_nodes_centrality, name='centrality')"
   ]
  },
  {
   "cell_type": "markdown",
   "id": "4e5c99d4",
   "metadata": {},
   "source": [
    "## 2.B Semantic distance\n",
    "\n",
    "In this section, we implemented the semantic distance measure presented in the paper [*Wikispeedia: An Online Game for Inferring Semantic Distances between Concepts* by R.West, J.Pineau & D.Precup (2009)](http://infolab.stanford.edu/~west1/pubs/West-Pineau-Precup_IJCAI-09.pdf). In order to do this, we first build the Wikipedia graph `Wikigraph` with the `links` dataset."
   ]
  },
  {
   "cell_type": "markdown",
   "id": "cbebdaae",
   "metadata": {},
   "source": [
    "The article names are URL-encoded. Thus, the following code allows to decode the article names, in order to get a better readability."
   ]
  },
  {
   "cell_type": "code",
   "execution_count": 19,
   "id": "34ed12c8",
   "metadata": {},
   "outputs": [],
   "source": [
    "from urllib.parse import unquote\n",
    "\n",
    "links['linkSource'] = links['linkSource'].apply(lambda x: unquote(x))\n",
    "links['linkTarget'] = links['linkTarget'].apply(lambda x: unquote(x))\n",
    "path_finished_unquoted=path_finished #we define a new file to still be able to use the url in the original file later\n",
    "path_finished_unquoted['path'] = path_finished['path'].apply(lambda x: unquote(x))\n",
    "path_finished_unquoted['path']=path_finished_unquoted['path'].apply(lambda x: Convert(x))"
   ]
  },
  {
   "cell_type": "code",
   "execution_count": 20,
   "id": "2ca753d5",
   "metadata": {},
   "outputs": [],
   "source": [
    "Wikigraph=nx.DiGraph()\n",
    "e=zip(links['linkSource'], links['linkTarget'])\n",
    "Wikigraph.add_edges_from(e)"
   ]
  },
  {
   "cell_type": "markdown",
   "id": "e926cdbf",
   "metadata": {},
   "source": [
    "Then, we compute the posterior click probability after seeing all the data, that is to say the probability that given the current article and the goal article, one clicks on a specific article that is linked to the current one. Specifically, it is given by:\n",
    "\n",
    "$P^{*}(A'=a'|A=a, G=g)=\\frac{N(A'=a',A=a,G=g)+\\alpha}{N(A=a,G=g)+\\alpha k_{a}}$\n",
    "\n",
    "where $A, A'$ represent the current and next Wikipedia pages, $k_{a}$ is the article $a$'s out-degree and $\\alpha$ is the Dirichlet parameter representing the initial confidence in the uniform prior distribution. $N(A=a,G=g)$ is a function that counts the number of paths with a goal $g$ in which the article $a$ was encountered and $N(A'=a',A=a,G=g)$ is the number of paths corresponding to the previous situation in the case where the next article is $a'$. We defined three functions to compute the posterior click probability. `count_a` returns $N(A=a,G=g)$, `count_aprime` returns $N(A'=a',A=a,G=g)$ and finally `posterior_click_probability` returns the posterior."
   ]
  },
  {
   "cell_type": "code",
   "execution_count": 21,
   "id": "3d449d8b",
   "metadata": {},
   "outputs": [],
   "source": [
    "def count_a(article, goal, paths):\n",
    "    '''\n",
    "    This function counts the number of times an article was encountered on all paths with a specified goal\n",
    "        Input: \n",
    "            article: article encountered\n",
    "            goal: goal of the paths\n",
    "            paths: object with all paths\n",
    "        Output: \n",
    "            number of times the article was encountered summed on all paths with same given goal\n",
    "        \n",
    "    '''\n",
    "    count=0\n",
    "    for path in paths:\n",
    "        if path[-1]==goal: #checks that the last element is the correct goal\n",
    "            for art in path:\n",
    "                if art==article and art!='<': #the comeback sign is not part of the count\n",
    "                    count+=1\n",
    "    return count\n"
   ]
  },
  {
   "cell_type": "markdown",
   "id": "50e005d2",
   "metadata": {},
   "source": [
    "Note that we decide to count all the times an article could appear in the same path, because it would have a more significant value than if it just appeared once. For instance, if one went back to the same article many times, we could consider that it is because the article is relevant and thus give it more weight in the balance."
   ]
  },
  {
   "cell_type": "code",
   "execution_count": 22,
   "id": "8dbbf846",
   "metadata": {},
   "outputs": [],
   "source": [
    "from itertools import cycle"
   ]
  },
  {
   "cell_type": "code",
   "execution_count": 23,
   "id": "5c9946f3",
   "metadata": {},
   "outputs": [],
   "source": [
    "def count_aprime(aprime, article, goal, paths):\n",
    "    '''\n",
    "    This function counts the number of times an article was encountered on all paths with specified previous article and goal\n",
    "        Input: \n",
    "            aprime: article encountered aprime\n",
    "            article: previous article\n",
    "            goal: goal of the paths\n",
    "            paths: object with all paths\n",
    "        Output: \n",
    "            number of times the article was encountered summed on all paths with same given previous article and goal\n",
    "    '''\n",
    "    count=0\n",
    "    if aprime=='<' or article=='<': #the comeback sign is not part of the count\n",
    "        return 0\n",
    "\n",
    "    for path in paths:\n",
    "        if path[-1]==goal:\n",
    "            pathcycle=cycle(path)\n",
    "            next_art=next(pathcycle)\n",
    "            for _ in range(len(path)-1):\n",
    "                art, next_art=next_art, next(pathcycle)\n",
    "                if art==article:\n",
    "                    if next_art==aprime:\n",
    "                            count+=1    \n",
    "    return count\n"
   ]
  },
  {
   "cell_type": "code",
   "execution_count": 24,
   "id": "bdb5d53e",
   "metadata": {},
   "outputs": [],
   "source": [
    "def posterior_click_probability(aprime, article, goal, paths, alpha=0.2):\n",
    "    '''\n",
    "    Calculates the posterior click probability to reach an article given the previous article and the goal, after seeing all the data\n",
    "        Input: \n",
    "            aprime: article on which the proba is done\n",
    "            article: previous article\n",
    "            goal:final article \n",
    "            paths:evaluated on all those paths\n",
    "            alpha:Dirichlet parameter representing initial confidence in uniform prior distribution\n",
    "        Output: \n",
    "            posterior click probability for aprime, given article and goal\n",
    "    '''\n",
    "    \n",
    "    k_a=len(list(Wikigraph.successors(article)))#number of out-degree links for article\n",
    "    if count_a(article, goal, paths)!=0 and count_aprime(aprime, article, goal, paths):\n",
    "        proba=(count_aprime(aprime, article, goal, paths)+alpha)/(count_a(article, goal, paths)+alpha*k_a)\n",
    "    else: proba=1 #because of the log\n",
    "\n",
    "    return proba\n",
    "\n"
   ]
  },
  {
   "cell_type": "markdown",
   "id": "36b51688",
   "metadata": {},
   "source": [
    "Next we will calculate the Google PageRank of the articles, that can be viewed as the prior probability of being on a given article."
   ]
  },
  {
   "cell_type": "code",
   "execution_count": 25,
   "id": "b4e6c3dd",
   "metadata": {},
   "outputs": [
    {
     "name": "stdout",
     "output_type": "stream",
     "text": [
      "0.009565545383105651\n",
      "0.009565545383105651\n"
     ]
    }
   ],
   "source": [
    "GooglePageRank=nx.pagerank(Wikigraph, alpha=0.85)\n",
    "print(GooglePageRank.get('United_States')) \n",
    "print(max(GooglePageRank.values())) "
   ]
  },
  {
   "cell_type": "markdown",
   "id": "8521a01b",
   "metadata": {},
   "source": [
    "We see that the maximum value is reached for the US, which means it will be the United States article that will be reached more times than any other articles when performing a random walk on the graph of Wikipedia (almost 1% of the time). This seems rather intuitive as it is one of the most powerful countries in the world."
   ]
  },
  {
   "cell_type": "markdown",
   "id": "aee8fc4c",
   "metadata": {},
   "source": [
    "Now we compute the path-specific distance $d_{path}(a_{i},g)$ from an article $a_{i}$ in the path to the goal $g$ for $i$ from 1 to $n-1$, with $n$ the length of the path. It is defined as:\n",
    "\n",
    "$d_{path}(a_{i},g)=\\frac{1}{logPageRank(g)}\\sum_{j=i}^{n-1}logP^{*}(A'=a_{j+1}|A=a_{j}, G=g)$\n",
    "\n",
    "The Google PageRank of the goal article in the denominator serves as a renormalization factor. Indeed, a concept that is hard to explain (i.e to reach on the graph) can be allowed to be linked to concepts that are further from it on the Wikipedia graph (cf. paper for more explanations). `path_distance` returns \n",
    "$d_{path}(a_{i},g)$."
   ]
  },
  {
   "cell_type": "code",
   "execution_count": 26,
   "id": "ba68ce3b",
   "metadata": {},
   "outputs": [],
   "source": [
    "def path_distance(a_i, goal, path):\n",
    "    '''\n",
    "    This function computes the distance from a given article to a goal article on one particular path\n",
    "        Input: \n",
    "            a_i: given article\n",
    "            g:goal\n",
    "            path: specific path on which distance is computed\n",
    "        Output:\n",
    "            the specific distance from article to goal for the given path\n",
    "    '''\n",
    "    sum=0\n",
    "    i=-1\n",
    "    if a_i!=goal:\n",
    "        for a in path:\n",
    "            if a==a_i:\n",
    "                i=path.index(a)\n",
    "        if i==-1:\n",
    "            print('Error: The article looked for is not in the path')\n",
    "            return 0\n",
    "\n",
    "        pathcycle=cycle(path[i:])\n",
    "        next_a=next(pathcycle)\n",
    "        for _ in range(len(path)-1):\n",
    "            a_i, next_a=next_a, next(pathcycle)\n",
    "            if a_i!='<':\n",
    "                p=posterior_click_probability(next_a, a_i, goal, path_finished_unquoted['path'])\n",
    "                sum-=np.log(p)\n",
    "    \n",
    "    return sum/(-np.log(GooglePageRank.get(goal)))\n",
    "                \n",
    "    "
   ]
  },
  {
   "cell_type": "markdown",
   "id": "ea054c80",
   "metadata": {},
   "source": [
    "To get a path-independent distance from an article $a$ to the goal $g$ $d(a,g)$, we only need to average over all paths, that is to say\n",
    "\n",
    "$d(a,g)=\\frac{1}{m}\\sum_{k=1}^{m}d_{path_{k}}(a,g)$\n",
    "\n",
    "where $m$ is the number of paths going through $a$ and to $g$. This is our semantic distance and it is implemented as `semantic_distance`."
   ]
  },
  {
   "cell_type": "code",
   "execution_count": 27,
   "id": "97d5e0e5",
   "metadata": {},
   "outputs": [],
   "source": [
    "def semantic_distance(article, goal,paths):\n",
    "    '''\n",
    "    This function calculates the semantic distance between an article and a goal\n",
    "        Input: \n",
    "            article, goal and all paths through which the distance is calculated\n",
    "        Output:\n",
    "            semantic distance for this article and goal through the given paths\n",
    "    '''\n",
    "    dist=0\n",
    "    m=0\n",
    "    pat=[]\n",
    "\n",
    "    for path in paths:\n",
    "        if path[-1]==goal:\n",
    "            for a in path:\n",
    "                if a==article:\n",
    "                    dist+=path_distance(article, goal, path)\n",
    "                    m+=1\n",
    "                    pat.append(path)\n",
    "\n",
    "    if m==0: \n",
    "        print('Error, no such path exists')\n",
    "        return 0\n",
    "\n",
    "    return dist/m \n",
    "    \n"
   ]
  },
  {
   "cell_type": "markdown",
   "id": "6d72bbed",
   "metadata": {},
   "source": [
    "To check our semantic distance, we will make a function that returns a top of the most related articles to one given goal article. As the distance is not symmetric, we decided to choose to take the article for which we want related words as the goal in our measure, for convenience and because the closest articles will be the words that are going to the goal articles, so the words one would think of when looking for the article."
   ]
  },
  {
   "cell_type": "code",
   "execution_count": 28,
   "id": "3f8c0980",
   "metadata": {},
   "outputs": [],
   "source": [
    "def top_(goal, paths, n=20):\n",
    "    '''\n",
    "    This function computes the n closest articles to a given goal article.\n",
    "        Input: \n",
    "            article: goal article\n",
    "            paths: all paths on which the distance will be measured\n",
    "            n: number of closest articles we want\n",
    "        Output:    \n",
    "            list of n closest articles to the goal or less if not enough distances have been measured with their distances to the goal\n",
    "    '''\n",
    "    \n",
    "    top=[0 for _ in range(n)]\n",
    "    dist=[]\n",
    "    articles=[]\n",
    "    already_calculated=False\n",
    "\n",
    "    for i in range(len(paths)):\n",
    "        if paths[i][-1]==goal:\n",
    "            for article in paths[i]:\n",
    "                already_calculated=False\n",
    "                if article !='<' and article!=goal:\n",
    "                    if len(articles)>0:\n",
    "                        for art in articles:\n",
    "                            if art==article:\n",
    "                                already_calculated=True #to not calculate many times the same distance\n",
    "                                \n",
    "                    if already_calculated==False:\n",
    "                        dist.append((semantic_distance(article, goal, paths),article))\n",
    "                        #print('Distance between {:} and {:} has been calculated.'.format(article, goal))\n",
    "                        articles.append(article)\n",
    "    \n",
    "    dist.sort()\n",
    "    if len(dist)>=n:\n",
    "        top=dist[:n]\n",
    "    else:\n",
    "        for j in range(len(dist)):\n",
    "            top[j]=dist[j]\n",
    "\n",
    "    return top"
   ]
  },
  {
   "cell_type": "code",
   "execution_count": 29,
   "id": "2745bc42",
   "metadata": {
    "scrolled": false
   },
   "outputs": [
    {
     "data": {
      "text/plain": [
       "[(0.10443895274732024, 'Scheme_programming_language'),\n",
       " (0.16730024036998317, 'Psychology'),\n",
       " (0.2367916565801112, 'Linguistics'),\n",
       " (0.30504371738085306, 'Communication'),\n",
       " (0.31027981651003655, 'Tourette_syndrome'),\n",
       " (0.36232543086334995, 'Stephen_Jay_Gould'),\n",
       " (0.392790541298524, 'La_Paz'),\n",
       " (0.4370001363732602, 'Language'),\n",
       " (0.526264526967477, 'Arab-Israeli_conflict'),\n",
       " (0.526264526967477, 'The_Holocaust'),\n",
       " (0.6607988370652125, 'Alternating_current'),\n",
       " (0.6607988370652125, 'Radio_frequency'),\n",
       " (0.7256788032770468, 'Socialism'),\n",
       " (0.770277274205617, 'Sound'),\n",
       " (0.8757147883850194, 'Alphabet'),\n",
       " (0.9047884224331657, 'Philosophy'),\n",
       " (0.9127820967019243, 'Music'),\n",
       " (0.9467907452366382, 'Jew'),\n",
       " (0.9835366208061289, 'World_War_II'),\n",
       " (1.0460084203966824, 'Communism')]"
      ]
     },
     "execution_count": 29,
     "metadata": {},
     "output_type": "execute_result"
    }
   ],
   "source": [
    "top=top_('Noam_Chomsky', path_finished_unquoted['path'])\n",
    "top"
   ]
  },
  {
   "cell_type": "markdown",
   "id": "61b79a2e",
   "metadata": {},
   "source": [
    "We see that the first concepts (and even some after) are related to Noam Chomsky. However, some other articles, such as La Paz, have nothing to do with Chomsky. Note that La Paz is also present when calculating the closest words in the paper. This is because we have not filtered the paths yet. Indeed, when a player looks for a goal article, it first goes to a hub to redirect themselves and only then narrows down again to concepts related to the goal article. Some articles thus should not be taken into account, and the filtering is to be continued in the next milestone!"
   ]
  },
  {
   "cell_type": "markdown",
   "id": "57fe8262",
   "metadata": {},
   "source": [
    "# 3. Countries"
   ]
  },
  {
   "cell_type": "markdown",
   "id": "42dd70ce",
   "metadata": {},
   "source": [
    "With the tools ready, we start by investigating the subset of the dataset related to countries. The goal is to answer the following research questions: \n",
    "- Which countries seem to have the most influence according to Wikipedia users? Is this representative of the real political influence of these countries?\n",
    "- To which continent do these most famous countries belong to? Do some continents disappear from this representation?"
   ]
  },
  {
   "cell_type": "markdown",
   "id": "25b1b4ba",
   "metadata": {},
   "source": [
    "We first start by extracting the articles belonging to the `subject.Countries` category."
   ]
  },
  {
   "cell_type": "code",
   "execution_count": 21,
   "id": "fc154cda-267e-4239-8714-5e6cbc932185",
   "metadata": {},
   "outputs": [
    {
     "name": "stdout",
     "output_type": "stream",
     "text": [
      "There are 229 countries in the dataset.\n"
     ]
    },
    {
     "data": {
      "text/html": [
       "<div>\n",
       "<style scoped>\n",
       "    .dataframe tbody tr th:only-of-type {\n",
       "        vertical-align: middle;\n",
       "    }\n",
       "\n",
       "    .dataframe tbody tr th {\n",
       "        vertical-align: top;\n",
       "    }\n",
       "\n",
       "    .dataframe thead th {\n",
       "        text-align: right;\n",
       "    }\n",
       "</style>\n",
       "<table border=\"1\" class=\"dataframe\">\n",
       "  <thead>\n",
       "    <tr style=\"text-align: right;\">\n",
       "      <th></th>\n",
       "      <th>article</th>\n",
       "      <th>category</th>\n",
       "    </tr>\n",
       "  </thead>\n",
       "  <tbody>\n",
       "    <tr>\n",
       "      <th>2</th>\n",
       "      <td>%C3%85land</td>\n",
       "      <td>subject.Countries</td>\n",
       "    </tr>\n",
       "    <tr>\n",
       "      <th>5</th>\n",
       "      <td>%C3%89ire</td>\n",
       "      <td>subject.Countries</td>\n",
       "    </tr>\n",
       "    <tr>\n",
       "      <th>102</th>\n",
       "      <td>Abkhazia</td>\n",
       "      <td>subject.Countries</td>\n",
       "    </tr>\n",
       "    <tr>\n",
       "      <th>109</th>\n",
       "      <td>Abu_Dhabi</td>\n",
       "      <td>subject.Countries</td>\n",
       "    </tr>\n",
       "    <tr>\n",
       "      <th>141</th>\n",
       "      <td>Afghanistan</td>\n",
       "      <td>subject.Countries</td>\n",
       "    </tr>\n",
       "    <tr>\n",
       "      <th>...</th>\n",
       "      <td>...</td>\n",
       "      <td>...</td>\n",
       "    </tr>\n",
       "    <tr>\n",
       "      <th>5022</th>\n",
       "      <td>West_Bank</td>\n",
       "      <td>subject.Countries</td>\n",
       "    </tr>\n",
       "    <tr>\n",
       "      <th>5031</th>\n",
       "      <td>Western_Sahara</td>\n",
       "      <td>subject.Countries</td>\n",
       "    </tr>\n",
       "    <tr>\n",
       "      <th>5159</th>\n",
       "      <td>Yemen</td>\n",
       "      <td>subject.Countries</td>\n",
       "    </tr>\n",
       "    <tr>\n",
       "      <th>5182</th>\n",
       "      <td>Zambia</td>\n",
       "      <td>subject.Countries</td>\n",
       "    </tr>\n",
       "    <tr>\n",
       "      <th>5193</th>\n",
       "      <td>Zimbabwe</td>\n",
       "      <td>subject.Countries</td>\n",
       "    </tr>\n",
       "  </tbody>\n",
       "</table>\n",
       "<p>229 rows × 2 columns</p>\n",
       "</div>"
      ],
      "text/plain": [
       "             article           category\n",
       "2         %C3%85land  subject.Countries\n",
       "5          %C3%89ire  subject.Countries\n",
       "102         Abkhazia  subject.Countries\n",
       "109        Abu_Dhabi  subject.Countries\n",
       "141      Afghanistan  subject.Countries\n",
       "...              ...                ...\n",
       "5022       West_Bank  subject.Countries\n",
       "5031  Western_Sahara  subject.Countries\n",
       "5159           Yemen  subject.Countries\n",
       "5182          Zambia  subject.Countries\n",
       "5193        Zimbabwe  subject.Countries\n",
       "\n",
       "[229 rows x 2 columns]"
      ]
     },
     "execution_count": 21,
     "metadata": {},
     "output_type": "execute_result"
    }
   ],
   "source": [
    "countries = categories_grouped.get_group('subject.Countries')\n",
    "print(\"There are {} countries in the dataset.\".format(len(countries)))\n",
    "\n",
    "countries"
   ]
  },
  {
   "cell_type": "markdown",
   "id": "25a98333",
   "metadata": {},
   "source": [
    "## 3.A Continents"
   ]
  },
  {
   "cell_type": "markdown",
   "id": "22d3c255",
   "metadata": {},
   "source": [
    "We now have the list of all countries but it does not give us much information about the continent to which they belong, and therefore their location in the world. As a result, we are now going to add the continent information for each country.\\\n",
    "In order to do so, we are going to use the fact that each country article actually belongs to two different category. The first one is `subject.Countries` as shown before and the second one is more specific to the continent or region to which belongs the country. For example, a country in Europe belongs to the category `subject.Geography.European_Geography.European_Countries` and the US belong to the category `subject.Geography.North_American_Geography`."
   ]
  },
  {
   "cell_type": "markdown",
   "id": "9f6fb211",
   "metadata": {},
   "source": [
    "Grouping the countries belonging to the continents Europe, Asia, Africa, South America and Middle East is straighforward, as there exists a specific category for each. \n"
   ]
  },
  {
   "cell_type": "code",
   "execution_count": 51,
   "id": "4e11c410",
   "metadata": {},
   "outputs": [
    {
     "name": "stdout",
     "output_type": "stream",
     "text": [
      "There are 56 European countries.\n",
      "There are 37 Asian countries.\n",
      "There are 57 African countries.\n",
      "There are 48 Central/South American countries.\n",
      "There are 18 Middle Eastern countries.\n"
     ]
    }
   ],
   "source": [
    "#Regroup European countries\n",
    "European_countries= categories_grouped.get_group('subject.Geography.European_Geography.European_Countries')\n",
    "European_countries.insert(1, 'Continent', 'European')\n",
    "print('There are {} European countries.'.format(len(European_countries)))\n",
    "\n",
    "#Regroup Asian countries\n",
    "Asian_countries= categories_grouped.get_group('subject.Geography.Geography_of_Asia.Asian_Countries')\n",
    "Asian_countries.insert(1, 'Continent', 'Asian')\n",
    "print('There are {} Asian countries.'.format(len(Asian_countries)))\n",
    "\n",
    "#Regroup African countries\n",
    "African_countries= categories_grouped.get_group('subject.Geography.African_Geography.African_Countries')\n",
    "African_countries.insert(1, 'Continent', 'African')\n",
    "print('There are {} African countries.'.format(len(African_countries)))\n",
    "\n",
    "#Regroup South American countries \n",
    "SC_American_countries= categories_grouped.get_group('subject.Geography.Central_and_South_American_Geography.Central_and_South_American_Countries')\n",
    "SC_American_countries.insert(1, 'Continent', 'SC American')\n",
    "print('There are {} Central/South American countries.'.format(len(SC_American_countries)))\n",
    "\n",
    "#Regroup Middle East countries\n",
    "Mid_Eastern_countries= categories_grouped.get_group('subject.Geography.Geography_of_the_Middle_East.Middle_Eastern_Countries')\n",
    "Mid_Eastern_countries.insert(1, 'Continent', 'Middle Eastern')\n",
    "print('There are {} Middle Eastern countries.'.format(len(Mid_Eastern_countries)))\n"
   ]
  },
  {
   "cell_type": "markdown",
   "id": "ed2a0b54",
   "metadata": {},
   "source": [
    "However, for North American and Oceania/Australasia countries, one needs to do things a little bit differently. Indeed, there is no specific category for the North American (Oceania/Australasia) countries, and they are mixed up with regions, states, etc. in a bigger category `subject.Geography.North_American_Geography` (`subject.Geography.Geography_of_Oceania_Australasia`).\\\n",
    "Thus, in order to extract the countries from the other geographical regions, we first group together the North American (Oceania/Australasia) regions. Then, for each region, we check if this region is present in the `countries` dataframe. If it is present, this means that the region is a country, and therefore we can add it to a `North_American_countries` (`Oceania_Australasia_countries`) dataframe. \n"
   ]
  },
  {
   "cell_type": "code",
   "execution_count": 23,
   "id": "138fcfa5",
   "metadata": {},
   "outputs": [
    {
     "name": "stdout",
     "output_type": "stream",
     "text": [
      "There are 4 North American countries.\n"
     ]
    }
   ],
   "source": [
    "#Need to do it differently for North American countries, because there is no .North_American_Countries category\n",
    "North_American_geography= categories_grouped.get_group('subject.Geography.North_American_Geography') #Group together the North American regions\n",
    "North_American_countries = pd.DataFrame(columns = ['article','category']) #Create a North Amercian countries dataframe that is going to fill\n",
    "for idx, NA_geo in enumerate(North_American_geography['article']): #Check for all North American regions\n",
    "    if (NA_geo in countries['article'].unique()): #Check if the region is a country\n",
    "        North_American_countries= pd.concat([North_American_countries, North_American_geography[North_American_geography.article==NA_geo]] ,join='outer') #Add the country to the dataframe\n",
    "\n",
    "North_American_countries.insert(1, 'Continent', 'North American')\n",
    "\n",
    "print('There are {} North American countries.'.format(len(North_American_countries)))"
   ]
  },
  {
   "cell_type": "code",
   "execution_count": 24,
   "id": "d160fd97",
   "metadata": {},
   "outputs": [
    {
     "name": "stdout",
     "output_type": "stream",
     "text": [
      "There are 15 Oceania/Australasia countries.\n"
     ]
    }
   ],
   "source": [
    "#Same for Oceania/Australasia continent\n",
    "Geography_of_Oceania_Australasia = categories_grouped.get_group('subject.Geography.Geography_of_Oceania_Australasia') #Group together the Oceania/Australasia \n",
    "Oceania_Australasia_countries = pd.DataFrame(columns = ['article','category']) #Group together the Oceania Australasia regions\n",
    "for idx, Oce_geo in enumerate(Geography_of_Oceania_Australasia['article']): #Check for all Oceania Australasia regions\n",
    "    if (Oce_geo in countries['article'].unique()): #Check if the region is a country\n",
    "        Oceania_Australasia_countries= pd.concat([Oceania_Australasia_countries, Geography_of_Oceania_Australasia[Geography_of_Oceania_Australasia.article==Oce_geo]] ,join='outer') #add the country to the dataframe\n",
    "\n",
    "Oceania_Australasia_countries.insert(1, 'Continent', 'Oceania Australasia')\n",
    "\n",
    "print('There are {} Oceania/Australasia countries.'.format(len(Oceania_Australasia_countries)))"
   ]
  },
  {
   "cell_type": "markdown",
   "id": "30d9c7ba",
   "metadata": {},
   "source": [
    "Now that we have the dataframes with the countries of each continent, we are going to add this information to the `countries` dataframe.\\\n",
    "In order to do so, we first concatenate the continents dataframes, and then merge this dataframe with the `countries` dataframe, on the `article` name column. The resulting dataframe `all_countries` countains the countries name (article name), their two type of catergory, as well as the name of the continent to which they belong."
   ]
  },
  {
   "cell_type": "code",
   "execution_count": 25,
   "id": "a4e3dffd",
   "metadata": {},
   "outputs": [
    {
     "data": {
      "text/html": [
       "<div>\n",
       "<style scoped>\n",
       "    .dataframe tbody tr th:only-of-type {\n",
       "        vertical-align: middle;\n",
       "    }\n",
       "\n",
       "    .dataframe tbody tr th {\n",
       "        vertical-align: top;\n",
       "    }\n",
       "\n",
       "    .dataframe thead th {\n",
       "        text-align: right;\n",
       "    }\n",
       "</style>\n",
       "<table border=\"1\" class=\"dataframe\">\n",
       "  <thead>\n",
       "    <tr style=\"text-align: right;\">\n",
       "      <th></th>\n",
       "      <th>article</th>\n",
       "      <th>category_x</th>\n",
       "      <th>Continent</th>\n",
       "      <th>category_y</th>\n",
       "    </tr>\n",
       "  </thead>\n",
       "  <tbody>\n",
       "    <tr>\n",
       "      <th>82</th>\n",
       "      <td>Germany</td>\n",
       "      <td>subject.Countries</td>\n",
       "      <td>European</td>\n",
       "      <td>subject.Geography.European_Geography.European_Countries</td>\n",
       "    </tr>\n",
       "    <tr>\n",
       "      <th>58</th>\n",
       "      <td>Djibouti</td>\n",
       "      <td>subject.Countries</td>\n",
       "      <td>African</td>\n",
       "      <td>subject.Geography.African_Geography.African_Countries</td>\n",
       "    </tr>\n",
       "    <tr>\n",
       "      <th>27</th>\n",
       "      <td>Bolivia</td>\n",
       "      <td>subject.Countries</td>\n",
       "      <td>SC American</td>\n",
       "      <td>subject.Geography.Central_and_South_American_Geography.Central_and_South_American_Countries</td>\n",
       "    </tr>\n",
       "    <tr>\n",
       "      <th>75</th>\n",
       "      <td>France</td>\n",
       "      <td>subject.Countries</td>\n",
       "      <td>European</td>\n",
       "      <td>subject.Geography.European_Geography.European_Countries</td>\n",
       "    </tr>\n",
       "    <tr>\n",
       "      <th>150</th>\n",
       "      <td>Oman</td>\n",
       "      <td>subject.Countries</td>\n",
       "      <td>Middle Eastern</td>\n",
       "      <td>subject.Geography.Geography_of_the_Middle_East.Middle_Eastern_Countries</td>\n",
       "    </tr>\n",
       "    <tr>\n",
       "      <th>195</th>\n",
       "      <td>Sweden</td>\n",
       "      <td>subject.Countries</td>\n",
       "      <td>European</td>\n",
       "      <td>subject.Geography.European_Geography.European_Countries</td>\n",
       "    </tr>\n",
       "    <tr>\n",
       "      <th>148</th>\n",
       "      <td>North_Korea</td>\n",
       "      <td>subject.Countries</td>\n",
       "      <td>Asian</td>\n",
       "      <td>subject.Geography.Geography_of_Asia.Asian_Countries</td>\n",
       "    </tr>\n",
       "    <tr>\n",
       "      <th>225</th>\n",
       "      <td>West_Bank</td>\n",
       "      <td>subject.Countries</td>\n",
       "      <td>Middle Eastern</td>\n",
       "      <td>subject.Geography.Geography_of_the_Middle_East.Middle_Eastern_Countries</td>\n",
       "    </tr>\n",
       "    <tr>\n",
       "      <th>45</th>\n",
       "      <td>Chile</td>\n",
       "      <td>subject.Countries</td>\n",
       "      <td>SC American</td>\n",
       "      <td>subject.Geography.Central_and_South_American_Geography.Central_and_South_American_Countries</td>\n",
       "    </tr>\n",
       "    <tr>\n",
       "      <th>26</th>\n",
       "      <td>Bhutan</td>\n",
       "      <td>subject.Countries</td>\n",
       "      <td>Asian</td>\n",
       "      <td>subject.Geography.Geography_of_Asia.Asian_Countries</td>\n",
       "    </tr>\n",
       "  </tbody>\n",
       "</table>\n",
       "</div>"
      ],
      "text/plain": [
       "         article         category_x       Continent  \\\n",
       "82       Germany  subject.Countries        European   \n",
       "58      Djibouti  subject.Countries         African   \n",
       "27       Bolivia  subject.Countries     SC American   \n",
       "75        France  subject.Countries        European   \n",
       "150         Oman  subject.Countries  Middle Eastern   \n",
       "195       Sweden  subject.Countries        European   \n",
       "148  North_Korea  subject.Countries           Asian   \n",
       "225    West_Bank  subject.Countries  Middle Eastern   \n",
       "45         Chile  subject.Countries     SC American   \n",
       "26        Bhutan  subject.Countries           Asian   \n",
       "\n",
       "                                                                                      category_y  \n",
       "82                                       subject.Geography.European_Geography.European_Countries  \n",
       "58                                         subject.Geography.African_Geography.African_Countries  \n",
       "27   subject.Geography.Central_and_South_American_Geography.Central_and_South_American_Countries  \n",
       "75                                       subject.Geography.European_Geography.European_Countries  \n",
       "150                      subject.Geography.Geography_of_the_Middle_East.Middle_Eastern_Countries  \n",
       "195                                      subject.Geography.European_Geography.European_Countries  \n",
       "148                                          subject.Geography.Geography_of_Asia.Asian_Countries  \n",
       "225                      subject.Geography.Geography_of_the_Middle_East.Middle_Eastern_Countries  \n",
       "45   subject.Geography.Central_and_South_American_Geography.Central_and_South_American_Countries  \n",
       "26                                           subject.Geography.Geography_of_Asia.Asian_Countries  "
      ]
     },
     "execution_count": 25,
     "metadata": {},
     "output_type": "execute_result"
    }
   ],
   "source": [
    "all_continents = pd.concat([European_countries, Asian_countries, African_countries, SC_American_countries, Mid_Eastern_countries, North_American_countries, Oceania_Australasia_countries])\n",
    "all_countries = countries.merge(all_continents, how='outer', on = ['article'])\n",
    "all_countries.sample(10)"
   ]
  },
  {
   "cell_type": "code",
   "execution_count": 26,
   "id": "799b3ded",
   "metadata": {},
   "outputs": [
    {
     "data": {
      "text/plain": [
       "article       0\n",
       "category_x    5\n",
       "Continent     0\n",
       "category_y    0\n",
       "dtype: int64"
      ]
     },
     "execution_count": 26,
     "metadata": {},
     "output_type": "execute_result"
    }
   ],
   "source": [
    "all_countries.isna().sum()"
   ]
  },
  {
   "cell_type": "markdown",
   "id": "cbc7132d",
   "metadata": {},
   "source": [
    "With the cell above, we notice that 5 countries have a NaN value in their `category_x` column. This means that these countries did not belong to the category `subject.Countries`, but still belonged to the country category of a continent.\\\n",
    "An example of country in this situation is Mayotte. Mayotte is an island located between Madagascar and Northeastern Mozambique. So it is located in the African continent. However, Mayotte is not a country in itself but is actually an overseas department and region of France. Thus, it is not a country in itself but is still categorized as an African country.\\\n",
    "For our analysis, we decided to keep these regions, and to consider them as independent countries. Indeed, maybe France will be seen as one of the most influential countries, but the small island of Mayotte doesn't really play a role in this influence, as it is in a completelly different geographical region. "
   ]
  },
  {
   "cell_type": "markdown",
   "id": "2835cf49-0405-4335-8af6-b105c4bc82a6",
   "metadata": {},
   "source": [
    "With the dataframe containing all the countries and the continent to which they belong, we can now look at their repartition. The following histogram gives the repartition of the number of countries per continent."
   ]
  },
  {
   "cell_type": "code",
   "execution_count": 27,
   "id": "ddfddded-7f3a-42d9-835e-3b5a4a3a491f",
   "metadata": {},
   "outputs": [
    {
     "data": {
      "image/png": "[encoded data removed]",
      "text/plain": [
       "<Figure size 432x288 with 1 Axes>"
      ]
     },
     "metadata": {
      "needs_background": "light"
     },
     "output_type": "display_data"
    }
   ],
   "source": [
    "all_countries['Continent'].value_counts().plot(kind=\"bar\")\n",
    "plt.xlabel('Continent')\n",
    "plt.ylabel('Absolute frequency of countries')\n",
    "plt.title('Repartition of countries per continent');\n"
   ]
  },
  {
   "cell_type": "markdown",
   "id": "a6485323",
   "metadata": {},
   "source": [
    "The histogram above shows that Africa and Europe both possess the highest number of countries, with more then 50 countries each. On the other hand, North America has the smallest number of countries, with only 4 countries.\\\n",
    "However, does the number of countries in the continent really has an importance, when looking at the influence of a certain continent ? Africa has the highest number of countries, but are these countries influencial ? It is what we are going to see in the next section. "
   ]
  },
  {
   "cell_type": "markdown",
   "id": "f5808e5a",
   "metadata": {},
   "source": [
    "## 3.B What are the most important countries according to Wikipedia's users?\n",
    "\n",
    "Using the centrality computed before, one could determine what countries are the most central in the graph created from the paths. This can provide us with interesting information on the importance of different countries for Wikipedia's users. Are some countries more important than others?"
   ]
  },
  {
   "cell_type": "markdown",
   "id": "ce60b226",
   "metadata": {},
   "source": [
    "To this end, we filter the dataframe with the centralities obtained before to keep only the countries."
   ]
  },
  {
   "cell_type": "code",
   "execution_count": 127,
   "id": "718e5b01",
   "metadata": {},
   "outputs": [
    {
     "name": "stdout",
     "output_type": "stream",
     "text": [
      "There are 228 countries in the dataset.\n"
     ]
    },
    {
     "data": {
      "text/html": [
       "<div>\n",
       "<style scoped>\n",
       "    .dataframe tbody tr th:only-of-type {\n",
       "        vertical-align: middle;\n",
       "    }\n",
       "\n",
       "    .dataframe tbody tr th {\n",
       "        vertical-align: top;\n",
       "    }\n",
       "\n",
       "    .dataframe thead th {\n",
       "        text-align: right;\n",
       "    }\n",
       "</style>\n",
       "<table border=\"1\" class=\"dataframe\">\n",
       "  <thead>\n",
       "    <tr style=\"text-align: right;\">\n",
       "      <th></th>\n",
       "      <th>country</th>\n",
       "      <th>centrality</th>\n",
       "      <th>category</th>\n",
       "    </tr>\n",
       "  </thead>\n",
       "  <tbody>\n",
       "    <tr>\n",
       "      <th>24</th>\n",
       "      <td>United_States</td>\n",
       "      <td>2.572896</td>\n",
       "      <td>subject.Countries</td>\n",
       "    </tr>\n",
       "    <tr>\n",
       "      <th>245</th>\n",
       "      <td>United_Kingdom</td>\n",
       "      <td>2.558441</td>\n",
       "      <td>subject.Countries</td>\n",
       "    </tr>\n",
       "    <tr>\n",
       "      <th>793</th>\n",
       "      <td>Norway</td>\n",
       "      <td>2.530908</td>\n",
       "      <td>subject.Countries</td>\n",
       "    </tr>\n",
       "    <tr>\n",
       "      <th>190</th>\n",
       "      <td>Germany</td>\n",
       "      <td>2.529179</td>\n",
       "      <td>subject.Countries</td>\n",
       "    </tr>\n",
       "    <tr>\n",
       "      <th>678</th>\n",
       "      <td>Mexico</td>\n",
       "      <td>2.501755</td>\n",
       "      <td>subject.Countries</td>\n",
       "    </tr>\n",
       "    <tr>\n",
       "      <th>758</th>\n",
       "      <td>Canada</td>\n",
       "      <td>2.498474</td>\n",
       "      <td>subject.Countries</td>\n",
       "    </tr>\n",
       "    <tr>\n",
       "      <th>416</th>\n",
       "      <td>Russia</td>\n",
       "      <td>2.495679</td>\n",
       "      <td>subject.Countries</td>\n",
       "    </tr>\n",
       "    <tr>\n",
       "      <th>17</th>\n",
       "      <td>Italy</td>\n",
       "      <td>2.485946</td>\n",
       "      <td>subject.Countries</td>\n",
       "    </tr>\n",
       "    <tr>\n",
       "      <th>60</th>\n",
       "      <td>France</td>\n",
       "      <td>2.480527</td>\n",
       "      <td>subject.Countries</td>\n",
       "    </tr>\n",
       "    <tr>\n",
       "      <th>482</th>\n",
       "      <td>South_Africa</td>\n",
       "      <td>2.473290</td>\n",
       "      <td>subject.Countries</td>\n",
       "    </tr>\n",
       "  </tbody>\n",
       "</table>\n",
       "</div>"
      ],
      "text/plain": [
       "            country  centrality           category\n",
       "24    United_States    2.572896  subject.Countries\n",
       "245  United_Kingdom    2.558441  subject.Countries\n",
       "793          Norway    2.530908  subject.Countries\n",
       "190         Germany    2.529179  subject.Countries\n",
       "678          Mexico    2.501755  subject.Countries\n",
       "758          Canada    2.498474  subject.Countries\n",
       "416          Russia    2.495679  subject.Countries\n",
       "17            Italy    2.485946  subject.Countries\n",
       "60           France    2.480527  subject.Countries\n",
       "482    South_Africa    2.473290  subject.Countries"
      ]
     },
     "execution_count": 127,
     "metadata": {},
     "output_type": "execute_result"
    }
   ],
   "source": [
    "centralities_grouped = sorted_centrailities.groupby(by=\"category\")\n",
    "countries_centralities = centralities_grouped.get_group('subject.Countries')\n",
    "countries_centralities = countries_centralities.rename(columns={'article': 'country'})\n",
    "print(\"There are {} countries in the dataset.\".format(countries_centralities.shape[0]))\n",
    "countries_centralities.head(10)"
   ]
  },
  {
   "cell_type": "markdown",
   "id": "8c5294dd",
   "metadata": {},
   "source": [
    "The idea is then to create a map to visualize the centrality/importance of the countries. The most impactful visualization for such data is probably a cartogram, the latter is however not easily implemented. Thus, as a first step, we will use a choropleth map. Latter in this project, a cartogram could be created."
   ]
  },
  {
   "cell_type": "markdown",
   "id": "ff2915bc",
   "metadata": {},
   "source": [
    "To create the map, we will use `plotly.graph_objects`. However, to plot the countries we need their alpha-3 (iso-3) code. The latter can be found in many datasets, we used the following one :"
   ]
  },
  {
   "cell_type": "code",
   "execution_count": 128,
   "id": "a879e792",
   "metadata": {},
   "outputs": [],
   "source": [
    "iso = pd.read_csv('https://github.com/Dinuks/country-nationality-list/raw/master/countries.csv')\n",
    "iso = iso[[\"alpha_3_code\", \"en_short_name\"]]\n",
    "iso.columns = [\"iso3\", \"country\"]"
   ]
  },
  {
   "cell_type": "markdown",
   "id": "00271b49",
   "metadata": {},
   "source": [
    "By comparing the Country names in our dataset and in this one, we observe that some countries have different designations.\n",
    "\n",
    "To solve this issue, we first replace the underscores in the names of the countries and then manually determine the countries with different names in the two datasets. We change the names in the second dataframe to match with the first one. \n"
   ]
  },
  {
   "cell_type": "code",
   "execution_count": 129,
   "id": "0031302a",
   "metadata": {},
   "outputs": [],
   "source": [
    "# Remove the underscore in the names of the countries\n",
    "countries_centralities['country'] = countries_centralities['country'].apply(lambda x : x.replace('_', ' '))"
   ]
  },
  {
   "cell_type": "code",
   "execution_count": 130,
   "id": "d7c94f4d",
   "metadata": {
    "jupyter": {
     "source_hidden": true
    },
    "tags": []
   },
   "outputs": [],
   "source": [
    "iso['country'] = iso['country'].replace(['United States of America'], 'United States')\n",
    "iso['country'] = iso['country'].replace(['United Kingdom of Great Britain and Northern Ireland'], 'United Kingdom')\n",
    "iso['country'] = iso['country'].replace(['Russian Federation'], 'Russia')\n",
    "#iso['country'] = iso['country'].replace(['Ireland'], 'Republic of Ireland')\n",
    "iso['country'] = iso['country'].replace(['China'], 'Republic of China')\n",
    "iso['country'] = iso['country'].replace(['Bolivia (Plurinational State of)'], 'Bolivia')\n",
    "iso['country'] = iso['country'].replace(['Vatican City State'], 'Vatican City')\n",
    "iso['country'] = iso['country'].replace([\"Korea (Democratic People's Republic of)\"], 'North Korea')\n",
    "iso['country'] = iso['country'].replace([\"Korea (Republic of)\"], 'South Korea')\n",
    "iso['country'] = iso['country'].replace([\"Tanzania, United Republic of\"], 'Tanzania')\n",
    "iso['country'] = iso['country'].replace([\"Macedonia (the former Yugoslav Republic of)\"], 'Republic of Macedonia')\n",
    "iso['country'] = iso['country'].replace([\"Georgia\"], 'Georgia %28country%29')\n",
    "iso['country'] = iso['country'].replace([\"Taiwan, Province of China\"], 'Taiwan')\n",
    "iso['country'] = iso['country'].replace([\"Côte d'Ivoire\"], 'C%C3%B4te d%27Ivoire')\n",
    "iso['country'] = iso['country'].replace([\"Gambia\"], 'The Gambia')\n",
    "iso['country'] = iso['country'].replace([\"Venezuela (Bolivarian Republic of)\"], 'Venezuela')\n",
    "iso['country'] = iso['country'].replace([\"Bahamas\"], 'The Bahamas')\n",
    "iso['country'] = iso['country'].replace([\"Moldova (Republic of)\"], 'Moldova')\n",
    "iso['country'] = iso['country'].replace([\"Falkland Islands (Malvinas)\"], 'Falkland Islands')\n",
    "iso['country'] = iso['country'].replace([\"Lao People's Democratic Republic\"], 'Laos')\n",
    "iso['country'] = iso['country'].replace([\"Syrian Arab Republic\"], 'Syria')\n",
    "iso['country'] = iso['country'].replace([\"Micronesia (Federated States of)\"], 'Federated States of Micronesia')\n",
    "iso['country'] = iso['country'].replace([\"Palestine, State of\"], 'Palestinian territories')\n",
    "iso['country'] = iso['country'].replace([\"Saint Helena, Ascension and Tristan da Cunha\"], 'Saint Helena')\n",
    "iso['country'] = iso['country'].replace([\"Sao Tome and Principe\"], 'S%C3%A3o Tom%C3%A9 and Pr%C3%ADncipe')\n",
    "iso['country'] = iso['country'].replace([\"Timor-Leste\"], 'East Timor')\n",
    "iso['country'] = iso['country'].replace([\"Cocos (Keeling) Islands\"], 'Cocos %28Keeling%29 Islands')\n",
    "iso['country'] = iso['country'].replace([\"United Arab Emirates\"], 'Dubai')\n",
    "iso['country'] = iso['country'].replace([\"Cabo Verde\"], 'Cape Verde')\n",
    "iso['country'] = iso['country'].replace([\"Åland Islands\"], '%C3%85land')\n",
    "iso['country'] = iso['country'].replace([\"Brunei Darussalam\"], 'Brunei')\n",
    "iso['country'] = iso['country'].replace([\"Réunion\"], 'R%C3%A9union')\n",
    "iso['country'] = iso['country'].replace([\"Serbia\"], 'Serbia and Montenegro')\n",
    "#iso['country'] = iso['country'].replace([\"Cyprus\"], 'Turkish Republic of Northern Cyprus'"
   ]
  },
  {
   "cell_type": "markdown",
   "id": "d5e35a30",
   "metadata": {},
   "source": [
    "Now we can merge the two dataframes to obtain, for each country, their alpha-3 code. Note that some country appear only in one of the two datasets, leading to Nan values in the resulting dataframe. We simply remove these countries."
   ]
  },
  {
   "cell_type": "code",
   "execution_count": 131,
   "id": "39191e8b",
   "metadata": {},
   "outputs": [
    {
     "data": {
      "text/html": [
       "<div>\n",
       "<style scoped>\n",
       "    .dataframe tbody tr th:only-of-type {\n",
       "        vertical-align: middle;\n",
       "    }\n",
       "\n",
       "    .dataframe tbody tr th {\n",
       "        vertical-align: top;\n",
       "    }\n",
       "\n",
       "    .dataframe thead th {\n",
       "        text-align: right;\n",
       "    }\n",
       "</style>\n",
       "<table border=\"1\" class=\"dataframe\">\n",
       "  <thead>\n",
       "    <tr style=\"text-align: right;\">\n",
       "      <th></th>\n",
       "      <th>country</th>\n",
       "      <th>centrality</th>\n",
       "      <th>category</th>\n",
       "      <th>iso3</th>\n",
       "    </tr>\n",
       "  </thead>\n",
       "  <tbody>\n",
       "    <tr>\n",
       "      <th>0</th>\n",
       "      <td>United States</td>\n",
       "      <td>2.572896</td>\n",
       "      <td>subject.Countries</td>\n",
       "      <td>USA</td>\n",
       "    </tr>\n",
       "    <tr>\n",
       "      <th>1</th>\n",
       "      <td>United Kingdom</td>\n",
       "      <td>2.558441</td>\n",
       "      <td>subject.Countries</td>\n",
       "      <td>GBR</td>\n",
       "    </tr>\n",
       "    <tr>\n",
       "      <th>2</th>\n",
       "      <td>Norway</td>\n",
       "      <td>2.530908</td>\n",
       "      <td>subject.Countries</td>\n",
       "      <td>NOR</td>\n",
       "    </tr>\n",
       "    <tr>\n",
       "      <th>3</th>\n",
       "      <td>Germany</td>\n",
       "      <td>2.529179</td>\n",
       "      <td>subject.Countries</td>\n",
       "      <td>DEU</td>\n",
       "    </tr>\n",
       "    <tr>\n",
       "      <th>4</th>\n",
       "      <td>Mexico</td>\n",
       "      <td>2.501755</td>\n",
       "      <td>subject.Countries</td>\n",
       "      <td>MEX</td>\n",
       "    </tr>\n",
       "  </tbody>\n",
       "</table>\n",
       "</div>"
      ],
      "text/plain": [
       "          country  centrality           category iso3\n",
       "0   United States    2.572896  subject.Countries  USA\n",
       "1  United Kingdom    2.558441  subject.Countries  GBR\n",
       "2          Norway    2.530908  subject.Countries  NOR\n",
       "3         Germany    2.529179  subject.Countries  DEU\n",
       "4          Mexico    2.501755  subject.Countries  MEX"
      ]
     },
     "execution_count": 131,
     "metadata": {},
     "output_type": "execute_result"
    }
   ],
   "source": [
    "countries = countries_centralities.merge(iso, on='country', how='left')\n",
    "countries = countries.dropna() \n",
    "countries.head()"
   ]
  },
  {
   "cell_type": "markdown",
   "id": "637c1397",
   "metadata": {},
   "source": [
    "Eventually, we can plot the map:"
   ]
  },
  {
   "cell_type": "code",
   "execution_count": 132,
   "id": "daea3d12",
   "metadata": {
    "scrolled": true
   },
   "outputs": [
    {
     "data": {
      "application/vnd.plotly.v1+json": {
       "config": {
        "plotlyServerURL": "https://plot.ly"
       },
       "data": [
        {
         "autocolorscale": false,
         "colorbar": {
          "tickprefix": "",
          "title": {
           "text": "centrality"
          }
         },
         "colorscale": [
          [
           0,
           "#30123b"
          ],
          [
           0.07142857142857142,
           "#4145ab"
          ],
          [
           0.14285714285714285,
           "#4675ed"
          ],
          [
           0.21428571428571427,
           "#39a2fc"
          ],
          [
           0.2857142857142857,
           "#1bcfd4"
          ],
          [
           0.35714285714285715,
           "#24eca6"
          ],
          [
           0.42857142857142855,
           "#61fc6c"
          ],
          [
           0.5,
           "#a4fc3b"
          ],
          [
           0.5714285714285714,
           "#d1e834"
          ],
          [
           0.6428571428571429,
           "#f3c63a"
          ],
          [
           0.7142857142857143,
           "#fe9b2d"
          ],
          [
           0.7857142857142857,
           "#f36315"
          ],
          [
           0.8571428571428571,
           "#d93806"
          ],
          [
           0.9285714285714286,
           "#b11901"
          ],
          [
           1,
           "#7a0402"
          ]
         ],
         "locations": [
          "USA",
          "GBR",
          "NOR",
          "DEU",
          "MEX",
          "CAN",
          "RUS",
          "ITA",
          "FRA",
          "ZAF",
          "JPN",
          "IND",
          "NLD",
          "ESP",
          "ISL",
          "EGY",
          "GRC",
          "AUS",
          "DNK",
          "IRL",
          "IRQ",
          "KEN",
          "SWE",
          "NZL",
          "BRA",
          "AUT",
          "ARG",
          "TUR",
          "BEL",
          "POL",
          "PRI",
          "BOL",
          "ETH",
          "ZWE",
          "PRT",
          "PER",
          "DZA",
          "GRL",
          "PAK",
          "ECU",
          "RWA",
          "CHE",
          "FIN",
          "MLI",
          "MDG",
          "VNM",
          "IDN",
          "NPL",
          "IRN",
          "VAT",
          "CZE",
          "NGA",
          "SDN",
          "CHL",
          "CUB",
          "CHN",
          "ISR",
          "KWT",
          "MAR",
          "UKR",
          "ROU",
          "TCD",
          "HKG",
          "PHL",
          "TZA",
          "KAZ",
          "BIH",
          "LUX",
          "HUN",
          "SOM",
          "GIN",
          "GHA",
          "PRK",
          "ESH",
          "MYS",
          "COL",
          "MCO",
          "SAU",
          "MKD",
          "UZB",
          "JAM",
          "ZMB",
          "MWI",
          "NER",
          "GEO",
          "JOR",
          "TWN",
          "TKM",
          "URY",
          "BGR",
          "LBY",
          "CIV",
          "MOZ",
          "GAB",
          "KOR",
          "CRI",
          "GTM",
          "LKA",
          "AFG",
          "BLR",
          "BFA",
          "UGA",
          "GMB",
          "SLE",
          "LBR",
          "BMU",
          "PRY",
          "VEN",
          "CYP",
          "PAN",
          "SVK",
          "BWA",
          "ALB",
          "THA",
          "GUF",
          "MMR",
          "BGD",
          "BHS",
          "DOM",
          "HTI",
          "SVN",
          "MDA",
          "AZE",
          "MUS",
          "SLB",
          "TGO",
          "BEN",
          "LSO",
          "TUN",
          "KHM",
          "BTN",
          "BRB",
          "FLK",
          "BLZ",
          "GUY",
          "LVA",
          "QAT",
          "KGZ",
          "LAO",
          "EST",
          "PNG",
          "SLV",
          "SYR",
          "CMR",
          "HRV",
          "MSR",
          "DMA",
          "TTO",
          "BDI",
          "YEM",
          "SGP",
          "WSM",
          "COK",
          "MNE",
          "SMR",
          "NAM",
          "LTU",
          "LBN",
          "NIC",
          "CAF",
          "SWZ",
          "HND",
          "AGO",
          "GUM",
          "FSM",
          "TCA",
          "ARM",
          "PSE",
          "MLT",
          "MRT",
          "LIE",
          "SHN",
          "GNQ",
          "SEN",
          "STP",
          "GNB",
          "FJI",
          "VUT",
          "GRD",
          "ABW",
          "SUR",
          "AND",
          "TLS",
          "CCK",
          "OMN",
          "ARE",
          "GLP",
          "PYF",
          "CPV",
          "ALA",
          "CYM",
          "DJI",
          "BRN",
          "TJK",
          "ERI",
          "BHR",
          "MDV",
          "CXR",
          "MTQ",
          "ATG",
          "KNA",
          "SRB",
          "VCT",
          "TUV",
          "LCA",
          "TON",
          "REU",
          "IOT",
          "AIA"
         ],
         "marker": {
          "line": {
           "color": "darkgray",
           "width": 0.5
          }
         },
         "reversescale": false,
         "text": [
          "United States",
          "United Kingdom",
          "Norway",
          "Germany",
          "Mexico",
          "Canada",
          "Russia",
          "Italy",
          "France",
          "South Africa",
          "Japan",
          "India",
          "Netherlands",
          "Spain",
          "Iceland",
          "Egypt",
          "Greece",
          "Australia",
          "Denmark",
          "Ireland",
          "Iraq",
          "Kenya",
          "Sweden",
          "New Zealand",
          "Brazil",
          "Austria",
          "Argentina",
          "Turkey",
          "Belgium",
          "Poland",
          "Puerto Rico",
          "Bolivia",
          "Ethiopia",
          "Zimbabwe",
          "Portugal",
          "Peru",
          "Algeria",
          "Greenland",
          "Pakistan",
          "Ecuador",
          "Rwanda",
          "Switzerland",
          "Finland",
          "Mali",
          "Madagascar",
          "Vietnam",
          "Indonesia",
          "Nepal",
          "Iran",
          "Vatican City",
          "Czech Republic",
          "Nigeria",
          "Sudan",
          "Chile",
          "Cuba",
          "Republic of China",
          "Israel",
          "Kuwait",
          "Morocco",
          "Ukraine",
          "Romania",
          "Chad",
          "Hong Kong",
          "Philippines",
          "Tanzania",
          "Kazakhstan",
          "Bosnia and Herzegovina",
          "Luxembourg",
          "Hungary",
          "Somalia",
          "Guinea",
          "Ghana",
          "North Korea",
          "Western Sahara",
          "Malaysia",
          "Colombia",
          "Monaco",
          "Saudi Arabia",
          "Republic of Macedonia",
          "Uzbekistan",
          "Jamaica",
          "Zambia",
          "Malawi",
          "Niger",
          "Georgia %28country%29",
          "Jordan",
          "Taiwan",
          "Turkmenistan",
          "Uruguay",
          "Bulgaria",
          "Libya",
          "C%C3%B4te d%27Ivoire",
          "Mozambique",
          "Gabon",
          "South Korea",
          "Costa Rica",
          "Guatemala",
          "Sri Lanka",
          "Afghanistan",
          "Belarus",
          "Burkina Faso",
          "Uganda",
          "The Gambia",
          "Sierra Leone",
          "Liberia",
          "Bermuda",
          "Paraguay",
          "Venezuela",
          "Cyprus",
          "Panama",
          "Slovakia",
          "Botswana",
          "Albania",
          "Thailand",
          "French Guiana",
          "Myanmar",
          "Bangladesh",
          "The Bahamas",
          "Dominican Republic",
          "Haiti",
          "Slovenia",
          "Moldova",
          "Azerbaijan",
          "Mauritius",
          "Solomon Islands",
          "Togo",
          "Benin",
          "Lesotho",
          "Tunisia",
          "Cambodia",
          "Bhutan",
          "Barbados",
          "Falkland Islands",
          "Belize",
          "Guyana",
          "Latvia",
          "Qatar",
          "Kyrgyzstan",
          "Laos",
          "Estonia",
          "Papua New Guinea",
          "El Salvador",
          "Syria",
          "Cameroon",
          "Croatia",
          "Montserrat",
          "Dominica",
          "Trinidad and Tobago",
          "Burundi",
          "Yemen",
          "Singapore",
          "Samoa",
          "Cook Islands",
          "Montenegro",
          "San Marino",
          "Namibia",
          "Lithuania",
          "Lebanon",
          "Nicaragua",
          "Central African Republic",
          "Swaziland",
          "Honduras",
          "Angola",
          "Guam",
          "Federated States of Micronesia",
          "Turks and Caicos Islands",
          "Armenia",
          "Palestinian territories",
          "Malta",
          "Mauritania",
          "Liechtenstein",
          "Saint Helena",
          "Equatorial Guinea",
          "Senegal",
          "S%C3%A3o Tom%C3%A9 and Pr%C3%ADncipe",
          "Guinea-Bissau",
          "Fiji",
          "Vanuatu",
          "Grenada",
          "Aruba",
          "Suriname",
          "Andorra",
          "East Timor",
          "Cocos %28Keeling%29 Islands",
          "Oman",
          "Dubai",
          "Guadeloupe",
          "French Polynesia",
          "Cape Verde",
          "%C3%85land",
          "Cayman Islands",
          "Djibouti",
          "Brunei",
          "Tajikistan",
          "Eritrea",
          "Bahrain",
          "Maldives",
          "Christmas Island",
          "Martinique",
          "Antigua and Barbuda",
          "Saint Kitts and Nevis",
          "Serbia and Montenegro",
          "Saint Vincent and the Grenadines",
          "Tuvalu",
          "Saint Lucia",
          "Tonga",
          "R%C3%A9union",
          "British Indian Ocean Territory",
          "Anguilla"
         ],
         "type": "choropleth",
         "z": [
          2.5728956090387087,
          2.5584408848876543,
          2.5309077495183567,
          2.5291786407040373,
          2.501755046473508,
          2.4984741740764784,
          2.495679050960056,
          2.4859463416457075,
          2.480526503013924,
          2.473290180330257,
          2.4525325840383223,
          2.4465883607666776,
          2.4457507641785305,
          2.427657712509149,
          2.4239808852640774,
          2.4204427235597517,
          2.4113220623797984,
          2.3938179829763695,
          2.3909631294549256,
          2.3855525405271973,
          2.3823036083902163,
          2.381373357985879,
          2.3747283942079336,
          2.2929437976015064,
          2.2929089494638557,
          2.280721128504623,
          2.2764568336230773,
          2.2730562375445986,
          2.2592331043493292,
          2.2591101699450227,
          2.2512455867814585,
          2.217724803211803,
          2.2150062994896813,
          2.1965055240103304,
          2.191662364201476,
          2.19132885692129,
          2.1803356890036163,
          2.179523210867179,
          2.1394062260526723,
          2.1393788905171003,
          2.129291018308516,
          2.114633667001717,
          2.1129647230770767,
          2.1008810141645706,
          2.100776948933377,
          2.0949813385033096,
          2.0947690373047836,
          2.0935896773575102,
          2.0884987897805716,
          2.087621936022957,
          2.0787648147095488,
          2.0678078127002886,
          2.067456018974901,
          2.0645107692105555,
          2.0481400429448993,
          2.0274290664044883,
          2.0189281294654906,
          2.013274029043711,
          2.006975756032683,
          1.9974100224624,
          1.9952415392065204,
          1.9846988778740868,
          1.9746490036271738,
          1.966655920702063,
          1.9577449476644886,
          1.953907421944594,
          1.9411363072766874,
          1.941033818256432,
          1.940977855408591,
          1.93169307384151,
          1.9314798120320842,
          1.9311201969776386,
          1.930538130109511,
          1.9279238348157377,
          1.9275637604410352,
          1.9012888363762943,
          1.8935090294854442,
          1.8871108743666074,
          1.8760283674526452,
          1.8740327861004404,
          1.8684472524447755,
          1.8673179323685636,
          1.8671893030381428,
          1.8669075006486733,
          1.8396123267002649,
          1.835924412777298,
          1.815393977793612,
          1.8131600573558482,
          1.8086131655853168,
          1.7957455376692526,
          1.7910585047103138,
          1.7879230715217518,
          1.7874326905162679,
          1.7873182630740887,
          1.7828195843158143,
          1.7659185645534408,
          1.7656009146703548,
          1.73881534122332,
          1.7313931039449482,
          1.6944512789029358,
          1.6870467724492169,
          1.6869549842849145,
          1.686937539230741,
          1.6868826871072466,
          1.6866577258176207,
          1.6842002779446514,
          1.6635927202387022,
          1.6402111716664376,
          1.6214055059833912,
          1.5711026256379153,
          1.5619400001504384,
          1.5561995151618073,
          1.5555519534554973,
          1.5525755028414532,
          1.5357302833013529,
          1.5178529183931784,
          1.5177795375682128,
          1.4885303692053793,
          1.4833305060355697,
          1.4833012911782208,
          1.461280533646115,
          1.3818767035818973,
          1.37788709091163,
          1.3776978370837483,
          1.377369287753351,
          1.3772139812869382,
          1.3771115750109921,
          1.3769945667156538,
          1.3769342277900651,
          1.376099811664324,
          1.3739613064751672,
          1.3701668395356905,
          1.3701276201991923,
          1.363938809312009,
          1.3615167394792533,
          1.3603590105656116,
          1.3524183256762057,
          1.3453796362182888,
          1.3306757729886851,
          1.3279001015093168,
          1.2338258424760966,
          1.2252510479580907,
          1.1257455555989182,
          1.1250317060656578,
          1.1231643133168365,
          1.1221906521321863,
          1.1208478198970362,
          1.1205767217530325,
          1.1197553318656703,
          1.1196643909928696,
          1.1152541715914988,
          1.1139903759367102,
          1.1139543251685275,
          1.1088614761225097,
          1.1086049166029086,
          1.1067809842897973,
          1.1004684899389092,
          1.0919545581892593,
          1.0710812316806555,
          1.0585610226856152,
          1.0583852611916238,
          1.0275495826142447,
          1.0179636151040123,
          0.9917197290973407,
          0.8712709760433903,
          0.8532605914521485,
          0.8352141549209956,
          0.7524397951171725,
          0.7211687894506165,
          0.7203218462491013,
          0.7191060898323692,
          0.7181243618991391,
          0.7178935048232148,
          0.7178664949015667,
          0.7177737004993962,
          0.71741097221458,
          0.715447152881476,
          0.7152878557766852,
          0.714012818259555,
          0.7133645278957644,
          0.7125627561317047,
          0.7123618873853511,
          0.7093189934721488,
          0.7052479611711872,
          0.7043554736318342,
          0.7008495677127059,
          0.6959582073743225,
          0.6955113068316169,
          0.6917675830373122,
          0.6785580402478735,
          0.6716712580282991,
          0.65867850013373,
          0.6581621162492064,
          0.6509651308586916,
          0.6413738264176083,
          0.6142160310484334,
          0.0004828585224529213,
          0.00024142926122646064,
          0.00024142926122646064,
          0.00024142926122646064,
          0,
          0,
          0,
          0,
          0,
          0,
          0,
          0,
          0
         ]
        }
       ],
       "layout": {
        "geo": {
         "projection": {
          "type": "equirectangular"
         },
         "showcoastlines": false,
         "showframe": false
        },
        "template": {
         "data": {
          "bar": [
           {
            "error_x": {
             "color": "#2a3f5f"
            },
            "error_y": {
             "color": "#2a3f5f"
            },
            "marker": {
             "line": {
              "color": "#E5ECF6",
              "width": 0.5
             },
             "pattern": {
              "fillmode": "overlay",
              "size": 10,
              "solidity": 0.2
             }
            },
            "type": "bar"
           }
          ],
          "barpolar": [
           {
            "marker": {
             "line": {
              "color": "#E5ECF6",
              "width": 0.5
             },
             "pattern": {
              "fillmode": "overlay",
              "size": 10,
              "solidity": 0.2
             }
            },
            "type": "barpolar"
           }
          ],
          "carpet": [
           {
            "aaxis": {
             "endlinecolor": "#2a3f5f",
             "gridcolor": "white",
             "linecolor": "white",
             "minorgridcolor": "white",
             "startlinecolor": "#2a3f5f"
            },
            "baxis": {
             "endlinecolor": "#2a3f5f",
             "gridcolor": "white",
             "linecolor": "white",
             "minorgridcolor": "white",
             "startlinecolor": "#2a3f5f"
            },
            "type": "carpet"
           }
          ],
          "choropleth": [
           {
            "colorbar": {
             "outlinewidth": 0,
             "ticks": ""
            },
            "type": "choropleth"
           }
          ],
          "contour": [
           {
            "colorbar": {
             "outlinewidth": 0,
             "ticks": ""
            },
            "colorscale": [
             [
              0,
              "#0d0887"
             ],
             [
              0.1111111111111111,
              "#46039f"
             ],
             [
              0.2222222222222222,
              "#7201a8"
             ],
             [
              0.3333333333333333,
              "#9c179e"
             ],
             [
              0.4444444444444444,
              "#bd3786"
             ],
             [
              0.5555555555555556,
              "#d8576b"
             ],
             [
              0.6666666666666666,
              "#ed7953"
             ],
             [
              0.7777777777777778,
              "#fb9f3a"
             ],
             [
              0.8888888888888888,
              "#fdca26"
             ],
             [
              1,
              "#f0f921"
             ]
            ],
            "type": "contour"
           }
          ],
          "contourcarpet": [
           {
            "colorbar": {
             "outlinewidth": 0,
             "ticks": ""
            },
            "type": "contourcarpet"
           }
          ],
          "heatmap": [
           {
            "colorbar": {
             "outlinewidth": 0,
             "ticks": ""
            },
            "colorscale": [
             [
              0,
              "#0d0887"
             ],
             [
              0.1111111111111111,
              "#46039f"
             ],
             [
              0.2222222222222222,
              "#7201a8"
             ],
             [
              0.3333333333333333,
              "#9c179e"
             ],
             [
              0.4444444444444444,
              "#bd3786"
             ],
             [
              0.5555555555555556,
              "#d8576b"
             ],
             [
              0.6666666666666666,
              "#ed7953"
             ],
             [
              0.7777777777777778,
              "#fb9f3a"
             ],
             [
              0.8888888888888888,
              "#fdca26"
             ],
             [
              1,
              "#f0f921"
             ]
            ],
            "type": "heatmap"
           }
          ],
          "heatmapgl": [
           {
            "colorbar": {
             "outlinewidth": 0,
             "ticks": ""
            },
            "colorscale": [
             [
              0,
              "#0d0887"
             ],
             [
              0.1111111111111111,
              "#46039f"
             ],
             [
              0.2222222222222222,
              "#7201a8"
             ],
             [
              0.3333333333333333,
              "#9c179e"
             ],
             [
              0.4444444444444444,
              "#bd3786"
             ],
             [
              0.5555555555555556,
              "#d8576b"
             ],
             [
              0.6666666666666666,
              "#ed7953"
             ],
             [
              0.7777777777777778,
              "#fb9f3a"
             ],
             [
              0.8888888888888888,
              "#fdca26"
             ],
             [
              1,
              "#f0f921"
             ]
            ],
            "type": "heatmapgl"
           }
          ],
          "histogram": [
           {
            "marker": {
             "pattern": {
              "fillmode": "overlay",
              "size": 10,
              "solidity": 0.2
             }
            },
            "type": "histogram"
           }
          ],
          "histogram2d": [
           {
            "colorbar": {
             "outlinewidth": 0,
             "ticks": ""
            },
            "colorscale": [
             [
              0,
              "#0d0887"
             ],
             [
              0.1111111111111111,
              "#46039f"
             ],
             [
              0.2222222222222222,
              "#7201a8"
             ],
             [
              0.3333333333333333,
              "#9c179e"
             ],
             [
              0.4444444444444444,
              "#bd3786"
             ],
             [
              0.5555555555555556,
              "#d8576b"
             ],
             [
              0.6666666666666666,
              "#ed7953"
             ],
             [
              0.7777777777777778,
              "#fb9f3a"
             ],
             [
              0.8888888888888888,
              "#fdca26"
             ],
             [
              1,
              "#f0f921"
             ]
            ],
            "type": "histogram2d"
           }
          ],
          "histogram2dcontour": [
           {
            "colorbar": {
             "outlinewidth": 0,
             "ticks": ""
            },
            "colorscale": [
             [
              0,
              "#0d0887"
             ],
             [
              0.1111111111111111,
              "#46039f"
             ],
             [
              0.2222222222222222,
              "#7201a8"
             ],
             [
              0.3333333333333333,
              "#9c179e"
             ],
             [
              0.4444444444444444,
              "#bd3786"
             ],
             [
              0.5555555555555556,
              "#d8576b"
             ],
             [
              0.6666666666666666,
              "#ed7953"
             ],
             [
              0.7777777777777778,
              "#fb9f3a"
             ],
             [
              0.8888888888888888,
              "#fdca26"
             ],
             [
              1,
              "#f0f921"
             ]
            ],
            "type": "histogram2dcontour"
           }
          ],
          "mesh3d": [
           {
            "colorbar": {
             "outlinewidth": 0,
             "ticks": ""
            },
            "type": "mesh3d"
           }
          ],
          "parcoords": [
           {
            "line": {
             "colorbar": {
              "outlinewidth": 0,
              "ticks": ""
             }
            },
            "type": "parcoords"
           }
          ],
          "pie": [
           {
            "automargin": true,
            "type": "pie"
           }
          ],
          "scatter": [
           {
            "marker": {
             "colorbar": {
              "outlinewidth": 0,
              "ticks": ""
             }
            },
            "type": "scatter"
           }
          ],
          "scatter3d": [
           {
            "line": {
             "colorbar": {
              "outlinewidth": 0,
              "ticks": ""
             }
            },
            "marker": {
             "colorbar": {
              "outlinewidth": 0,
              "ticks": ""
             }
            },
            "type": "scatter3d"
           }
          ],
          "scattercarpet": [
           {
            "marker": {
             "colorbar": {
              "outlinewidth": 0,
              "ticks": ""
             }
            },
            "type": "scattercarpet"
           }
          ],
          "scattergeo": [
           {
            "marker": {
             "colorbar": {
              "outlinewidth": 0,
              "ticks": ""
             }
            },
            "type": "scattergeo"
           }
          ],
          "scattergl": [
           {
            "marker": {
             "colorbar": {
              "outlinewidth": 0,
              "ticks": ""
             }
            },
            "type": "scattergl"
           }
          ],
          "scattermapbox": [
           {
            "marker": {
             "colorbar": {
              "outlinewidth": 0,
              "ticks": ""
             }
            },
            "type": "scattermapbox"
           }
          ],
          "scatterpolar": [
           {
            "marker": {
             "colorbar": {
              "outlinewidth": 0,
              "ticks": ""
             }
            },
            "type": "scatterpolar"
           }
          ],
          "scatterpolargl": [
           {
            "marker": {
             "colorbar": {
              "outlinewidth": 0,
              "ticks": ""
             }
            },
            "type": "scatterpolargl"
           }
          ],
          "scatterternary": [
           {
            "marker": {
             "colorbar": {
              "outlinewidth": 0,
              "ticks": ""
             }
            },
            "type": "scatterternary"
           }
          ],
          "surface": [
           {
            "colorbar": {
             "outlinewidth": 0,
             "ticks": ""
            },
            "colorscale": [
             [
              0,
              "#0d0887"
             ],
             [
              0.1111111111111111,
              "#46039f"
             ],
             [
              0.2222222222222222,
              "#7201a8"
             ],
             [
              0.3333333333333333,
              "#9c179e"
             ],
             [
              0.4444444444444444,
              "#bd3786"
             ],
             [
              0.5555555555555556,
              "#d8576b"
             ],
             [
              0.6666666666666666,
              "#ed7953"
             ],
             [
              0.7777777777777778,
              "#fb9f3a"
             ],
             [
              0.8888888888888888,
              "#fdca26"
             ],
             [
              1,
              "#f0f921"
             ]
            ],
            "type": "surface"
           }
          ],
          "table": [
           {
            "cells": {
             "fill": {
              "color": "#EBF0F8"
             },
             "line": {
              "color": "white"
             }
            },
            "header": {
             "fill": {
              "color": "#C8D4E3"
             },
             "line": {
              "color": "white"
             }
            },
            "type": "table"
           }
          ]
         },
         "layout": {
          "annotationdefaults": {
           "arrowcolor": "#2a3f5f",
           "arrowhead": 0,
           "arrowwidth": 1
          },
          "autotypenumbers": "strict",
          "coloraxis": {
           "colorbar": {
            "outlinewidth": 0,
            "ticks": ""
           }
          },
          "colorscale": {
           "diverging": [
            [
             0,
             "#8e0152"
            ],
            [
             0.1,
             "#c51b7d"
            ],
            [
             0.2,
             "#de77ae"
            ],
            [
             0.3,
             "#f1b6da"
            ],
            [
             0.4,
             "#fde0ef"
            ],
            [
             0.5,
             "#f7f7f7"
            ],
            [
             0.6,
             "#e6f5d0"
            ],
            [
             0.7,
             "#b8e186"
            ],
            [
             0.8,
             "#7fbc41"
            ],
            [
             0.9,
             "#4d9221"
            ],
            [
             1,
             "#276419"
            ]
           ],
           "sequential": [
            [
             0,
             "#0d0887"
            ],
            [
             0.1111111111111111,
             "#46039f"
            ],
            [
             0.2222222222222222,
             "#7201a8"
            ],
            [
             0.3333333333333333,
             "#9c179e"
            ],
            [
             0.4444444444444444,
             "#bd3786"
            ],
            [
             0.5555555555555556,
             "#d8576b"
            ],
            [
             0.6666666666666666,
             "#ed7953"
            ],
            [
             0.7777777777777778,
             "#fb9f3a"
            ],
            [
             0.8888888888888888,
             "#fdca26"
            ],
            [
             1,
             "#f0f921"
            ]
           ],
           "sequentialminus": [
            [
             0,
             "#0d0887"
            ],
            [
             0.1111111111111111,
             "#46039f"
            ],
            [
             0.2222222222222222,
             "#7201a8"
            ],
            [
             0.3333333333333333,
             "#9c179e"
            ],
            [
             0.4444444444444444,
             "#bd3786"
            ],
            [
             0.5555555555555556,
             "#d8576b"
            ],
            [
             0.6666666666666666,
             "#ed7953"
            ],
            [
             0.7777777777777778,
             "#fb9f3a"
            ],
            [
             0.8888888888888888,
             "#fdca26"
            ],
            [
             1,
             "#f0f921"
            ]
           ]
          },
          "colorway": [
           "#636efa",
           "#EF553B",
           "#00cc96",
           "#ab63fa",
           "#FFA15A",
           "#19d3f3",
           "#FF6692",
           "#B6E880",
           "#FF97FF",
           "#FECB52"
          ],
          "font": {
           "color": "#2a3f5f"
          },
          "geo": {
           "bgcolor": "white",
           "lakecolor": "white",
           "landcolor": "#E5ECF6",
           "showlakes": true,
           "showland": true,
           "subunitcolor": "white"
          },
          "hoverlabel": {
           "align": "left"
          },
          "hovermode": "closest",
          "mapbox": {
           "style": "light"
          },
          "paper_bgcolor": "white",
          "plot_bgcolor": "#E5ECF6",
          "polar": {
           "angularaxis": {
            "gridcolor": "white",
            "linecolor": "white",
            "ticks": ""
           },
           "bgcolor": "#E5ECF6",
           "radialaxis": {
            "gridcolor": "white",
            "linecolor": "white",
            "ticks": ""
           }
          },
          "scene": {
           "xaxis": {
            "backgroundcolor": "#E5ECF6",
            "gridcolor": "white",
            "gridwidth": 2,
            "linecolor": "white",
            "showbackground": true,
            "ticks": "",
            "zerolinecolor": "white"
           },
           "yaxis": {
            "backgroundcolor": "#E5ECF6",
            "gridcolor": "white",
            "gridwidth": 2,
            "linecolor": "white",
            "showbackground": true,
            "ticks": "",
            "zerolinecolor": "white"
           },
           "zaxis": {
            "backgroundcolor": "#E5ECF6",
            "gridcolor": "white",
            "gridwidth": 2,
            "linecolor": "white",
            "showbackground": true,
            "ticks": "",
            "zerolinecolor": "white"
           }
          },
          "shapedefaults": {
           "line": {
            "color": "#2a3f5f"
           }
          },
          "ternary": {
           "aaxis": {
            "gridcolor": "white",
            "linecolor": "white",
            "ticks": ""
           },
           "baxis": {
            "gridcolor": "white",
            "linecolor": "white",
            "ticks": ""
           },
           "bgcolor": "#E5ECF6",
           "caxis": {
            "gridcolor": "white",
            "linecolor": "white",
            "ticks": ""
           }
          },
          "title": {
           "x": 0.05
          },
          "xaxis": {
           "automargin": true,
           "gridcolor": "white",
           "linecolor": "white",
           "ticks": "",
           "title": {
            "standoff": 15
           },
           "zerolinecolor": "white",
           "zerolinewidth": 2
          },
          "yaxis": {
           "automargin": true,
           "gridcolor": "white",
           "linecolor": "white",
           "ticks": "",
           "title": {
            "standoff": 15
           },
           "zerolinecolor": "white",
           "zerolinewidth": 2
          }
         }
        },
        "title": {
         "text": "Countries centrality"
        }
       }
      },
      "text/html": [
       "<div>                            <div id=\"365ab819-5ded-40ed-9d19-6b1cd482c1c3\" class=\"plotly-graph-div\" style=\"height:525px; width:100%;\"></div>            <script type=\"text/javascript\">                require([\"plotly\"], function(Plotly) {                    window.PLOTLYENV=window.PLOTLYENV || {};                                    if (document.getElementById(\"365ab819-5ded-40ed-9d19-6b1cd482c1c3\")) {                    Plotly.newPlot(                        \"365ab819-5ded-40ed-9d19-6b1cd482c1c3\",                        [{\"autocolorscale\":false,\"colorbar\":{\"tickprefix\":\"\",\"title\":{\"text\":\"centrality\"}},\"colorscale\":[[0.0,\"#30123b\"],[0.07142857142857142,\"#4145ab\"],[0.14285714285714285,\"#4675ed\"],[0.21428571428571427,\"#39a2fc\"],[0.2857142857142857,\"#1bcfd4\"],[0.35714285714285715,\"#24eca6\"],[0.42857142857142855,\"#61fc6c\"],[0.5,\"#a4fc3b\"],[0.5714285714285714,\"#d1e834\"],[0.6428571428571429,\"#f3c63a\"],[0.7142857142857143,\"#fe9b2d\"],[0.7857142857142857,\"#f36315\"],[0.8571428571428571,\"#d93806\"],[0.9285714285714286,\"#b11901\"],[1.0,\"#7a0402\"]],\"locations\":[\"USA\",\"GBR\",\"NOR\",\"DEU\",\"MEX\",\"CAN\",\"RUS\",\"ITA\",\"FRA\",\"ZAF\",\"JPN\",\"IND\",\"NLD\",\"ESP\",\"ISL\",\"EGY\",\"GRC\",\"AUS\",\"DNK\",\"IRL\",\"IRQ\",\"KEN\",\"SWE\",\"NZL\",\"BRA\",\"AUT\",\"ARG\",\"TUR\",\"BEL\",\"POL\",\"PRI\",\"BOL\",\"ETH\",\"ZWE\",\"PRT\",\"PER\",\"DZA\",\"GRL\",\"PAK\",\"ECU\",\"RWA\",\"CHE\",\"FIN\",\"MLI\",\"MDG\",\"VNM\",\"IDN\",\"NPL\",\"IRN\",\"VAT\",\"CZE\",\"NGA\",\"SDN\",\"CHL\",\"CUB\",\"CHN\",\"ISR\",\"KWT\",\"MAR\",\"UKR\",\"ROU\",\"TCD\",\"HKG\",\"PHL\",\"TZA\",\"KAZ\",\"BIH\",\"LUX\",\"HUN\",\"SOM\",\"GIN\",\"GHA\",\"PRK\",\"ESH\",\"MYS\",\"COL\",\"MCO\",\"SAU\",\"MKD\",\"UZB\",\"JAM\",\"ZMB\",\"MWI\",\"NER\",\"GEO\",\"JOR\",\"TWN\",\"TKM\",\"URY\",\"BGR\",\"LBY\",\"CIV\",\"MOZ\",\"GAB\",\"KOR\",\"CRI\",\"GTM\",\"LKA\",\"AFG\",\"BLR\",\"BFA\",\"UGA\",\"GMB\",\"SLE\",\"LBR\",\"BMU\",\"PRY\",\"VEN\",\"CYP\",\"PAN\",\"SVK\",\"BWA\",\"ALB\",\"THA\",\"GUF\",\"MMR\",\"BGD\",\"BHS\",\"DOM\",\"HTI\",\"SVN\",\"MDA\",\"AZE\",\"MUS\",\"SLB\",\"TGO\",\"BEN\",\"LSO\",\"TUN\",\"KHM\",\"BTN\",\"BRB\",\"FLK\",\"BLZ\",\"GUY\",\"LVA\",\"QAT\",\"KGZ\",\"LAO\",\"EST\",\"PNG\",\"SLV\",\"SYR\",\"CMR\",\"HRV\",\"MSR\",\"DMA\",\"TTO\",\"BDI\",\"YEM\",\"SGP\",\"WSM\",\"COK\",\"MNE\",\"SMR\",\"NAM\",\"LTU\",\"LBN\",\"NIC\",\"CAF\",\"SWZ\",\"HND\",\"AGO\",\"GUM\",\"FSM\",\"TCA\",\"ARM\",\"PSE\",\"MLT\",\"MRT\",\"LIE\",\"SHN\",\"GNQ\",\"SEN\",\"STP\",\"GNB\",\"FJI\",\"VUT\",\"GRD\",\"ABW\",\"SUR\",\"AND\",\"TLS\",\"CCK\",\"OMN\",\"ARE\",\"GLP\",\"PYF\",\"CPV\",\"ALA\",\"CYM\",\"DJI\",\"BRN\",\"TJK\",\"ERI\",\"BHR\",\"MDV\",\"CXR\",\"MTQ\",\"ATG\",\"KNA\",\"SRB\",\"VCT\",\"TUV\",\"LCA\",\"TON\",\"REU\",\"IOT\",\"AIA\"],\"marker\":{\"line\":{\"color\":\"darkgray\",\"width\":0.5}},\"reversescale\":false,\"text\":[\"United States\",\"United Kingdom\",\"Norway\",\"Germany\",\"Mexico\",\"Canada\",\"Russia\",\"Italy\",\"France\",\"South Africa\",\"Japan\",\"India\",\"Netherlands\",\"Spain\",\"Iceland\",\"Egypt\",\"Greece\",\"Australia\",\"Denmark\",\"Ireland\",\"Iraq\",\"Kenya\",\"Sweden\",\"New Zealand\",\"Brazil\",\"Austria\",\"Argentina\",\"Turkey\",\"Belgium\",\"Poland\",\"Puerto Rico\",\"Bolivia\",\"Ethiopia\",\"Zimbabwe\",\"Portugal\",\"Peru\",\"Algeria\",\"Greenland\",\"Pakistan\",\"Ecuador\",\"Rwanda\",\"Switzerland\",\"Finland\",\"Mali\",\"Madagascar\",\"Vietnam\",\"Indonesia\",\"Nepal\",\"Iran\",\"Vatican City\",\"Czech Republic\",\"Nigeria\",\"Sudan\",\"Chile\",\"Cuba\",\"Republic of China\",\"Israel\",\"Kuwait\",\"Morocco\",\"Ukraine\",\"Romania\",\"Chad\",\"Hong Kong\",\"Philippines\",\"Tanzania\",\"Kazakhstan\",\"Bosnia and Herzegovina\",\"Luxembourg\",\"Hungary\",\"Somalia\",\"Guinea\",\"Ghana\",\"North Korea\",\"Western Sahara\",\"Malaysia\",\"Colombia\",\"Monaco\",\"Saudi Arabia\",\"Republic of Macedonia\",\"Uzbekistan\",\"Jamaica\",\"Zambia\",\"Malawi\",\"Niger\",\"Georgia %28country%29\",\"Jordan\",\"Taiwan\",\"Turkmenistan\",\"Uruguay\",\"Bulgaria\",\"Libya\",\"C%C3%B4te d%27Ivoire\",\"Mozambique\",\"Gabon\",\"South Korea\",\"Costa Rica\",\"Guatemala\",\"Sri Lanka\",\"Afghanistan\",\"Belarus\",\"Burkina Faso\",\"Uganda\",\"The Gambia\",\"Sierra Leone\",\"Liberia\",\"Bermuda\",\"Paraguay\",\"Venezuela\",\"Cyprus\",\"Panama\",\"Slovakia\",\"Botswana\",\"Albania\",\"Thailand\",\"French Guiana\",\"Myanmar\",\"Bangladesh\",\"The Bahamas\",\"Dominican Republic\",\"Haiti\",\"Slovenia\",\"Moldova\",\"Azerbaijan\",\"Mauritius\",\"Solomon Islands\",\"Togo\",\"Benin\",\"Lesotho\",\"Tunisia\",\"Cambodia\",\"Bhutan\",\"Barbados\",\"Falkland Islands\",\"Belize\",\"Guyana\",\"Latvia\",\"Qatar\",\"Kyrgyzstan\",\"Laos\",\"Estonia\",\"Papua New Guinea\",\"El Salvador\",\"Syria\",\"Cameroon\",\"Croatia\",\"Montserrat\",\"Dominica\",\"Trinidad and Tobago\",\"Burundi\",\"Yemen\",\"Singapore\",\"Samoa\",\"Cook Islands\",\"Montenegro\",\"San Marino\",\"Namibia\",\"Lithuania\",\"Lebanon\",\"Nicaragua\",\"Central African Republic\",\"Swaziland\",\"Honduras\",\"Angola\",\"Guam\",\"Federated States of Micronesia\",\"Turks and Caicos Islands\",\"Armenia\",\"Palestinian territories\",\"Malta\",\"Mauritania\",\"Liechtenstein\",\"Saint Helena\",\"Equatorial Guinea\",\"Senegal\",\"S%C3%A3o Tom%C3%A9 and Pr%C3%ADncipe\",\"Guinea-Bissau\",\"Fiji\",\"Vanuatu\",\"Grenada\",\"Aruba\",\"Suriname\",\"Andorra\",\"East Timor\",\"Cocos %28Keeling%29 Islands\",\"Oman\",\"Dubai\",\"Guadeloupe\",\"French Polynesia\",\"Cape Verde\",\"%C3%85land\",\"Cayman Islands\",\"Djibouti\",\"Brunei\",\"Tajikistan\",\"Eritrea\",\"Bahrain\",\"Maldives\",\"Christmas Island\",\"Martinique\",\"Antigua and Barbuda\",\"Saint Kitts and Nevis\",\"Serbia and Montenegro\",\"Saint Vincent and the Grenadines\",\"Tuvalu\",\"Saint Lucia\",\"Tonga\",\"R%C3%A9union\",\"British Indian Ocean Territory\",\"Anguilla\"],\"z\":[2.5728956090387087,2.5584408848876543,2.5309077495183567,2.5291786407040373,2.501755046473508,2.4984741740764784,2.495679050960056,2.4859463416457075,2.480526503013924,2.473290180330257,2.4525325840383223,2.4465883607666776,2.4457507641785305,2.427657712509149,2.4239808852640774,2.4204427235597517,2.4113220623797984,2.3938179829763695,2.3909631294549256,2.3855525405271973,2.3823036083902163,2.381373357985879,2.3747283942079336,2.2929437976015064,2.2929089494638557,2.280721128504623,2.2764568336230773,2.2730562375445986,2.2592331043493292,2.2591101699450227,2.2512455867814585,2.217724803211803,2.2150062994896813,2.1965055240103304,2.191662364201476,2.19132885692129,2.1803356890036163,2.179523210867179,2.1394062260526723,2.1393788905171003,2.129291018308516,2.114633667001717,2.1129647230770767,2.1008810141645706,2.100776948933377,2.0949813385033096,2.0947690373047836,2.0935896773575102,2.0884987897805716,2.087621936022957,2.0787648147095488,2.0678078127002886,2.067456018974901,2.0645107692105555,2.0481400429448993,2.0274290664044883,2.0189281294654906,2.013274029043711,2.006975756032683,1.9974100224624,1.9952415392065204,1.9846988778740868,1.9746490036271738,1.966655920702063,1.9577449476644886,1.953907421944594,1.9411363072766874,1.941033818256432,1.940977855408591,1.93169307384151,1.9314798120320842,1.9311201969776386,1.930538130109511,1.9279238348157377,1.9275637604410352,1.9012888363762943,1.8935090294854442,1.8871108743666074,1.8760283674526452,1.8740327861004404,1.8684472524447755,1.8673179323685636,1.8671893030381428,1.8669075006486733,1.8396123267002649,1.835924412777298,1.815393977793612,1.8131600573558482,1.8086131655853168,1.7957455376692526,1.7910585047103138,1.7879230715217518,1.7874326905162679,1.7873182630740887,1.7828195843158143,1.7659185645534408,1.7656009146703548,1.73881534122332,1.7313931039449482,1.6944512789029358,1.6870467724492169,1.6869549842849145,1.686937539230741,1.6868826871072466,1.6866577258176207,1.6842002779446514,1.6635927202387022,1.6402111716664376,1.6214055059833912,1.5711026256379153,1.5619400001504384,1.5561995151618073,1.5555519534554973,1.5525755028414532,1.5357302833013529,1.5178529183931784,1.5177795375682128,1.4885303692053793,1.4833305060355697,1.4833012911782208,1.461280533646115,1.3818767035818973,1.37788709091163,1.3776978370837483,1.377369287753351,1.3772139812869382,1.3771115750109921,1.3769945667156538,1.3769342277900651,1.376099811664324,1.3739613064751672,1.3701668395356905,1.3701276201991923,1.363938809312009,1.3615167394792533,1.3603590105656116,1.3524183256762057,1.3453796362182888,1.3306757729886851,1.3279001015093168,1.2338258424760966,1.2252510479580907,1.1257455555989182,1.1250317060656578,1.1231643133168365,1.1221906521321863,1.1208478198970362,1.1205767217530325,1.1197553318656703,1.1196643909928696,1.1152541715914988,1.1139903759367102,1.1139543251685275,1.1088614761225097,1.1086049166029086,1.1067809842897973,1.1004684899389092,1.0919545581892593,1.0710812316806555,1.0585610226856152,1.0583852611916238,1.0275495826142447,1.0179636151040123,0.9917197290973407,0.8712709760433903,0.8532605914521485,0.8352141549209956,0.7524397951171725,0.7211687894506165,0.7203218462491013,0.7191060898323692,0.7181243618991391,0.7178935048232148,0.7178664949015667,0.7177737004993962,0.71741097221458,0.715447152881476,0.7152878557766852,0.714012818259555,0.7133645278957644,0.7125627561317047,0.7123618873853511,0.7093189934721488,0.7052479611711872,0.7043554736318342,0.7008495677127059,0.6959582073743225,0.6955113068316169,0.6917675830373122,0.6785580402478735,0.6716712580282991,0.65867850013373,0.6581621162492064,0.6509651308586916,0.6413738264176083,0.6142160310484334,0.0004828585224529213,0.00024142926122646064,0.00024142926122646064,0.00024142926122646064,0.0,0.0,0.0,0.0,0.0,0.0,0.0,0.0,0.0],\"type\":\"choropleth\"}],                        {\"template\":{\"data\":{\"bar\":[{\"error_x\":{\"color\":\"#2a3f5f\"},\"error_y\":{\"color\":\"#2a3f5f\"},\"marker\":{\"line\":{\"color\":\"#E5ECF6\",\"width\":0.5},\"pattern\":{\"fillmode\":\"overlay\",\"size\":10,\"solidity\":0.2}},\"type\":\"bar\"}],\"barpolar\":[{\"marker\":{\"line\":{\"color\":\"#E5ECF6\",\"width\":0.5},\"pattern\":{\"fillmode\":\"overlay\",\"size\":10,\"solidity\":0.2}},\"type\":\"barpolar\"}],\"carpet\":[{\"aaxis\":{\"endlinecolor\":\"#2a3f5f\",\"gridcolor\":\"white\",\"linecolor\":\"white\",\"minorgridcolor\":\"white\",\"startlinecolor\":\"#2a3f5f\"},\"baxis\":{\"endlinecolor\":\"#2a3f5f\",\"gridcolor\":\"white\",\"linecolor\":\"white\",\"minorgridcolor\":\"white\",\"startlinecolor\":\"#2a3f5f\"},\"type\":\"carpet\"}],\"choropleth\":[{\"colorbar\":{\"outlinewidth\":0,\"ticks\":\"\"},\"type\":\"choropleth\"}],\"contour\":[{\"colorbar\":{\"outlinewidth\":0,\"ticks\":\"\"},\"colorscale\":[[0.0,\"#0d0887\"],[0.1111111111111111,\"#46039f\"],[0.2222222222222222,\"#7201a8\"],[0.3333333333333333,\"#9c179e\"],[0.4444444444444444,\"#bd3786\"],[0.5555555555555556,\"#d8576b\"],[0.6666666666666666,\"#ed7953\"],[0.7777777777777778,\"#fb9f3a\"],[0.8888888888888888,\"#fdca26\"],[1.0,\"#f0f921\"]],\"type\":\"contour\"}],\"contourcarpet\":[{\"colorbar\":{\"outlinewidth\":0,\"ticks\":\"\"},\"type\":\"contourcarpet\"}],\"heatmap\":[{\"colorbar\":{\"outlinewidth\":0,\"ticks\":\"\"},\"colorscale\":[[0.0,\"#0d0887\"],[0.1111111111111111,\"#46039f\"],[0.2222222222222222,\"#7201a8\"],[0.3333333333333333,\"#9c179e\"],[0.4444444444444444,\"#bd3786\"],[0.5555555555555556,\"#d8576b\"],[0.6666666666666666,\"#ed7953\"],[0.7777777777777778,\"#fb9f3a\"],[0.8888888888888888,\"#fdca26\"],[1.0,\"#f0f921\"]],\"type\":\"heatmap\"}],\"heatmapgl\":[{\"colorbar\":{\"outlinewidth\":0,\"ticks\":\"\"},\"colorscale\":[[0.0,\"#0d0887\"],[0.1111111111111111,\"#46039f\"],[0.2222222222222222,\"#7201a8\"],[0.3333333333333333,\"#9c179e\"],[0.4444444444444444,\"#bd3786\"],[0.5555555555555556,\"#d8576b\"],[0.6666666666666666,\"#ed7953\"],[0.7777777777777778,\"#fb9f3a\"],[0.8888888888888888,\"#fdca26\"],[1.0,\"#f0f921\"]],\"type\":\"heatmapgl\"}],\"histogram\":[{\"marker\":{\"pattern\":{\"fillmode\":\"overlay\",\"size\":10,\"solidity\":0.2}},\"type\":\"histogram\"}],\"histogram2d\":[{\"colorbar\":{\"outlinewidth\":0,\"ticks\":\"\"},\"colorscale\":[[0.0,\"#0d0887\"],[0.1111111111111111,\"#46039f\"],[0.2222222222222222,\"#7201a8\"],[0.3333333333333333,\"#9c179e\"],[0.4444444444444444,\"#bd3786\"],[0.5555555555555556,\"#d8576b\"],[0.6666666666666666,\"#ed7953\"],[0.7777777777777778,\"#fb9f3a\"],[0.8888888888888888,\"#fdca26\"],[1.0,\"#f0f921\"]],\"type\":\"histogram2d\"}],\"histogram2dcontour\":[{\"colorbar\":{\"outlinewidth\":0,\"ticks\":\"\"},\"colorscale\":[[0.0,\"#0d0887\"],[0.1111111111111111,\"#46039f\"],[0.2222222222222222,\"#7201a8\"],[0.3333333333333333,\"#9c179e\"],[0.4444444444444444,\"#bd3786\"],[0.5555555555555556,\"#d8576b\"],[0.6666666666666666,\"#ed7953\"],[0.7777777777777778,\"#fb9f3a\"],[0.8888888888888888,\"#fdca26\"],[1.0,\"#f0f921\"]],\"type\":\"histogram2dcontour\"}],\"mesh3d\":[{\"colorbar\":{\"outlinewidth\":0,\"ticks\":\"\"},\"type\":\"mesh3d\"}],\"parcoords\":[{\"line\":{\"colorbar\":{\"outlinewidth\":0,\"ticks\":\"\"}},\"type\":\"parcoords\"}],\"pie\":[{\"automargin\":true,\"type\":\"pie\"}],\"scatter\":[{\"marker\":{\"colorbar\":{\"outlinewidth\":0,\"ticks\":\"\"}},\"type\":\"scatter\"}],\"scatter3d\":[{\"line\":{\"colorbar\":{\"outlinewidth\":0,\"ticks\":\"\"}},\"marker\":{\"colorbar\":{\"outlinewidth\":0,\"ticks\":\"\"}},\"type\":\"scatter3d\"}],\"scattercarpet\":[{\"marker\":{\"colorbar\":{\"outlinewidth\":0,\"ticks\":\"\"}},\"type\":\"scattercarpet\"}],\"scattergeo\":[{\"marker\":{\"colorbar\":{\"outlinewidth\":0,\"ticks\":\"\"}},\"type\":\"scattergeo\"}],\"scattergl\":[{\"marker\":{\"colorbar\":{\"outlinewidth\":0,\"ticks\":\"\"}},\"type\":\"scattergl\"}],\"scattermapbox\":[{\"marker\":{\"colorbar\":{\"outlinewidth\":0,\"ticks\":\"\"}},\"type\":\"scattermapbox\"}],\"scatterpolar\":[{\"marker\":{\"colorbar\":{\"outlinewidth\":0,\"ticks\":\"\"}},\"type\":\"scatterpolar\"}],\"scatterpolargl\":[{\"marker\":{\"colorbar\":{\"outlinewidth\":0,\"ticks\":\"\"}},\"type\":\"scatterpolargl\"}],\"scatterternary\":[{\"marker\":{\"colorbar\":{\"outlinewidth\":0,\"ticks\":\"\"}},\"type\":\"scatterternary\"}],\"surface\":[{\"colorbar\":{\"outlinewidth\":0,\"ticks\":\"\"},\"colorscale\":[[0.0,\"#0d0887\"],[0.1111111111111111,\"#46039f\"],[0.2222222222222222,\"#7201a8\"],[0.3333333333333333,\"#9c179e\"],[0.4444444444444444,\"#bd3786\"],[0.5555555555555556,\"#d8576b\"],[0.6666666666666666,\"#ed7953\"],[0.7777777777777778,\"#fb9f3a\"],[0.8888888888888888,\"#fdca26\"],[1.0,\"#f0f921\"]],\"type\":\"surface\"}],\"table\":[{\"cells\":{\"fill\":{\"color\":\"#EBF0F8\"},\"line\":{\"color\":\"white\"}},\"header\":{\"fill\":{\"color\":\"#C8D4E3\"},\"line\":{\"color\":\"white\"}},\"type\":\"table\"}]},\"layout\":{\"annotationdefaults\":{\"arrowcolor\":\"#2a3f5f\",\"arrowhead\":0,\"arrowwidth\":1},\"autotypenumbers\":\"strict\",\"coloraxis\":{\"colorbar\":{\"outlinewidth\":0,\"ticks\":\"\"}},\"colorscale\":{\"diverging\":[[0,\"#8e0152\"],[0.1,\"#c51b7d\"],[0.2,\"#de77ae\"],[0.3,\"#f1b6da\"],[0.4,\"#fde0ef\"],[0.5,\"#f7f7f7\"],[0.6,\"#e6f5d0\"],[0.7,\"#b8e186\"],[0.8,\"#7fbc41\"],[0.9,\"#4d9221\"],[1,\"#276419\"]],\"sequential\":[[0.0,\"#0d0887\"],[0.1111111111111111,\"#46039f\"],[0.2222222222222222,\"#7201a8\"],[0.3333333333333333,\"#9c179e\"],[0.4444444444444444,\"#bd3786\"],[0.5555555555555556,\"#d8576b\"],[0.6666666666666666,\"#ed7953\"],[0.7777777777777778,\"#fb9f3a\"],[0.8888888888888888,\"#fdca26\"],[1.0,\"#f0f921\"]],\"sequentialminus\":[[0.0,\"#0d0887\"],[0.1111111111111111,\"#46039f\"],[0.2222222222222222,\"#7201a8\"],[0.3333333333333333,\"#9c179e\"],[0.4444444444444444,\"#bd3786\"],[0.5555555555555556,\"#d8576b\"],[0.6666666666666666,\"#ed7953\"],[0.7777777777777778,\"#fb9f3a\"],[0.8888888888888888,\"#fdca26\"],[1.0,\"#f0f921\"]]},\"colorway\":[\"#636efa\",\"#EF553B\",\"#00cc96\",\"#ab63fa\",\"#FFA15A\",\"#19d3f3\",\"#FF6692\",\"#B6E880\",\"#FF97FF\",\"#FECB52\"],\"font\":{\"color\":\"#2a3f5f\"},\"geo\":{\"bgcolor\":\"white\",\"lakecolor\":\"white\",\"landcolor\":\"#E5ECF6\",\"showlakes\":true,\"showland\":true,\"subunitcolor\":\"white\"},\"hoverlabel\":{\"align\":\"left\"},\"hovermode\":\"closest\",\"mapbox\":{\"style\":\"light\"},\"paper_bgcolor\":\"white\",\"plot_bgcolor\":\"#E5ECF6\",\"polar\":{\"angularaxis\":{\"gridcolor\":\"white\",\"linecolor\":\"white\",\"ticks\":\"\"},\"bgcolor\":\"#E5ECF6\",\"radialaxis\":{\"gridcolor\":\"white\",\"linecolor\":\"white\",\"ticks\":\"\"}},\"scene\":{\"xaxis\":{\"backgroundcolor\":\"#E5ECF6\",\"gridcolor\":\"white\",\"gridwidth\":2,\"linecolor\":\"white\",\"showbackground\":true,\"ticks\":\"\",\"zerolinecolor\":\"white\"},\"yaxis\":{\"backgroundcolor\":\"#E5ECF6\",\"gridcolor\":\"white\",\"gridwidth\":2,\"linecolor\":\"white\",\"showbackground\":true,\"ticks\":\"\",\"zerolinecolor\":\"white\"},\"zaxis\":{\"backgroundcolor\":\"#E5ECF6\",\"gridcolor\":\"white\",\"gridwidth\":2,\"linecolor\":\"white\",\"showbackground\":true,\"ticks\":\"\",\"zerolinecolor\":\"white\"}},\"shapedefaults\":{\"line\":{\"color\":\"#2a3f5f\"}},\"ternary\":{\"aaxis\":{\"gridcolor\":\"white\",\"linecolor\":\"white\",\"ticks\":\"\"},\"baxis\":{\"gridcolor\":\"white\",\"linecolor\":\"white\",\"ticks\":\"\"},\"bgcolor\":\"#E5ECF6\",\"caxis\":{\"gridcolor\":\"white\",\"linecolor\":\"white\",\"ticks\":\"\"}},\"title\":{\"x\":0.05},\"xaxis\":{\"automargin\":true,\"gridcolor\":\"white\",\"linecolor\":\"white\",\"ticks\":\"\",\"title\":{\"standoff\":15},\"zerolinecolor\":\"white\",\"zerolinewidth\":2},\"yaxis\":{\"automargin\":true,\"gridcolor\":\"white\",\"linecolor\":\"white\",\"ticks\":\"\",\"title\":{\"standoff\":15},\"zerolinecolor\":\"white\",\"zerolinewidth\":2}}},\"title\":{\"text\":\"Countries centrality\"},\"geo\":{\"projection\":{\"type\":\"equirectangular\"},\"showframe\":false,\"showcoastlines\":false}},                        {\"responsive\": true}                    ).then(function(){\n",
       "                            \n",
       "var gd = document.getElementById('365ab819-5ded-40ed-9d19-6b1cd482c1c3');\n",
       "var x = new MutationObserver(function (mutations, observer) {{\n",
       "        var display = window.getComputedStyle(gd).display;\n",
       "        if (!display || display === 'none') {{\n",
       "            console.log([gd, 'removed!']);\n",
       "            Plotly.purge(gd);\n",
       "            observer.disconnect();\n",
       "        }}\n",
       "}});\n",
       "\n",
       "// Listen for the removal of the full notebook cells\n",
       "var notebookContainer = gd.closest('#notebook-container');\n",
       "if (notebookContainer) {{\n",
       "    x.observe(notebookContainer, {childList: true});\n",
       "}}\n",
       "\n",
       "// Listen for the clearing of the current output cell\n",
       "var outputEl = gd.closest('.output');\n",
       "if (outputEl) {{\n",
       "    x.observe(outputEl, {childList: true});\n",
       "}}\n",
       "\n",
       "                        })                };                });            </script>        </div>"
      ]
     },
     "metadata": {},
     "output_type": "display_data"
    }
   ],
   "source": [
    "fig = go.Figure(data=go.Choropleth(\n",
    "    locations = countries['iso3'],\n",
    "    z = countries['centrality'],\n",
    "    text = countries['country'],\n",
    "    colorscale = 'turbo',\n",
    "    autocolorscale=False,\n",
    "    reversescale=False,\n",
    "    marker_line_color='darkgray',\n",
    "    marker_line_width=0.5,\n",
    "    colorbar_tickprefix = '',\n",
    "    colorbar_title = 'centrality',\n",
    "))\n",
    "\n",
    "fig.update_layout(\n",
    "    title_text='Countries centrality',\n",
    "    geo=dict(\n",
    "        showframe=False,\n",
    "        showcoastlines=False,\n",
    "        projection_type='equirectangular'\n",
    "    )\n",
    ")\n",
    "\n",
    "fig.show()"
   ]
  },
  {
   "cell_type": "markdown",
   "id": "7858f8a8",
   "metadata": {},
   "source": [
    "To increase the readability and understanding, we could transform the centrality into a score ranging from 1 to 10. However, it is interesting to check if the distribution fo the centralities is heavy tailed or follows a known distribution, in order to adapt the normalization and the scaling. To this end, we start by visualizing the distribution of the centralities via a histogram and a box-plot."
   ]
  },
  {
   "cell_type": "code",
   "execution_count": 133,
   "id": "0f0ada13",
   "metadata": {},
   "outputs": [
    {
     "data": {
      "text/plain": [
       "Text(0.5, 1.0, 'Distribution of centralities')"
      ]
     },
     "execution_count": 133,
     "metadata": {},
     "output_type": "execute_result"
    },
    {
     "data": {
      "image/png": "[encoded data removed]",
      "text/plain": [
       "<Figure size 432x288 with 1 Axes>"
      ]
     },
     "metadata": {
      "needs_background": "light"
     },
     "output_type": "display_data"
    }
   ],
   "source": [
    "countries['centrality'].hist(bins = 15)\n",
    "plt.xlabel('Centrality score')\n",
    "plt.ylabel('Absolute frequency of centrality')\n",
    "plt.title('Distribution of centralities')"
   ]
  },
  {
   "cell_type": "code",
   "execution_count": 134,
   "id": "3a71a20c",
   "metadata": {},
   "outputs": [
    {
     "data": {
      "text/plain": [
       "count    209.000000\n",
       "mean       1.526399\n",
       "std        0.678176\n",
       "min        0.000000\n",
       "25%        1.100468\n",
       "50%        1.686658\n",
       "75%        2.067456\n",
       "max        2.572896\n",
       "Name: centrality, dtype: float64"
      ]
     },
     "execution_count": 134,
     "metadata": {},
     "output_type": "execute_result"
    }
   ],
   "source": [
    "countries['centrality'].describe()"
   ]
  },
  {
   "cell_type": "code",
   "execution_count": 36,
   "id": "81fdf1f7",
   "metadata": {},
   "outputs": [
    {
     "data": {
      "image/png": "[encoded data removed]",
      "text/plain": [
       "<Figure size 432x288 with 1 Axes>"
      ]
     },
     "metadata": {
      "needs_background": "light"
     },
     "output_type": "display_data"
    }
   ],
   "source": [
    "plt.boxplot(countries['centrality'])\n",
    "plt.xticks([])\n",
    "plt.ylabel('Centrality score')\n",
    "plt.title('Centrality');"
   ]
  },
  {
   "cell_type": "markdown",
   "id": "35fb8f01",
   "metadata": {},
   "source": [
    "We do not recognize a typical underlying distribution. Therefore, in order to contruct a score ranging from 0 to 10 we simply scale the centralities using a min-max scale."
   ]
  },
  {
   "cell_type": "code",
   "execution_count": 37,
   "id": "0fc6507d",
   "metadata": {},
   "outputs": [],
   "source": [
    "countries['score'] = 10*(countries['centrality']-countries['centrality'].min())/(countries['centrality'].max()-countries['centrality'].min())"
   ]
  },
  {
   "cell_type": "markdown",
   "id": "07a688fe",
   "metadata": {},
   "source": [
    "Here is the final map obtained:"
   ]
  },
  {
   "cell_type": "code",
   "execution_count": 38,
   "id": "b1a17204",
   "metadata": {
    "scrolled": true
   },
   "outputs": [
    {
     "data": {
      "application/vnd.plotly.v1+json": {
       "config": {
        "plotlyServerURL": "https://plot.ly"
       },
       "data": [
        {
         "autocolorscale": false,
         "colorbar": {
          "tickprefix": "",
          "title": {
           "text": "Score"
          }
         },
         "colorscale": [
          [
           0,
           "#30123b"
          ],
          [
           0.07142857142857142,
           "#4145ab"
          ],
          [
           0.14285714285714285,
           "#4675ed"
          ],
          [
           0.21428571428571427,
           "#39a2fc"
          ],
          [
           0.2857142857142857,
           "#1bcfd4"
          ],
          [
           0.35714285714285715,
           "#24eca6"
          ],
          [
           0.42857142857142855,
           "#61fc6c"
          ],
          [
           0.5,
           "#a4fc3b"
          ],
          [
           0.5714285714285714,
           "#d1e834"
          ],
          [
           0.6428571428571429,
           "#f3c63a"
          ],
          [
           0.7142857142857143,
           "#fe9b2d"
          ],
          [
           0.7857142857142857,
           "#f36315"
          ],
          [
           0.8571428571428571,
           "#d93806"
          ],
          [
           0.9285714285714286,
           "#b11901"
          ],
          [
           1,
           "#7a0402"
          ]
         ],
         "locations": [
          "USA",
          "GBR",
          "NOR",
          "DEU",
          "MEX",
          "CAN",
          "RUS",
          "ITA",
          "FRA",
          "ZAF",
          "JPN",
          "IND",
          "NLD",
          "ESP",
          "ISL",
          "EGY",
          "GRC",
          "AUS",
          "DNK",
          "IRL",
          "IRQ",
          "KEN",
          "SWE",
          "NZL",
          "BRA",
          "AUT",
          "ARG",
          "TUR",
          "BEL",
          "POL",
          "PRI",
          "BOL",
          "ETH",
          "ZWE",
          "PRT",
          "PER",
          "DZA",
          "GRL",
          "PAK",
          "ECU",
          "RWA",
          "CHE",
          "FIN",
          "MLI",
          "MDG",
          "VNM",
          "IDN",
          "NPL",
          "IRN",
          "VAT",
          "CZE",
          "NGA",
          "SDN",
          "CHL",
          "CUB",
          "CHN",
          "ISR",
          "KWT",
          "MAR",
          "UKR",
          "ROU",
          "TCD",
          "HKG",
          "PHL",
          "TZA",
          "KAZ",
          "BIH",
          "LUX",
          "HUN",
          "SOM",
          "GIN",
          "GHA",
          "PRK",
          "ESH",
          "MYS",
          "COL",
          "MCO",
          "SAU",
          "MKD",
          "UZB",
          "JAM",
          "ZMB",
          "MWI",
          "NER",
          "GEO",
          "JOR",
          "TWN",
          "TKM",
          "URY",
          "BGR",
          "LBY",
          "CIV",
          "MOZ",
          "GAB",
          "KOR",
          "CRI",
          "GTM",
          "LKA",
          "AFG",
          "BLR",
          "BFA",
          "UGA",
          "GMB",
          "SLE",
          "LBR",
          "BMU",
          "PRY",
          "VEN",
          "CYP",
          "PAN",
          "SVK",
          "BWA",
          "ALB",
          "THA",
          "GUF",
          "MMR",
          "BGD",
          "BHS",
          "DOM",
          "HTI",
          "SVN",
          "MDA",
          "AZE",
          "MUS",
          "SLB",
          "TGO",
          "BEN",
          "LSO",
          "TUN",
          "KHM",
          "BTN",
          "BRB",
          "FLK",
          "BLZ",
          "GUY",
          "LVA",
          "QAT",
          "KGZ",
          "LAO",
          "EST",
          "PNG",
          "SLV",
          "SYR",
          "CMR",
          "HRV",
          "MSR",
          "DMA",
          "TTO",
          "BDI",
          "YEM",
          "SGP",
          "WSM",
          "COK",
          "MNE",
          "SMR",
          "NAM",
          "LTU",
          "LBN",
          "NIC",
          "CAF",
          "SWZ",
          "HND",
          "AGO",
          "GUM",
          "FSM",
          "TCA",
          "ARM",
          "PSE",
          "MLT",
          "MRT",
          "LIE",
          "SHN",
          "GNQ",
          "SEN",
          "STP",
          "GNB",
          "FJI",
          "VUT",
          "GRD",
          "ABW",
          "SUR",
          "AND",
          "TLS",
          "CCK",
          "OMN",
          "ARE",
          "GLP",
          "PYF",
          "CPV",
          "ALA",
          "CYM",
          "DJI",
          "BRN",
          "TJK",
          "ERI",
          "BHR",
          "MDV",
          "CXR",
          "MTQ",
          "ATG",
          "KNA",
          "SRB",
          "VCT",
          "TUV",
          "LCA",
          "TON",
          "REU",
          "IOT",
          "AIA"
         ],
         "marker": {
          "line": {
           "color": "grey",
           "width": 0.5
          }
         },
         "reversescale": false,
         "text": [
          "United States",
          "United Kingdom",
          "Norway",
          "Germany",
          "Mexico",
          "Canada",
          "Russia",
          "Italy",
          "France",
          "South Africa",
          "Japan",
          "India",
          "Netherlands",
          "Spain",
          "Iceland",
          "Egypt",
          "Greece",
          "Australia",
          "Denmark",
          "Ireland",
          "Iraq",
          "Kenya",
          "Sweden",
          "New Zealand",
          "Brazil",
          "Austria",
          "Argentina",
          "Turkey",
          "Belgium",
          "Poland",
          "Puerto Rico",
          "Bolivia",
          "Ethiopia",
          "Zimbabwe",
          "Portugal",
          "Peru",
          "Algeria",
          "Greenland",
          "Pakistan",
          "Ecuador",
          "Rwanda",
          "Switzerland",
          "Finland",
          "Mali",
          "Madagascar",
          "Vietnam",
          "Indonesia",
          "Nepal",
          "Iran",
          "Vatican City",
          "Czech Republic",
          "Nigeria",
          "Sudan",
          "Chile",
          "Cuba",
          "Republic of China",
          "Israel",
          "Kuwait",
          "Morocco",
          "Ukraine",
          "Romania",
          "Chad",
          "Hong Kong",
          "Philippines",
          "Tanzania",
          "Kazakhstan",
          "Bosnia and Herzegovina",
          "Luxembourg",
          "Hungary",
          "Somalia",
          "Guinea",
          "Ghana",
          "North Korea",
          "Western Sahara",
          "Malaysia",
          "Colombia",
          "Monaco",
          "Saudi Arabia",
          "Republic of Macedonia",
          "Uzbekistan",
          "Jamaica",
          "Zambia",
          "Malawi",
          "Niger",
          "Georgia %28country%29",
          "Jordan",
          "Taiwan",
          "Turkmenistan",
          "Uruguay",
          "Bulgaria",
          "Libya",
          "C%C3%B4te d%27Ivoire",
          "Mozambique",
          "Gabon",
          "South Korea",
          "Costa Rica",
          "Guatemala",
          "Sri Lanka",
          "Afghanistan",
          "Belarus",
          "Burkina Faso",
          "Uganda",
          "The Gambia",
          "Sierra Leone",
          "Liberia",
          "Bermuda",
          "Paraguay",
          "Venezuela",
          "Cyprus",
          "Panama",
          "Slovakia",
          "Botswana",
          "Albania",
          "Thailand",
          "French Guiana",
          "Myanmar",
          "Bangladesh",
          "The Bahamas",
          "Dominican Republic",
          "Haiti",
          "Slovenia",
          "Moldova",
          "Azerbaijan",
          "Mauritius",
          "Solomon Islands",
          "Togo",
          "Benin",
          "Lesotho",
          "Tunisia",
          "Cambodia",
          "Bhutan",
          "Barbados",
          "Falkland Islands",
          "Belize",
          "Guyana",
          "Latvia",
          "Qatar",
          "Kyrgyzstan",
          "Laos",
          "Estonia",
          "Papua New Guinea",
          "El Salvador",
          "Syria",
          "Cameroon",
          "Croatia",
          "Montserrat",
          "Dominica",
          "Trinidad and Tobago",
          "Burundi",
          "Yemen",
          "Singapore",
          "Samoa",
          "Cook Islands",
          "Montenegro",
          "San Marino",
          "Namibia",
          "Lithuania",
          "Lebanon",
          "Nicaragua",
          "Central African Republic",
          "Swaziland",
          "Honduras",
          "Angola",
          "Guam",
          "Federated States of Micronesia",
          "Turks and Caicos Islands",
          "Armenia",
          "Palestinian territories",
          "Malta",
          "Mauritania",
          "Liechtenstein",
          "Saint Helena",
          "Equatorial Guinea",
          "Senegal",
          "S%C3%A3o Tom%C3%A9 and Pr%C3%ADncipe",
          "Guinea-Bissau",
          "Fiji",
          "Vanuatu",
          "Grenada",
          "Aruba",
          "Suriname",
          "Andorra",
          "East Timor",
          "Cocos %28Keeling%29 Islands",
          "Oman",
          "Dubai",
          "Guadeloupe",
          "French Polynesia",
          "Cape Verde",
          "%C3%85land",
          "Cayman Islands",
          "Djibouti",
          "Brunei",
          "Tajikistan",
          "Eritrea",
          "Bahrain",
          "Maldives",
          "Christmas Island",
          "Martinique",
          "Antigua and Barbuda",
          "Saint Kitts and Nevis",
          "Serbia and Montenegro",
          "Saint Vincent and the Grenadines",
          "Tuvalu",
          "Saint Lucia",
          "Tonga",
          "R%C3%A9union",
          "British Indian Ocean Territory",
          "Anguilla"
         ],
         "type": "choropleth",
         "z": [
          10,
          9.943819235804693,
          9.836806983645793,
          9.830086505721058,
          9.723500003982748,
          9.710748330788142,
          9.6998846054718,
          9.662056761698594,
          9.64099162942994,
          9.612866420392132,
          9.532188462767222,
          9.509085219671146,
          9.505829756895258,
          9.435508008877889,
          9.421217389265673,
          9.407465717056757,
          9.37201670331554,
          9.303984097010268,
          9.292888219231884,
          9.271859037524235,
          9.259231505627616,
          9.255615927906277,
          9.229789136665303,
          8.91191927704444,
          8.911783833781495,
          8.864413777583271,
          8.847839864259447,
          8.834622864445958,
          8.780896886809291,
          8.78041908116543,
          8.749852030034651,
          8.619567756347466,
          8.609001825446223,
          8.537095388922499,
          8.518271617791482,
          8.516975384555222,
          8.474248552269241,
          8.471090716663385,
          8.31516917568219,
          8.315062931435529,
          8.275854686168424,
          8.218886376784605,
          8.212399740021041,
          8.165434333146173,
          8.165029865779413,
          8.142504231977144,
          8.141679086962396,
          8.137095302283647,
          8.117308694700137,
          8.11390065220306,
          8.079475931346558,
          8.03688966406557,
          8.035522357424167,
          8.024075139146056,
          7.96044750416489,
          7.879950742198908,
          7.846910392994168,
          7.824934762106089,
          7.80045544398334,
          7.763276580073441,
          7.754848398035035,
          7.713872536848141,
          7.674811977175191,
          7.643745489685256,
          7.609111464867966,
          7.594196263075817,
          7.544559135852151,
          7.544160794699501,
          7.543943285494524,
          7.507856389724392,
          7.507027511130652,
          7.5056298055526165,
          7.503367502853345,
          7.493206595879159,
          7.491807105074178,
          7.38968510691601,
          7.359447553307074,
          7.334580026243949,
          7.291505962628508,
          7.283749793488981,
          7.2620406590956454,
          7.257651362956912,
          7.257151423006106,
          7.25605614969428,
          7.14996877540471,
          7.135635065517643,
          7.055840009272214,
          7.047157494404856,
          7.0294852198105895,
          6.979472977297292,
          6.9612560199420335,
          6.949069621171921,
          6.94716367130065,
          6.946718929423921,
          6.929234042969646,
          6.863545331375599,
          6.862310730632491,
          6.758204006080839,
          6.729356208088968,
          6.58577547005889,
          6.556996585957622,
          6.5566398355166795,
          6.556572032322053,
          6.556358840137722,
          6.555484489507888,
          6.545933196931788,
          6.46583839000082,
          6.374961991867432,
          6.301870547282657,
          6.106359776582286,
          6.070747661363588,
          6.048436282042699,
          6.045919422423385,
          6.034350936692414,
          5.9688791022311865,
          5.899395657798499,
          5.8991104506384895,
          5.785428541974649,
          5.765218382061661,
          5.765104833508637,
          5.679517383109383,
          5.37090078092285,
          5.355394467117302,
          5.354658899660865,
          5.353381936346679,
          5.352778311132087,
          5.352380291579384,
          5.351925518774272,
          5.351691001192694,
          5.348447899829351,
          5.34013623268808,
          5.325388386230001,
          5.325235953553135,
          5.301182078745927,
          5.291768288989954,
          5.287268577032832,
          5.256405743494192,
          5.229048669879586,
          5.171899583931643,
          5.161111460738393,
          4.79547572059125,
          4.762148311240159,
          4.375403151391446,
          4.3726286527652585,
          4.365370710615328,
          4.361586409451963,
          4.356367261693178,
          4.355313592266983,
          4.352121119612917,
          4.3517676623156945,
          4.334626588321562,
          4.329714629786017,
          4.3295745122932745,
          4.309780281123824,
          4.308783118554539,
          4.301694092840849,
          4.277159501041975,
          4.24406864527721,
          4.162940882319106,
          4.114278943019834,
          4.1135958158328085,
          3.9937476631559106,
          3.956490156568561,
          3.8544887931456704,
          3.386344059131558,
          3.316343610889622,
          3.24620304060082,
          2.924486296582786,
          2.802946170521319,
          2.799654380529763,
          2.7949291347309786,
          2.7911134807659232,
          2.7902162151515966,
          2.790111236459289,
          2.789750575102316,
          2.78834076942057,
          2.7807080488150198,
          2.7800889133000335,
          2.775133261338676,
          2.772613569667109,
          2.769497346213491,
          2.7687166353846178,
          2.756889906377376,
          2.74106714121481,
          2.737598335344033,
          2.7239720307757023,
          2.704960920020956,
          2.703223964424563,
          2.688673339901933,
          2.637332186599665,
          2.6105655265168357,
          2.5600669448840443,
          2.558059930364258,
          2.53008761246208,
          2.4928093629777694,
          2.3872559340948865,
          0.001876712450970088,
          0.000938356225485044,
          0.000938356225485044,
          0.000938356225485044,
          0,
          0,
          0,
          0,
          0,
          0,
          0,
          0,
          0
         ]
        }
       ],
       "layout": {
        "geo": {
         "projection": {
          "type": "equirectangular"
         },
         "showcoastlines": false,
         "showframe": false
        },
        "template": {
         "data": {
          "bar": [
           {
            "error_x": {
             "color": "#2a3f5f"
            },
            "error_y": {
             "color": "#2a3f5f"
            },
            "marker": {
             "line": {
              "color": "#E5ECF6",
              "width": 0.5
             },
             "pattern": {
              "fillmode": "overlay",
              "size": 10,
              "solidity": 0.2
             }
            },
            "type": "bar"
           }
          ],
          "barpolar": [
           {
            "marker": {
             "line": {
              "color": "#E5ECF6",
              "width": 0.5
             },
             "pattern": {
              "fillmode": "overlay",
              "size": 10,
              "solidity": 0.2
             }
            },
            "type": "barpolar"
           }
          ],
          "carpet": [
           {
            "aaxis": {
             "endlinecolor": "#2a3f5f",
             "gridcolor": "white",
             "linecolor": "white",
             "minorgridcolor": "white",
             "startlinecolor": "#2a3f5f"
            },
            "baxis": {
             "endlinecolor": "#2a3f5f",
             "gridcolor": "white",
             "linecolor": "white",
             "minorgridcolor": "white",
             "startlinecolor": "#2a3f5f"
            },
            "type": "carpet"
           }
          ],
          "choropleth": [
           {
            "colorbar": {
             "outlinewidth": 0,
             "ticks": ""
            },
            "type": "choropleth"
           }
          ],
          "contour": [
           {
            "colorbar": {
             "outlinewidth": 0,
             "ticks": ""
            },
            "colorscale": [
             [
              0,
              "#0d0887"
             ],
             [
              0.1111111111111111,
              "#46039f"
             ],
             [
              0.2222222222222222,
              "#7201a8"
             ],
             [
              0.3333333333333333,
              "#9c179e"
             ],
             [
              0.4444444444444444,
              "#bd3786"
             ],
             [
              0.5555555555555556,
              "#d8576b"
             ],
             [
              0.6666666666666666,
              "#ed7953"
             ],
             [
              0.7777777777777778,
              "#fb9f3a"
             ],
             [
              0.8888888888888888,
              "#fdca26"
             ],
             [
              1,
              "#f0f921"
             ]
            ],
            "type": "contour"
           }
          ],
          "contourcarpet": [
           {
            "colorbar": {
             "outlinewidth": 0,
             "ticks": ""
            },
            "type": "contourcarpet"
           }
          ],
          "heatmap": [
           {
            "colorbar": {
             "outlinewidth": 0,
             "ticks": ""
            },
            "colorscale": [
             [
              0,
              "#0d0887"
             ],
             [
              0.1111111111111111,
              "#46039f"
             ],
             [
              0.2222222222222222,
              "#7201a8"
             ],
             [
              0.3333333333333333,
              "#9c179e"
             ],
             [
              0.4444444444444444,
              "#bd3786"
             ],
             [
              0.5555555555555556,
              "#d8576b"
             ],
             [
              0.6666666666666666,
              "#ed7953"
             ],
             [
              0.7777777777777778,
              "#fb9f3a"
             ],
             [
              0.8888888888888888,
              "#fdca26"
             ],
             [
              1,
              "#f0f921"
             ]
            ],
            "type": "heatmap"
           }
          ],
          "heatmapgl": [
           {
            "colorbar": {
             "outlinewidth": 0,
             "ticks": ""
            },
            "colorscale": [
             [
              0,
              "#0d0887"
             ],
             [
              0.1111111111111111,
              "#46039f"
             ],
             [
              0.2222222222222222,
              "#7201a8"
             ],
             [
              0.3333333333333333,
              "#9c179e"
             ],
             [
              0.4444444444444444,
              "#bd3786"
             ],
             [
              0.5555555555555556,
              "#d8576b"
             ],
             [
              0.6666666666666666,
              "#ed7953"
             ],
             [
              0.7777777777777778,
              "#fb9f3a"
             ],
             [
              0.8888888888888888,
              "#fdca26"
             ],
             [
              1,
              "#f0f921"
             ]
            ],
            "type": "heatmapgl"
           }
          ],
          "histogram": [
           {
            "marker": {
             "pattern": {
              "fillmode": "overlay",
              "size": 10,
              "solidity": 0.2
             }
            },
            "type": "histogram"
           }
          ],
          "histogram2d": [
           {
            "colorbar": {
             "outlinewidth": 0,
             "ticks": ""
            },
            "colorscale": [
             [
              0,
              "#0d0887"
             ],
             [
              0.1111111111111111,
              "#46039f"
             ],
             [
              0.2222222222222222,
              "#7201a8"
             ],
             [
              0.3333333333333333,
              "#9c179e"
             ],
             [
              0.4444444444444444,
              "#bd3786"
             ],
             [
              0.5555555555555556,
              "#d8576b"
             ],
             [
              0.6666666666666666,
              "#ed7953"
             ],
             [
              0.7777777777777778,
              "#fb9f3a"
             ],
             [
              0.8888888888888888,
              "#fdca26"
             ],
             [
              1,
              "#f0f921"
             ]
            ],
            "type": "histogram2d"
           }
          ],
          "histogram2dcontour": [
           {
            "colorbar": {
             "outlinewidth": 0,
             "ticks": ""
            },
            "colorscale": [
             [
              0,
              "#0d0887"
             ],
             [
              0.1111111111111111,
              "#46039f"
             ],
             [
              0.2222222222222222,
              "#7201a8"
             ],
             [
              0.3333333333333333,
              "#9c179e"
             ],
             [
              0.4444444444444444,
              "#bd3786"
             ],
             [
              0.5555555555555556,
              "#d8576b"
             ],
             [
              0.6666666666666666,
              "#ed7953"
             ],
             [
              0.7777777777777778,
              "#fb9f3a"
             ],
             [
              0.8888888888888888,
              "#fdca26"
             ],
             [
              1,
              "#f0f921"
             ]
            ],
            "type": "histogram2dcontour"
           }
          ],
          "mesh3d": [
           {
            "colorbar": {
             "outlinewidth": 0,
             "ticks": ""
            },
            "type": "mesh3d"
           }
          ],
          "parcoords": [
           {
            "line": {
             "colorbar": {
              "outlinewidth": 0,
              "ticks": ""
             }
            },
            "type": "parcoords"
           }
          ],
          "pie": [
           {
            "automargin": true,
            "type": "pie"
           }
          ],
          "scatter": [
           {
            "marker": {
             "colorbar": {
              "outlinewidth": 0,
              "ticks": ""
             }
            },
            "type": "scatter"
           }
          ],
          "scatter3d": [
           {
            "line": {
             "colorbar": {
              "outlinewidth": 0,
              "ticks": ""
             }
            },
            "marker": {
             "colorbar": {
              "outlinewidth": 0,
              "ticks": ""
             }
            },
            "type": "scatter3d"
           }
          ],
          "scattercarpet": [
           {
            "marker": {
             "colorbar": {
              "outlinewidth": 0,
              "ticks": ""
             }
            },
            "type": "scattercarpet"
           }
          ],
          "scattergeo": [
           {
            "marker": {
             "colorbar": {
              "outlinewidth": 0,
              "ticks": ""
             }
            },
            "type": "scattergeo"
           }
          ],
          "scattergl": [
           {
            "marker": {
             "colorbar": {
              "outlinewidth": 0,
              "ticks": ""
             }
            },
            "type": "scattergl"
           }
          ],
          "scattermapbox": [
           {
            "marker": {
             "colorbar": {
              "outlinewidth": 0,
              "ticks": ""
             }
            },
            "type": "scattermapbox"
           }
          ],
          "scatterpolar": [
           {
            "marker": {
             "colorbar": {
              "outlinewidth": 0,
              "ticks": ""
             }
            },
            "type": "scatterpolar"
           }
          ],
          "scatterpolargl": [
           {
            "marker": {
             "colorbar": {
              "outlinewidth": 0,
              "ticks": ""
             }
            },
            "type": "scatterpolargl"
           }
          ],
          "scatterternary": [
           {
            "marker": {
             "colorbar": {
              "outlinewidth": 0,
              "ticks": ""
             }
            },
            "type": "scatterternary"
           }
          ],
          "surface": [
           {
            "colorbar": {
             "outlinewidth": 0,
             "ticks": ""
            },
            "colorscale": [
             [
              0,
              "#0d0887"
             ],
             [
              0.1111111111111111,
              "#46039f"
             ],
             [
              0.2222222222222222,
              "#7201a8"
             ],
             [
              0.3333333333333333,
              "#9c179e"
             ],
             [
              0.4444444444444444,
              "#bd3786"
             ],
             [
              0.5555555555555556,
              "#d8576b"
             ],
             [
              0.6666666666666666,
              "#ed7953"
             ],
             [
              0.7777777777777778,
              "#fb9f3a"
             ],
             [
              0.8888888888888888,
              "#fdca26"
             ],
             [
              1,
              "#f0f921"
             ]
            ],
            "type": "surface"
           }
          ],
          "table": [
           {
            "cells": {
             "fill": {
              "color": "#EBF0F8"
             },
             "line": {
              "color": "white"
             }
            },
            "header": {
             "fill": {
              "color": "#C8D4E3"
             },
             "line": {
              "color": "white"
             }
            },
            "type": "table"
           }
          ]
         },
         "layout": {
          "annotationdefaults": {
           "arrowcolor": "#2a3f5f",
           "arrowhead": 0,
           "arrowwidth": 1
          },
          "autotypenumbers": "strict",
          "coloraxis": {
           "colorbar": {
            "outlinewidth": 0,
            "ticks": ""
           }
          },
          "colorscale": {
           "diverging": [
            [
             0,
             "#8e0152"
            ],
            [
             0.1,
             "#c51b7d"
            ],
            [
             0.2,
             "#de77ae"
            ],
            [
             0.3,
             "#f1b6da"
            ],
            [
             0.4,
             "#fde0ef"
            ],
            [
             0.5,
             "#f7f7f7"
            ],
            [
             0.6,
             "#e6f5d0"
            ],
            [
             0.7,
             "#b8e186"
            ],
            [
             0.8,
             "#7fbc41"
            ],
            [
             0.9,
             "#4d9221"
            ],
            [
             1,
             "#276419"
            ]
           ],
           "sequential": [
            [
             0,
             "#0d0887"
            ],
            [
             0.1111111111111111,
             "#46039f"
            ],
            [
             0.2222222222222222,
             "#7201a8"
            ],
            [
             0.3333333333333333,
             "#9c179e"
            ],
            [
             0.4444444444444444,
             "#bd3786"
            ],
            [
             0.5555555555555556,
             "#d8576b"
            ],
            [
             0.6666666666666666,
             "#ed7953"
            ],
            [
             0.7777777777777778,
             "#fb9f3a"
            ],
            [
             0.8888888888888888,
             "#fdca26"
            ],
            [
             1,
             "#f0f921"
            ]
           ],
           "sequentialminus": [
            [
             0,
             "#0d0887"
            ],
            [
             0.1111111111111111,
             "#46039f"
            ],
            [
             0.2222222222222222,
             "#7201a8"
            ],
            [
             0.3333333333333333,
             "#9c179e"
            ],
            [
             0.4444444444444444,
             "#bd3786"
            ],
            [
             0.5555555555555556,
             "#d8576b"
            ],
            [
             0.6666666666666666,
             "#ed7953"
            ],
            [
             0.7777777777777778,
             "#fb9f3a"
            ],
            [
             0.8888888888888888,
             "#fdca26"
            ],
            [
             1,
             "#f0f921"
            ]
           ]
          },
          "colorway": [
           "#636efa",
           "#EF553B",
           "#00cc96",
           "#ab63fa",
           "#FFA15A",
           "#19d3f3",
           "#FF6692",
           "#B6E880",
           "#FF97FF",
           "#FECB52"
          ],
          "font": {
           "color": "#2a3f5f"
          },
          "geo": {
           "bgcolor": "white",
           "lakecolor": "white",
           "landcolor": "#E5ECF6",
           "showlakes": true,
           "showland": true,
           "subunitcolor": "white"
          },
          "hoverlabel": {
           "align": "left"
          },
          "hovermode": "closest",
          "mapbox": {
           "style": "light"
          },
          "paper_bgcolor": "white",
          "plot_bgcolor": "#E5ECF6",
          "polar": {
           "angularaxis": {
            "gridcolor": "white",
            "linecolor": "white",
            "ticks": ""
           },
           "bgcolor": "#E5ECF6",
           "radialaxis": {
            "gridcolor": "white",
            "linecolor": "white",
            "ticks": ""
           }
          },
          "scene": {
           "xaxis": {
            "backgroundcolor": "#E5ECF6",
            "gridcolor": "white",
            "gridwidth": 2,
            "linecolor": "white",
            "showbackground": true,
            "ticks": "",
            "zerolinecolor": "white"
           },
           "yaxis": {
            "backgroundcolor": "#E5ECF6",
            "gridcolor": "white",
            "gridwidth": 2,
            "linecolor": "white",
            "showbackground": true,
            "ticks": "",
            "zerolinecolor": "white"
           },
           "zaxis": {
            "backgroundcolor": "#E5ECF6",
            "gridcolor": "white",
            "gridwidth": 2,
            "linecolor": "white",
            "showbackground": true,
            "ticks": "",
            "zerolinecolor": "white"
           }
          },
          "shapedefaults": {
           "line": {
            "color": "#2a3f5f"
           }
          },
          "ternary": {
           "aaxis": {
            "gridcolor": "white",
            "linecolor": "white",
            "ticks": ""
           },
           "baxis": {
            "gridcolor": "white",
            "linecolor": "white",
            "ticks": ""
           },
           "bgcolor": "#E5ECF6",
           "caxis": {
            "gridcolor": "white",
            "linecolor": "white",
            "ticks": ""
           }
          },
          "title": {
           "x": 0.05
          },
          "xaxis": {
           "automargin": true,
           "gridcolor": "white",
           "linecolor": "white",
           "ticks": "",
           "title": {
            "standoff": 15
           },
           "zerolinecolor": "white",
           "zerolinewidth": 2
          },
          "yaxis": {
           "automargin": true,
           "gridcolor": "white",
           "linecolor": "white",
           "ticks": "",
           "title": {
            "standoff": 15
           },
           "zerolinecolor": "white",
           "zerolinewidth": 2
          }
         }
        },
        "title": {
         "text": "Countries score"
        }
       }
      },
      "text/html": [
       "<div>                            <div id=\"af0036e2-cc96-4365-a34a-6d2482158710\" class=\"plotly-graph-div\" style=\"height:525px; width:100%;\"></div>            <script type=\"text/javascript\">                require([\"plotly\"], function(Plotly) {                    window.PLOTLYENV=window.PLOTLYENV || {};                                    if (document.getElementById(\"af0036e2-cc96-4365-a34a-6d2482158710\")) {                    Plotly.newPlot(                        \"af0036e2-cc96-4365-a34a-6d2482158710\",                        [{\"autocolorscale\":false,\"colorbar\":{\"tickprefix\":\"\",\"title\":{\"text\":\"Score\"}},\"colorscale\":[[0.0,\"#30123b\"],[0.07142857142857142,\"#4145ab\"],[0.14285714285714285,\"#4675ed\"],[0.21428571428571427,\"#39a2fc\"],[0.2857142857142857,\"#1bcfd4\"],[0.35714285714285715,\"#24eca6\"],[0.42857142857142855,\"#61fc6c\"],[0.5,\"#a4fc3b\"],[0.5714285714285714,\"#d1e834\"],[0.6428571428571429,\"#f3c63a\"],[0.7142857142857143,\"#fe9b2d\"],[0.7857142857142857,\"#f36315\"],[0.8571428571428571,\"#d93806\"],[0.9285714285714286,\"#b11901\"],[1.0,\"#7a0402\"]],\"locations\":[\"USA\",\"GBR\",\"NOR\",\"DEU\",\"MEX\",\"CAN\",\"RUS\",\"ITA\",\"FRA\",\"ZAF\",\"JPN\",\"IND\",\"NLD\",\"ESP\",\"ISL\",\"EGY\",\"GRC\",\"AUS\",\"DNK\",\"IRL\",\"IRQ\",\"KEN\",\"SWE\",\"NZL\",\"BRA\",\"AUT\",\"ARG\",\"TUR\",\"BEL\",\"POL\",\"PRI\",\"BOL\",\"ETH\",\"ZWE\",\"PRT\",\"PER\",\"DZA\",\"GRL\",\"PAK\",\"ECU\",\"RWA\",\"CHE\",\"FIN\",\"MLI\",\"MDG\",\"VNM\",\"IDN\",\"NPL\",\"IRN\",\"VAT\",\"CZE\",\"NGA\",\"SDN\",\"CHL\",\"CUB\",\"CHN\",\"ISR\",\"KWT\",\"MAR\",\"UKR\",\"ROU\",\"TCD\",\"HKG\",\"PHL\",\"TZA\",\"KAZ\",\"BIH\",\"LUX\",\"HUN\",\"SOM\",\"GIN\",\"GHA\",\"PRK\",\"ESH\",\"MYS\",\"COL\",\"MCO\",\"SAU\",\"MKD\",\"UZB\",\"JAM\",\"ZMB\",\"MWI\",\"NER\",\"GEO\",\"JOR\",\"TWN\",\"TKM\",\"URY\",\"BGR\",\"LBY\",\"CIV\",\"MOZ\",\"GAB\",\"KOR\",\"CRI\",\"GTM\",\"LKA\",\"AFG\",\"BLR\",\"BFA\",\"UGA\",\"GMB\",\"SLE\",\"LBR\",\"BMU\",\"PRY\",\"VEN\",\"CYP\",\"PAN\",\"SVK\",\"BWA\",\"ALB\",\"THA\",\"GUF\",\"MMR\",\"BGD\",\"BHS\",\"DOM\",\"HTI\",\"SVN\",\"MDA\",\"AZE\",\"MUS\",\"SLB\",\"TGO\",\"BEN\",\"LSO\",\"TUN\",\"KHM\",\"BTN\",\"BRB\",\"FLK\",\"BLZ\",\"GUY\",\"LVA\",\"QAT\",\"KGZ\",\"LAO\",\"EST\",\"PNG\",\"SLV\",\"SYR\",\"CMR\",\"HRV\",\"MSR\",\"DMA\",\"TTO\",\"BDI\",\"YEM\",\"SGP\",\"WSM\",\"COK\",\"MNE\",\"SMR\",\"NAM\",\"LTU\",\"LBN\",\"NIC\",\"CAF\",\"SWZ\",\"HND\",\"AGO\",\"GUM\",\"FSM\",\"TCA\",\"ARM\",\"PSE\",\"MLT\",\"MRT\",\"LIE\",\"SHN\",\"GNQ\",\"SEN\",\"STP\",\"GNB\",\"FJI\",\"VUT\",\"GRD\",\"ABW\",\"SUR\",\"AND\",\"TLS\",\"CCK\",\"OMN\",\"ARE\",\"GLP\",\"PYF\",\"CPV\",\"ALA\",\"CYM\",\"DJI\",\"BRN\",\"TJK\",\"ERI\",\"BHR\",\"MDV\",\"CXR\",\"MTQ\",\"ATG\",\"KNA\",\"SRB\",\"VCT\",\"TUV\",\"LCA\",\"TON\",\"REU\",\"IOT\",\"AIA\"],\"marker\":{\"line\":{\"color\":\"grey\",\"width\":0.5}},\"reversescale\":false,\"text\":[\"United States\",\"United Kingdom\",\"Norway\",\"Germany\",\"Mexico\",\"Canada\",\"Russia\",\"Italy\",\"France\",\"South Africa\",\"Japan\",\"India\",\"Netherlands\",\"Spain\",\"Iceland\",\"Egypt\",\"Greece\",\"Australia\",\"Denmark\",\"Ireland\",\"Iraq\",\"Kenya\",\"Sweden\",\"New Zealand\",\"Brazil\",\"Austria\",\"Argentina\",\"Turkey\",\"Belgium\",\"Poland\",\"Puerto Rico\",\"Bolivia\",\"Ethiopia\",\"Zimbabwe\",\"Portugal\",\"Peru\",\"Algeria\",\"Greenland\",\"Pakistan\",\"Ecuador\",\"Rwanda\",\"Switzerland\",\"Finland\",\"Mali\",\"Madagascar\",\"Vietnam\",\"Indonesia\",\"Nepal\",\"Iran\",\"Vatican City\",\"Czech Republic\",\"Nigeria\",\"Sudan\",\"Chile\",\"Cuba\",\"Republic of China\",\"Israel\",\"Kuwait\",\"Morocco\",\"Ukraine\",\"Romania\",\"Chad\",\"Hong Kong\",\"Philippines\",\"Tanzania\",\"Kazakhstan\",\"Bosnia and Herzegovina\",\"Luxembourg\",\"Hungary\",\"Somalia\",\"Guinea\",\"Ghana\",\"North Korea\",\"Western Sahara\",\"Malaysia\",\"Colombia\",\"Monaco\",\"Saudi Arabia\",\"Republic of Macedonia\",\"Uzbekistan\",\"Jamaica\",\"Zambia\",\"Malawi\",\"Niger\",\"Georgia %28country%29\",\"Jordan\",\"Taiwan\",\"Turkmenistan\",\"Uruguay\",\"Bulgaria\",\"Libya\",\"C%C3%B4te d%27Ivoire\",\"Mozambique\",\"Gabon\",\"South Korea\",\"Costa Rica\",\"Guatemala\",\"Sri Lanka\",\"Afghanistan\",\"Belarus\",\"Burkina Faso\",\"Uganda\",\"The Gambia\",\"Sierra Leone\",\"Liberia\",\"Bermuda\",\"Paraguay\",\"Venezuela\",\"Cyprus\",\"Panama\",\"Slovakia\",\"Botswana\",\"Albania\",\"Thailand\",\"French Guiana\",\"Myanmar\",\"Bangladesh\",\"The Bahamas\",\"Dominican Republic\",\"Haiti\",\"Slovenia\",\"Moldova\",\"Azerbaijan\",\"Mauritius\",\"Solomon Islands\",\"Togo\",\"Benin\",\"Lesotho\",\"Tunisia\",\"Cambodia\",\"Bhutan\",\"Barbados\",\"Falkland Islands\",\"Belize\",\"Guyana\",\"Latvia\",\"Qatar\",\"Kyrgyzstan\",\"Laos\",\"Estonia\",\"Papua New Guinea\",\"El Salvador\",\"Syria\",\"Cameroon\",\"Croatia\",\"Montserrat\",\"Dominica\",\"Trinidad and Tobago\",\"Burundi\",\"Yemen\",\"Singapore\",\"Samoa\",\"Cook Islands\",\"Montenegro\",\"San Marino\",\"Namibia\",\"Lithuania\",\"Lebanon\",\"Nicaragua\",\"Central African Republic\",\"Swaziland\",\"Honduras\",\"Angola\",\"Guam\",\"Federated States of Micronesia\",\"Turks and Caicos Islands\",\"Armenia\",\"Palestinian territories\",\"Malta\",\"Mauritania\",\"Liechtenstein\",\"Saint Helena\",\"Equatorial Guinea\",\"Senegal\",\"S%C3%A3o Tom%C3%A9 and Pr%C3%ADncipe\",\"Guinea-Bissau\",\"Fiji\",\"Vanuatu\",\"Grenada\",\"Aruba\",\"Suriname\",\"Andorra\",\"East Timor\",\"Cocos %28Keeling%29 Islands\",\"Oman\",\"Dubai\",\"Guadeloupe\",\"French Polynesia\",\"Cape Verde\",\"%C3%85land\",\"Cayman Islands\",\"Djibouti\",\"Brunei\",\"Tajikistan\",\"Eritrea\",\"Bahrain\",\"Maldives\",\"Christmas Island\",\"Martinique\",\"Antigua and Barbuda\",\"Saint Kitts and Nevis\",\"Serbia and Montenegro\",\"Saint Vincent and the Grenadines\",\"Tuvalu\",\"Saint Lucia\",\"Tonga\",\"R%C3%A9union\",\"British Indian Ocean Territory\",\"Anguilla\"],\"z\":[10.0,9.943819235804693,9.836806983645793,9.830086505721058,9.723500003982748,9.710748330788142,9.6998846054718,9.662056761698594,9.64099162942994,9.612866420392132,9.532188462767222,9.509085219671146,9.505829756895258,9.435508008877889,9.421217389265673,9.407465717056757,9.37201670331554,9.303984097010268,9.292888219231884,9.271859037524235,9.259231505627616,9.255615927906277,9.229789136665303,8.91191927704444,8.911783833781495,8.864413777583271,8.847839864259447,8.834622864445958,8.780896886809291,8.78041908116543,8.749852030034651,8.619567756347466,8.609001825446223,8.537095388922499,8.518271617791482,8.516975384555222,8.474248552269241,8.471090716663385,8.31516917568219,8.315062931435529,8.275854686168424,8.218886376784605,8.212399740021041,8.165434333146173,8.165029865779413,8.142504231977144,8.141679086962396,8.137095302283647,8.117308694700137,8.11390065220306,8.079475931346558,8.03688966406557,8.035522357424167,8.024075139146056,7.96044750416489,7.879950742198908,7.846910392994168,7.824934762106089,7.80045544398334,7.763276580073441,7.754848398035035,7.713872536848141,7.674811977175191,7.643745489685256,7.609111464867966,7.594196263075817,7.544559135852151,7.544160794699501,7.543943285494524,7.507856389724392,7.507027511130652,7.5056298055526165,7.503367502853345,7.493206595879159,7.491807105074178,7.38968510691601,7.359447553307074,7.334580026243949,7.291505962628508,7.283749793488981,7.2620406590956454,7.257651362956912,7.257151423006106,7.25605614969428,7.14996877540471,7.135635065517643,7.055840009272214,7.047157494404856,7.0294852198105895,6.979472977297292,6.9612560199420335,6.949069621171921,6.94716367130065,6.946718929423921,6.929234042969646,6.863545331375599,6.862310730632491,6.758204006080839,6.729356208088968,6.58577547005889,6.556996585957622,6.5566398355166795,6.556572032322053,6.556358840137722,6.555484489507888,6.545933196931788,6.46583839000082,6.374961991867432,6.301870547282657,6.106359776582286,6.070747661363588,6.048436282042699,6.045919422423385,6.034350936692414,5.9688791022311865,5.899395657798499,5.8991104506384895,5.785428541974649,5.765218382061661,5.765104833508637,5.679517383109383,5.37090078092285,5.355394467117302,5.354658899660865,5.353381936346679,5.352778311132087,5.352380291579384,5.351925518774272,5.351691001192694,5.348447899829351,5.34013623268808,5.325388386230001,5.325235953553135,5.301182078745927,5.291768288989954,5.287268577032832,5.256405743494192,5.229048669879586,5.171899583931643,5.161111460738393,4.79547572059125,4.762148311240159,4.375403151391446,4.3726286527652585,4.365370710615328,4.361586409451963,4.356367261693178,4.355313592266983,4.352121119612917,4.3517676623156945,4.334626588321562,4.329714629786017,4.3295745122932745,4.309780281123824,4.308783118554539,4.301694092840849,4.277159501041975,4.24406864527721,4.162940882319106,4.114278943019834,4.1135958158328085,3.9937476631559106,3.956490156568561,3.8544887931456704,3.386344059131558,3.316343610889622,3.24620304060082,2.924486296582786,2.802946170521319,2.799654380529763,2.7949291347309786,2.7911134807659232,2.7902162151515966,2.790111236459289,2.789750575102316,2.78834076942057,2.7807080488150198,2.7800889133000335,2.775133261338676,2.772613569667109,2.769497346213491,2.7687166353846178,2.756889906377376,2.74106714121481,2.737598335344033,2.7239720307757023,2.704960920020956,2.703223964424563,2.688673339901933,2.637332186599665,2.6105655265168357,2.5600669448840443,2.558059930364258,2.53008761246208,2.4928093629777694,2.3872559340948865,0.001876712450970088,0.000938356225485044,0.000938356225485044,0.000938356225485044,0.0,0.0,0.0,0.0,0.0,0.0,0.0,0.0,0.0],\"type\":\"choropleth\"}],                        {\"template\":{\"data\":{\"bar\":[{\"error_x\":{\"color\":\"#2a3f5f\"},\"error_y\":{\"color\":\"#2a3f5f\"},\"marker\":{\"line\":{\"color\":\"#E5ECF6\",\"width\":0.5},\"pattern\":{\"fillmode\":\"overlay\",\"size\":10,\"solidity\":0.2}},\"type\":\"bar\"}],\"barpolar\":[{\"marker\":{\"line\":{\"color\":\"#E5ECF6\",\"width\":0.5},\"pattern\":{\"fillmode\":\"overlay\",\"size\":10,\"solidity\":0.2}},\"type\":\"barpolar\"}],\"carpet\":[{\"aaxis\":{\"endlinecolor\":\"#2a3f5f\",\"gridcolor\":\"white\",\"linecolor\":\"white\",\"minorgridcolor\":\"white\",\"startlinecolor\":\"#2a3f5f\"},\"baxis\":{\"endlinecolor\":\"#2a3f5f\",\"gridcolor\":\"white\",\"linecolor\":\"white\",\"minorgridcolor\":\"white\",\"startlinecolor\":\"#2a3f5f\"},\"type\":\"carpet\"}],\"choropleth\":[{\"colorbar\":{\"outlinewidth\":0,\"ticks\":\"\"},\"type\":\"choropleth\"}],\"contour\":[{\"colorbar\":{\"outlinewidth\":0,\"ticks\":\"\"},\"colorscale\":[[0.0,\"#0d0887\"],[0.1111111111111111,\"#46039f\"],[0.2222222222222222,\"#7201a8\"],[0.3333333333333333,\"#9c179e\"],[0.4444444444444444,\"#bd3786\"],[0.5555555555555556,\"#d8576b\"],[0.6666666666666666,\"#ed7953\"],[0.7777777777777778,\"#fb9f3a\"],[0.8888888888888888,\"#fdca26\"],[1.0,\"#f0f921\"]],\"type\":\"contour\"}],\"contourcarpet\":[{\"colorbar\":{\"outlinewidth\":0,\"ticks\":\"\"},\"type\":\"contourcarpet\"}],\"heatmap\":[{\"colorbar\":{\"outlinewidth\":0,\"ticks\":\"\"},\"colorscale\":[[0.0,\"#0d0887\"],[0.1111111111111111,\"#46039f\"],[0.2222222222222222,\"#7201a8\"],[0.3333333333333333,\"#9c179e\"],[0.4444444444444444,\"#bd3786\"],[0.5555555555555556,\"#d8576b\"],[0.6666666666666666,\"#ed7953\"],[0.7777777777777778,\"#fb9f3a\"],[0.8888888888888888,\"#fdca26\"],[1.0,\"#f0f921\"]],\"type\":\"heatmap\"}],\"heatmapgl\":[{\"colorbar\":{\"outlinewidth\":0,\"ticks\":\"\"},\"colorscale\":[[0.0,\"#0d0887\"],[0.1111111111111111,\"#46039f\"],[0.2222222222222222,\"#7201a8\"],[0.3333333333333333,\"#9c179e\"],[0.4444444444444444,\"#bd3786\"],[0.5555555555555556,\"#d8576b\"],[0.6666666666666666,\"#ed7953\"],[0.7777777777777778,\"#fb9f3a\"],[0.8888888888888888,\"#fdca26\"],[1.0,\"#f0f921\"]],\"type\":\"heatmapgl\"}],\"histogram\":[{\"marker\":{\"pattern\":{\"fillmode\":\"overlay\",\"size\":10,\"solidity\":0.2}},\"type\":\"histogram\"}],\"histogram2d\":[{\"colorbar\":{\"outlinewidth\":0,\"ticks\":\"\"},\"colorscale\":[[0.0,\"#0d0887\"],[0.1111111111111111,\"#46039f\"],[0.2222222222222222,\"#7201a8\"],[0.3333333333333333,\"#9c179e\"],[0.4444444444444444,\"#bd3786\"],[0.5555555555555556,\"#d8576b\"],[0.6666666666666666,\"#ed7953\"],[0.7777777777777778,\"#fb9f3a\"],[0.8888888888888888,\"#fdca26\"],[1.0,\"#f0f921\"]],\"type\":\"histogram2d\"}],\"histogram2dcontour\":[{\"colorbar\":{\"outlinewidth\":0,\"ticks\":\"\"},\"colorscale\":[[0.0,\"#0d0887\"],[0.1111111111111111,\"#46039f\"],[0.2222222222222222,\"#7201a8\"],[0.3333333333333333,\"#9c179e\"],[0.4444444444444444,\"#bd3786\"],[0.5555555555555556,\"#d8576b\"],[0.6666666666666666,\"#ed7953\"],[0.7777777777777778,\"#fb9f3a\"],[0.8888888888888888,\"#fdca26\"],[1.0,\"#f0f921\"]],\"type\":\"histogram2dcontour\"}],\"mesh3d\":[{\"colorbar\":{\"outlinewidth\":0,\"ticks\":\"\"},\"type\":\"mesh3d\"}],\"parcoords\":[{\"line\":{\"colorbar\":{\"outlinewidth\":0,\"ticks\":\"\"}},\"type\":\"parcoords\"}],\"pie\":[{\"automargin\":true,\"type\":\"pie\"}],\"scatter\":[{\"marker\":{\"colorbar\":{\"outlinewidth\":0,\"ticks\":\"\"}},\"type\":\"scatter\"}],\"scatter3d\":[{\"line\":{\"colorbar\":{\"outlinewidth\":0,\"ticks\":\"\"}},\"marker\":{\"colorbar\":{\"outlinewidth\":0,\"ticks\":\"\"}},\"type\":\"scatter3d\"}],\"scattercarpet\":[{\"marker\":{\"colorbar\":{\"outlinewidth\":0,\"ticks\":\"\"}},\"type\":\"scattercarpet\"}],\"scattergeo\":[{\"marker\":{\"colorbar\":{\"outlinewidth\":0,\"ticks\":\"\"}},\"type\":\"scattergeo\"}],\"scattergl\":[{\"marker\":{\"colorbar\":{\"outlinewidth\":0,\"ticks\":\"\"}},\"type\":\"scattergl\"}],\"scattermapbox\":[{\"marker\":{\"colorbar\":{\"outlinewidth\":0,\"ticks\":\"\"}},\"type\":\"scattermapbox\"}],\"scatterpolar\":[{\"marker\":{\"colorbar\":{\"outlinewidth\":0,\"ticks\":\"\"}},\"type\":\"scatterpolar\"}],\"scatterpolargl\":[{\"marker\":{\"colorbar\":{\"outlinewidth\":0,\"ticks\":\"\"}},\"type\":\"scatterpolargl\"}],\"scatterternary\":[{\"marker\":{\"colorbar\":{\"outlinewidth\":0,\"ticks\":\"\"}},\"type\":\"scatterternary\"}],\"surface\":[{\"colorbar\":{\"outlinewidth\":0,\"ticks\":\"\"},\"colorscale\":[[0.0,\"#0d0887\"],[0.1111111111111111,\"#46039f\"],[0.2222222222222222,\"#7201a8\"],[0.3333333333333333,\"#9c179e\"],[0.4444444444444444,\"#bd3786\"],[0.5555555555555556,\"#d8576b\"],[0.6666666666666666,\"#ed7953\"],[0.7777777777777778,\"#fb9f3a\"],[0.8888888888888888,\"#fdca26\"],[1.0,\"#f0f921\"]],\"type\":\"surface\"}],\"table\":[{\"cells\":{\"fill\":{\"color\":\"#EBF0F8\"},\"line\":{\"color\":\"white\"}},\"header\":{\"fill\":{\"color\":\"#C8D4E3\"},\"line\":{\"color\":\"white\"}},\"type\":\"table\"}]},\"layout\":{\"annotationdefaults\":{\"arrowcolor\":\"#2a3f5f\",\"arrowhead\":0,\"arrowwidth\":1},\"autotypenumbers\":\"strict\",\"coloraxis\":{\"colorbar\":{\"outlinewidth\":0,\"ticks\":\"\"}},\"colorscale\":{\"diverging\":[[0,\"#8e0152\"],[0.1,\"#c51b7d\"],[0.2,\"#de77ae\"],[0.3,\"#f1b6da\"],[0.4,\"#fde0ef\"],[0.5,\"#f7f7f7\"],[0.6,\"#e6f5d0\"],[0.7,\"#b8e186\"],[0.8,\"#7fbc41\"],[0.9,\"#4d9221\"],[1,\"#276419\"]],\"sequential\":[[0.0,\"#0d0887\"],[0.1111111111111111,\"#46039f\"],[0.2222222222222222,\"#7201a8\"],[0.3333333333333333,\"#9c179e\"],[0.4444444444444444,\"#bd3786\"],[0.5555555555555556,\"#d8576b\"],[0.6666666666666666,\"#ed7953\"],[0.7777777777777778,\"#fb9f3a\"],[0.8888888888888888,\"#fdca26\"],[1.0,\"#f0f921\"]],\"sequentialminus\":[[0.0,\"#0d0887\"],[0.1111111111111111,\"#46039f\"],[0.2222222222222222,\"#7201a8\"],[0.3333333333333333,\"#9c179e\"],[0.4444444444444444,\"#bd3786\"],[0.5555555555555556,\"#d8576b\"],[0.6666666666666666,\"#ed7953\"],[0.7777777777777778,\"#fb9f3a\"],[0.8888888888888888,\"#fdca26\"],[1.0,\"#f0f921\"]]},\"colorway\":[\"#636efa\",\"#EF553B\",\"#00cc96\",\"#ab63fa\",\"#FFA15A\",\"#19d3f3\",\"#FF6692\",\"#B6E880\",\"#FF97FF\",\"#FECB52\"],\"font\":{\"color\":\"#2a3f5f\"},\"geo\":{\"bgcolor\":\"white\",\"lakecolor\":\"white\",\"landcolor\":\"#E5ECF6\",\"showlakes\":true,\"showland\":true,\"subunitcolor\":\"white\"},\"hoverlabel\":{\"align\":\"left\"},\"hovermode\":\"closest\",\"mapbox\":{\"style\":\"light\"},\"paper_bgcolor\":\"white\",\"plot_bgcolor\":\"#E5ECF6\",\"polar\":{\"angularaxis\":{\"gridcolor\":\"white\",\"linecolor\":\"white\",\"ticks\":\"\"},\"bgcolor\":\"#E5ECF6\",\"radialaxis\":{\"gridcolor\":\"white\",\"linecolor\":\"white\",\"ticks\":\"\"}},\"scene\":{\"xaxis\":{\"backgroundcolor\":\"#E5ECF6\",\"gridcolor\":\"white\",\"gridwidth\":2,\"linecolor\":\"white\",\"showbackground\":true,\"ticks\":\"\",\"zerolinecolor\":\"white\"},\"yaxis\":{\"backgroundcolor\":\"#E5ECF6\",\"gridcolor\":\"white\",\"gridwidth\":2,\"linecolor\":\"white\",\"showbackground\":true,\"ticks\":\"\",\"zerolinecolor\":\"white\"},\"zaxis\":{\"backgroundcolor\":\"#E5ECF6\",\"gridcolor\":\"white\",\"gridwidth\":2,\"linecolor\":\"white\",\"showbackground\":true,\"ticks\":\"\",\"zerolinecolor\":\"white\"}},\"shapedefaults\":{\"line\":{\"color\":\"#2a3f5f\"}},\"ternary\":{\"aaxis\":{\"gridcolor\":\"white\",\"linecolor\":\"white\",\"ticks\":\"\"},\"baxis\":{\"gridcolor\":\"white\",\"linecolor\":\"white\",\"ticks\":\"\"},\"bgcolor\":\"#E5ECF6\",\"caxis\":{\"gridcolor\":\"white\",\"linecolor\":\"white\",\"ticks\":\"\"}},\"title\":{\"x\":0.05},\"xaxis\":{\"automargin\":true,\"gridcolor\":\"white\",\"linecolor\":\"white\",\"ticks\":\"\",\"title\":{\"standoff\":15},\"zerolinecolor\":\"white\",\"zerolinewidth\":2},\"yaxis\":{\"automargin\":true,\"gridcolor\":\"white\",\"linecolor\":\"white\",\"ticks\":\"\",\"title\":{\"standoff\":15},\"zerolinecolor\":\"white\",\"zerolinewidth\":2}}},\"title\":{\"text\":\"Countries score\"},\"geo\":{\"projection\":{\"type\":\"equirectangular\"},\"showframe\":false,\"showcoastlines\":false}},                        {\"responsive\": true}                    ).then(function(){\n",
       "                            \n",
       "var gd = document.getElementById('af0036e2-cc96-4365-a34a-6d2482158710');\n",
       "var x = new MutationObserver(function (mutations, observer) {{\n",
       "        var display = window.getComputedStyle(gd).display;\n",
       "        if (!display || display === 'none') {{\n",
       "            console.log([gd, 'removed!']);\n",
       "            Plotly.purge(gd);\n",
       "            observer.disconnect();\n",
       "        }}\n",
       "}});\n",
       "\n",
       "// Listen for the removal of the full notebook cells\n",
       "var notebookContainer = gd.closest('#notebook-container');\n",
       "if (notebookContainer) {{\n",
       "    x.observe(notebookContainer, {childList: true});\n",
       "}}\n",
       "\n",
       "// Listen for the clearing of the current output cell\n",
       "var outputEl = gd.closest('.output');\n",
       "if (outputEl) {{\n",
       "    x.observe(outputEl, {childList: true});\n",
       "}}\n",
       "\n",
       "                        })                };                });            </script>        </div>"
      ]
     },
     "metadata": {},
     "output_type": "display_data"
    }
   ],
   "source": [
    "fig = go.Figure(data=go.Choropleth(\n",
    "    locations = countries['iso3'],\n",
    "    z = countries['score'],\n",
    "    text = countries['country'],\n",
    "    colorscale = 'turbo',\n",
    "    autocolorscale=False,\n",
    "    reversescale=False,\n",
    "    marker_line_color='grey',\n",
    "    marker_line_width=0.5,\n",
    "    colorbar_tickprefix = '',\n",
    "    colorbar_title = 'Score',\n",
    "))\n",
    "\n",
    "fig.update_layout(\n",
    "    title_text='Countries score',\n",
    "    geo=dict(\n",
    "        showframe=False,\n",
    "        showcoastlines=False,\n",
    "        projection_type='equirectangular'\n",
    "    )\n",
    ")\n",
    "\n",
    "fig.show()"
   ]
  },
  {
   "cell_type": "markdown",
   "id": "95de1a12",
   "metadata": {},
   "source": [
    "## Importance of the continents"
   ]
  },
  {
   "cell_type": "code",
   "execution_count": 61,
   "id": "d5f98e73",
   "metadata": {},
   "outputs": [
    {
     "data": {
      "text/html": [
       "<div>\n",
       "<style scoped>\n",
       "    .dataframe tbody tr th:only-of-type {\n",
       "        vertical-align: middle;\n",
       "    }\n",
       "\n",
       "    .dataframe tbody tr th {\n",
       "        vertical-align: top;\n",
       "    }\n",
       "\n",
       "    .dataframe thead th {\n",
       "        text-align: right;\n",
       "    }\n",
       "</style>\n",
       "<table border=\"1\" class=\"dataframe\">\n",
       "  <thead>\n",
       "    <tr style=\"text-align: right;\">\n",
       "      <th></th>\n",
       "      <th>article</th>\n",
       "      <th>category_x</th>\n",
       "      <th>Continent</th>\n",
       "      <th>category_y</th>\n",
       "    </tr>\n",
       "  </thead>\n",
       "  <tbody>\n",
       "    <tr>\n",
       "      <th>0</th>\n",
       "      <td>%C3%85land</td>\n",
       "      <td>subject.Countries</td>\n",
       "      <td>European</td>\n",
       "      <td>subject.Geography.European_Geography.European_Countries</td>\n",
       "    </tr>\n",
       "    <tr>\n",
       "      <th>1</th>\n",
       "      <td>%C3%89ire</td>\n",
       "      <td>subject.Countries</td>\n",
       "      <td>European</td>\n",
       "      <td>subject.Geography.European_Geography.European_Countries</td>\n",
       "    </tr>\n",
       "    <tr>\n",
       "      <th>2</th>\n",
       "      <td>Abkhazia</td>\n",
       "      <td>subject.Countries</td>\n",
       "      <td>Asian</td>\n",
       "      <td>subject.Geography.Geography_of_Asia.Asian_Countries</td>\n",
       "    </tr>\n",
       "    <tr>\n",
       "      <th>3</th>\n",
       "      <td>Abu_Dhabi</td>\n",
       "      <td>subject.Countries</td>\n",
       "      <td>Middle Eastern</td>\n",
       "      <td>subject.Geography.Geography_of_the_Middle_East.Middle_Eastern_Countries</td>\n",
       "    </tr>\n",
       "    <tr>\n",
       "      <th>4</th>\n",
       "      <td>Afghanistan</td>\n",
       "      <td>subject.Countries</td>\n",
       "      <td>Asian</td>\n",
       "      <td>subject.Geography.Geography_of_Asia.Asian_Countries</td>\n",
       "    </tr>\n",
       "  </tbody>\n",
       "</table>\n",
       "</div>"
      ],
      "text/plain": [
       "       article         category_x       Continent  \\\n",
       "0   %C3%85land  subject.Countries        European   \n",
       "1    %C3%89ire  subject.Countries        European   \n",
       "2     Abkhazia  subject.Countries           Asian   \n",
       "3    Abu_Dhabi  subject.Countries  Middle Eastern   \n",
       "4  Afghanistan  subject.Countries           Asian   \n",
       "\n",
       "                                                                category_y  \n",
       "0                  subject.Geography.European_Geography.European_Countries  \n",
       "1                  subject.Geography.European_Geography.European_Countries  \n",
       "2                      subject.Geography.Geography_of_Asia.Asian_Countries  \n",
       "3  subject.Geography.Geography_of_the_Middle_East.Middle_Eastern_Countries  \n",
       "4                      subject.Geography.Geography_of_Asia.Asian_Countries  "
      ]
     },
     "execution_count": 61,
     "metadata": {},
     "output_type": "execute_result"
    }
   ],
   "source": [
    "all_countries = pd.DataFrame(all_countries)\n",
    "all_countries.head()"
   ]
  },
  {
   "cell_type": "code",
   "execution_count": 64,
   "id": "307b77de",
   "metadata": {},
   "outputs": [],
   "source": [
    "centralities_row = centralities.drop(['category'], axis=1)\n",
    "all_countries_row = all_countries.drop(['category_x','category_y'],axis=1)"
   ]
  },
  {
   "cell_type": "code",
   "execution_count": 66,
   "id": "e0ba7571",
   "metadata": {
    "collapsed": true
   },
   "outputs": [
    {
     "data": {
      "text/html": [
       "<div>\n",
       "<style scoped>\n",
       "    .dataframe tbody tr th:only-of-type {\n",
       "        vertical-align: middle;\n",
       "    }\n",
       "\n",
       "    .dataframe tbody tr th {\n",
       "        vertical-align: top;\n",
       "    }\n",
       "\n",
       "    .dataframe thead th {\n",
       "        text-align: right;\n",
       "    }\n",
       "</style>\n",
       "<table border=\"1\" class=\"dataframe\">\n",
       "  <thead>\n",
       "    <tr style=\"text-align: right;\">\n",
       "      <th></th>\n",
       "      <th>article</th>\n",
       "      <th>Continent</th>\n",
       "      <th>centrality</th>\n",
       "    </tr>\n",
       "  </thead>\n",
       "  <tbody>\n",
       "    <tr>\n",
       "      <th>0</th>\n",
       "      <td>%C3%85land</td>\n",
       "      <td>European</td>\n",
       "      <td>0.678558</td>\n",
       "    </tr>\n",
       "    <tr>\n",
       "      <th>1</th>\n",
       "      <td>%C3%85land</td>\n",
       "      <td>European</td>\n",
       "      <td>0.678558</td>\n",
       "    </tr>\n",
       "    <tr>\n",
       "      <th>2</th>\n",
       "      <td>%C3%89ire</td>\n",
       "      <td>European</td>\n",
       "      <td>0.705472</td>\n",
       "    </tr>\n",
       "    <tr>\n",
       "      <th>3</th>\n",
       "      <td>%C3%89ire</td>\n",
       "      <td>European</td>\n",
       "      <td>0.705472</td>\n",
       "    </tr>\n",
       "    <tr>\n",
       "      <th>4</th>\n",
       "      <td>Abkhazia</td>\n",
       "      <td>Asian</td>\n",
       "      <td>0.000000</td>\n",
       "    </tr>\n",
       "  </tbody>\n",
       "</table>\n",
       "</div>"
      ],
      "text/plain": [
       "      article Continent  centrality\n",
       "0  %C3%85land  European    0.678558\n",
       "1  %C3%85land  European    0.678558\n",
       "2   %C3%89ire  European    0.705472\n",
       "3   %C3%89ire  European    0.705472\n",
       "4    Abkhazia     Asian    0.000000"
      ]
     },
     "execution_count": 66,
     "metadata": {},
     "output_type": "execute_result"
    }
   ],
   "source": [
    "countries_centralities_continent = all_countries_row.merge(centralities_row,on='article', how='left')"
   ]
  },
  {
   "cell_type": "code",
   "execution_count": 67,
   "id": "2b97b896",
   "metadata": {},
   "outputs": [],
   "source": [
    "countries_centralities_continent_grouped = countries_centralities_continent.groupby('Continent')"
   ]
  },
  {
   "cell_type": "code",
   "execution_count": 73,
   "id": "002a489c",
   "metadata": {
    "scrolled": true
   },
   "outputs": [
    {
     "data": {
      "text/html": [
       "<div>\n",
       "<style scoped>\n",
       "    .dataframe tbody tr th:only-of-type {\n",
       "        vertical-align: middle;\n",
       "    }\n",
       "\n",
       "    .dataframe tbody tr th {\n",
       "        vertical-align: top;\n",
       "    }\n",
       "\n",
       "    .dataframe thead th {\n",
       "        text-align: right;\n",
       "    }\n",
       "</style>\n",
       "<table border=\"1\" class=\"dataframe\">\n",
       "  <thead>\n",
       "    <tr style=\"text-align: right;\">\n",
       "      <th></th>\n",
       "      <th>centrality</th>\n",
       "    </tr>\n",
       "    <tr>\n",
       "      <th>Continent</th>\n",
       "      <th></th>\n",
       "    </tr>\n",
       "  </thead>\n",
       "  <tbody>\n",
       "    <tr>\n",
       "      <th>African</th>\n",
       "      <td>1.528142</td>\n",
       "    </tr>\n",
       "    <tr>\n",
       "      <th>Asian</th>\n",
       "      <td>1.541756</td>\n",
       "    </tr>\n",
       "    <tr>\n",
       "      <th>European</th>\n",
       "      <td>1.720344</td>\n",
       "    </tr>\n",
       "    <tr>\n",
       "      <th>Middle Eastern</th>\n",
       "      <td>1.332062</td>\n",
       "    </tr>\n",
       "    <tr>\n",
       "      <th>North American</th>\n",
       "      <td>2.438162</td>\n",
       "    </tr>\n",
       "    <tr>\n",
       "      <th>Oceania Australasia</th>\n",
       "      <td>0.917468</td>\n",
       "    </tr>\n",
       "    <tr>\n",
       "      <th>SC American</th>\n",
       "      <td>1.303719</td>\n",
       "    </tr>\n",
       "  </tbody>\n",
       "</table>\n",
       "</div>"
      ],
      "text/plain": [
       "                     centrality\n",
       "Continent                      \n",
       "African                1.528142\n",
       "Asian                  1.541756\n",
       "European               1.720344\n",
       "Middle Eastern         1.332062\n",
       "North American         2.438162\n",
       "Oceania Australasia    0.917468\n",
       "SC American            1.303719"
      ]
     },
     "execution_count": 73,
     "metadata": {},
     "output_type": "execute_result"
    }
   ],
   "source": [
    "mean_centrality_continent = pd.DataFrame(countries_centralities_continent_grouped.agg('mean'))\n",
    "std_centrality_continent = pd.DataFrame(countries_centralities_continent_grouped.agg('std'))\n",
    "mean_centrality_continent.head(10)"
   ]
  },
  {
   "cell_type": "code",
   "execution_count": 77,
   "id": "96fdb959",
   "metadata": {},
   "outputs": [
    {
     "data": {
      "text/plain": [
       "Text(0, 0.5, 'Mean centrality')"
      ]
     },
     "execution_count": 77,
     "metadata": {},
     "output_type": "execute_result"
    },
    {
     "data": {
      "image/png": "[encoded data removed]",
      "text/plain": [
       "<Figure size 432x288 with 1 Axes>"
      ]
     },
     "metadata": {
      "needs_background": "light"
     },
     "output_type": "display_data"
    }
   ],
   "source": [
    "mean_centrality_continent['centrality'].plot(kind=\"bar\",yerr = std_centrality_continent)\n",
    "plt.xlabel('Continent')\n",
    "plt.ylabel('Mean centrality')\n",
    "#plt.title('Repartition of countries per continent');"
   ]
  },
  {
   "cell_type": "markdown",
   "id": "819551ee",
   "metadata": {},
   "source": [
    "## Subgraph with only the countries"
   ]
  },
  {
   "cell_type": "code",
   "execution_count": 245,
   "id": "009e4b14",
   "metadata": {},
   "outputs": [
    {
     "data": {
      "text/plain": [
       "array(['United_States', 'United_Kingdom', 'Norway', 'Germany', 'Mexico',\n",
       "       'Canada', 'Russia', 'Italy', 'France', 'South_Africa', 'Japan',\n",
       "       'China', 'India', 'Netherlands'], dtype=object)"
      ]
     },
     "execution_count": 245,
     "metadata": {},
     "output_type": "execute_result"
    }
   ],
   "source": [
    "countries_centralities = countries_centralities.sort_values(by=['centrality'],ascending=False)\n",
    "countries_list = countries_centralities['article'] #.loc[idxs]\n",
    "countries_list = countries_list.to_numpy()\n",
    "countries_list = countries_list[0:14]\n",
    "countries_list"
   ]
  },
  {
   "cell_type": "code",
   "execution_count": 246,
   "id": "42a8e3d4",
   "metadata": {},
   "outputs": [
    {
     "data": {
      "text/plain": [
       "array([2.57289561, 2.55844088, 2.53090775, 2.52917864, 2.50175505,\n",
       "       2.49847417, 2.49567905, 2.48594634, 2.4805265 , 2.47329018,\n",
       "       2.45253258, 2.45064844, 2.44658836, 2.44575076])"
      ]
     },
     "execution_count": 246,
     "metadata": {},
     "output_type": "execute_result"
    }
   ],
   "source": [
    "countries_centralities = pd.DataFrame(countries_centralities)\n",
    "countries_centr_list = countries_centralities['centrality'].to_numpy() #.loc[idxs]\n",
    "countries_centr_list = countries_centr_list[0:14]\n",
    "countries_centr_list"
   ]
  },
  {
   "cell_type": "code",
   "execution_count": 247,
   "id": "128c7512",
   "metadata": {},
   "outputs": [],
   "source": [
    "subgraph_countries = G.subgraph(countries_list)\n",
    "edges = subgraph_countries.edges()\n",
    "weights = [subgraph_countries[u][v]['weight'] for u,v in edges]\n",
    "centrality_nodes = list(nx.get_node_attributes(subgraph_countries,'centrality').values())"
   ]
  },
  {
   "cell_type": "code",
   "execution_count": 255,
   "id": "3af26fc1",
   "metadata": {},
   "outputs": [
    {
     "name": "stdout",
     "output_type": "stream",
     "text": [
      "[   65.87735343  4146.72021944  3161.40048866  2735.12770995\n",
      "  8863.12935716   385.20455137  6697.63571095  6561.64051458\n",
      " 10000.          4404.76232887     0.          3926.88251234\n",
      "  2165.98763261   533.39322308]\n"
     ]
    },
    {
     "data": {
      "text/plain": [
       "{'India': Text(0.9999999914850508, 1.901690784043941e-08, 'India'),\n",
       " 'Canada': Text(0.9009688415656395, 0.43388377356881347, 'Canada'),\n",
       " 'Italy': Text(0.6234897902033594, 0.7818315186027088, 'Italy'),\n",
       " 'France': Text(0.22252097205383023, 0.9749279170878568, 'France'),\n",
       " 'United_Kingdom': Text(-0.2225209507664572, 0.9749279170878568, 'United_Kingdom'),\n",
       " 'China': Text(-0.6234897987183086, 0.7818315186027088, 'China'),\n",
       " 'Norway': Text(-0.9009688500805887, 0.43388383317345797, 'Norway'),\n",
       " 'Germany': Text(-1.0, -6.840586836083619e-08, 'Germany'),\n",
       " 'United_States': Text(-0.9009688500805887, -0.43388373553499776, 'United_States'),\n",
       " 'Mexico': Text(-0.623489619904375, -0.7818315997781822, 'Mexico'),\n",
       " 'Netherlands': Text(-0.2225210103711017, -0.9749278790540411, 'Netherlands'),\n",
       " 'Russia': Text(0.22252103165847475, -0.9749278790540411, 'Russia'),\n",
       " 'South_Africa': Text(0.6234896113894258, -0.7818315997781822, 'South_Africa'),\n",
       " 'Japan': Text(0.9009688415656395, -0.43388373553499776, 'Japan')}"
      ]
     },
     "execution_count": 255,
     "metadata": {},
     "output_type": "execute_result"
    },
    {
     "data": {
      "image/png": "[encoded data removed]",
      "text/plain": [
       "<Figure size 864x864 with 1 Axes>"
      ]
     },
     "metadata": {},
     "output_type": "display_data"
    }
   ],
   "source": [
    "#graph esthetic parameters\n",
    "max_node_size = 10000\n",
    "max_edge_width = 50\n",
    "\n",
    "#extract edges weigths, normalize them and define their width in the graph\n",
    "weights = np.array([subgraph_countries[u][v]['weight'] for u,v in subgraph_countries.edges()])\n",
    "weights = (weights - np.min(weights)) / (np.max(weights)-np.min(weights))\n",
    "weights *= max_edge_width\n",
    "\n",
    "#extract lexical fields total scores over the whole corpus, normalize them and define their width in the graph\n",
    "nodes_size = list(nx.get_node_attributes(subgraph_countries,'centrality').values())\n",
    "nodes_size = (nodes_size - np.min(nodes_size)) / (np.max(nodes_size) - np.min(nodes_size))\n",
    "nodes_size *= max_node_size\n",
    "print(nodes_size)\n",
    "# Generate layout for visualization\n",
    "pos = nx.circular_layout(subgraph_countries)\n",
    "\n",
    "fig, ax = plt.subplots(figsize=(12, 12))\n",
    "#nx.draw_circular(subgraph_countries, width = weights, with_labels=True, node_size=nodes_size, node_color=\"#210070\",edge_color=\"m\",alpha=0.7)\n",
    "# Visualize graph components\n",
    "nx.draw_networkx_edges(subgraph_countries, pos, alpha=0.4, width = weights, edge_color=\"royalblue\")\n",
    "nx.draw_networkx_nodes(subgraph_countries, pos, node_size=nodes_size, node_color=\"darkblue\", alpha=0.8)\n",
    "label_options = {\"ec\": \"k\", \"fc\": \"white\", \"alpha\": 0.7}\n",
    "nx.draw_networkx_labels(subgraph_countries, pos, font_size=18, bbox=label_options)"
   ]
  },
  {
   "cell_type": "markdown",
   "id": "60db7389",
   "metadata": {},
   "source": [
    "## 3.C If I say Switzerland, what do you think?\n",
    "\n",
    "Using the semantic distance, one could investigate what concepts/articles are the closest (in terms of semantic distance) to countries, and thus investigate what image of the countries is given by their semantically-close concepts, i.e. see what people link the countries to (e.g. Switzerland -> Chocolate? UK -> Fish&Chips? Italy -> Pizza?) \n",
    "\n",
    "To sum up, how can we describe the countries in our Wikiworld?"
   ]
  },
  {
   "cell_type": "code",
   "execution_count": null,
   "id": "aa2eb043",
   "metadata": {
    "scrolled": true
   },
   "outputs": [
    {
     "data": {
      "text/plain": [
       "[(0.18223075302814007, 'Baker_Island'),\n",
       " (0.28900084162789624, 'American_Samoa'),\n",
       " (0.3153692706331039, 'Advertising'),\n",
       " (0.33885507194956943, 'Domesticated_turkey'),\n",
       " (0.39698717947338574, 'Igor_Stravinsky'),\n",
       " (0.402573800977865, 'Whale'),\n",
       " (0.4128522745416157, 'Soviet_Union'),\n",
       " (0.44270337143890126, 'United_States_dollar'),\n",
       " (0.4516660364010413, 'Hubble_Space_Telescope'),\n",
       " (0.4765097205277174, 'History_of_Arizona')]"
      ]
     },
     "execution_count": 61,
     "metadata": {},
     "output_type": "execute_result"
    }
   ],
   "source": [
    "top_us=top_('United_States', path_finished_unquoted['path'], 10)\n",
    "top_us"
   ]
  },
  {
   "cell_type": "code",
   "execution_count": null,
   "id": "7e36a72c",
   "metadata": {
    "scrolled": true
   },
   "outputs": [
    {
     "data": {
      "text/plain": [
       "[(0.30358370172055105, 'Glacier'),\n",
       " (0.4421037982901516, 'Greenland'),\n",
       " (0.6049247648676985, 'Cuba'),\n",
       " (0.6190868461950098, 'Switzerland'),\n",
       " (0.6857180122008376, 'Viking'),\n",
       " (0.7045422177523002, 'Norway'),\n",
       " (0.7503823733953766, 'French_Polynesia'),\n",
       " (0.7759682370468759, 'James_Joyce'),\n",
       " (0.7892776227235532, 'WorkChoices'),\n",
       " (0.8028132160106688, 'Time_zone')]"
      ]
     },
     "execution_count": 62,
     "metadata": {},
     "output_type": "execute_result"
    }
   ],
   "source": [
    "top_is=top_('Iceland', path_finished_unquoted['path'], 10)\n",
    "top_is"
   ]
  },
  {
   "cell_type": "markdown",
   "id": "61691705",
   "metadata": {},
   "source": [
    "As before when testing the semantic distance, we observe that the first associated words/concepts make sense, while some others are much more surprising. As said before, some improvement need to be made on the semantic distance, that will probably change a bit the results. However, these first tests confirm that such a distance can indeed be interesting to use to characterize the countries.\n",
    "\n",
    "More in the next Milestone!"
   ]
  },
  {
   "cell_type": "markdown",
   "id": "d2d0430f",
   "metadata": {},
   "source": [
    "# 4. People\n",
    "\n",
    "We now investigate the subset of the dataset related to peoples. The goal is to answer the following questions:\n",
    "- Who are the most famous persons?\n",
    "- To which domain to they belong? What is their gender? Are they dead or alive?\n",
    "\n",
    "## 4.A Categories of People"
   ]
  },
  {
   "cell_type": "markdown",
   "id": "3f79bd0d-5bc5-465f-bf4e-5ec4b2fef904",
   "metadata": {},
   "source": [
    "There are many articles about people in the given dataset. Thus, it is interesting to first understand how the people are categorized.\\\n",
    "We first determine how many classes of articles about people there are. In order to do so, we filter all the categories which possess the word 'People' in the name of their category."
   ]
  },
  {
   "cell_type": "code",
   "execution_count": 257,
   "id": "512c6e31",
   "metadata": {},
   "outputs": [
    {
     "name": "stdout",
     "output_type": "stream",
     "text": [
      "There are 698 people in the dataset, that are divided in 21 different classes.\n"
     ]
    }
   ],
   "source": [
    "#Group all the articles about people together.\n",
    "people = categories_grouped.filter(lambda x: 'People' in str(x['category'])) \n",
    "people_grouped = people.groupby(by=\"category\")\n",
    "print(\"There are {0} people in the dataset, that are divided in {1} different classes.\".format(people.nunique()[0],people.nunique()[1]))\n"
   ]
  },
  {
   "cell_type": "markdown",
   "id": "812b016f",
   "metadata": {},
   "source": [
    "Let's have a look at the `people` dataframe created:"
   ]
  },
  {
   "cell_type": "code",
   "execution_count": 258,
   "id": "d0e0dbca",
   "metadata": {},
   "outputs": [
    {
     "data": {
      "text/html": [
       "<div>\n",
       "<style scoped>\n",
       "    .dataframe tbody tr th:only-of-type {\n",
       "        vertical-align: middle;\n",
       "    }\n",
       "\n",
       "    .dataframe tbody tr th {\n",
       "        vertical-align: top;\n",
       "    }\n",
       "\n",
       "    .dataframe thead th {\n",
       "        text-align: right;\n",
       "    }\n",
       "</style>\n",
       "<table border=\"1\" class=\"dataframe\">\n",
       "  <thead>\n",
       "    <tr style=\"text-align: right;\">\n",
       "      <th></th>\n",
       "      <th>article</th>\n",
       "      <th>category</th>\n",
       "    </tr>\n",
       "  </thead>\n",
       "  <tbody>\n",
       "    <tr>\n",
       "      <th>1</th>\n",
       "      <td>%C3%81ed%C3%A1n_mac_Gabr%C3%A1in</td>\n",
       "      <td>subject.People.Historical_figures</td>\n",
       "    </tr>\n",
       "    <tr>\n",
       "      <th>4</th>\n",
       "      <td>%C3%89douard_Manet</td>\n",
       "      <td>subject.People.Artists</td>\n",
       "    </tr>\n",
       "    <tr>\n",
       "      <th>8</th>\n",
       "      <td>%C3%93engus_I_of_the_Picts</td>\n",
       "      <td>subject.People.Historical_figures</td>\n",
       "    </tr>\n",
       "  </tbody>\n",
       "</table>\n",
       "</div>"
      ],
      "text/plain": [
       "                            article                           category\n",
       "1  %C3%81ed%C3%A1n_mac_Gabr%C3%A1in  subject.People.Historical_figures\n",
       "4                %C3%89douard_Manet             subject.People.Artists\n",
       "8        %C3%93engus_I_of_the_Picts  subject.People.Historical_figures"
      ]
     },
     "execution_count": 258,
     "metadata": {},
     "output_type": "execute_result"
    }
   ],
   "source": [
    "people.head(3)"
   ]
  },
  {
   "cell_type": "code",
   "execution_count": 259,
   "id": "8f7ad9d9",
   "metadata": {},
   "outputs": [
    {
     "data": {
      "text/html": [
       "<div>\n",
       "<style scoped>\n",
       "    .dataframe tbody tr th:only-of-type {\n",
       "        vertical-align: middle;\n",
       "    }\n",
       "\n",
       "    .dataframe tbody tr th {\n",
       "        vertical-align: top;\n",
       "    }\n",
       "\n",
       "    .dataframe thead th {\n",
       "        text-align: right;\n",
       "    }\n",
       "</style>\n",
       "<table border=\"1\" class=\"dataframe\">\n",
       "  <thead>\n",
       "    <tr style=\"text-align: right;\">\n",
       "      <th></th>\n",
       "      <th>article</th>\n",
       "      <th>category</th>\n",
       "    </tr>\n",
       "  </thead>\n",
       "  <tbody>\n",
       "    <tr>\n",
       "      <th>count</th>\n",
       "      <td>711</td>\n",
       "      <td>711</td>\n",
       "    </tr>\n",
       "    <tr>\n",
       "      <th>unique</th>\n",
       "      <td>698</td>\n",
       "      <td>21</td>\n",
       "    </tr>\n",
       "    <tr>\n",
       "      <th>top</th>\n",
       "      <td>Ulysses_S._Grant</td>\n",
       "      <td>subject.People.Historical_figures</td>\n",
       "    </tr>\n",
       "    <tr>\n",
       "      <th>freq</th>\n",
       "      <td>2</td>\n",
       "      <td>108</td>\n",
       "    </tr>\n",
       "  </tbody>\n",
       "</table>\n",
       "</div>"
      ],
      "text/plain": [
       "                 article                           category\n",
       "count                711                                711\n",
       "unique               698                                 21\n",
       "top     Ulysses_S._Grant  subject.People.Historical_figures\n",
       "freq                   2                                108"
      ]
     },
     "execution_count": 259,
     "metadata": {},
     "output_type": "execute_result"
    }
   ],
   "source": [
    "people.describe()"
   ]
  },
  {
   "cell_type": "code",
   "execution_count": 260,
   "id": "ae0ff498",
   "metadata": {},
   "outputs": [
    {
     "data": {
      "text/plain": [
       "2764                    subject.People.Artists\n",
       "2765    subject.People.Engineers_and_inventors\n",
       "Name: category, dtype: object"
      ]
     },
     "execution_count": 260,
     "metadata": {},
     "output_type": "execute_result"
    }
   ],
   "source": [
    "people.category[people.article=='Leonardo_da_Vinci']"
   ]
  },
  {
   "cell_type": "markdown",
   "id": "7ef373e6",
   "metadata": {},
   "source": [
    "There are 698 people in the dataset, that are divided in 21 different classes. Some people appear in different categories, but not more then two different. For example, Leonardo da Vinci, which was active as a painter, draughtsman, engineer, scientist, theorist, sculptor, and architect, is classified into the categories `subject.People.Artists` and `subject.People.Engineers_and_inventors` of Wikipedia."
   ]
  },
  {
   "cell_type": "markdown",
   "id": "bcc7000b-189b-4415-9d44-0f08d4b24b85",
   "metadata": {},
   "source": [
    "Let's now have an overview of the 21 categories to which the peoples' articles belong."
   ]
  },
  {
   "cell_type": "code",
   "execution_count": 261,
   "id": "a63c92a7-a678-4ebf-9057-87d0d8d35745",
   "metadata": {},
   "outputs": [
    {
     "data": {
      "image/png": "[encoded data removed]",
      "text/plain": [
       "<Figure size 432x288 with 1 Axes>"
      ]
     },
     "metadata": {
      "needs_background": "light"
     },
     "output_type": "display_data"
    }
   ],
   "source": [
    "people['category'].value_counts().plot(kind=\"bar\")\n",
    "plt.xlabel('People category')\n",
    "plt.ylabel('Absolute frequency of articles (people)')\n",
    "plt.title('Distribution of people category');"
   ]
  },
  {
   "cell_type": "markdown",
   "id": "2e6e034b",
   "metadata": {},
   "source": [
    "With the previous histogram, one can see that the category `subject.People.Historical_figures` countains the highest number of people, with more then 100 articles. The categories `subject.People.Writers_and_critics` and `subject.People.Political_People` are also very much represented with more then 60 articles each. "
   ]
  },
  {
   "cell_type": "markdown",
   "id": "3084fc8d-e53e-4a79-905b-a65b953180ff",
   "metadata": {},
   "source": [
    "As there are a lot of different categories for classifying peolples' articles, we might decide later on to regroup some of these categories together. Indeed, `..._Astronomers_and_physicists`, `..._Chemists`, `..._Mathematicians` and `..._Human_Scientists` could all be regrouped into the same category, as they all are researchers in fundamental sciences."
   ]
  },
  {
   "cell_type": "markdown",
   "id": "adffa49c",
   "metadata": {},
   "source": [
    "We can also extract articles about people belonging to a specific category. For example, below we create a new dataframe with all the historical figures given in the Wikispeedia dataset."
   ]
  },
  {
   "cell_type": "code",
   "execution_count": 262,
   "id": "43236265-1038-427c-98f4-7369a8a73f1a",
   "metadata": {
    "scrolled": true
   },
   "outputs": [
    {
     "data": {
      "text/html": [
       "<div>\n",
       "<style scoped>\n",
       "    .dataframe tbody tr th:only-of-type {\n",
       "        vertical-align: middle;\n",
       "    }\n",
       "\n",
       "    .dataframe tbody tr th {\n",
       "        vertical-align: top;\n",
       "    }\n",
       "\n",
       "    .dataframe thead th {\n",
       "        text-align: right;\n",
       "    }\n",
       "</style>\n",
       "<table border=\"1\" class=\"dataframe\">\n",
       "  <thead>\n",
       "    <tr style=\"text-align: right;\">\n",
       "      <th></th>\n",
       "      <th>article</th>\n",
       "      <th>category</th>\n",
       "    </tr>\n",
       "  </thead>\n",
       "  <tbody>\n",
       "    <tr>\n",
       "      <th>1</th>\n",
       "      <td>%C3%81ed%C3%A1n_mac_Gabr%C3%A1in</td>\n",
       "      <td>subject.People.Historical_figures</td>\n",
       "    </tr>\n",
       "    <tr>\n",
       "      <th>8</th>\n",
       "      <td>%C3%93engus_I_of_the_Picts</td>\n",
       "      <td>subject.People.Historical_figures</td>\n",
       "    </tr>\n",
       "    <tr>\n",
       "      <th>88</th>\n",
       "      <td>Abbas_I_of_Persia</td>\n",
       "      <td>subject.People.Historical_figures</td>\n",
       "    </tr>\n",
       "    <tr>\n",
       "      <th>129</th>\n",
       "      <td>Adam_Smith</td>\n",
       "      <td>subject.People.Historical_figures</td>\n",
       "    </tr>\n",
       "    <tr>\n",
       "      <th>135</th>\n",
       "      <td>Adriaen_van_der_Donck</td>\n",
       "      <td>subject.People.Historical_figures</td>\n",
       "    </tr>\n",
       "  </tbody>\n",
       "</table>\n",
       "</div>"
      ],
      "text/plain": [
       "                              article                           category\n",
       "1    %C3%81ed%C3%A1n_mac_Gabr%C3%A1in  subject.People.Historical_figures\n",
       "8          %C3%93engus_I_of_the_Picts  subject.People.Historical_figures\n",
       "88                  Abbas_I_of_Persia  subject.People.Historical_figures\n",
       "129                        Adam_Smith  subject.People.Historical_figures\n",
       "135             Adriaen_van_der_Donck  subject.People.Historical_figures"
      ]
     },
     "execution_count": 262,
     "metadata": {},
     "output_type": "execute_result"
    }
   ],
   "source": [
    "historical_figures = categories_grouped.get_group('subject.People.Historical_figures')\n",
    "historical_figures.head()"
   ]
  },
  {
   "cell_type": "markdown",
   "id": "d01fe881",
   "metadata": {},
   "source": [
    "## 4.B Who are the people in our dataset?\n",
    "\n",
    "For now, our `people` dataset only countains the article names, corresponding to the peoples' name, and the category to which they belong. However, we do not have many usefull information about who these people are. The goal is here to extract useful informations on the people from the articles (Date of Birth, Nationality, Gender, etc), in order to be able in a second step to make statistics on (for instance) the 100 most central persons in the Wikispeedia's path's graph.\n"
   ]
  },
  {
   "cell_type": "markdown",
   "id": "e622447f",
   "metadata": {},
   "source": [
    "### 4.B.a Extracting the information from the plaintext"
   ]
  },
  {
   "cell_type": "markdown",
   "id": "6066edf7",
   "metadata": {},
   "source": [
    "In a first attempt, we tried to extract the informations stated before form the plaintext of the articles. The following code, tries to extract the information about the birth date of Albert Einstein. However, while doing this test, we realized that there was too much variability in the location of the informations in the plaintext files. Thus, this technique is not very robust to differences between the Wikipedia articles. \n",
    "Later, in a second attempt, we will try to extract these informations from the html pages of the articles.\n"
   ]
  },
  {
   "cell_type": "markdown",
   "id": "19e8d002",
   "metadata": {},
   "source": [
    "We first access the folder `plaintext_articles`. We open the plaintext Wikipedia file of Albert Einstein `Albert_Einstein.txt`, and load the text as a list of strings (each line being a new element)."
   ]
  },
  {
   "cell_type": "code",
   "execution_count": null,
   "id": "0cfe7819",
   "metadata": {},
   "outputs": [],
   "source": [
    "PATH_FOLDER = 'plaintext_articles/'\n",
    "\n",
    "# Defining paths\n",
    "Article_Albert_Einstein = open(PATH_FOLDER +\"Albert_Einstein.txt\",'r')\n",
    "lines_AE = Article_Albert_Einstein.readlines()"
   ]
  },
  {
   "cell_type": "markdown",
   "id": "dc7c6879",
   "metadata": {},
   "source": [
    "For each line of the list of string, we then search if the key word \"Born\" is present. If it is the case, the code extracts the text that comes after. Here, we can see that the birth date of Einstein has successfully been extracted."
   ]
  },
  {
   "cell_type": "code",
   "execution_count": null,
   "id": "bef1f82b",
   "metadata": {},
   "outputs": [
    {
     "name": "stdout",
     "output_type": "stream",
     "text": [
      "['      March 14, 1879']\n"
     ]
    }
   ],
   "source": [
    "# A list to append extracted data\n",
    "list_extracted_data = []\n",
    "for line in lines_AE:\n",
    "# Flag is True if the line starts (special character for start: \\A) with 'Id of the track'\n",
    "    flag = re.search('Born',line)\n",
    "    if flag:\n",
    "        start_index = re.search('Born',line).end()\n",
    "        end_index = re.search('\\n',line).start() \n",
    "# Select the indices from each line as it contains our extracted data\n",
    "        list_extracted_data.append(line[start_index:end_index])\n",
    "        break\n",
    "print(list_extracted_data)"
   ]
  },
  {
   "cell_type": "markdown",
   "id": "6212b8b9",
   "metadata": {},
   "source": [
    "However, as stated before, this technique is not robust to the different forms of the Wikipedia articles. Indeed, we implemented a function doing the previous steps for any article, but unfortunatelly it did not give good results."
   ]
  },
  {
   "cell_type": "markdown",
   "id": "62f884b4",
   "metadata": {},
   "source": [
    "### 4.B.b Extracting the information from the html page"
   ]
  },
  {
   "cell_type": "markdown",
   "id": "8cda25e1",
   "metadata": {},
   "source": [
    "In a second attempt, we try to extract the useful informations from the html Wikipedia pages of the articles. Indeed, the html pages are more structured then the plaintext, so extracting information is more robust to the different Wikipedia articles. "
   ]
  },
  {
   "cell_type": "markdown",
   "id": "658f184d-7291-4113-9dc9-9df421ec59d5",
   "metadata": {},
   "source": [
    "One uses `BeautifulSoup` and the preexisting html structure given in the `wpcd/wp/` folder to extract the wanted informations about the people from the Wikipedia articles.\\\n",
    "The main informations about the people are gathered in the infobox table of the Wikipedia page, so one accesses it to extract birth and death conditions, nationality and residence."
   ]
  },
  {
   "cell_type": "code",
   "execution_count": null,
   "id": "138cf6e5-5fc6-4a40-a3d1-a819ac262c00",
   "metadata": {
    "jupyter": {
     "outputs_hidden": true
    },
    "tags": []
   },
   "outputs": [],
   "source": [
    "from bs4 import BeautifulSoup\n",
    "\n",
    "# One adds columns to the people dataframe for the categories one will consider\n",
    "personalInformation = ['Born', 'Died', 'Residence', 'Nationality']\n",
    "\n",
    "for header in personalInformation:\n",
    "    people[str(header)] = np.nan\n",
    "\n",
    "# One now extract all the informations file by file\n",
    "for article in people['article']:\n",
    "    article_string = str(article)\n",
    "    PATH = 'wpcd/wp/'+article_string[0].lower()+'/'+article_string+'.htm' #access the html file in the wpcd/wp folder\n",
    "    soup = BeautifulSoup(open(PATH, encoding=\"utf8\"), 'html.parser')\n",
    "    # only infobox informations interest us, so one reduces the dataset, if it exists. The if check is essential, since not all people have an information box.\n",
    "    if soup.find(class_ = 'infobox'):\n",
    "        infobox = soup.find(class_ = 'infobox') #Find the infobox\n",
    "        for title in personalInformation:\n",
    "            # a distinction between th and td cells need to be made, since box appear in wikipedia infoboxes (c.f. web inspector)\n",
    "            if infobox.find(\"th\", text=str(title)):\n",
    "                people.loc[people['article'] == article_string, str(title)] = infobox.find(\"th\", text=str(title)).find_next_sibling(\"td\").get_text(separator = ' ', strip = True)\n",
    "            elif infobox.find(\"td\", text=str(title)):\n",
    "                people.loc[people['article'] == article_string, str(title)] = infobox.find(\"td\", text=str(title)).find_next_sibling(\"td\").get_text(separator = ' ', strip = True)\n",
    "            "
   ]
  },
  {
   "cell_type": "code",
   "execution_count": null,
   "id": "7e6e9f6d",
   "metadata": {},
   "outputs": [
    {
     "data": {
      "text/html": [
       "<div>\n",
       "<style scoped>\n",
       "    .dataframe tbody tr th:only-of-type {\n",
       "        vertical-align: middle;\n",
       "    }\n",
       "\n",
       "    .dataframe tbody tr th {\n",
       "        vertical-align: top;\n",
       "    }\n",
       "\n",
       "    .dataframe thead th {\n",
       "        text-align: right;\n",
       "    }\n",
       "</style>\n",
       "<table border=\"1\" class=\"dataframe\">\n",
       "  <thead>\n",
       "    <tr style=\"text-align: right;\">\n",
       "      <th></th>\n",
       "      <th>article</th>\n",
       "      <th>category</th>\n",
       "      <th>Born</th>\n",
       "      <th>Died</th>\n",
       "      <th>Residence</th>\n",
       "      <th>Nationality</th>\n",
       "    </tr>\n",
       "  </thead>\n",
       "  <tbody>\n",
       "    <tr>\n",
       "      <th>1</th>\n",
       "      <td>%C3%81ed%C3%A1n_mac_Gabr%C3%A1in</td>\n",
       "      <td>subject.People.Historical_figures</td>\n",
       "      <td>NaN</td>\n",
       "      <td>NaN</td>\n",
       "      <td>NaN</td>\n",
       "      <td>NaN</td>\n",
       "    </tr>\n",
       "    <tr>\n",
       "      <th>4</th>\n",
       "      <td>%C3%89douard_Manet</td>\n",
       "      <td>subject.People.Artists</td>\n",
       "      <td>January 23, 1832 Paris</td>\n",
       "      <td>April 30, 1883 Paris</td>\n",
       "      <td>NaN</td>\n",
       "      <td>French</td>\n",
       "    </tr>\n",
       "    <tr>\n",
       "      <th>8</th>\n",
       "      <td>%C3%93engus_I_of_the_Picts</td>\n",
       "      <td>subject.People.Historical_figures</td>\n",
       "      <td>NaN</td>\n",
       "      <td>761</td>\n",
       "      <td>NaN</td>\n",
       "      <td>NaN</td>\n",
       "    </tr>\n",
       "    <tr>\n",
       "      <th>67</th>\n",
       "      <td>A._E._J._Collins</td>\n",
       "      <td>subject.People.Sports_and_games_people</td>\n",
       "      <td>NaN</td>\n",
       "      <td>NaN</td>\n",
       "      <td>NaN</td>\n",
       "      <td>NaN</td>\n",
       "    </tr>\n",
       "    <tr>\n",
       "      <th>88</th>\n",
       "      <td>Abbas_I_of_Persia</td>\n",
       "      <td>subject.People.Historical_figures</td>\n",
       "      <td>NaN</td>\n",
       "      <td>NaN</td>\n",
       "      <td>NaN</td>\n",
       "      <td>NaN</td>\n",
       "    </tr>\n",
       "    <tr>\n",
       "      <th>95</th>\n",
       "      <td>Abel_Tasman</td>\n",
       "      <td>subject.People.Geographers_and_explorers</td>\n",
       "      <td>NaN</td>\n",
       "      <td>NaN</td>\n",
       "      <td>NaN</td>\n",
       "      <td>NaN</td>\n",
       "    </tr>\n",
       "    <tr>\n",
       "      <th>104</th>\n",
       "      <td>Abraham_Goldfaden</td>\n",
       "      <td>subject.People.Writers_and_critics</td>\n",
       "      <td>NaN</td>\n",
       "      <td>NaN</td>\n",
       "      <td>NaN</td>\n",
       "      <td>NaN</td>\n",
       "    </tr>\n",
       "    <tr>\n",
       "      <th>105</th>\n",
       "      <td>Abraham_Lincoln</td>\n",
       "      <td>subject.People.USA_Presidents</td>\n",
       "      <td>February 12, 1809 Hardin County, Kentucky</td>\n",
       "      <td>April 15, 1865 Washington, D.C.</td>\n",
       "      <td>NaN</td>\n",
       "      <td>NaN</td>\n",
       "    </tr>\n",
       "    <tr>\n",
       "      <th>129</th>\n",
       "      <td>Adam_Smith</td>\n",
       "      <td>subject.People.Historical_figures</td>\n",
       "      <td>NaN</td>\n",
       "      <td>NaN</td>\n",
       "      <td>NaN</td>\n",
       "      <td>NaN</td>\n",
       "    </tr>\n",
       "    <tr>\n",
       "      <th>133</th>\n",
       "      <td>Adi_Shankara</td>\n",
       "      <td>subject.People.Religious_figures_and_leaders</td>\n",
       "      <td>NaN</td>\n",
       "      <td>NaN</td>\n",
       "      <td>NaN</td>\n",
       "      <td>NaN</td>\n",
       "    </tr>\n",
       "  </tbody>\n",
       "</table>\n",
       "</div>"
      ],
      "text/plain": [
       "                              article  \\\n",
       "1    %C3%81ed%C3%A1n_mac_Gabr%C3%A1in   \n",
       "4                  %C3%89douard_Manet   \n",
       "8          %C3%93engus_I_of_the_Picts   \n",
       "67                   A._E._J._Collins   \n",
       "88                  Abbas_I_of_Persia   \n",
       "95                        Abel_Tasman   \n",
       "104                 Abraham_Goldfaden   \n",
       "105                   Abraham_Lincoln   \n",
       "129                        Adam_Smith   \n",
       "133                      Adi_Shankara   \n",
       "\n",
       "                                         category  \\\n",
       "1               subject.People.Historical_figures   \n",
       "4                          subject.People.Artists   \n",
       "8               subject.People.Historical_figures   \n",
       "67         subject.People.Sports_and_games_people   \n",
       "88              subject.People.Historical_figures   \n",
       "95       subject.People.Geographers_and_explorers   \n",
       "104            subject.People.Writers_and_critics   \n",
       "105                 subject.People.USA_Presidents   \n",
       "129             subject.People.Historical_figures   \n",
       "133  subject.People.Religious_figures_and_leaders   \n",
       "\n",
       "                                          Born  \\\n",
       "1                                          NaN   \n",
       "4                       January 23, 1832 Paris   \n",
       "8                                          NaN   \n",
       "67                                         NaN   \n",
       "88                                         NaN   \n",
       "95                                         NaN   \n",
       "104                                        NaN   \n",
       "105  February 12, 1809 Hardin County, Kentucky   \n",
       "129                                        NaN   \n",
       "133                                        NaN   \n",
       "\n",
       "                                Died Residence Nationality  \n",
       "1                                NaN       NaN         NaN  \n",
       "4               April 30, 1883 Paris       NaN      French  \n",
       "8                                761       NaN         NaN  \n",
       "67                               NaN       NaN         NaN  \n",
       "88                               NaN       NaN         NaN  \n",
       "95                               NaN       NaN         NaN  \n",
       "104                              NaN       NaN         NaN  \n",
       "105  April 15, 1865 Washington, D.C.       NaN         NaN  \n",
       "129                              NaN       NaN         NaN  \n",
       "133                              NaN       NaN         NaN  "
      ]
     },
     "execution_count": 72,
     "metadata": {},
     "output_type": "execute_result"
    }
   ],
   "source": [
    "people.head(10)"
   ]
  },
  {
   "cell_type": "markdown",
   "id": "77eaed44",
   "metadata": {},
   "source": [
    "We managed to extract the desired informations from the html article pages. However, many people possess NaN values for the different informations. This is due to the fact that some html pages do not have an infobox. Another explanation is that the information is not available inside the infobox.\\\n",
    "Let's check if the extraction of information from the html page worked correctly for our previous example Albert Einstein:"
   ]
  },
  {
   "cell_type": "code",
   "execution_count": null,
   "id": "d77a35ee-3766-4cf2-a9fd-7f98a00f878d",
   "metadata": {},
   "outputs": [
    {
     "data": {
      "text/html": [
       "<div>\n",
       "<style scoped>\n",
       "    .dataframe tbody tr th:only-of-type {\n",
       "        vertical-align: middle;\n",
       "    }\n",
       "\n",
       "    .dataframe tbody tr th {\n",
       "        vertical-align: top;\n",
       "    }\n",
       "\n",
       "    .dataframe thead th {\n",
       "        text-align: right;\n",
       "    }\n",
       "</style>\n",
       "<table border=\"1\" class=\"dataframe\">\n",
       "  <thead>\n",
       "    <tr style=\"text-align: right;\">\n",
       "      <th></th>\n",
       "      <th>article</th>\n",
       "      <th>category</th>\n",
       "      <th>Born</th>\n",
       "      <th>Died</th>\n",
       "      <th>Residence</th>\n",
       "      <th>Nationality</th>\n",
       "    </tr>\n",
       "  </thead>\n",
       "  <tbody>\n",
       "    <tr>\n",
       "      <th>184</th>\n",
       "      <td>Albert_Einstein</td>\n",
       "      <td>subject.People.Astronomers_and_physicists</td>\n",
       "      <td>March 14, 1879 Ulm, Württemberg, Germany</td>\n",
       "      <td>April 18, 1955 Princeton, New Jersey</td>\n",
       "      <td>Germany , Italy , Switzerland , USA</td>\n",
       "      <td>German (1879-96, 1914-33) Swiss (1901-55) American (1940-55)</td>\n",
       "    </tr>\n",
       "  </tbody>\n",
       "</table>\n",
       "</div>"
      ],
      "text/plain": [
       "             article                                   category  \\\n",
       "184  Albert_Einstein  subject.People.Astronomers_and_physicists   \n",
       "\n",
       "                                         Born  \\\n",
       "184  March 14, 1879 Ulm, Württemberg, Germany   \n",
       "\n",
       "                                     Died  \\\n",
       "184  April 18, 1955 Princeton, New Jersey   \n",
       "\n",
       "                               Residence  \\\n",
       "184  Germany , Italy , Switzerland , USA   \n",
       "\n",
       "                                                      Nationality  \n",
       "184  German (1879-96, 1914-33) Swiss (1901-55) American (1940-55)  "
      ]
     },
     "execution_count": 73,
     "metadata": {},
     "output_type": "execute_result"
    }
   ],
   "source": [
    "people.loc[people['article'] == 'Albert_Einstein']"
   ]
  },
  {
   "cell_type": "markdown",
   "id": "dad8a1d3-d820-4c1e-a4e7-4cc091d3f769",
   "metadata": {},
   "source": [
    "As shows this last example on Albert Einstein, we managed to extract the informations. However, the columns countain multiple informations. For example, the `Born` column contains both the date of birth, but also the place of birth. Thus, the new columns need to be treated.\\\n",
    "One will therefore distinguish the birth and death dates and places. One will also only keep the nationalities and not the dates related to them, that interest us less.\\\n",
    "This will be done in future works."
   ]
  },
  {
   "cell_type": "markdown",
   "id": "812d7b72",
   "metadata": {},
   "source": [
    "Moreover, as stated before, some informations in the infobox are missing. Indeed, the infobow does not give information about the gender of the persons. As a result, in future works we are going to use the **Wikidata** dataset provided by Wikipedia. This dataset presents a structured form for the Wikipedia informations. Thus, from this dataset we will be able to extract the missing informations about people, such as information about gender.\\\n",
    "We could also use this dataset in order to extract more informations about the countries or other article of interest."
   ]
  },
  {
   "cell_type": "markdown",
   "id": "cecfa285",
   "metadata": {},
   "source": [
    "## 4.C What are the most important people according to Wikipedia's users?"
   ]
  },
  {
   "cell_type": "markdown",
   "id": "68a95c85",
   "metadata": {},
   "source": [
    "In a way similar to what we have done with the countries, we are going to use the centrality computed before. We wish to determine what people are the most central in the graph created from the paths. This can provide us with interesting information on the importance of different people for Wikipedia's users. Who are the most famous persons ?"
   ]
  },
  {
   "cell_type": "markdown",
   "id": "38926a03",
   "metadata": {},
   "source": [
    "Thus, we start by extracting the centrality information of the people, from all the centralities computed before."
   ]
  },
  {
   "cell_type": "code",
   "execution_count": 268,
   "id": "cf9cb7e2",
   "metadata": {},
   "outputs": [
    {
     "data": {
      "text/html": [
       "<div>\n",
       "<style scoped>\n",
       "    .dataframe tbody tr th:only-of-type {\n",
       "        vertical-align: middle;\n",
       "    }\n",
       "\n",
       "    .dataframe tbody tr th {\n",
       "        vertical-align: top;\n",
       "    }\n",
       "\n",
       "    .dataframe thead th {\n",
       "        text-align: right;\n",
       "    }\n",
       "</style>\n",
       "<table border=\"1\" class=\"dataframe\">\n",
       "  <thead>\n",
       "    <tr style=\"text-align: right;\">\n",
       "      <th></th>\n",
       "      <th>article</th>\n",
       "      <th>centrality</th>\n",
       "      <th>category</th>\n",
       "    </tr>\n",
       "  </thead>\n",
       "  <tbody>\n",
       "    <tr>\n",
       "      <th>21</th>\n",
       "      <td>Ronald_Reagan</td>\n",
       "      <td>1.693434</td>\n",
       "      <td>subject.People.USA_Presidents</td>\n",
       "    </tr>\n",
       "    <tr>\n",
       "      <th>30</th>\n",
       "      <td>Isaac_Newton</td>\n",
       "      <td>2.040953</td>\n",
       "      <td>subject.People.Astronomers_and_physicists</td>\n",
       "    </tr>\n",
       "    <tr>\n",
       "      <th>33</th>\n",
       "      <td>Plato</td>\n",
       "      <td>1.583892</td>\n",
       "      <td>subject.People.Philosophers</td>\n",
       "    </tr>\n",
       "    <tr>\n",
       "      <th>42</th>\n",
       "      <td>Leonardo_da_Vinci</td>\n",
       "      <td>2.170778</td>\n",
       "      <td>subject.People.Artists</td>\n",
       "    </tr>\n",
       "    <tr>\n",
       "      <th>43</th>\n",
       "      <td>Leonardo_da_Vinci</td>\n",
       "      <td>2.170778</td>\n",
       "      <td>subject.People.Engineers_and_inventors</td>\n",
       "    </tr>\n",
       "    <tr>\n",
       "      <th>46</th>\n",
       "      <td>Archbishop_of_Canterbury</td>\n",
       "      <td>1.867003</td>\n",
       "      <td>subject.People.Religious_figures_and_leaders</td>\n",
       "    </tr>\n",
       "    <tr>\n",
       "      <th>88</th>\n",
       "      <td>James_I_of_England</td>\n",
       "      <td>2.315013</td>\n",
       "      <td>subject.People.Monarchs_of_Great_Britain</td>\n",
       "    </tr>\n",
       "    <tr>\n",
       "      <th>91</th>\n",
       "      <td>Henry_VI_of_England</td>\n",
       "      <td>1.507626</td>\n",
       "      <td>subject.People.Monarchs_of_Great_Britain</td>\n",
       "    </tr>\n",
       "    <tr>\n",
       "      <th>94</th>\n",
       "      <td>Henry_VIII_of_England</td>\n",
       "      <td>2.224436</td>\n",
       "      <td>subject.People.Monarchs_of_Great_Britain</td>\n",
       "    </tr>\n",
       "    <tr>\n",
       "      <th>108</th>\n",
       "      <td>Albert_Einstein</td>\n",
       "      <td>2.258804</td>\n",
       "      <td>subject.People.Astronomers_and_physicists</td>\n",
       "    </tr>\n",
       "  </tbody>\n",
       "</table>\n",
       "</div>"
      ],
      "text/plain": [
       "                      article  centrality  \\\n",
       "21              Ronald_Reagan    1.693434   \n",
       "30               Isaac_Newton    2.040953   \n",
       "33                      Plato    1.583892   \n",
       "42          Leonardo_da_Vinci    2.170778   \n",
       "43          Leonardo_da_Vinci    2.170778   \n",
       "46   Archbishop_of_Canterbury    1.867003   \n",
       "88         James_I_of_England    2.315013   \n",
       "91        Henry_VI_of_England    1.507626   \n",
       "94      Henry_VIII_of_England    2.224436   \n",
       "108           Albert_Einstein    2.258804   \n",
       "\n",
       "                                         category  \n",
       "21                  subject.People.USA_Presidents  \n",
       "30      subject.People.Astronomers_and_physicists  \n",
       "33                    subject.People.Philosophers  \n",
       "42                         subject.People.Artists  \n",
       "43         subject.People.Engineers_and_inventors  \n",
       "46   subject.People.Religious_figures_and_leaders  \n",
       "88       subject.People.Monarchs_of_Great_Britain  \n",
       "91       subject.People.Monarchs_of_Great_Britain  \n",
       "94       subject.People.Monarchs_of_Great_Britain  \n",
       "108     subject.People.Astronomers_and_physicists  "
      ]
     },
     "execution_count": 268,
     "metadata": {},
     "output_type": "execute_result"
    }
   ],
   "source": [
    "people_centrality = centralities[centralities['category'].str.contains('People')]\n",
    "people_centrality.head(10)"
   ]
  },
  {
   "cell_type": "markdown",
   "id": "9abf1b36",
   "metadata": {},
   "source": [
    "In order to determine who are the most \"famous\" persons, we now sort the centrality scores in a descending way. Here, we output the 10 most famous persons. "
   ]
  },
  {
   "cell_type": "code",
   "execution_count": 269,
   "id": "8cc2f00c",
   "metadata": {},
   "outputs": [
    {
     "data": {
      "text/html": [
       "<div>\n",
       "<style scoped>\n",
       "    .dataframe tbody tr th:only-of-type {\n",
       "        vertical-align: middle;\n",
       "    }\n",
       "\n",
       "    .dataframe tbody tr th {\n",
       "        vertical-align: top;\n",
       "    }\n",
       "\n",
       "    .dataframe thead th {\n",
       "        text-align: right;\n",
       "    }\n",
       "</style>\n",
       "<table border=\"1\" class=\"dataframe\">\n",
       "  <thead>\n",
       "    <tr style=\"text-align: right;\">\n",
       "      <th></th>\n",
       "      <th>article</th>\n",
       "      <th>centrality</th>\n",
       "      <th>category</th>\n",
       "    </tr>\n",
       "  </thead>\n",
       "  <tbody>\n",
       "    <tr>\n",
       "      <th>158</th>\n",
       "      <td>George_W._Bush</td>\n",
       "      <td>2.497528</td>\n",
       "      <td>subject.People.USA_Presidents</td>\n",
       "    </tr>\n",
       "    <tr>\n",
       "      <th>945</th>\n",
       "      <td>Elizabeth_II_of_the_United_Kingdom</td>\n",
       "      <td>2.470971</td>\n",
       "      <td>subject.People.Political_People</td>\n",
       "    </tr>\n",
       "    <tr>\n",
       "      <th>1636</th>\n",
       "      <td>J._K._Rowling</td>\n",
       "      <td>2.436281</td>\n",
       "      <td>subject.People.Writers_and_critics</td>\n",
       "    </tr>\n",
       "    <tr>\n",
       "      <th>120</th>\n",
       "      <td>George_Washington</td>\n",
       "      <td>2.433914</td>\n",
       "      <td>subject.People.USA_Presidents</td>\n",
       "    </tr>\n",
       "    <tr>\n",
       "      <th>600</th>\n",
       "      <td>Martin_Luther_King%2C_Jr.</td>\n",
       "      <td>2.410108</td>\n",
       "      <td>subject.People.Political_People</td>\n",
       "    </tr>\n",
       "    <tr>\n",
       "      <th>650</th>\n",
       "      <td>Adolf_Hitler</td>\n",
       "      <td>2.406876</td>\n",
       "      <td>subject.People.Political_People</td>\n",
       "    </tr>\n",
       "    <tr>\n",
       "      <th>470</th>\n",
       "      <td>Christopher_Columbus</td>\n",
       "      <td>2.370931</td>\n",
       "      <td>subject.People.Geographers_and_explorers</td>\n",
       "    </tr>\n",
       "    <tr>\n",
       "      <th>371</th>\n",
       "      <td>Stephen_Hawking</td>\n",
       "      <td>2.363584</td>\n",
       "      <td>subject.People.Astronomers_and_physicists</td>\n",
       "    </tr>\n",
       "    <tr>\n",
       "      <th>132</th>\n",
       "      <td>Abraham_Lincoln</td>\n",
       "      <td>2.341332</td>\n",
       "      <td>subject.People.USA_Presidents</td>\n",
       "    </tr>\n",
       "    <tr>\n",
       "      <th>654</th>\n",
       "      <td>Jesus</td>\n",
       "      <td>2.329501</td>\n",
       "      <td>subject.People.Religious_figures_and_leaders</td>\n",
       "    </tr>\n",
       "  </tbody>\n",
       "</table>\n",
       "</div>"
      ],
      "text/plain": [
       "                                 article  centrality  \\\n",
       "158                       George_W._Bush    2.497528   \n",
       "945   Elizabeth_II_of_the_United_Kingdom    2.470971   \n",
       "1636                       J._K._Rowling    2.436281   \n",
       "120                    George_Washington    2.433914   \n",
       "600            Martin_Luther_King%2C_Jr.    2.410108   \n",
       "650                         Adolf_Hitler    2.406876   \n",
       "470                 Christopher_Columbus    2.370931   \n",
       "371                      Stephen_Hawking    2.363584   \n",
       "132                      Abraham_Lincoln    2.341332   \n",
       "654                                Jesus    2.329501   \n",
       "\n",
       "                                          category  \n",
       "158                  subject.People.USA_Presidents  \n",
       "945                subject.People.Political_People  \n",
       "1636            subject.People.Writers_and_critics  \n",
       "120                  subject.People.USA_Presidents  \n",
       "600                subject.People.Political_People  \n",
       "650                subject.People.Political_People  \n",
       "470       subject.People.Geographers_and_explorers  \n",
       "371      subject.People.Astronomers_and_physicists  \n",
       "132                  subject.People.USA_Presidents  \n",
       "654   subject.People.Religious_figures_and_leaders  "
      ]
     },
     "execution_count": 269,
     "metadata": {},
     "output_type": "execute_result"
    }
   ],
   "source": [
    "people_centr_sorted = people_centrality.sort_values(by=['centrality'],ascending=False)\n",
    "people_centr_sorted.head(10)"
   ]
  },
  {
   "cell_type": "markdown",
   "id": "f9f899bc",
   "metadata": {},
   "source": [
    "So according to Wikipedia's users the three most famous persons are George W. Bush, Elizabeth II of the United Kingdom and J. K. Rowling!\\\n",
    "Here is a glimpse of what the most famous person looks like.\\\n",
    "Unfortunatelly, the images for Elizabeth II and J. K. Rowling were not available in the dataset."
   ]
  },
  {
   "cell_type": "code",
   "execution_count": 270,
   "id": "4acf4ae3",
   "metadata": {},
   "outputs": [
    {
     "data": {
      "image/jpeg": "[encoded data removed]",
      "text/plain": [
       "<IPython.core.display.Image object>"
      ]
     },
     "execution_count": 270,
     "metadata": {
      "image/jpeg": {
       "height": 300,
       "width": 300
      }
     },
     "output_type": "execute_result"
    }
   ],
   "source": [
    "from IPython.display import Image\n",
    "\n",
    "Image('./wpcd/images/109/10901.jpg', width=300,height=300)"
   ]
  },
  {
   "cell_type": "markdown",
   "id": "35ce8e3d",
   "metadata": {},
   "source": [
    "Let's now interest ourselves in the 100 most famous people. To which category do they belong ?"
   ]
  },
  {
   "cell_type": "code",
   "execution_count": 271,
   "id": "71704830",
   "metadata": {},
   "outputs": [],
   "source": [
    "people100= people_centr_sorted.head(100)"
   ]
  },
  {
   "cell_type": "code",
   "execution_count": 272,
   "id": "626f3d50",
   "metadata": {
    "scrolled": true
   },
   "outputs": [
    {
     "data": {
      "image/png": "[encoded data removed]",
      "text/plain": [
       "<Figure size 432x288 with 1 Axes>"
      ]
     },
     "metadata": {
      "needs_background": "light"
     },
     "output_type": "display_data"
    }
   ],
   "source": [
    "people100['category'].value_counts().plot(kind=\"bar\")\n",
    "plt.xlabel('People category')\n",
    "plt.ylabel('Absolute frequency of people')\n",
    "plt.title('Distribution of most famous people category');"
   ]
  },
  {
   "cell_type": "markdown",
   "id": "a34cf683",
   "metadata": {},
   "source": [
    "### Let's consider a smaller amount of categories by grouping some of them"
   ]
  },
  {
   "cell_type": "code",
   "execution_count": 301,
   "id": "88e4fb35",
   "metadata": {},
   "outputs": [
    {
     "data": {
      "text/html": [
       "<div>\n",
       "<style scoped>\n",
       "    .dataframe tbody tr th:only-of-type {\n",
       "        vertical-align: middle;\n",
       "    }\n",
       "\n",
       "    .dataframe tbody tr th {\n",
       "        vertical-align: top;\n",
       "    }\n",
       "\n",
       "    .dataframe thead th {\n",
       "        text-align: right;\n",
       "    }\n",
       "</style>\n",
       "<table border=\"1\" class=\"dataframe\">\n",
       "  <thead>\n",
       "    <tr style=\"text-align: right;\">\n",
       "      <th></th>\n",
       "      <th>article</th>\n",
       "      <th>centrality</th>\n",
       "      <th>category</th>\n",
       "    </tr>\n",
       "  </thead>\n",
       "  <tbody>\n",
       "    <tr>\n",
       "      <th>2673</th>\n",
       "      <td>William_and_Mary</td>\n",
       "      <td>1.954083</td>\n",
       "      <td>Historical Figures</td>\n",
       "    </tr>\n",
       "    <tr>\n",
       "      <th>366</th>\n",
       "      <td>Aristotle</td>\n",
       "      <td>1.953504</td>\n",
       "      <td>Philosophers and Human Scientists</td>\n",
       "    </tr>\n",
       "    <tr>\n",
       "      <th>2017</th>\n",
       "      <td>George_III_of_the_United_Kingdom</td>\n",
       "      <td>1.942237</td>\n",
       "      <td>Historical Figures</td>\n",
       "    </tr>\n",
       "    <tr>\n",
       "      <th>773</th>\n",
       "      <td>Anthropology</td>\n",
       "      <td>1.932948</td>\n",
       "      <td>subject.Geography.Peoples</td>\n",
       "    </tr>\n",
       "    <tr>\n",
       "      <th>1559</th>\n",
       "      <td>Richard_I_of_England</td>\n",
       "      <td>1.928511</td>\n",
       "      <td>Historical Figures</td>\n",
       "    </tr>\n",
       "    <tr>\n",
       "      <th>1268</th>\n",
       "      <td>Julius_Caesar</td>\n",
       "      <td>1.916347</td>\n",
       "      <td>Historical Figures</td>\n",
       "    </tr>\n",
       "    <tr>\n",
       "      <th>2097</th>\n",
       "      <td>Linus_Torvalds</td>\n",
       "      <td>1.915824</td>\n",
       "      <td>Scientists and Engineers</td>\n",
       "    </tr>\n",
       "    <tr>\n",
       "      <th>1386</th>\n",
       "      <td>Bob_Dylan</td>\n",
       "      <td>1.915353</td>\n",
       "      <td>Artists</td>\n",
       "    </tr>\n",
       "    <tr>\n",
       "      <th>1368</th>\n",
       "      <td>James_Watt</td>\n",
       "      <td>1.910127</td>\n",
       "      <td>Scientists and Engineers</td>\n",
       "    </tr>\n",
       "    <tr>\n",
       "      <th>1369</th>\n",
       "      <td>James_Watt</td>\n",
       "      <td>1.910127</td>\n",
       "      <td>Scientists and Engineers</td>\n",
       "    </tr>\n",
       "    <tr>\n",
       "      <th>2664</th>\n",
       "      <td>Charlie_Chaplin</td>\n",
       "      <td>1.906280</td>\n",
       "      <td>subject.People.Actors_models_and_celebrities</td>\n",
       "    </tr>\n",
       "    <tr>\n",
       "      <th>587</th>\n",
       "      <td>Benito_Mussolini</td>\n",
       "      <td>1.896465</td>\n",
       "      <td>Political People</td>\n",
       "    </tr>\n",
       "    <tr>\n",
       "      <th>2404</th>\n",
       "      <td>Pablo_Picasso</td>\n",
       "      <td>1.895344</td>\n",
       "      <td>Artists</td>\n",
       "    </tr>\n",
       "    <tr>\n",
       "      <th>2278</th>\n",
       "      <td>Louis_XIV_of_France</td>\n",
       "      <td>1.893401</td>\n",
       "      <td>Historical Figures</td>\n",
       "    </tr>\n",
       "    <tr>\n",
       "      <th>1915</th>\n",
       "      <td>Martin_Luther</td>\n",
       "      <td>1.887683</td>\n",
       "      <td>Religious Figures</td>\n",
       "    </tr>\n",
       "    <tr>\n",
       "      <th>1770</th>\n",
       "      <td>Walt_Whitman</td>\n",
       "      <td>1.881453</td>\n",
       "      <td>subject.People.Writers_and_critics</td>\n",
       "    </tr>\n",
       "    <tr>\n",
       "      <th>1620</th>\n",
       "      <td>Charles_Babbage</td>\n",
       "      <td>1.874740</td>\n",
       "      <td>Scientists and Engineers</td>\n",
       "    </tr>\n",
       "    <tr>\n",
       "      <th>527</th>\n",
       "      <td>Tim_Berners-Lee</td>\n",
       "      <td>1.872426</td>\n",
       "      <td>Scientists and Engineers</td>\n",
       "    </tr>\n",
       "    <tr>\n",
       "      <th>2386</th>\n",
       "      <td>John_Cabot</td>\n",
       "      <td>1.868499</td>\n",
       "      <td>subject.People.Geographers_and_explorers</td>\n",
       "    </tr>\n",
       "    <tr>\n",
       "      <th>46</th>\n",
       "      <td>Archbishop_of_Canterbury</td>\n",
       "      <td>1.867003</td>\n",
       "      <td>Religious Figures</td>\n",
       "    </tr>\n",
       "    <tr>\n",
       "      <th>252</th>\n",
       "      <td>Alexander_the_Great</td>\n",
       "      <td>1.866462</td>\n",
       "      <td>subject.People.Military_People</td>\n",
       "    </tr>\n",
       "    <tr>\n",
       "      <th>2198</th>\n",
       "      <td>Edward_the_Confessor</td>\n",
       "      <td>1.863615</td>\n",
       "      <td>Religious Figures</td>\n",
       "    </tr>\n",
       "    <tr>\n",
       "      <th>2197</th>\n",
       "      <td>Edward_the_Confessor</td>\n",
       "      <td>1.863615</td>\n",
       "      <td>Historical Figures</td>\n",
       "    </tr>\n",
       "    <tr>\n",
       "      <th>1606</th>\n",
       "      <td>Charlemagne</td>\n",
       "      <td>1.857892</td>\n",
       "      <td>Historical Figures</td>\n",
       "    </tr>\n",
       "    <tr>\n",
       "      <th>812</th>\n",
       "      <td>Elizabeth_I_of_England</td>\n",
       "      <td>1.856690</td>\n",
       "      <td>Historical Figures</td>\n",
       "    </tr>\n",
       "    <tr>\n",
       "      <th>1641</th>\n",
       "      <td>Nikola_Tesla</td>\n",
       "      <td>1.855683</td>\n",
       "      <td>Scientists and Engineers</td>\n",
       "    </tr>\n",
       "    <tr>\n",
       "      <th>1640</th>\n",
       "      <td>Nikola_Tesla</td>\n",
       "      <td>1.855683</td>\n",
       "      <td>Scientists and Engineers</td>\n",
       "    </tr>\n",
       "    <tr>\n",
       "      <th>1504</th>\n",
       "      <td>Antoine_Lavoisier</td>\n",
       "      <td>1.842931</td>\n",
       "      <td>Scientists and Engineers</td>\n",
       "    </tr>\n",
       "    <tr>\n",
       "      <th>1714</th>\n",
       "      <td>Edward_VII_of_the_United_Kingdom</td>\n",
       "      <td>1.826599</td>\n",
       "      <td>Historical Figures</td>\n",
       "    </tr>\n",
       "    <tr>\n",
       "      <th>1650</th>\n",
       "      <td>Richard_Stallman</td>\n",
       "      <td>1.816414</td>\n",
       "      <td>Scientists and Engineers</td>\n",
       "    </tr>\n",
       "    <tr>\n",
       "      <th>2433</th>\n",
       "      <td>Vladimir_Lenin</td>\n",
       "      <td>1.813226</td>\n",
       "      <td>Political People</td>\n",
       "    </tr>\n",
       "    <tr>\n",
       "      <th>908</th>\n",
       "      <td>Vincent_van_Gogh</td>\n",
       "      <td>1.813019</td>\n",
       "      <td>Artists</td>\n",
       "    </tr>\n",
       "    <tr>\n",
       "      <th>157</th>\n",
       "      <td>Richard_Nixon</td>\n",
       "      <td>1.793519</td>\n",
       "      <td>Political People</td>\n",
       "    </tr>\n",
       "    <tr>\n",
       "      <th>2695</th>\n",
       "      <td>Samuel_Beckett</td>\n",
       "      <td>1.786193</td>\n",
       "      <td>subject.People.Writers_and_critics</td>\n",
       "    </tr>\n",
       "    <tr>\n",
       "      <th>2413</th>\n",
       "      <td>Igor_Stravinsky</td>\n",
       "      <td>1.778555</td>\n",
       "      <td>Artists</td>\n",
       "    </tr>\n",
       "    <tr>\n",
       "      <th>2253</th>\n",
       "      <td>Dr._Seuss</td>\n",
       "      <td>1.750872</td>\n",
       "      <td>subject.People.Writers_and_critics</td>\n",
       "    </tr>\n",
       "    <tr>\n",
       "      <th>1108</th>\n",
       "      <td>Mahatma_Gandhi</td>\n",
       "      <td>1.737860</td>\n",
       "      <td>Political People</td>\n",
       "    </tr>\n",
       "    <tr>\n",
       "      <th>2166</th>\n",
       "      <td>John_Howard</td>\n",
       "      <td>1.733930</td>\n",
       "      <td>Political People</td>\n",
       "    </tr>\n",
       "    <tr>\n",
       "      <th>1927</th>\n",
       "      <td>Louis_Armstrong</td>\n",
       "      <td>1.730775</td>\n",
       "      <td>Artists</td>\n",
       "    </tr>\n",
       "    <tr>\n",
       "      <th>2896</th>\n",
       "      <td>Miles_Davis</td>\n",
       "      <td>1.730719</td>\n",
       "      <td>Artists</td>\n",
       "    </tr>\n",
       "    <tr>\n",
       "      <th>1516</th>\n",
       "      <td>Osama_bin_Laden</td>\n",
       "      <td>1.728944</td>\n",
       "      <td>Political People</td>\n",
       "    </tr>\n",
       "    <tr>\n",
       "      <th>1502</th>\n",
       "      <td>Robert_Boyle</td>\n",
       "      <td>1.725714</td>\n",
       "      <td>Scientists and Engineers</td>\n",
       "    </tr>\n",
       "    <tr>\n",
       "      <th>595</th>\n",
       "      <td>Niels_Bohr</td>\n",
       "      <td>1.721602</td>\n",
       "      <td>Scientists and Engineers</td>\n",
       "    </tr>\n",
       "    <tr>\n",
       "      <th>1275</th>\n",
       "      <td>Sigmund_Freud</td>\n",
       "      <td>1.721392</td>\n",
       "      <td>Philosophers and Human Scientists</td>\n",
       "    </tr>\n",
       "    <tr>\n",
       "      <th>683</th>\n",
       "      <td>Blaise_Pascal</td>\n",
       "      <td>1.716481</td>\n",
       "      <td>Scientists and Engineers</td>\n",
       "    </tr>\n",
       "    <tr>\n",
       "      <th>1585</th>\n",
       "      <td>Euclid</td>\n",
       "      <td>1.697689</td>\n",
       "      <td>Scientists and Engineers</td>\n",
       "    </tr>\n",
       "    <tr>\n",
       "      <th>1435</th>\n",
       "      <td>Edgar_Allan_Poe</td>\n",
       "      <td>1.697594</td>\n",
       "      <td>subject.People.Writers_and_critics</td>\n",
       "    </tr>\n",
       "    <tr>\n",
       "      <th>21</th>\n",
       "      <td>Ronald_Reagan</td>\n",
       "      <td>1.693434</td>\n",
       "      <td>Political People</td>\n",
       "    </tr>\n",
       "    <tr>\n",
       "      <th>3039</th>\n",
       "      <td>Herbert_Hoover</td>\n",
       "      <td>1.692379</td>\n",
       "      <td>Political People</td>\n",
       "    </tr>\n",
       "    <tr>\n",
       "      <th>558</th>\n",
       "      <td>Joseph_Stalin</td>\n",
       "      <td>1.686840</td>\n",
       "      <td>Political People</td>\n",
       "    </tr>\n",
       "  </tbody>\n",
       "</table>\n",
       "</div>"
      ],
      "text/plain": [
       "                               article  centrality  \\\n",
       "2673                  William_and_Mary    1.954083   \n",
       "366                          Aristotle    1.953504   \n",
       "2017  George_III_of_the_United_Kingdom    1.942237   \n",
       "773                       Anthropology    1.932948   \n",
       "1559              Richard_I_of_England    1.928511   \n",
       "1268                     Julius_Caesar    1.916347   \n",
       "2097                    Linus_Torvalds    1.915824   \n",
       "1386                         Bob_Dylan    1.915353   \n",
       "1368                        James_Watt    1.910127   \n",
       "1369                        James_Watt    1.910127   \n",
       "2664                   Charlie_Chaplin    1.906280   \n",
       "587                   Benito_Mussolini    1.896465   \n",
       "2404                     Pablo_Picasso    1.895344   \n",
       "2278               Louis_XIV_of_France    1.893401   \n",
       "1915                     Martin_Luther    1.887683   \n",
       "1770                      Walt_Whitman    1.881453   \n",
       "1620                   Charles_Babbage    1.874740   \n",
       "527                    Tim_Berners-Lee    1.872426   \n",
       "2386                        John_Cabot    1.868499   \n",
       "46            Archbishop_of_Canterbury    1.867003   \n",
       "252                Alexander_the_Great    1.866462   \n",
       "2198              Edward_the_Confessor    1.863615   \n",
       "2197              Edward_the_Confessor    1.863615   \n",
       "1606                       Charlemagne    1.857892   \n",
       "812             Elizabeth_I_of_England    1.856690   \n",
       "1641                      Nikola_Tesla    1.855683   \n",
       "1640                      Nikola_Tesla    1.855683   \n",
       "1504                 Antoine_Lavoisier    1.842931   \n",
       "1714  Edward_VII_of_the_United_Kingdom    1.826599   \n",
       "1650                  Richard_Stallman    1.816414   \n",
       "2433                    Vladimir_Lenin    1.813226   \n",
       "908                   Vincent_van_Gogh    1.813019   \n",
       "157                      Richard_Nixon    1.793519   \n",
       "2695                    Samuel_Beckett    1.786193   \n",
       "2413                   Igor_Stravinsky    1.778555   \n",
       "2253                         Dr._Seuss    1.750872   \n",
       "1108                    Mahatma_Gandhi    1.737860   \n",
       "2166                       John_Howard    1.733930   \n",
       "1927                   Louis_Armstrong    1.730775   \n",
       "2896                       Miles_Davis    1.730719   \n",
       "1516                   Osama_bin_Laden    1.728944   \n",
       "1502                      Robert_Boyle    1.725714   \n",
       "595                         Niels_Bohr    1.721602   \n",
       "1275                     Sigmund_Freud    1.721392   \n",
       "683                      Blaise_Pascal    1.716481   \n",
       "1585                            Euclid    1.697689   \n",
       "1435                   Edgar_Allan_Poe    1.697594   \n",
       "21                       Ronald_Reagan    1.693434   \n",
       "3039                    Herbert_Hoover    1.692379   \n",
       "558                      Joseph_Stalin    1.686840   \n",
       "\n",
       "                                          category  \n",
       "2673                            Historical Figures  \n",
       "366              Philosophers and Human Scientists  \n",
       "2017                            Historical Figures  \n",
       "773                      subject.Geography.Peoples  \n",
       "1559                            Historical Figures  \n",
       "1268                            Historical Figures  \n",
       "2097                      Scientists and Engineers  \n",
       "1386                                       Artists  \n",
       "1368                      Scientists and Engineers  \n",
       "1369                      Scientists and Engineers  \n",
       "2664  subject.People.Actors_models_and_celebrities  \n",
       "587                               Political People  \n",
       "2404                                       Artists  \n",
       "2278                            Historical Figures  \n",
       "1915                             Religious Figures  \n",
       "1770            subject.People.Writers_and_critics  \n",
       "1620                      Scientists and Engineers  \n",
       "527                       Scientists and Engineers  \n",
       "2386      subject.People.Geographers_and_explorers  \n",
       "46                               Religious Figures  \n",
       "252                 subject.People.Military_People  \n",
       "2198                             Religious Figures  \n",
       "2197                            Historical Figures  \n",
       "1606                            Historical Figures  \n",
       "812                             Historical Figures  \n",
       "1641                      Scientists and Engineers  \n",
       "1640                      Scientists and Engineers  \n",
       "1504                      Scientists and Engineers  \n",
       "1714                            Historical Figures  \n",
       "1650                      Scientists and Engineers  \n",
       "2433                              Political People  \n",
       "908                                        Artists  \n",
       "157                               Political People  \n",
       "2695            subject.People.Writers_and_critics  \n",
       "2413                                       Artists  \n",
       "2253            subject.People.Writers_and_critics  \n",
       "1108                              Political People  \n",
       "2166                              Political People  \n",
       "1927                                       Artists  \n",
       "2896                                       Artists  \n",
       "1516                              Political People  \n",
       "1502                      Scientists and Engineers  \n",
       "595                       Scientists and Engineers  \n",
       "1275             Philosophers and Human Scientists  \n",
       "683                       Scientists and Engineers  \n",
       "1585                      Scientists and Engineers  \n",
       "1435            subject.People.Writers_and_critics  \n",
       "21                                Political People  \n",
       "3039                              Political People  \n",
       "558                               Political People  "
      ]
     },
     "execution_count": 301,
     "metadata": {},
     "output_type": "execute_result"
    }
   ],
   "source": [
    "people_less_cat = people100\n",
    "people_less_cat.tail(50)"
   ]
  },
  {
   "cell_type": "code",
   "execution_count": 306,
   "id": "db8529f5",
   "metadata": {},
   "outputs": [],
   "source": [
    "people_less_cat['category'].replace(['subject.People.USA_Presidents'], 'Political People',inplace=True)\n",
    "people_less_cat['category'].replace(['subject.People.Political_People'], 'Political People',inplace=True)\n",
    "people_less_cat['category'].replace(['subject.People.Astronomers_and_physicists'], 'Scientists and Engineers',inplace=True)\n",
    "people_less_cat['category'].replace(['subject.People.Engineers_and_inventors'], 'Scientists and Engineers',inplace=True)\n",
    "people_less_cat['category'].replace(['subject.People.Chemists'], 'Scientists and Engineers',inplace=True)\n",
    "people_less_cat['category'].replace(['subject.People.Mathematicians'], 'Scientists and Engineers',inplace=True)\n",
    "people_less_cat['category'].replace(['subject.People.Performers_and_composers'], 'Artists',inplace=True)\n",
    "people_less_cat['category'].replace(['subject.People.Artists'], 'Artists',inplace=True)\n",
    "people_less_cat['category'].replace(['subject.People.Computing_People'], 'Scientists and Engineers',inplace=True)\n",
    "people_less_cat['category'].replace(['subject.People.Historical_figures'], 'Historical Figures',inplace=True)\n",
    "people_less_cat['category'].replace(['subject.People.Monarchs_of_Great_Britain'], 'Historical Figures',inplace=True)\n",
    "people_less_cat['category'].replace(['subject.People.Religious_figures_and_leaders'], 'Religious Figures',inplace=True)\n",
    "people_less_cat['category'].replace(['subject.People.Human_Scientists'], 'Philosophers and Human Scientists',inplace=True)\n",
    "people_less_cat['category'].replace(['subject.People.Philosophers'], 'Philosophers and Human Scientists',inplace=True)\n",
    "people_less_cat['category'].replace(['subject.People.Military_People'], 'Military People',inplace=True)\n",
    "people_less_cat['category'].replace(['subject.People.Producers_directors_and_media_figures'], 'Filmmaking occupations',inplace=True)\n",
    "people_less_cat['category'].replace(['subject.People.Actors_models_and_celebrities'], 'Filmmaking occupations',inplace=True)\n",
    "people_less_cat['category'].replace(['subject.People.Geographers_and_explorers'], 'Geographers',inplace=True)\n",
    "people_less_cat['category'].replace(['subject.Geography.Peoples'], 'Geographers',inplace=True)\n",
    "people_less_cat['category'].replace(['subject.People.Writers_and_critics'], 'Writers and Critics',inplace=True)"
   ]
  },
  {
   "cell_type": "code",
   "execution_count": 307,
   "id": "c7bab897",
   "metadata": {},
   "outputs": [
    {
     "data": {
      "image/png": "[encoded data removed]",
      "text/plain": [
       "<Figure size 432x288 with 1 Axes>"
      ]
     },
     "metadata": {
      "needs_background": "light"
     },
     "output_type": "display_data"
    }
   ],
   "source": [
    "people_less_cat['category'].value_counts().plot(kind=\"bar\")\n",
    "plt.xlabel('People category')\n",
    "plt.ylabel('Absolute frequency of people')\n",
    "plt.title('Distribution of most famous people category');"
   ]
  },
  {
   "cell_type": "markdown",
   "id": "b082163f",
   "metadata": {},
   "source": [
    "The histogram shows that amoung the 100 most famous people, the highest number belongs to the `Monarchs_of_Great_Britain` category. This is certainly due to the fact that the Wikispeedia game and Wikipedia pages are writen in english, so mostly used be english speaking users.\\\n",
    "Moreover, the most important category is not robust to the size of the sample we use. Indeed, when selecting the 30 most famous people, the `Writers_and_critics` category is the most important."
   ]
  },
  {
   "cell_type": "code",
   "execution_count": 308,
   "id": "27406e84",
   "metadata": {
    "collapsed": true
   },
   "outputs": [
    {
     "name": "stdout",
     "output_type": "stream",
     "text": [
      "Collecting svgpath2mpl"
     ]
    },
    {
     "name": "stderr",
     "output_type": "stream",
     "text": [
      "WARNING: Ignoring invalid distribution -tatsmodels (c:\\users\\manon\\anaconda3\\lib\\site-packages)\n",
      "WARNING: Ignoring invalid distribution -tatsmodels (c:\\users\\manon\\anaconda3\\lib\\site-packages)\n",
      "WARNING: Ignoring invalid distribution -tatsmodels (c:\\users\\manon\\anaconda3\\lib\\site-packages)\n",
      "WARNING: Ignoring invalid distribution -tatsmodels (c:\\users\\manon\\anaconda3\\lib\\site-packages)\n",
      "WARNING: Ignoring invalid distribution -tatsmodels (c:\\users\\manon\\anaconda3\\lib\\site-packages)\n",
      "WARNING: Ignoring invalid distribution -tatsmodels (c:\\users\\manon\\anaconda3\\lib\\site-packages)\n",
      "WARNING: Ignoring invalid distribution -tatsmodels (c:\\users\\manon\\anaconda3\\lib\\site-packages)\n"
     ]
    },
    {
     "name": "stdout",
     "output_type": "stream",
     "text": [
      "\n",
      "  Downloading svgpath2mpl-1.0.0-py2.py3-none-any.whl (7.8 kB)\n",
      "Requirement already satisfied: numpy in c:\\users\\manon\\anaconda3\\lib\\site-packages (from svgpath2mpl) (1.23.5)\n",
      "Requirement already satisfied: matplotlib in c:\\users\\manon\\anaconda3\\lib\\site-packages (from svgpath2mpl) (3.3.4)\n",
      "Requirement already satisfied: cycler>=0.10 in c:\\users\\manon\\anaconda3\\lib\\site-packages (from matplotlib->svgpath2mpl) (0.10.0)\n",
      "Requirement already satisfied: pillow>=6.2.0 in c:\\users\\manon\\anaconda3\\lib\\site-packages (from matplotlib->svgpath2mpl) (8.2.0)\n",
      "Requirement already satisfied: kiwisolver>=1.0.1 in c:\\users\\manon\\anaconda3\\lib\\site-packages (from matplotlib->svgpath2mpl) (1.3.1)\n",
      "Requirement already satisfied: pyparsing!=2.0.4,!=2.1.2,!=2.1.6,>=2.0.3 in c:\\users\\manon\\anaconda3\\lib\\site-packages (from matplotlib->svgpath2mpl) (2.4.7)\n",
      "Requirement already satisfied: python-dateutil>=2.1 in c:\\users\\manon\\anaconda3\\lib\\site-packages (from matplotlib->svgpath2mpl) (2.8.1)\n",
      "Requirement already satisfied: six in c:\\users\\manon\\anaconda3\\lib\\site-packages (from cycler>=0.10->matplotlib->svgpath2mpl) (1.15.0)\n",
      "Installing collected packages: svgpath2mpl\n",
      "Successfully installed svgpath2mpl-1.0.0\n"
     ]
    }
   ],
   "source": [
    "#!pip install svgpath2mpl"
   ]
  },
  {
   "cell_type": "code",
   "execution_count": 309,
   "id": "dd627b0d",
   "metadata": {
    "collapsed": true
   },
   "outputs": [
    {
     "name": "stdout",
     "output_type": "stream",
     "text": [
      "Collecting svgpathtools"
     ]
    },
    {
     "name": "stderr",
     "output_type": "stream",
     "text": [
      "WARNING: Ignoring invalid distribution -tatsmodels (c:\\users\\manon\\anaconda3\\lib\\site-packages)\n",
      "WARNING: Ignoring invalid distribution -tatsmodels (c:\\users\\manon\\anaconda3\\lib\\site-packages)\n",
      "WARNING: Ignoring invalid distribution -tatsmodels (c:\\users\\manon\\anaconda3\\lib\\site-packages)\n",
      "WARNING: Ignoring invalid distribution -tatsmodels (c:\\users\\manon\\anaconda3\\lib\\site-packages)\n",
      "WARNING: Ignoring invalid distribution -tatsmodels (c:\\users\\manon\\anaconda3\\lib\\site-packages)\n",
      "WARNING: Ignoring invalid distribution -tatsmodels (c:\\users\\manon\\anaconda3\\lib\\site-packages)\n",
      "WARNING: Ignoring invalid distribution -tatsmodels (c:\\users\\manon\\anaconda3\\lib\\site-packages)\n",
      "WARNING: Ignoring invalid distribution -tatsmodels (c:\\users\\manon\\anaconda3\\lib\\site-packages)\n"
     ]
    },
    {
     "name": "stdout",
     "output_type": "stream",
     "text": [
      "\n",
      "  Downloading svgpathtools-1.5.1-py2.py3-none-any.whl (67 kB)\n",
      "     -------------------------------------- 67.2/67.2 kB 202.8 kB/s eta 0:00:00\n",
      "Requirement already satisfied: numpy in c:\\users\\manon\\anaconda3\\lib\\site-packages (from svgpathtools) (1.23.5)\n",
      "Requirement already satisfied: scipy in c:\\users\\manon\\anaconda3\\lib\\site-packages (from svgpathtools) (1.9.3)\n",
      "Collecting svgwrite\n",
      "  Downloading svgwrite-1.4.3-py3-none-any.whl (67 kB)\n",
      "     ---------------------------------------- 67.1/67.1 kB 1.2 MB/s eta 0:00:00\n",
      "Installing collected packages: svgwrite, svgpathtools\n",
      "Successfully installed svgpathtools-1.5.1 svgwrite-1.4.3\n"
     ]
    }
   ],
   "source": [
    "#!pip install svgpathtools"
   ]
  },
  {
   "cell_type": "code",
   "execution_count": 310,
   "id": "7f65cb57",
   "metadata": {},
   "outputs": [],
   "source": [
    "import matplotlib as mpl\n",
    "from svgpathtools import svg2paths\n",
    "from svgpath2mpl import parse_path"
   ]
  },
  {
   "cell_type": "code",
   "execution_count": 311,
   "id": "aabc5253",
   "metadata": {},
   "outputs": [],
   "source": [
    "person_path, attributes = svg2paths('person.svg')"
   ]
  },
  {
   "cell_type": "code",
   "execution_count": 312,
   "id": "b5ba660e",
   "metadata": {},
   "outputs": [],
   "source": [
    "person_marker = parse_path(attributes[0]['d'])"
   ]
  },
  {
   "cell_type": "code",
   "execution_count": 314,
   "id": "445d5d94",
   "metadata": {},
   "outputs": [],
   "source": [
    "person_marker.vertices -= person_marker.vertices.mean(axis=0)\n",
    "person_marker = person_marker.transformed(mpl.transforms.Affine2D().rotate_deg(180))\n",
    "person_marker = person_marker.transformed(mpl.transforms.Affine2D().scale(-1,1))"
   ]
  },
  {
   "cell_type": "code",
   "execution_count": 354,
   "id": "7518701e",
   "metadata": {},
   "outputs": [],
   "source": [
    "x = np.linspace(1,5,5)\n",
    "y = np.linspace(1,20,20)\n",
    "X, Y = np.meshgrid(x, y)\n",
    "X = X.reshape((np.prod(X.shape),))\n",
    "Y = Y.reshape((np.prod(Y.shape),))"
   ]
  },
  {
   "cell_type": "code",
   "execution_count": 393,
   "id": "d0a1ff56",
   "metadata": {},
   "outputs": [
    {
     "data": {
      "text/html": [
       "<div>\n",
       "<style scoped>\n",
       "    .dataframe tbody tr th:only-of-type {\n",
       "        vertical-align: middle;\n",
       "    }\n",
       "\n",
       "    .dataframe tbody tr th {\n",
       "        vertical-align: top;\n",
       "    }\n",
       "\n",
       "    .dataframe thead th {\n",
       "        text-align: right;\n",
       "    }\n",
       "</style>\n",
       "<table border=\"1\" class=\"dataframe\">\n",
       "  <thead>\n",
       "    <tr style=\"text-align: right;\">\n",
       "      <th></th>\n",
       "      <th>article</th>\n",
       "      <th>centrality</th>\n",
       "      <th>category</th>\n",
       "      <th>X</th>\n",
       "      <th>Y</th>\n",
       "      <th>count</th>\n",
       "    </tr>\n",
       "  </thead>\n",
       "  <tbody>\n",
       "    <tr>\n",
       "      <th>2896</th>\n",
       "      <td>Miles_Davis</td>\n",
       "      <td>1.730719</td>\n",
       "      <td>Artists</td>\n",
       "      <td>1.0</td>\n",
       "      <td>1.0</td>\n",
       "      <td>10</td>\n",
       "    </tr>\n",
       "    <tr>\n",
       "      <th>1489</th>\n",
       "      <td>Wolfgang_Amadeus_Mozart</td>\n",
       "      <td>2.222177</td>\n",
       "      <td>Artists</td>\n",
       "      <td>1.0</td>\n",
       "      <td>2.0</td>\n",
       "      <td>10</td>\n",
       "    </tr>\n",
       "    <tr>\n",
       "      <th>1927</th>\n",
       "      <td>Louis_Armstrong</td>\n",
       "      <td>1.730775</td>\n",
       "      <td>Artists</td>\n",
       "      <td>1.0</td>\n",
       "      <td>3.0</td>\n",
       "      <td>10</td>\n",
       "    </tr>\n",
       "    <tr>\n",
       "      <th>42</th>\n",
       "      <td>Leonardo_da_Vinci</td>\n",
       "      <td>2.170778</td>\n",
       "      <td>Artists</td>\n",
       "      <td>1.0</td>\n",
       "      <td>4.0</td>\n",
       "      <td>10</td>\n",
       "    </tr>\n",
       "    <tr>\n",
       "      <th>1386</th>\n",
       "      <td>Bob_Dylan</td>\n",
       "      <td>1.915353</td>\n",
       "      <td>Artists</td>\n",
       "      <td>1.0</td>\n",
       "      <td>5.0</td>\n",
       "      <td>10</td>\n",
       "    </tr>\n",
       "  </tbody>\n",
       "</table>\n",
       "</div>"
      ],
      "text/plain": [
       "                      article  centrality category    X    Y  count\n",
       "2896              Miles_Davis    1.730719  Artists  1.0  1.0     10\n",
       "1489  Wolfgang_Amadeus_Mozart    2.222177  Artists  1.0  2.0     10\n",
       "1927          Louis_Armstrong    1.730775  Artists  1.0  3.0     10\n",
       "42          Leonardo_da_Vinci    2.170778  Artists  1.0  4.0     10\n",
       "1386                Bob_Dylan    1.915353  Artists  1.0  5.0     10"
      ]
     },
     "execution_count": 393,
     "metadata": {},
     "output_type": "execute_result"
    }
   ],
   "source": [
    "people_less_cat = people_less_cat.sort_values(by=['category'])\n",
    "#people_less_cat['count'] = people_less_cat.groupby('category')['category'].transform('count')\n",
    "#people_less_cat.sort_values('count', inplace=True, ascending=False)\n",
    "\n",
    "people_less_cat['X']=Y\n",
    "people_less_cat['Y']=X\n",
    "people_less_cat.head()"
   ]
  },
  {
   "cell_type": "code",
   "execution_count": 396,
   "id": "9920c37c",
   "metadata": {
    "scrolled": false
   },
   "outputs": [
    {
     "data": {
      "image/png": "[encoded data removed]",
      "text/plain": [
       "<Figure size 932x360 with 1 Axes>"
      ]
     },
     "metadata": {
      "needs_background": "light"
     },
     "output_type": "display_data"
    }
   ],
   "source": [
    "import seaborn as sns\n",
    "#fig, ax = plt.subplots(figsize=(20, 5))\n",
    "ax = sns.lmplot(x='X', y='Y', data=people_less_cat, hue='category', fit_reg=False,markers=person_marker , height=5,aspect = 2,scatter_kws={\"s\": 600})\n",
    "plt.axis('off')\n",
    "plt.show()"
   ]
  },
  {
   "cell_type": "markdown",
   "id": "0642423b-54e7-4209-83ad-f1e3fddb49b6",
   "metadata": {},
   "source": [
    "## 4.D Linking people and countries"
   ]
  },
  {
   "cell_type": "markdown",
   "id": "f2441727-5e76-4daf-af60-3a735e4ea734",
   "metadata": {},
   "source": [
    "One examines how people and countries are related in the wikipedia pages. That means, for example, how many links to countries are there in a people wikipedia page. One first exhibits the usual data information."
   ]
  },
  {
   "cell_type": "code",
   "execution_count": null,
   "id": "095536b2-e0d5-4c03-9777-df21526b6633",
   "metadata": {},
   "outputs": [
    {
     "data": {
      "text/html": [
       "<div>\n",
       "<style scoped>\n",
       "    .dataframe tbody tr th:only-of-type {\n",
       "        vertical-align: middle;\n",
       "    }\n",
       "\n",
       "    .dataframe tbody tr th {\n",
       "        vertical-align: top;\n",
       "    }\n",
       "\n",
       "    .dataframe thead th {\n",
       "        text-align: right;\n",
       "    }\n",
       "</style>\n",
       "<table border=\"1\" class=\"dataframe\">\n",
       "  <thead>\n",
       "    <tr style=\"text-align: right;\">\n",
       "      <th></th>\n",
       "      <th>linkSource</th>\n",
       "      <th>linkTarget</th>\n",
       "    </tr>\n",
       "  </thead>\n",
       "  <tbody>\n",
       "    <tr>\n",
       "      <th>0</th>\n",
       "      <td>Áedán_mac_Gabráin</td>\n",
       "      <td>Bede</td>\n",
       "    </tr>\n",
       "    <tr>\n",
       "      <th>1</th>\n",
       "      <td>Áedán_mac_Gabráin</td>\n",
       "      <td>Columba</td>\n",
       "    </tr>\n",
       "    <tr>\n",
       "      <th>2</th>\n",
       "      <td>Áedán_mac_Gabráin</td>\n",
       "      <td>Dál_Riata</td>\n",
       "    </tr>\n",
       "    <tr>\n",
       "      <th>3</th>\n",
       "      <td>Áedán_mac_Gabráin</td>\n",
       "      <td>Great_Britain</td>\n",
       "    </tr>\n",
       "    <tr>\n",
       "      <th>4</th>\n",
       "      <td>Áedán_mac_Gabráin</td>\n",
       "      <td>Ireland</td>\n",
       "    </tr>\n",
       "  </tbody>\n",
       "</table>\n",
       "</div>"
      ],
      "text/plain": [
       "          linkSource     linkTarget\n",
       "0  Áedán_mac_Gabráin           Bede\n",
       "1  Áedán_mac_Gabráin        Columba\n",
       "2  Áedán_mac_Gabráin      Dál_Riata\n",
       "3  Áedán_mac_Gabráin  Great_Britain\n",
       "4  Áedán_mac_Gabráin        Ireland"
      ]
     },
     "execution_count": 79,
     "metadata": {},
     "output_type": "execute_result"
    }
   ],
   "source": [
    "links.head()"
   ]
  },
  {
   "cell_type": "code",
   "execution_count": null,
   "id": "204889b5-89dd-46c5-b659-2bf8111081bf",
   "metadata": {},
   "outputs": [
    {
     "data": {
      "text/html": [
       "<div>\n",
       "<style scoped>\n",
       "    .dataframe tbody tr th:only-of-type {\n",
       "        vertical-align: middle;\n",
       "    }\n",
       "\n",
       "    .dataframe tbody tr th {\n",
       "        vertical-align: top;\n",
       "    }\n",
       "\n",
       "    .dataframe thead th {\n",
       "        text-align: right;\n",
       "    }\n",
       "</style>\n",
       "<table border=\"1\" class=\"dataframe\">\n",
       "  <thead>\n",
       "    <tr style=\"text-align: right;\">\n",
       "      <th></th>\n",
       "      <th>linkSource</th>\n",
       "      <th>linkTarget</th>\n",
       "    </tr>\n",
       "  </thead>\n",
       "  <tbody>\n",
       "    <tr>\n",
       "      <th>count</th>\n",
       "      <td>119882</td>\n",
       "      <td>119882</td>\n",
       "    </tr>\n",
       "    <tr>\n",
       "      <th>unique</th>\n",
       "      <td>4587</td>\n",
       "      <td>4135</td>\n",
       "    </tr>\n",
       "    <tr>\n",
       "      <th>top</th>\n",
       "      <td>United_States</td>\n",
       "      <td>United_States</td>\n",
       "    </tr>\n",
       "    <tr>\n",
       "      <th>freq</th>\n",
       "      <td>294</td>\n",
       "      <td>1551</td>\n",
       "    </tr>\n",
       "  </tbody>\n",
       "</table>\n",
       "</div>"
      ],
      "text/plain": [
       "           linkSource     linkTarget\n",
       "count          119882         119882\n",
       "unique           4587           4135\n",
       "top     United_States  United_States\n",
       "freq              294           1551"
      ]
     },
     "execution_count": 80,
     "metadata": {},
     "output_type": "execute_result"
    }
   ],
   "source": [
    "links.describe()"
   ]
  },
  {
   "cell_type": "markdown",
   "id": "2aaa9370-a72b-41de-97ee-d3183d21da08",
   "metadata": {},
   "source": [
    "The description already shows that the most common link source and target is the United States. This confirms the result one obtained with previous methods."
   ]
  },
  {
   "cell_type": "code",
   "execution_count": null,
   "id": "b8120a52-5246-4ee5-a6a7-a323d84ca0c1",
   "metadata": {},
   "outputs": [
    {
     "data": {
      "text/plain": [
       "linkSource    0\n",
       "linkTarget    0\n",
       "dtype: int64"
      ]
     },
     "execution_count": 81,
     "metadata": {},
     "output_type": "execute_result"
    }
   ],
   "source": [
    "links.isna().sum()"
   ]
  },
  {
   "cell_type": "markdown",
   "id": "98957542-e270-4b16-848f-d2fb87b5aa86",
   "metadata": {},
   "source": [
    "No NaN value appears in the file, so one can directly begin to play with the data."
   ]
  },
  {
   "cell_type": "markdown",
   "id": "6ca8274f-e0e5-4b3a-8ed5-c9818bcf6304",
   "metadata": {},
   "source": [
    "One can now distinguish four different subsets that relate countries and people: \n",
    "1) How a given source country reaches target people.\\\n",
    "2) How a given target people is reached by source countries.\\\n",
    "3) How a given source person reaches target countries.\\\n",
    "4) How a given target country is reached by source people.\n",
    "\n",
    "Studying these four subsets should provide insights on the asymmetry degree of the relationships and the way people and countries are related."
   ]
  },
  {
   "cell_type": "markdown",
   "id": "110ae665-24cc-4cd7-8c2f-371a0467ca23",
   "metadata": {},
   "source": [
    "First, one divides the links in two groups: one according to the source, the other to the target."
   ]
  },
  {
   "cell_type": "code",
   "execution_count": null,
   "id": "106e87c4-5766-400b-b5a2-2b2cfcf5a650",
   "metadata": {},
   "outputs": [
    {
     "data": {
      "text/html": [
       "<div>\n",
       "<style scoped>\n",
       "    .dataframe tbody tr th:only-of-type {\n",
       "        vertical-align: middle;\n",
       "    }\n",
       "\n",
       "    .dataframe tbody tr th {\n",
       "        vertical-align: top;\n",
       "    }\n",
       "\n",
       "    .dataframe thead th {\n",
       "        text-align: right;\n",
       "    }\n",
       "</style>\n",
       "<table border=\"1\" class=\"dataframe\">\n",
       "  <thead>\n",
       "    <tr style=\"text-align: right;\">\n",
       "      <th></th>\n",
       "      <th>linkSource</th>\n",
       "      <th>linkTarget</th>\n",
       "    </tr>\n",
       "  </thead>\n",
       "  <tbody>\n",
       "    <tr>\n",
       "      <th>0</th>\n",
       "      <td>Áedán_mac_Gabráin</td>\n",
       "      <td>Bede</td>\n",
       "    </tr>\n",
       "    <tr>\n",
       "      <th>1</th>\n",
       "      <td>Áedán_mac_Gabráin</td>\n",
       "      <td>Columba</td>\n",
       "    </tr>\n",
       "    <tr>\n",
       "      <th>2</th>\n",
       "      <td>Áedán_mac_Gabráin</td>\n",
       "      <td>Dál_Riata</td>\n",
       "    </tr>\n",
       "    <tr>\n",
       "      <th>3</th>\n",
       "      <td>Áedán_mac_Gabráin</td>\n",
       "      <td>Great_Britain</td>\n",
       "    </tr>\n",
       "    <tr>\n",
       "      <th>4</th>\n",
       "      <td>Áedán_mac_Gabráin</td>\n",
       "      <td>Ireland</td>\n",
       "    </tr>\n",
       "    <tr>\n",
       "      <th>...</th>\n",
       "      <td>...</td>\n",
       "      <td>...</td>\n",
       "    </tr>\n",
       "    <tr>\n",
       "      <th>119867</th>\n",
       "      <td>Zulu</td>\n",
       "      <td>AK-47</td>\n",
       "    </tr>\n",
       "    <tr>\n",
       "      <th>119868</th>\n",
       "      <td>Zulu</td>\n",
       "      <td>Bantu</td>\n",
       "    </tr>\n",
       "    <tr>\n",
       "      <th>119869</th>\n",
       "      <td>Zulu</td>\n",
       "      <td>Cape_Town</td>\n",
       "    </tr>\n",
       "    <tr>\n",
       "      <th>119870</th>\n",
       "      <td>Zulu</td>\n",
       "      <td>Christianity</td>\n",
       "    </tr>\n",
       "    <tr>\n",
       "      <th>119871</th>\n",
       "      <td>Zulu</td>\n",
       "      <td>English_language</td>\n",
       "    </tr>\n",
       "  </tbody>\n",
       "</table>\n",
       "<p>22500 rows × 2 columns</p>\n",
       "</div>"
      ],
      "text/plain": [
       "               linkSource        linkTarget\n",
       "0       Áedán_mac_Gabráin              Bede\n",
       "1       Áedán_mac_Gabráin           Columba\n",
       "2       Áedán_mac_Gabráin         Dál_Riata\n",
       "3       Áedán_mac_Gabráin     Great_Britain\n",
       "4       Áedán_mac_Gabráin           Ireland\n",
       "...                   ...               ...\n",
       "119867               Zulu             AK-47\n",
       "119868               Zulu             Bantu\n",
       "119869               Zulu         Cape_Town\n",
       "119870               Zulu      Christianity\n",
       "119871               Zulu  English_language\n",
       "\n",
       "[22500 rows x 2 columns]"
      ]
     },
     "execution_count": 82,
     "metadata": {},
     "output_type": "execute_result"
    }
   ],
   "source": [
    "grouped_source_links = links.groupby(by=\"linkSource\")\n",
    "grouped_source_links.head()"
   ]
  },
  {
   "cell_type": "code",
   "execution_count": null,
   "id": "227a229e-cf29-4bb7-81fa-fdd3d54ca744",
   "metadata": {},
   "outputs": [
    {
     "data": {
      "text/html": [
       "<div>\n",
       "<style scoped>\n",
       "    .dataframe tbody tr th:only-of-type {\n",
       "        vertical-align: middle;\n",
       "    }\n",
       "\n",
       "    .dataframe tbody tr th {\n",
       "        vertical-align: top;\n",
       "    }\n",
       "\n",
       "    .dataframe thead tr th {\n",
       "        text-align: left;\n",
       "    }\n",
       "\n",
       "    .dataframe thead tr:last-of-type th {\n",
       "        text-align: right;\n",
       "    }\n",
       "</style>\n",
       "<table border=\"1\" class=\"dataframe\">\n",
       "  <thead>\n",
       "    <tr>\n",
       "      <th></th>\n",
       "      <th colspan=\"4\" halign=\"left\">linkTarget</th>\n",
       "    </tr>\n",
       "    <tr>\n",
       "      <th></th>\n",
       "      <th>count</th>\n",
       "      <th>unique</th>\n",
       "      <th>top</th>\n",
       "      <th>freq</th>\n",
       "    </tr>\n",
       "    <tr>\n",
       "      <th>linkSource</th>\n",
       "      <th></th>\n",
       "      <th></th>\n",
       "      <th></th>\n",
       "      <th></th>\n",
       "    </tr>\n",
       "  </thead>\n",
       "  <tbody>\n",
       "    <tr>\n",
       "      <th>10th_century</th>\n",
       "      <td>26</td>\n",
       "      <td>26</td>\n",
       "      <td>Khazars</td>\n",
       "      <td>1</td>\n",
       "    </tr>\n",
       "    <tr>\n",
       "      <th>11th_century</th>\n",
       "      <td>48</td>\n",
       "      <td>48</td>\n",
       "      <td>15th_century</td>\n",
       "      <td>1</td>\n",
       "    </tr>\n",
       "    <tr>\n",
       "      <th>12th_century</th>\n",
       "      <td>45</td>\n",
       "      <td>45</td>\n",
       "      <td>15th_century</td>\n",
       "      <td>1</td>\n",
       "    </tr>\n",
       "    <tr>\n",
       "      <th>13th_century</th>\n",
       "      <td>34</td>\n",
       "      <td>34</td>\n",
       "      <td>Arabic_language</td>\n",
       "      <td>1</td>\n",
       "    </tr>\n",
       "    <tr>\n",
       "      <th>14th_century</th>\n",
       "      <td>31</td>\n",
       "      <td>31</td>\n",
       "      <td>15th_century</td>\n",
       "      <td>1</td>\n",
       "    </tr>\n",
       "    <tr>\n",
       "      <th>...</th>\n",
       "      <td>...</td>\n",
       "      <td>...</td>\n",
       "      <td>...</td>\n",
       "      <td>...</td>\n",
       "    </tr>\n",
       "    <tr>\n",
       "      <th>Åland</th>\n",
       "      <td>19</td>\n",
       "      <td>19</td>\n",
       "      <td>Nationality</td>\n",
       "      <td>1</td>\n",
       "    </tr>\n",
       "    <tr>\n",
       "      <th>Édouard_Manet</th>\n",
       "      <td>20</td>\n",
       "      <td>20</td>\n",
       "      <td>Claude_Monet</td>\n",
       "      <td>1</td>\n",
       "    </tr>\n",
       "    <tr>\n",
       "      <th>Éire</th>\n",
       "      <td>8</td>\n",
       "      <td>8</td>\n",
       "      <td>Canada</td>\n",
       "      <td>1</td>\n",
       "    </tr>\n",
       "    <tr>\n",
       "      <th>Óengus_I_of_the_Picts</th>\n",
       "      <td>10</td>\n",
       "      <td>10</td>\n",
       "      <td>Great_Britain</td>\n",
       "      <td>1</td>\n",
       "    </tr>\n",
       "    <tr>\n",
       "      <th>€2_commemorative_coins</th>\n",
       "      <td>47</td>\n",
       "      <td>47</td>\n",
       "      <td>Sanssouci</td>\n",
       "      <td>1</td>\n",
       "    </tr>\n",
       "  </tbody>\n",
       "</table>\n",
       "<p>4587 rows × 4 columns</p>\n",
       "</div>"
      ],
      "text/plain": [
       "                       linkTarget                             \n",
       "                            count unique              top freq\n",
       "linkSource                                                    \n",
       "10th_century                   26     26          Khazars    1\n",
       "11th_century                   48     48     15th_century    1\n",
       "12th_century                   45     45     15th_century    1\n",
       "13th_century                   34     34  Arabic_language    1\n",
       "14th_century                   31     31     15th_century    1\n",
       "...                           ...    ...              ...  ...\n",
       "Åland                          19     19      Nationality    1\n",
       "Édouard_Manet                  20     20     Claude_Monet    1\n",
       "Éire                            8      8           Canada    1\n",
       "Óengus_I_of_the_Picts          10     10    Great_Britain    1\n",
       "€2_commemorative_coins         47     47        Sanssouci    1\n",
       "\n",
       "[4587 rows x 4 columns]"
      ]
     },
     "execution_count": 83,
     "metadata": {},
     "output_type": "execute_result"
    }
   ],
   "source": [
    "grouped_source_links.describe()"
   ]
  },
  {
   "cell_type": "code",
   "execution_count": null,
   "id": "b73936f2-e0cd-4fb3-b1ca-15d32fcec4a5",
   "metadata": {},
   "outputs": [
    {
     "data": {
      "text/html": [
       "<div>\n",
       "<style scoped>\n",
       "    .dataframe tbody tr th:only-of-type {\n",
       "        vertical-align: middle;\n",
       "    }\n",
       "\n",
       "    .dataframe tbody tr th {\n",
       "        vertical-align: top;\n",
       "    }\n",
       "\n",
       "    .dataframe thead th {\n",
       "        text-align: right;\n",
       "    }\n",
       "</style>\n",
       "<table border=\"1\" class=\"dataframe\">\n",
       "  <thead>\n",
       "    <tr style=\"text-align: right;\">\n",
       "      <th></th>\n",
       "      <th>linkSource</th>\n",
       "      <th>linkTarget</th>\n",
       "    </tr>\n",
       "  </thead>\n",
       "  <tbody>\n",
       "    <tr>\n",
       "      <th>0</th>\n",
       "      <td>Áedán_mac_Gabráin</td>\n",
       "      <td>Bede</td>\n",
       "    </tr>\n",
       "    <tr>\n",
       "      <th>1</th>\n",
       "      <td>Áedán_mac_Gabráin</td>\n",
       "      <td>Columba</td>\n",
       "    </tr>\n",
       "    <tr>\n",
       "      <th>2</th>\n",
       "      <td>Áedán_mac_Gabráin</td>\n",
       "      <td>Dál_Riata</td>\n",
       "    </tr>\n",
       "    <tr>\n",
       "      <th>3</th>\n",
       "      <td>Áedán_mac_Gabráin</td>\n",
       "      <td>Great_Britain</td>\n",
       "    </tr>\n",
       "    <tr>\n",
       "      <th>4</th>\n",
       "      <td>Áedán_mac_Gabráin</td>\n",
       "      <td>Ireland</td>\n",
       "    </tr>\n",
       "    <tr>\n",
       "      <th>...</th>\n",
       "      <td>...</td>\n",
       "      <td>...</td>\n",
       "    </tr>\n",
       "    <tr>\n",
       "      <th>119862</th>\n",
       "      <td>Zuid-Gelders</td>\n",
       "      <td>Brabantian</td>\n",
       "    </tr>\n",
       "    <tr>\n",
       "      <th>119864</th>\n",
       "      <td>Zuid-Gelders</td>\n",
       "      <td>East_Flemish</td>\n",
       "    </tr>\n",
       "    <tr>\n",
       "      <th>119872</th>\n",
       "      <td>Zulu</td>\n",
       "      <td>History_of_South_Africa</td>\n",
       "    </tr>\n",
       "    <tr>\n",
       "      <th>119873</th>\n",
       "      <td>Zulu</td>\n",
       "      <td>Ladysmith_Black_Mambazo</td>\n",
       "    </tr>\n",
       "    <tr>\n",
       "      <th>119876</th>\n",
       "      <td>Zulu</td>\n",
       "      <td>Shaka</td>\n",
       "    </tr>\n",
       "  </tbody>\n",
       "</table>\n",
       "<p>17221 rows × 2 columns</p>\n",
       "</div>"
      ],
      "text/plain": [
       "               linkSource               linkTarget\n",
       "0       Áedán_mac_Gabráin                     Bede\n",
       "1       Áedán_mac_Gabráin                  Columba\n",
       "2       Áedán_mac_Gabráin                Dál_Riata\n",
       "3       Áedán_mac_Gabráin            Great_Britain\n",
       "4       Áedán_mac_Gabráin                  Ireland\n",
       "...                   ...                      ...\n",
       "119862       Zuid-Gelders               Brabantian\n",
       "119864       Zuid-Gelders             East_Flemish\n",
       "119872               Zulu  History_of_South_Africa\n",
       "119873               Zulu  Ladysmith_Black_Mambazo\n",
       "119876               Zulu                    Shaka\n",
       "\n",
       "[17221 rows x 2 columns]"
      ]
     },
     "execution_count": 84,
     "metadata": {},
     "output_type": "execute_result"
    }
   ],
   "source": [
    "grouped_target_links = links.groupby(by=\"linkTarget\")\n",
    "grouped_target_links.head()"
   ]
  },
  {
   "cell_type": "code",
   "execution_count": null,
   "id": "33d34d89-294c-4068-9c78-a29a3308d2d2",
   "metadata": {},
   "outputs": [
    {
     "data": {
      "text/html": [
       "<div>\n",
       "<style scoped>\n",
       "    .dataframe tbody tr th:only-of-type {\n",
       "        vertical-align: middle;\n",
       "    }\n",
       "\n",
       "    .dataframe tbody tr th {\n",
       "        vertical-align: top;\n",
       "    }\n",
       "\n",
       "    .dataframe thead tr th {\n",
       "        text-align: left;\n",
       "    }\n",
       "\n",
       "    .dataframe thead tr:last-of-type th {\n",
       "        text-align: right;\n",
       "    }\n",
       "</style>\n",
       "<table border=\"1\" class=\"dataframe\">\n",
       "  <thead>\n",
       "    <tr>\n",
       "      <th></th>\n",
       "      <th colspan=\"4\" halign=\"left\">linkSource</th>\n",
       "    </tr>\n",
       "    <tr>\n",
       "      <th></th>\n",
       "      <th>count</th>\n",
       "      <th>unique</th>\n",
       "      <th>top</th>\n",
       "      <th>freq</th>\n",
       "    </tr>\n",
       "    <tr>\n",
       "      <th>linkTarget</th>\n",
       "      <th></th>\n",
       "      <th></th>\n",
       "      <th></th>\n",
       "      <th></th>\n",
       "    </tr>\n",
       "  </thead>\n",
       "  <tbody>\n",
       "    <tr>\n",
       "      <th>10th_century</th>\n",
       "      <td>65</td>\n",
       "      <td>65</td>\n",
       "      <td>15th_century</td>\n",
       "      <td>1</td>\n",
       "    </tr>\n",
       "    <tr>\n",
       "      <th>11th_century</th>\n",
       "      <td>57</td>\n",
       "      <td>57</td>\n",
       "      <td>15th_century</td>\n",
       "      <td>1</td>\n",
       "    </tr>\n",
       "    <tr>\n",
       "      <th>12th_century</th>\n",
       "      <td>85</td>\n",
       "      <td>85</td>\n",
       "      <td>15th_century</td>\n",
       "      <td>1</td>\n",
       "    </tr>\n",
       "    <tr>\n",
       "      <th>13th_century</th>\n",
       "      <td>84</td>\n",
       "      <td>84</td>\n",
       "      <td>15th_century</td>\n",
       "      <td>1</td>\n",
       "    </tr>\n",
       "    <tr>\n",
       "      <th>14th_century</th>\n",
       "      <td>71</td>\n",
       "      <td>71</td>\n",
       "      <td>15th_century</td>\n",
       "      <td>1</td>\n",
       "    </tr>\n",
       "    <tr>\n",
       "      <th>...</th>\n",
       "      <td>...</td>\n",
       "      <td>...</td>\n",
       "      <td>...</td>\n",
       "      <td>...</td>\n",
       "    </tr>\n",
       "    <tr>\n",
       "      <th>Zirconium</th>\n",
       "      <td>15</td>\n",
       "      <td>15</td>\n",
       "      <td>Cerium</td>\n",
       "      <td>1</td>\n",
       "    </tr>\n",
       "    <tr>\n",
       "      <th>Zoroaster</th>\n",
       "      <td>9</td>\n",
       "      <td>9</td>\n",
       "      <td>Persian_literature</td>\n",
       "      <td>1</td>\n",
       "    </tr>\n",
       "    <tr>\n",
       "      <th>Zuid-Gelders</th>\n",
       "      <td>5</td>\n",
       "      <td>5</td>\n",
       "      <td>East_Flemish</td>\n",
       "      <td>1</td>\n",
       "    </tr>\n",
       "    <tr>\n",
       "      <th>Zulu</th>\n",
       "      <td>14</td>\n",
       "      <td>14</td>\n",
       "      <td>South_Africa</td>\n",
       "      <td>1</td>\n",
       "    </tr>\n",
       "    <tr>\n",
       "      <th>Zürich</th>\n",
       "      <td>20</td>\n",
       "      <td>20</td>\n",
       "      <td>Richard_Wagner</td>\n",
       "      <td>1</td>\n",
       "    </tr>\n",
       "  </tbody>\n",
       "</table>\n",
       "<p>4135 rows × 4 columns</p>\n",
       "</div>"
      ],
      "text/plain": [
       "             linkSource                                \n",
       "                  count unique                 top freq\n",
       "linkTarget                                             \n",
       "10th_century         65     65        15th_century    1\n",
       "11th_century         57     57        15th_century    1\n",
       "12th_century         85     85        15th_century    1\n",
       "13th_century         84     84        15th_century    1\n",
       "14th_century         71     71        15th_century    1\n",
       "...                 ...    ...                 ...  ...\n",
       "Zirconium            15     15              Cerium    1\n",
       "Zoroaster             9      9  Persian_literature    1\n",
       "Zuid-Gelders          5      5        East_Flemish    1\n",
       "Zulu                 14     14        South_Africa    1\n",
       "Zürich               20     20      Richard_Wagner    1\n",
       "\n",
       "[4135 rows x 4 columns]"
      ]
     },
     "execution_count": 85,
     "metadata": {},
     "output_type": "execute_result"
    }
   ],
   "source": [
    "grouped_target_links.describe()"
   ]
  },
  {
   "cell_type": "markdown",
   "id": "12c38636-34ca-404a-85a1-80c48254629b",
   "metadata": {},
   "source": [
    "From these groups, only the people and countries interest us. The filtering of these two categories from the two dataset groups is made using the `check_word` function."
   ]
  },
  {
   "cell_type": "code",
   "execution_count": null,
   "id": "5db6816a-9898-4e22-95ea-d3cd7fbd211b",
   "metadata": {},
   "outputs": [],
   "source": [
    "import re\n",
    "\n",
    "def check_word(word, list_words):\n",
    "    '''Inputs:\n",
    "            word: string\n",
    "            list_words: string\n",
    "        Return:\n",
    "            True if the word is in the list_words\n",
    "            False otherwise\n",
    "    '''\n",
    "    if any(article in re.findall(r\"[\\w']+\", word) for article in list_words):\n",
    "        return True \n",
    "    else:\n",
    "         return False"
   ]
  },
  {
   "cell_type": "markdown",
   "id": "67b7c09b-3a38-4dc1-bd43-819957c0512b",
   "metadata": {},
   "source": [
    "The previous categories\n",
    "1) How a given source country reaches target people.\\\n",
    "2) How a given target people is reached by source countries.\\\n",
    "3) How a given source person reaches target countries.\\\n",
    "4) How a given target country is reached by source people.\n",
    "\n",
    "correspond to the following dataframes : \n",
    "1) country_to_people\\\n",
    "2) people_from_country\\ \n",
    "3) people_to_country\\\n",
    "4) country_from_people.\n",
    "\n",
    "One only keeps lines that link a people to a country and vice-versa, using the `check_word` function."
   ]
  },
  {
   "cell_type": "code",
   "execution_count": null,
   "id": "fc226a46-ba89-42e1-b87c-aec25c97bdc2",
   "metadata": {},
   "outputs": [
    {
     "name": "stdout",
     "output_type": "stream",
     "text": [
      "There are 214 countries that target people.\n",
      "There are 349 people that are targeted by countries.\n",
      "There are 117 people that target countries.\n",
      "There are 283 countries that are targeted by people.\n"
     ]
    }
   ],
   "source": [
    "country_to_people = grouped_source_links.filter(lambda x : check_word(str(x['linkSource']), str(all_countries['article'])) & check_word(str(x['linkTarget']), str(people_grouped['article'])))\n",
    "print('There are {} countries that target people.'.format(len(country_to_people)))\n",
    "people_from_country = grouped_target_links.filter(lambda x :check_word(str(x['linkSource']), str(all_countries['article'])) & check_word(str(x['linkTarget']), str(people_grouped['article'])))\n",
    "print('There are {} people that are targeted by countries.'.format(len(people_from_country)))\n",
    "people_to_country = grouped_source_links.filter(lambda x : check_word(str(x['linkSource']), str(people_grouped['article'])) & check_word(str(x['linkTarget']), str(all_countries['article'])))\n",
    "print('There are {} people that target countries.'.format(len(people_to_country)))\n",
    "country_from_people = grouped_target_links.filter(lambda x : check_word(str(x['linkSource']), str(people_grouped['article'])) & check_word(str(x['linkTarget']), str(all_countries['article'])))\n",
    "print('There are {} countries that are targeted by people.'.format(len(country_from_people)))"
   ]
  },
  {
   "cell_type": "markdown",
   "id": "d6b4e09f-fa1d-491e-ab53-c62642ba3958",
   "metadata": {},
   "source": [
    "This four previous results provide insights about the relationships between people and countries. Still, the last line is surprising, since this exceeds by far the number of countries in the world. One will come back on these numbers once the network analysis will be complete, so that one can use this last as a comparison."
   ]
  },
  {
   "cell_type": "markdown",
   "id": "5d9733b2",
   "metadata": {},
   "source": [
    "# 5. Historical events\n",
    "\n",
    "With the two previous sections, we started investigating the Wikiworld (i.e the world depicted by Wikipedia’s users through their navigation between articles) on two axes. Indeed, we now know the wikiworld from a geographical point of view, and we have insights into its population (represented by the most important people in the wikispeedia’s graph). But what about its history? \n",
    "\n",
    "As before, we will use centrality to determine the most important historical events. The goal is to obtain some kind of chronological timeline with the most important events (according to Wikipedia's users), which will create the history of the Wikiworld."
   ]
  },
  {
   "cell_type": "markdown",
   "id": "d55143a5",
   "metadata": {},
   "source": [
    "To begin with, we filter the centrality dataframe by category to extract the articles related to history. Since the category `British_History` has many subcategories, we combine them into one."
   ]
  },
  {
   "cell_type": "code",
   "execution_count": null,
   "id": "697ebd36",
   "metadata": {},
   "outputs": [],
   "source": [
    "history = centralities[centralities['category'].str.contains('History')]"
   ]
  },
  {
   "cell_type": "code",
   "execution_count": null,
   "id": "db32b965",
   "metadata": {},
   "outputs": [
    {
     "name": "stdout",
     "output_type": "stream",
     "text": [
      "There are 441 historical subjects in the dataset, that are divided in 10 different classes.\n"
     ]
    },
    {
     "name": "stderr",
     "output_type": "stream",
     "text": [
      "C:\\Users\\manon\\anaconda3\\lib\\site-packages\\pandas\\core\\generic.py:9286: SettingWithCopyWarning:\n",
      "\n",
      "\n",
      "A value is trying to be set on a copy of a slice from a DataFrame\n",
      "\n",
      "See the caveats in the documentation: https://pandas.pydata.org/pandas-docs/stable/user_guide/indexing.html#returning-a-view-versus-a-copy\n",
      "\n"
     ]
    }
   ],
   "source": [
    "history = centralities[centralities['category'].str.contains('History')]\n",
    "history['category'].mask(history['category'].str.contains('British_History') ,'subject.History.British_History', inplace=True)\n",
    "history_grouped = history.groupby(by=\"category\")\n",
    "print(\"There are {0} historical subjects in the dataset, that are divided in {1} different classes.\".format(history.nunique()[0],history.nunique()[2]))"
   ]
  },
  {
   "cell_type": "code",
   "execution_count": null,
   "id": "330020ce",
   "metadata": {},
   "outputs": [
    {
     "data": {
      "text/html": [
       "<div>\n",
       "<style scoped>\n",
       "    .dataframe tbody tr th:only-of-type {\n",
       "        vertical-align: middle;\n",
       "    }\n",
       "\n",
       "    .dataframe tbody tr th {\n",
       "        vertical-align: top;\n",
       "    }\n",
       "\n",
       "    .dataframe thead th {\n",
       "        text-align: right;\n",
       "    }\n",
       "</style>\n",
       "<table border=\"1\" class=\"dataframe\">\n",
       "  <thead>\n",
       "    <tr style=\"text-align: right;\">\n",
       "      <th></th>\n",
       "      <th>article</th>\n",
       "      <th>centrality</th>\n",
       "      <th>category</th>\n",
       "    </tr>\n",
       "  </thead>\n",
       "  <tbody>\n",
       "    <tr>\n",
       "      <th>0</th>\n",
       "      <td>14th_century</td>\n",
       "      <td>1.822051</td>\n",
       "      <td>subject.History.General_history</td>\n",
       "    </tr>\n",
       "    <tr>\n",
       "      <th>1</th>\n",
       "      <td>15th_century</td>\n",
       "      <td>1.927752</td>\n",
       "      <td>subject.History.General_history</td>\n",
       "    </tr>\n",
       "    <tr>\n",
       "      <th>2</th>\n",
       "      <td>16th_century</td>\n",
       "      <td>2.031601</td>\n",
       "      <td>subject.History.General_history</td>\n",
       "    </tr>\n",
       "    <tr>\n",
       "      <th>7</th>\n",
       "      <td>Atlantic_slave_trade</td>\n",
       "      <td>2.310714</td>\n",
       "      <td>subject.History.British_History</td>\n",
       "    </tr>\n",
       "    <tr>\n",
       "      <th>13</th>\n",
       "      <td>British_Empire</td>\n",
       "      <td>2.522856</td>\n",
       "      <td>subject.History.British_History</td>\n",
       "    </tr>\n",
       "  </tbody>\n",
       "</table>\n",
       "</div>"
      ],
      "text/plain": [
       "                 article  centrality                         category\n",
       "0           14th_century    1.822051  subject.History.General_history\n",
       "1           15th_century    1.927752  subject.History.General_history\n",
       "2           16th_century    2.031601  subject.History.General_history\n",
       "7   Atlantic_slave_trade    2.310714  subject.History.British_History\n",
       "13        British_Empire    2.522856  subject.History.British_History"
      ]
     },
     "execution_count": 90,
     "metadata": {},
     "output_type": "execute_result"
    }
   ],
   "source": [
    "history.head()"
   ]
  },
  {
   "cell_type": "markdown",
   "id": "8ae0ef2a",
   "metadata": {},
   "source": [
    "We sort the articles based on their importance on the graph, i.e. their centrality:"
   ]
  },
  {
   "cell_type": "code",
   "execution_count": null,
   "id": "2b43dd3f",
   "metadata": {
    "scrolled": true
   },
   "outputs": [
    {
     "data": {
      "text/html": [
       "<div>\n",
       "<style scoped>\n",
       "    .dataframe tbody tr th:only-of-type {\n",
       "        vertical-align: middle;\n",
       "    }\n",
       "\n",
       "    .dataframe tbody tr th {\n",
       "        vertical-align: top;\n",
       "    }\n",
       "\n",
       "    .dataframe thead th {\n",
       "        text-align: right;\n",
       "    }\n",
       "</style>\n",
       "<table border=\"1\" class=\"dataframe\">\n",
       "  <thead>\n",
       "    <tr style=\"text-align: right;\">\n",
       "      <th></th>\n",
       "      <th>article</th>\n",
       "      <th>centrality</th>\n",
       "      <th>category</th>\n",
       "    </tr>\n",
       "  </thead>\n",
       "  <tbody>\n",
       "    <tr>\n",
       "      <th>62</th>\n",
       "      <td>World_War_II</td>\n",
       "      <td>2.546083</td>\n",
       "      <td>subject.History.British_History</td>\n",
       "    </tr>\n",
       "    <tr>\n",
       "      <th>13</th>\n",
       "      <td>British_Empire</td>\n",
       "      <td>2.522856</td>\n",
       "      <td>subject.History.British_History</td>\n",
       "    </tr>\n",
       "    <tr>\n",
       "      <th>239</th>\n",
       "      <td>Great_Britain</td>\n",
       "      <td>2.491359</td>\n",
       "      <td>subject.History.British_History</td>\n",
       "    </tr>\n",
       "    <tr>\n",
       "      <th>63</th>\n",
       "      <td>Nuclear_weapon</td>\n",
       "      <td>2.487048</td>\n",
       "      <td>subject.History.Military_History_and_War</td>\n",
       "    </tr>\n",
       "    <tr>\n",
       "      <th>130</th>\n",
       "      <td>American_Civil_War</td>\n",
       "      <td>2.486808</td>\n",
       "      <td>subject.History.Pre_1900_Military</td>\n",
       "    </tr>\n",
       "    <tr>\n",
       "      <th>923</th>\n",
       "      <td>Nazi_Germany</td>\n",
       "      <td>2.480684</td>\n",
       "      <td>subject.History.World_War_II</td>\n",
       "    </tr>\n",
       "    <tr>\n",
       "      <th>884</th>\n",
       "      <td>United_States_Declaration_of_Independence</td>\n",
       "      <td>2.474992</td>\n",
       "      <td>subject.History.North_American_History</td>\n",
       "    </tr>\n",
       "    <tr>\n",
       "      <th>944</th>\n",
       "      <td>Elizabeth_II_of_the_United_Kingdom</td>\n",
       "      <td>2.470971</td>\n",
       "      <td>subject.History.British_History</td>\n",
       "    </tr>\n",
       "    <tr>\n",
       "      <th>809</th>\n",
       "      <td>Cold_War</td>\n",
       "      <td>2.468385</td>\n",
       "      <td>subject.History.Recent_History</td>\n",
       "    </tr>\n",
       "    <tr>\n",
       "      <th>385</th>\n",
       "      <td>Soviet_Union</td>\n",
       "      <td>2.447202</td>\n",
       "      <td>subject.History.Recent_History</td>\n",
       "    </tr>\n",
       "  </tbody>\n",
       "</table>\n",
       "</div>"
      ],
      "text/plain": [
       "                                       article  centrality  \\\n",
       "62                                World_War_II    2.546083   \n",
       "13                              British_Empire    2.522856   \n",
       "239                              Great_Britain    2.491359   \n",
       "63                              Nuclear_weapon    2.487048   \n",
       "130                         American_Civil_War    2.486808   \n",
       "923                               Nazi_Germany    2.480684   \n",
       "884  United_States_Declaration_of_Independence    2.474992   \n",
       "944         Elizabeth_II_of_the_United_Kingdom    2.470971   \n",
       "809                                   Cold_War    2.468385   \n",
       "385                               Soviet_Union    2.447202   \n",
       "\n",
       "                                     category  \n",
       "62            subject.History.British_History  \n",
       "13            subject.History.British_History  \n",
       "239           subject.History.British_History  \n",
       "63   subject.History.Military_History_and_War  \n",
       "130         subject.History.Pre_1900_Military  \n",
       "923              subject.History.World_War_II  \n",
       "884    subject.History.North_American_History  \n",
       "944           subject.History.British_History  \n",
       "809            subject.History.Recent_History  \n",
       "385            subject.History.Recent_History  "
      ]
     },
     "execution_count": 91,
     "metadata": {},
     "output_type": "execute_result"
    }
   ],
   "source": [
    "history_sorted = history.sort_values(by=['centrality'],ascending=False)\n",
    "history_sorted.head(10)"
   ]
  },
  {
   "cell_type": "markdown",
   "id": "589a74a1",
   "metadata": {},
   "source": [
    "Let’s consider only the 30 most popular / more important events/subjects related to History. What can we say about them ?"
   ]
  },
  {
   "cell_type": "code",
   "execution_count": null,
   "id": "1a023c64",
   "metadata": {},
   "outputs": [],
   "source": [
    "history30 = history_sorted.head(30)"
   ]
  },
  {
   "cell_type": "code",
   "execution_count": null,
   "id": "8ba2818e",
   "metadata": {},
   "outputs": [
    {
     "data": {
      "image/png": "[encoded data removed]",
      "text/plain": [
       "<Figure size 432x288 with 1 Axes>"
      ]
     },
     "metadata": {
      "needs_background": "light"
     },
     "output_type": "display_data"
    }
   ],
   "source": [
    "history30['category'].value_counts().plot(kind=\"bar\")\n",
    "plt.xlabel('History category')\n",
    "plt.ylabel('Absolute frequency of events')\n",
    "plt.title('Distribution of most important historical events\\' category');"
   ]
  },
  {
   "cell_type": "markdown",
   "id": "f41f8ae7",
   "metadata": {},
   "source": [
    "We face an issue here. Indeed, our first idea was to consider only the historical events to make some kind of chronological timeline. However, looking into the articles that we have, many of the ones related to history, especially the most central ones, are not historical events (for example British_Empire, Nuclear_Weapon…). The question is now, what can we do with those to characterize the history that is told by Wikispeedia’s graph? If we consider the category, then British History is predominant. Should we focus on Recent History ? Find a way to filter the events ? Make clusters ?\n",
    "\n",
    "All these questions are open and will be discussed or addressed later in this project."
   ]
  },
  {
   "cell_type": "markdown",
   "id": "62e030bb",
   "metadata": {},
   "source": [
    "# 6. Appendix"
   ]
  },
  {
   "cell_type": "markdown",
   "id": "b32fb290",
   "metadata": {},
   "source": [
    "The article names are URL-encoded. Thus, the following code allows to decode the article names. We did not use it here, because the URL names reveal useful to access the files (as in 'wpcd' folder), but might use it in the future for better readability. This code will be applied at the very end of the data analysis steps."
   ]
  },
  {
   "cell_type": "code",
   "execution_count": null,
   "id": "a127e56f-ad5b-44e3-a818-86ef191e44ac",
   "metadata": {
    "scrolled": true
   },
   "outputs": [
    {
     "ename": "AttributeError",
     "evalue": "'list' object has no attribute 'split'",
     "output_type": "error",
     "traceback": [
      "\u001b[1;31m---------------------------------------------------------------------------\u001b[0m",
      "\u001b[1;31mAttributeError\u001b[0m                            Traceback (most recent call last)",
      "\u001b[1;32m<ipython-input-94-0082d5c1f724>\u001b[0m in \u001b[0;36m<module>\u001b[1;34m\u001b[0m\n\u001b[0;32m      5\u001b[0m \u001b[0mlinks\u001b[0m\u001b[1;33m[\u001b[0m\u001b[1;34m'linkSource'\u001b[0m\u001b[1;33m]\u001b[0m \u001b[1;33m=\u001b[0m \u001b[0mlinks\u001b[0m\u001b[1;33m[\u001b[0m\u001b[1;34m'linkSource'\u001b[0m\u001b[1;33m]\u001b[0m\u001b[1;33m.\u001b[0m\u001b[0mapply\u001b[0m\u001b[1;33m(\u001b[0m\u001b[1;32mlambda\u001b[0m \u001b[0mx\u001b[0m\u001b[1;33m:\u001b[0m \u001b[0munquote\u001b[0m\u001b[1;33m(\u001b[0m\u001b[0mx\u001b[0m\u001b[1;33m)\u001b[0m\u001b[1;33m)\u001b[0m\u001b[1;33m\u001b[0m\u001b[1;33m\u001b[0m\u001b[0m\n\u001b[0;32m      6\u001b[0m \u001b[0mlinks\u001b[0m\u001b[1;33m[\u001b[0m\u001b[1;34m'linkTarget'\u001b[0m\u001b[1;33m]\u001b[0m \u001b[1;33m=\u001b[0m \u001b[0mlinks\u001b[0m\u001b[1;33m[\u001b[0m\u001b[1;34m'linkTarget'\u001b[0m\u001b[1;33m]\u001b[0m\u001b[1;33m.\u001b[0m\u001b[0mapply\u001b[0m\u001b[1;33m(\u001b[0m\u001b[1;32mlambda\u001b[0m \u001b[0mx\u001b[0m\u001b[1;33m:\u001b[0m \u001b[0munquote\u001b[0m\u001b[1;33m(\u001b[0m\u001b[0mx\u001b[0m\u001b[1;33m)\u001b[0m\u001b[1;33m)\u001b[0m\u001b[1;33m\u001b[0m\u001b[1;33m\u001b[0m\u001b[0m\n\u001b[1;32m----> 7\u001b[1;33m \u001b[0mpath_finished\u001b[0m\u001b[1;33m[\u001b[0m\u001b[1;34m'path'\u001b[0m\u001b[1;33m]\u001b[0m \u001b[1;33m=\u001b[0m \u001b[0mpath_finished\u001b[0m\u001b[1;33m[\u001b[0m\u001b[1;34m'path'\u001b[0m\u001b[1;33m]\u001b[0m\u001b[1;33m.\u001b[0m\u001b[0mapply\u001b[0m\u001b[1;33m(\u001b[0m\u001b[1;32mlambda\u001b[0m \u001b[0mx\u001b[0m\u001b[1;33m:\u001b[0m \u001b[0munquote\u001b[0m\u001b[1;33m(\u001b[0m\u001b[0mx\u001b[0m\u001b[1;33m)\u001b[0m\u001b[1;33m)\u001b[0m\u001b[1;33m\u001b[0m\u001b[1;33m\u001b[0m\u001b[0m\n\u001b[0m\u001b[0;32m      8\u001b[0m \u001b[0mpath_unfinished\u001b[0m\u001b[1;33m[\u001b[0m\u001b[1;34m'path'\u001b[0m\u001b[1;33m]\u001b[0m \u001b[1;33m=\u001b[0m \u001b[0mpath_unfinished\u001b[0m\u001b[1;33m[\u001b[0m\u001b[1;34m'path'\u001b[0m\u001b[1;33m]\u001b[0m\u001b[1;33m.\u001b[0m\u001b[0mapply\u001b[0m\u001b[1;33m(\u001b[0m\u001b[1;32mlambda\u001b[0m \u001b[0mx\u001b[0m\u001b[1;33m:\u001b[0m \u001b[0munquote\u001b[0m\u001b[1;33m(\u001b[0m\u001b[0mx\u001b[0m\u001b[1;33m)\u001b[0m\u001b[1;33m)\u001b[0m\u001b[1;33m\u001b[0m\u001b[1;33m\u001b[0m\u001b[0m\n\u001b[0;32m      9\u001b[0m \u001b[0mpath_unfinished\u001b[0m\u001b[1;33m[\u001b[0m\u001b[1;34m'target'\u001b[0m\u001b[1;33m]\u001b[0m \u001b[1;33m=\u001b[0m \u001b[0mpath_unfinished\u001b[0m\u001b[1;33m[\u001b[0m\u001b[1;34m'target'\u001b[0m\u001b[1;33m]\u001b[0m\u001b[1;33m.\u001b[0m\u001b[0mapply\u001b[0m\u001b[1;33m(\u001b[0m\u001b[1;32mlambda\u001b[0m \u001b[0mx\u001b[0m\u001b[1;33m:\u001b[0m \u001b[0munquote\u001b[0m\u001b[1;33m(\u001b[0m\u001b[0mx\u001b[0m\u001b[1;33m)\u001b[0m\u001b[1;33m)\u001b[0m\u001b[1;33m\u001b[0m\u001b[1;33m\u001b[0m\u001b[0m\n",
      "\u001b[1;32m~\\anaconda3\\lib\\site-packages\\pandas\\core\\series.py\u001b[0m in \u001b[0;36mapply\u001b[1;34m(self, func, convert_dtype, args, **kwds)\u001b[0m\n\u001b[0;32m   4136\u001b[0m             \u001b[1;32melse\u001b[0m\u001b[1;33m:\u001b[0m\u001b[1;33m\u001b[0m\u001b[1;33m\u001b[0m\u001b[0m\n\u001b[0;32m   4137\u001b[0m                 \u001b[0mvalues\u001b[0m \u001b[1;33m=\u001b[0m \u001b[0mself\u001b[0m\u001b[1;33m.\u001b[0m\u001b[0mastype\u001b[0m\u001b[1;33m(\u001b[0m\u001b[0mobject\u001b[0m\u001b[1;33m)\u001b[0m\u001b[1;33m.\u001b[0m\u001b[0m_values\u001b[0m\u001b[1;33m\u001b[0m\u001b[1;33m\u001b[0m\u001b[0m\n\u001b[1;32m-> 4138\u001b[1;33m                 \u001b[0mmapped\u001b[0m \u001b[1;33m=\u001b[0m \u001b[0mlib\u001b[0m\u001b[1;33m.\u001b[0m\u001b[0mmap_infer\u001b[0m\u001b[1;33m(\u001b[0m\u001b[0mvalues\u001b[0m\u001b[1;33m,\u001b[0m \u001b[0mf\u001b[0m\u001b[1;33m,\u001b[0m \u001b[0mconvert\u001b[0m\u001b[1;33m=\u001b[0m\u001b[0mconvert_dtype\u001b[0m\u001b[1;33m)\u001b[0m\u001b[1;33m\u001b[0m\u001b[1;33m\u001b[0m\u001b[0m\n\u001b[0m\u001b[0;32m   4139\u001b[0m \u001b[1;33m\u001b[0m\u001b[0m\n\u001b[0;32m   4140\u001b[0m         \u001b[1;32mif\u001b[0m \u001b[0mlen\u001b[0m\u001b[1;33m(\u001b[0m\u001b[0mmapped\u001b[0m\u001b[1;33m)\u001b[0m \u001b[1;32mand\u001b[0m \u001b[0misinstance\u001b[0m\u001b[1;33m(\u001b[0m\u001b[0mmapped\u001b[0m\u001b[1;33m[\u001b[0m\u001b[1;36m0\u001b[0m\u001b[1;33m]\u001b[0m\u001b[1;33m,\u001b[0m \u001b[0mSeries\u001b[0m\u001b[1;33m)\u001b[0m\u001b[1;33m:\u001b[0m\u001b[1;33m\u001b[0m\u001b[1;33m\u001b[0m\u001b[0m\n",
      "\u001b[1;32mpandas\\_libs\\lib.pyx\u001b[0m in \u001b[0;36mpandas._libs.lib.map_infer\u001b[1;34m()\u001b[0m\n",
      "\u001b[1;32m<ipython-input-94-0082d5c1f724>\u001b[0m in \u001b[0;36m<lambda>\u001b[1;34m(x)\u001b[0m\n\u001b[0;32m      5\u001b[0m \u001b[0mlinks\u001b[0m\u001b[1;33m[\u001b[0m\u001b[1;34m'linkSource'\u001b[0m\u001b[1;33m]\u001b[0m \u001b[1;33m=\u001b[0m \u001b[0mlinks\u001b[0m\u001b[1;33m[\u001b[0m\u001b[1;34m'linkSource'\u001b[0m\u001b[1;33m]\u001b[0m\u001b[1;33m.\u001b[0m\u001b[0mapply\u001b[0m\u001b[1;33m(\u001b[0m\u001b[1;32mlambda\u001b[0m \u001b[0mx\u001b[0m\u001b[1;33m:\u001b[0m \u001b[0munquote\u001b[0m\u001b[1;33m(\u001b[0m\u001b[0mx\u001b[0m\u001b[1;33m)\u001b[0m\u001b[1;33m)\u001b[0m\u001b[1;33m\u001b[0m\u001b[1;33m\u001b[0m\u001b[0m\n\u001b[0;32m      6\u001b[0m \u001b[0mlinks\u001b[0m\u001b[1;33m[\u001b[0m\u001b[1;34m'linkTarget'\u001b[0m\u001b[1;33m]\u001b[0m \u001b[1;33m=\u001b[0m \u001b[0mlinks\u001b[0m\u001b[1;33m[\u001b[0m\u001b[1;34m'linkTarget'\u001b[0m\u001b[1;33m]\u001b[0m\u001b[1;33m.\u001b[0m\u001b[0mapply\u001b[0m\u001b[1;33m(\u001b[0m\u001b[1;32mlambda\u001b[0m \u001b[0mx\u001b[0m\u001b[1;33m:\u001b[0m \u001b[0munquote\u001b[0m\u001b[1;33m(\u001b[0m\u001b[0mx\u001b[0m\u001b[1;33m)\u001b[0m\u001b[1;33m)\u001b[0m\u001b[1;33m\u001b[0m\u001b[1;33m\u001b[0m\u001b[0m\n\u001b[1;32m----> 7\u001b[1;33m \u001b[0mpath_finished\u001b[0m\u001b[1;33m[\u001b[0m\u001b[1;34m'path'\u001b[0m\u001b[1;33m]\u001b[0m \u001b[1;33m=\u001b[0m \u001b[0mpath_finished\u001b[0m\u001b[1;33m[\u001b[0m\u001b[1;34m'path'\u001b[0m\u001b[1;33m]\u001b[0m\u001b[1;33m.\u001b[0m\u001b[0mapply\u001b[0m\u001b[1;33m(\u001b[0m\u001b[1;32mlambda\u001b[0m \u001b[0mx\u001b[0m\u001b[1;33m:\u001b[0m \u001b[0munquote\u001b[0m\u001b[1;33m(\u001b[0m\u001b[0mx\u001b[0m\u001b[1;33m)\u001b[0m\u001b[1;33m)\u001b[0m\u001b[1;33m\u001b[0m\u001b[1;33m\u001b[0m\u001b[0m\n\u001b[0m\u001b[0;32m      8\u001b[0m \u001b[0mpath_unfinished\u001b[0m\u001b[1;33m[\u001b[0m\u001b[1;34m'path'\u001b[0m\u001b[1;33m]\u001b[0m \u001b[1;33m=\u001b[0m \u001b[0mpath_unfinished\u001b[0m\u001b[1;33m[\u001b[0m\u001b[1;34m'path'\u001b[0m\u001b[1;33m]\u001b[0m\u001b[1;33m.\u001b[0m\u001b[0mapply\u001b[0m\u001b[1;33m(\u001b[0m\u001b[1;32mlambda\u001b[0m \u001b[0mx\u001b[0m\u001b[1;33m:\u001b[0m \u001b[0munquote\u001b[0m\u001b[1;33m(\u001b[0m\u001b[0mx\u001b[0m\u001b[1;33m)\u001b[0m\u001b[1;33m)\u001b[0m\u001b[1;33m\u001b[0m\u001b[1;33m\u001b[0m\u001b[0m\n\u001b[0;32m      9\u001b[0m \u001b[0mpath_unfinished\u001b[0m\u001b[1;33m[\u001b[0m\u001b[1;34m'target'\u001b[0m\u001b[1;33m]\u001b[0m \u001b[1;33m=\u001b[0m \u001b[0mpath_unfinished\u001b[0m\u001b[1;33m[\u001b[0m\u001b[1;34m'target'\u001b[0m\u001b[1;33m]\u001b[0m\u001b[1;33m.\u001b[0m\u001b[0mapply\u001b[0m\u001b[1;33m(\u001b[0m\u001b[1;32mlambda\u001b[0m \u001b[0mx\u001b[0m\u001b[1;33m:\u001b[0m \u001b[0munquote\u001b[0m\u001b[1;33m(\u001b[0m\u001b[0mx\u001b[0m\u001b[1;33m)\u001b[0m\u001b[1;33m)\u001b[0m\u001b[1;33m\u001b[0m\u001b[1;33m\u001b[0m\u001b[0m\n",
      "\u001b[1;32m~\\anaconda3\\lib\\urllib\\parse.py\u001b[0m in \u001b[0;36munquote\u001b[1;34m(string, encoding, errors)\u001b[0m\n\u001b[0;32m    635\u001b[0m         \u001b[1;32mraise\u001b[0m \u001b[0mTypeError\u001b[0m\u001b[1;33m(\u001b[0m\u001b[1;34m'Expected str, got bytes'\u001b[0m\u001b[1;33m)\u001b[0m\u001b[1;33m\u001b[0m\u001b[1;33m\u001b[0m\u001b[0m\n\u001b[0;32m    636\u001b[0m     \u001b[1;32mif\u001b[0m \u001b[1;34m'%'\u001b[0m \u001b[1;32mnot\u001b[0m \u001b[1;32min\u001b[0m \u001b[0mstring\u001b[0m\u001b[1;33m:\u001b[0m\u001b[1;33m\u001b[0m\u001b[1;33m\u001b[0m\u001b[0m\n\u001b[1;32m--> 637\u001b[1;33m         \u001b[0mstring\u001b[0m\u001b[1;33m.\u001b[0m\u001b[0msplit\u001b[0m\u001b[1;33m\u001b[0m\u001b[1;33m\u001b[0m\u001b[0m\n\u001b[0m\u001b[0;32m    638\u001b[0m         \u001b[1;32mreturn\u001b[0m \u001b[0mstring\u001b[0m\u001b[1;33m\u001b[0m\u001b[1;33m\u001b[0m\u001b[0m\n\u001b[0;32m    639\u001b[0m     \u001b[1;32mif\u001b[0m \u001b[0mencoding\u001b[0m \u001b[1;32mis\u001b[0m \u001b[1;32mNone\u001b[0m\u001b[1;33m:\u001b[0m\u001b[1;33m\u001b[0m\u001b[1;33m\u001b[0m\u001b[0m\n",
      "\u001b[1;31mAttributeError\u001b[0m: 'list' object has no attribute 'split'"
     ]
    }
   ],
   "source": [
    "from urllib.parse import unquote\n",
    "\n",
    "articles['article'] = articles['article'].apply(lambda x: unquote(x))\n",
    "categories['article'] = categories['article'].apply(lambda x: unquote(x))\n",
    "links['linkSource'] = links['linkSource'].apply(lambda x: unquote(x))\n",
    "links['linkTarget'] = links['linkTarget'].apply(lambda x: unquote(x))\n",
    "path_finished['path'] = path_finished['path'].apply(lambda x: unquote(x))\n",
    "path_unfinished['path'] = path_unfinished['path'].apply(lambda x: unquote(x))\n",
    "path_unfinished['target'] = path_unfinished['target'].apply(lambda x: unquote(x))"
   ]
  },
  {
   "cell_type": "code",
   "execution_count": null,
   "id": "e4164917",
   "metadata": {},
   "outputs": [],
   "source": []
  }
 ],
 "metadata": {
  "kernelspec": {
   "display_name": "Python 3",
   "language": "python",
   "name": "python3"
  },
  "language_info": {
   "codemirror_mode": {
    "name": "ipython",
    "version": 3
   },
   "file_extension": ".py",
   "mimetype": "text/x-python",
   "name": "python",
   "nbconvert_exporter": "python",
   "pygments_lexer": "ipython3",
   "version": "3.8.8"
  },
  "vscode": {
   "interpreter": {
    "hash": "ff78d141b9f8c348e034749b07489e70aca0772d9c1402feaf5c8610ccc21981"
   }
  }
 },
 "nbformat": 4,
 "nbformat_minor": 5
}
