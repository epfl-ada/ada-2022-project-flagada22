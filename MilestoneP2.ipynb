{
 "cells": [
  {
   "cell_type": "markdown",
   "id": "0b95ebaa",
   "metadata": {},
   "source": [
    "# Wikiworld - Milestone P2\n",
    "\n",
    "<div class=\"alert alert-block alert-info\">\n",
    "<b>Team:</b> flagada22\n",
    "\n",
    "<b>Authors:</b> Flore Barde, Manon Béchaz, Zoé Jeandupeux, Killian Rigaux\n",
    "</div>\n",
    "\n",
    "## <a id=\"ToC_1_WT\"></a>Table of contents\n",
    "\n",
    "1. [Data Loading and First analyses](#1.-Data-Loading-and-First-analyses)\n",
    "    1. [Data Loading](#1.A-Data-Loading)\n",
    "    2. [Categories of the articles](#1.B-Categories-of-the-articles)\n",
    "2. [Tools](#2.Tools)\n",
    "    1. [Graph Analysis and Centrality](#2.A-Graph-Analysis-and-Centrality)\n",
    "        1. [Creation of the graph](#2.A.a-Creation-of-the-graph)\n",
    "        2. [Centrality](#2.A.b-Centrality)\n",
    "    2. [Semantic distance](#2.B-Semantic-distance)\n",
    "3. [Countries](#3.-Countries)\n",
    "    1. [Continents](#3.A-Continents)\n",
    "    2. [What are the most important countries, according to Wikipedia's users?](#3.B-What-are-the-most-important-countries-according-to-Wikipedia's-users?)\n",
    "    3. [If I say Switzerland, what do you think?](#3.C-If-I-say-Switzerland,-what-do-you-think?)\n",
    "4. [People](#4.-People)\n",
    "    1. [Categories of People](#4.A-Categories-of-People)\n",
    "    2. [Who are the people in our dataset?](#4.B-Who-are-the-people-in-our-dataset?)\n",
    "        1. [Extracting the information from the plaintext](#4.B.a-Extracting-the-information-from-the-plaintext) \n",
    "        2. [Extracting the information from the html page](#4.B.b-Extracting-the-information-from-the-html-page) \n",
    "    3. [What are the most important peoples according to Wikipedia's users?](#4.C-What-are-the-most-important-peoples-according-to-Wikipedia's-users?)\n",
    "    4. [Linking people and countries](#4.D-Linking-people-and-countries)\n",
    "5. [Historical events](#5.-Historical-events)\n",
    "6. [Appendix](#6.-Appendix)"
   ]
  },
  {
   "cell_type": "markdown",
   "id": "a63ce07a",
   "metadata": {},
   "source": [
    "During this project, we are going to study the Wikispeedia data. This notebook represents a preliminary analysis of the project data. \n",
    "\n",
    "One first imports all necessary packages for our analysis."
   ]
  },
  {
   "cell_type": "code",
   "execution_count": 144,
   "id": "26b16bb5",
   "metadata": {},
   "outputs": [],
   "source": [
    "%matplotlib inline\n",
    "import pandas as pd\n",
    "import numpy as np\n",
    "import matplotlib.pyplot as plt\n",
    "import networkx as nx\n",
    "from urllib.parse import unquote\n",
    "import plotly.graph_objects as go\n",
    "import re\n",
    "from bs4 import BeautifulSoup"
   ]
  },
  {
   "cell_type": "code",
   "execution_count": 3,
   "id": "92ae273f",
   "metadata": {},
   "outputs": [],
   "source": [
    "pd.options.display.max_colwidth = 200 #allows to desplay the entire strings in the dataframe"
   ]
  },
  {
   "cell_type": "markdown",
   "id": "6b4ec7a4",
   "metadata": {},
   "source": [
    "# 1. Data Loading and First analyses\n",
    "\n",
    "## 1.A Data Loading\n",
    "As a first step, we load the data from the path and graph folder: `wikispeedia_paths-and-graph`.\n",
    "Amoung these data, we can find:\n",
    "- `articles.tsv`: list of all the wikipedia articles given in the whikispeedia dataset.\n",
    "- `categories.tsv`: categories to which belong a specific wikipedia article.\n",
    "- `links.tsv`: list of all the hyperlinks existing between two different wikipedia page\n",
    "- `paths_finished.tsv`: hyperlinks path chosen by users while playing the wikispeedia game, and were able to finish the game.\n",
    "- `paths_unfinished.tsv`: hyperlinks path chosen be users while playing the wikispeedia game, but were not able to finish the game.\n",
    "- `shortest-path-distance-matrix.txt`: matrix of the smaller number of hyperlinks necessary to go from one wikipedia article to the other."
   ]
  },
  {
   "cell_type": "code",
   "execution_count": 18,
   "id": "06351f6e",
   "metadata": {},
   "outputs": [],
   "source": [
    "# Folder\n",
    "PATH_FOLDER = 'wikispeedia_paths-and-graph/'\n",
    "\n",
    "# Defining paths\n",
    "ARTICLES_DATA = PATH_FOLDER + \"articles.tsv\"\n",
    "CATEGORIES_DATA = PATH_FOLDER + \"categories.tsv\"\n",
    "LINKS_DATA = PATH_FOLDER + \"links.tsv\"\n",
    "PATH_FINISHED_DATA = PATH_FOLDER + \"paths_finished.tsv\"\n",
    "PATH_UNFINISHED_DATA = PATH_FOLDER + \"paths_unfinished.tsv\"\n",
    "SHORTESTPATH_DATA = PATH_FOLDER + \"shortest-path-distance-matrix.txt\"\n",
    "\n",
    "# Loading all data series\n",
    "articles = pd.read_csv(ARTICLES_DATA, header=None, names=['article'], comment='#')\n",
    "categories = pd.read_csv(CATEGORIES_DATA, sep='\\t', header=None, names=['article', 'category'], comment='#')\n",
    "links = pd.read_csv(LINKS_DATA, sep='\\t', header=None, names=[\"linkSource\", 'linkTarget'], comment='#')\n",
    "path_finished = pd.read_csv(PATH_FINISHED_DATA, sep='\\t', header=None, names=['hashedIpAddress', 'timestamp', 'durationInSec', 'path', 'rating'], comment='#')\n",
    "path_unfinished = pd.read_csv(PATH_UNFINISHED_DATA, sep='\\t', header=None, names=['hashedIpAddress', 'timestamp', 'durationInSec', 'path', 'target', 'type'], comment='#')\n"
   ]
  },
  {
   "cell_type": "code",
   "execution_count": 17,
   "id": "92ed875c",
   "metadata": {},
   "outputs": [],
   "source": [
    "#### CODE A SUPPRIMER ?? #### TROUVER COMMENT BIEN FAIRE\n",
    "shortest_path = pd.read_csv(SHORTESTPATH_DATA, sep='\\t', header=None, names=['shortestPath'], comment='#')"
   ]
  },
  {
   "cell_type": "markdown",
   "id": "83ea4039",
   "metadata": {},
   "source": [
    "Let's take a quick look at what the data we just loaded look like:"
   ]
  },
  {
   "cell_type": "code",
   "execution_count": 73,
   "id": "ed21c8f1",
   "metadata": {},
   "outputs": [
    {
     "name": "stdout",
     "output_type": "stream",
     "text": [
      "There are 4604 Whikipedia articles given in the Wikispeedia dataset.\n"
     ]
    },
    {
     "data": {
      "text/html": [
       "<div>\n",
       "<style scoped>\n",
       "    .dataframe tbody tr th:only-of-type {\n",
       "        vertical-align: middle;\n",
       "    }\n",
       "\n",
       "    .dataframe tbody tr th {\n",
       "        vertical-align: top;\n",
       "    }\n",
       "\n",
       "    .dataframe thead th {\n",
       "        text-align: right;\n",
       "    }\n",
       "</style>\n",
       "<table border=\"1\" class=\"dataframe\">\n",
       "  <thead>\n",
       "    <tr style=\"text-align: right;\">\n",
       "      <th></th>\n",
       "      <th>article</th>\n",
       "    </tr>\n",
       "  </thead>\n",
       "  <tbody>\n",
       "    <tr>\n",
       "      <th>0</th>\n",
       "      <td>%C3%81ed%C3%A1n_mac_Gabr%C3%A1in</td>\n",
       "    </tr>\n",
       "    <tr>\n",
       "      <th>1</th>\n",
       "      <td>%C3%85land</td>\n",
       "    </tr>\n",
       "    <tr>\n",
       "      <th>2</th>\n",
       "      <td>%C3%89douard_Manet</td>\n",
       "    </tr>\n",
       "  </tbody>\n",
       "</table>\n",
       "</div>"
      ],
      "text/plain": [
       "                            article\n",
       "0  %C3%81ed%C3%A1n_mac_Gabr%C3%A1in\n",
       "1                        %C3%85land\n",
       "2                %C3%89douard_Manet"
      ]
     },
     "execution_count": 73,
     "metadata": {},
     "output_type": "execute_result"
    }
   ],
   "source": [
    "print('There are {} Whikipedia articles given in the Wikispeedia dataset.'.format(len(articles)))\n",
    "articles.head(3)"
   ]
  },
  {
   "cell_type": "code",
   "execution_count": 74,
   "id": "0ab05240",
   "metadata": {},
   "outputs": [
    {
     "data": {
      "text/html": [
       "<div>\n",
       "<style scoped>\n",
       "    .dataframe tbody tr th:only-of-type {\n",
       "        vertical-align: middle;\n",
       "    }\n",
       "\n",
       "    .dataframe tbody tr th {\n",
       "        vertical-align: top;\n",
       "    }\n",
       "\n",
       "    .dataframe thead th {\n",
       "        text-align: right;\n",
       "    }\n",
       "</style>\n",
       "<table border=\"1\" class=\"dataframe\">\n",
       "  <thead>\n",
       "    <tr style=\"text-align: right;\">\n",
       "      <th></th>\n",
       "      <th>article</th>\n",
       "      <th>category</th>\n",
       "    </tr>\n",
       "  </thead>\n",
       "  <tbody>\n",
       "    <tr>\n",
       "      <th>0</th>\n",
       "      <td>%C3%81ed%C3%A1n_mac_Gabr%C3%A1in</td>\n",
       "      <td>subject.History.British_History.British_History_1500_and_before_including_Roman_Britain</td>\n",
       "    </tr>\n",
       "    <tr>\n",
       "      <th>1</th>\n",
       "      <td>%C3%81ed%C3%A1n_mac_Gabr%C3%A1in</td>\n",
       "      <td>subject.People.Historical_figures</td>\n",
       "    </tr>\n",
       "    <tr>\n",
       "      <th>2</th>\n",
       "      <td>%C3%85land</td>\n",
       "      <td>subject.Countries</td>\n",
       "    </tr>\n",
       "  </tbody>\n",
       "</table>\n",
       "</div>"
      ],
      "text/plain": [
       "                            article  \\\n",
       "0  %C3%81ed%C3%A1n_mac_Gabr%C3%A1in   \n",
       "1  %C3%81ed%C3%A1n_mac_Gabr%C3%A1in   \n",
       "2                        %C3%85land   \n",
       "\n",
       "                                                                                  category  \n",
       "0  subject.History.British_History.British_History_1500_and_before_including_Roman_Britain  \n",
       "1                                                        subject.People.Historical_figures  \n",
       "2                                                                        subject.Countries  "
      ]
     },
     "execution_count": 74,
     "metadata": {},
     "output_type": "execute_result"
    }
   ],
   "source": [
    "categories.head(3)"
   ]
  },
  {
   "cell_type": "code",
   "execution_count": 75,
   "id": "6528faf5",
   "metadata": {},
   "outputs": [
    {
     "data": {
      "text/html": [
       "<div>\n",
       "<style scoped>\n",
       "    .dataframe tbody tr th:only-of-type {\n",
       "        vertical-align: middle;\n",
       "    }\n",
       "\n",
       "    .dataframe tbody tr th {\n",
       "        vertical-align: top;\n",
       "    }\n",
       "\n",
       "    .dataframe thead th {\n",
       "        text-align: right;\n",
       "    }\n",
       "</style>\n",
       "<table border=\"1\" class=\"dataframe\">\n",
       "  <thead>\n",
       "    <tr style=\"text-align: right;\">\n",
       "      <th></th>\n",
       "      <th>linkSource</th>\n",
       "      <th>linkTarget</th>\n",
       "    </tr>\n",
       "  </thead>\n",
       "  <tbody>\n",
       "    <tr>\n",
       "      <th>0</th>\n",
       "      <td>%C3%81ed%C3%A1n_mac_Gabr%C3%A1in</td>\n",
       "      <td>Bede</td>\n",
       "    </tr>\n",
       "    <tr>\n",
       "      <th>1</th>\n",
       "      <td>%C3%81ed%C3%A1n_mac_Gabr%C3%A1in</td>\n",
       "      <td>Columba</td>\n",
       "    </tr>\n",
       "    <tr>\n",
       "      <th>2</th>\n",
       "      <td>%C3%81ed%C3%A1n_mac_Gabr%C3%A1in</td>\n",
       "      <td>D%C3%A1l_Riata</td>\n",
       "    </tr>\n",
       "  </tbody>\n",
       "</table>\n",
       "</div>"
      ],
      "text/plain": [
       "                         linkSource      linkTarget\n",
       "0  %C3%81ed%C3%A1n_mac_Gabr%C3%A1in            Bede\n",
       "1  %C3%81ed%C3%A1n_mac_Gabr%C3%A1in         Columba\n",
       "2  %C3%81ed%C3%A1n_mac_Gabr%C3%A1in  D%C3%A1l_Riata"
      ]
     },
     "execution_count": 75,
     "metadata": {},
     "output_type": "execute_result"
    }
   ],
   "source": [
    "links.head(3)"
   ]
  },
  {
   "cell_type": "code",
   "execution_count": 76,
   "id": "cbb883a5",
   "metadata": {},
   "outputs": [
    {
     "data": {
      "text/html": [
       "<div>\n",
       "<style scoped>\n",
       "    .dataframe tbody tr th:only-of-type {\n",
       "        vertical-align: middle;\n",
       "    }\n",
       "\n",
       "    .dataframe tbody tr th {\n",
       "        vertical-align: top;\n",
       "    }\n",
       "\n",
       "    .dataframe thead th {\n",
       "        text-align: right;\n",
       "    }\n",
       "</style>\n",
       "<table border=\"1\" class=\"dataframe\">\n",
       "  <thead>\n",
       "    <tr style=\"text-align: right;\">\n",
       "      <th></th>\n",
       "      <th>hashedIpAddress</th>\n",
       "      <th>timestamp</th>\n",
       "      <th>durationInSec</th>\n",
       "      <th>path</th>\n",
       "      <th>rating</th>\n",
       "      <th>back</th>\n",
       "    </tr>\n",
       "  </thead>\n",
       "  <tbody>\n",
       "    <tr>\n",
       "      <th>0</th>\n",
       "      <td>6a3701d319fc3754</td>\n",
       "      <td>2011-02-15 03:26:49</td>\n",
       "      <td>166</td>\n",
       "      <td>14th_century;15th_century;16th_century;Pacific_Ocean;Atlantic_Ocean;Accra;Africa;Atlantic_slave_trade;African_slave_trade</td>\n",
       "      <td>NaN</td>\n",
       "      <td>0</td>\n",
       "    </tr>\n",
       "    <tr>\n",
       "      <th>1</th>\n",
       "      <td>3824310e536af032</td>\n",
       "      <td>2012-08-12 06:36:52</td>\n",
       "      <td>88</td>\n",
       "      <td>14th_century;Europe;Africa;Atlantic_slave_trade;African_slave_trade</td>\n",
       "      <td>3.0</td>\n",
       "      <td>0</td>\n",
       "    </tr>\n",
       "    <tr>\n",
       "      <th>2</th>\n",
       "      <td>415612e93584d30e</td>\n",
       "      <td>2012-10-03 21:10:40</td>\n",
       "      <td>138</td>\n",
       "      <td>14th_century;Niger;Nigeria;British_Empire;Slavery;Africa;Atlantic_slave_trade;African_slave_trade</td>\n",
       "      <td>NaN</td>\n",
       "      <td>0</td>\n",
       "    </tr>\n",
       "  </tbody>\n",
       "</table>\n",
       "</div>"
      ],
      "text/plain": [
       "    hashedIpAddress           timestamp  durationInSec  \\\n",
       "0  6a3701d319fc3754 2011-02-15 03:26:49            166   \n",
       "1  3824310e536af032 2012-08-12 06:36:52             88   \n",
       "2  415612e93584d30e 2012-10-03 21:10:40            138   \n",
       "\n",
       "                                                                                                                        path  \\\n",
       "0  14th_century;15th_century;16th_century;Pacific_Ocean;Atlantic_Ocean;Accra;Africa;Atlantic_slave_trade;African_slave_trade   \n",
       "1                                                        14th_century;Europe;Africa;Atlantic_slave_trade;African_slave_trade   \n",
       "2                          14th_century;Niger;Nigeria;British_Empire;Slavery;Africa;Atlantic_slave_trade;African_slave_trade   \n",
       "\n",
       "   rating  back  \n",
       "0     NaN     0  \n",
       "1     3.0     0  \n",
       "2     NaN     0  "
      ]
     },
     "execution_count": 76,
     "metadata": {},
     "output_type": "execute_result"
    }
   ],
   "source": [
    "path_finished.head(3)"
   ]
  },
  {
   "cell_type": "code",
   "execution_count": 77,
   "id": "404d75c7",
   "metadata": {},
   "outputs": [
    {
     "data": {
      "text/html": [
       "<div>\n",
       "<style scoped>\n",
       "    .dataframe tbody tr th:only-of-type {\n",
       "        vertical-align: middle;\n",
       "    }\n",
       "\n",
       "    .dataframe tbody tr th {\n",
       "        vertical-align: top;\n",
       "    }\n",
       "\n",
       "    .dataframe thead th {\n",
       "        text-align: right;\n",
       "    }\n",
       "</style>\n",
       "<table border=\"1\" class=\"dataframe\">\n",
       "  <thead>\n",
       "    <tr style=\"text-align: right;\">\n",
       "      <th></th>\n",
       "      <th>hashedIpAddress</th>\n",
       "      <th>timestamp</th>\n",
       "      <th>durationInSec</th>\n",
       "      <th>path</th>\n",
       "      <th>target</th>\n",
       "      <th>type</th>\n",
       "    </tr>\n",
       "  </thead>\n",
       "  <tbody>\n",
       "    <tr>\n",
       "      <th>0</th>\n",
       "      <td>2426091a53125110</td>\n",
       "      <td>2011-02-15 03:26:49</td>\n",
       "      <td>1804</td>\n",
       "      <td>Obi-Wan_Kenobi</td>\n",
       "      <td>Microsoft</td>\n",
       "      <td>timeout</td>\n",
       "    </tr>\n",
       "    <tr>\n",
       "      <th>1</th>\n",
       "      <td>26141fd878806294</td>\n",
       "      <td>2012-08-12 06:36:52</td>\n",
       "      <td>1805</td>\n",
       "      <td>Julius_Caesar</td>\n",
       "      <td>Caracas</td>\n",
       "      <td>timeout</td>\n",
       "    </tr>\n",
       "    <tr>\n",
       "      <th>2</th>\n",
       "      <td>2b015fb8181c48f2</td>\n",
       "      <td>2012-10-03 21:10:40</td>\n",
       "      <td>1818</td>\n",
       "      <td>Malawi;Democracy;Alexander_the_Great</td>\n",
       "      <td>First_Crusade</td>\n",
       "      <td>timeout</td>\n",
       "    </tr>\n",
       "  </tbody>\n",
       "</table>\n",
       "</div>"
      ],
      "text/plain": [
       "    hashedIpAddress           timestamp  durationInSec  \\\n",
       "0  2426091a53125110 2011-02-15 03:26:49           1804   \n",
       "1  26141fd878806294 2012-08-12 06:36:52           1805   \n",
       "2  2b015fb8181c48f2 2012-10-03 21:10:40           1818   \n",
       "\n",
       "                                   path         target     type  \n",
       "0                        Obi-Wan_Kenobi      Microsoft  timeout  \n",
       "1                         Julius_Caesar        Caracas  timeout  \n",
       "2  Malawi;Democracy;Alexander_the_Great  First_Crusade  timeout  "
      ]
     },
     "execution_count": 77,
     "metadata": {},
     "output_type": "execute_result"
    }
   ],
   "source": [
    "path_unfinished.head(3)"
   ]
  },
  {
   "cell_type": "code",
   "execution_count": 5,
   "id": "d032efad",
   "metadata": {},
   "outputs": [
    {
     "data": {
      "text/html": [
       "<div>\n",
       "<style scoped>\n",
       "    .dataframe tbody tr th:only-of-type {\n",
       "        vertical-align: middle;\n",
       "    }\n",
       "\n",
       "    .dataframe tbody tr th {\n",
       "        vertical-align: top;\n",
       "    }\n",
       "\n",
       "    .dataframe thead th {\n",
       "        text-align: right;\n",
       "    }\n",
       "</style>\n",
       "<table border=\"1\" class=\"dataframe\">\n",
       "  <thead>\n",
       "    <tr style=\"text-align: right;\">\n",
       "      <th></th>\n",
       "      <th>shortestPath</th>\n",
       "    </tr>\n",
       "  </thead>\n",
       "  <tbody>\n",
       "    <tr>\n",
       "      <th>0</th>\n",
       "      <td>0_____33333325634333435_2433544334_3_42234354456642455553533242_4_33433_43_3343_34__333232424334_344433343444_344442_3334_3_334324__453_4_4344443434323333344444343_43334_344_33334_33343333434_343_...</td>\n",
       "    </tr>\n",
       "    <tr>\n",
       "      <th>1</th>\n",
       "      <td>_0____22222325623232424_2422544324_3_31224254456642455552522242_4_23434_34_3343_34__333333433333_334333333334_344432_2234_2_333224__453_4_3344443424222322243344333_32333_343_33333_33342332334_333_...</td>\n",
       "    </tr>\n",
       "    <tr>\n",
       "      <th>2</th>\n",
       "      <td>__0___33222425623232324_2333444433_3_42234343456643455553422342_4_24444_35_3343_34__334333443333_214233333333_344333_3333_2_323224__463_4_4345543425222233343343344_32324_342_33233_32322332323_343_...</td>\n",
       "    </tr>\n",
       "    <tr>\n",
       "      <th>3</th>\n",
       "      <td>___0__33333325634233334_2433434333_2_42334343356643455552433343_4_34333_33_3344_34__333333434333_334343433444_344432_2334_2_333224__453_4_4344443434322333343454343_33334_344_34334_33343333434_333_...</td>\n",
       "    </tr>\n",
       "    <tr>\n",
       "      <th>4</th>\n",
       "      <td>____0_22323335633332435_2433545434_3_42334354456643455552532242_4_34433_33_3343_34__233342534334_344333433444_344432_3334_3_334324__463_5_4344443424323333343444343_43334_343_33334_33343233434_333_...</td>\n",
       "    </tr>\n",
       "  </tbody>\n",
       "</table>\n",
       "</div>"
      ],
      "text/plain": [
       "                                                                                                                                                                                              shortestPath\n",
       "0  0_____33333325634333435_2433544334_3_42234354456642455553533242_4_33433_43_3343_34__333232424334_344433343444_344442_3334_3_334324__453_4_4344443434323333344444343_43334_344_33334_33343333434_343_...\n",
       "1  _0____22222325623232424_2422544324_3_31224254456642455552522242_4_23434_34_3343_34__333333433333_334333333334_344432_2234_2_333224__453_4_3344443424222322243344333_32333_343_33333_33342332334_333_...\n",
       "2  __0___33222425623232324_2333444433_3_42234343456643455553422342_4_24444_35_3343_34__334333443333_214233333333_344333_3333_2_323224__463_4_4345543425222233343343344_32324_342_33233_32322332323_343_...\n",
       "3  ___0__33333325634233334_2433434333_2_42334343356643455552433343_4_34333_33_3344_34__333333434333_334343433444_344432_2334_2_333224__453_4_4344443434322333343454343_33334_344_34334_33343333434_333_...\n",
       "4  ____0_22323335633332435_2433545434_3_42334354456643455552532242_4_34433_33_3343_34__233342534334_344333433444_344432_3334_3_334324__463_5_4344443424323333343444343_43334_343_33334_33343233434_333_..."
      ]
     },
     "execution_count": 5,
     "metadata": {},
     "output_type": "execute_result"
    }
   ],
   "source": [
    "#### CODE A SUPPRIMER ?? #### #### TROUVER COMMENT BIEN FAIRE\n",
    "shortest_path.head()"
   ]
  },
  {
   "cell_type": "markdown",
   "id": "a3093039",
   "metadata": {},
   "source": [
    "As one can notice, the `path_finished` and path `path_unfinished` dataframe possess a `timestamp` column. However, the time values are in Unix Time Stamp, so not very readable. As a result, we are going to transform them in Christian time."
   ]
  },
  {
   "cell_type": "code",
   "execution_count": 30,
   "id": "ea62d036",
   "metadata": {},
   "outputs": [
    {
     "data": {
      "text/html": [
       "<div>\n",
       "<style scoped>\n",
       "    .dataframe tbody tr th:only-of-type {\n",
       "        vertical-align: middle;\n",
       "    }\n",
       "\n",
       "    .dataframe tbody tr th {\n",
       "        vertical-align: top;\n",
       "    }\n",
       "\n",
       "    .dataframe thead th {\n",
       "        text-align: right;\n",
       "    }\n",
       "</style>\n",
       "<table border=\"1\" class=\"dataframe\">\n",
       "  <thead>\n",
       "    <tr style=\"text-align: right;\">\n",
       "      <th></th>\n",
       "      <th>hashedIpAddress</th>\n",
       "      <th>timestamp</th>\n",
       "      <th>durationInSec</th>\n",
       "      <th>path</th>\n",
       "      <th>rating</th>\n",
       "    </tr>\n",
       "  </thead>\n",
       "  <tbody>\n",
       "    <tr>\n",
       "      <th>0</th>\n",
       "      <td>6a3701d319fc3754</td>\n",
       "      <td>2011-02-15 03:26:49</td>\n",
       "      <td>166</td>\n",
       "      <td>14th_century;15th_century;16th_century;Pacific_Ocean;Atlantic_Ocean;Accra;Africa;Atlantic_slave_trade;African_slave_trade</td>\n",
       "      <td>NaN</td>\n",
       "    </tr>\n",
       "    <tr>\n",
       "      <th>1</th>\n",
       "      <td>3824310e536af032</td>\n",
       "      <td>2012-08-12 06:36:52</td>\n",
       "      <td>88</td>\n",
       "      <td>14th_century;Europe;Africa;Atlantic_slave_trade;African_slave_trade</td>\n",
       "      <td>3.0</td>\n",
       "    </tr>\n",
       "  </tbody>\n",
       "</table>\n",
       "</div>"
      ],
      "text/plain": [
       "    hashedIpAddress           timestamp  durationInSec  \\\n",
       "0  6a3701d319fc3754 2011-02-15 03:26:49            166   \n",
       "1  3824310e536af032 2012-08-12 06:36:52             88   \n",
       "\n",
       "                                                                                                                        path  \\\n",
       "0  14th_century;15th_century;16th_century;Pacific_Ocean;Atlantic_Ocean;Accra;Africa;Atlantic_slave_trade;African_slave_trade   \n",
       "1                                                        14th_century;Europe;Africa;Atlantic_slave_trade;African_slave_trade   \n",
       "\n",
       "   rating  \n",
       "0     NaN  \n",
       "1     3.0  "
      ]
     },
     "execution_count": 30,
     "metadata": {},
     "output_type": "execute_result"
    }
   ],
   "source": [
    "# Conversion of Unix to Christian time for the path files\n",
    "path_finished['timestamp'] = pd.to_datetime(path_finished['timestamp'], unit='s', origin='unix')\n",
    "path_unfinished['timestamp'] = pd.to_datetime(path_finished['timestamp'], unit='s', origin='unix')\n",
    "path_finished.head(2)"
   ]
  },
  {
   "cell_type": "markdown",
   "id": "cb39035d",
   "metadata": {},
   "source": [
    "## 1.B Categories of the articles\n",
    "\n",
    "We now start by getting some insights into the categories of the Wikipedia's articles in the dataset.\\\n",
    "One first checks if some NaN values appear among the categories. "
   ]
  },
  {
   "cell_type": "code",
   "execution_count": 7,
   "id": "2d6847de",
   "metadata": {},
   "outputs": [
    {
     "data": {
      "text/plain": [
       "article     0\n",
       "category    0\n",
       "dtype: int64"
      ]
     },
     "execution_count": 7,
     "metadata": {},
     "output_type": "execute_result"
    }
   ],
   "source": [
    "categories.isna().sum()"
   ]
  },
  {
   "cell_type": "markdown",
   "id": "33d4c4b6",
   "metadata": {},
   "source": [
    "The previous cell shows that there is no NaN amoung the categories. Meaning that all articles present in this dataset belong to at least one category.\\\n",
    "As there are no NaN values to handle, we are now going to make a quick overview over the `article` dataset."
   ]
  },
  {
   "cell_type": "code",
   "execution_count": 31,
   "id": "2afd86b0",
   "metadata": {},
   "outputs": [
    {
     "data": {
      "text/html": [
       "<div>\n",
       "<style scoped>\n",
       "    .dataframe tbody tr th:only-of-type {\n",
       "        vertical-align: middle;\n",
       "    }\n",
       "\n",
       "    .dataframe tbody tr th {\n",
       "        vertical-align: top;\n",
       "    }\n",
       "\n",
       "    .dataframe thead th {\n",
       "        text-align: right;\n",
       "    }\n",
       "</style>\n",
       "<table border=\"1\" class=\"dataframe\">\n",
       "  <thead>\n",
       "    <tr style=\"text-align: right;\">\n",
       "      <th></th>\n",
       "      <th>article</th>\n",
       "      <th>category</th>\n",
       "    </tr>\n",
       "  </thead>\n",
       "  <tbody>\n",
       "    <tr>\n",
       "      <th>count</th>\n",
       "      <td>5204</td>\n",
       "      <td>5204</td>\n",
       "    </tr>\n",
       "    <tr>\n",
       "      <th>unique</th>\n",
       "      <td>4598</td>\n",
       "      <td>129</td>\n",
       "    </tr>\n",
       "    <tr>\n",
       "      <th>top</th>\n",
       "      <td>Pottery</td>\n",
       "      <td>subject.Countries</td>\n",
       "    </tr>\n",
       "    <tr>\n",
       "      <th>freq</th>\n",
       "      <td>3</td>\n",
       "      <td>229</td>\n",
       "    </tr>\n",
       "  </tbody>\n",
       "</table>\n",
       "</div>"
      ],
      "text/plain": [
       "        article           category\n",
       "count      5204               5204\n",
       "unique     4598                129\n",
       "top     Pottery  subject.Countries\n",
       "freq          3                229"
      ]
     },
     "execution_count": 31,
     "metadata": {},
     "output_type": "execute_result"
    }
   ],
   "source": [
    "categories.describe()"
   ]
  },
  {
   "cell_type": "markdown",
   "id": "5f762c43",
   "metadata": {},
   "source": [
    "The previous dataset description gives us some interesting insight. First of all, we can notice that there is a total of 4598 unique articles in the `categories` dataset. However, we had previously observed that there were 4604 articles in the `articles` list. This shows that some of the Whikipedia articles given in our dataset do not belong to any category.\\\n",
    "Moreover, one can notice that some Wikipedia articles belong to more then just one category. Indeed, the article on \"Pottery\" belongs to 3 different categories.\\\n",
    "Finally, we notice that there are 129 different categories in the dataset. And the categroy regrouping the higher number of articles is `subject.Countries`, with 229 articles under this cathegory."
   ]
  },
  {
   "cell_type": "markdown",
   "id": "adc72081-dfc8-43a6-90f5-f6c566a6a49b",
   "metadata": {},
   "source": [
    "We are now going to group all articles by category."
   ]
  },
  {
   "cell_type": "code",
   "execution_count": 43,
   "id": "08bd3652-225e-4230-9205-995fd69d5eb4",
   "metadata": {},
   "outputs": [
    {
     "data": {
      "image/png": "[encoded data removed]",
      "text/plain": [
       "<Figure size 640x480 with 1 Axes>"
      ]
     },
     "metadata": {},
     "output_type": "display_data"
    }
   ],
   "source": [
    "categories_grouped = categories.groupby(by=\"category\")\n",
    "\n",
    "nb_articles_per_category = categories_grouped.size()\n",
    "nb_articles_per_category.hist()\n",
    "plt.xlabel('Number of articles')\n",
    "plt.ylabel('Absolute frequency of category')\n",
    "plt.title('Distribution of the number of articles per category');"
   ]
  },
  {
   "cell_type": "markdown",
   "id": "b8fe7db0-2ea4-4a1c-a915-a17cbe63b42f",
   "metadata": {},
   "source": [
    "This histogram provides the distribution of articles per category. Thus, it shows the number of categories that have a certain number of articles assigned to it.\\\n",
    "With this representation, we can notice that most categories have less then 50 articles assigned to it. A smaller proportion of categories have between 50 and 100 articles assigned to them. Finally, the category `subject.Countries` is te only one with more then 200 articles assigned to it. "
   ]
  },
  {
   "cell_type": "markdown",
   "id": "beebca86-0d06-467b-bcce-5dbe729dacc1",
   "metadata": {},
   "source": [
    "Later in the notebook, we will interest ourselves to specific categories. Amoung them : countries, geographic regions and people."
   ]
  },
  {
   "cell_type": "markdown",
   "id": "156afa46",
   "metadata": {},
   "source": [
    "# 2. Tools\n",
    "\n",
    "In this part, we are going to develop the main tools that we are going to use during our analysis of the Wikispeedia dataset.\n",
    "\n",
    "## 2.A Graph Analysis and Centrality\n",
    "\n",
    "The finished and unfinished paths can be cast into a directed graph with Wikipedia articles as nodes and the paths connecting articles as edges. From there Graph Analysis can provide us powerful tools, for instance to explore the importance of articles, their connectivity, etc.\n",
    "\n",
    "### 2.A.a Creation of the graph\n",
    "\n",
    "For the sake of simplicity in this first part of the project, the idea is to focus on the graph of finished paths (at first) and then filter the paths where `<` occurs (i.e. the paths where the player had pressed the back button), but in a second step we could also decide to keep these paths but just delete the `<` as well as the previous page. We could also add later the unfinished paths to the graph.\n",
    "\n",
    "As said before, we thus start by filtering the paths where `<` occurs."
   ]
  },
  {
   "cell_type": "code",
   "execution_count": 44,
   "id": "141e1bbe",
   "metadata": {},
   "outputs": [],
   "source": [
    "def check_character(headline, character):\n",
    "    '''\n",
    "    This function tests if a given character is in the headline\n",
    "        Inputs:\n",
    "            headline: string\n",
    "            character: string\n",
    "        Return:\n",
    "            1 if the character is in the headline\n",
    "            0 otherwise\n",
    "    '''\n",
    "    if character in headline: \n",
    "        return 1 \n",
    "    else:\n",
    "         return 0"
   ]
  },
  {
   "cell_type": "code",
   "execution_count": 45,
   "id": "2e2ab808",
   "metadata": {},
   "outputs": [
    {
     "name": "stderr",
     "output_type": "stream",
     "text": [
      "C:\\Users\\Flore.MININT-64PJ14C\\AppData\\Local\\Temp\\ipykernel_18160\\4106856220.py:3: SettingWithCopyWarning: \n",
      "A value is trying to be set on a copy of a slice from a DataFrame\n",
      "\n",
      "See the caveats in the documentation: https://pandas.pydata.org/pandas-docs/stable/user_guide/indexing.html#returning-a-view-versus-a-copy\n",
      "  path_finished_filtered.drop(columns=['back'],inplace=True)\n"
     ]
    }
   ],
   "source": [
    "path_finished['back'] = path_finished['path'].apply(lambda x : check_character(x, '<'))\n",
    "path_finished_filtered = path_finished[path_finished['back']==0]\n",
    "path_finished_filtered.drop(columns=['back'],inplace=True)"
   ]
  },
  {
   "cell_type": "markdown",
   "id": "48c7b006",
   "metadata": {},
   "source": [
    "The graph is then created from a list of edges (i.e. in our case links between two articles) using the function `nx.add_edge`. \n",
    "To obtain a list of linked articles, we start by transforming the paths into a list of successive nodes (i.e. the successive articles) using the function `Convert` defined in the following cell."
   ]
  },
  {
   "cell_type": "code",
   "execution_count": 46,
   "id": "99bf230a",
   "metadata": {},
   "outputs": [],
   "source": [
    "def Convert(string):\n",
    "    li = list(string.split(\";\"))\n",
    "    return li"
   ]
  },
  {
   "cell_type": "code",
   "execution_count": 47,
   "id": "f98d5b43",
   "metadata": {
    "scrolled": true
   },
   "outputs": [
    {
     "name": "stderr",
     "output_type": "stream",
     "text": [
      "C:\\Users\\Flore.MININT-64PJ14C\\AppData\\Local\\Temp\\ipykernel_18160\\2985173894.py:1: SettingWithCopyWarning: \n",
      "A value is trying to be set on a copy of a slice from a DataFrame.\n",
      "Try using .loc[row_indexer,col_indexer] = value instead\n",
      "\n",
      "See the caveats in the documentation: https://pandas.pydata.org/pandas-docs/stable/user_guide/indexing.html#returning-a-view-versus-a-copy\n",
      "  path_finished_filtered['path_list'] = path_finished_filtered['path'].apply(lambda x : Convert(x))\n"
     ]
    }
   ],
   "source": [
    "path_finished_filtered['path_list'] = path_finished_filtered['path'].apply(lambda x : Convert(x))"
   ]
  },
  {
   "cell_type": "markdown",
   "id": "08d9b6c8",
   "metadata": {},
   "source": [
    "We then create a list of all edges, i.e. all pairs of articles that are connected (at least once) in the paths. We remove the duplicates, the weigths of the connections/edges (i.e. the number of times two articles are connected by Wikispeedia's players) will be taken into account later."
   ]
  },
  {
   "cell_type": "code",
   "execution_count": 48,
   "id": "0209308a",
   "metadata": {},
   "outputs": [],
   "source": [
    "edges = []\n",
    "for index, row in path_finished_filtered.iterrows(): #create the list of edges\n",
    "    edges.extend(list(zip(row['path_list'][0:-2],row['path_list'][1:-1])))\n",
    "\n",
    "edges_wo_duplicates = [] #remove duplicates\n",
    "for tup in edges:\n",
    "    if tup not in edges_wo_duplicates:\n",
    "        edges_wo_duplicates.append(tup)\n"
   ]
  },
  {
   "cell_type": "markdown",
   "id": "cfb3d834",
   "metadata": {},
   "source": [
    "The weight is computed by counting the number of occurences of edges"
   ]
  },
  {
   "cell_type": "code",
   "execution_count": 49,
   "id": "76d0bc4c",
   "metadata": {},
   "outputs": [],
   "source": [
    "#compute weight by counting occurences of edges in the list (before removing duplicates)\n",
    "import collections\n",
    "count = collections.defaultdict(int)\n",
    "for elem in edges:\n",
    "    count[elem] += 1"
   ]
  },
  {
   "cell_type": "markdown",
   "id": "a3270e29",
   "metadata": {},
   "source": [
    "Eventually, the graph can be created by adding successively all edges and associated weights."
   ]
  },
  {
   "cell_type": "code",
   "execution_count": 50,
   "id": "fe6bfe05",
   "metadata": {
    "scrolled": false
   },
   "outputs": [],
   "source": [
    "G = nx.DiGraph()\n",
    "for t in edges_wo_duplicates:\n",
    "    G.add_edge(t[0],t[1],weight = count[t]) #normalement on a un graphe pondéré maintenant"
   ]
  },
  {
   "cell_type": "markdown",
   "id": "49461dee",
   "metadata": {},
   "source": [
    "Another useful feature of the graph is the distance between two nodes. Here, the latter is implemented using the inverse of the weight of the corresponding edge. However, other distances could be interesting to use. In particular, one could in a second step use the semantic distance between two articles (see next section) as a distance in the graph."
   ]
  },
  {
   "cell_type": "code",
   "execution_count": 51,
   "id": "241bba3d",
   "metadata": {},
   "outputs": [],
   "source": [
    "G_distance_dict = {(e1, e2): 1 / weight for e1, e2, weight in G.edges(data='weight')}\n",
    "nx.set_edge_attributes(G, G_distance_dict, 'distance')"
   ]
  },
  {
   "cell_type": "markdown",
   "id": "16638ff1",
   "metadata": {},
   "source": [
    "An example of weight and distance between two articles in the graph is provided in the two following cells "
   ]
  },
  {
   "cell_type": "code",
   "execution_count": 52,
   "id": "a708d3d6",
   "metadata": {},
   "outputs": [
    {
     "data": {
      "text/plain": [
       "11"
      ]
     },
     "execution_count": 52,
     "metadata": {},
     "output_type": "execute_result"
    }
   ],
   "source": [
    "G.edges[('Pacific_Ocean','United_States')]['weight']"
   ]
  },
  {
   "cell_type": "code",
   "execution_count": 53,
   "id": "5888d937",
   "metadata": {
    "scrolled": true
   },
   "outputs": [
    {
     "data": {
      "text/plain": [
       "0.09090909090909091"
      ]
     },
     "execution_count": 53,
     "metadata": {},
     "output_type": "execute_result"
    }
   ],
   "source": [
    "G.edges[('Pacific_Ocean','United_States')]['distance']"
   ]
  },
  {
   "cell_type": "markdown",
   "id": "9a6929de",
   "metadata": {},
   "source": [
    "### 2.A.b Centrality\n",
    "\n",
    "Centrality is used to measure the importance (how “central” a node is in the graph) of various nodes in a graph. There exist different measures of the centrality, such as:\n",
    "\n",
    "- **Degree Centrality** : The node with the highest degree (highest number of connections to other nodes in the network) is more important and has the higher centrality.\n",
    "\n",
    "- **Closeness Centrality** : Here we take the average distance of a node from all the other nodes. Whichever node has a lesser average value is the node which is nearer to every node and thus it is the node with the higher centrality.\n",
    "\n",
    "- **Betweeness Centrality** : The node that is visited most of the times while traversing the shortest paths is the one with highest centrality\n",
    "\n",
    "- **EigenVector Centrality** : This method takes into account the neighboring nodes. A node which is connected to a node with a great importance will always get a better centrality."
   ]
  },
  {
   "cell_type": "markdown",
   "id": "fe8ebfa7",
   "metadata": {},
   "source": [
    "The most appropriate centrality measure is our case is the **Closeness centrality**. This is the one we will use here. To account for the weight, we use the attribute `distance` defined before. We use the function `nx.closeness_centrality` to get the centrality for each article."
   ]
  },
  {
   "cell_type": "code",
   "execution_count": 161,
   "id": "a25a17f2",
   "metadata": {},
   "outputs": [],
   "source": [
    "clos_centrality = nx.closeness_centrality(G, u=None, distance='distance', wf_improved=True)"
   ]
  },
  {
   "cell_type": "code",
   "execution_count": 162,
   "id": "68751188",
   "metadata": {
    "scrolled": false
   },
   "outputs": [],
   "source": [
    "#transform clos_centrality into a df\n",
    "centralities = pd.DataFrame.from_dict(clos_centrality, orient='index',columns=['centrality'])\n",
    "centralities = centralities.reset_index(level=0)\n",
    "centralities = centralities.rename(columns={'index': 'article'})"
   ]
  },
  {
   "cell_type": "code",
   "execution_count": 163,
   "id": "8c55f760",
   "metadata": {
    "scrolled": false
   },
   "outputs": [
    {
     "data": {
      "text/html": [
       "<div>\n",
       "<style scoped>\n",
       "    .dataframe tbody tr th:only-of-type {\n",
       "        vertical-align: middle;\n",
       "    }\n",
       "\n",
       "    .dataframe tbody tr th {\n",
       "        vertical-align: top;\n",
       "    }\n",
       "\n",
       "    .dataframe thead th {\n",
       "        text-align: right;\n",
       "    }\n",
       "</style>\n",
       "<table border=\"1\" class=\"dataframe\">\n",
       "  <thead>\n",
       "    <tr style=\"text-align: right;\">\n",
       "      <th></th>\n",
       "      <th>article</th>\n",
       "      <th>centrality</th>\n",
       "    </tr>\n",
       "  </thead>\n",
       "  <tbody>\n",
       "    <tr>\n",
       "      <th>0</th>\n",
       "      <td>14th_century</td>\n",
       "      <td>1.822051</td>\n",
       "    </tr>\n",
       "    <tr>\n",
       "      <th>1</th>\n",
       "      <td>15th_century</td>\n",
       "      <td>1.927752</td>\n",
       "    </tr>\n",
       "    <tr>\n",
       "      <th>2</th>\n",
       "      <td>16th_century</td>\n",
       "      <td>2.031601</td>\n",
       "    </tr>\n",
       "    <tr>\n",
       "      <th>3</th>\n",
       "      <td>Pacific_Ocean</td>\n",
       "      <td>2.515372</td>\n",
       "    </tr>\n",
       "    <tr>\n",
       "      <th>4</th>\n",
       "      <td>Atlantic_Ocean</td>\n",
       "      <td>2.538788</td>\n",
       "    </tr>\n",
       "  </tbody>\n",
       "</table>\n",
       "</div>"
      ],
      "text/plain": [
       "          article  centrality\n",
       "0    14th_century    1.822051\n",
       "1    15th_century    1.927752\n",
       "2    16th_century    2.031601\n",
       "3   Pacific_Ocean    2.515372\n",
       "4  Atlantic_Ocean    2.538788"
      ]
     },
     "execution_count": 163,
     "metadata": {},
     "output_type": "execute_result"
    }
   ],
   "source": [
    "centralities.head()"
   ]
  },
  {
   "cell_type": "markdown",
   "id": "b658417c",
   "metadata": {},
   "source": [
    "In view of future uses, we merge the dataframe containing the centralities with the dataframe containing the categories"
   ]
  },
  {
   "cell_type": "code",
   "execution_count": 164,
   "id": "13b125a7",
   "metadata": {
    "scrolled": true
   },
   "outputs": [
    {
     "data": {
      "text/html": [
       "<div>\n",
       "<style scoped>\n",
       "    .dataframe tbody tr th:only-of-type {\n",
       "        vertical-align: middle;\n",
       "    }\n",
       "\n",
       "    .dataframe tbody tr th {\n",
       "        vertical-align: top;\n",
       "    }\n",
       "\n",
       "    .dataframe thead th {\n",
       "        text-align: right;\n",
       "    }\n",
       "</style>\n",
       "<table border=\"1\" class=\"dataframe\">\n",
       "  <thead>\n",
       "    <tr style=\"text-align: right;\">\n",
       "      <th></th>\n",
       "      <th>article</th>\n",
       "      <th>centrality</th>\n",
       "      <th>category</th>\n",
       "    </tr>\n",
       "  </thead>\n",
       "  <tbody>\n",
       "    <tr>\n",
       "      <th>0</th>\n",
       "      <td>14th_century</td>\n",
       "      <td>1.822051</td>\n",
       "      <td>subject.History.General_history</td>\n",
       "    </tr>\n",
       "    <tr>\n",
       "      <th>1</th>\n",
       "      <td>15th_century</td>\n",
       "      <td>1.927752</td>\n",
       "      <td>subject.History.General_history</td>\n",
       "    </tr>\n",
       "    <tr>\n",
       "      <th>2</th>\n",
       "      <td>16th_century</td>\n",
       "      <td>2.031601</td>\n",
       "      <td>subject.History.General_history</td>\n",
       "    </tr>\n",
       "    <tr>\n",
       "      <th>3</th>\n",
       "      <td>Pacific_Ocean</td>\n",
       "      <td>2.515372</td>\n",
       "      <td>subject.Geography.General_Geography</td>\n",
       "    </tr>\n",
       "    <tr>\n",
       "      <th>4</th>\n",
       "      <td>Atlantic_Ocean</td>\n",
       "      <td>2.538788</td>\n",
       "      <td>subject.Geography.General_Geography</td>\n",
       "    </tr>\n",
       "  </tbody>\n",
       "</table>\n",
       "</div>"
      ],
      "text/plain": [
       "          article  centrality                             category\n",
       "0    14th_century    1.822051      subject.History.General_history\n",
       "1    15th_century    1.927752      subject.History.General_history\n",
       "2    16th_century    2.031601      subject.History.General_history\n",
       "3   Pacific_Ocean    2.515372  subject.Geography.General_Geography\n",
       "4  Atlantic_Ocean    2.538788  subject.Geography.General_Geography"
      ]
     },
     "execution_count": 164,
     "metadata": {},
     "output_type": "execute_result"
    }
   ],
   "source": [
    "centralities = centralities.merge(categories, on='article', how='left')\n",
    "centralities.head()"
   ]
  },
  {
   "cell_type": "markdown",
   "id": "c2953f6c",
   "metadata": {},
   "source": [
    "Let's eventually have a look at the most central articles in the Wikispeedia's graph: "
   ]
  },
  {
   "cell_type": "code",
   "execution_count": 64,
   "id": "47114145",
   "metadata": {},
   "outputs": [
    {
     "data": {
      "text/html": [
       "<div>\n",
       "<style scoped>\n",
       "    .dataframe tbody tr th:only-of-type {\n",
       "        vertical-align: middle;\n",
       "    }\n",
       "\n",
       "    .dataframe tbody tr th {\n",
       "        vertical-align: top;\n",
       "    }\n",
       "\n",
       "    .dataframe thead th {\n",
       "        text-align: right;\n",
       "    }\n",
       "</style>\n",
       "<table border=\"1\" class=\"dataframe\">\n",
       "  <thead>\n",
       "    <tr style=\"text-align: right;\">\n",
       "      <th></th>\n",
       "      <th>article</th>\n",
       "      <th>centrality</th>\n",
       "      <th>category</th>\n",
       "    </tr>\n",
       "  </thead>\n",
       "  <tbody>\n",
       "    <tr>\n",
       "      <th>24</th>\n",
       "      <td>United_States</td>\n",
       "      <td>2.572896</td>\n",
       "      <td>subject.Countries</td>\n",
       "    </tr>\n",
       "    <tr>\n",
       "      <th>25</th>\n",
       "      <td>United_States</td>\n",
       "      <td>2.572896</td>\n",
       "      <td>subject.Geography.North_American_Geography</td>\n",
       "    </tr>\n",
       "    <tr>\n",
       "      <th>8</th>\n",
       "      <td>Europe</td>\n",
       "      <td>2.563019</td>\n",
       "      <td>subject.Geography.European_Geography</td>\n",
       "    </tr>\n",
       "    <tr>\n",
       "      <th>214</th>\n",
       "      <td>Computer</td>\n",
       "      <td>2.560876</td>\n",
       "      <td>subject.IT.Computing_hardware_and_infrastructure</td>\n",
       "    </tr>\n",
       "    <tr>\n",
       "      <th>192</th>\n",
       "      <td>Earth</td>\n",
       "      <td>2.560105</td>\n",
       "      <td>subject.Science.Physics.The_Planets</td>\n",
       "    </tr>\n",
       "  </tbody>\n",
       "</table>\n",
       "</div>"
      ],
      "text/plain": [
       "           article  centrality  \\\n",
       "24   United_States    2.572896   \n",
       "25   United_States    2.572896   \n",
       "8           Europe    2.563019   \n",
       "214       Computer    2.560876   \n",
       "192          Earth    2.560105   \n",
       "\n",
       "                                             category  \n",
       "24                                  subject.Countries  \n",
       "25         subject.Geography.North_American_Geography  \n",
       "8                subject.Geography.European_Geography  \n",
       "214  subject.IT.Computing_hardware_and_infrastructure  \n",
       "192               subject.Science.Physics.The_Planets  "
      ]
     },
     "execution_count": 64,
     "metadata": {},
     "output_type": "execute_result"
    }
   ],
   "source": [
    "sorted_centrailities = centralities.sort_values(by=['centrality'],ascending=False)\n",
    "sorted_centrailities.head()"
   ]
  },
  {
   "cell_type": "markdown",
   "id": "2b5fb67e",
   "metadata": {},
   "source": [
    "Note that some articles have multiple categories (such as the United States), but there is only one Wikipedia article, hence only one centrality."
   ]
  },
  {
   "cell_type": "code",
   "execution_count": 165,
   "id": "172a94f4",
   "metadata": {
    "scrolled": true
   },
   "outputs": [
    {
     "data": {
      "text/plain": [
       "article       0\n",
       "centrality    0\n",
       "category      1\n",
       "dtype: int64"
      ]
     },
     "execution_count": 165,
     "metadata": {},
     "output_type": "execute_result"
    }
   ],
   "source": [
    "centralities.isna().sum()"
   ]
  },
  {
   "cell_type": "markdown",
   "id": "e66d4d76",
   "metadata": {},
   "source": [
    "One article has no category, we remove it from the dataframe"
   ]
  },
  {
   "cell_type": "code",
   "execution_count": 166,
   "id": "3a0bb0f3",
   "metadata": {},
   "outputs": [],
   "source": [
    "centralities = centralities.dropna() "
   ]
  },
  {
   "cell_type": "markdown",
   "id": "4e5c99d4",
   "metadata": {},
   "source": [
    "## 2.B Semantic distance\n",
    "\n",
    "<div class=\"alert alert-block alert-danger\">\n",
    "<b>To Do</b> Commenter cette partie\n",
    "</div>"
   ]
  },
  {
   "cell_type": "code",
   "execution_count": 67,
   "id": "626924a1",
   "metadata": {},
   "outputs": [],
   "source": [
    "from urllib.parse import unquote #(Flore) Je l'ai mis en haut comme ça on importe tous les packages au meme endroit\n",
    "\n",
    "def unquote_df(df, columns):\n",
    "    '''Inputs:\n",
    "            df: panda dataframe\n",
    "            columns: string or string array containing column names to be url-decoded\n",
    "        Return:\n",
    "            panda dataframe with url-decoded column names\n",
    "    '''\n",
    "    for column in columns:\n",
    "        N = len(df[column])\n",
    "        for i in range(N):\n",
    "            df.loc[i,column] = unquote(df.loc[i,column])\n",
    "            \n",
    "    return df"
   ]
  },
  {
   "cell_type": "code",
   "execution_count": 46,
   "id": "34ed12c8",
   "metadata": {},
   "outputs": [],
   "source": [
    "links = unquote_df(links, ['linkSource','linkTarget'])\n",
    "path_finished_unquoted = unquote_df(path_finished, ['path'])"
   ]
  },
  {
   "cell_type": "code",
   "execution_count": 47,
   "id": "a707a235",
   "metadata": {},
   "outputs": [],
   "source": [
    "path_finished_unquoted['path_list']=path_finished_unquoted['path'].apply(lambda x: Convert(x))"
   ]
  },
  {
   "cell_type": "code",
   "execution_count": 48,
   "id": "2ca753d5",
   "metadata": {},
   "outputs": [],
   "source": [
    "Wikigraph=nx.DiGraph()\n",
    "e=zip(links['linkSource'], links['linkTarget'])\n",
    "Wikigraph.add_edges_from(e)\n"
   ]
  },
  {
   "cell_type": "code",
   "execution_count": 49,
   "id": "01523321",
   "metadata": {},
   "outputs": [
    {
     "name": "stdout",
     "output_type": "stream",
     "text": [
      "['Abbot', 'Dante_Alighieri', 'Durham_Cathedral', 'England', 'Great_Britain', 'Hebrew_language', 'Julius_Caesar', 'Middle_Ages', 'Music', 'Paul_of_Tarsus', 'Season', 'Virgil']\n"
     ]
    }
   ],
   "source": [
    "#nx.draw(Wikigraph)\n",
    "#plt.show()\n",
    "print(list(Wikigraph.successors('Bede')))\n"
   ]
  },
  {
   "cell_type": "code",
   "execution_count": 50,
   "id": "7743af7a",
   "metadata": {},
   "outputs": [
    {
     "name": "stdout",
     "output_type": "stream",
     "text": [
      "0.009565545383105651\n",
      "0.009565545383105651\n"
     ]
    }
   ],
   "source": [
    "GooglePageRank=nx.pagerank(Wikigraph, alpha=0.85)\n",
    "print(GooglePageRank.get('United_States')) \n",
    "print(max(GooglePageRank.values())) #we see that the maximum value is reached for the US, which means it will be reached more times than any other article on a RW"
   ]
  },
  {
   "cell_type": "code",
   "execution_count": 51,
   "id": "3d449d8b",
   "metadata": {},
   "outputs": [],
   "source": [
    "def count_a(article, goal, paths):\n",
    "    '''This function counts the number of times an article was encountered on all paths with a specified goal\n",
    "    Input: article encountered, goal of the paths, object with all paths\n",
    "    Output: number of times the article was encountered summed on all paths with same given goal'''\n",
    "    count=0\n",
    "    for path in paths:\n",
    "        if path[-1]==goal: #checks that the last element is the correct goal\n",
    "            for art in path:\n",
    "                if art==article:\n",
    "                    count+=1\n",
    "    return count\n",
    "#note that we decide to count all the times an article could appear in the same path, because it would mean that it has a more significant value than if it just appeared once"
   ]
  },
  {
   "cell_type": "code",
   "execution_count": 52,
   "id": "8dbbf846",
   "metadata": {},
   "outputs": [],
   "source": [
    "from itertools import cycle"
   ]
  },
  {
   "cell_type": "code",
   "execution_count": 53,
   "id": "5c9946f3",
   "metadata": {},
   "outputs": [],
   "source": [
    "def count_aprime(aprime, article, goal, paths):\n",
    "    count=0\n",
    "    if aprime=='<' or article=='<': #the comeback sign is not part of the count\n",
    "        return 0\n",
    "\n",
    "    for path in paths:\n",
    "        if path[-1]==goal:\n",
    "            pathcycle=cycle(path)\n",
    "            next_art=next(pathcycle)\n",
    "            for _ in range(len(path)-1):\n",
    "                art, next_art=next_art, next(pathcycle)\n",
    "                if art==article:\n",
    "                    if next_art==aprime:\n",
    "                            count+=1    \n",
    "    return count\n"
   ]
  },
  {
   "cell_type": "code",
   "execution_count": 54,
   "id": "efa86cc9",
   "metadata": {},
   "outputs": [
    {
     "data": {
      "text/plain": [
       "['AT&T', 'United_States', 'Agriculture', 'Vegetable']"
      ]
     },
     "execution_count": 54,
     "metadata": {},
     "output_type": "execute_result"
    }
   ],
   "source": [
    "path_finished_unquoted['path_list'][1000]"
   ]
  },
  {
   "cell_type": "code",
   "execution_count": 55,
   "id": "4dc0ad6d",
   "metadata": {},
   "outputs": [
    {
     "data": {
      "text/plain": [
       "4"
      ]
     },
     "execution_count": 55,
     "metadata": {},
     "output_type": "execute_result"
    }
   ],
   "source": [
    "count=count_a('United_States','South_America',path_finished_unquoted['path_list'])\n",
    "count #seems to work"
   ]
  },
  {
   "cell_type": "code",
   "execution_count": 56,
   "id": "17502a2c",
   "metadata": {},
   "outputs": [
    {
     "name": "stdout",
     "output_type": "stream",
     "text": [
      "2\n"
     ]
    }
   ],
   "source": [
    "count_successor=count_aprime('Nature','Science','Rainbow',path_finished_unquoted['path_list'])\n",
    "print(count_successor)\n",
    "#note that '<' is not included in the Wikigraph\n",
    "#ATTENTION: what to do when aprime then <? remove them?\n",
    "#seems to work otherwise too\n"
   ]
  },
  {
   "cell_type": "code",
   "execution_count": 57,
   "id": "bdb5d53e",
   "metadata": {},
   "outputs": [],
   "source": [
    "def posterior_click_probability(aprime, article, goal, paths, alpha=0.2):\n",
    "    '''Calculates the posterior click probability to reach an article given the previous article and the goal, after seeing all the data\n",
    "    Input: aprime: article on which the proba is done, article:previous article, goal:final article, paths:evaluated on all those paths,\n",
    "    alpha:Dirichlet parameter representing initial confidence in uniform prior distribution\n",
    "    Output: posterior click probability for aprime, given article and goal'''\n",
    "    \n",
    "    k_a=len(list(Wikigraph.successors(article)))#number of out-degree links for article\n",
    "    if count_a(article, goal, paths)!=0 and count_aprime(aprime, article, goal, paths):\n",
    "        proba=(count_aprime(aprime, article, goal, paths)+alpha)/(count_a(article, goal, paths)+alpha*k_a)\n",
    "    else: proba=1 #because of the log\n",
    "\n",
    "    return proba\n",
    "\n"
   ]
  },
  {
   "cell_type": "code",
   "execution_count": 58,
   "id": "d55700e2",
   "metadata": {},
   "outputs": [
    {
     "data": {
      "text/plain": [
       "0.13636363636363635"
      ]
     },
     "execution_count": 58,
     "metadata": {},
     "output_type": "execute_result"
    }
   ],
   "source": [
    "#proba=posterior_click_probability('Time','14th_century','Rainbow',path_finished['path'])\n",
    "proba=posterior_click_probability('Dutch_language','Darth_Vader','Roman_Catholic_Church',path_finished_unquoted['path_list'])\n",
    "proba\n",
    "#seems to work as well\n"
   ]
  },
  {
   "cell_type": "code",
   "execution_count": 59,
   "id": "ba68ce3b",
   "metadata": {},
   "outputs": [],
   "source": [
    "def path_distance(a_i, goal, path):\n",
    "    sum=0\n",
    "    i=-1\n",
    "    if a_i!=goal:\n",
    "        for a in path:\n",
    "            if a==a_i:\n",
    "                i=path.index(a)\n",
    "        if i==-1:\n",
    "            print('Error: The article looked for is not in the path')\n",
    "            return 0\n",
    "\n",
    "        pathcycle=cycle(path[i:])\n",
    "        next_a=next(pathcycle)\n",
    "        for _ in range(len(path)-1):\n",
    "            a_i, next_a=next_a, next(pathcycle)\n",
    "            if a_i!='<':\n",
    "                p=posterior_click_probability(next_a, a_i, goal, path_finished_unquoted['path_list'])\n",
    "                sum-=np.log(p)\n",
    "    \n",
    "    return sum/(-np.log(GooglePageRank.get(goal)))\n",
    "                \n",
    "    "
   ]
  },
  {
   "cell_type": "code",
   "execution_count": 60,
   "id": "889b8cda",
   "metadata": {},
   "outputs": [
    {
     "name": "stdout",
     "output_type": "stream",
     "text": [
      "Error: The article looked for is not in the path\n"
     ]
    },
    {
     "data": {
      "text/plain": [
       "0"
      ]
     },
     "execution_count": 60,
     "metadata": {},
     "output_type": "execute_result"
    }
   ],
   "source": [
    "path_distance('15th_century','African_slave_trade',path_finished_unquoted['path_list'][1])"
   ]
  },
  {
   "cell_type": "code",
   "execution_count": 61,
   "id": "97d5e0e5",
   "metadata": {},
   "outputs": [],
   "source": [
    "def semantic_distance(article, goal,paths):\n",
    "    dist=0\n",
    "    m=0\n",
    "    pat=[]\n",
    "\n",
    "    for path in paths:\n",
    "        if path[-1]==goal:\n",
    "            for a in path:\n",
    "                if a==article:\n",
    "                    dist+=path_distance(article, goal, path)\n",
    "                    m+=1\n",
    "                    pat.append(path)\n",
    "\n",
    "    if m==0: \n",
    "        print('Error, no such path exists')\n",
    "        return 0\n",
    "\n",
    "    return dist/m #, m, pat\n",
    "    \n"
   ]
  },
  {
   "cell_type": "code",
   "execution_count": 62,
   "id": "d602ed72",
   "metadata": {},
   "outputs": [
    {
     "ename": "TypeError",
     "evalue": "cannot unpack non-iterable numpy.float64 object",
     "output_type": "error",
     "traceback": [
      "\u001b[1;31m---------------------------------------------------------------------------\u001b[0m",
      "\u001b[1;31mTypeError\u001b[0m                                 Traceback (most recent call last)",
      "\u001b[1;32m<ipython-input-62-e56bc597da65>\u001b[0m in \u001b[0;36m<module>\u001b[1;34m\u001b[0m\n\u001b[0;32m      5\u001b[0m \u001b[1;31m#sdist7, m7, pat7=semantic_distance('United_States', 'United_States_Constitution', path_finished['path'])\u001b[0m\u001b[1;33m\u001b[0m\u001b[1;33m\u001b[0m\u001b[1;33m\u001b[0m\u001b[0m\n\u001b[0;32m      6\u001b[0m \u001b[1;31m#sdist8, m8, pat8=semantic_distance('Batman','Superman',path_finished['path'])\u001b[0m\u001b[1;33m\u001b[0m\u001b[1;33m\u001b[0m\u001b[1;33m\u001b[0m\u001b[0m\n\u001b[1;32m----> 7\u001b[1;33m \u001b[0msdist9\u001b[0m\u001b[1;33m,\u001b[0m \u001b[0mm9\u001b[0m\u001b[1;33m,\u001b[0m \u001b[0mpat9\u001b[0m\u001b[1;33m=\u001b[0m\u001b[0msemantic_distance\u001b[0m\u001b[1;33m(\u001b[0m\u001b[1;34m'Linguistics'\u001b[0m\u001b[1;33m,\u001b[0m \u001b[1;34m'Noam_Chomsky'\u001b[0m\u001b[1;33m,\u001b[0m \u001b[0mpath_finished_unquoted\u001b[0m\u001b[1;33m[\u001b[0m\u001b[1;34m'path_list'\u001b[0m\u001b[1;33m]\u001b[0m\u001b[1;33m)\u001b[0m\u001b[1;33m\u001b[0m\u001b[1;33m\u001b[0m\u001b[0m\n\u001b[0m\u001b[0;32m      8\u001b[0m \u001b[0msdist10\u001b[0m\u001b[1;33m,\u001b[0m \u001b[0mm10\u001b[0m\u001b[1;33m,\u001b[0m \u001b[0mpat10\u001b[0m\u001b[1;33m=\u001b[0m\u001b[0msemantic_distance\u001b[0m\u001b[1;33m(\u001b[0m\u001b[1;34m'Language'\u001b[0m\u001b[1;33m,\u001b[0m \u001b[1;34m'Noam_Chomsky'\u001b[0m\u001b[1;33m,\u001b[0m \u001b[0mpath_finished_unquoted\u001b[0m\u001b[1;33m[\u001b[0m\u001b[1;34m'path_list'\u001b[0m\u001b[1;33m]\u001b[0m\u001b[1;33m)\u001b[0m\u001b[1;33m\u001b[0m\u001b[1;33m\u001b[0m\u001b[0m\n\u001b[0;32m      9\u001b[0m \u001b[0msdist11\u001b[0m\u001b[1;33m,\u001b[0m \u001b[0mm11\u001b[0m\u001b[1;33m,\u001b[0m \u001b[0mpat11\u001b[0m\u001b[1;33m=\u001b[0m\u001b[0msemantic_distance\u001b[0m\u001b[1;33m(\u001b[0m\u001b[1;34m'Communication'\u001b[0m\u001b[1;33m,\u001b[0m \u001b[1;34m'Noam_Chomsky'\u001b[0m\u001b[1;33m,\u001b[0m \u001b[0mpath_finished_unquoted\u001b[0m\u001b[1;33m[\u001b[0m\u001b[1;34m'path_list'\u001b[0m\u001b[1;33m]\u001b[0m\u001b[1;33m)\u001b[0m\u001b[1;33m\u001b[0m\u001b[1;33m\u001b[0m\u001b[0m\n",
      "\u001b[1;31mTypeError\u001b[0m: cannot unpack non-iterable numpy.float64 object"
     ]
    }
   ],
   "source": [
    "#sdist1, m1, pat1=semantic_distance('Noam_Chomsky','Linguistics',path_finished['path'])\n",
    "#sdist2, m2, pat2=semantic_distance('Renaissance','Rainbow',path_finished['path'])\n",
    "#sdist5, m5, pat5=semantic_distance('Physics','Rainbow',path_finished['path'])\n",
    "#sdist6, m6, pat6=semantic_distance('Light','Rainbow',path_finished['path'])\n",
    "#sdist7, m7, pat7=semantic_distance('United_States', 'United_States_Constitution', path_finished['path'])\n",
    "#sdist8, m8, pat8=semantic_distance('Batman','Superman',path_finished['path'])\n",
    "sdist9, m9, pat9=semantic_distance('Linguistics', 'Noam_Chomsky', path_finished_unquoted['path_list'])\n",
    "sdist10, m10, pat10=semantic_distance('Language', 'Noam_Chomsky', path_finished_unquoted['path_list'])\n",
    "sdist11, m11, pat11=semantic_distance('Communication', 'Noam_Chomsky', path_finished_unquoted['path_list'])\n",
    "print(sdist9, sdist11, sdist10)\n"
   ]
  },
  {
   "cell_type": "code",
   "execution_count": 63,
   "id": "2475d99c",
   "metadata": {},
   "outputs": [
    {
     "data": {
      "text/plain": [
       "True"
      ]
     },
     "execution_count": 63,
     "metadata": {},
     "output_type": "execute_result"
    }
   ],
   "source": [
    "Wikigraph.has_node('World_War_I')"
   ]
  },
  {
   "cell_type": "code",
   "execution_count": 64,
   "id": "407b4718",
   "metadata": {},
   "outputs": [
    {
     "name": "stdout",
     "output_type": "stream",
     "text": [
      "['Apollo', 'Superman', 'World_War_I', 'Woodrow_Wilson', 'William_Howard_Taft', 'Theodore_Roosevelt', 'William_McKinley', '<', 'William_McKinley', 'Grover_Cleveland', 'Chester_A._Arthur']\n",
      "['Art', 'Albert_Einstein', 'World_War_I', 'United_States', 'United_States_Constitution']\n",
      "['Art', 'Mind', 'Love', 'Human', 'Technology', 'Dolphin', 'Whale', 'Milk', 'Meat', 'Food', 'Season', '<', 'Famine', 'Democracy', 'Liberal_democracy', 'Property', 'John_Locke', 'Bristol', 'England', 'British_Empire', 'Football_(soccer)', 'FIFA', 'World_War_I', 'Sarajevo', 'Ottoman_Empire', 'Siege', 'Leonardo_da_Vinci', 'Horse', 'Art', '<', 'Human', '<', 'Clothing', 'Insect', 'Hymenoptera', 'Triassic', 'Biosphere', 'Ecology', 'Cell_(biology)', 'Ostrich', 'Bird', 'Reptile', 'Heat', 'Hippocrates', 'William_Shakespeare', 'Poetry', 'Rapping', 'Jazz', 'Atlantic_slave_trade', 'Sugar', 'Food', '<', 'Brazil', 'Africa', 'Irrigation', '<', 'Rainforest', 'Australia', 'Platypus', 'Protein', 'Potassium', 'Plant', 'Seed', 'Fruit', 'Mango']\n",
      "['Atlantic_Ocean', 'Norway', 'World_War_I', 'Trench_warfare']\n",
      "['Bangladesh', 'Sheikh_Mujibur_Rahman', 'Muhammad_Ali_Jinnah', 'Mahatma_Gandhi', 'World_War_I', 'United_States', 'President_of_the_United_States', 'Harry_S._Truman']\n",
      "['Batman', 'Superman', 'World_War_I', 'Jerusalem', 'Tel_Aviv', 'Warsaw', 'World_War_II', 'The_Holocaust']\n",
      "['Batman', 'Superman', 'World_War_I', 'World_War_II', 'The_Holocaust']\n",
      "['Batman', 'Superman', 'World_War_I', 'World_War_II', 'The_Holocaust']\n",
      "['Batman', 'Superman', 'World_War_I', 'World_War_II', 'The_Holocaust']\n",
      "['Batman', 'Superman', 'World_War_I', 'Poison_gas_in_World_War_I', 'The_Holocaust']\n",
      "['Batman', 'Superman', 'World_War_I', 'World_War_II', 'The_Holocaust']\n",
      "['Batman', 'Superman', 'World_War_I', 'United_States', 'Sequoia', 'Tree', 'Wood']\n",
      "['Batman', 'Superman', 'World_War_I', 'World_War_II', 'Adolf_Hitler']\n",
      "['Batman', 'Superman', 'World_War_I', 'Sarajevo', 'Judaism', '<', 'Roman_Catholic_Church', 'Jesus', 'Bible']\n",
      "['Batman', 'Superman', 'World_War_I', 'Ottoman_Empire', 'List_of_countries_by_system_of_government', 'United_States', 'Time_zone', 'Time', 'Watch']\n",
      "['Bird', '19th_century', 'World_War_I', 'Persian_Gulf', 'Petroleum', 'Russia', 'Soviet_Union', 'World_War_II', 'Adolf_Hitler']\n",
      "['Bird', '19th_century', 'Otto_von_Bismarck', '<', 'World_War_I', 'World_War_II', 'Adolf_Hitler']\n",
      "['California', 'United_States', 'World_War_I', '<', 'World_War_II', 'Adolf_Hitler']\n",
      "['Chemistry', 'World_War_II', 'Adolf_Hitler', 'Treaty_of_Versailles', 'World_War_I', 'Warsaw', 'Battle_of_Warsaw_(1920)']\n",
      "['Climate_change', 'United_Nations', 'War', 'World_War_I', 'Poison_gas_in_World_War_I']\n",
      "['Climate_change', 'United_Nations', 'United_Kingdom', 'World_War_I', 'Poison_gas_in_World_War_I']\n",
      "['Climate_change', 'Carbon_dioxide', \"Earth's_atmosphere\", 'Ammonia', 'Natural_gas', '<', 'World_War_I', 'Poison_gas_in_World_War_I']\n",
      "['Computer', 'Watch', 'World_War_I', 'Russian_Revolution_of_1917', 'Russia']\n",
      "['Computer', 'Watch', 'World_War_I', 'Marxism', 'Russia']\n",
      "['Dinosaur', 'United_States', 'World_War_I', '<', 'World_War_II', 'Adolf_Hitler']\n",
      "['Edgar_Allan_Poe', 'World_War_I', 'Japan', 'Asia']\n",
      "['Electricity', 'Nikola_Tesla', 'World_War_I', 'World_War_II', 'The_Holocaust', 'Anne_Frank']\n",
      "['Geology', '20th_century', 'World_War_I', 'President_of_the_United_States', 'Andrew_Johnson']\n",
      "['Human', 'Communication', 'Radio', 'World_War_I']\n",
      "['Hydrogen', 'Airship', 'World_War_I', 'World_War_II', 'Adolf_Hitler']\n",
      "['Islam', 'Iraq', 'World_War_I', 'United_States', 'Moon', 'Solar_System', 'Pluto']\n",
      "['Ivory', 'Elephant', 'Hannibal_Barca', 'Erwin_Rommel', 'Winston_Churchill', '<', 'World_War_I', 'Tank']\n",
      "['Ivory', 'Kenya', 'World_War_I', 'Tank']\n",
      "['Kenya', 'World_War_I', 'Trench_warfare', 'Firearm', 'Weapon']\n",
      "['Kenya', 'World_War_I', 'Poison_gas_in_World_War_I', '<', 'Tank', 'Weapon']\n",
      "['Kenya', 'World_War_I', 'Tank', 'Weapon']\n",
      "['Linux', 'Linus_Torvalds', 'Communism', 'World_War_I', '<', 'Joseph_Stalin', 'Adolf_Hitler']\n",
      "['Literature', 'Japan', 'World_War_I', 'Nationalism', '<', 'World_War_II']\n",
      "['Love', 'The_Beatles', 'United_States', 'World_War_I', 'Trench_warfare']\n",
      "['Love', 'Bertrand_Russell', 'World_War_I', 'Trench_warfare']\n",
      "['Medieval_literature', 'Guild', 'Trade_union', \"People's_Republic_of_China\", 'China', 'Roman_Empire', 'Ottoman_Empire', 'Crimean_War', 'World_War_I', 'War', 'Nuclear_weapon', 'Weapon', 'Axe']\n",
      "['Metal', 'Periodic_table', 'Russia', 'Communism', 'World_War_I', 'Poland', 'Czech_Republic', 'Prague']\n",
      "['Middle_East', 'Turkey', '<', 'World_War_I', '<', 'United_States', '<', 'United_Kingdom', 'Rugby_World_Cup', 'Australia', 'Emu']\n",
      "['Music', 'Ludwig_van_Beethoven', 'Germany', 'World_War_I', 'Tank', 'Weapon']\n",
      "['Music', 'Propaganda', 'World_War_I', 'Tank', 'Weapon']\n",
      "['Napoleonic_Wars', 'War', 'World_War_I', '<', 'Nationalism', 'Culture', 'Art', '<', 'Literature', 'Graphic_novel', 'Comics', 'Superman']\n",
      "['Nazi_Germany', 'Adolf_Hitler', 'World_War_I', 'Western_Front_(World_War_I)']\n",
      "['Nazism', 'World_War_I', 'South_Africa', 'Africa']\n",
      "['Nazism', 'World_War_I', 'North_Sea', 'Ice_sheet', 'Ice_age', 'Glacier', 'Ice']\n",
      "['Nazism', 'World_War_I', 'British_Empire', 'Elizabeth_I_of_England', 'Elizabeth_II_of_the_United_Kingdom', 'George_VI_of_the_United_Kingdom']\n",
      "['Neptune', 'Tropical_cyclone', 'Wind', 'Antarctica', 'Penguin', 'Fish', 'Ammonia', 'World_War_I', 'North_Sea', 'English_Channel', 'Dover', 'White_cliffs_of_Dover', '<', '<', '<', '<', '<', '<', '<', '<', 'Albatross', 'Gull']\n",
      "['Niger_River', 'Latin', 'Roman_Empire', 'Roman_Britain', 'Germany', 'World_War_I', 'World_War_II', 'The_Blitz']\n",
      "['Nile', 'Mediterranean_Sea', 'Europe', 'World_War_II', 'Soviet_Union', 'World_War_I', 'Western_Front_(World_War_I)']\n",
      "['Noam_Chomsky', 'Vietnam_War', 'World_War_I', 'Royal_Navy', 'Royal_Air_Force', 'Luftwaffe', 'Blitzkrieg', 'Trench_warfare', 'Aircraft']\n",
      "['North_America', 'Pacific_Ocean', 'Earth', \"Earth's_atmosphere\", 'Ultraviolet', 'Eye', 'Arthropod', 'Animal', 'Fungus', 'Photosynthesis', 'Oxygen', 'Ozone', 'Platinum', '18th_century', 'Time', 'Albert_Einstein', 'Thermodynamics', 'Chemistry', 'Oxygen', 'Antoine_Lavoisier', 'French_Revolution', 'Europe', 'Zeus', 'Religion', 'Philosophy', 'Euclid', '19th_century', 'Japan', 'Tokyo', 'Osaka', 'China', 'English_language', '5th_century', 'Augustine_of_Hippo', 'North_Africa', 'Algeria', 'Ottoman_Empire', 'World_War_I', 'Woodrow_Wilson', 'William_Howard_Taft', 'Theodore_Roosevelt', 'William_McKinley', 'Grover_Cleveland', 'Theodore_Roosevelt', 'New_York_City', 'Global_city', 'United_Nations', 'Republic_of_China', 'Taiwan', \"People's_Republic_of_China\", 'Mao_Zedong', 'Ming_Dynasty', 'Chinese_language', 'Race', 'Evolution', 'Organism', 'Life', 'Cell_(biology)', 'Protein', 'Genetic_code', 'Mitochondrion', 'Adenosine_triphosphate', 'Photosynthesis', 'Hydrogen', 'Schrödinger_equation', 'Paul_Dirac', 'University_of_Cambridge', 'England', 'Germany', 'Jew', 'United_States', 'Canada']\n",
      "['Oceania', 'Australia', 'France', 'United_Kingdom', 'World_War_II', '<', 'World_War_I', 'Battle_of_the_Somme_(1916)']\n",
      "['Oceania', 'Australia', 'British_Empire', 'World_War_I', 'Battle_of_the_Somme_(1916)']\n",
      "['Organization', 'Max_Weber', 'Politics', 'Corporation', '<', '<', 'Treaty_of_Versailles', 'World_War_I', '<', '<', '<', 'Communication', 'Language', 'Human', 'Mammal', 'Triassic', 'Jurassic']\n",
      "['Ottoman_Empire', 'World_War_I', 'United_States', 'California', 'San_Francisco,_California']\n",
      "['Ottoman_Empire', 'World_War_I', 'British_Empire', 'Dublin']\n",
      "['Ottoman_Empire', 'World_War_I', 'British_Empire', 'Hong_Kong', 'Flag_of_Hong_Kong']\n",
      "['Ottoman_Empire', 'World_War_I', 'United_States', 'President_of_the_United_States', 'James_K._Polk']\n",
      "['Rhode_Island', 'Atlantic_Ocean', 'Europe', 'France', 'World_War_I', 'John_Pershing']\n",
      "['Rhode_Island', 'World_War_I', 'Italy', 'Roman_Catholic_Church', 'Middle_Ages', 'Renaissance', 'Italian_Renaissance', 'Medieval_commune', 'France', 'Louis_XIV_of_France', 'Charles_V,_Holy_Roman_Emperor', 'Italian_War_of_1521', 'Battle_of_Bicocca', 'War_of_the_League_of_Cambrai']\n",
      "['Space_Shuttle_Challenger_disaster', 'Richard_Feynman', '<', 'Houston,_Texas', 'World_War_I', 'British_Empire', 'United_Kingdom', 'Church_of_England', '<', 'Henry_VIII_of_England', 'Henry_VII_of_England', 'Wars_of_the_Roses']\n",
      "['Sperm_Whale', 'Gulf_of_Mexico', 'United_States', 'Canada', 'United_Kingdom', 'World_War_I', 'Treaty_of_Versailles']\n",
      "['Sperm_Whale', 'Norway', 'World_War_I', 'Treaty_of_Versailles']\n",
      "['Superman', 'World_War_I', 'World_War_II', 'Adolf_Hitler']\n",
      "['Superman', 'World_War_I', 'British_Empire', 'Great_Britain', 'United_Kingdom', 'Charles_Dickens', 'Oliver_Twist']\n",
      "['The_Lord_of_the_Rings_film_trilogy', 'London', 'World_War_II', 'Treaty_of_Versailles', 'World_War_I', 'Western_Front_(World_War_I)']\n",
      "['The_Lord_of_the_Rings_film_trilogy', 'London', 'World_War_II', 'Treaty_of_Versailles', 'World_War_I']\n",
      "['The_Lord_of_the_Rings_film_trilogy', 'London', 'World_War_II', 'League_of_Nations', 'World_War_I']\n",
      "['The_Origin_of_Species', 'University_of_Cambridge', 'British_House_of_Commons', 'Television', 'John_Logie_Baird', 'World_War_I', 'United_States', 'Supreme_Court_of_the_United_States']\n",
      "['The_Origin_of_Species', 'Barnacle', 'Europe', 'United_Kingdom', 'World_War_I', 'Ottoman_Empire', '<', 'United_States', 'Supreme_Court_of_the_United_States']\n",
      "['Turmeric', \"Alzheimer's_disease\", 'Vitamin_C', 'Trout', 'Europe', 'France', 'World_War_I', 'Treaty_of_Versailles']\n",
      "['Victoria_Cross', 'United_Kingdom', 'Royal_Air_Force', 'World_War_II', 'Soviet_Union', 'World_War_I']\n",
      "['Victoria_Cross', 'Royal_Air_Force', '<', 'United_Kingdom', 'World_War_I']\n",
      "['Wayne_Rooney', 'David_Beckham', 'Republic_of_Ireland', 'World_War_I', 'United_States', 'Cold_War', '<', 'Apollo_11', 'Saturn_V', 'Space_Shuttle_program', '<', 'International_Space_Station', '<', 'Space_station']\n",
      "['Western_Front_(World_War_I)', 'World_War_I', 'Suez_Canal', 'Nile']\n",
      "['Western_Front_(World_War_I)', 'World_War_I', 'War', 'Game_theory', 'Ultimatum_game']\n",
      "['World_War_I', 'World_War_II', 'Nazi_Germany', 'Germany', 'Dresden']\n",
      "['World_War_I', 'Battle_of_the_Somme_(1916)', 'Western_Front_(World_War_I)', 'Adolf_Hitler', 'Germany', 'Dresden']\n",
      "['World_War_I', 'World_War_II', 'Nazi_Germany', 'Germany', 'Dresden']\n",
      "['World_War_I', 'World_War_II', 'Nazi_Germany', 'Germany', 'Dresden']\n",
      "['World_War_I', 'Europe', 'Germany', 'Dresden']\n",
      "['World_War_I', 'North_Sea', 'Germany', 'Dresden']\n",
      "['World_War_I', 'Japan', 'Hirohito', 'World_War_II']\n",
      "['World_War_I', 'World_War_II']\n",
      "['World_War_I', 'World_War_II']\n",
      "['World_War_I', 'World_War_II']\n",
      "['World_War_I', 'World_War_II']\n",
      "['World_War_I', 'World_War_II']\n",
      "['World_War_I', 'World_War_II']\n",
      "['World_War_I', 'World_War_II']\n",
      "['World_War_I', 'Namibia', '<', 'Namibia', 'Africa', 'Mozambique']\n",
      "['World_War_I', 'United_States', 'New_York_City', 'Atlantic_Ocean', 'Turtle', 'Mammal', 'Scientific_classification', 'Organism', '<', '<', '<', 'Mammal', 'Animal', 'Bird', 'Falcon']\n",
      "['World_War_I', 'United_States', 'Bald_Eagle', 'Bird', 'Falcon']\n",
      "['World_War_I', 'British_Empire', 'Europe', 'Germany', 'Ludwig_van_Beethoven']\n",
      "['World_War_I', 'United_States', 'Indonesia', 'India', 'Nepal']\n",
      "['World_War_I', 'New_Zealand', 'Spider', 'Insect', 'Bee', 'Honey']\n",
      "['World_War_I', 'British_Empire', 'Tea', 'Honey']\n",
      "['World_War_I', 'Suez_Canal', 'Egypt', 'Ramesses_II', 'Mummy']\n",
      "['World_War_I', 'Suez_Canal', 'Pyramid', 'Great_Pyramid_of_Giza', '<', '<', 'Ramesses_II', 'Mummy']\n",
      "['World_War_I', 'United_States', 'Ethnic_group', 'Race', 'Rwandan_Genocide', 'Rwanda']\n",
      "['World_War_I', 'War', 'Tribe', 'Ethnic_group', 'Africa', 'Rwanda']\n",
      "['Ichthyosaur', 'Germany', 'World_War_I', 'Italy', 'Age_of_Enlightenment', 'Johann_Wolfgang_Goethe', 'Wolfgang_Amadeus_Mozart', 'Opera', 'Giuseppe_Verdi', '19th_century', 'Robert_Schumann', 'Vienna', 'Baroque', 'Antonio_Vivaldi']\n",
      "['Ludwig_Wittgenstein', 'World_War_I', 'United_States', 'President_of_the_United_States', 'Gerald_Ford']\n",
      "['Ludwig_Wittgenstein', 'World_War_I', 'World_War_II', 'United_Kingdom', 'English_language', 'Australia', 'Flag_of_Australia']\n",
      "['Buddhism', 'Religion', 'Christianity', 'Roman_Empire', 'Alexander_the_Great', 'Iraq', 'World_War_I', 'Tank', 'Western_Front_(World_War_I)', 'Siege', 'Genghis_Khan', 'History', 'Anthropology', 'Society', 'Humanities', 'Zeus', 'Apollo', 'Odysseus', 'Greece', 'Plato', 'Ethics', 'War']\n",
      "['Buddhism', 'Tao_Te_Ching', 'Laozi', 'Confucius', 'Society', 'History', 'Archaeology', 'Iron', 'Ship', 'Aircraft_carrier', 'World_War_I', 'War']\n",
      "['Khan_Wali_Khan', 'World_War_I', 'World_War_II', 'British_Empire', 'New_Zealand', 'Wellington']\n",
      "['Khan_Wali_Khan', 'World_War_I', 'British_Empire', 'New_Zealand', 'Wellington']\n",
      "['Khan_Wali_Khan', 'World_War_I', 'British_Empire', '<', 'Napoleonic_Wars', 'Arthur_Wellesley,_1st_Duke_of_Wellington', '<', 'Arthur_Wellesley,_1st_Duke_of_Wellington', 'Wellington']\n",
      "['Khan_Wali_Khan', 'World_War_I', 'New_Zealand', 'Wellington']\n",
      "['Nutmeg', 'India', 'Cold_War', 'World_War_I']\n",
      "['Scramble_for_Africa', 'World_War_I', 'Poland', 'Ukraine', 'Moldova']\n",
      "['Tourism', 'Transport', 'Automobile', 'United_States', 'Cold_War', 'Vietnam_War', 'World_War_I', 'Tank']\n",
      "['Tourism', 'Infrastructure', 'Bridge', 'Industrial_Revolution', 'Royal_Navy', 'Royal_Marines', 'World_War_I', 'Tank']\n",
      "['Tourism', 'Industrial_Revolution', 'Great_Britain', 'United_Kingdom', 'World_War_I', 'Tank']\n",
      "['Tourism', 'United_States', 'World_War_I', 'Tank']\n",
      "['Cinema_of_the_United_States', 'World_War_I', 'British_Empire', 'France', 'French_Revolution']\n",
      "['Visual_arts', 'Drawing', 'Albrecht_Dürer', 'Germany', 'World_War_I', 'World_War_II', 'Nazi_Germany', 'The_Holocaust', 'Nazism', 'Swastika']\n",
      "['Common_cold', 'United_States', 'World_War_I', 'Ottoman_Empire', 'Istanbul']\n",
      "['Jesus', 'History', 'Herodotus', 'Battle_of_Marathon', 'World_War_I', 'World_War_II', 'Adolf_Hitler']\n",
      "['Organism', 'History_of_Earth', 'World_War_II', 'League_of_Nations', 'World_War_I', 'Serbia', 'Serbia_and_Montenegro']\n",
      "['Niagara_Falls', 'American_Civil_War', '<', 'World_War_I', '<', 'Nikola_Tesla', '<', 'United_States', 'Bald_Eagle', 'Bird', 'Chicken', 'Egg_(food)']\n",
      "['Nikola_Tesla', 'Croatia', 'World_War_I', 'Napoleonic_Wars', 'Russia', 'Asia', 'New_Delhi', 'Time_zone', 'India', 'Chennai']\n",
      "['William_Shakespeare', 'British_Empire', 'World_War_I', 'Poison_gas_in_World_War_I']\n",
      "['Cattle', 'Europe', 'World_War_II', 'War', 'World_War_I', 'Poison_gas_in_World_War_I']\n",
      "['Liverpool', 'Germany', 'World_War_I', 'Poison_gas_in_World_War_I']\n",
      "['Great_Rift_Valley', 'Lebanon', 'Middle_East', 'World_War_I', 'Yugoslavia', 'Bulgaria']\n",
      "['Pluto', 'Hubble_Space_Telescope', '<', 'Hubble_Space_Telescope', 'United_States', 'World_War_I', 'World_War_II', 'Nazi_Germany', 'Nazism']\n",
      "['The_Lord_of_the_Rings', 'World_War_I', 'United_States', 'Cinema_of_the_United_States', '20th_century', '21st_century', 'Linux', 'Microsoft_Windows', 'Macintosh', 'IPod', 'ITunes']\n",
      "['Cold_War', 'World_War_I', 'Paris', 'Louis_XIV_of_France']\n",
      "['Barium', 'Oxygen', 'Sweden', 'World_War_I', 'World_War_II', 'Royal_Navy', 'Royal_Marines']\n",
      "['Scurvy', 'World_War_I', 'Europe', 'Czech_Republic']\n",
      "['Scurvy', 'World_War_I', 'Technology', 'Computer', 'Internet', 'World_Wide_Web', 'Gmail', 'Internet_Explorer', 'Spyware']\n",
      "['Sudan', \"Lord's_Resistance_Army\", 'Interpol', 'United_States', 'World_War_I', '<', 'Wheat', 'Alcohol']\n",
      "['Extinction', 'Ethics', 'War', 'World_War_I', 'Nazism', 'Germany']\n",
      "['Cancer', 'World_War_II', 'Treaty_of_Versailles', 'World_War_I', 'Ottoman_Empire', 'Ukraine', 'Moldova', 'Romania', 'Serbia']\n",
      "['Asteroid', 'Color', 'Isaac_Newton', '<', 'Isaac_Newton', 'Switzerland', 'World_War_I', '<', 'World_War_II', 'Norway', 'Iceland', '<', 'Dublin', 'Viking']\n",
      "['Doctor_Who', 'Nazism', 'World_War_I', 'Estonia', 'Russia', 'Tribe', 'India', 'Mammal', 'Elephant']\n",
      "['Cuba', 'United_States', 'World_War_I', 'British_Empire', 'British_Isles', 'Stonehenge']\n",
      "['Albert_Einstein', 'World_War_I', 'Canada']\n",
      "['Albert_Einstein', 'World_War_I', 'United_States', 'Cuba']\n",
      "['British_Isles', 'Great_Britain', 'United_Kingdom', 'World_War_I', 'Battle_of_Amiens']\n",
      "['British_Isles', 'British_Empire', 'World_War_I', 'Battle_of_Amiens']\n",
      "['Ukraine', 'World_War_I', 'United_States', 'Computer', 'BASIC']\n",
      "['Alternating_current', 'Germany', 'World_War_I', '<', 'Italy', 'Ethiopia', 'Scramble_for_Africa', 'Republic_of_the_Congo', 'Democratic_Republic_of_the_Congo', 'Great_Rift_Valley', '<', 'Rwanda', 'Lake_Kivu']\n",
      "['The_Holocaust', 'Communism', 'World_War_I', 'Greece']\n",
      "['The_Holocaust', 'World_War_II', '<', 'World_War_I', '<', 'World_War_II', 'Japan', 'Nintendo']\n",
      "['Michael_Ramsey', '20th_century', 'World_War_I', 'World_War_II', 'Enigma_machine']\n",
      "['United_States_Senate', 'Woodrow_Wilson', 'World_War_I', 'Technology', 'Slavery', 'Agriculture', 'History_of_the_world', 'Human', 'Ultraviolet', 'Electromagnetic_radiation', 'Light', 'Eye', 'Eyelid']\n",
      "['Finland', 'World_War_I', 'Europe', 'Forest', 'Soil', 'Life', 'Plant', 'Flower', 'Gardening', 'Lawn']\n",
      "['Arctic_Circle', 'United_States', 'Holy_Roman_Empire', 'Germany', 'World_War_I', 'Chlorine', 'Chemical_element', 'Helium']\n",
      "['Brain', 'Sleep', 'United_States', 'World_War_I', 'President_of_the_United_States', 'John_F._Kennedy', 'London', 'United_Kingdom', 'Scotland', 'Industrial_Revolution', 'Technology', 'Electronics', 'Telephone']\n",
      "['Louis_Pasteur', 'France', 'World_War_I', 'Weimar_Republic', 'World_War_II', 'France', '<', 'Battle_of_Britain', 'Battle_of_France']\n",
      "['Ethanol', 'Petroleum', 'World_War_I', 'War']\n",
      "['Ethanol', 'France', 'World_War_I', 'War']\n",
      "['Johann_Sebastian_Bach', 'Germany', 'World_War_I', 'United_States', 'American_football', 'Canadian_football']\n",
      "['Athletics_(track_and_field)', 'Sport', 'Football_(soccer)', 'FIFA_World_Cup', 'FIFA', 'World_War_I', 'United_States', 'Television', 'Computer_and_video_games', 'Nintendo_Entertainment_System', 'Nintendo', 'The_Legend_of_Zelda_series']\n",
      "['Communism', 'World_War_I', 'Weimar_Republic']\n",
      "['Invasion_of_Grenada', 'United_States', 'World_War_I', 'Nazism', 'Nationalism']\n",
      "['Cyclops', 'Odyssey', 'Trojan_War', 'Alexander_the_Great', 'World_War_II', 'Treaty_of_Versailles', 'World_War_I', 'Tank', 'Trench_warfare', 'John_Pershing']\n",
      "['Weapon', 'World_War_I', 'Ernest_Hemingway', 'Stoicism', '<', '<', '<', 'Nuclear_weapon', 'Nazi_Germany', '<', 'Russia', 'United_States', 'Fine_art', 'Literature', 'Novel']\n",
      "['Weapon', 'World_War_I', 'United_States', 'Poetry_of_the_United_States', 'Literature', 'Novel']\n",
      "['Cadmium', 'Nuclear_fission', 'Nuclear_weapon', 'World_War_II', 'Treaty_of_Versailles', 'World_War_I', 'Battle_of_Jutland']\n",
      "['Cadmium', 'World_War_I', 'Ottoman_Empire', 'Middle_East', 'Jordan']\n",
      "['Lead', 'Firearm', 'World_War_I', 'World_War_II', 'Blitzkrieg', 'Luftwaffe']\n",
      "['Hurricane_Camille', 'United_States', 'World_War_I', 'Technology', 'Space_exploration', 'Boeing_747', 'Airbus_A380', 'Airbus', 'Aircraft', 'Airship', '<', '<', '<', '<', '<', '<', '<', '<', '<', '20th_century', 'Jet_engine', 'Wright_brothers']\n",
      "['Luxembourg_(city)', 'World_War_I', 'Chlorine', 'Hydrogen', 'Gas_giant']\n",
      "['Pope_Benedict_XVI', 'World_War_I', 'President_of_the_United_States', 'Jimmy_Carter', 'Gerald_Ford']\n",
      "['Video', 'United_Kingdom', 'World_War_I', 'War', '<', '<', 'European_Union', '<', 'French_language', '<', '<', 'Brazil', 'Africa', 'Liberia', '<', 'Libya']\n",
      "['Cubism', 'World_War_I', 'United_States', 'United_States_Constitution', 'Fourteenth_Amendment_to_the_United_States_Constitution', 'Equal_Protection_Clause']\n",
      "['Cubism', 'World_War_I', 'Ottoman_Empire', 'Beirut']\n",
      "['Cubism', 'World_War_I', 'World_War_II', 'Hirohito', 'Japan', 'Japanese_war_crimes']\n",
      "['Cubism', 'World_War_I', 'World_War_II', 'Attack_on_Pearl_Harbor', 'Japan', 'Japanese_war_crimes']\n",
      "['Pablo_Picasso', 'World_War_I', 'Russia', 'Saint_Petersburg']\n",
      "['List_of_rivers_by_length', 'Amazon_River', 'Spanish_language', 'Spain', '<', 'United_Nations', 'International_law', 'Treaty_of_Versailles', 'World_War_I', 'War', 'Religion', 'Mythology', 'Norse_mythology', 'Religion', 'Mysticism', 'God', 'Deity', 'Human', 'Mammal', 'Vertebrate', 'Cambrian_explosion', 'Fossil', 'Mineral', 'Geology', 'Science', 'Society', 'Culture', 'Latin', 'Rome', 'Capital', 'Politics', 'Government', 'Corporation', 'Ancient_Rome', 'Civilization', 'University', 'Human_rights', 'Human_dignity', 'Immanuel_Kant', 'Philosophy', 'Logic', 'Law', 'Property', 'Sociology', 'Human', 'Communication', 'Writing', 'Alphabet', 'English_language', 'United_Nations', 'World_War_II', 'United_States', 'Washington,_D.C.', 'President_of_the_United_States', 'Franklin_D._Roosevelt']\n",
      "['Pea', 'United_Kingdom', 'World_War_I', 'Ottoman_Empire', \"Qur'an\", 'Islam', 'Mecca']\n",
      "['Tonga', 'British_Empire', 'World_War_I', 'Tank']\n",
      "['Meteorology', 'World_War_I', 'World_War_II', 'Royal_Air_Force']\n",
      "['Rail_transport_in_India', 'World_War_I', 'World_War_II', 'Nuclear_weapon', 'Weapon']\n",
      "['Rail_transport_in_India', 'World_War_I', 'Serbia', 'Climate', 'Meteorology', 'Global_warming', 'Climate_change', 'Ice_age']\n",
      "['Imperative_programming', '20th_century', 'World_War_I', 'World_War_II', 'Nazi_Germany', 'Germany', 'Frankfurt']\n",
      "['War', 'World_War_I', 'World_War_II', 'Nazi_Germany', 'Germany', 'Berlin']\n",
      "['War', 'Trench_warfare', 'World_War_I', 'Napoleonic_Wars', '<', 'World_War_II', 'Soviet_Union', '<', 'Nazi_Germany', 'Berlin']\n",
      "['Vladimir_Lenin', 'French_language', 'France', 'United_Kingdom', 'World_War_I', 'Poison_gas_in_World_War_I', 'Chlorine', 'Periodic_table', 'Helium']\n",
      "['Vladimir_Lenin', 'World_War_I', 'Poison_gas_in_World_War_I', 'Chlorine', 'Medicine', '<', 'Hydrochloric_acid', 'Sulfuric_acid', 'Acetic_acid', 'Acetone']\n",
      "['Vladimir_Lenin', 'World_War_I', 'United_States', 'North_America', 'South_America', 'Peru', 'Alpaca']\n",
      "['Paris', 'World_War_I', 'Poison_gas_in_World_War_I', 'Carbon_dioxide', 'Oxygen', 'Gas']\n",
      "['Color', 'Language', 'Middle_East', 'Iraq', 'United_Nations', 'War', 'World_War_I', 'World_War_II', 'Cold_War', 'Iran', 'European_Union', 'Tony_Blair', 'Iraq_War']\n",
      "['Star_Trek', 'War', 'World_War_I', 'Nazism', 'Nazi_Germany', 'Wernher_von_Braun']\n",
      "['Clothing', 'Weapon', 'World_War_I', 'League_of_Nations']\n",
      "['Season', 'United_States', 'World_War_I', 'Western_Front_(World_War_I)']\n",
      "['Bassoon', 'Ludwig_van_Beethoven', 'Germany', 'World_War_I', 'Ottoman_Empire']\n",
      "['Writing', 'Russian_language', 'World_War_II', '<', 'Germany', 'World_War_I']\n",
      "['Alphabet', 'French_language', 'France', 'World_War_I', 'Western_Front_(World_War_I)']\n",
      "['Alphabet', 'French_language', '<', 'French_language', 'France', 'World_War_I', 'Western_Front_(World_War_I)']\n",
      "['Georg_Cantor', 'World_War_I', 'Chlorine', 'Drinking_water']\n",
      "['Pyramid', 'Mexico', 'Agriculture', 'Coffee', '<', 'Soybean', 'Bran', 'Protein', 'World_War_II', 'Poland', 'World_War_I', 'Lithuania', 'Baltic_Sea', 'Amber', 'Plato', 'Wrestling', 'Israel', 'Country', 'Language', 'Linguistics', 'Philosophy', 'Geometry', 'René_Descartes', 'Tuberculosis', 'World_Health_Organization', 'Sugar', 'Sugar_beet', '<', 'Food', 'Peanut', 'Seed', 'Bean']\n",
      "['Pyramid', 'France', 'Germany', 'World_War_I', 'World_War_II', 'Adolf_Hitler']\n",
      "['Eukaryote', 'Organism', 'Human', 'Conflict', 'War', 'Invasion', 'Japan', 'World_War_I', 'World_War_II', 'Solomon_Islands', '<', 'Solomon_Islands', 'Papua_New_Guinea', '<', '<', 'British_Empire', '<', 'United_Nations', '<', 'Battle_of_Midway', 'Battle_of_the_Eastern_Solomons']\n",
      "['Ernest_Hemingway', 'World_War_I', '<', 'Diabetes_mellitus', 'Insulin', 'Carbon', '<', 'Carbon', 'Periodic_table', 'Potassium']\n",
      "['Ernest_Hemingway', 'World_War_I', 'Tank']\n",
      "['The_Old_Man_and_the_Sea', 'World_War_I', 'Ottoman_Empire']\n",
      "['The_Old_Man_and_the_Sea', 'World_War_I', 'Yugoslavia', 'Ottoman_Empire']\n",
      "['The_Old_Man_and_the_Sea', 'World_War_I', 'British_Empire', 'United_Kingdom', 'British_House_of_Commons']\n",
      "['The_Old_Man_and_the_Sea', 'World_War_I', 'Chlorine', 'Periodic_table', 'Thorium']\n",
      "['Radio', 'World_War_I', 'World_War_II', 'Adolf_Hitler', 'Liberalism', 'Liberal_democracy', 'Terrorism', 'September_11,_2001_attacks', 'Cleveland,_Ohio', 'Superman', 'Batman', 'Crime', 'Law', 'Human_rights', 'Animal_rights']\n",
      "['Photon', 'Albert_Einstein', 'World_War_I', 'World_War_II', 'United_Kingdom', 'London', 'River_Thames']\n",
      "['Photon', 'Albert_Einstein', 'World_War_I', 'British_Empire', 'Henry_VII_of_England', 'Edward_I_of_England', 'Edward_II_of_England']\n",
      "['Republic_of_Ireland', 'World_War_I', 'British_Empire', 'India', 'Mahatma_Gandhi']\n",
      "['Sony', 'Television', 'John_Logie_Baird', 'World_War_I', 'World_War_II', 'Adolf_Hitler']\n",
      "['Mesopotamia', 'World_War_I', 'United_States', 'President_of_the_United_States', 'Richard_Nixon']\n",
      "['Hydrochloric_acid', 'World_War_I', 'United_States', 'Grand_Canyon', 'Colorado_River', 'Hoover_Dam']\n",
      "['Adolf_Hitler', 'World_War_I', 'Technology', '20th_century', '21st_century', 'Linux', 'Microsoft_Windows', 'Macintosh', 'IPod']\n",
      "['Amtrak', 'United_States', 'North_America', 'Earth', 'Geography', '19th_century', 'World_War_I', 'Ottoman_Empire']\n",
      "['Wheat', 'Ethiopia', 'United_Nations', 'World_War_II', 'Soviet_Union', 'World_War_I', 'Poison_gas_in_World_War_I']\n",
      "['Wheat', 'France', 'World_War_I', 'Poison_gas_in_World_War_I']\n",
      "['5th_century', 'England', 'English_language', 'United_States', 'World_War_I', 'Ernest_Hemingway']\n",
      "['Tibet', 'World_War_I', 'United_States', 'Computer', '<', 'Internet']\n",
      "['Zimbabwe', 'Yugoslavia', 'World_War_I', 'Trench_warfare']\n",
      "['Prostate_cancer', 'Flanders', 'World_War_I', 'United_States', 'Panama']\n",
      "['Electromagnetic_radiation', 'Albert_Einstein', 'Germany', '<', 'World_War_I', 'Russian_Revolution_of_1917', 'Leon_Trotsky']\n",
      "['Wrestling', 'Iran', 'Flower', 'Beer', 'Ethanol', 'Wine', 'United_States', 'Abraham_Lincoln', 'President_of_the_United_States', 'George_W._Bush', 'September_11,_2001_attacks', 'Collapse_of_the_World_Trade_Center', 'Osama_bin_Laden', 'World_War_I', 'Nazism', 'Swastika', 'Symmetry', 'Chemistry', 'Biology', 'Anatomy', 'Human', 'Psychology', 'Emotion']\n",
      "['Christina_Aguilera', 'United_States', 'Cold_War', 'World_War_I', 'War']\n",
      "['Buckingham_Palace', 'World_War_I', 'Ottoman_Empire', 'North_Africa', 'Africa', 'Uganda']\n",
      "['Westminster_System', 'United_Kingdom', 'World_War_I', '<', 'World_War_II', 'Austria', 'Vienna']\n",
      "['The_Hobbit', 'The_Lord_of_the_Rings', 'World_War_I', 'War', 'Weapon', 'Axe', 'Iron', 'Metal']\n",
      "['Sweden', 'World_War_I', 'Europe', 'Ukraine', '<', 'Kiev']\n",
      "['Sweden', 'War', 'World_War_I', 'Tank']\n",
      "['Frank_Lloyd_Wright', 'World_War_I', 'Royal_Navy', 'Elizabeth_II_of_the_United_Kingdom', 'Windsor_Castle']\n",
      "['Nutrition', 'Scurvy', 'Royal_Navy', 'United_Kingdom', '<', '<', 'World_War_I', 'United_States', 'North_America', '<', '<', 'United_States', 'North_America', 'Canada', 'Arctic', 'Arctic_Circle', '<', 'Greenland', '<', 'Wolverine', 'Animal', 'Bird', 'Goose', 'Snow_Goose']\n",
      "['Phosphorus', 'Fertilizer', 'Molybdenum', 'Francis_Crick', 'Radar', 'Aircraft', 'Airship', 'Royal_Navy', 'Battle_of_Jutland', 'World_War_I', 'Battle_of_Amiens']\n",
      "['Phosphorus', 'Latin', 'Roman_Empire', 'Western_Roman_Empire', 'Middle_Ages', 'Germany', 'World_War_I', 'Battle_of_Amiens']\n",
      "['Phosphorus', 'World_War_I', 'Battle_of_Amiens']\n",
      "['Phosphorus', '20th_century', 'World_War_I', 'Battle_of_Amiens']\n",
      "['Sumo', 'Korea', 'War', 'World_War_I', 'World_War_II', 'Soviet_Union', 'Polish-Soviet_War']\n",
      "['Entropy', 'James_Clerk_Maxwell', '<', 'John_von_Neumann', '<', 'Gravitation', 'England', '<', 'Albert_Einstein', 'World_War_I', 'Woodrow_Wilson']\n",
      "['Sauropodomorpha', 'Animal', 'Cambrian', \"People's_Republic_of_China\", 'Democracy', 'World_War_I', 'British_Empire', 'United_Kingdom', 'Tony_Blair', 'Gordon_Brown']\n",
      "['Trout', 'Asia', 'Middle_East', 'World_War_II', '<', 'World_War_I', 'Baghdad', 'Iraq_War', 'Middle_East', 'United_States', 'Vietnam_War', 'Laos', 'Vietnam']\n",
      "['Giganotosaurus', 'Argentina', 'United_Kingdom', 'Elizabeth_II_of_the_United_Kingdom', 'George_VI_of_the_United_Kingdom', 'Edward_VIII_of_the_United_Kingdom', 'George_V_of_the_United_Kingdom', 'World_War_I', 'Karl_Marx', 'Russian_Revolution_of_1917']\n",
      "['Ammonia', 'World_War_I', 'War', 'Nuclear_weapon', 'Iran', 'Kuwait']\n",
      "['Ytterbium', 'Chemical_element', 'List_of_elements_by_name', 'Periodic_table', 'Periodic_table_(large_version)', 'Praseodymium', 'Welding', 'World_War_I', 'Communism', 'Socialism', 'Money', 'Economics']\n",
      "['Windows_XP', 'European_Union', 'World_War_II', '<', '<', 'European_Union', 'France', 'World_War_I', 'Battle_of_Jutland']\n",
      "['Windows_XP', 'European_Union', 'Winston_Churchill', 'World_War_I', 'Battle_of_Jutland']\n",
      "['Sound', 'Music', 'Propaganda', 'Adolf_Hitler', 'World_War_I', 'War']\n",
      "['Polish-Soviet_War', 'World_War_I', 'Namibia', 'South_Africa', 'Africa', 'Benin', 'Porto-Novo']\n",
      "['IPod', 'Macintosh', 'Microsoft_Windows', 'Microsoft', 'United_States', 'Cold_War', 'Vietnam_War', 'World_War_I', 'War']\n",
      "['IPod', 'Sony', 'Japan', 'World_War_I', 'War']\n",
      "['Fatty_acid', 'Chemistry', 'Science', 'Italy', 'European_Union', 'Europe', 'Hungary', '<', 'Italy', '<', '<', '<', 'Adolf_Hitler', 'World_War_II', '<', 'World_War_I', '<', '<', '<', 'Italy', 'Germany', 'Karl_Benz', 'Auto_racing', 'Formula_One']\n",
      "['Bible', 'Eastern_Orthodox_Church', 'Ottoman_Empire', 'World_War_I', '<', '<', '<', 'Christianity', 'Europe', 'Hungary', 'Budapest']\n",
      "['String_theory', 'Albert_Einstein', 'World_War_I', 'Mexico', 'Chile', 'Easter_Island']\n",
      "['Chlorine', 'World_War_I', 'India']\n",
      "['Chlorine', 'World_War_I', 'United_States', 'September_11,_2001_attacks', 'Osama_bin_Laden']\n",
      "['Chlorine', 'World_War_I', 'Middle_East', '<', '<', 'Textile', '<', 'Food', '<', 'Water_purification', 'Terrorism', 'Osama_bin_Laden']\n",
      "['Southampton', 'World_War_I', 'China', 'Korea', 'South_Korea']\n",
      "['RMS_Titanic', 'World_War_I', 'Greece', 'Aristotle', 'Alexander_the_Great']\n",
      "['RMS_Titanic', 'World_War_I', 'Ottoman_Empire', 'Persian_Gulf', '<', 'Roman_Empire', 'Alexander_the_Great']\n",
      "['Wolfgang_Amadeus_Mozart', 'Austria', 'World_War_I', 'United_States', 'Bald_Eagle', 'Eagle']\n",
      "['Triumph_of_the_Will', 'World_War_I', 'British_Empire', 'Australia', 'Australian_Open']\n",
      "['Bran', 'United_States', 'American_Revolutionary_War', 'War_of_the_Spanish_Succession', '<', 'United_States_Declaration_of_Independence', 'United_States_Constitution', 'Supreme_Court_of_the_United_States', 'United_States_Congress', 'American_Civil_War', 'Battle_of_Gettysburg', 'President_of_the_United_States', 'Cold_War', 'NATO', 'Iraq', '<', 'United_States', 'American_Revolutionary_War', 'British_Empire', 'World_War_I', 'War']\n",
      "['Bran', 'Japan', 'World_War_I', 'League_of_Nations', 'War']\n",
      "['Pashtun_people', 'Islam', 'World_War_I', 'United_States', 'North_America', 'South_America', 'Peru']\n",
      "['Perth,_Western_Australia', 'Europe', 'World_War_II', 'Treaty_of_Versailles', 'World_War_I', 'Poison_gas_in_World_War_I']\n",
      "['Crusades', \"Children's_Crusade\", 'World_War_I', 'New_Zealand', 'Australia', 'Dingo']\n",
      "['Nitrogen_cycle', 'Irrigation', '20th_century', 'World_War_I', 'British_Empire', 'British_Isles', 'Northern_Ireland']\n",
      "['Poison_gas_in_World_War_I', 'World_War_I', 'Ottoman_Empire', 'Islam', \"Qur'an\"]\n",
      "['Channel_Islands', 'France', 'World_War_I', 'Trench_warfare']\n",
      "['Bulgaria', 'World_War_I', '<', 'European_Union', '<', 'Europe', 'Earth', 'Solar_System', 'Jupiter']\n",
      "['Mickey_Mantle', 'Baseball', 'Israel', 'World_War_I', 'Poison_gas_in_World_War_I', 'Carbon_dioxide', 'Boron', 'Mineral', 'Chemical_element', 'Periodic_table', 'Radon']\n",
      "['Porgy_and_Bess', 'United_States', 'World_War_I', 'Poison_gas_in_World_War_I']\n",
      "['Jordan_River', 'Dead_Sea', 'Russia', 'World_War_I', 'British_Empire', 'Scotland', 'Inner_Hebrides']\n"
     ]
    },
    {
     "name": "stdout",
     "output_type": "stream",
     "text": [
      "['Gustav_Holst', 'World_War_I', 'World_War_II', 'The_Holocaust']\n",
      "['Summer_Hill,_New_South_Wales', 'World_War_I', 'Estonia', 'European_Union', 'Hungary']\n",
      "['Luftwaffe', 'World_War_I', 'Trench_warfare']\n",
      "['Orkney', 'World_War_I', 'United_States', 'Cuba', 'South_America', 'Chile']\n",
      "['Gorilla', 'Sierra_Leone', 'American_Revolutionary_War', 'British_Empire', 'World_War_I', 'Tank']\n",
      "['A_Christmas_Carol', 'United_States', 'World_War_I', 'Poison_gas_in_World_War_I']\n",
      "['A_Christmas_Carol', 'Charles_Dickens', 'Henry_James', 'World_War_I', 'Napoleonic_Wars', 'Atlantic_Ocean', 'Pacific_Ocean', 'Indonesia', 'Papua_New_Guinea']\n",
      "['Battle_of_Amiens', 'World_War_I', 'Ottoman_Empire', 'North_Africa', 'Africa', 'Kenya', 'Tanzania', 'Mount_Kilimanjaro']\n",
      "['Elementary_algebra', 'Mathematics', 'British_English', 'British_Empire', 'World_War_I', 'World_War_II', 'Nuclear_weapon', 'Plutonium']\n",
      "['Mahatma_Gandhi', 'World_War_I', 'Woodrow_Wilson']\n",
      "['Bicycle', 'World_War_I', 'Ottoman_Empire', 'Persian_Gulf', '<', 'Byzantine_Empire', 'Euphrates', 'Persian_Empire', 'Middle_East', 'Iran', \"Bahá'í_Faith\"]\n",
      "['Symmetry', 'History', 'Sub-Saharan_Africa', 'Country', 'United_Kingdom', 'Royal_Marines', 'World_War_I', 'Trench_warfare']\n",
      "['Stone_Age', 'Writing', 'Latin_alphabet', '<', '<', 'Mediterranean_Sea', 'Ancient_Greece', 'Homer', 'Trojan_War', '<', '<', '<', 'Ancient_Greece', '19th_century', '<', '19th_century', '20th_century', 'World_War_I', 'Ernest_Hemingway', 'Ezra_Pound', 'H.D.']\n",
      "['Ostrich', 'World_War_I', 'President_of_the_United_States', 'Chester_A._Arthur', 'James_Garfield']\n",
      "['C._S._Lewis', 'World_War_I', 'United_States', 'Vietnam_War', 'Ho_Chi_Minh']\n",
      "['C._S._Lewis', 'World_War_I', 'United_States', 'Computer', 'Computer_and_video_games']\n",
      "['C._S._Lewis', 'World_War_I', 'British_Empire', 'Australia', 'Melbourne']\n",
      "['Military_history_of_the_Soviet_Union', 'Communism', 'World_War_I', '<', '<', 'United_States', 'Maize', 'Vegetable']\n",
      "['Rugby_football', 'England', 'Germany', 'World_War_I', 'Democracy', 'Fascism']\n",
      "['Calcium_chloride', 'Hydrochloric_acid', 'World_War_I', 'Japan', \"People's_Republic_of_China\", 'Vietnam']\n",
      "['Poetry_of_the_United_States', 'World_War_I', 'United_States', 'Medicine', 'Biology', 'Science', 'Chemistry', 'Periodic_table', 'Molybdenum']\n",
      "['Poetry_of_the_United_States', 'United_States', 'World_War_I', 'Weimar_Republic']\n",
      "['New_Forest', 'England', '<', 'England', 'Germany', 'World_War_II', 'The_Blitz', 'Royal_Air_Force', 'Royal_Navy', 'Battle_of_Hastings', 'Norman_conquest_of_England', 'Invasion', 'War', 'World_War_I', 'Trench_warfare']\n",
      "['New_Forest', 'England', 'Germany', 'World_War_I', 'Trench_warfare']\n",
      "['Bosnia_and_Herzegovina', 'World_War_I', 'Africa', 'Sudan', 'Khartoum']\n",
      "['Mummy', 'World_War_I', 'France', 'Interpol']\n",
      "['Child', 'Convention_on_the_Rights_of_the_Child', 'United_States', 'World_War_I', 'Trench_warfare']\n",
      "['Frederick_II_of_Prussia', 'Ottoman_Empire', 'World_War_I', 'Tank', 'Weapon']\n",
      "['Frederick_II_of_Prussia', 'Roman_Empire', 'Western_Roman_Empire', '<', 'Civilization', 'World_War_I', 'Tank', 'Weapon']\n",
      "['Corn_oil', 'Textile', 'Cotton', 'British_Empire', 'World_War_I', 'World_War_II', 'Battle_of_Britain']\n",
      "['Interpol', 'Switzerland', 'World_War_I', 'Dada']\n",
      "['Henrik_Ibsen', 'Germany', 'World_War_I']\n",
      "['New_England_Patriots', 'American_Revolutionary_War', 'United_States', 'World_War_I', 'Europe', 'Germany', 'Rhine']\n",
      "['Palladium', 'Chemical_element', 'Russia', 'Poland', 'World_War_I', 'Italy', 'Renaissance', 'Renaissance_music', 'Italian_Renaissance', 'Michelangelo', 'Rome', 'Milan', 'Opera', 'Giuseppe_Verdi']\n",
      "['Peter_Grimes', 'United_Kingdom', 'World_War_I', 'United_States', 'Atlantic_Ocean', 'Portugal', '<', 'Rio_de_Janeiro']\n",
      "['Chromatophore', 'African_clawed_frog', 'South_Africa', 'Germany', 'Treaty_of_Versailles', '<', 'World_War_I', 'Ottoman_Empire']\n",
      "['Erbium', 'Sweden', 'World_War_I', 'Paris', 'France', 'Algeria', 'Algiers']\n",
      "['Amazon_parrot', 'Mexico', 'United_States', 'World_War_I', 'British_Empire', 'James_I_of_England', 'England']\n",
      "['Spring_(season)', 'Season', 'United_Kingdom', 'World_War_I', 'North_Sea', 'Germany', 'Country', 'Law', 'Ancient_Greece', 'Roman_Empire', 'Western_Roman_Empire']\n",
      "['Pennsylvania_Railroad', 'United_States', 'Cinema_of_the_United_States', '<', 'World_War_I', 'Communism', 'Soviet_Union', 'Religion', 'Human', 'Art', 'Propaganda', 'BBC', 'Internet', 'Advertising', 'Television', 'Film', 'Animation', '<', 'Photography', '<', 'Visual_arts', 'Comics']\n",
      "['Yugoslavia', 'World_War_I', 'World_War_II', 'Adolf_Hitler', 'Nazi_Germany', 'Germany', 'Belgium']\n",
      "['Yugoslavia', 'World_War_I', 'World_War_II', 'Belgium']\n",
      "['Flute', 'Serbia', 'Europe', '<', 'World_War_I']\n",
      "['Gettysburg_Address', 'American_Civil_War', 'Abraham_Lincoln', 'Ronald_Reagan', 'Franklin_D._Roosevelt', 'World_War_II', '<', '<', '<', '<', '<', 'President_of_the_United_States', 'William_Howard_Taft', '<', 'Woodrow_Wilson', 'World_War_I']\n",
      "['Angola', 'Namibia', 'World_War_I', 'Battle_of_Jutland']\n",
      "['Thomas_Jefferson', 'United_States_Declaration_of_Independence', 'George_III_of_the_United_Kingdom', 'Great_Britain', 'United_Kingdom', 'World_War_I', '<', '<', '<', '<', 'United_States', 'World_War_II', 'Blitzkrieg', 'The_Blitz']\n",
      "['Invertebrate', 'Vertebrate', 'Human', 'Religion', 'Christianity', 'Jew', 'The_Holocaust', 'World_War_II', 'Nazi_Germany', 'Germany', 'World_War_I']\n",
      "['Invertebrate', 'Animal', 'Mammal', 'Human', 'Europe', 'Ottoman_Empire', 'World_War_I']\n",
      "['1896_Summer_Olympics', 'British_Empire', 'World_War_I', 'World_War_II', 'League_of_Nations', 'World_Health_Organization', '<', 'Communism', 'Human', 'Space_exploration', 'Solar_System', 'Planet']\n",
      "['47_Ursae_Majoris_b', 'Sun', 'Solar_System', 'Earth', 'Mammal', 'Human', 'Conflict', 'War', 'World_War_I', 'Treaty_of_Versailles']\n",
      "['47_Ursae_Majoris_b', 'Day', '19th_century', 'World_War_I', 'Treaty_of_Versailles']\n",
      "['Acetone', 'World_War_I', 'Italy', 'Vatican_City']\n",
      "['Acetone', 'World_War_I', 'World_War_II', 'United_Nations', 'The_Hague', 'Amsterdam']\n",
      "['Acetone', 'World_War_I', 'Poland', 'Germany', 'Netherlands', 'Amsterdam']\n",
      "['Acetone', 'World_War_I', 'Europe', 'Netherlands', 'Amsterdam']\n",
      "['Acetone', 'World_War_I', 'Paris', 'Europe', 'Netherlands', 'Amsterdam']\n",
      "['Acetone', 'World_War_I', 'Africa', 'Togo', 'Lomé']\n",
      "['Acetone', 'World_War_I', 'Woodrow_Wilson', 'American_Civil_War', 'Abraham_Lincoln', 'Minnesota', 'World_War_II', 'Winston_Churchill', 'Sweden', 'Baseball', 'Sport', 'Football', 'Basketball', 'Television', 'Computer_and_video_games', 'Nintendo_DS', 'Sony', 'Electronics', 'Integrated_circuit', 'Computer', 'Toy']\n",
      "['Acetone', 'World_War_I', 'Japan', 'Electronics', 'Computer', 'Toy']\n",
      "['Acetone', 'World_War_I', 'Technology', '20th_century', 'Television', 'Computer_and_video_games', 'Chess', 'Board_game', 'Game', 'Toy']\n",
      "['Acetone', 'World_War_I', 'United_States', 'Great_Lakes', 'Lake_Superior']\n",
      "['Acetone', 'World_War_I', 'Ernest_Hemingway', 'Chicago', 'Great_Lakes', 'Lake_Superior']\n",
      "['Acetone', 'World_War_I', 'United_States', 'Canada', 'Great_Lakes', 'Lake_Superior']\n",
      "['Adelaide', 'Airbus_A380', 'Boeing_747', '<', '<', 'World_War_I', 'United_States', 'Germany', 'Automobile']\n",
      "['Anarcho-capitalism', 'Political_philosophy', 'Democracy', 'World_War_I', 'British_Empire', 'United_Kingdom', 'Prime_Minister_of_the_United_Kingdom', 'Winston_Churchill']\n",
      "['Anarcho-capitalism', 'Political_philosophy', 'Politics', 'French_Revolution', 'Paris', 'Louis_XIV_of_France', 'Ottoman_Empire', 'World_War_I', 'Treaty_of_Versailles']\n",
      "['Anglo-Saxon_literature', 'Denmark', 'World_War_I']\n",
      "['Anglo-Saxon_literature', 'Old_English_language', 'Latin', 'United_States', 'World_War_I', '<', 'World_War_II', 'Nazi_Germany', 'Germany', 'German_language']\n",
      "['Anschluss', 'German_language', '<', 'World_War_I', '<', 'World_War_II', 'Nuclear_weapon', 'Nuclear_fission', 'Niels_Bohr', 'Max_Planck']\n",
      "['Ariel_Sharon', 'United_States', 'World_War_I', 'British_Empire', 'British_East_India_Company']\n",
      "['Ariel_Sharon', 'Israel', '<', 'Israel', 'World_War_I', 'Latvia']\n",
      "['Atonality', 'World_War_I', 'United_States', 'New_York_City']\n",
      "['Attention-deficit_hyperactivity_disorder', 'Zinc', 'Ancient_Rome', 'War', 'World_War_I', 'Tank']\n",
      "['Attention-deficit_hyperactivity_disorder', 'Albert_Einstein', 'Germany', 'World_War_I', 'Tank']\n",
      "['Avalanche', 'World_War_I', 'World_War_II', 'Royal_Air_Force', 'Luftwaffe', 'Airship', '19th_century', '20th_century', 'Jet_engine']\n",
      "['Avalanche', 'World_War_I', 'World_War_II', 'Attack_on_Pearl_Harbor', 'Aircraft', 'Jet_engine']\n",
      "['Avalanche', 'World_War_I', 'United_States', 'U.S._state', 'Hurricane_Katrina', '2005_Atlantic_hurricane_season', '2003_Atlantic_hurricane_season']\n",
      "['Avalanche', 'World_War_I', 'United_States', 'Mexico', 'Flag_of_Mexico']\n",
      "['Avalanche', 'World_War_I', 'Sarajevo', 'Communism', 'Cuba', 'Mexico', 'Flag_of_Mexico']\n",
      "['Avalanche', 'World_War_I', 'Tank', 'Blitzkrieg', 'Battle_of_France', '<', 'Trench_warfare', 'Western_Front_(World_War_I)', 'Siege', '<', '<', '<', '<', '<', '<', 'World_War_I', 'Western_Front_(World_War_I)', 'Siege', 'Invasion']\n",
      "['Avalanche', 'World_War_I', 'Tank', 'Blitzkrieg', 'Battle_of_France', '<', 'Trench_warfare', 'Western_Front_(World_War_I)', 'Siege', '<', '<', '<', '<', '<', '<', 'World_War_I', 'Western_Front_(World_War_I)', 'Siege', 'Invasion']\n",
      "['Avalanche', 'World_War_I', 'World_War_II', 'Great_Britain', 'United_Kingdom', 'Arctic_Monkeys', 'BBC', 'Doctor_Who', 'Douglas_Adams', 'Monty_Python']\n",
      "['Ayaan_Hirsi_Ali', 'United_States', 'World_War_I', 'British_Empire', '<', 'World_War_II', '<', '<', 'World_War_II', 'United_Kingdom', 'Wales', 'Cardiff']\n",
      "['Bath_School_disaster', 'World_War_I', 'Ottoman_Empire', 'Tunis', '<', 'Algeria', 'Morocco', 'Maghreb']\n",
      "['Battle_of_Badr', 'Arabic_language', '<', 'Islam', 'World_War_I', 'Trench_warfare']\n",
      "['Battle_of_France', 'World_War_II', 'Egypt', 'World_War_I', '<', 'Ottoman_Empire']\n",
      "['Biodiesel', 'United_States', 'World_War_I', 'Ottoman_Empire', 'Austria']\n",
      "['Black_Rhinoceros', 'Botswana', 'Ukraine', 'World_War_II', 'United_Kingdom', 'World_War_I', 'Poison_gas_in_World_War_I']\n",
      "['Black_Rhinoceros', 'Ethiopia', 'African_Union', 'English_language', 'United_Nations', 'World_War_II', 'Treaty_of_Versailles', 'World_War_I', 'Poison_gas_in_World_War_I']\n",
      "['Blitzkrieg', 'World_War_I', 'Estonia', 'Bronze_Age', 'Ireland', 'Mammal', 'Milk', 'Cattle']\n",
      "['Bodyline', 'World_War_I', 'Ottoman_Empire', \"Qur'an\", 'Arabic_language', 'North_Africa', 'Africa', 'South_Africa', 'Johannesburg']\n",
      "['Boris_Becker', 'Germany', 'World_War_I', 'United_States', 'George_W._Bush', 'George_H._W._Bush']\n",
      "['Boris_Becker', 'Australian_Open', 'French_Open_(tennis)', 'World_War_I', 'United_States', 'Supreme_Court_of_the_United_States', '<', 'United_Nations', 'International_Court_of_Justice']\n",
      "['Brahman', 'English_language', 'World_War_II', 'Nazi_Germany', 'Germany', 'World_War_I', 'Battle_of_Jutland']\n",
      "['Buckminster_Fuller', 'World_War_I', 'World_War_II', 'Battle_of_the_Bulge']\n",
      "['Buckminster_Fuller', 'World_War_I', 'World_War_II', 'Cold_War', 'NATO', 'ECHELON']\n",
      "['Cactus', 'North_America', 'Florida', 'United_States', 'World_War_I', 'Poison_gas_in_World_War_I']\n",
      "['Cameroon', 'World_War_I', 'Pneumonia']\n",
      "['Canadian_Pacific_Railway', 'Europe', 'Russia', 'Russian_language', '<', 'Russian_language', '<', '<', '<', 'World_War_II', '<', 'World_War_I', '<', 'World_War_II', 'Slavery', 'American_Civil_War', '<', '<', '<', 'United_States', 'Martin_Luther_King,_Jr.', 'Mahatma_Gandhi', '<', '<', '<', 'Europe', 'Russia', 'Moscow', '<', 'Crimean_War', 'Leo_Tolstoy']\n",
      "['Canterbury_Cathedral', 'Abbey', 'Westminster_Abbey', \"St_Paul's_Cathedral\", 'The_Blitz', 'Luftwaffe', 'World_War_I', 'John_Pershing']\n",
      "['Canterbury_Cathedral', 'England', '<', 'England', 'Europe', 'World_War_II', '<', '<', 'United_Kingdom', 'World_War_I', 'John_Pershing']\n",
      "['Caratacus', 'Ancient_Rome', 'Western_Roman_Empire', 'Cologne', 'World_War_I', 'British_Empire', 'United_Kingdom', 'Elizabeth_II_of_the_United_Kingdom', 'George_VI_of_the_United_Kingdom', 'Edward_VIII_of_the_United_Kingdom']\n",
      "['Charles_I_of_England', 'France', 'United_Kingdom', 'World_War_I', 'Technology', '<', 'Technology', 'Gold', 'Chlorine', 'Bacteria', 'Ethanol', '<', '<', 'Petroleum', '<', 'Medicine', 'Alcohol', 'Ethanol', 'Acetic_acid', 'Acetone']\n",
      "['Charles_Sumner', 'United_States', 'World_War_I', 'South_Africa', 'Human', 'Mammal', 'Hippopotamus']\n",
      "['Chartism', 'United_Kingdom', 'Europe', '18th_century', '19th_century', '20th_century', 'Cubism', 'World_War_I', 'Dada']\n",
      "['Chelsea_F.C.', 'Italy', 'Revolution', 'Russian_Revolution_of_1917', 'World_War_I', 'Trench_warfare', 'Firearm']\n",
      "['Chernobyl_disaster', 'Soviet_Union', 'World_War_II', 'League_of_Nations', 'Treaty_of_Versailles', 'World_War_I', 'Western_Front_(World_War_I)']\n",
      "['Claude_Monet', 'World_War_I', 'China', \"People's_Republic_of_China\", 'Republic_of_China']\n",
      "['Constantine_I', 'Great_Britain', 'Olympic_Games', 'World_War_I', 'Tank', 'Bicycle', 'Aircraft', 'Hot_air_balloon']\n",
      "['Crimean_War', 'World_War_I', 'United_States', 'Poetry_of_the_United_States']\n",
      "['Croatia', 'World_War_I', 'Capitalism', 'Political_economy', 'Sociology', 'Philosophy', 'Politics', 'Political_philosophy']\n",
      "['Croatia', 'World_War_I', 'World_War_II', 'Japan', 'Hirohito']\n",
      "['Dada', 'World_War_I', 'World_War_II', 'Benito_Mussolini']\n",
      "['Daniel_Ellsberg', 'Boston,_Massachusetts', 'Basketball', 'Sport', 'Olympic_Games', 'World_War_I', 'Battle_of_Amiens', 'Battle_of_the_Somme_(1916)', 'Tank', 'Horse']\n",
      "['Dundee_United_F.C.', 'Europe', 'Paris', 'World_War_I', 'League_of_Nations']\n",
      "['ECHELON', 'Soviet_Union', 'World_War_I', 'Japan', 'Pacific_Ocean']\n",
      "['EastEnders', 'United_States', 'World_War_I', 'John_Pershing']\n",
      "['Edward_VII_of_the_United_Kingdom', 'World_War_I', 'United_States', 'Apollo_11', 'Apollo_8', 'Saturn_V', 'International_Space_Station', 'Space_Shuttle_program', 'Space_Shuttle_Challenger_disaster']\n",
      "['Edward_VII_of_the_United_Kingdom', 'World_War_I', 'World_War_II', 'Radar', 'Glass', 'Light', 'Telescope', 'Binoculars']\n",
      "['Electron_beam_welding', 'Paris', '<', 'France', 'World_War_I', '<', 'North_America', 'United_States', 'Moon', 'Neil_Armstrong']\n",
      "['Erwin_Rommel', 'World_War_I', 'United_States', 'Poetry_of_the_United_States', 'H.D.']\n",
      "['Existentialism', 'World_War_II', 'Royal_Navy', 'Elizabeth_II_of_the_United_Kingdom', '<', '<', 'United_Kingdom', 'England', '<', '<', 'Aircraft_carrier', 'Aircraft', '<', '<', 'Treaty_of_Versailles', 'World_War_I', 'North_Sea', 'Atlantic_Ocean', 'RMS_Titanic']\n",
      "['Flag_of_Belarus', 'Soviet_Union', 'World_War_II', 'Battle_of_Normandy', 'France', 'World_War_I', 'Battle_of_the_Somme_(1916)']\n",
      "['Flag_of_India', 'World_War_I', 'Technology', 'Engineering', '<', '20th_century', 'Telephone']\n",
      "['Flag_of_India', 'United_States', 'George_W._Bush', 'September_11,_2001_attacks', 'NATO', 'United_Kingdom', 'Great_Britain', 'Roman_Britain', 'Julius_Caesar', 'Jupiter_(mythology)', 'Thor', 'Germany', 'Adolf_Hitler', 'Benito_Mussolini', 'Germany', 'Poland', 'European_Union', 'United_Kingdom', 'Scotland', 'Canada', '<', 'Canada', '<', 'Edinburgh', '<', '<', '<', '<', '<', '<', '<', '<', '<', '<', '<', '<', '<', '<', '<', '<', '<', '<', '<', 'United_States', '<', 'World_War_I', 'Technology', '20th_century', 'Telephone']\n",
      "['Flag_of_South_Africa', 'History_of_South_Africa', 'Second_Boer_War', 'World_War_I', 'Persian_Gulf', 'Saudi_Arabia', 'Mecca', 'Muhammad', 'Battle_of_Badr']\n",
      "['General_Pershing_Zephyr', 'World_War_I', 'War']\n",
      "['General_Pershing_Zephyr', 'World_War_I', 'United_States', 'Electronics', 'Semiconductor', 'Computer', 'Microsoft_Windows', 'Windows_XP']\n",
      "['George_II_of_Great_Britain', 'Russia', 'World_War_I', 'World_War_II', 'North_Africa', 'Egypt', 'Egyptian_pyramids', 'Pyramid']\n",
      "['Gliding', 'World_War_I', 'Trench_warfare']\n",
      "['Greco-Buddhism', 'Ancient_Greece', 'History_of_Greece', 'World_War_I', '<', 'World_War_II', 'United_Kingdom', 'France', 'Belgium', 'Antwerp']\n",
      "['Greek_War_of_Independence', 'Greece', 'World_War_I', 'Poison_gas_in_World_War_I', 'Chlorine', 'Chemical_element', 'Sulfur', 'Sulfuric_acid']\n",
      "['Guglielmo_Marconi', 'World_War_I', 'United_States', 'United_States_Constitution']\n",
      "['Guqin', 'Chinese_language', 'Republic_of_China', 'United_States', 'Cold_War', 'Vietnam_War', '<', 'Soviet_Union', 'Russia', 'World_War_I', 'World_War_II', 'Aircraft_carrier', 'Aircraft', 'Boeing_747']\n",
      "['Halloween', 'Great_Britain', 'United_Kingdom', 'World_War_I']\n",
      "['Hannibal_Barca', 'Arthur_Wellesley,_1st_Duke_of_Wellington', 'World_War_I', 'United_States', 'President_of_the_United_States', 'Bill_Clinton']\n",
      "['Harald_Maddadsson', 'Norway', 'World_War_I', 'United_States', 'Grand_Canyon']\n",
      "['Henry_Moore', 'World_War_I', 'Karl_Marx', 'Germany', 'Cologne']\n",
      "['Henry_VI_of_England', 'Windsor_Castle', 'World_War_I', 'United_States', 'Basketball']\n",
      "['Heraclius', 'Islam', 'World_War_I', 'World_War_II', 'United_States', 'North_America', 'Canada', 'Canadian_Pacific_Railway', 'The_Canadian']\n",
      "['Heraclius', 'Islam', 'World_War_I', 'United_States', 'Canada', 'Canadian_Pacific_Railway', 'The_Canadian']\n",
      "['Herbert_Hoover', 'World_War_I', 'Latvia', 'Sweden', 'Norway', 'Arctic', '<', 'Iceland', 'Volcano', 'Decade_Volcanoes']\n",
      "['History_of_Russia', 'World_War_I', 'League_of_Nations', 'French_language', 'France', 'Paris']\n",
      "['History_of_democracy', '19th_century', 'World_War_I', 'Technology', 'Industry']\n",
      "['History_of_post-Soviet_Russia', 'World_War_I', 'Technology', 'Computer_science', 'Computer_programming', 'Microsoft', 'Microsoft_Windows', 'Windows_XP', 'Central_processing_unit', 'Computer', 'Floppy_disk', 'Compact_Disc']\n",
      "['History_of_post-Soviet_Russia', 'World_War_I', 'Europe', 'Crustacean', 'Arthropod', 'Insect', 'Beetle', 'Stag_beetle']\n",
      "['History_of_post-Soviet_Russia', 'World_War_I', 'British_Empire', 'Henry_VIII_of_England', 'Edward_VI_of_England']\n",
      "['Hubbard_Glacier', 'Canada', 'Vietnam_War', 'World_War_I', 'World_War_II', 'Adolf_Hitler']\n",
      "['Human_dignity', 'Immanuel_Kant', 'Russian_language', 'Jew', 'World_War_II', 'Cold_War', 'World_War_I', 'Tank', 'Trench_warfare', 'War']\n",
      "['Hurricane_Georges', 'United_States', 'World_War_I', 'India', 'Buddhism']\n",
      "['Imagism', 'Modernist_poetry_in_English', '<', 'World_War_I', 'Ottoman_Empire', '17th_century', 'Time', 'History', 'Archaeology', 'Anthropology', '<', '<', 'Archaeology', 'Paleontology', 'Dinosaur', 'Cretaceous', 'Paleocene', 'Eocene', 'Oligocene', 'Miocene']\n",
      "['Indian_Railways', 'World_War_I', 'Greece', 'Athens']\n",
      "['Ishango_bone', 'Prime_number', '19th_century', 'World_War_I', 'Western_Front_(World_War_I)', 'Belgium', 'Germany', 'Munich']\n",
      "['Isis', 'British_Isles', 'Great_Britain', 'United_Kingdom', 'BAE_Systems', 'Radar', 'Broadcasting', 'Radio', 'World_War_I', 'World_War_II', 'Battle_of_Normandy', 'Electricity', 'Electronics', 'Computer', 'Internet', 'World_Wide_Web', 'C++', 'Algorithm', 'Cryptography', 'Data_Encryption_Standard']\n",
      "['J._R._R._Tolkien', 'World_War_I', 'Tank', 'Weapon']\n",
      "['J._R._R._Tolkien', 'World_War_I', 'World_War_II', 'Erwin_Rommel']\n",
      "['J._R._R._Tolkien', 'World_War_I', 'Poison_gas_in_World_War_I', 'Chlorine', 'Sulfur', 'Protein', 'DNA', 'Polymerase_chain_reaction']\n",
      "['James_D._Watson', 'Adolf_Hitler', 'Germany', '<', 'World_War_I', '<', 'World_War_II', 'Blitzkrieg']\n",
      "['James_Joyce', 'World_War_I', 'Namibia', 'Botswana', 'African_Union', 'Rwanda', 'Hutu']\n",
      "['John_Howard', 'World_War_I', 'United_States', 'Moon', 'Solar_System', 'Pluto']\n",
      "['John_Howard', 'World_War_I', 'Chlorine', 'Chemical_element', 'Chemistry', 'Alchemy']\n",
      "['John_Logie_Baird', 'World_War_I', 'Woodrow_Wilson', 'Wall_Street', 'United_States', 'Capitalism', 'Money', 'United_States_dollar', 'Gold_standard']\n",
      "['John_Maynard_Keynes', 'World_War_I', 'United_States', 'North_America', 'South_America']\n",
      "['John_Maynard_Keynes', 'World_War_I', 'Italy', 'European_Union', 'Europe', 'Greece', 'Ancient_Greece', 'Parthenon']\n",
      "['John_Pershing', 'World_War_I', 'Ottoman_Empire', 'Mesopotamia', 'Akkadian_Empire']\n",
      "['John_Pershing', 'World_War_I', 'British_Empire', 'Great_Britain', 'Scotland', 'Dundee', 'The_Beano']\n",
      "['Juvenile_delinquency', 'Society', 'Civilization', 'World_War_I', 'World_War_II', 'The_Holocaust', 'Hebrew_language', 'Judaism', 'Josephus']\n",
      "['Kangaroo', 'Australia', 'Melbourne', 'Neighbours', '<', 'Garden', 'Lawn', '<', 'Gardening', 'Ancient_Rome', 'Architecture', '<', '<', '<', '<', 'Industry', 'Industrial_Revolution', 'James_Watt', '<', 'City', 'Automobile', 'Law', 'House_of_Lords', 'Church_of_England', 'Canterbury', 'Watling_Street', 'Ireland', 'United_Kingdom', 'World_War_I', 'Marxism', 'Sociology', 'Life', '<', 'Human', 'Leonardo_da_Vinci', 'Clay', 'Ice_age', 'Niagara_Falls', 'Charles_Dickens', 'Employment', 'Land_(economics)', 'Economics', 'Market', 'Money', 'Finance', 'Corporate_finance', 'Mining', 'Coal', 'Roman_villa', 'House']\n",
      "['Karachi', 'Middle_East', 'World_War_I', 'Italy', 'Benito_Mussolini']\n",
      "['Kargil_War', 'War', 'World_War_I', 'Royal_Navy', 'Aircraft_carrier']\n",
      "['Khartoum', 'Osama_bin_Laden', 'World_War_I', 'Tank']\n",
      "['Kiev', 'Russian_Revolution_of_1917', 'World_War_I', 'Western_Front_(World_War_I)']\n",
      "['Krypton', 'Paris', 'World_War_I', 'United_States', 'American_Civil_War', 'Ulysses_S._Grant']\n",
      "['Ku_Klux_Klan', 'United_States', '<', 'World_War_II', 'Treaty_of_Versailles', 'World_War_I', 'United_States', 'Amtrak']\n",
      "['Ku_Klux_Klan', 'Scotland', 'Denmark', 'World_War_I', 'Battle_of_Jutland']\n",
      "['Ku_Klux_Klan', 'World_War_II', 'Nazi_Germany', 'Germany', 'World_War_I', 'Battle_of_Jutland']\n",
      "['Labor_Day_Hurricane_of_1935', 'World_War_I', 'Latvia', 'Russia', 'Mongolia', 'Genghis_Khan']\n",
      "['Lake_Malawi', 'World_War_I', 'United_States', 'California']\n",
      "['List_of_Test_cricket_triple_centuries', 'Indian_cricket_team', '<', 'Auckland', '<', 'Manchester', 'United_Kingdom', 'World_War_I', 'Woodrow_Wilson']\n",
      "['List_of_essential_oils', 'India', 'Cold_War', 'World_War_I', 'War']\n",
      "['List_of_essential_oils', 'India', 'Cold_War', 'Vietnam_War', '<', '<', 'Indian_independence_movement', 'World_War_I', 'War']\n",
      "['Manganese', 'Burkina_Faso', 'World_War_I', 'World_War_II', 'Republic_of_China', 'Hong_Kong']\n",
      "['Manganese', 'Burkina_Faso', '<', 'Gabon', '<', 'Burkina_Faso', 'World_War_I', 'Japan', 'Hong_Kong']\n",
      "['Marcel_Lefebvre', 'World_War_I', 'Switzerland', '<', 'North_Sea', 'Norway', 'Oslo']\n",
      "['Mark_Webber', 'United_Kingdom', 'English_language', '<', 'Charles_Dickens', '<', 'London', '<', 'World_War_I', 'British_Empire', 'Wales', 'City_status_in_the_United_Kingdom', 'Church_of_England', 'Anglican_Communion', 'Archbishop_of_Canterbury', 'Anglicanism', 'Latin', 'Law', 'Aristotle', 'Politics', 'Society', 'Culture', 'Anthropology', 'Age_of_Enlightenment', 'Jean-Jacques_Rousseau', 'Voltaire', 'Encyclopædia_Britannica']\n",
      "['Martina_Navratilova', 'United_States', 'World_War_I', 'Ottoman_Empire', 'Egypt', 'Ancient_Egypt']\n",
      "['Medal_of_Honor', 'World_War_I', 'North_Sea', 'Europe', 'Ireland', 'Northern_Ireland']\n",
      "['Mendip_Hills', 'World_War_I', 'United_States', 'Supreme_Court_of_the_United_States']\n",
      "['Mendip_Hills', 'World_War_I', 'United_States', 'Supreme_Court_of_the_United_States']\n",
      "['Mistle_Thrush', 'Animal', 'Human', 'Religion', 'Philosophy', 'Ethics', 'Society', 'Switzerland', 'World_War_II', 'War', 'World_War_I', '<', 'Adolf_Hitler', 'Treaty_of_Versailles', 'League_of_Nations', 'Nobel_Peace_Prize', 'Mahatma_Gandhi', '<', 'Peace']\n",
      "['Mitochondrion', 'Ammonia', 'World_War_I', 'World_War_II', 'Battle_of_Stalingrad']\n",
      "['Molybdenum', 'World_War_I', 'New_Zealand', 'Australia', 'Melbourne']\n",
      "['Mongoose', 'Australia', 'World_War_I', 'Trench_warfare', 'Firearm', 'AK-47', 'Chromium', 'Iron']\n",
      "['Mormon_Trail', 'United_States', 'World_War_I', 'Poison_gas_in_World_War_I']\n",
      "['Mount_Baker', '19th_century', 'World_War_I', 'World_War_II', 'Attack_on_Pearl_Harbor', '<', 'Nuclear_weapon', '<', 'Nuclear_weapon', 'History_of_nuclear_weapons']\n",
      "['Mount_Pinatubo', 'United_States', 'World_War_I', 'Nazism', 'German_language', 'Germany', 'Franz_Kafka']\n",
      "['Music_of_Italy', 'World_War_I', 'Nazism']\n",
      "['Music_of_Italy', 'World_War_I', 'Nazism']\n",
      "['Necktie', 'World_War_I', 'Africa', 'Lion']\n",
      "['Optical_fiber', 'Physics', 'Nikola_Tesla', 'World_War_I', 'Russia', 'Moscow']\n",
      "['Oxbow_lake', 'United_States', 'World_War_I', 'Battle_of_Amiens']\n",
      "['Papua_New_Guinea', 'World_War_I', 'Nazism', '<', 'Nazism', '<', '<', 'World_War_I', 'World_War_II', 'Erwin_Rommel']\n",
      "['Papua_New_Guinea', 'World_War_I', 'Nazism', '<', 'Nazism', '<', '<', 'World_War_I', 'World_War_II', 'Erwin_Rommel']\n",
      "['Parthenon', 'World_War_II', 'Treaty_of_Versailles', 'World_War_I', 'John_Pershing']\n",
      "['Passenger_Pigeon', 'Dove', 'France', 'World_War_I', '<', 'World_War_II', 'Blitzkrieg']\n",
      "['Pedagogy', 'Science', 'Computer_science', 'Alan_Turing', 'Southampton', 'World_War_I', 'Communism', 'World_War_II', 'Moscow', 'Russian_language', '<', 'Russia']\n",
      "['Persian_literature', 'Turkey', 'Istanbul', 'Siege', 'War', 'World_War_I', 'Tank', 'Trench_warfare', 'Battle_of_Alesia', 'Siege', 'Minoan_civilization', 'Civilization', 'Agriculture', 'Horse', 'Pony']\n",
      "['Pheidippides', 'Olympic_Games', 'England', 'Winston_Churchill', 'World_War_I', '<', 'Second_Boer_War', 'Robert_Baden-Powell,_1st_Baron_Baden-Powell', 'Scouting']\n",
      "['Phonograph_cylinder', 'World_War_I', 'British_Empire', 'Australia', 'English_language', '<', 'Australian_English']\n",
      "['Phonograph_cylinder', 'World_War_I', 'British_Empire', 'Great_Britain', 'England', 'London', 'London_Underground']\n",
      "['Phonograph_cylinder', 'World_War_I', '<', 'Arthur_Sullivan', 'London', 'London_Underground']\n",
      "['Phonograph_cylinder', 'World_War_I', 'British_Empire', '<', '<', 'Arthur_Sullivan', 'London', 'M25_motorway']\n",
      "['Photosynthetic_reaction_centre', 'Light', 'Albert_Einstein', 'Germany', 'World_War_I', 'Italy', 'Genoa']\n",
      "['Privy_Council_of_the_United_Kingdom', 'World_War_I', 'Italy', '16th_century', 'Italian_Renaissance', 'Science', 'Archaeology', '<', 'Physical_science', 'Astronomy']\n",
      "['Privy_Council_of_the_United_Kingdom', 'Church_of_England', '<', 'City_status_in_the_United_Kingdom', '<', 'World_War_I', 'Technology', 'Science', 'Physics', 'Astronomy']\n",
      "['Privy_Council_of_the_United_Kingdom', 'World_War_I', 'Nazism', 'Race', 'Evolution', 'Gregor_Mendel']\n",
      "['Pterosaur', '19th_century', 'World_War_I', 'Trench_warfare', 'Firearm']\n",
      "['Quantum_computer', 'Physics', 'Special_relativity', 'Albert_Einstein', 'World_War_I', 'World_War_II', 'Franklin_D._Roosevelt', 'President_of_the_United_States', 'John_F._Kennedy']\n",
      "['Reggae', 'United_Kingdom', 'World_War_I', 'Battle_of_Amiens']\n",
      "['SR-71_Blackbird', 'Soviet_Union', 'World_War_I', 'Suez_Canal']\n",
      "['Sakurajima', 'Japan', 'World_War_I', 'World_War_II', 'Great_Britain', 'England', 'The_Beatles']\n",
      "['San_Diegan', 'Los_Angeles,_California', 'Japan', 'World_War_I', 'World_War_II', 'Naval_Battle_of_Guadalcanal', 'Battle_of_the_Santa_Cruz_Islands']\n",
      "['Sarajevo', 'World_War_I', 'South_Africa', 'Lion', 'Africa', 'Cheetah']\n",
      "['Sarajevo', 'World_War_I', 'United_States', 'World_War_II', '<', 'North_America', 'Continent', 'Australia', 'Tropics', 'Rainforest', 'Bird', 'Emu', 'Cassowary']\n",
      "['Sarajevo', 'United_Nations', '<', 'World_War_I', 'New_Zealand', 'Australia', '<', 'Pacific_Ocean', '<', 'Australia', 'Papua_New_Guinea', 'Indonesia', '<', 'Oceania', '<', '<', 'Kookaburra', '<', 'Emu', 'Cassowary']\n",
      "['Sarajevo', 'World_War_I', 'Poison_gas_in_World_War_I', 'Chlorine', 'Chemical_element', '<', 'Fluorine', 'Neon']\n",
      "['Scouting', 'Robert_Baden-Powell,_1st_Baron_Baden-Powell', '<', 'Second_Boer_War', '<', 'World_War_I', 'War', 'Treaty_of_Versailles', '<', '<', '<', 'Religion', 'Christianity', 'Jesus', '<', '<', 'Buddhism', '<', '<', 'World_War_II', 'War', 'Law', 'United_Nations', 'Human_rights', 'Human_dignity', '<', 'Philosophy', '<', 'Civil_rights', '<', 'International_human_rights_instruments', '<', '<', 'League_of_Nations', 'Nobel_Peace_Prize', 'Peace']\n",
      "['Scouting', 'Second_Boer_War', 'World_War_I', 'Treaty_of_Versailles', '<', 'War', 'Human_rights', '<', '<', '<', 'British_Empire', 'Europe', 'Sweden', 'Alfred_Nobel', 'Peace']\n",
      "['Scouting', 'World_War_I', 'Treaty_of_Versailles', 'League_of_Nations', 'Nobel_Peace_Prize', 'Peace']\n",
      "['Sea_of_Galilee', 'United_Kingdom', 'Cricket', 'Australia', 'World_War_II', 'Nazi_Germany', 'Treaty_of_Versailles', 'World_War_I', '<', '<', '<', '<', '<', '<', 'Cricket', 'Australia', 'Melbourne', 'Shrine_of_Remembrance']\n",
      "['Sea_of_Galilee', 'Jesus', 'Christianity', 'Religion', 'Mysticism', 'Christianity', 'Oceania', 'Continent', 'Australia', 'World_War_II', 'War', '<', 'War', 'World_War_I', 'New_Zealand', 'Australia', 'Melbourne', 'Shrine_of_Remembrance']\n",
      "['Seaborgium', 'Soviet_Union', 'World_War_I', 'Western_Front_(World_War_I)', 'Weimar_Republic', 'Nazism', 'Swastika']\n",
      "['Shoe_polish', 'World_War_I', 'Africa', 'Sierra_Leone']\n",
      "['Siege', 'World_War_I', 'Chlorine', 'Hydrochloric_acid', 'Food', '<', 'Protein', 'Enzyme_kinetics']\n",
      "['Siege', 'World_War_I', 'North_Sea', 'Ice_sheet', 'Glacier', 'Post-glacial_rebound']\n",
      "['Soil_science', 'Earth', 'German_language', 'Germany', 'Adolf_Hitler', 'World_War_I']\n",
      "['Soil_science', 'Norman_Borlaug', 'Attack_on_Pearl_Harbor', 'World_War_II', 'Winston_Churchill', '<', 'War', 'World_War_I']\n",
      "['Soil_science', 'Engineering', 'Nuclear_weapon', 'World_War_II', 'Germany', 'World_War_I']\n",
      "['Soil_science', 'Earth', 'Europe', 'Germany', 'World_War_I']\n",
      "['Space_Invaders', 'Switzerland', 'World_War_I', 'Tank', 'Weapon', 'Firearm']\n",
      "['Space_Invaders', 'United_States', 'World_War_I', 'World_War_II', 'Nuclear_weapon', 'Weapon', '<', '<', '<', '<', 'Nuclear_weapon', 'Weapon', 'Firearm']\n",
      "['Special_relativity', 'Albert_Einstein', 'World_War_I', 'United_States', 'Pacific_Ocean', '<', 'Gulf_of_Mexico', 'Caribbean_Sea', 'South_America', 'Panama']\n",
      "['Statue_of_Zeus_at_Olympia', '1st_century_BC', 'Anno_Domini', 'United_Nations', 'United_States', 'World_War_I', 'Technology', 'Engineering', 'Steam_engine', 'Jet_engine', 'Wright_brothers', '<', 'Aircraft', 'Airbus_A380']\n",
      "['Stuttering', 'Language', 'German_language', 'Switzerland', 'Zürich', '<', 'Zürich', 'James_Joyce', 'World_War_I', 'Dada']\n",
      "['Sumatra', 'Netherlands', 'World_War_I', 'Poison_gas_in_World_War_I']\n",
      "['Super_Chief', 'Washington,_D.C.', 'World_War_II', 'Treaty_of_Versailles', 'World_War_I', 'Western_Front_(World_War_I)', 'Trench_warfare']\n",
      "['Super_Chief', 'Los_Angeles,_California', 'United_States', 'World_War_I', 'Trench_warfare']\n",
      "['Swallow', 'Bird', 'Ostrich', 'World_War_I', '<', '20th_century', 'Euro', 'Netherlands', 'Amsterdam']\n",
      "['T-34', 'Nazi_Germany', 'World_War_II', 'United_States', 'World_War_I', 'Poison_gas_in_World_War_I']\n",
      "['T-34', 'Soviet_Union', 'World_War_I', 'Poison_gas_in_World_War_I']\n",
      "['Tellurium', 'Canada', 'United_States', 'Cold_War', 'World_War_I', 'Treaty_of_Versailles', 'League_of_Nations', 'World_Health_Organization', 'United_Nations', 'List_of_sovereign_states', 'Malaysia', 'Parliament_of_Malaysia', 'Social_contract_(Malaysia)']\n",
      "['Temple_of_Artemis', 'Christianity', 'Jesus', 'Last_Supper', '<', '<', '<', 'Christianity', 'Martin_Luther', 'The_Holocaust', 'World_War_I', 'United_States', 'Volcano', 'Landscape', '<', 'Earthquake', 'Earth', 'Tornado']\n",
      "['The_Ashes', 'World_War_I', 'Serbia', 'Serbia_and_Montenegro']\n",
      "['The_Ashes', 'World_War_I', 'Tank', 'Radio', 'Electron', 'Atom', 'Absolute_zero', 'Thermodynamic_temperature']\n",
      "['The_Magic_Flute', 'World_War_I', 'Ottoman_Empire', 'Mediterranean_Sea', 'Mesopotamia', 'Babylonia']\n",
      "['The_Magic_Flute', 'World_War_I', 'United_States', 'Internet', 'Information', 'Communication', 'Telephone']\n",
      "['The_Magic_Flute', 'German_language', '<', 'World_War_I', 'Chlorine', 'Medicine', 'Eye', '<', 'Health', '<', '<', 'Food', 'Vitamin_D']\n",
      "['Theatre', 'United_States', 'World_War_I', 'South_Africa', '<', 'South_Africa', 'Africa', 'Herbivore', '<', 'Giraffe', 'Kenya', 'Elephant', 'Herbivore', 'Lion', 'Zebra']\n",
      "['Three_Laws_of_Robotics', 'War', 'World_War_I', 'British_Empire', 'Great_Britain', 'United_Kingdom', 'Constitutional_monarchy', 'Monarchy']\n",
      "['Tiger_shark', 'Australia', 'United_Kingdom', 'World_War_I']\n",
      "['Tottenham_Hotspur_F.C.', 'World_War_I', 'World_War_II', 'North_Africa', 'Continent', 'Africa', 'Rwanda', 'Great_Rift_Valley', 'Mount_Nyiragongo']\n",
      "['Tottenham_Hotspur_F.C.', 'World_War_I', 'Japan', 'Mario', 'Super_Mario_64']\n",
      "['Tree_Sparrow', 'United_States', 'World_War_I', 'Battle_of_Jutland']\n",
      "['Trench_warfare', 'World_War_I', '<', 'Napoleon_I_of_France', 'France', 'Spain', 'Portugal']\n",
      "['Trench_warfare', 'World_War_I', 'Italy', 'European_Union', 'Portugal']\n",
      "['Trench_warfare', 'World_War_I', 'Poland', 'European_Union', 'Portugal']\n",
      "['Trench_warfare', 'World_War_I', 'British_Empire', 'United_Kingdom', 'England', 'Nottingham', '<', 'Sheffield', '<', '<', 'Peak_District']\n",
      "['Trench_warfare', 'World_War_I', 'United_States', 'Missouri_River', 'Mississippi_River', 'Mark_Twain', 'Philadelphia', 'Pennsylvania_Railroad', 'Richmond,_Virginia']\n",
      "['Tsunami', 'Pacific_Ocean', 'World_War_II', 'United_States', 'World_War_I', 'Poison_gas_in_World_War_I']\n",
      "['Tsunami', 'Pacific_Ocean', 'Asia', 'World_War_II', 'League_of_Nations', 'World_War_I', 'Poison_gas_in_World_War_I']\n",
      "['Tutsi', 'World_War_I', 'Economics', 'Education', 'History']\n",
      "['Tycho_Brahe', 'Germany', 'World_War_I', 'United_States', 'President_of_the_United_States', 'Ronald_Reagan']\n",
      "['Virginian_Railway', 'World_War_I', 'China', 'Shanghai']\n",
      "['Walt_Disney', 'World_War_I', 'World_War_II', 'Luftwaffe', '<', 'Royal_Air_Force', '<', 'Aircraft', 'Jet_engine']\n",
      "['War_and_Peace', 'Russian_language', '<', 'Russia', 'Earth', 'Europe', '<', '<', 'World_War_I', 'Italy', 'Rome']\n",
      "['Ward_Cunningham', 'United_States', 'World_War_I', 'Russian_Revolution_of_1917', 'History_of_post-Soviet_Russia']\n",
      "['Weimar_Republic', 'World_War_I', 'British_Empire', 'Victoria_of_the_United_Kingdom', 'List_of_monarchs_in_the_British_Isles', 'United_Kingdom', 'Elizabeth_II_of_the_United_Kingdom', 'Westminster_Abbey', 'Archbishop_of_Canterbury', 'British_monarchy', 'United_Kingdom', 'Great_Britain', 'England', 'London', 'Tower_of_London', 'Crown_Jewels_of_the_United_Kingdom']\n",
      "['Weimar_Republic', 'World_War_I', 'Chlorine', 'Bacteria', 'Virus', 'Common_cold', 'Pneumonia', 'H5N1']\n",
      "['Weston-super-Mare', 'World_War_I', 'United_States', 'American_Revolutionary_War', 'France_in_the_American_Revolutionary_War']\n",
      "['William_III_of_England', 'England', 'Olympic_Games', 'World_War_I', 'Woodrow_Wilson']\n",
      "['Woodpecker', 'United_States', 'World_War_I', '<', 'World_War_II', 'Adolf_Hitler', 'Nazi_Germany']\n",
      "['Woodrow_Wilson', 'World_War_I', 'Mesopotamia', 'Zeus', 'Ancient_Greece']\n",
      "['Woodrow_Wilson', 'World_War_I', 'Italy', 'Roman_Empire']\n",
      "['Woodrow_Wilson', 'World_War_I', 'British_Empire', 'Australia']\n",
      "['ZX_Spectrum', 'Poland', 'World_War_II', '<', 'World_War_I']\n",
      "['Zoroaster', 'Persian_Empire', 'World_War_I', 'World_War_II', 'Nuclear_weapon', 'Nuclear_fission', 'Princeton_University', 'Engineering', 'Science', 'Physical_science', 'Physics', 'Speed_of_light', 'Aberration_of_light']\n",
      "['Zoroaster', 'Russia', 'Turkey', 'World_War_II', 'Treaty_of_Versailles', 'World_War_I', 'Poison_gas_in_World_War_I', 'Pneumonia', 'H5N1']\n",
      "['Frédéric_Chopin', '19th_century', '20th_century', 'World_War_I', 'Sarajevo']\n",
      "['Cocos_(Keeling)_Islands', 'World_War_I', 'United_States', 'Poetry_of_the_United_States', 'Edgar_Allan_Poe']\n",
      "['Copper(I)_chloride', 'Ammonia', 'World_War_I', 'United_States', 'President_of_the_United_States', 'Ronald_Reagan']\n",
      "['Copper(I)_chloride', 'Ammonia', 'World_War_I', 'President_of_the_United_States', 'Ronald_Reagan']\n",
      "['Ffestiniog_Railway', 'World_War_I', 'United_States', 'Rocky_Mountains', '<', 'Sequoia', 'Redwood_National_and_State_Parks']\n",
      "['French_Open_(tennis)', 'World_War_I', 'United_States', 'Latin', 'Spanish_language', 'Paraguay']\n",
      "['Grease_(film)', 'Film', '19th_century', 'World_War_I', 'War', 'Nuclear_weapon', 'Weapon', 'Firearm', 'AK-47']\n",
      "['Hurricane_Epsilon_(2005)', 'Tropical_cyclone', 'International_Space_Station', 'United_States', 'World_War_I', 'Poison_gas_in_World_War_I']\n",
      "['Józef_Piłsudski', 'World_War_I', 'Sarajevo']\n",
      "['Józef_Piłsudski', 'World_War_I', 'World_War_II', 'Netherlands', 'Vincent_van_Gogh']\n",
      "['James_Stewart_(actor)', 'United_States', 'World_War_I', 'Battle_of_the_Somme_(1916)']\n",
      "['McFly_(band)', 'England', 'Europe', 'World_War_II', 'Treaty_of_Versailles', 'World_War_I', 'Battle_of_the_Somme_(1916)']\n",
      "[\"Moore's_Law\", 'Germanium', 'Germany', 'World_War_I', 'British_Empire', 'Henry_VII_of_England', 'Edward_IV_of_England', 'Henry_VI_of_England', 'Henry_IV_of_England']\n",
      "['San_Diego_Electric_Railway', 'World_War_I', 'British_Empire', 'India', 'Indira_Gandhi']\n",
      "['Stanley,_Falkland_Islands', 'World_War_I', 'United_States', 'United_States_Declaration_of_Independence', 'Benjamin_Franklin']\n",
      "['Stanley,_Falkland_Islands', 'World_War_I', 'Poland']\n",
      "['Tenzin_Gyatso,_14th_Dalai_Lama', \"People's_Republic_of_China\", 'United_States', 'World_War_I', 'Western_Front_(World_War_I)']\n"
     ]
    }
   ],
   "source": [
    "for i in range(len(path_finished_unquoted['path_list'])):\n",
    "    for article in path_finished_unquoted['path_list'][i]:\n",
    "        if article=='World_War_I':\n",
    "            print(path_finished_unquoted['path_list'][i])"
   ]
  },
  {
   "cell_type": "code",
   "execution_count": 65,
   "id": "b9f34a1d",
   "metadata": {
    "scrolled": true
   },
   "outputs": [
    {
     "name": "stdout",
     "output_type": "stream",
     "text": [
      "['14th_century', 'Time', 'Isaac_Newton', 'Light', 'Color', 'Rainbow']\n",
      "['14th_century', 'Time', 'Light', 'Rainbow']\n",
      "['14th_century', '15th_century', 'Plato', 'Nature', 'Ultraviolet', 'Color', 'Rainbow']\n",
      "['14th_century', 'Time', 'Science', 'Nature', 'Weather', 'Sunlight', '<', 'Sun', \"Earth's_atmosphere\", 'Ultraviolet', 'Color', 'Light', 'Rainbow']\n",
      "['14th_century', 'Christianity', 'Bible', 'God', 'Nature', \"Earth's_atmosphere\", 'Ultraviolet', 'Optical_fiber', 'Light', 'Rainbow']\n",
      "['14th_century', 'Time', 'Astronomy', 'Light', 'Rainbow']\n",
      "['14th_century', 'Renaissance', 'Empiricism', 'Nature', 'Weather', 'Sunlight', '<', 'Rain', '<', 'Sunlight', \"Earth's_atmosphere\", '<', '<', 'Sun', 'Isaac_Newton', 'Rainbow']\n",
      "['14th_century', 'Renaissance', 'Leonardo_da_Vinci', 'Water', 'Rain', 'Cloud', '<', '<', 'Rainbow']\n",
      "['14th_century', 'Renaissance', 'Leonardo_da_Vinci', 'Water', 'Rainbow']\n",
      "['14th_century', 'Europe', 'Republic_of_Ireland', '<', '<', 'Europe', '<', 'Europe', 'Republic_of_Ireland', '<', '<', 'Time', 'Physics', 'Speed_of_light', 'Rainbow']\n",
      "['14th_century', \"English_peasants'_revolt_of_1381\", 'Archbishop_of_Canterbury', '19th_century', 'The_Origin_of_Species', 'Biology', 'Science', 'Physics', 'Speed_of_light', 'Rainbow']\n",
      "['14th_century', 'India', 'Rice', 'Rain', 'Acid_rain', 'Cloud', 'Color', 'Rainbow']\n",
      "['14th_century', 'Time', 'Physics', '<', 'Day', 'Sun', 'Sunlight', 'Ultraviolet', '<', \"Earth's_atmosphere\", '<', 'Ultraviolet', 'Color', 'Rainbow']\n",
      "['14th_century', 'France', 'World_War_II', 'Nuclear_weapon', 'Neutron', 'Physics', 'Speed_of_light', 'Rainbow']\n",
      "['14th_century', 'Christianity', 'Religion', 'Astrology', 'Isaac_Newton', 'Color', 'Rainbow']\n",
      "['14th_century', 'Time', 'Light', 'Rainbow']\n",
      "['14th_century', 'Time', 'Light', 'Rainbow']\n",
      "['14th_century', 'Renaissance', 'Art', 'Color', 'Rainbow']\n",
      "['14th_century', 'Singapore', 'Fishing', 'Ice', 'Climate', 'Weather', 'Sunlight', 'Ultraviolet', 'Color', 'Rainbow']\n",
      "['14th_century', 'Time', 'Isaac_Newton', 'Rainbow']\n",
      "['14th_century', 'Renaissance', 'Science', 'Physics', 'Isaac_Newton', 'Color', 'Rainbow']\n",
      "['14th_century', 'Time', 'Isaac_Newton', 'Rainbow']\n",
      "['14th_century', 'Time', 'Light', 'Rainbow']\n",
      "['14th_century', 'Time', 'Light', 'Color', 'Rainbow']\n",
      "['14th_century', 'Time', 'Special_relativity', 'Speed_of_light', 'Rainbow']\n",
      "['14th_century', 'Time', 'Egypt', 'Ancient_Egypt', 'Glass', 'Chromatic_aberration', 'Light', 'Rainbow']\n",
      "['14th_century', 'Time', 'Isaac_Newton', 'Rainbow']\n",
      "['Space_Shuttle_Challenger', 'Space_Shuttle_Endeavour', 'International_Space_Station', 'Space_Shuttle_program', 'Star_Trek', 'Technology', 'Science', 'Nature', 'Meteorology', 'Climate', 'Tropical_cyclone', 'Rain', 'Water', 'Rainbow']\n",
      "['Coal', 'Oxygen', 'Magnetism', 'Wave', 'Ultraviolet', 'Color', 'Rainbow']\n",
      "['Coal', \"Earth's_atmosphere\", 'Ultraviolet', 'Sunlight', '<', 'Color', 'Rainbow']\n",
      "['Coal', 'Acid_rain', 'Rain', '<', '<', 'Acid_rain', 'Cloud', 'Color', 'Rainbow']\n",
      "['Coal', 'Oxygen', 'Water', 'Rainbow']\n",
      "['Coal', 'Oxygen', 'Water', 'Rainbow']\n",
      "['Coal', 'Bronze_Age', '<', 'Sulfur', 'Gold', 'Color', 'Rainbow']\n",
      "['Coal', 'Oxygen', 'Water', 'Rainbow']\n",
      "['Albert_Einstein', 'Photon', 'Light', 'Color', 'Rainbow']\n",
      "['Tin', 'Glass', 'Light', 'Rainbow']\n",
      "['Microscope', 'Eye', 'Light', 'Rainbow']\n",
      "['The_Marriage_of_Figaro', 'Vienna', 'Danube', 'River', 'Rain', 'Acid_rain', 'Cloud', 'Crystal', 'Color', 'Rainbow']\n",
      "['The_Marriage_of_Figaro', 'Vienna', 'Danube', 'River', 'Rain', 'Cloud', '<', \"Earth's_atmosphere\", '<', 'Water', 'Rainbow']\n",
      "['Adolf_Hitler', 'Germany', 'Country', 'Earth', 'Life', 'Organism', 'Human', 'Pigment', 'Color', 'Rainbow']\n",
      "['Netherlands_Antilles', 'Netherlands', 'France', 'English_Channel', 'United_Kingdom', 'University_of_Cambridge', 'Isaac_Newton', 'Rainbow']\n",
      "['Cerebellum', 'Brain', 'Eye', 'Color', 'Rainbow']\n",
      "['Cerebellum', 'Animal', 'Water', 'Rainbow']\n",
      "['Hurricane_Georges', 'Tropical_cyclone', 'Rain', '<', 'Flood', '<', 'Tornado', '<', 'Cloud', 'Color', 'Rainbow']\n",
      "['Hurricane_Georges', 'Tropical_cyclone', 'Rain', 'Cloud', 'Color', 'Rainbow']\n",
      "['Jackdaw', 'Raven', 'Bird', 'Feather', 'Cell_(biology)', 'Latin', 'Science', 'Physical_science', 'Physics', 'Speed_of_light', 'Glass', 'Light', 'Rainbow']\n",
      "['Jackdaw', 'Animal', '<', 'Invertebrate', '<', 'Crow', 'Scientific_classification', '<', '<', 'Konrad_Lorenz', 'Max_Planck', 'Physics', 'Light', 'Rainbow']\n",
      "['Jackdaw', 'Europe', 'Rainforest', 'Climate', 'Weather', 'Sunlight', 'Ultraviolet', '<', '<', 'Sun', 'Solar_eclipse', '<', 'Pupil', 'Light', 'Rainbow']\n",
      "['Jackdaw', 'Europe', 'Earth', 'Water', 'Rain', 'Earth', 'Sun', 'Sunlight', 'Electromagnetic_radiation', 'Light', 'Rainbow']\n"
     ]
    }
   ],
   "source": [
    "for i in range(len(path_finished_unquoted['path_list'])):\n",
    "    if path_finished_unquoted['path_list'][i][-1]=='Rainbow':\n",
    "        print(path_finished_unquoted['path_list'][i])\n",
    "        #print(i)"
   ]
  },
  {
   "cell_type": "markdown",
   "id": "6d72bbed",
   "metadata": {},
   "source": [
    "To check our semantic distance, we will make a function that returns the top 10 most related articles to one given goal article."
   ]
  },
  {
   "cell_type": "code",
   "execution_count": 70,
   "id": "3f8c0980",
   "metadata": {},
   "outputs": [],
   "source": [
    "def top_20(goal, paths):\n",
    "    '''This function computes the 10 closest articles to a given goal article.\n",
    "    Input: article: goal article, paths: all paths on which the distance will be measured\n",
    "    Output: list of 10 closest articles to the goal or less if not enough distances have been measured'''\n",
    "    top_20=[0 for _ in range(10)]\n",
    "    dist=[]\n",
    "    articles=[]\n",
    "    already_calculated=False\n",
    "\n",
    "    for i in range(len(paths)):\n",
    "        if paths[i][-1]==goal:\n",
    "            for article in paths[i]:\n",
    "                already_calculated=False\n",
    "                if article !='<' and article!=goal:\n",
    "                    if len(articles)>0:\n",
    "                        for art in articles:\n",
    "                            if art==article:\n",
    "                                already_calculated=True #to not calculate many times the same distance\n",
    "                                \n",
    "                    if already_calculated==False:\n",
    "                        dist.append((semantic_distance(article, goal, paths),article))\n",
    "                        #print('Distance between {:} and {:} has been calculated.'.format(article, goal))\n",
    "                        articles.append(article)\n",
    "    \n",
    "    dist.sort()\n",
    "    if len(dist)>=20:\n",
    "        top_20=dist[:5]\n",
    "    else:\n",
    "        for j in range(len(dist)):\n",
    "            top_20[j]=dist[j]\n",
    "\n",
    "    return top_20"
   ]
  },
  {
   "cell_type": "code",
   "execution_count": 67,
   "id": "2745bc42",
   "metadata": {
    "scrolled": true
   },
   "outputs": [
    {
     "name": "stdout",
     "output_type": "stream",
     "text": [
      "Distance between Canada and Noam_Chomsky has been calculated.\n",
      "Distance between United_States and Noam_Chomsky has been calculated.\n",
      "Distance between Education_in_the_United_States and Noam_Chomsky has been calculated.\n",
      "Distance between Music and Noam_Chomsky has been calculated.\n",
      "Distance between Language and Noam_Chomsky has been calculated.\n",
      "Distance between Communication and Noam_Chomsky has been calculated.\n",
      "Distance between Linguistics and Noam_Chomsky has been calculated.\n",
      "Distance between Hurricane_Vince_(2005) and Noam_Chomsky has been calculated.\n",
      "Distance between Spain and Noam_Chomsky has been calculated.\n",
      "Distance between France and Noam_Chomsky has been calculated.\n",
      "Distance between 18th_century and Noam_Chomsky has been calculated.\n",
      "Distance between 20th_century and Noam_Chomsky has been calculated.\n",
      "Distance between Computer and Noam_Chomsky has been calculated.\n",
      "Distance between Charles_Babbage and Noam_Chomsky has been calculated.\n",
      "Distance between 15th_century and Noam_Chomsky has been calculated.\n",
      "Distance between Internet and Noam_Chomsky has been calculated.\n",
      "Distance between Computer_programming and Noam_Chomsky has been calculated.\n",
      "Distance between Programming_language and Noam_Chomsky has been calculated.\n",
      "Distance between Scheme_programming_language and Noam_Chomsky has been calculated.\n",
      "Distance between Parrot and Noam_Chomsky has been calculated.\n",
      "Distance between United_States_Declaration_of_Independence and Noam_Chomsky has been calculated.\n",
      "Distance between Propaganda and Noam_Chomsky has been calculated.\n",
      "Distance between Spanish_language and Noam_Chomsky has been calculated.\n",
      "Distance between Latin_alphabet and Noam_Chomsky has been calculated.\n",
      "Distance between Alphabet and Noam_Chomsky has been calculated.\n",
      "Distance between English_language and Noam_Chomsky has been calculated.\n",
      "Distance between Musical_instrument and Noam_Chomsky has been calculated.\n",
      "Distance between Culture and Noam_Chomsky has been calculated.\n",
      "Distance between Philosophy and Noam_Chomsky has been calculated.\n",
      "Distance between La_Paz and Noam_Chomsky has been calculated.\n",
      "Distance between Utrecht_(city) and Noam_Chomsky has been calculated.\n",
      "Distance between University and Noam_Chomsky has been calculated.\n",
      "Distance between Karl_Marx and Noam_Chomsky has been calculated.\n",
      "Distance between World_War_II and Noam_Chomsky has been calculated.\n",
      "Distance between Jew and Noam_Chomsky has been calculated.\n",
      "Distance between Stephen_Jay_Gould and Noam_Chomsky has been calculated.\n",
      "Distance between Psychology and Noam_Chomsky has been calculated.\n",
      "Distance between Hyde_Park,_London and Noam_Chomsky has been calculated.\n",
      "Distance between United_Kingdom and Noam_Chomsky has been calculated.\n",
      "Distance between England and Noam_Chomsky has been calculated.\n",
      "Distance between Electronic_amplifier and Noam_Chomsky has been calculated.\n",
      "Distance between Alternating_current and Noam_Chomsky has been calculated.\n",
      "Distance between Radio_frequency and Noam_Chomsky has been calculated.\n",
      "Distance between Sound and Noam_Chomsky has been calculated.\n",
      "Distance between Television and Noam_Chomsky has been calculated.\n",
      "Distance between Physics and Noam_Chomsky has been calculated.\n",
      "Distance between Biology and Noam_Chomsky has been calculated.\n",
      "Distance between Anatomy and Noam_Chomsky has been calculated.\n",
      "Distance between Human and Noam_Chomsky has been calculated.\n",
      "Distance between Brain and Noam_Chomsky has been calculated.\n",
      "Distance between Computer_science and Noam_Chomsky has been calculated.\n",
      "Distance between Algorithm and Noam_Chomsky has been calculated.\n",
      "Distance between History_of_computing_hardware and Noam_Chomsky has been calculated.\n",
      "Distance between Alan_Turing and Noam_Chomsky has been calculated.\n",
      "Distance between Markup_language and Noam_Chomsky has been calculated.\n",
      "Distance between TeX and Noam_Chomsky has been calculated.\n",
      "Distance between American_English and Noam_Chomsky has been calculated.\n",
      "Distance between Boston,_Massachusetts and Noam_Chomsky has been calculated.\n",
      "Distance between Biotechnology and Noam_Chomsky has been calculated.\n",
      "Distance between Bioinformatics and Noam_Chomsky has been calculated.\n",
      "Distance between Applied_mathematics and Noam_Chomsky has been calculated.\n",
      "Distance between Red_dwarf and Noam_Chomsky has been calculated.\n",
      "Distance between Earth and Noam_Chomsky has been calculated.\n",
      "Distance between Vietnam_War and Noam_Chomsky has been calculated.\n",
      "Distance between Communism and Noam_Chomsky has been calculated.\n",
      "Distance between Socialism and Noam_Chomsky has been calculated.\n",
      "Distance between Tourette_syndrome and Noam_Chomsky has been calculated.\n",
      "Distance between Woodworking and Noam_Chomsky has been calculated.\n",
      "Distance between Germany and Noam_Chomsky has been calculated.\n",
      "Distance between September_11,_2001_attacks and Noam_Chomsky has been calculated.\n",
      "Distance between Collapse_of_the_World_Trade_Center and Noam_Chomsky has been calculated.\n",
      "Distance between Israel and Noam_Chomsky has been calculated.\n",
      "Distance between Arab-Israeli_conflict and Noam_Chomsky has been calculated.\n",
      "Distance between The_Holocaust and Noam_Chomsky has been calculated.\n",
      "Distance between French_language and Noam_Chomsky has been calculated.\n",
      "Distance between Vulgar_Latin and Noam_Chomsky has been calculated.\n",
      "Distance between Latin and Noam_Chomsky has been calculated.\n",
      "Distance between The_Cat_in_the_Hat and Noam_Chomsky has been calculated.\n",
      "Distance between Dr._Seuss and Noam_Chomsky has been calculated.\n",
      "Distance between Literature and Noam_Chomsky has been calculated.\n",
      "Distance between India and Noam_Chomsky has been calculated.\n",
      "Distance between Plate_tectonics and Noam_Chomsky has been calculated.\n",
      "Distance between South_America and Noam_Chomsky has been calculated.\n",
      "Distance between French_Guiana and Noam_Chomsky has been calculated.\n",
      "Distance between European_Union and Noam_Chomsky has been calculated.\n",
      "Distance between Indonesian_language and Noam_Chomsky has been calculated.\n",
      "Distance between Sanskrit and Noam_Chomsky has been calculated.\n"
     ]
    },
    {
     "data": {
      "text/plain": [
       "[(0.10443895274732024, 'Scheme_programming_language'),\n",
       " (0.16730024036998317, 'Psychology'),\n",
       " (0.2367916565801112, 'Linguistics'),\n",
       " (0.30504371738085306, 'Communication'),\n",
       " (0.31027981651003655, 'Tourette_syndrome'),\n",
       " (0.36232543086334995, 'Stephen_Jay_Gould'),\n",
       " (0.392790541298524, 'La_Paz'),\n",
       " (0.4370001363732602, 'Language'),\n",
       " (0.526264526967477, 'Arab-Israeli_conflict'),\n",
       " (0.526264526967477, 'The_Holocaust'),\n",
       " (0.6607988370652125, 'Alternating_current'),\n",
       " (0.6607988370652125, 'Radio_frequency'),\n",
       " (0.7256788032770468, 'Socialism'),\n",
       " (0.770277274205617, 'Sound'),\n",
       " (0.8757147883850194, 'Alphabet'),\n",
       " (0.9047884224331657, 'Philosophy'),\n",
       " (0.9127820967019243, 'Music'),\n",
       " (0.9467907452366382, 'Jew'),\n",
       " (0.9835366208061289, 'World_War_II'),\n",
       " (1.0460084203966824, 'Communism')]"
      ]
     },
     "execution_count": 67,
     "metadata": {},
     "output_type": "execute_result"
    }
   ],
   "source": [
    "top=top_20('Noam_Chomsky', path_finished_unquoted['path_list'])\n",
    "top"
   ]
  },
  {
   "cell_type": "code",
   "execution_count": null,
   "id": "816ee9e6",
   "metadata": {},
   "outputs": [],
   "source": []
  },
  {
   "cell_type": "markdown",
   "id": "57fe8262",
   "metadata": {},
   "source": [
    "# 3. Countries"
   ]
  },
  {
   "cell_type": "markdown",
   "id": "42dd70ce",
   "metadata": {},
   "source": [
    "With the tools ready, we start by investigating the subset of the dataset related to countries. The goal is to answer the following research questions: \n",
    "- Which countries seem to have the most influence according to Wikipedia users? Is this representative of the real political influence of these countries?\n",
    "- To which continent do these most famous contries belong to? Do some continents disappear from this representation?"
   ]
  },
  {
   "cell_type": "markdown",
   "id": "25b1b4ba",
   "metadata": {},
   "source": [
    "We first start by extracting the articles belonging to the `subject.Countries` category."
   ]
  },
  {
   "cell_type": "code",
   "execution_count": 71,
   "id": "fc154cda-267e-4239-8714-5e6cbc932185",
   "metadata": {},
   "outputs": [
    {
     "name": "stdout",
     "output_type": "stream",
     "text": [
      "There are 229 countries in the dataset.\n"
     ]
    },
    {
     "data": {
      "text/html": [
       "<div>\n",
       "<style scoped>\n",
       "    .dataframe tbody tr th:only-of-type {\n",
       "        vertical-align: middle;\n",
       "    }\n",
       "\n",
       "    .dataframe tbody tr th {\n",
       "        vertical-align: top;\n",
       "    }\n",
       "\n",
       "    .dataframe thead th {\n",
       "        text-align: right;\n",
       "    }\n",
       "</style>\n",
       "<table border=\"1\" class=\"dataframe\">\n",
       "  <thead>\n",
       "    <tr style=\"text-align: right;\">\n",
       "      <th></th>\n",
       "      <th>article</th>\n",
       "      <th>category</th>\n",
       "    </tr>\n",
       "  </thead>\n",
       "  <tbody>\n",
       "    <tr>\n",
       "      <th>2</th>\n",
       "      <td>%C3%85land</td>\n",
       "      <td>subject.Countries</td>\n",
       "    </tr>\n",
       "    <tr>\n",
       "      <th>5</th>\n",
       "      <td>%C3%89ire</td>\n",
       "      <td>subject.Countries</td>\n",
       "    </tr>\n",
       "    <tr>\n",
       "      <th>102</th>\n",
       "      <td>Abkhazia</td>\n",
       "      <td>subject.Countries</td>\n",
       "    </tr>\n",
       "    <tr>\n",
       "      <th>109</th>\n",
       "      <td>Abu_Dhabi</td>\n",
       "      <td>subject.Countries</td>\n",
       "    </tr>\n",
       "    <tr>\n",
       "      <th>141</th>\n",
       "      <td>Afghanistan</td>\n",
       "      <td>subject.Countries</td>\n",
       "    </tr>\n",
       "    <tr>\n",
       "      <th>...</th>\n",
       "      <td>...</td>\n",
       "      <td>...</td>\n",
       "    </tr>\n",
       "    <tr>\n",
       "      <th>5022</th>\n",
       "      <td>West_Bank</td>\n",
       "      <td>subject.Countries</td>\n",
       "    </tr>\n",
       "    <tr>\n",
       "      <th>5031</th>\n",
       "      <td>Western_Sahara</td>\n",
       "      <td>subject.Countries</td>\n",
       "    </tr>\n",
       "    <tr>\n",
       "      <th>5159</th>\n",
       "      <td>Yemen</td>\n",
       "      <td>subject.Countries</td>\n",
       "    </tr>\n",
       "    <tr>\n",
       "      <th>5182</th>\n",
       "      <td>Zambia</td>\n",
       "      <td>subject.Countries</td>\n",
       "    </tr>\n",
       "    <tr>\n",
       "      <th>5193</th>\n",
       "      <td>Zimbabwe</td>\n",
       "      <td>subject.Countries</td>\n",
       "    </tr>\n",
       "  </tbody>\n",
       "</table>\n",
       "<p>229 rows × 2 columns</p>\n",
       "</div>"
      ],
      "text/plain": [
       "             article           category\n",
       "2         %C3%85land  subject.Countries\n",
       "5          %C3%89ire  subject.Countries\n",
       "102         Abkhazia  subject.Countries\n",
       "109        Abu_Dhabi  subject.Countries\n",
       "141      Afghanistan  subject.Countries\n",
       "...              ...                ...\n",
       "5022       West_Bank  subject.Countries\n",
       "5031  Western_Sahara  subject.Countries\n",
       "5159           Yemen  subject.Countries\n",
       "5182          Zambia  subject.Countries\n",
       "5193        Zimbabwe  subject.Countries\n",
       "\n",
       "[229 rows x 2 columns]"
      ]
     },
     "execution_count": 71,
     "metadata": {},
     "output_type": "execute_result"
    }
   ],
   "source": [
    "countries = categories_grouped.get_group('subject.Countries')\n",
    "print(\"There are {} countries in the dataset.\".format(len(countries)))\n",
    "\n",
    "countries"
   ]
  },
  {
   "cell_type": "markdown",
   "id": "25a98333",
   "metadata": {},
   "source": [
    "## 3.A Continents"
   ]
  },
  {
   "cell_type": "markdown",
   "id": "22d3c255",
   "metadata": {},
   "source": [
    "We now have the list of all countries but it does not give us much information about the continent to which they belong, and therefore their location in the world. As a result, we are now going to add the continent information for each country.\\\n",
    "In order to do so, we are going to use the fact that each country article actually belongs to two different category. The first one is `subject.Countries` as shown before and the second one is more specific to the continent or region to which belongs the country. For example, a country in Europe belongs to the category `subject.Geography.European_Geography.European_Countries` and the US belong to the category `subject.Geography.North_American_Geography`."
   ]
  },
  {
   "cell_type": "markdown",
   "id": "9f6fb211",
   "metadata": {},
   "source": [
    "Grouping the countries belonging to the continents Europe, Asia, Africa, South America and Middle East is straighforward, as there exists a specific category for each. \n"
   ]
  },
  {
   "cell_type": "code",
   "execution_count": 97,
   "id": "4e11c410",
   "metadata": {},
   "outputs": [
    {
     "name": "stdout",
     "output_type": "stream",
     "text": [
      "There are 56 European countries.\n",
      "There are 37 Asian countries.\n",
      "There are 57 African countries.\n",
      "There are 48 Central/South American countries.\n",
      "There are 18 Middle Eastern countries.\n"
     ]
    }
   ],
   "source": [
    "#Regroup European countries\n",
    "European_countries= categories_grouped.get_group('subject.Geography.European_Geography.European_Countries')\n",
    "European_countries.insert(1, 'Continent', 'European')\n",
    "print('There are {} European countries.'.format(len(European_countries)))\n",
    "\n",
    "#Regroup Asian countries\n",
    "Asian_countries= categories_grouped.get_group('subject.Geography.Geography_of_Asia.Asian_Countries')\n",
    "Asian_countries.insert(1, 'Continent', 'Asian')\n",
    "print('There are {} Asian countries.'.format(len(Asian_countries)))\n",
    "\n",
    "#Regroup African countries\n",
    "African_countries= categories_grouped.get_group('subject.Geography.African_Geography.African_Countries')\n",
    "African_countries.insert(1, 'Continent', 'African')\n",
    "print('There are {} African countries.'.format(len(African_countries)))\n",
    "\n",
    "#Regroup South American countries \n",
    "SC_American_countries= categories_grouped.get_group('subject.Geography.Central_and_South_American_Geography.Central_and_South_American_Countries')\n",
    "SC_American_countries.insert(1, 'Continent', 'SC American')\n",
    "print('There are {} Central/South American countries.'.format(len(SC_American_countries)))\n",
    "\n",
    "#Regroup Middle East countries\n",
    "Mid_Eastern_countries= categories_grouped.get_group('subject.Geography.Geography_of_the_Middle_East.Middle_Eastern_Countries')\n",
    "Mid_Eastern_countries.insert(1, 'Continent', 'Middle Eastern')\n",
    "print('There are {} Middle Eastern countries.'.format(len(Mid_Eastern_countries)))\n"
   ]
  },
  {
   "cell_type": "markdown",
   "id": "ed2a0b54",
   "metadata": {},
   "source": [
    "However, for North American and Oceania/Australasia countries, one needs to do things a little bit differently. Indeed, there is no specific category for the North American (Oceania/Australasia) countries, and they are mixed up with regions, states, etc. in a bigger category `subject.Geography.North_American_Geography` (`subject.Geography.Geography_of_Oceania_Australasia`).\\\n",
    "Thus, in order to extract the countries from the other geographical regions, we first group together the North American (Oceania/Australasia) regions. Then, for each region, we check if this region is present in the `countries` dataframe. If it is present, this means that the region is a country, and therefore we can add it to a `North_American_countries` (`Oceania_Australasia_countries`) dataframe. \n"
   ]
  },
  {
   "cell_type": "code",
   "execution_count": 98,
   "id": "138fcfa5",
   "metadata": {},
   "outputs": [
    {
     "name": "stdout",
     "output_type": "stream",
     "text": [
      "There are 4 North American countries.\n"
     ]
    }
   ],
   "source": [
    "#Need to do it differently for North American countries, because there is no .North_American_Countries category\n",
    "North_American_geography= categories_grouped.get_group('subject.Geography.North_American_Geography') #Group together the North American regions\n",
    "North_American_countries = pd.DataFrame(columns = ['article','category']) #Create a North Amercian countries dataframe that is going to fill\n",
    "for idx, NA_geo in enumerate(North_American_geography['article']): #Check for all North American regions\n",
    "    if (NA_geo in countries['article'].unique()): #Check if the region is a country\n",
    "        North_American_countries= pd.concat([North_American_countries, North_American_geography[North_American_geography.article==NA_geo]] ,join='outer') #add the country to the dataframe\n",
    "\n",
    "North_American_countries.insert(1, 'Continent', 'North American')\n",
    "\n",
    "print('There are {} North American countries.'.format(len(North_American_countries)))"
   ]
  },
  {
   "cell_type": "code",
   "execution_count": 99,
   "id": "d160fd97",
   "metadata": {},
   "outputs": [
    {
     "name": "stdout",
     "output_type": "stream",
     "text": [
      "There are 15 Oceania/Australasia countries.\n"
     ]
    }
   ],
   "source": [
    "#Same for Oceania/Australasia continent\n",
    "Geography_of_Oceania_Australasia = categories_grouped.get_group('subject.Geography.Geography_of_Oceania_Australasia') #Group together the Oceania/Australasia \n",
    "Oceania_Australasia_countries = pd.DataFrame(columns = ['article','category']) #Group together the Oceania Australasia regions\n",
    "for idx, Oce_geo in enumerate(Geography_of_Oceania_Australasia['article']): #Check for all Oceania Australasia regions\n",
    "    if (Oce_geo in countries['article'].unique()): #Check if the region is a country\n",
    "        Oceania_Australasia_countries= pd.concat([Oceania_Australasia_countries, Geography_of_Oceania_Australasia[Geography_of_Oceania_Australasia.article==Oce_geo]] ,join='outer') #add the country to the dataframe\n",
    "\n",
    "Oceania_Australasia_countries.insert(1, 'Continent', 'Oceania Australasia')\n",
    "\n",
    "print('There are {} Oceania/Australasia countries.'.format(len(Oceania_Australasia_countries)))"
   ]
  },
  {
   "cell_type": "markdown",
   "id": "30d9c7ba",
   "metadata": {},
   "source": [
    "Now that we have the dataframes with the countries of each continent, we are going to add this information to the `countries` dataframe.\\\n",
    "In order to do so, we first concatenate the continents dataframes, and then merge this dataframe with the `countries` dataframe, on the `article` name column. The resulting dataframe `all_countries` countains the countries name (article name), their two type of catergory, as well as the name of the continent to which they belong."
   ]
  },
  {
   "cell_type": "code",
   "execution_count": 94,
   "id": "a4e3dffd",
   "metadata": {},
   "outputs": [
    {
     "data": {
      "text/html": [
       "<div>\n",
       "<style scoped>\n",
       "    .dataframe tbody tr th:only-of-type {\n",
       "        vertical-align: middle;\n",
       "    }\n",
       "\n",
       "    .dataframe tbody tr th {\n",
       "        vertical-align: top;\n",
       "    }\n",
       "\n",
       "    .dataframe thead th {\n",
       "        text-align: right;\n",
       "    }\n",
       "</style>\n",
       "<table border=\"1\" class=\"dataframe\">\n",
       "  <thead>\n",
       "    <tr style=\"text-align: right;\">\n",
       "      <th></th>\n",
       "      <th>article</th>\n",
       "      <th>category_x</th>\n",
       "      <th>Continent</th>\n",
       "      <th>category_y</th>\n",
       "    </tr>\n",
       "  </thead>\n",
       "  <tbody>\n",
       "    <tr>\n",
       "      <th>60</th>\n",
       "      <td>Dominican_Republic</td>\n",
       "      <td>subject.Countries</td>\n",
       "      <td>SC American</td>\n",
       "      <td>subject.Geography.Central_and_South_American_Geography.Central_and_South_American_Countries</td>\n",
       "    </tr>\n",
       "    <tr>\n",
       "      <th>127</th>\n",
       "      <td>Mali</td>\n",
       "      <td>subject.Countries</td>\n",
       "      <td>African</td>\n",
       "      <td>subject.Geography.African_Geography.African_Countries</td>\n",
       "    </tr>\n",
       "    <tr>\n",
       "      <th>13</th>\n",
       "      <td>Aruba</td>\n",
       "      <td>subject.Countries</td>\n",
       "      <td>SC American</td>\n",
       "      <td>subject.Geography.Central_and_South_American_Geography.Central_and_South_American_Countries</td>\n",
       "    </tr>\n",
       "    <tr>\n",
       "      <th>76</th>\n",
       "      <td>French_Guiana</td>\n",
       "      <td>subject.Countries</td>\n",
       "      <td>SC American</td>\n",
       "      <td>subject.Geography.Central_and_South_American_Geography.Central_and_South_American_Countries</td>\n",
       "    </tr>\n",
       "    <tr>\n",
       "      <th>50</th>\n",
       "      <td>Colombia</td>\n",
       "      <td>subject.Countries</td>\n",
       "      <td>SC American</td>\n",
       "      <td>subject.Geography.Central_and_South_American_Geography.Central_and_South_American_Countries</td>\n",
       "    </tr>\n",
       "    <tr>\n",
       "      <th>181</th>\n",
       "      <td>Sierra_Leone</td>\n",
       "      <td>subject.Countries</td>\n",
       "      <td>African</td>\n",
       "      <td>subject.Geography.African_Geography.African_Countries</td>\n",
       "    </tr>\n",
       "    <tr>\n",
       "      <th>81</th>\n",
       "      <td>Georgia_%28country%29</td>\n",
       "      <td>subject.Countries</td>\n",
       "      <td>European</td>\n",
       "      <td>subject.Geography.European_Geography.European_Countries</td>\n",
       "    </tr>\n",
       "    <tr>\n",
       "      <th>91</th>\n",
       "      <td>Guinea-Bissau</td>\n",
       "      <td>subject.Countries</td>\n",
       "      <td>African</td>\n",
       "      <td>subject.Geography.African_Geography.African_Countries</td>\n",
       "    </tr>\n",
       "    <tr>\n",
       "      <th>101</th>\n",
       "      <td>Iraq</td>\n",
       "      <td>subject.Countries</td>\n",
       "      <td>Middle Eastern</td>\n",
       "      <td>subject.Geography.Geography_of_the_Middle_East.Middle_Eastern_Countries</td>\n",
       "    </tr>\n",
       "    <tr>\n",
       "      <th>5</th>\n",
       "      <td>Albania</td>\n",
       "      <td>subject.Countries</td>\n",
       "      <td>European</td>\n",
       "      <td>subject.Geography.European_Geography.European_Countries</td>\n",
       "    </tr>\n",
       "  </tbody>\n",
       "</table>\n",
       "</div>"
      ],
      "text/plain": [
       "                   article         category_x       Continent  \\\n",
       "60      Dominican_Republic  subject.Countries     SC American   \n",
       "127                   Mali  subject.Countries         African   \n",
       "13                   Aruba  subject.Countries     SC American   \n",
       "76           French_Guiana  subject.Countries     SC American   \n",
       "50                Colombia  subject.Countries     SC American   \n",
       "181           Sierra_Leone  subject.Countries         African   \n",
       "81   Georgia_%28country%29  subject.Countries        European   \n",
       "91           Guinea-Bissau  subject.Countries         African   \n",
       "101                   Iraq  subject.Countries  Middle Eastern   \n",
       "5                  Albania  subject.Countries        European   \n",
       "\n",
       "                                                                                      category_y  \n",
       "60   subject.Geography.Central_and_South_American_Geography.Central_and_South_American_Countries  \n",
       "127                                        subject.Geography.African_Geography.African_Countries  \n",
       "13   subject.Geography.Central_and_South_American_Geography.Central_and_South_American_Countries  \n",
       "76   subject.Geography.Central_and_South_American_Geography.Central_and_South_American_Countries  \n",
       "50   subject.Geography.Central_and_South_American_Geography.Central_and_South_American_Countries  \n",
       "181                                        subject.Geography.African_Geography.African_Countries  \n",
       "81                                       subject.Geography.European_Geography.European_Countries  \n",
       "91                                         subject.Geography.African_Geography.African_Countries  \n",
       "101                      subject.Geography.Geography_of_the_Middle_East.Middle_Eastern_Countries  \n",
       "5                                        subject.Geography.European_Geography.European_Countries  "
      ]
     },
     "execution_count": 94,
     "metadata": {},
     "output_type": "execute_result"
    }
   ],
   "source": [
    "all_continents = pd.concat([European_countries, Asian_countries, African_countries, SC_American_countries, Mid_Eastern_countries, North_American_countries, Oceania_Australasia_countries])\n",
    "all_countries = countries.merge(all_continents, how='outer', on = ['article'])\n",
    "all_countries.sample(10)"
   ]
  },
  {
   "cell_type": "code",
   "execution_count": 93,
   "id": "799b3ded",
   "metadata": {},
   "outputs": [
    {
     "data": {
      "text/plain": [
       "article       0\n",
       "category_x    5\n",
       "Continent     0\n",
       "category_y    0\n",
       "dtype: int64"
      ]
     },
     "execution_count": 93,
     "metadata": {},
     "output_type": "execute_result"
    }
   ],
   "source": [
    "all_countries.isna().sum()"
   ]
  },
  {
   "cell_type": "markdown",
   "id": "cbc7132d",
   "metadata": {},
   "source": [
    "With the cell above, we notice that 5 countries have a NaN value in their `category_x` column. This means that these countries did not belong to the category `subject.Countries`, but still belonged to the country category of a continent.\\\n",
    "An example of country in this situation is Mayotte. Mayotte is an island located between Madagascar and Northeastern Mozambique. So it is located in the in the African continent. However, Mayotte is not a country in itself but is actually an overseas department and region of France. Thus, it is not a country in itself but is still categorized as an African country.\\\n",
    "For our analysis, we decided keep these regions, and to consider them as independent countries. Indeed, maybe France will be seen as one of the most influential countries, but the small island of Mayotte doesn't really play a role in this influence, as it is in a completelly different geographical region. "
   ]
  },
  {
   "cell_type": "markdown",
   "id": "2835cf49-0405-4335-8af6-b105c4bc82a6",
   "metadata": {},
   "source": [
    "With the dataframe containing all the countries and the continent to which they belong, we can now look at their repartition. The following histogram gives the repartition of the number of countries per continent."
   ]
  },
  {
   "cell_type": "code",
   "execution_count": 127,
   "id": "ddfddded-7f3a-42d9-835e-3b5a4a3a491f",
   "metadata": {},
   "outputs": [
    {
     "data": {
      "image/png": "[encoded data removed]",
      "text/plain": [
       "<Figure size 640x480 with 1 Axes>"
      ]
     },
     "metadata": {},
     "output_type": "display_data"
    }
   ],
   "source": [
    "all_countries['Continent'].value_counts().plot(kind=\"bar\")\n",
    "plt.xlabel('Continent')\n",
    "plt.ylabel('Absolute frequency of countries')\n",
    "plt.title('Repartition of countries per continent');\n"
   ]
  },
  {
   "cell_type": "markdown",
   "id": "a6485323",
   "metadata": {},
   "source": [
    "The histogram above shows that Africa and Eurpoe both possess the highest number of countries, with more then 50 countries each. On the other hand, North America has the smallest number of countries, with only 4 countries.\\\n",
    "However, does the number of countries in the continent really has an importance, when looking at the influence of a certain continent ? Africa has the highest number of countries, but are these countries influencial ? It is what we are going to see in the next section. "
   ]
  },
  {
   "cell_type": "markdown",
   "id": "f5808e5a",
   "metadata": {},
   "source": [
    "## 3.B What are the most important countries according to Wikipedia's users?\n",
    "\n",
    "Using the centrality computed before, one could determine what countries are the most central in the graph created from the paths. This can provide us with interesting information on the importance of different countries for Wikipedia's users. Are some countries more important than others?"
   ]
  },
  {
   "cell_type": "markdown",
   "id": "ce60b226",
   "metadata": {},
   "source": [
    "To this end, we filter the dataframe with the centralities obtained before to keep only the countries."
   ]
  },
  {
   "cell_type": "code",
   "execution_count": 108,
   "id": "718e5b01",
   "metadata": {},
   "outputs": [
    {
     "name": "stdout",
     "output_type": "stream",
     "text": [
      "There are 228 countries in the dataset.\n"
     ]
    },
    {
     "data": {
      "text/html": [
       "<div>\n",
       "<style scoped>\n",
       "    .dataframe tbody tr th:only-of-type {\n",
       "        vertical-align: middle;\n",
       "    }\n",
       "\n",
       "    .dataframe tbody tr th {\n",
       "        vertical-align: top;\n",
       "    }\n",
       "\n",
       "    .dataframe thead th {\n",
       "        text-align: right;\n",
       "    }\n",
       "</style>\n",
       "<table border=\"1\" class=\"dataframe\">\n",
       "  <thead>\n",
       "    <tr style=\"text-align: right;\">\n",
       "      <th></th>\n",
       "      <th>country</th>\n",
       "      <th>centrality</th>\n",
       "      <th>category</th>\n",
       "    </tr>\n",
       "  </thead>\n",
       "  <tbody>\n",
       "    <tr>\n",
       "      <th>24</th>\n",
       "      <td>United_States</td>\n",
       "      <td>2.572896</td>\n",
       "      <td>subject.Countries</td>\n",
       "    </tr>\n",
       "    <tr>\n",
       "      <th>245</th>\n",
       "      <td>United_Kingdom</td>\n",
       "      <td>2.558441</td>\n",
       "      <td>subject.Countries</td>\n",
       "    </tr>\n",
       "    <tr>\n",
       "      <th>793</th>\n",
       "      <td>Norway</td>\n",
       "      <td>2.530908</td>\n",
       "      <td>subject.Countries</td>\n",
       "    </tr>\n",
       "    <tr>\n",
       "      <th>190</th>\n",
       "      <td>Germany</td>\n",
       "      <td>2.529179</td>\n",
       "      <td>subject.Countries</td>\n",
       "    </tr>\n",
       "    <tr>\n",
       "      <th>678</th>\n",
       "      <td>Mexico</td>\n",
       "      <td>2.501755</td>\n",
       "      <td>subject.Countries</td>\n",
       "    </tr>\n",
       "    <tr>\n",
       "      <th>758</th>\n",
       "      <td>Canada</td>\n",
       "      <td>2.498474</td>\n",
       "      <td>subject.Countries</td>\n",
       "    </tr>\n",
       "    <tr>\n",
       "      <th>416</th>\n",
       "      <td>Russia</td>\n",
       "      <td>2.495679</td>\n",
       "      <td>subject.Countries</td>\n",
       "    </tr>\n",
       "    <tr>\n",
       "      <th>17</th>\n",
       "      <td>Italy</td>\n",
       "      <td>2.485946</td>\n",
       "      <td>subject.Countries</td>\n",
       "    </tr>\n",
       "    <tr>\n",
       "      <th>60</th>\n",
       "      <td>France</td>\n",
       "      <td>2.480527</td>\n",
       "      <td>subject.Countries</td>\n",
       "    </tr>\n",
       "    <tr>\n",
       "      <th>482</th>\n",
       "      <td>South_Africa</td>\n",
       "      <td>2.473290</td>\n",
       "      <td>subject.Countries</td>\n",
       "    </tr>\n",
       "  </tbody>\n",
       "</table>\n",
       "</div>"
      ],
      "text/plain": [
       "            country  centrality           category\n",
       "24    United_States    2.572896  subject.Countries\n",
       "245  United_Kingdom    2.558441  subject.Countries\n",
       "793          Norway    2.530908  subject.Countries\n",
       "190         Germany    2.529179  subject.Countries\n",
       "678          Mexico    2.501755  subject.Countries\n",
       "758          Canada    2.498474  subject.Countries\n",
       "416          Russia    2.495679  subject.Countries\n",
       "17            Italy    2.485946  subject.Countries\n",
       "60           France    2.480527  subject.Countries\n",
       "482    South_Africa    2.473290  subject.Countries"
      ]
     },
     "execution_count": 108,
     "metadata": {},
     "output_type": "execute_result"
    }
   ],
   "source": [
    "centralities_grouped = sorted_centrailities.groupby(by=\"category\")\n",
    "countries_centralities = centralities_grouped.get_group('subject.Countries')\n",
    "countries_centralities = countries_centralities.rename(columns={'article': 'country'})\n",
    "print(\"There are {} countries in the dataset.\".format(countries_centralities.shape[0]))\n",
    "countries_centralities.head(10)"
   ]
  },
  {
   "cell_type": "markdown",
   "id": "8c5294dd",
   "metadata": {},
   "source": [
    "The idea is then to create a map to visualize the centrality/importance of the countries. The most impactful visualization for such data is probably a cartogram, the latter is however not easily implemented. Thus, as a first step, we will use a choropleth map. Latter in this project, a cartogram could be created."
   ]
  },
  {
   "cell_type": "markdown",
   "id": "ff2915bc",
   "metadata": {},
   "source": [
    "To create the map, we will use `plotly.graph_objects`. However, to plot the countries we need their alpha-3 (iso-3) code. The latter can be found in many datasets, we used the following one :"
   ]
  },
  {
   "cell_type": "code",
   "execution_count": 109,
   "id": "a879e792",
   "metadata": {},
   "outputs": [],
   "source": [
    "iso = pd.read_csv('https://github.com/Dinuks/country-nationality-list/raw/master/countries.csv')\n",
    "iso = iso[[\"alpha_3_code\", \"en_short_name\"]]\n",
    "iso.columns = [\"iso3\", \"country\"]"
   ]
  },
  {
   "cell_type": "markdown",
   "id": "00271b49",
   "metadata": {},
   "source": [
    "By comparing the Country names in our dataset and in this one, we observe that some countries have different designations.\n",
    "\n",
    "To solve this issue, we first replace the underscores in the names of the coutries and then manually determine the countries with different names in the two datasets. We change the names in the second dataframe to match with the first one. \n"
   ]
  },
  {
   "cell_type": "code",
   "execution_count": 110,
   "id": "0031302a",
   "metadata": {},
   "outputs": [],
   "source": [
    "# Remove the underscore in the names of the countries\n",
    "countries_centralities['country'] = countries_centralities['country'].apply(lambda x : x.replace('_', ' '))"
   ]
  },
  {
   "cell_type": "code",
   "execution_count": 111,
   "id": "d7c94f4d",
   "metadata": {},
   "outputs": [],
   "source": [
    "iso['country'] = iso['country'].replace(['United States of America'], 'United States')\n",
    "iso['country'] = iso['country'].replace(['United Kingdom of Great Britain and Northern Ireland'], 'United Kingdom')\n",
    "iso['country'] = iso['country'].replace(['Russian Federation'], 'Russia')\n",
    "#iso['country'] = iso['country'].replace(['Ireland'], 'Republic of Ireland')\n",
    "iso['country'] = iso['country'].replace(['China'], 'Republic of China')\n",
    "iso['country'] = iso['country'].replace(['Bolivia (Plurinational State of)'], 'Bolivia')\n",
    "iso['country'] = iso['country'].replace(['Vatican City State'], 'Vatican City')\n",
    "iso['country'] = iso['country'].replace([\"Korea (Democratic People's Republic of)\"], 'North Korea')\n",
    "iso['country'] = iso['country'].replace([\"Korea (Republic of)\"], 'South Korea')\n",
    "iso['country'] = iso['country'].replace([\"Tanzania, United Republic of\"], 'Tanzania')\n",
    "iso['country'] = iso['country'].replace([\"Macedonia (the former Yugoslav Republic of)\"], 'Republic of Macedonia')\n",
    "iso['country'] = iso['country'].replace([\"Georgia\"], 'Georgia %28country%29')\n",
    "iso['country'] = iso['country'].replace([\"Taiwan, Province of China\"], 'Taiwan')\n",
    "iso['country'] = iso['country'].replace([\"Côte d'Ivoire\"], 'C%C3%B4te d%27Ivoire')\n",
    "iso['country'] = iso['country'].replace([\"Gambia\"], 'The Gambia')\n",
    "iso['country'] = iso['country'].replace([\"Venezuela (Bolivarian Republic of)\"], 'Venezuela')\n",
    "iso['country'] = iso['country'].replace([\"Bahamas\"], 'The Bahamas')\n",
    "iso['country'] = iso['country'].replace([\"Moldova (Republic of)\"], 'Moldova')\n",
    "iso['country'] = iso['country'].replace([\"Falkland Islands (Malvinas)\"], 'Falkland Islands')\n",
    "iso['country'] = iso['country'].replace([\"Lao People's Democratic Republic\"], 'Laos')\n",
    "iso['country'] = iso['country'].replace([\"Syrian Arab Republic\"], 'Syria')\n",
    "iso['country'] = iso['country'].replace([\"Micronesia (Federated States of)\"], 'Federated States of Micronesia')\n",
    "iso['country'] = iso['country'].replace([\"Palestine, State of\"], 'Palestinian territories')\n",
    "iso['country'] = iso['country'].replace([\"Saint Helena, Ascension and Tristan da Cunha\"], 'Saint Helena')\n",
    "iso['country'] = iso['country'].replace([\"Sao Tome and Principe\"], 'S%C3%A3o Tom%C3%A9 and Pr%C3%ADncipe')\n",
    "iso['country'] = iso['country'].replace([\"Timor-Leste\"], 'East Timor')\n",
    "iso['country'] = iso['country'].replace([\"Cocos (Keeling) Islands\"], 'Cocos %28Keeling%29 Islands')\n",
    "iso['country'] = iso['country'].replace([\"United Arab Emirates\"], 'Dubai')\n",
    "iso['country'] = iso['country'].replace([\"Cabo Verde\"], 'Cape Verde')\n",
    "iso['country'] = iso['country'].replace([\"Åland Islands\"], '%C3%85land')\n",
    "iso['country'] = iso['country'].replace([\"Brunei Darussalam\"], 'Brunei')\n",
    "iso['country'] = iso['country'].replace([\"Réunion\"], 'R%C3%A9union')\n",
    "iso['country'] = iso['country'].replace([\"Serbia\"], 'Serbia and Montenegro')\n",
    "#iso['country'] = iso['country'].replace([\"Cyprus\"], 'Turkish Republic of Northern Cyprus'"
   ]
  },
  {
   "cell_type": "markdown",
   "id": "d5e35a30",
   "metadata": {},
   "source": [
    "Now we can merge the two dataframe to obtain, for each country, their alpha-3 code. Note that some country appear only in one of the two datasets, leading to Nan values in the resulting dataframe. We simply remove these countries."
   ]
  },
  {
   "cell_type": "code",
   "execution_count": 112,
   "id": "39191e8b",
   "metadata": {
    "scrolled": false
   },
   "outputs": [
    {
     "data": {
      "text/html": [
       "<div>\n",
       "<style scoped>\n",
       "    .dataframe tbody tr th:only-of-type {\n",
       "        vertical-align: middle;\n",
       "    }\n",
       "\n",
       "    .dataframe tbody tr th {\n",
       "        vertical-align: top;\n",
       "    }\n",
       "\n",
       "    .dataframe thead th {\n",
       "        text-align: right;\n",
       "    }\n",
       "</style>\n",
       "<table border=\"1\" class=\"dataframe\">\n",
       "  <thead>\n",
       "    <tr style=\"text-align: right;\">\n",
       "      <th></th>\n",
       "      <th>country</th>\n",
       "      <th>centrality</th>\n",
       "      <th>category</th>\n",
       "      <th>iso3</th>\n",
       "    </tr>\n",
       "  </thead>\n",
       "  <tbody>\n",
       "    <tr>\n",
       "      <th>0</th>\n",
       "      <td>United States</td>\n",
       "      <td>2.572896</td>\n",
       "      <td>subject.Countries</td>\n",
       "      <td>USA</td>\n",
       "    </tr>\n",
       "    <tr>\n",
       "      <th>1</th>\n",
       "      <td>United Kingdom</td>\n",
       "      <td>2.558441</td>\n",
       "      <td>subject.Countries</td>\n",
       "      <td>GBR</td>\n",
       "    </tr>\n",
       "    <tr>\n",
       "      <th>2</th>\n",
       "      <td>Norway</td>\n",
       "      <td>2.530908</td>\n",
       "      <td>subject.Countries</td>\n",
       "      <td>NOR</td>\n",
       "    </tr>\n",
       "    <tr>\n",
       "      <th>3</th>\n",
       "      <td>Germany</td>\n",
       "      <td>2.529179</td>\n",
       "      <td>subject.Countries</td>\n",
       "      <td>DEU</td>\n",
       "    </tr>\n",
       "    <tr>\n",
       "      <th>4</th>\n",
       "      <td>Mexico</td>\n",
       "      <td>2.501755</td>\n",
       "      <td>subject.Countries</td>\n",
       "      <td>MEX</td>\n",
       "    </tr>\n",
       "  </tbody>\n",
       "</table>\n",
       "</div>"
      ],
      "text/plain": [
       "          country  centrality           category iso3\n",
       "0   United States    2.572896  subject.Countries  USA\n",
       "1  United Kingdom    2.558441  subject.Countries  GBR\n",
       "2          Norway    2.530908  subject.Countries  NOR\n",
       "3         Germany    2.529179  subject.Countries  DEU\n",
       "4          Mexico    2.501755  subject.Countries  MEX"
      ]
     },
     "execution_count": 112,
     "metadata": {},
     "output_type": "execute_result"
    }
   ],
   "source": [
    "countries = countries_centralities.merge(iso, on='country', how='left')\n",
    "countries = countries.dropna() \n",
    "countries.head()"
   ]
  },
  {
   "cell_type": "markdown",
   "id": "637c1397",
   "metadata": {},
   "source": [
    "Eventually, we can plot the map:"
   ]
  },
  {
   "cell_type": "code",
   "execution_count": 113,
   "id": "daea3d12",
   "metadata": {
    "scrolled": true
   },
   "outputs": [
    {
     "data": {
      "application/vnd.plotly.v1+json": {
       "config": {
        "plotlyServerURL": "https://plot.ly"
       },
       "data": [
        {
         "autocolorscale": false,
         "colorbar": {
          "tickprefix": "",
          "title": {
           "text": "centrality"
          }
         },
         "colorscale": [
          [
           0,
           "#30123b"
          ],
          [
           0.07142857142857142,
           "#4145ab"
          ],
          [
           0.14285714285714285,
           "#4675ed"
          ],
          [
           0.21428571428571427,
           "#39a2fc"
          ],
          [
           0.2857142857142857,
           "#1bcfd4"
          ],
          [
           0.35714285714285715,
           "#24eca6"
          ],
          [
           0.42857142857142855,
           "#61fc6c"
          ],
          [
           0.5,
           "#a4fc3b"
          ],
          [
           0.5714285714285714,
           "#d1e834"
          ],
          [
           0.6428571428571429,
           "#f3c63a"
          ],
          [
           0.7142857142857143,
           "#fe9b2d"
          ],
          [
           0.7857142857142857,
           "#f36315"
          ],
          [
           0.8571428571428571,
           "#d93806"
          ],
          [
           0.9285714285714286,
           "#b11901"
          ],
          [
           1,
           "#7a0402"
          ]
         ],
         "locations": [
          "USA",
          "GBR",
          "NOR",
          "DEU",
          "MEX",
          "CAN",
          "RUS",
          "ITA",
          "FRA",
          "ZAF",
          "JPN",
          "IND",
          "NLD",
          "ESP",
          "ISL",
          "EGY",
          "GRC",
          "AUS",
          "DNK",
          "IRL",
          "IRQ",
          "KEN",
          "SWE",
          "NZL",
          "BRA",
          "AUT",
          "ARG",
          "TUR",
          "BEL",
          "POL",
          "PRI",
          "BOL",
          "ETH",
          "ZWE",
          "PRT",
          "PER",
          "DZA",
          "GRL",
          "PAK",
          "ECU",
          "RWA",
          "CHE",
          "FIN",
          "MLI",
          "MDG",
          "VNM",
          "IDN",
          "NPL",
          "IRN",
          "VAT",
          "CZE",
          "NGA",
          "SDN",
          "CHL",
          "CUB",
          "CHN",
          "ISR",
          "KWT",
          "MAR",
          "UKR",
          "ROU",
          "TCD",
          "HKG",
          "PHL",
          "TZA",
          "KAZ",
          "BIH",
          "LUX",
          "HUN",
          "SOM",
          "GIN",
          "GHA",
          "PRK",
          "ESH",
          "MYS",
          "COL",
          "MCO",
          "SAU",
          "MKD",
          "UZB",
          "JAM",
          "ZMB",
          "MWI",
          "NER",
          "GEO",
          "JOR",
          "TWN",
          "TKM",
          "URY",
          "BGR",
          "LBY",
          "CIV",
          "MOZ",
          "GAB",
          "KOR",
          "CRI",
          "GTM",
          "LKA",
          "AFG",
          "BLR",
          "BFA",
          "UGA",
          "GMB",
          "SLE",
          "LBR",
          "BMU",
          "PRY",
          "VEN",
          "CYP",
          "PAN",
          "SVK",
          "BWA",
          "ALB",
          "THA",
          "GUF",
          "MMR",
          "BGD",
          "BHS",
          "DOM",
          "HTI",
          "SVN",
          "MDA",
          "AZE",
          "MUS",
          "SLB",
          "TGO",
          "BEN",
          "LSO",
          "TUN",
          "KHM",
          "BTN",
          "BRB",
          "FLK",
          "BLZ",
          "GUY",
          "LVA",
          "QAT",
          "KGZ",
          "LAO",
          "EST",
          "PNG",
          "SLV",
          "SYR",
          "CMR",
          "HRV",
          "MSR",
          "DMA",
          "TTO",
          "BDI",
          "YEM",
          "SGP",
          "WSM",
          "COK",
          "MNE",
          "SMR",
          "NAM",
          "LTU",
          "LBN",
          "NIC",
          "CAF",
          "SWZ",
          "HND",
          "AGO",
          "GUM",
          "FSM",
          "TCA",
          "ARM",
          "PSE",
          "MLT",
          "MRT",
          "LIE",
          "SHN",
          "GNQ",
          "SEN",
          "STP",
          "GNB",
          "FJI",
          "VUT",
          "GRD",
          "ABW",
          "SUR",
          "AND",
          "TLS",
          "CCK",
          "OMN",
          "ARE",
          "GLP",
          "PYF",
          "CPV",
          "ALA",
          "CYM",
          "DJI",
          "BRN",
          "TJK",
          "ERI",
          "BHR",
          "MDV",
          "CXR",
          "MTQ",
          "ATG",
          "KNA",
          "SRB",
          "VCT",
          "TUV",
          "LCA",
          "TON",
          "REU",
          "IOT",
          "AIA"
         ],
         "marker": {
          "line": {
           "color": "darkgray",
           "width": 0.5
          }
         },
         "reversescale": false,
         "text": [
          "United States",
          "United Kingdom",
          "Norway",
          "Germany",
          "Mexico",
          "Canada",
          "Russia",
          "Italy",
          "France",
          "South Africa",
          "Japan",
          "India",
          "Netherlands",
          "Spain",
          "Iceland",
          "Egypt",
          "Greece",
          "Australia",
          "Denmark",
          "Ireland",
          "Iraq",
          "Kenya",
          "Sweden",
          "New Zealand",
          "Brazil",
          "Austria",
          "Argentina",
          "Turkey",
          "Belgium",
          "Poland",
          "Puerto Rico",
          "Bolivia",
          "Ethiopia",
          "Zimbabwe",
          "Portugal",
          "Peru",
          "Algeria",
          "Greenland",
          "Pakistan",
          "Ecuador",
          "Rwanda",
          "Switzerland",
          "Finland",
          "Mali",
          "Madagascar",
          "Vietnam",
          "Indonesia",
          "Nepal",
          "Iran",
          "Vatican City",
          "Czech Republic",
          "Nigeria",
          "Sudan",
          "Chile",
          "Cuba",
          "Republic of China",
          "Israel",
          "Kuwait",
          "Morocco",
          "Ukraine",
          "Romania",
          "Chad",
          "Hong Kong",
          "Philippines",
          "Tanzania",
          "Kazakhstan",
          "Bosnia and Herzegovina",
          "Luxembourg",
          "Hungary",
          "Somalia",
          "Guinea",
          "Ghana",
          "North Korea",
          "Western Sahara",
          "Malaysia",
          "Colombia",
          "Monaco",
          "Saudi Arabia",
          "Republic of Macedonia",
          "Uzbekistan",
          "Jamaica",
          "Zambia",
          "Malawi",
          "Niger",
          "Georgia %28country%29",
          "Jordan",
          "Taiwan",
          "Turkmenistan",
          "Uruguay",
          "Bulgaria",
          "Libya",
          "C%C3%B4te d%27Ivoire",
          "Mozambique",
          "Gabon",
          "South Korea",
          "Costa Rica",
          "Guatemala",
          "Sri Lanka",
          "Afghanistan",
          "Belarus",
          "Burkina Faso",
          "Uganda",
          "The Gambia",
          "Sierra Leone",
          "Liberia",
          "Bermuda",
          "Paraguay",
          "Venezuela",
          "Cyprus",
          "Panama",
          "Slovakia",
          "Botswana",
          "Albania",
          "Thailand",
          "French Guiana",
          "Myanmar",
          "Bangladesh",
          "The Bahamas",
          "Dominican Republic",
          "Haiti",
          "Slovenia",
          "Moldova",
          "Azerbaijan",
          "Mauritius",
          "Solomon Islands",
          "Togo",
          "Benin",
          "Lesotho",
          "Tunisia",
          "Cambodia",
          "Bhutan",
          "Barbados",
          "Falkland Islands",
          "Belize",
          "Guyana",
          "Latvia",
          "Qatar",
          "Kyrgyzstan",
          "Laos",
          "Estonia",
          "Papua New Guinea",
          "El Salvador",
          "Syria",
          "Cameroon",
          "Croatia",
          "Montserrat",
          "Dominica",
          "Trinidad and Tobago",
          "Burundi",
          "Yemen",
          "Singapore",
          "Samoa",
          "Cook Islands",
          "Montenegro",
          "San Marino",
          "Namibia",
          "Lithuania",
          "Lebanon",
          "Nicaragua",
          "Central African Republic",
          "Swaziland",
          "Honduras",
          "Angola",
          "Guam",
          "Federated States of Micronesia",
          "Turks and Caicos Islands",
          "Armenia",
          "Palestinian territories",
          "Malta",
          "Mauritania",
          "Liechtenstein",
          "Saint Helena",
          "Equatorial Guinea",
          "Senegal",
          "S%C3%A3o Tom%C3%A9 and Pr%C3%ADncipe",
          "Guinea-Bissau",
          "Fiji",
          "Vanuatu",
          "Grenada",
          "Aruba",
          "Suriname",
          "Andorra",
          "East Timor",
          "Cocos %28Keeling%29 Islands",
          "Oman",
          "Dubai",
          "Guadeloupe",
          "French Polynesia",
          "Cape Verde",
          "%C3%85land",
          "Cayman Islands",
          "Djibouti",
          "Brunei",
          "Tajikistan",
          "Eritrea",
          "Bahrain",
          "Maldives",
          "Christmas Island",
          "Martinique",
          "Antigua and Barbuda",
          "Saint Kitts and Nevis",
          "Serbia and Montenegro",
          "Saint Vincent and the Grenadines",
          "Tuvalu",
          "Saint Lucia",
          "Tonga",
          "R%C3%A9union",
          "British Indian Ocean Territory",
          "Anguilla"
         ],
         "type": "choropleth",
         "z": [
          2.5728956090387087,
          2.5584408848876543,
          2.5309077495183567,
          2.5291786407040373,
          2.501755046473508,
          2.4984741740764784,
          2.495679050960056,
          2.4859463416457075,
          2.480526503013924,
          2.473290180330257,
          2.4525325840383223,
          2.4465883607666776,
          2.4457507641785305,
          2.427657712509149,
          2.4239808852640774,
          2.4204427235597517,
          2.4113220623797984,
          2.3938179829763695,
          2.3909631294549256,
          2.3855525405271973,
          2.3823036083902163,
          2.381373357985879,
          2.3747283942079336,
          2.2929437976015064,
          2.2929089494638557,
          2.280721128504623,
          2.2764568336230773,
          2.2730562375445986,
          2.2592331043493292,
          2.2591101699450227,
          2.2512455867814585,
          2.217724803211803,
          2.2150062994896813,
          2.1965055240103304,
          2.191662364201476,
          2.19132885692129,
          2.1803356890036163,
          2.179523210867179,
          2.1394062260526723,
          2.1393788905171003,
          2.129291018308516,
          2.114633667001717,
          2.1129647230770767,
          2.1008810141645706,
          2.100776948933377,
          2.0949813385033096,
          2.0947690373047836,
          2.0935896773575102,
          2.0884987897805716,
          2.087621936022957,
          2.0787648147095488,
          2.0678078127002886,
          2.067456018974901,
          2.0645107692105555,
          2.0481400429448993,
          2.0274290664044883,
          2.0189281294654906,
          2.013274029043711,
          2.006975756032683,
          1.9974100224624,
          1.9952415392065204,
          1.9846988778740868,
          1.9746490036271738,
          1.966655920702063,
          1.9577449476644886,
          1.953907421944594,
          1.9411363072766874,
          1.941033818256432,
          1.940977855408591,
          1.93169307384151,
          1.9314798120320842,
          1.9311201969776386,
          1.930538130109511,
          1.9279238348157377,
          1.9275637604410352,
          1.9012888363762943,
          1.8935090294854442,
          1.8871108743666074,
          1.8760283674526452,
          1.8740327861004404,
          1.8684472524447755,
          1.8673179323685636,
          1.8671893030381428,
          1.8669075006486733,
          1.8396123267002649,
          1.835924412777298,
          1.815393977793612,
          1.8131600573558482,
          1.8086131655853168,
          1.7957455376692526,
          1.7910585047103138,
          1.7879230715217518,
          1.7874326905162679,
          1.7873182630740887,
          1.7828195843158143,
          1.7659185645534408,
          1.7656009146703548,
          1.73881534122332,
          1.7313931039449482,
          1.6944512789029358,
          1.6870467724492169,
          1.6869549842849145,
          1.686937539230741,
          1.6868826871072466,
          1.6866577258176207,
          1.6842002779446514,
          1.6635927202387022,
          1.6402111716664376,
          1.6214055059833912,
          1.5711026256379153,
          1.5619400001504384,
          1.5561995151618073,
          1.5555519534554973,
          1.5525755028414532,
          1.5357302833013529,
          1.5178529183931784,
          1.5177795375682128,
          1.4885303692053793,
          1.4833305060355697,
          1.4833012911782208,
          1.461280533646115,
          1.3818767035818973,
          1.37788709091163,
          1.3776978370837483,
          1.377369287753351,
          1.3772139812869382,
          1.3771115750109921,
          1.3769945667156538,
          1.3769342277900651,
          1.376099811664324,
          1.3739613064751672,
          1.3701668395356905,
          1.3701276201991923,
          1.363938809312009,
          1.3615167394792533,
          1.3603590105656116,
          1.3524183256762057,
          1.3453796362182888,
          1.3306757729886851,
          1.3279001015093168,
          1.2338258424760966,
          1.2252510479580907,
          1.1257455555989182,
          1.1250317060656578,
          1.1231643133168365,
          1.1221906521321863,
          1.1208478198970362,
          1.1205767217530325,
          1.1197553318656703,
          1.1196643909928696,
          1.1152541715914988,
          1.1139903759367102,
          1.1139543251685275,
          1.1088614761225097,
          1.1086049166029086,
          1.1067809842897973,
          1.1004684899389092,
          1.0919545581892593,
          1.0710812316806555,
          1.0585610226856152,
          1.0583852611916238,
          1.0275495826142447,
          1.0179636151040123,
          0.9917197290973407,
          0.8712709760433903,
          0.8532605914521485,
          0.8352141549209956,
          0.7524397951171725,
          0.7211687894506165,
          0.7203218462491013,
          0.7191060898323692,
          0.7181243618991391,
          0.7178935048232148,
          0.7178664949015667,
          0.7177737004993962,
          0.71741097221458,
          0.715447152881476,
          0.7152878557766852,
          0.714012818259555,
          0.7133645278957644,
          0.7125627561317047,
          0.7123618873853511,
          0.7093189934721488,
          0.7052479611711872,
          0.7043554736318342,
          0.7008495677127059,
          0.6959582073743225,
          0.6955113068316169,
          0.6917675830373122,
          0.6785580402478735,
          0.6716712580282991,
          0.65867850013373,
          0.6581621162492064,
          0.6509651308586916,
          0.6413738264176083,
          0.6142160310484334,
          0.0004828585224529213,
          0.00024142926122646064,
          0.00024142926122646064,
          0.00024142926122646064,
          0,
          0,
          0,
          0,
          0,
          0,
          0,
          0,
          0
         ]
        }
       ],
       "layout": {
        "geo": {
         "projection": {
          "type": "equirectangular"
         },
         "showcoastlines": false,
         "showframe": false
        },
        "template": {
         "data": {
          "bar": [
           {
            "error_x": {
             "color": "#2a3f5f"
            },
            "error_y": {
             "color": "#2a3f5f"
            },
            "marker": {
             "line": {
              "color": "#E5ECF6",
              "width": 0.5
             },
             "pattern": {
              "fillmode": "overlay",
              "size": 10,
              "solidity": 0.2
             }
            },
            "type": "bar"
           }
          ],
          "barpolar": [
           {
            "marker": {
             "line": {
              "color": "#E5ECF6",
              "width": 0.5
             },
             "pattern": {
              "fillmode": "overlay",
              "size": 10,
              "solidity": 0.2
             }
            },
            "type": "barpolar"
           }
          ],
          "carpet": [
           {
            "aaxis": {
             "endlinecolor": "#2a3f5f",
             "gridcolor": "white",
             "linecolor": "white",
             "minorgridcolor": "white",
             "startlinecolor": "#2a3f5f"
            },
            "baxis": {
             "endlinecolor": "#2a3f5f",
             "gridcolor": "white",
             "linecolor": "white",
             "minorgridcolor": "white",
             "startlinecolor": "#2a3f5f"
            },
            "type": "carpet"
           }
          ],
          "choropleth": [
           {
            "colorbar": {
             "outlinewidth": 0,
             "ticks": ""
            },
            "type": "choropleth"
           }
          ],
          "contour": [
           {
            "colorbar": {
             "outlinewidth": 0,
             "ticks": ""
            },
            "colorscale": [
             [
              0,
              "#0d0887"
             ],
             [
              0.1111111111111111,
              "#46039f"
             ],
             [
              0.2222222222222222,
              "#7201a8"
             ],
             [
              0.3333333333333333,
              "#9c179e"
             ],
             [
              0.4444444444444444,
              "#bd3786"
             ],
             [
              0.5555555555555556,
              "#d8576b"
             ],
             [
              0.6666666666666666,
              "#ed7953"
             ],
             [
              0.7777777777777778,
              "#fb9f3a"
             ],
             [
              0.8888888888888888,
              "#fdca26"
             ],
             [
              1,
              "#f0f921"
             ]
            ],
            "type": "contour"
           }
          ],
          "contourcarpet": [
           {
            "colorbar": {
             "outlinewidth": 0,
             "ticks": ""
            },
            "type": "contourcarpet"
           }
          ],
          "heatmap": [
           {
            "colorbar": {
             "outlinewidth": 0,
             "ticks": ""
            },
            "colorscale": [
             [
              0,
              "#0d0887"
             ],
             [
              0.1111111111111111,
              "#46039f"
             ],
             [
              0.2222222222222222,
              "#7201a8"
             ],
             [
              0.3333333333333333,
              "#9c179e"
             ],
             [
              0.4444444444444444,
              "#bd3786"
             ],
             [
              0.5555555555555556,
              "#d8576b"
             ],
             [
              0.6666666666666666,
              "#ed7953"
             ],
             [
              0.7777777777777778,
              "#fb9f3a"
             ],
             [
              0.8888888888888888,
              "#fdca26"
             ],
             [
              1,
              "#f0f921"
             ]
            ],
            "type": "heatmap"
           }
          ],
          "heatmapgl": [
           {
            "colorbar": {
             "outlinewidth": 0,
             "ticks": ""
            },
            "colorscale": [
             [
              0,
              "#0d0887"
             ],
             [
              0.1111111111111111,
              "#46039f"
             ],
             [
              0.2222222222222222,
              "#7201a8"
             ],
             [
              0.3333333333333333,
              "#9c179e"
             ],
             [
              0.4444444444444444,
              "#bd3786"
             ],
             [
              0.5555555555555556,
              "#d8576b"
             ],
             [
              0.6666666666666666,
              "#ed7953"
             ],
             [
              0.7777777777777778,
              "#fb9f3a"
             ],
             [
              0.8888888888888888,
              "#fdca26"
             ],
             [
              1,
              "#f0f921"
             ]
            ],
            "type": "heatmapgl"
           }
          ],
          "histogram": [
           {
            "marker": {
             "pattern": {
              "fillmode": "overlay",
              "size": 10,
              "solidity": 0.2
             }
            },
            "type": "histogram"
           }
          ],
          "histogram2d": [
           {
            "colorbar": {
             "outlinewidth": 0,
             "ticks": ""
            },
            "colorscale": [
             [
              0,
              "#0d0887"
             ],
             [
              0.1111111111111111,
              "#46039f"
             ],
             [
              0.2222222222222222,
              "#7201a8"
             ],
             [
              0.3333333333333333,
              "#9c179e"
             ],
             [
              0.4444444444444444,
              "#bd3786"
             ],
             [
              0.5555555555555556,
              "#d8576b"
             ],
             [
              0.6666666666666666,
              "#ed7953"
             ],
             [
              0.7777777777777778,
              "#fb9f3a"
             ],
             [
              0.8888888888888888,
              "#fdca26"
             ],
             [
              1,
              "#f0f921"
             ]
            ],
            "type": "histogram2d"
           }
          ],
          "histogram2dcontour": [
           {
            "colorbar": {
             "outlinewidth": 0,
             "ticks": ""
            },
            "colorscale": [
             [
              0,
              "#0d0887"
             ],
             [
              0.1111111111111111,
              "#46039f"
             ],
             [
              0.2222222222222222,
              "#7201a8"
             ],
             [
              0.3333333333333333,
              "#9c179e"
             ],
             [
              0.4444444444444444,
              "#bd3786"
             ],
             [
              0.5555555555555556,
              "#d8576b"
             ],
             [
              0.6666666666666666,
              "#ed7953"
             ],
             [
              0.7777777777777778,
              "#fb9f3a"
             ],
             [
              0.8888888888888888,
              "#fdca26"
             ],
             [
              1,
              "#f0f921"
             ]
            ],
            "type": "histogram2dcontour"
           }
          ],
          "mesh3d": [
           {
            "colorbar": {
             "outlinewidth": 0,
             "ticks": ""
            },
            "type": "mesh3d"
           }
          ],
          "parcoords": [
           {
            "line": {
             "colorbar": {
              "outlinewidth": 0,
              "ticks": ""
             }
            },
            "type": "parcoords"
           }
          ],
          "pie": [
           {
            "automargin": true,
            "type": "pie"
           }
          ],
          "scatter": [
           {
            "fillpattern": {
             "fillmode": "overlay",
             "size": 10,
             "solidity": 0.2
            },
            "type": "scatter"
           }
          ],
          "scatter3d": [
           {
            "line": {
             "colorbar": {
              "outlinewidth": 0,
              "ticks": ""
             }
            },
            "marker": {
             "colorbar": {
              "outlinewidth": 0,
              "ticks": ""
             }
            },
            "type": "scatter3d"
           }
          ],
          "scattercarpet": [
           {
            "marker": {
             "colorbar": {
              "outlinewidth": 0,
              "ticks": ""
             }
            },
            "type": "scattercarpet"
           }
          ],
          "scattergeo": [
           {
            "marker": {
             "colorbar": {
              "outlinewidth": 0,
              "ticks": ""
             }
            },
            "type": "scattergeo"
           }
          ],
          "scattergl": [
           {
            "marker": {
             "colorbar": {
              "outlinewidth": 0,
              "ticks": ""
             }
            },
            "type": "scattergl"
           }
          ],
          "scattermapbox": [
           {
            "marker": {
             "colorbar": {
              "outlinewidth": 0,
              "ticks": ""
             }
            },
            "type": "scattermapbox"
           }
          ],
          "scatterpolar": [
           {
            "marker": {
             "colorbar": {
              "outlinewidth": 0,
              "ticks": ""
             }
            },
            "type": "scatterpolar"
           }
          ],
          "scatterpolargl": [
           {
            "marker": {
             "colorbar": {
              "outlinewidth": 0,
              "ticks": ""
             }
            },
            "type": "scatterpolargl"
           }
          ],
          "scatterternary": [
           {
            "marker": {
             "colorbar": {
              "outlinewidth": 0,
              "ticks": ""
             }
            },
            "type": "scatterternary"
           }
          ],
          "surface": [
           {
            "colorbar": {
             "outlinewidth": 0,
             "ticks": ""
            },
            "colorscale": [
             [
              0,
              "#0d0887"
             ],
             [
              0.1111111111111111,
              "#46039f"
             ],
             [
              0.2222222222222222,
              "#7201a8"
             ],
             [
              0.3333333333333333,
              "#9c179e"
             ],
             [
              0.4444444444444444,
              "#bd3786"
             ],
             [
              0.5555555555555556,
              "#d8576b"
             ],
             [
              0.6666666666666666,
              "#ed7953"
             ],
             [
              0.7777777777777778,
              "#fb9f3a"
             ],
             [
              0.8888888888888888,
              "#fdca26"
             ],
             [
              1,
              "#f0f921"
             ]
            ],
            "type": "surface"
           }
          ],
          "table": [
           {
            "cells": {
             "fill": {
              "color": "#EBF0F8"
             },
             "line": {
              "color": "white"
             }
            },
            "header": {
             "fill": {
              "color": "#C8D4E3"
             },
             "line": {
              "color": "white"
             }
            },
            "type": "table"
           }
          ]
         },
         "layout": {
          "annotationdefaults": {
           "arrowcolor": "#2a3f5f",
           "arrowhead": 0,
           "arrowwidth": 1
          },
          "autotypenumbers": "strict",
          "coloraxis": {
           "colorbar": {
            "outlinewidth": 0,
            "ticks": ""
           }
          },
          "colorscale": {
           "diverging": [
            [
             0,
             "#8e0152"
            ],
            [
             0.1,
             "#c51b7d"
            ],
            [
             0.2,
             "#de77ae"
            ],
            [
             0.3,
             "#f1b6da"
            ],
            [
             0.4,
             "#fde0ef"
            ],
            [
             0.5,
             "#f7f7f7"
            ],
            [
             0.6,
             "#e6f5d0"
            ],
            [
             0.7,
             "#b8e186"
            ],
            [
             0.8,
             "#7fbc41"
            ],
            [
             0.9,
             "#4d9221"
            ],
            [
             1,
             "#276419"
            ]
           ],
           "sequential": [
            [
             0,
             "#0d0887"
            ],
            [
             0.1111111111111111,
             "#46039f"
            ],
            [
             0.2222222222222222,
             "#7201a8"
            ],
            [
             0.3333333333333333,
             "#9c179e"
            ],
            [
             0.4444444444444444,
             "#bd3786"
            ],
            [
             0.5555555555555556,
             "#d8576b"
            ],
            [
             0.6666666666666666,
             "#ed7953"
            ],
            [
             0.7777777777777778,
             "#fb9f3a"
            ],
            [
             0.8888888888888888,
             "#fdca26"
            ],
            [
             1,
             "#f0f921"
            ]
           ],
           "sequentialminus": [
            [
             0,
             "#0d0887"
            ],
            [
             0.1111111111111111,
             "#46039f"
            ],
            [
             0.2222222222222222,
             "#7201a8"
            ],
            [
             0.3333333333333333,
             "#9c179e"
            ],
            [
             0.4444444444444444,
             "#bd3786"
            ],
            [
             0.5555555555555556,
             "#d8576b"
            ],
            [
             0.6666666666666666,
             "#ed7953"
            ],
            [
             0.7777777777777778,
             "#fb9f3a"
            ],
            [
             0.8888888888888888,
             "#fdca26"
            ],
            [
             1,
             "#f0f921"
            ]
           ]
          },
          "colorway": [
           "#636efa",
           "#EF553B",
           "#00cc96",
           "#ab63fa",
           "#FFA15A",
           "#19d3f3",
           "#FF6692",
           "#B6E880",
           "#FF97FF",
           "#FECB52"
          ],
          "font": {
           "color": "#2a3f5f"
          },
          "geo": {
           "bgcolor": "white",
           "lakecolor": "white",
           "landcolor": "#E5ECF6",
           "showlakes": true,
           "showland": true,
           "subunitcolor": "white"
          },
          "hoverlabel": {
           "align": "left"
          },
          "hovermode": "closest",
          "mapbox": {
           "style": "light"
          },
          "paper_bgcolor": "white",
          "plot_bgcolor": "#E5ECF6",
          "polar": {
           "angularaxis": {
            "gridcolor": "white",
            "linecolor": "white",
            "ticks": ""
           },
           "bgcolor": "#E5ECF6",
           "radialaxis": {
            "gridcolor": "white",
            "linecolor": "white",
            "ticks": ""
           }
          },
          "scene": {
           "xaxis": {
            "backgroundcolor": "#E5ECF6",
            "gridcolor": "white",
            "gridwidth": 2,
            "linecolor": "white",
            "showbackground": true,
            "ticks": "",
            "zerolinecolor": "white"
           },
           "yaxis": {
            "backgroundcolor": "#E5ECF6",
            "gridcolor": "white",
            "gridwidth": 2,
            "linecolor": "white",
            "showbackground": true,
            "ticks": "",
            "zerolinecolor": "white"
           },
           "zaxis": {
            "backgroundcolor": "#E5ECF6",
            "gridcolor": "white",
            "gridwidth": 2,
            "linecolor": "white",
            "showbackground": true,
            "ticks": "",
            "zerolinecolor": "white"
           }
          },
          "shapedefaults": {
           "line": {
            "color": "#2a3f5f"
           }
          },
          "ternary": {
           "aaxis": {
            "gridcolor": "white",
            "linecolor": "white",
            "ticks": ""
           },
           "baxis": {
            "gridcolor": "white",
            "linecolor": "white",
            "ticks": ""
           },
           "bgcolor": "#E5ECF6",
           "caxis": {
            "gridcolor": "white",
            "linecolor": "white",
            "ticks": ""
           }
          },
          "title": {
           "x": 0.05
          },
          "xaxis": {
           "automargin": true,
           "gridcolor": "white",
           "linecolor": "white",
           "ticks": "",
           "title": {
            "standoff": 15
           },
           "zerolinecolor": "white",
           "zerolinewidth": 2
          },
          "yaxis": {
           "automargin": true,
           "gridcolor": "white",
           "linecolor": "white",
           "ticks": "",
           "title": {
            "standoff": 15
           },
           "zerolinecolor": "white",
           "zerolinewidth": 2
          }
         }
        },
        "title": {
         "text": "Countries centrality"
        }
       }
      }
     },
     "metadata": {},
     "output_type": "display_data"
    }
   ],
   "source": [
    "fig = go.Figure(data=go.Choropleth(\n",
    "    locations = countries['iso3'],\n",
    "    z = countries['centrality'],\n",
    "    text = countries['country'],\n",
    "    colorscale = 'turbo',\n",
    "    autocolorscale=False,\n",
    "    reversescale=False,\n",
    "    marker_line_color='darkgray',\n",
    "    marker_line_width=0.5,\n",
    "    colorbar_tickprefix = '',\n",
    "    colorbar_title = 'centrality',\n",
    "))\n",
    "\n",
    "fig.update_layout(\n",
    "    title_text='Countries centrality',\n",
    "    geo=dict(\n",
    "        showframe=False,\n",
    "        showcoastlines=False,\n",
    "        projection_type='equirectangular'\n",
    "    )\n",
    ")\n",
    "\n",
    "fig.show()"
   ]
  },
  {
   "cell_type": "markdown",
   "id": "7858f8a8",
   "metadata": {},
   "source": [
    "To increase the readability and understanding, we could transform the centrality into a score ranging from 1 to 10. However, it is interesting to check if the distribution fo the centralities is heavyy tailed or follows a known distribution, in order to adapt the normalization and the scaling. To this end, we start by visualizing the distribution of the centralities via an histogram and a box-plot."
   ]
  },
  {
   "cell_type": "code",
   "execution_count": 128,
   "id": "0f0ada13",
   "metadata": {
    "scrolled": false
   },
   "outputs": [
    {
     "data": {
      "image/png": "[encoded data removed]",
      "text/plain": [
       "<Figure size 640x480 with 1 Axes>"
      ]
     },
     "metadata": {},
     "output_type": "display_data"
    }
   ],
   "source": [
    "countries['centrality'].hist(bins = 15)\n",
    "plt.xlabel('Centrality score')\n",
    "plt.ylabel('Absolute frequency of centrality')\n",
    "plt.title('Distribution of centralities');"
   ]
  },
  {
   "cell_type": "code",
   "execution_count": 115,
   "id": "3a71a20c",
   "metadata": {
    "scrolled": false
   },
   "outputs": [
    {
     "data": {
      "text/plain": [
       "count    209.000000\n",
       "mean       1.526399\n",
       "std        0.678176\n",
       "min        0.000000\n",
       "25%        1.100468\n",
       "50%        1.686658\n",
       "75%        2.067456\n",
       "max        2.572896\n",
       "Name: centrality, dtype: float64"
      ]
     },
     "execution_count": 115,
     "metadata": {},
     "output_type": "execute_result"
    }
   ],
   "source": [
    "countries['centrality'].describe()"
   ]
  },
  {
   "cell_type": "code",
   "execution_count": 131,
   "id": "81fdf1f7",
   "metadata": {
    "scrolled": false
   },
   "outputs": [
    {
     "data": {
      "image/png": "[encoded data removed]",
      "text/plain": [
       "<Figure size 640x480 with 1 Axes>"
      ]
     },
     "metadata": {},
     "output_type": "display_data"
    }
   ],
   "source": [
    "plt.boxplot(countries['centrality'])\n",
    "plt.xticks([])\n",
    "plt.ylabel('Centrality score')\n",
    "plt.title('Centrality');"
   ]
  },
  {
   "cell_type": "markdown",
   "id": "35fb8f01",
   "metadata": {},
   "source": [
    "We do not recognize a typical underlying distribution. Therefore, in order to contruct a score ranging from 0 to 10 we simply scale the centralities using a min-max scale."
   ]
  },
  {
   "cell_type": "code",
   "execution_count": 117,
   "id": "0fc6507d",
   "metadata": {},
   "outputs": [],
   "source": [
    "countries['score'] = 10*(countries['centrality']-countries['centrality'].min())/(countries['centrality'].max()-countries['centrality'].min())"
   ]
  },
  {
   "cell_type": "markdown",
   "id": "07a688fe",
   "metadata": {},
   "source": [
    "Here is the final map obtained:"
   ]
  },
  {
   "cell_type": "code",
   "execution_count": 118,
   "id": "b1a17204",
   "metadata": {},
   "outputs": [
    {
     "data": {
      "application/vnd.plotly.v1+json": {
       "config": {
        "plotlyServerURL": "https://plot.ly"
       },
       "data": [
        {
         "autocolorscale": false,
         "colorbar": {
          "tickprefix": "",
          "title": {
           "text": "Score"
          }
         },
         "colorscale": [
          [
           0,
           "#30123b"
          ],
          [
           0.07142857142857142,
           "#4145ab"
          ],
          [
           0.14285714285714285,
           "#4675ed"
          ],
          [
           0.21428571428571427,
           "#39a2fc"
          ],
          [
           0.2857142857142857,
           "#1bcfd4"
          ],
          [
           0.35714285714285715,
           "#24eca6"
          ],
          [
           0.42857142857142855,
           "#61fc6c"
          ],
          [
           0.5,
           "#a4fc3b"
          ],
          [
           0.5714285714285714,
           "#d1e834"
          ],
          [
           0.6428571428571429,
           "#f3c63a"
          ],
          [
           0.7142857142857143,
           "#fe9b2d"
          ],
          [
           0.7857142857142857,
           "#f36315"
          ],
          [
           0.8571428571428571,
           "#d93806"
          ],
          [
           0.9285714285714286,
           "#b11901"
          ],
          [
           1,
           "#7a0402"
          ]
         ],
         "locations": [
          "USA",
          "GBR",
          "NOR",
          "DEU",
          "MEX",
          "CAN",
          "RUS",
          "ITA",
          "FRA",
          "ZAF",
          "JPN",
          "IND",
          "NLD",
          "ESP",
          "ISL",
          "EGY",
          "GRC",
          "AUS",
          "DNK",
          "IRL",
          "IRQ",
          "KEN",
          "SWE",
          "NZL",
          "BRA",
          "AUT",
          "ARG",
          "TUR",
          "BEL",
          "POL",
          "PRI",
          "BOL",
          "ETH",
          "ZWE",
          "PRT",
          "PER",
          "DZA",
          "GRL",
          "PAK",
          "ECU",
          "RWA",
          "CHE",
          "FIN",
          "MLI",
          "MDG",
          "VNM",
          "IDN",
          "NPL",
          "IRN",
          "VAT",
          "CZE",
          "NGA",
          "SDN",
          "CHL",
          "CUB",
          "CHN",
          "ISR",
          "KWT",
          "MAR",
          "UKR",
          "ROU",
          "TCD",
          "HKG",
          "PHL",
          "TZA",
          "KAZ",
          "BIH",
          "LUX",
          "HUN",
          "SOM",
          "GIN",
          "GHA",
          "PRK",
          "ESH",
          "MYS",
          "COL",
          "MCO",
          "SAU",
          "MKD",
          "UZB",
          "JAM",
          "ZMB",
          "MWI",
          "NER",
          "GEO",
          "JOR",
          "TWN",
          "TKM",
          "URY",
          "BGR",
          "LBY",
          "CIV",
          "MOZ",
          "GAB",
          "KOR",
          "CRI",
          "GTM",
          "LKA",
          "AFG",
          "BLR",
          "BFA",
          "UGA",
          "GMB",
          "SLE",
          "LBR",
          "BMU",
          "PRY",
          "VEN",
          "CYP",
          "PAN",
          "SVK",
          "BWA",
          "ALB",
          "THA",
          "GUF",
          "MMR",
          "BGD",
          "BHS",
          "DOM",
          "HTI",
          "SVN",
          "MDA",
          "AZE",
          "MUS",
          "SLB",
          "TGO",
          "BEN",
          "LSO",
          "TUN",
          "KHM",
          "BTN",
          "BRB",
          "FLK",
          "BLZ",
          "GUY",
          "LVA",
          "QAT",
          "KGZ",
          "LAO",
          "EST",
          "PNG",
          "SLV",
          "SYR",
          "CMR",
          "HRV",
          "MSR",
          "DMA",
          "TTO",
          "BDI",
          "YEM",
          "SGP",
          "WSM",
          "COK",
          "MNE",
          "SMR",
          "NAM",
          "LTU",
          "LBN",
          "NIC",
          "CAF",
          "SWZ",
          "HND",
          "AGO",
          "GUM",
          "FSM",
          "TCA",
          "ARM",
          "PSE",
          "MLT",
          "MRT",
          "LIE",
          "SHN",
          "GNQ",
          "SEN",
          "STP",
          "GNB",
          "FJI",
          "VUT",
          "GRD",
          "ABW",
          "SUR",
          "AND",
          "TLS",
          "CCK",
          "OMN",
          "ARE",
          "GLP",
          "PYF",
          "CPV",
          "ALA",
          "CYM",
          "DJI",
          "BRN",
          "TJK",
          "ERI",
          "BHR",
          "MDV",
          "CXR",
          "MTQ",
          "ATG",
          "KNA",
          "SRB",
          "VCT",
          "TUV",
          "LCA",
          "TON",
          "REU",
          "IOT",
          "AIA"
         ],
         "marker": {
          "line": {
           "color": "grey",
           "width": 0.5
          }
         },
         "reversescale": false,
         "text": [
          "United States",
          "United Kingdom",
          "Norway",
          "Germany",
          "Mexico",
          "Canada",
          "Russia",
          "Italy",
          "France",
          "South Africa",
          "Japan",
          "India",
          "Netherlands",
          "Spain",
          "Iceland",
          "Egypt",
          "Greece",
          "Australia",
          "Denmark",
          "Ireland",
          "Iraq",
          "Kenya",
          "Sweden",
          "New Zealand",
          "Brazil",
          "Austria",
          "Argentina",
          "Turkey",
          "Belgium",
          "Poland",
          "Puerto Rico",
          "Bolivia",
          "Ethiopia",
          "Zimbabwe",
          "Portugal",
          "Peru",
          "Algeria",
          "Greenland",
          "Pakistan",
          "Ecuador",
          "Rwanda",
          "Switzerland",
          "Finland",
          "Mali",
          "Madagascar",
          "Vietnam",
          "Indonesia",
          "Nepal",
          "Iran",
          "Vatican City",
          "Czech Republic",
          "Nigeria",
          "Sudan",
          "Chile",
          "Cuba",
          "Republic of China",
          "Israel",
          "Kuwait",
          "Morocco",
          "Ukraine",
          "Romania",
          "Chad",
          "Hong Kong",
          "Philippines",
          "Tanzania",
          "Kazakhstan",
          "Bosnia and Herzegovina",
          "Luxembourg",
          "Hungary",
          "Somalia",
          "Guinea",
          "Ghana",
          "North Korea",
          "Western Sahara",
          "Malaysia",
          "Colombia",
          "Monaco",
          "Saudi Arabia",
          "Republic of Macedonia",
          "Uzbekistan",
          "Jamaica",
          "Zambia",
          "Malawi",
          "Niger",
          "Georgia %28country%29",
          "Jordan",
          "Taiwan",
          "Turkmenistan",
          "Uruguay",
          "Bulgaria",
          "Libya",
          "C%C3%B4te d%27Ivoire",
          "Mozambique",
          "Gabon",
          "South Korea",
          "Costa Rica",
          "Guatemala",
          "Sri Lanka",
          "Afghanistan",
          "Belarus",
          "Burkina Faso",
          "Uganda",
          "The Gambia",
          "Sierra Leone",
          "Liberia",
          "Bermuda",
          "Paraguay",
          "Venezuela",
          "Cyprus",
          "Panama",
          "Slovakia",
          "Botswana",
          "Albania",
          "Thailand",
          "French Guiana",
          "Myanmar",
          "Bangladesh",
          "The Bahamas",
          "Dominican Republic",
          "Haiti",
          "Slovenia",
          "Moldova",
          "Azerbaijan",
          "Mauritius",
          "Solomon Islands",
          "Togo",
          "Benin",
          "Lesotho",
          "Tunisia",
          "Cambodia",
          "Bhutan",
          "Barbados",
          "Falkland Islands",
          "Belize",
          "Guyana",
          "Latvia",
          "Qatar",
          "Kyrgyzstan",
          "Laos",
          "Estonia",
          "Papua New Guinea",
          "El Salvador",
          "Syria",
          "Cameroon",
          "Croatia",
          "Montserrat",
          "Dominica",
          "Trinidad and Tobago",
          "Burundi",
          "Yemen",
          "Singapore",
          "Samoa",
          "Cook Islands",
          "Montenegro",
          "San Marino",
          "Namibia",
          "Lithuania",
          "Lebanon",
          "Nicaragua",
          "Central African Republic",
          "Swaziland",
          "Honduras",
          "Angola",
          "Guam",
          "Federated States of Micronesia",
          "Turks and Caicos Islands",
          "Armenia",
          "Palestinian territories",
          "Malta",
          "Mauritania",
          "Liechtenstein",
          "Saint Helena",
          "Equatorial Guinea",
          "Senegal",
          "S%C3%A3o Tom%C3%A9 and Pr%C3%ADncipe",
          "Guinea-Bissau",
          "Fiji",
          "Vanuatu",
          "Grenada",
          "Aruba",
          "Suriname",
          "Andorra",
          "East Timor",
          "Cocos %28Keeling%29 Islands",
          "Oman",
          "Dubai",
          "Guadeloupe",
          "French Polynesia",
          "Cape Verde",
          "%C3%85land",
          "Cayman Islands",
          "Djibouti",
          "Brunei",
          "Tajikistan",
          "Eritrea",
          "Bahrain",
          "Maldives",
          "Christmas Island",
          "Martinique",
          "Antigua and Barbuda",
          "Saint Kitts and Nevis",
          "Serbia and Montenegro",
          "Saint Vincent and the Grenadines",
          "Tuvalu",
          "Saint Lucia",
          "Tonga",
          "R%C3%A9union",
          "British Indian Ocean Territory",
          "Anguilla"
         ],
         "type": "choropleth",
         "z": [
          10,
          9.943819235804693,
          9.836806983645793,
          9.830086505721058,
          9.723500003982748,
          9.710748330788142,
          9.6998846054718,
          9.662056761698594,
          9.64099162942994,
          9.612866420392132,
          9.532188462767222,
          9.509085219671146,
          9.505829756895258,
          9.435508008877889,
          9.421217389265673,
          9.407465717056757,
          9.37201670331554,
          9.303984097010268,
          9.292888219231884,
          9.271859037524235,
          9.259231505627616,
          9.255615927906277,
          9.229789136665303,
          8.91191927704444,
          8.911783833781495,
          8.864413777583271,
          8.847839864259447,
          8.834622864445958,
          8.780896886809291,
          8.78041908116543,
          8.749852030034651,
          8.619567756347466,
          8.609001825446223,
          8.537095388922499,
          8.518271617791482,
          8.516975384555222,
          8.474248552269241,
          8.471090716663385,
          8.31516917568219,
          8.315062931435529,
          8.275854686168424,
          8.218886376784605,
          8.212399740021041,
          8.165434333146173,
          8.165029865779413,
          8.142504231977144,
          8.141679086962396,
          8.137095302283647,
          8.117308694700137,
          8.11390065220306,
          8.079475931346558,
          8.03688966406557,
          8.035522357424167,
          8.024075139146056,
          7.96044750416489,
          7.879950742198908,
          7.846910392994168,
          7.824934762106089,
          7.80045544398334,
          7.763276580073441,
          7.754848398035035,
          7.713872536848141,
          7.674811977175191,
          7.643745489685256,
          7.609111464867966,
          7.594196263075817,
          7.544559135852151,
          7.544160794699501,
          7.543943285494524,
          7.507856389724392,
          7.507027511130652,
          7.5056298055526165,
          7.503367502853345,
          7.493206595879159,
          7.491807105074178,
          7.38968510691601,
          7.359447553307074,
          7.334580026243949,
          7.291505962628508,
          7.283749793488981,
          7.2620406590956454,
          7.257651362956912,
          7.257151423006106,
          7.25605614969428,
          7.14996877540471,
          7.135635065517643,
          7.055840009272214,
          7.047157494404856,
          7.0294852198105895,
          6.979472977297292,
          6.9612560199420335,
          6.949069621171921,
          6.94716367130065,
          6.946718929423921,
          6.929234042969646,
          6.863545331375599,
          6.862310730632491,
          6.758204006080839,
          6.729356208088968,
          6.58577547005889,
          6.556996585957622,
          6.5566398355166795,
          6.556572032322053,
          6.556358840137722,
          6.555484489507888,
          6.545933196931788,
          6.46583839000082,
          6.374961991867432,
          6.301870547282657,
          6.106359776582286,
          6.070747661363588,
          6.048436282042699,
          6.045919422423385,
          6.034350936692414,
          5.9688791022311865,
          5.899395657798499,
          5.8991104506384895,
          5.785428541974649,
          5.765218382061661,
          5.765104833508637,
          5.679517383109383,
          5.37090078092285,
          5.355394467117302,
          5.354658899660865,
          5.353381936346679,
          5.352778311132087,
          5.352380291579384,
          5.351925518774272,
          5.351691001192694,
          5.348447899829351,
          5.34013623268808,
          5.325388386230001,
          5.325235953553135,
          5.301182078745927,
          5.291768288989954,
          5.287268577032832,
          5.256405743494192,
          5.229048669879586,
          5.171899583931643,
          5.161111460738393,
          4.79547572059125,
          4.762148311240159,
          4.375403151391446,
          4.3726286527652585,
          4.365370710615328,
          4.361586409451963,
          4.356367261693178,
          4.355313592266983,
          4.352121119612917,
          4.3517676623156945,
          4.334626588321562,
          4.329714629786017,
          4.3295745122932745,
          4.309780281123824,
          4.308783118554539,
          4.301694092840849,
          4.277159501041975,
          4.24406864527721,
          4.162940882319106,
          4.114278943019834,
          4.1135958158328085,
          3.9937476631559106,
          3.956490156568561,
          3.8544887931456704,
          3.386344059131558,
          3.316343610889622,
          3.24620304060082,
          2.924486296582786,
          2.802946170521319,
          2.799654380529763,
          2.7949291347309786,
          2.7911134807659232,
          2.7902162151515966,
          2.790111236459289,
          2.789750575102316,
          2.78834076942057,
          2.7807080488150198,
          2.7800889133000335,
          2.775133261338676,
          2.772613569667109,
          2.769497346213491,
          2.7687166353846178,
          2.756889906377376,
          2.74106714121481,
          2.737598335344033,
          2.7239720307757023,
          2.704960920020956,
          2.703223964424563,
          2.688673339901933,
          2.637332186599665,
          2.6105655265168357,
          2.5600669448840443,
          2.558059930364258,
          2.53008761246208,
          2.4928093629777694,
          2.3872559340948865,
          0.001876712450970088,
          0.000938356225485044,
          0.000938356225485044,
          0.000938356225485044,
          0,
          0,
          0,
          0,
          0,
          0,
          0,
          0,
          0
         ]
        }
       ],
       "layout": {
        "geo": {
         "projection": {
          "type": "equirectangular"
         },
         "showcoastlines": false,
         "showframe": false
        },
        "template": {
         "data": {
          "bar": [
           {
            "error_x": {
             "color": "#2a3f5f"
            },
            "error_y": {
             "color": "#2a3f5f"
            },
            "marker": {
             "line": {
              "color": "#E5ECF6",
              "width": 0.5
             },
             "pattern": {
              "fillmode": "overlay",
              "size": 10,
              "solidity": 0.2
             }
            },
            "type": "bar"
           }
          ],
          "barpolar": [
           {
            "marker": {
             "line": {
              "color": "#E5ECF6",
              "width": 0.5
             },
             "pattern": {
              "fillmode": "overlay",
              "size": 10,
              "solidity": 0.2
             }
            },
            "type": "barpolar"
           }
          ],
          "carpet": [
           {
            "aaxis": {
             "endlinecolor": "#2a3f5f",
             "gridcolor": "white",
             "linecolor": "white",
             "minorgridcolor": "white",
             "startlinecolor": "#2a3f5f"
            },
            "baxis": {
             "endlinecolor": "#2a3f5f",
             "gridcolor": "white",
             "linecolor": "white",
             "minorgridcolor": "white",
             "startlinecolor": "#2a3f5f"
            },
            "type": "carpet"
           }
          ],
          "choropleth": [
           {
            "colorbar": {
             "outlinewidth": 0,
             "ticks": ""
            },
            "type": "choropleth"
           }
          ],
          "contour": [
           {
            "colorbar": {
             "outlinewidth": 0,
             "ticks": ""
            },
            "colorscale": [
             [
              0,
              "#0d0887"
             ],
             [
              0.1111111111111111,
              "#46039f"
             ],
             [
              0.2222222222222222,
              "#7201a8"
             ],
             [
              0.3333333333333333,
              "#9c179e"
             ],
             [
              0.4444444444444444,
              "#bd3786"
             ],
             [
              0.5555555555555556,
              "#d8576b"
             ],
             [
              0.6666666666666666,
              "#ed7953"
             ],
             [
              0.7777777777777778,
              "#fb9f3a"
             ],
             [
              0.8888888888888888,
              "#fdca26"
             ],
             [
              1,
              "#f0f921"
             ]
            ],
            "type": "contour"
           }
          ],
          "contourcarpet": [
           {
            "colorbar": {
             "outlinewidth": 0,
             "ticks": ""
            },
            "type": "contourcarpet"
           }
          ],
          "heatmap": [
           {
            "colorbar": {
             "outlinewidth": 0,
             "ticks": ""
            },
            "colorscale": [
             [
              0,
              "#0d0887"
             ],
             [
              0.1111111111111111,
              "#46039f"
             ],
             [
              0.2222222222222222,
              "#7201a8"
             ],
             [
              0.3333333333333333,
              "#9c179e"
             ],
             [
              0.4444444444444444,
              "#bd3786"
             ],
             [
              0.5555555555555556,
              "#d8576b"
             ],
             [
              0.6666666666666666,
              "#ed7953"
             ],
             [
              0.7777777777777778,
              "#fb9f3a"
             ],
             [
              0.8888888888888888,
              "#fdca26"
             ],
             [
              1,
              "#f0f921"
             ]
            ],
            "type": "heatmap"
           }
          ],
          "heatmapgl": [
           {
            "colorbar": {
             "outlinewidth": 0,
             "ticks": ""
            },
            "colorscale": [
             [
              0,
              "#0d0887"
             ],
             [
              0.1111111111111111,
              "#46039f"
             ],
             [
              0.2222222222222222,
              "#7201a8"
             ],
             [
              0.3333333333333333,
              "#9c179e"
             ],
             [
              0.4444444444444444,
              "#bd3786"
             ],
             [
              0.5555555555555556,
              "#d8576b"
             ],
             [
              0.6666666666666666,
              "#ed7953"
             ],
             [
              0.7777777777777778,
              "#fb9f3a"
             ],
             [
              0.8888888888888888,
              "#fdca26"
             ],
             [
              1,
              "#f0f921"
             ]
            ],
            "type": "heatmapgl"
           }
          ],
          "histogram": [
           {
            "marker": {
             "pattern": {
              "fillmode": "overlay",
              "size": 10,
              "solidity": 0.2
             }
            },
            "type": "histogram"
           }
          ],
          "histogram2d": [
           {
            "colorbar": {
             "outlinewidth": 0,
             "ticks": ""
            },
            "colorscale": [
             [
              0,
              "#0d0887"
             ],
             [
              0.1111111111111111,
              "#46039f"
             ],
             [
              0.2222222222222222,
              "#7201a8"
             ],
             [
              0.3333333333333333,
              "#9c179e"
             ],
             [
              0.4444444444444444,
              "#bd3786"
             ],
             [
              0.5555555555555556,
              "#d8576b"
             ],
             [
              0.6666666666666666,
              "#ed7953"
             ],
             [
              0.7777777777777778,
              "#fb9f3a"
             ],
             [
              0.8888888888888888,
              "#fdca26"
             ],
             [
              1,
              "#f0f921"
             ]
            ],
            "type": "histogram2d"
           }
          ],
          "histogram2dcontour": [
           {
            "colorbar": {
             "outlinewidth": 0,
             "ticks": ""
            },
            "colorscale": [
             [
              0,
              "#0d0887"
             ],
             [
              0.1111111111111111,
              "#46039f"
             ],
             [
              0.2222222222222222,
              "#7201a8"
             ],
             [
              0.3333333333333333,
              "#9c179e"
             ],
             [
              0.4444444444444444,
              "#bd3786"
             ],
             [
              0.5555555555555556,
              "#d8576b"
             ],
             [
              0.6666666666666666,
              "#ed7953"
             ],
             [
              0.7777777777777778,
              "#fb9f3a"
             ],
             [
              0.8888888888888888,
              "#fdca26"
             ],
             [
              1,
              "#f0f921"
             ]
            ],
            "type": "histogram2dcontour"
           }
          ],
          "mesh3d": [
           {
            "colorbar": {
             "outlinewidth": 0,
             "ticks": ""
            },
            "type": "mesh3d"
           }
          ],
          "parcoords": [
           {
            "line": {
             "colorbar": {
              "outlinewidth": 0,
              "ticks": ""
             }
            },
            "type": "parcoords"
           }
          ],
          "pie": [
           {
            "automargin": true,
            "type": "pie"
           }
          ],
          "scatter": [
           {
            "fillpattern": {
             "fillmode": "overlay",
             "size": 10,
             "solidity": 0.2
            },
            "type": "scatter"
           }
          ],
          "scatter3d": [
           {
            "line": {
             "colorbar": {
              "outlinewidth": 0,
              "ticks": ""
             }
            },
            "marker": {
             "colorbar": {
              "outlinewidth": 0,
              "ticks": ""
             }
            },
            "type": "scatter3d"
           }
          ],
          "scattercarpet": [
           {
            "marker": {
             "colorbar": {
              "outlinewidth": 0,
              "ticks": ""
             }
            },
            "type": "scattercarpet"
           }
          ],
          "scattergeo": [
           {
            "marker": {
             "colorbar": {
              "outlinewidth": 0,
              "ticks": ""
             }
            },
            "type": "scattergeo"
           }
          ],
          "scattergl": [
           {
            "marker": {
             "colorbar": {
              "outlinewidth": 0,
              "ticks": ""
             }
            },
            "type": "scattergl"
           }
          ],
          "scattermapbox": [
           {
            "marker": {
             "colorbar": {
              "outlinewidth": 0,
              "ticks": ""
             }
            },
            "type": "scattermapbox"
           }
          ],
          "scatterpolar": [
           {
            "marker": {
             "colorbar": {
              "outlinewidth": 0,
              "ticks": ""
             }
            },
            "type": "scatterpolar"
           }
          ],
          "scatterpolargl": [
           {
            "marker": {
             "colorbar": {
              "outlinewidth": 0,
              "ticks": ""
             }
            },
            "type": "scatterpolargl"
           }
          ],
          "scatterternary": [
           {
            "marker": {
             "colorbar": {
              "outlinewidth": 0,
              "ticks": ""
             }
            },
            "type": "scatterternary"
           }
          ],
          "surface": [
           {
            "colorbar": {
             "outlinewidth": 0,
             "ticks": ""
            },
            "colorscale": [
             [
              0,
              "#0d0887"
             ],
             [
              0.1111111111111111,
              "#46039f"
             ],
             [
              0.2222222222222222,
              "#7201a8"
             ],
             [
              0.3333333333333333,
              "#9c179e"
             ],
             [
              0.4444444444444444,
              "#bd3786"
             ],
             [
              0.5555555555555556,
              "#d8576b"
             ],
             [
              0.6666666666666666,
              "#ed7953"
             ],
             [
              0.7777777777777778,
              "#fb9f3a"
             ],
             [
              0.8888888888888888,
              "#fdca26"
             ],
             [
              1,
              "#f0f921"
             ]
            ],
            "type": "surface"
           }
          ],
          "table": [
           {
            "cells": {
             "fill": {
              "color": "#EBF0F8"
             },
             "line": {
              "color": "white"
             }
            },
            "header": {
             "fill": {
              "color": "#C8D4E3"
             },
             "line": {
              "color": "white"
             }
            },
            "type": "table"
           }
          ]
         },
         "layout": {
          "annotationdefaults": {
           "arrowcolor": "#2a3f5f",
           "arrowhead": 0,
           "arrowwidth": 1
          },
          "autotypenumbers": "strict",
          "coloraxis": {
           "colorbar": {
            "outlinewidth": 0,
            "ticks": ""
           }
          },
          "colorscale": {
           "diverging": [
            [
             0,
             "#8e0152"
            ],
            [
             0.1,
             "#c51b7d"
            ],
            [
             0.2,
             "#de77ae"
            ],
            [
             0.3,
             "#f1b6da"
            ],
            [
             0.4,
             "#fde0ef"
            ],
            [
             0.5,
             "#f7f7f7"
            ],
            [
             0.6,
             "#e6f5d0"
            ],
            [
             0.7,
             "#b8e186"
            ],
            [
             0.8,
             "#7fbc41"
            ],
            [
             0.9,
             "#4d9221"
            ],
            [
             1,
             "#276419"
            ]
           ],
           "sequential": [
            [
             0,
             "#0d0887"
            ],
            [
             0.1111111111111111,
             "#46039f"
            ],
            [
             0.2222222222222222,
             "#7201a8"
            ],
            [
             0.3333333333333333,
             "#9c179e"
            ],
            [
             0.4444444444444444,
             "#bd3786"
            ],
            [
             0.5555555555555556,
             "#d8576b"
            ],
            [
             0.6666666666666666,
             "#ed7953"
            ],
            [
             0.7777777777777778,
             "#fb9f3a"
            ],
            [
             0.8888888888888888,
             "#fdca26"
            ],
            [
             1,
             "#f0f921"
            ]
           ],
           "sequentialminus": [
            [
             0,
             "#0d0887"
            ],
            [
             0.1111111111111111,
             "#46039f"
            ],
            [
             0.2222222222222222,
             "#7201a8"
            ],
            [
             0.3333333333333333,
             "#9c179e"
            ],
            [
             0.4444444444444444,
             "#bd3786"
            ],
            [
             0.5555555555555556,
             "#d8576b"
            ],
            [
             0.6666666666666666,
             "#ed7953"
            ],
            [
             0.7777777777777778,
             "#fb9f3a"
            ],
            [
             0.8888888888888888,
             "#fdca26"
            ],
            [
             1,
             "#f0f921"
            ]
           ]
          },
          "colorway": [
           "#636efa",
           "#EF553B",
           "#00cc96",
           "#ab63fa",
           "#FFA15A",
           "#19d3f3",
           "#FF6692",
           "#B6E880",
           "#FF97FF",
           "#FECB52"
          ],
          "font": {
           "color": "#2a3f5f"
          },
          "geo": {
           "bgcolor": "white",
           "lakecolor": "white",
           "landcolor": "#E5ECF6",
           "showlakes": true,
           "showland": true,
           "subunitcolor": "white"
          },
          "hoverlabel": {
           "align": "left"
          },
          "hovermode": "closest",
          "mapbox": {
           "style": "light"
          },
          "paper_bgcolor": "white",
          "plot_bgcolor": "#E5ECF6",
          "polar": {
           "angularaxis": {
            "gridcolor": "white",
            "linecolor": "white",
            "ticks": ""
           },
           "bgcolor": "#E5ECF6",
           "radialaxis": {
            "gridcolor": "white",
            "linecolor": "white",
            "ticks": ""
           }
          },
          "scene": {
           "xaxis": {
            "backgroundcolor": "#E5ECF6",
            "gridcolor": "white",
            "gridwidth": 2,
            "linecolor": "white",
            "showbackground": true,
            "ticks": "",
            "zerolinecolor": "white"
           },
           "yaxis": {
            "backgroundcolor": "#E5ECF6",
            "gridcolor": "white",
            "gridwidth": 2,
            "linecolor": "white",
            "showbackground": true,
            "ticks": "",
            "zerolinecolor": "white"
           },
           "zaxis": {
            "backgroundcolor": "#E5ECF6",
            "gridcolor": "white",
            "gridwidth": 2,
            "linecolor": "white",
            "showbackground": true,
            "ticks": "",
            "zerolinecolor": "white"
           }
          },
          "shapedefaults": {
           "line": {
            "color": "#2a3f5f"
           }
          },
          "ternary": {
           "aaxis": {
            "gridcolor": "white",
            "linecolor": "white",
            "ticks": ""
           },
           "baxis": {
            "gridcolor": "white",
            "linecolor": "white",
            "ticks": ""
           },
           "bgcolor": "#E5ECF6",
           "caxis": {
            "gridcolor": "white",
            "linecolor": "white",
            "ticks": ""
           }
          },
          "title": {
           "x": 0.05
          },
          "xaxis": {
           "automargin": true,
           "gridcolor": "white",
           "linecolor": "white",
           "ticks": "",
           "title": {
            "standoff": 15
           },
           "zerolinecolor": "white",
           "zerolinewidth": 2
          },
          "yaxis": {
           "automargin": true,
           "gridcolor": "white",
           "linecolor": "white",
           "ticks": "",
           "title": {
            "standoff": 15
           },
           "zerolinecolor": "white",
           "zerolinewidth": 2
          }
         }
        },
        "title": {
         "text": "Countries score"
        }
       }
      }
     },
     "metadata": {},
     "output_type": "display_data"
    }
   ],
   "source": [
    "fig = go.Figure(data=go.Choropleth(\n",
    "    locations = countries['iso3'],\n",
    "    z = countries['score'],\n",
    "    text = countries['country'],\n",
    "    colorscale = 'turbo',\n",
    "    autocolorscale=False,\n",
    "    reversescale=False,\n",
    "    marker_line_color='grey',\n",
    "    marker_line_width=0.5,\n",
    "    colorbar_tickprefix = '',\n",
    "    colorbar_title = 'Score',\n",
    "))\n",
    "\n",
    "fig.update_layout(\n",
    "    title_text='Countries score',\n",
    "    geo=dict(\n",
    "        showframe=False,\n",
    "        showcoastlines=False,\n",
    "        projection_type='equirectangular'\n",
    "    )\n",
    ")\n",
    "\n",
    "fig.show()"
   ]
  },
  {
   "cell_type": "markdown",
   "id": "60db7389",
   "metadata": {},
   "source": [
    "## 3.C If I say Switzerland, what do you think?\n",
    "\n",
    "Using the semantic distance, one could investigate what concepts/articles are the closest (in terms of semantic distance) to countries, and thus investigate what image of the countries is given by their semantically-close concepts, i.e. see what people link the countries to (e.g. Switzerland -> Chocolate? UK -> Fish&Chips? Italy -> Pizza?) \n",
    "\n",
    "To sum up, how can we describe the countries in our Wikiworld?"
   ]
  },
  {
   "cell_type": "markdown",
   "id": "80b35fce",
   "metadata": {},
   "source": [
    "<div class=\"alert alert-block alert-danger\">\n",
    "<b>To Do</b> Add example of semantic distance of 1 or 2 countries (cf code de Zoé) & 5-10 mots qui se rapprochent le plus de ces pays.\n",
    "</div>"
   ]
  },
  {
   "cell_type": "code",
   "execution_count": 73,
   "id": "aa2eb043",
   "metadata": {
    "scrolled": true
   },
   "outputs": [],
   "source": [
    "top=top_20('United_States', path_finished_unquoted['path_list'])"
   ]
  },
  {
   "cell_type": "code",
   "execution_count": 74,
   "id": "7e36a72c",
   "metadata": {},
   "outputs": [
    {
     "data": {
      "text/plain": [
       "[(0.18223075302814007, 'Baker_Island'),\n",
       " (0.28900084162789624, 'American_Samoa'),\n",
       " (0.3153692706331039, 'Advertising'),\n",
       " (0.33885507194956943, 'Domesticated_turkey'),\n",
       " (0.39698717947338574, 'Igor_Stravinsky')]"
      ]
     },
     "execution_count": 74,
     "metadata": {},
     "output_type": "execute_result"
    }
   ],
   "source": [
    "top"
   ]
  },
  {
   "cell_type": "markdown",
   "id": "d2d0430f",
   "metadata": {},
   "source": [
    "# 4. People\n",
    "\n",
    "We now investigate the subset of the dataset related to peoples. The goal is to answer following questions:\n",
    "- Who are the most famous persons?\n",
    "- To which domain to they belong? What is their gender? Are they dead or alive?\n",
    "\n",
    "## 4.A Categories of People"
   ]
  },
  {
   "cell_type": "markdown",
   "id": "3f79bd0d-5bc5-465f-bf4e-5ec4b2fef904",
   "metadata": {},
   "source": [
    "There are many articles about people in the given dataset. Thus, it is interesting to first understand how the people are categorized.\\\n",
    "We first determine how many classes of articles about people there are. In order to do so, we filter all the categories which possess the word 'People' in the name of their category."
   ]
  },
  {
   "cell_type": "code",
   "execution_count": 123,
   "id": "512c6e31",
   "metadata": {},
   "outputs": [
    {
     "name": "stdout",
     "output_type": "stream",
     "text": [
      "There are 698 people in the dataset, that are divided in 21 different classes.\n"
     ]
    }
   ],
   "source": [
    "#Group all the articles about people together.\n",
    "people = categories_grouped.filter(lambda x: 'People' in str(x['category'])) \n",
    "people_grouped = people.groupby(by=\"category\")\n",
    "print(\"There are {0} people in the dataset, that are divided in {1} different classes.\".format(people.nunique()[0],people.nunique()[1]))\n"
   ]
  },
  {
   "cell_type": "markdown",
   "id": "812b016f",
   "metadata": {},
   "source": [
    "Let's have a look at the `people` dataframe created:"
   ]
  },
  {
   "cell_type": "code",
   "execution_count": 125,
   "id": "d0e0dbca",
   "metadata": {},
   "outputs": [
    {
     "data": {
      "text/html": [
       "<div>\n",
       "<style scoped>\n",
       "    .dataframe tbody tr th:only-of-type {\n",
       "        vertical-align: middle;\n",
       "    }\n",
       "\n",
       "    .dataframe tbody tr th {\n",
       "        vertical-align: top;\n",
       "    }\n",
       "\n",
       "    .dataframe thead th {\n",
       "        text-align: right;\n",
       "    }\n",
       "</style>\n",
       "<table border=\"1\" class=\"dataframe\">\n",
       "  <thead>\n",
       "    <tr style=\"text-align: right;\">\n",
       "      <th></th>\n",
       "      <th>article</th>\n",
       "      <th>category</th>\n",
       "    </tr>\n",
       "  </thead>\n",
       "  <tbody>\n",
       "    <tr>\n",
       "      <th>1</th>\n",
       "      <td>%C3%81ed%C3%A1n_mac_Gabr%C3%A1in</td>\n",
       "      <td>subject.People.Historical_figures</td>\n",
       "    </tr>\n",
       "    <tr>\n",
       "      <th>4</th>\n",
       "      <td>%C3%89douard_Manet</td>\n",
       "      <td>subject.People.Artists</td>\n",
       "    </tr>\n",
       "    <tr>\n",
       "      <th>8</th>\n",
       "      <td>%C3%93engus_I_of_the_Picts</td>\n",
       "      <td>subject.People.Historical_figures</td>\n",
       "    </tr>\n",
       "  </tbody>\n",
       "</table>\n",
       "</div>"
      ],
      "text/plain": [
       "                            article                           category\n",
       "1  %C3%81ed%C3%A1n_mac_Gabr%C3%A1in  subject.People.Historical_figures\n",
       "4                %C3%89douard_Manet             subject.People.Artists\n",
       "8        %C3%93engus_I_of_the_Picts  subject.People.Historical_figures"
      ]
     },
     "execution_count": 125,
     "metadata": {},
     "output_type": "execute_result"
    }
   ],
   "source": [
    "people.head(3)"
   ]
  },
  {
   "cell_type": "code",
   "execution_count": 133,
   "id": "8f7ad9d9",
   "metadata": {},
   "outputs": [
    {
     "data": {
      "text/html": [
       "<div>\n",
       "<style scoped>\n",
       "    .dataframe tbody tr th:only-of-type {\n",
       "        vertical-align: middle;\n",
       "    }\n",
       "\n",
       "    .dataframe tbody tr th {\n",
       "        vertical-align: top;\n",
       "    }\n",
       "\n",
       "    .dataframe thead th {\n",
       "        text-align: right;\n",
       "    }\n",
       "</style>\n",
       "<table border=\"1\" class=\"dataframe\">\n",
       "  <thead>\n",
       "    <tr style=\"text-align: right;\">\n",
       "      <th></th>\n",
       "      <th>article</th>\n",
       "      <th>category</th>\n",
       "    </tr>\n",
       "  </thead>\n",
       "  <tbody>\n",
       "    <tr>\n",
       "      <th>count</th>\n",
       "      <td>711</td>\n",
       "      <td>711</td>\n",
       "    </tr>\n",
       "    <tr>\n",
       "      <th>unique</th>\n",
       "      <td>698</td>\n",
       "      <td>21</td>\n",
       "    </tr>\n",
       "    <tr>\n",
       "      <th>top</th>\n",
       "      <td>Leonardo_da_Vinci</td>\n",
       "      <td>subject.People.Historical_figures</td>\n",
       "    </tr>\n",
       "    <tr>\n",
       "      <th>freq</th>\n",
       "      <td>2</td>\n",
       "      <td>108</td>\n",
       "    </tr>\n",
       "  </tbody>\n",
       "</table>\n",
       "</div>"
      ],
      "text/plain": [
       "                  article                           category\n",
       "count                 711                                711\n",
       "unique                698                                 21\n",
       "top     Leonardo_da_Vinci  subject.People.Historical_figures\n",
       "freq                    2                                108"
      ]
     },
     "execution_count": 133,
     "metadata": {},
     "output_type": "execute_result"
    }
   ],
   "source": [
    "people.describe()"
   ]
  },
  {
   "cell_type": "code",
   "execution_count": 135,
   "id": "ae0ff498",
   "metadata": {},
   "outputs": [
    {
     "data": {
      "text/plain": [
       "2764                    subject.People.Artists\n",
       "2765    subject.People.Engineers_and_inventors\n",
       "Name: category, dtype: object"
      ]
     },
     "execution_count": 135,
     "metadata": {},
     "output_type": "execute_result"
    }
   ],
   "source": [
    "people.category[people.article=='Leonardo_da_Vinci']"
   ]
  },
  {
   "cell_type": "markdown",
   "id": "7ef373e6",
   "metadata": {},
   "source": [
    "There are 698 people in the dataset, that are divided in 21 different classes. Some people appear in different categories, but not more then two different. For example, Leonardo da Vinci, which was active as a painter, draughtsman, engineer, scientist, theorist, sculptor, and architect, belongs is classified into the categories `subject.People.Artists` and `subject.People.Engineers_and_inventors` of Wikipedia."
   ]
  },
  {
   "cell_type": "markdown",
   "id": "bcc7000b-189b-4415-9d44-0f08d4b24b85",
   "metadata": {},
   "source": [
    "Let's now have an overview of the 21 categories to which the peoples' articles belong."
   ]
  },
  {
   "cell_type": "code",
   "execution_count": 132,
   "id": "a63c92a7-a678-4ebf-9057-87d0d8d35745",
   "metadata": {},
   "outputs": [
    {
     "data": {
      "image/png": "[encoded data removed]",
      "text/plain": [
       "<Figure size 640x480 with 1 Axes>"
      ]
     },
     "metadata": {},
     "output_type": "display_data"
    }
   ],
   "source": [
    "people['category'].value_counts().plot(kind=\"bar\")\n",
    "plt.xlabel('People category')\n",
    "plt.ylabel('Absolute frequency of articles (people)')\n",
    "plt.title('Distribution of people category');"
   ]
  },
  {
   "cell_type": "markdown",
   "id": "2e6e034b",
   "metadata": {},
   "source": [
    "With the previous histogram, one can see that the category `subject.People.Historical_figures` countains the highest number of people, with more then 100 articles. The categories `subject.People.Writers_and_critics` and `subject.People.Political_People` are also very much represented with more then 60 articles each. "
   ]
  },
  {
   "cell_type": "markdown",
   "id": "3084fc8d-e53e-4a79-905b-a65b953180ff",
   "metadata": {},
   "source": [
    "As there are a lot of different categories for classifying peolples' articles, we might decide later on to regroup some of these categories together. Indeed, `..._Astronomers_and_physicists`, `..._Chemists`, `..._Mathematicians` and `..._Human_Scientists` could all be regrouped into the same category, as they all are researchers in fundamental sciences."
   ]
  },
  {
   "cell_type": "markdown",
   "id": "adffa49c",
   "metadata": {},
   "source": [
    "We can also extract articles about people belonging to a specific category. For example, below we create a new dataframe with all the historical figures given in the Wikispeedia dataset."
   ]
  },
  {
   "cell_type": "code",
   "execution_count": 142,
   "id": "43236265-1038-427c-98f4-7369a8a73f1a",
   "metadata": {},
   "outputs": [
    {
     "data": {
      "text/html": [
       "<div>\n",
       "<style scoped>\n",
       "    .dataframe tbody tr th:only-of-type {\n",
       "        vertical-align: middle;\n",
       "    }\n",
       "\n",
       "    .dataframe tbody tr th {\n",
       "        vertical-align: top;\n",
       "    }\n",
       "\n",
       "    .dataframe thead th {\n",
       "        text-align: right;\n",
       "    }\n",
       "</style>\n",
       "<table border=\"1\" class=\"dataframe\">\n",
       "  <thead>\n",
       "    <tr style=\"text-align: right;\">\n",
       "      <th></th>\n",
       "      <th>article</th>\n",
       "      <th>category</th>\n",
       "    </tr>\n",
       "  </thead>\n",
       "  <tbody>\n",
       "    <tr>\n",
       "      <th>1</th>\n",
       "      <td>%C3%81ed%C3%A1n_mac_Gabr%C3%A1in</td>\n",
       "      <td>subject.People.Historical_figures</td>\n",
       "    </tr>\n",
       "    <tr>\n",
       "      <th>8</th>\n",
       "      <td>%C3%93engus_I_of_the_Picts</td>\n",
       "      <td>subject.People.Historical_figures</td>\n",
       "    </tr>\n",
       "    <tr>\n",
       "      <th>88</th>\n",
       "      <td>Abbas_I_of_Persia</td>\n",
       "      <td>subject.People.Historical_figures</td>\n",
       "    </tr>\n",
       "    <tr>\n",
       "      <th>129</th>\n",
       "      <td>Adam_Smith</td>\n",
       "      <td>subject.People.Historical_figures</td>\n",
       "    </tr>\n",
       "    <tr>\n",
       "      <th>135</th>\n",
       "      <td>Adriaen_van_der_Donck</td>\n",
       "      <td>subject.People.Historical_figures</td>\n",
       "    </tr>\n",
       "  </tbody>\n",
       "</table>\n",
       "</div>"
      ],
      "text/plain": [
       "                              article                           category\n",
       "1    %C3%81ed%C3%A1n_mac_Gabr%C3%A1in  subject.People.Historical_figures\n",
       "8          %C3%93engus_I_of_the_Picts  subject.People.Historical_figures\n",
       "88                  Abbas_I_of_Persia  subject.People.Historical_figures\n",
       "129                        Adam_Smith  subject.People.Historical_figures\n",
       "135             Adriaen_van_der_Donck  subject.People.Historical_figures"
      ]
     },
     "execution_count": 142,
     "metadata": {},
     "output_type": "execute_result"
    }
   ],
   "source": [
    "historical_figures = categories_grouped.get_group('subject.People.Historical_figures')\n",
    "historical_figures.head()"
   ]
  },
  {
   "cell_type": "markdown",
   "id": "d01fe881",
   "metadata": {},
   "source": [
    "## 4.B Who are the people in our dataset?\n",
    "\n",
    "For now, our `people` dataset only countains the article names, corresponding to the peoples' name, and the category to which they belong. Hoqever, we do not have many usefull information about who these people are. The goal is here to extract useful informations on the people from the articles (Date of Birth, Nationality, Gender, etc), in order to be able in a second step to make statistics on (for instance), the 100 most central persons in the Wikispeedia's path's graph.\n"
   ]
  },
  {
   "cell_type": "markdown",
   "id": "e622447f",
   "metadata": {},
   "source": [
    "### 4.B.a Extracting the information from the plaintext"
   ]
  },
  {
   "cell_type": "markdown",
   "id": "6066edf7",
   "metadata": {},
   "source": [
    "In a first attempt, we tried to extract the informations stated before form the plaintext of the articles. The following code, tries to extract the information about the birth date of Albert Einstein. However, while doing this test, we realized that there was too much variability in the location of the informations in the plaintext files. Thus, this technique is not very robust to the difference between the Wikipedia articles. \n",
    "Later, in a second attempt, we will try to extract these informations from the html pages of the articles.\n"
   ]
  },
  {
   "cell_type": "markdown",
   "id": "19e8d002",
   "metadata": {},
   "source": [
    "We first access the folder `plaintext_articles`. We open the plaintext Whikipedia file of Albert Einstein `Albert_Einstein.txt`, and load the text as a list of strings (each line being a new element)."
   ]
  },
  {
   "cell_type": "code",
   "execution_count": 145,
   "id": "0cfe7819",
   "metadata": {},
   "outputs": [],
   "source": [
    "PATH_FOLDER = 'plaintext_articles/'\n",
    "\n",
    "# Defining paths\n",
    "Article_Albert_Einstein = open(PATH_FOLDER +\"Albert_Einstein.txt\",'r')\n",
    "lines_AE = Article_Albert_Einstein.readlines()"
   ]
  },
  {
   "cell_type": "markdown",
   "id": "dc7c6879",
   "metadata": {},
   "source": [
    "For each line of the list of string, we then search if the key word \"Born\" is present. If it is the case, the code extracts the text that comes after. Here, we can see that the birth date of Einstein has successfully been extracted."
   ]
  },
  {
   "cell_type": "code",
   "execution_count": 404,
   "id": "bef1f82b",
   "metadata": {},
   "outputs": [
    {
     "name": "stdout",
     "output_type": "stream",
     "text": [
      "['      March 14, 1879']\n"
     ]
    }
   ],
   "source": [
    "# A list to append extracted data\n",
    "list_extracted_data = []\n",
    "for line in lines_AE:\n",
    "# Flag is True if the line starts (special character for start: \\A) with 'Id of the track'\n",
    "    flag = re.search('Born',line)\n",
    "    if flag:\n",
    "        start_index = re.search('Born',line).end()\n",
    "        end_index = re.search('\\n',line).start() \n",
    "# Select the indices from each line as it contains our extracted data\n",
    "        list_extracted_data.append(line[start_index:end_index])\n",
    "        break\n",
    "print(list_extracted_data)"
   ]
  },
  {
   "cell_type": "markdown",
   "id": "6212b8b9",
   "metadata": {},
   "source": [
    "However, as stated before, this technique is not robust to the different forms of the Wikipedia articles. Indeed, we implemented a fucntion doing the previous steps for any article, but unfortunatelly it did not give good results."
   ]
  },
  {
   "cell_type": "markdown",
   "id": "62f884b4",
   "metadata": {},
   "source": [
    "### 4.B.b Extracting the information from the html page"
   ]
  },
  {
   "cell_type": "markdown",
   "id": "8cda25e1",
   "metadata": {},
   "source": [
    "In a second attempt, we try to extract the useful informations from the html Wikipedia pages of the articles. Indeed, the html pages are more structured then the plaintext, so extracting information is more robust to the different Wikipedia articles. "
   ]
  },
  {
   "cell_type": "markdown",
   "id": "658f184d-7291-4113-9dc9-9df421ec59d5",
   "metadata": {},
   "source": [
    "One uses `BeautifulSoup` and the preexisting html structure given in the `wpcd/wp/` folder to extract the wanted informations about the people from the Wikipedia articles.\\\n",
    "The main informations about the people are gathered in the infobox table of the Wikipedia page, so one accesses it to extract birth and death conditions, nationality and residence."
   ]
  },
  {
   "cell_type": "code",
   "execution_count": 148,
   "id": "138cf6e5-5fc6-4a40-a3d1-a819ac262c00",
   "metadata": {
    "tags": []
   },
   "outputs": [],
   "source": [
    "from bs4 import BeautifulSoup\n",
    "\n",
    "# One adds columns to the people dataframe for the categories one will consider\n",
    "personalInformation = ['Born', 'Died', 'Residence', 'Nationality']\n",
    "\n",
    "for header in personalInformation:\n",
    "    people[str(header)] = np.nan\n",
    "\n",
    "# One now extract all the informations file by file\n",
    "for article in people['article']:\n",
    "    article_string = str(article)\n",
    "    PATH = 'wpcd/wp/'+article_string[0].lower()+'/'+article_string+'.htm' #access the html file in the wpcd/wp folder\n",
    "    soup = BeautifulSoup(open(PATH, encoding=\"utf8\"), 'html.parser')\n",
    "    # only infobox informations interest us, so one reduces the dataset, if it exists. The if check is essential, since not all people have an information box.\n",
    "    if soup.find(class_ = 'infobox'):\n",
    "        infobox = soup.find(class_ = 'infobox') #Find the infobox\n",
    "        for title in personalInformation:\n",
    "            # a distinction between th and td cells need to be made, since box appear in wikipedia infoboxes (c.f. web inspector)\n",
    "            if infobox.find(\"th\", text=str(title)):\n",
    "                people.loc[people['article'] == article_string, str(title)] = infobox.find(\"th\", text=str(title)).find_next_sibling(\"td\").get_text(separator = ' ', strip = True)\n",
    "            elif infobox.find(\"td\", text=str(title)):\n",
    "                people.loc[people['article'] == article_string, str(title)] = infobox.find(\"td\", text=str(title)).find_next_sibling(\"td\").get_text(separator = ' ', strip = True)\n",
    "            "
   ]
  },
  {
   "cell_type": "code",
   "execution_count": 153,
   "id": "7e6e9f6d",
   "metadata": {},
   "outputs": [
    {
     "data": {
      "text/html": [
       "<div>\n",
       "<style scoped>\n",
       "    .dataframe tbody tr th:only-of-type {\n",
       "        vertical-align: middle;\n",
       "    }\n",
       "\n",
       "    .dataframe tbody tr th {\n",
       "        vertical-align: top;\n",
       "    }\n",
       "\n",
       "    .dataframe thead th {\n",
       "        text-align: right;\n",
       "    }\n",
       "</style>\n",
       "<table border=\"1\" class=\"dataframe\">\n",
       "  <thead>\n",
       "    <tr style=\"text-align: right;\">\n",
       "      <th></th>\n",
       "      <th>article</th>\n",
       "      <th>category</th>\n",
       "      <th>Born</th>\n",
       "      <th>Died</th>\n",
       "      <th>Residence</th>\n",
       "      <th>Nationality</th>\n",
       "    </tr>\n",
       "  </thead>\n",
       "  <tbody>\n",
       "    <tr>\n",
       "      <th>1</th>\n",
       "      <td>%C3%81ed%C3%A1n_mac_Gabr%C3%A1in</td>\n",
       "      <td>subject.People.Historical_figures</td>\n",
       "      <td>NaN</td>\n",
       "      <td>NaN</td>\n",
       "      <td>NaN</td>\n",
       "      <td>NaN</td>\n",
       "    </tr>\n",
       "    <tr>\n",
       "      <th>4</th>\n",
       "      <td>%C3%89douard_Manet</td>\n",
       "      <td>subject.People.Artists</td>\n",
       "      <td>January 23, 1832 Paris</td>\n",
       "      <td>April 30, 1883 Paris</td>\n",
       "      <td>NaN</td>\n",
       "      <td>French</td>\n",
       "    </tr>\n",
       "    <tr>\n",
       "      <th>8</th>\n",
       "      <td>%C3%93engus_I_of_the_Picts</td>\n",
       "      <td>subject.People.Historical_figures</td>\n",
       "      <td>NaN</td>\n",
       "      <td>761</td>\n",
       "      <td>NaN</td>\n",
       "      <td>NaN</td>\n",
       "    </tr>\n",
       "    <tr>\n",
       "      <th>67</th>\n",
       "      <td>A._E._J._Collins</td>\n",
       "      <td>subject.People.Sports_and_games_people</td>\n",
       "      <td>NaN</td>\n",
       "      <td>NaN</td>\n",
       "      <td>NaN</td>\n",
       "      <td>NaN</td>\n",
       "    </tr>\n",
       "    <tr>\n",
       "      <th>88</th>\n",
       "      <td>Abbas_I_of_Persia</td>\n",
       "      <td>subject.People.Historical_figures</td>\n",
       "      <td>NaN</td>\n",
       "      <td>NaN</td>\n",
       "      <td>NaN</td>\n",
       "      <td>NaN</td>\n",
       "    </tr>\n",
       "    <tr>\n",
       "      <th>95</th>\n",
       "      <td>Abel_Tasman</td>\n",
       "      <td>subject.People.Geographers_and_explorers</td>\n",
       "      <td>NaN</td>\n",
       "      <td>NaN</td>\n",
       "      <td>NaN</td>\n",
       "      <td>NaN</td>\n",
       "    </tr>\n",
       "    <tr>\n",
       "      <th>104</th>\n",
       "      <td>Abraham_Goldfaden</td>\n",
       "      <td>subject.People.Writers_and_critics</td>\n",
       "      <td>NaN</td>\n",
       "      <td>NaN</td>\n",
       "      <td>NaN</td>\n",
       "      <td>NaN</td>\n",
       "    </tr>\n",
       "    <tr>\n",
       "      <th>105</th>\n",
       "      <td>Abraham_Lincoln</td>\n",
       "      <td>subject.People.USA_Presidents</td>\n",
       "      <td>February 12, 1809 Hardin County, Kentucky</td>\n",
       "      <td>April 15, 1865 Washington, D.C.</td>\n",
       "      <td>NaN</td>\n",
       "      <td>NaN</td>\n",
       "    </tr>\n",
       "    <tr>\n",
       "      <th>129</th>\n",
       "      <td>Adam_Smith</td>\n",
       "      <td>subject.People.Historical_figures</td>\n",
       "      <td>NaN</td>\n",
       "      <td>NaN</td>\n",
       "      <td>NaN</td>\n",
       "      <td>NaN</td>\n",
       "    </tr>\n",
       "    <tr>\n",
       "      <th>133</th>\n",
       "      <td>Adi_Shankara</td>\n",
       "      <td>subject.People.Religious_figures_and_leaders</td>\n",
       "      <td>NaN</td>\n",
       "      <td>NaN</td>\n",
       "      <td>NaN</td>\n",
       "      <td>NaN</td>\n",
       "    </tr>\n",
       "  </tbody>\n",
       "</table>\n",
       "</div>"
      ],
      "text/plain": [
       "                              article  \\\n",
       "1    %C3%81ed%C3%A1n_mac_Gabr%C3%A1in   \n",
       "4                  %C3%89douard_Manet   \n",
       "8          %C3%93engus_I_of_the_Picts   \n",
       "67                   A._E._J._Collins   \n",
       "88                  Abbas_I_of_Persia   \n",
       "95                        Abel_Tasman   \n",
       "104                 Abraham_Goldfaden   \n",
       "105                   Abraham_Lincoln   \n",
       "129                        Adam_Smith   \n",
       "133                      Adi_Shankara   \n",
       "\n",
       "                                         category  \\\n",
       "1               subject.People.Historical_figures   \n",
       "4                          subject.People.Artists   \n",
       "8               subject.People.Historical_figures   \n",
       "67         subject.People.Sports_and_games_people   \n",
       "88              subject.People.Historical_figures   \n",
       "95       subject.People.Geographers_and_explorers   \n",
       "104            subject.People.Writers_and_critics   \n",
       "105                 subject.People.USA_Presidents   \n",
       "129             subject.People.Historical_figures   \n",
       "133  subject.People.Religious_figures_and_leaders   \n",
       "\n",
       "                                          Born  \\\n",
       "1                                          NaN   \n",
       "4                       January 23, 1832 Paris   \n",
       "8                                          NaN   \n",
       "67                                         NaN   \n",
       "88                                         NaN   \n",
       "95                                         NaN   \n",
       "104                                        NaN   \n",
       "105  February 12, 1809 Hardin County, Kentucky   \n",
       "129                                        NaN   \n",
       "133                                        NaN   \n",
       "\n",
       "                                Died Residence Nationality  \n",
       "1                                NaN       NaN         NaN  \n",
       "4               April 30, 1883 Paris       NaN      French  \n",
       "8                                761       NaN         NaN  \n",
       "67                               NaN       NaN         NaN  \n",
       "88                               NaN       NaN         NaN  \n",
       "95                               NaN       NaN         NaN  \n",
       "104                              NaN       NaN         NaN  \n",
       "105  April 15, 1865 Washington, D.C.       NaN         NaN  \n",
       "129                              NaN       NaN         NaN  \n",
       "133                              NaN       NaN         NaN  "
      ]
     },
     "execution_count": 153,
     "metadata": {},
     "output_type": "execute_result"
    }
   ],
   "source": [
    "people.head(10)"
   ]
  },
  {
   "cell_type": "markdown",
   "id": "77eaed44",
   "metadata": {},
   "source": [
    "We managed to extract the desired informations from the html article pages. However, many people possess NaN values for the different informations. This is due to the fact that some html pages do not have an infobox. Another explanation is that the information is not available inside the infobox.\\\n",
    "Let's check if the extraction of information from the html page worked correctly for our previous example Albert Einstein:"
   ]
  },
  {
   "cell_type": "code",
   "execution_count": 156,
   "id": "d77a35ee-3766-4cf2-a9fd-7f98a00f878d",
   "metadata": {},
   "outputs": [
    {
     "data": {
      "text/html": [
       "<div>\n",
       "<style scoped>\n",
       "    .dataframe tbody tr th:only-of-type {\n",
       "        vertical-align: middle;\n",
       "    }\n",
       "\n",
       "    .dataframe tbody tr th {\n",
       "        vertical-align: top;\n",
       "    }\n",
       "\n",
       "    .dataframe thead th {\n",
       "        text-align: right;\n",
       "    }\n",
       "</style>\n",
       "<table border=\"1\" class=\"dataframe\">\n",
       "  <thead>\n",
       "    <tr style=\"text-align: right;\">\n",
       "      <th></th>\n",
       "      <th>article</th>\n",
       "      <th>category</th>\n",
       "      <th>Born</th>\n",
       "      <th>Died</th>\n",
       "      <th>Residence</th>\n",
       "      <th>Nationality</th>\n",
       "    </tr>\n",
       "  </thead>\n",
       "  <tbody>\n",
       "    <tr>\n",
       "      <th>184</th>\n",
       "      <td>Albert_Einstein</td>\n",
       "      <td>subject.People.Astronomers_and_physicists</td>\n",
       "      <td>March 14, 1879 Ulm, Württemberg, Germany</td>\n",
       "      <td>April 18, 1955 Princeton, New Jersey</td>\n",
       "      <td>Germany , Italy , Switzerland , USA</td>\n",
       "      <td>German (1879-96, 1914-33) Swiss (1901-55) American (1940-55)</td>\n",
       "    </tr>\n",
       "  </tbody>\n",
       "</table>\n",
       "</div>"
      ],
      "text/plain": [
       "             article                                   category  \\\n",
       "184  Albert_Einstein  subject.People.Astronomers_and_physicists   \n",
       "\n",
       "                                         Born  \\\n",
       "184  March 14, 1879 Ulm, Württemberg, Germany   \n",
       "\n",
       "                                     Died  \\\n",
       "184  April 18, 1955 Princeton, New Jersey   \n",
       "\n",
       "                               Residence  \\\n",
       "184  Germany , Italy , Switzerland , USA   \n",
       "\n",
       "                                                      Nationality  \n",
       "184  German (1879-96, 1914-33) Swiss (1901-55) American (1940-55)  "
      ]
     },
     "execution_count": 156,
     "metadata": {},
     "output_type": "execute_result"
    }
   ],
   "source": [
    "people.loc[people['article'] == 'Albert_Einstein']"
   ]
  },
  {
   "cell_type": "markdown",
   "id": "dad8a1d3-d820-4c1e-a4e7-4cc091d3f769",
   "metadata": {},
   "source": [
    "As shows this last example on Albert Einstein, we managed to extract the informations. However, the columns countain multiple informations. For example, the `Born` column contains both the date of birth, but also the place of birth. Thus, the new columns need to be treated.\\\n",
    "One will therefore distinguish the birth and death dates and places. One will also only keep the nationalities and not the dates related to them, that interest us less.\\\n",
    "This will be done in future works."
   ]
  },
  {
   "cell_type": "markdown",
   "id": "812d7b72",
   "metadata": {},
   "source": [
    "Moreover, as stated before, some informations in the infobox are missing. Indeed, the infobow does not give information about the gender of the persons. As a result, in future works we are going to use the **Wikidata** dataset provided by Wikipedia. This dataset presents a structured form for the Wikipedia informations. Thus, from this dataset we will be able to extract the missing informations about people, such as information about gender.\\\n",
    "We could also use this dataset in order to extract more informations about the countries or other article of interest."
   ]
  },
  {
   "cell_type": "markdown",
   "id": "0874f7c9",
   "metadata": {},
   "source": [
    "**COMMENT FLORE** On enlève les 3 cellules en dessous et on dit qu'on va faire ça les next times ?"
   ]
  },
  {
   "cell_type": "code",
   "execution_count": 414,
   "id": "6430bfda-9ea6-43f1-838f-f370f76cd5b6",
   "metadata": {
    "tags": []
   },
   "outputs": [],
   "source": [
    "# To separate birth date and space, one splits at the year apparition the parenthesis allows to keep\n",
    "# the year in the string.\n",
    "people_born = people['Born'].str.split('\\n')\n",
    "#birth_date = people_born.dr"
   ]
  },
  {
   "cell_type": "code",
   "execution_count": 415,
   "id": "5bf6031f-13c7-4ede-a631-162179bff627",
   "metadata": {},
   "outputs": [
    {
     "ename": "SyntaxError",
     "evalue": "invalid syntax (110062283.py, line 2)",
     "output_type": "error",
     "traceback": [
      "\u001b[0;36m  Input \u001b[0;32mIn [415]\u001b[0;36m\u001b[0m\n\u001b[0;31m    people['birth_date'] = people_born.apply(lambda x: \"\".join(x[0:2]) if not x.isnan())\u001b[0m\n\u001b[0m                                                                                       ^\u001b[0m\n\u001b[0;31mSyntaxError\u001b[0m\u001b[0;31m:\u001b[0m invalid syntax\n"
     ]
    }
   ],
   "source": [
    "print(people_born)\n",
    "people['birth_date'] = people_born.apply(lambda x: \"\".join(x[0:2]) if not x.isnan())\n",
    "#people['birth_place'] = people_born\n",
    "print(people.loc[people['article'] == 'Albert_Einstein'])"
   ]
  },
  {
   "cell_type": "code",
   "execution_count": null,
   "id": "d4324368",
   "metadata": {},
   "outputs": [],
   "source": [
    "# Utiliser une fois qu'on aura extrès les dates\n",
    "#df['col'] = pd.to_datetime(df['col'])"
   ]
  },
  {
   "cell_type": "markdown",
   "id": "cecfa285",
   "metadata": {},
   "source": [
    "## 4.C What are the most important peoples according to Wikipedia's users?"
   ]
  },
  {
   "cell_type": "markdown",
   "id": "68a95c85",
   "metadata": {},
   "source": [
    "In a way similar to what we have done with the countries, we are going to use the centrality computed before. WE wish to determine what peoples are the most central in the graph created from the paths. This can provide us with interesting information on the importance of different peoples for Wikipedia's users. Who are the most famous persons ?"
   ]
  },
  {
   "cell_type": "markdown",
   "id": "38926a03",
   "metadata": {},
   "source": [
    "Thus, we start by extracting the centrality information of the people, from all the centralities computed before."
   ]
  },
  {
   "cell_type": "code",
   "execution_count": 179,
   "id": "cf9cb7e2",
   "metadata": {},
   "outputs": [
    {
     "data": {
      "text/html": [
       "<div>\n",
       "<style scoped>\n",
       "    .dataframe tbody tr th:only-of-type {\n",
       "        vertical-align: middle;\n",
       "    }\n",
       "\n",
       "    .dataframe tbody tr th {\n",
       "        vertical-align: top;\n",
       "    }\n",
       "\n",
       "    .dataframe thead th {\n",
       "        text-align: right;\n",
       "    }\n",
       "</style>\n",
       "<table border=\"1\" class=\"dataframe\">\n",
       "  <thead>\n",
       "    <tr style=\"text-align: right;\">\n",
       "      <th></th>\n",
       "      <th>article</th>\n",
       "      <th>centrality</th>\n",
       "      <th>category</th>\n",
       "    </tr>\n",
       "  </thead>\n",
       "  <tbody>\n",
       "    <tr>\n",
       "      <th>21</th>\n",
       "      <td>Ronald_Reagan</td>\n",
       "      <td>1.693434</td>\n",
       "      <td>subject.People.USA_Presidents</td>\n",
       "    </tr>\n",
       "    <tr>\n",
       "      <th>30</th>\n",
       "      <td>Isaac_Newton</td>\n",
       "      <td>2.040953</td>\n",
       "      <td>subject.People.Astronomers_and_physicists</td>\n",
       "    </tr>\n",
       "    <tr>\n",
       "      <th>33</th>\n",
       "      <td>Plato</td>\n",
       "      <td>1.583892</td>\n",
       "      <td>subject.People.Philosophers</td>\n",
       "    </tr>\n",
       "    <tr>\n",
       "      <th>42</th>\n",
       "      <td>Leonardo_da_Vinci</td>\n",
       "      <td>2.170778</td>\n",
       "      <td>subject.People.Artists</td>\n",
       "    </tr>\n",
       "    <tr>\n",
       "      <th>43</th>\n",
       "      <td>Leonardo_da_Vinci</td>\n",
       "      <td>2.170778</td>\n",
       "      <td>subject.People.Engineers_and_inventors</td>\n",
       "    </tr>\n",
       "    <tr>\n",
       "      <th>46</th>\n",
       "      <td>Archbishop_of_Canterbury</td>\n",
       "      <td>1.867003</td>\n",
       "      <td>subject.People.Religious_figures_and_leaders</td>\n",
       "    </tr>\n",
       "    <tr>\n",
       "      <th>88</th>\n",
       "      <td>James_I_of_England</td>\n",
       "      <td>2.315013</td>\n",
       "      <td>subject.People.Monarchs_of_Great_Britain</td>\n",
       "    </tr>\n",
       "    <tr>\n",
       "      <th>91</th>\n",
       "      <td>Henry_VI_of_England</td>\n",
       "      <td>1.507626</td>\n",
       "      <td>subject.People.Monarchs_of_Great_Britain</td>\n",
       "    </tr>\n",
       "    <tr>\n",
       "      <th>94</th>\n",
       "      <td>Henry_VIII_of_England</td>\n",
       "      <td>2.224436</td>\n",
       "      <td>subject.People.Monarchs_of_Great_Britain</td>\n",
       "    </tr>\n",
       "    <tr>\n",
       "      <th>108</th>\n",
       "      <td>Albert_Einstein</td>\n",
       "      <td>2.258804</td>\n",
       "      <td>subject.People.Astronomers_and_physicists</td>\n",
       "    </tr>\n",
       "  </tbody>\n",
       "</table>\n",
       "</div>"
      ],
      "text/plain": [
       "                      article  centrality  \\\n",
       "21              Ronald_Reagan    1.693434   \n",
       "30               Isaac_Newton    2.040953   \n",
       "33                      Plato    1.583892   \n",
       "42          Leonardo_da_Vinci    2.170778   \n",
       "43          Leonardo_da_Vinci    2.170778   \n",
       "46   Archbishop_of_Canterbury    1.867003   \n",
       "88         James_I_of_England    2.315013   \n",
       "91        Henry_VI_of_England    1.507626   \n",
       "94      Henry_VIII_of_England    2.224436   \n",
       "108           Albert_Einstein    2.258804   \n",
       "\n",
       "                                         category  \n",
       "21                  subject.People.USA_Presidents  \n",
       "30      subject.People.Astronomers_and_physicists  \n",
       "33                    subject.People.Philosophers  \n",
       "42                         subject.People.Artists  \n",
       "43         subject.People.Engineers_and_inventors  \n",
       "46   subject.People.Religious_figures_and_leaders  \n",
       "88       subject.People.Monarchs_of_Great_Britain  \n",
       "91       subject.People.Monarchs_of_Great_Britain  \n",
       "94       subject.People.Monarchs_of_Great_Britain  \n",
       "108     subject.People.Astronomers_and_physicists  "
      ]
     },
     "execution_count": 179,
     "metadata": {},
     "output_type": "execute_result"
    }
   ],
   "source": [
    "people_centrality = centralities[centralities['category'].str.contains('People')]\n",
    "people_centrality.head(10)"
   ]
  },
  {
   "cell_type": "markdown",
   "id": "9abf1b36",
   "metadata": {},
   "source": [
    "In order to determine who are the most \"famous\" persons, we now sort the centrality scores in a descending way. Here, we output the 10 most famous persons. "
   ]
  },
  {
   "cell_type": "code",
   "execution_count": 173,
   "id": "8cc2f00c",
   "metadata": {},
   "outputs": [
    {
     "data": {
      "text/html": [
       "<div>\n",
       "<style scoped>\n",
       "    .dataframe tbody tr th:only-of-type {\n",
       "        vertical-align: middle;\n",
       "    }\n",
       "\n",
       "    .dataframe tbody tr th {\n",
       "        vertical-align: top;\n",
       "    }\n",
       "\n",
       "    .dataframe thead th {\n",
       "        text-align: right;\n",
       "    }\n",
       "</style>\n",
       "<table border=\"1\" class=\"dataframe\">\n",
       "  <thead>\n",
       "    <tr style=\"text-align: right;\">\n",
       "      <th></th>\n",
       "      <th>article</th>\n",
       "      <th>centrality</th>\n",
       "      <th>category</th>\n",
       "    </tr>\n",
       "  </thead>\n",
       "  <tbody>\n",
       "    <tr>\n",
       "      <th>158</th>\n",
       "      <td>George_W._Bush</td>\n",
       "      <td>2.497528</td>\n",
       "      <td>subject.People.USA_Presidents</td>\n",
       "    </tr>\n",
       "    <tr>\n",
       "      <th>945</th>\n",
       "      <td>Elizabeth_II_of_the_United_Kingdom</td>\n",
       "      <td>2.470971</td>\n",
       "      <td>subject.People.Political_People</td>\n",
       "    </tr>\n",
       "    <tr>\n",
       "      <th>1636</th>\n",
       "      <td>J._K._Rowling</td>\n",
       "      <td>2.436281</td>\n",
       "      <td>subject.People.Writers_and_critics</td>\n",
       "    </tr>\n",
       "    <tr>\n",
       "      <th>120</th>\n",
       "      <td>George_Washington</td>\n",
       "      <td>2.433914</td>\n",
       "      <td>subject.People.USA_Presidents</td>\n",
       "    </tr>\n",
       "    <tr>\n",
       "      <th>600</th>\n",
       "      <td>Martin_Luther_King%2C_Jr.</td>\n",
       "      <td>2.410108</td>\n",
       "      <td>subject.People.Political_People</td>\n",
       "    </tr>\n",
       "    <tr>\n",
       "      <th>650</th>\n",
       "      <td>Adolf_Hitler</td>\n",
       "      <td>2.406876</td>\n",
       "      <td>subject.People.Political_People</td>\n",
       "    </tr>\n",
       "    <tr>\n",
       "      <th>470</th>\n",
       "      <td>Christopher_Columbus</td>\n",
       "      <td>2.370931</td>\n",
       "      <td>subject.People.Geographers_and_explorers</td>\n",
       "    </tr>\n",
       "    <tr>\n",
       "      <th>371</th>\n",
       "      <td>Stephen_Hawking</td>\n",
       "      <td>2.363584</td>\n",
       "      <td>subject.People.Astronomers_and_physicists</td>\n",
       "    </tr>\n",
       "    <tr>\n",
       "      <th>132</th>\n",
       "      <td>Abraham_Lincoln</td>\n",
       "      <td>2.341332</td>\n",
       "      <td>subject.People.USA_Presidents</td>\n",
       "    </tr>\n",
       "    <tr>\n",
       "      <th>654</th>\n",
       "      <td>Jesus</td>\n",
       "      <td>2.329501</td>\n",
       "      <td>subject.People.Religious_figures_and_leaders</td>\n",
       "    </tr>\n",
       "  </tbody>\n",
       "</table>\n",
       "</div>"
      ],
      "text/plain": [
       "                                 article  centrality  \\\n",
       "158                       George_W._Bush    2.497528   \n",
       "945   Elizabeth_II_of_the_United_Kingdom    2.470971   \n",
       "1636                       J._K._Rowling    2.436281   \n",
       "120                    George_Washington    2.433914   \n",
       "600            Martin_Luther_King%2C_Jr.    2.410108   \n",
       "650                         Adolf_Hitler    2.406876   \n",
       "470                 Christopher_Columbus    2.370931   \n",
       "371                      Stephen_Hawking    2.363584   \n",
       "132                      Abraham_Lincoln    2.341332   \n",
       "654                                Jesus    2.329501   \n",
       "\n",
       "                                          category  \n",
       "158                  subject.People.USA_Presidents  \n",
       "945                subject.People.Political_People  \n",
       "1636            subject.People.Writers_and_critics  \n",
       "120                  subject.People.USA_Presidents  \n",
       "600                subject.People.Political_People  \n",
       "650                subject.People.Political_People  \n",
       "470       subject.People.Geographers_and_explorers  \n",
       "371      subject.People.Astronomers_and_physicists  \n",
       "132                  subject.People.USA_Presidents  \n",
       "654   subject.People.Religious_figures_and_leaders  "
      ]
     },
     "execution_count": 173,
     "metadata": {},
     "output_type": "execute_result"
    }
   ],
   "source": [
    "people_centr_sorted = people_centrality.sort_values(by=['centrality'],ascending=False)\n",
    "people_centr_sorted.head(10)"
   ]
  },
  {
   "cell_type": "markdown",
   "id": "f9f899bc",
   "metadata": {},
   "source": [
    "So according to Wikipedia's users the three most famous persons are George W. Bush, Elizabeth II of the United Kingtom and J. K. Rowling!\\\n",
    "Here is a glimpse of what the most famous person looks like.\\\n",
    "Unfortunatelly, the images for Elizabeth II and J. K. Rowling were not available in the dataset."
   ]
  },
  {
   "cell_type": "code",
   "execution_count": 182,
   "id": "4acf4ae3",
   "metadata": {},
   "outputs": [
    {
     "data": {
      "image/jpeg": "[encoded data removed]",
      "text/plain": [
       "<IPython.core.display.Image object>"
      ]
     },
     "execution_count": 182,
     "metadata": {
      "image/jpeg": {
       "height": 300,
       "width": 300
      }
     },
     "output_type": "execute_result"
    }
   ],
   "source": [
    "from IPython.display import Image\n",
    "\n",
    "Image('./wpcd/images/109/10901.jpg', width=300,height=300)"
   ]
  },
  {
   "cell_type": "markdown",
   "id": "35ce8e3d",
   "metadata": {},
   "source": [
    "Let's now interest ourselves in the 100 most famous people. To which category do they belong ?"
   ]
  },
  {
   "cell_type": "code",
   "execution_count": 203,
   "id": "71704830",
   "metadata": {},
   "outputs": [],
   "source": [
    "people100= people_centr_sorted.head(100)"
   ]
  },
  {
   "cell_type": "code",
   "execution_count": 204,
   "id": "626f3d50",
   "metadata": {},
   "outputs": [
    {
     "data": {
      "image/png": "[encoded data removed]",
      "text/plain": [
       "<Figure size 640x480 with 1 Axes>"
      ]
     },
     "metadata": {},
     "output_type": "display_data"
    }
   ],
   "source": [
    "people100['category'].value_counts().plot(kind=\"bar\")\n",
    "plt.xlabel('People category')\n",
    "plt.ylabel('Absolute frequency of people')\n",
    "plt.title('Distribution of most famous people category');"
   ]
  },
  {
   "cell_type": "markdown",
   "id": "b082163f",
   "metadata": {},
   "source": [
    "The histogram shows that amoung the 100 most famous people, the highest number belongs to the `Monarchs_of_Great_Britain` category. This is certainly due to the fact that the Wikispeedia game and Wikipedia pages are writen in english, so mostly used be english speaking users.\\\n",
    "Moreover, the most important category is not robust to the size of the sample we use. Indeed, when selecting the 30 most famous people, the `Writers_and_critics` category is the most important."
   ]
  },
  {
   "cell_type": "markdown",
   "id": "0642423b-54e7-4209-83ad-f1e3fddb49b6",
   "metadata": {},
   "source": [
    "## 4.D Linking people and countries"
   ]
  },
  {
   "cell_type": "markdown",
   "id": "f2441727-5e76-4daf-af60-3a735e4ea734",
   "metadata": {},
   "source": [
    "To see how countries and people are related, one looks at the links file and keeps only relationships showing how people are linked to countries and the converse."
   ]
  },
  {
   "cell_type": "code",
   "execution_count": null,
   "id": "095536b2-e0d5-4c03-9777-df21526b6633",
   "metadata": {},
   "outputs": [],
   "source": [
    "links.head()"
   ]
  },
  {
   "cell_type": "code",
   "execution_count": null,
   "id": "204889b5-89dd-46c5-b659-2bf8111081bf",
   "metadata": {},
   "outputs": [],
   "source": [
    "links.describe()"
   ]
  },
  {
   "cell_type": "markdown",
   "id": "2aaa9370-a72b-41de-97ee-d3183d21da08",
   "metadata": {},
   "source": [
    "The description already shows that the most common link source and target is the United States. This is non-trivial, since the metric is non-symmetric."
   ]
  },
  {
   "cell_type": "code",
   "execution_count": null,
   "id": "b8120a52-5246-4ee5-a6a7-a323d84ca0c1",
   "metadata": {},
   "outputs": [],
   "source": [
    "links.isna().sum()"
   ]
  },
  {
   "cell_type": "markdown",
   "id": "98957542-e270-4b16-848f-d2fb87b5aa86",
   "metadata": {},
   "source": [
    "No Na value appears in the file, so one can directly begin to play with data."
   ]
  },
  {
   "cell_type": "markdown",
   "id": "6ca8274f-e0e5-4b3a-8ed5-c9818bcf6304",
   "metadata": {},
   "source": [
    "One can now distinguish four different subsets that relate countries and people: 1) How a given source country reaches target people. 2) How a given target people is reached by source countries. 3) How a given source person reaches target countries. 4) How a given target country is reached by source people.\n",
    "Studying these four subsets should provide insights on the asymmetry degree of the relationships and the way people and countries are related."
   ]
  },
  {
   "cell_type": "markdown",
   "id": "110ae665-24cc-4cd7-8c2f-371a0467ca23",
   "metadata": {},
   "source": [
    "First, one divides the links dataset in two groups: one according to the source, the other to the target."
   ]
  },
  {
   "cell_type": "code",
   "execution_count": null,
   "id": "106e87c4-5766-400b-b5a2-2b2cfcf5a650",
   "metadata": {},
   "outputs": [],
   "source": [
    "grouped_source_links = links.groupby(by=\"linkSource\")\n",
    "grouped_source_links.head()"
   ]
  },
  {
   "cell_type": "code",
   "execution_count": null,
   "id": "227a229e-cf29-4bb7-81fa-fdd3d54ca744",
   "metadata": {},
   "outputs": [],
   "source": [
    "grouped_source_links.describe()"
   ]
  },
  {
   "cell_type": "code",
   "execution_count": null,
   "id": "b73936f2-e0cd-4fb3-b1ca-15d32fcec4a5",
   "metadata": {},
   "outputs": [],
   "source": [
    "grouped_target_links = links.groupby(by=\"linkTarget\")\n",
    "grouped_target_links.head()"
   ]
  },
  {
   "cell_type": "code",
   "execution_count": null,
   "id": "33d34d89-294c-4068-9c78-a29a3308d2d2",
   "metadata": {},
   "outputs": [],
   "source": [
    "grouped_target_links.describe()"
   ]
  },
  {
   "cell_type": "markdown",
   "id": "12c38636-34ca-404a-85a1-80c48254629b",
   "metadata": {},
   "source": [
    "Filtering is made using the check_word function. It checks if the article belongs to the countries or people list."
   ]
  },
  {
   "cell_type": "code",
   "execution_count": null,
   "id": "5db6816a-9898-4e22-95ea-d3cd7fbd211b",
   "metadata": {},
   "outputs": [],
   "source": [
    "import re\n",
    "\n",
    "def check_word(word, list_words):\n",
    "    '''Inputs:\n",
    "            word: string\n",
    "            list_words: string\n",
    "        Return:\n",
    "            True if the word is in the list_words\n",
    "            False otherwise\n",
    "    '''\n",
    "    if any(article in re.findall(r\"[\\w']+\", word) for article in list_words):\n",
    "        return True \n",
    "    else:\n",
    "         return False"
   ]
  },
  {
   "cell_type": "markdown",
   "id": "67b7c09b-3a38-4dc1-bd43-819957c0512b",
   "metadata": {},
   "source": [
    "One calls the four subsets as following: 1) country_to_people 2) people_from_country 3) people_to_country 4) country_from_people. One proceeds in two steps: first isolate the country or people of interest on one column, then on the other.\n",
    "\n",
    "Comment Killian: ça prend un temps fou à s'exécuter, dites si vous avez une méthode plus rapide."
   ]
  },
  {
   "cell_type": "code",
   "execution_count": null,
   "id": "fc226a46-ba89-42e1-b87c-aec25c97bdc2",
   "metadata": {},
   "outputs": [],
   "source": [
    "country_to_people = grouped_source_links.filter(lambda x : check_word(str(x['linkSource']), str(all_countries['article'])) & check_word(str(x['linkTarget']), str(people_grouped['article'])))\n",
    "print('There are {} countries that target people.'.format(len(country_to_people)))\n",
    "people_from_country = grouped_source_links.filter(lambda x :check_word(str(x['linkSource']), str(people_grouped['article'])) & check_word(str(x['linkTarget']), str(all_countries['article'])))\n",
    "print('There are {} people that are targeted by countries.'.format(len(people_from_country)))\n",
    "people_to_country = grouped_target_links.filter(lambda x : check_word(str(x['linkSource']), str(all_countries['article'])) & check_word(str(x['linkTarget']), str(people_grouped['article'])))\n",
    "print('There are {} people that target countries.'.format(len(people_to_country)))\n",
    "country_from_people = grouped_source_links.filter(lambda x : check_word(str(x['linkSource']), str(people_grouped['article'])) & check_word(str(x['linkTarget']), str(all_countries['article'])))\n",
    "print('There are {} countries that are targeted by people.'.format(len(country_from_people)))"
   ]
  },
  {
   "cell_type": "markdown",
   "id": "b7ca973a-fd0b-40e0-92b6-92e4e9cd0803",
   "metadata": {},
   "source": [
    "One first converts url-encoded names into usual ones."
   ]
  },
  {
   "cell_type": "markdown",
   "id": "5d9733b2",
   "metadata": {},
   "source": [
    "# 5. Historical events\n",
    "\n",
    "With the two previous sections, we started investigating the Wikiworld (i.e the world depicted by Wikipedia’s users through their navigation between articles) on two axes. Indeed, we now know the wikiworld from a geographical point of view, and we have insights into its population (represented by the most important people in the wikispeedia’s graph). But what about its history? \n",
    "\n",
    "As before, we will use centrality to determine the most important historical events. The goal is to obtain some kind of chronological timeline with the most important events (according to Wikipedia's users), which will create the history of the Wikiworld."
   ]
  },
  {
   "cell_type": "markdown",
   "id": "d55143a5",
   "metadata": {},
   "source": [
    "To begin with, we filter the centrality dataframe by category to extract the articles related to history. Since the category `British_History` has many subcategories, we combine them into one."
   ]
  },
  {
   "cell_type": "code",
   "execution_count": 172,
   "id": "697ebd36",
   "metadata": {},
   "outputs": [],
   "source": [
    "history = centralities[centralities['category'].str.contains('History')]"
   ]
  },
  {
   "cell_type": "code",
   "execution_count": 206,
   "id": "db32b965",
   "metadata": {},
   "outputs": [
    {
     "name": "stdout",
     "output_type": "stream",
     "text": [
      "There are 441 historical subjects in the dataset, that are divided in 10 different classes.\n"
     ]
    },
    {
     "name": "stderr",
     "output_type": "stream",
     "text": [
      "C:\\Users\\Flore.MININT-64PJ14C\\AppData\\Local\\Temp\\ipykernel_18160\\1036062399.py:2: SettingWithCopyWarning:\n",
      "\n",
      "\n",
      "A value is trying to be set on a copy of a slice from a DataFrame\n",
      "\n",
      "See the caveats in the documentation: https://pandas.pydata.org/pandas-docs/stable/user_guide/indexing.html#returning-a-view-versus-a-copy\n",
      "\n"
     ]
    }
   ],
   "source": [
    "history = centralities[centralities['category'].str.contains('History')]\n",
    "history['category'].mask(history['category'].str.contains('British_History') ,'subject.History.British_History', inplace=True)\n",
    "history_grouped = history.groupby(by=\"category\")\n",
    "print(\"There are {0} historical subjects in the dataset, that are divided in {1} different classes.\".format(history.nunique()[0],history.nunique()[2]))"
   ]
  },
  {
   "cell_type": "code",
   "execution_count": 207,
   "id": "330020ce",
   "metadata": {},
   "outputs": [
    {
     "data": {
      "text/html": [
       "<div>\n",
       "<style scoped>\n",
       "    .dataframe tbody tr th:only-of-type {\n",
       "        vertical-align: middle;\n",
       "    }\n",
       "\n",
       "    .dataframe tbody tr th {\n",
       "        vertical-align: top;\n",
       "    }\n",
       "\n",
       "    .dataframe thead th {\n",
       "        text-align: right;\n",
       "    }\n",
       "</style>\n",
       "<table border=\"1\" class=\"dataframe\">\n",
       "  <thead>\n",
       "    <tr style=\"text-align: right;\">\n",
       "      <th></th>\n",
       "      <th>article</th>\n",
       "      <th>centrality</th>\n",
       "      <th>category</th>\n",
       "    </tr>\n",
       "  </thead>\n",
       "  <tbody>\n",
       "    <tr>\n",
       "      <th>0</th>\n",
       "      <td>14th_century</td>\n",
       "      <td>1.822051</td>\n",
       "      <td>subject.History.General_history</td>\n",
       "    </tr>\n",
       "    <tr>\n",
       "      <th>1</th>\n",
       "      <td>15th_century</td>\n",
       "      <td>1.927752</td>\n",
       "      <td>subject.History.General_history</td>\n",
       "    </tr>\n",
       "    <tr>\n",
       "      <th>2</th>\n",
       "      <td>16th_century</td>\n",
       "      <td>2.031601</td>\n",
       "      <td>subject.History.General_history</td>\n",
       "    </tr>\n",
       "    <tr>\n",
       "      <th>7</th>\n",
       "      <td>Atlantic_slave_trade</td>\n",
       "      <td>2.310714</td>\n",
       "      <td>subject.History.British_History</td>\n",
       "    </tr>\n",
       "    <tr>\n",
       "      <th>13</th>\n",
       "      <td>British_Empire</td>\n",
       "      <td>2.522856</td>\n",
       "      <td>subject.History.British_History</td>\n",
       "    </tr>\n",
       "  </tbody>\n",
       "</table>\n",
       "</div>"
      ],
      "text/plain": [
       "                 article  centrality                         category\n",
       "0           14th_century    1.822051  subject.History.General_history\n",
       "1           15th_century    1.927752  subject.History.General_history\n",
       "2           16th_century    2.031601  subject.History.General_history\n",
       "7   Atlantic_slave_trade    2.310714  subject.History.British_History\n",
       "13        British_Empire    2.522856  subject.History.British_History"
      ]
     },
     "execution_count": 207,
     "metadata": {},
     "output_type": "execute_result"
    }
   ],
   "source": [
    "history.head()"
   ]
  },
  {
   "cell_type": "markdown",
   "id": "8ae0ef2a",
   "metadata": {},
   "source": [
    "We sort the articles based on their importance on the graph, i.e. their centrality:"
   ]
  },
  {
   "cell_type": "code",
   "execution_count": 208,
   "id": "2b43dd3f",
   "metadata": {
    "scrolled": true
   },
   "outputs": [
    {
     "data": {
      "text/html": [
       "<div>\n",
       "<style scoped>\n",
       "    .dataframe tbody tr th:only-of-type {\n",
       "        vertical-align: middle;\n",
       "    }\n",
       "\n",
       "    .dataframe tbody tr th {\n",
       "        vertical-align: top;\n",
       "    }\n",
       "\n",
       "    .dataframe thead th {\n",
       "        text-align: right;\n",
       "    }\n",
       "</style>\n",
       "<table border=\"1\" class=\"dataframe\">\n",
       "  <thead>\n",
       "    <tr style=\"text-align: right;\">\n",
       "      <th></th>\n",
       "      <th>article</th>\n",
       "      <th>centrality</th>\n",
       "      <th>category</th>\n",
       "    </tr>\n",
       "  </thead>\n",
       "  <tbody>\n",
       "    <tr>\n",
       "      <th>62</th>\n",
       "      <td>World_War_II</td>\n",
       "      <td>2.546083</td>\n",
       "      <td>subject.History.British_History</td>\n",
       "    </tr>\n",
       "    <tr>\n",
       "      <th>13</th>\n",
       "      <td>British_Empire</td>\n",
       "      <td>2.522856</td>\n",
       "      <td>subject.History.British_History</td>\n",
       "    </tr>\n",
       "    <tr>\n",
       "      <th>239</th>\n",
       "      <td>Great_Britain</td>\n",
       "      <td>2.491359</td>\n",
       "      <td>subject.History.British_History</td>\n",
       "    </tr>\n",
       "    <tr>\n",
       "      <th>63</th>\n",
       "      <td>Nuclear_weapon</td>\n",
       "      <td>2.487048</td>\n",
       "      <td>subject.History.Military_History_and_War</td>\n",
       "    </tr>\n",
       "    <tr>\n",
       "      <th>130</th>\n",
       "      <td>American_Civil_War</td>\n",
       "      <td>2.486808</td>\n",
       "      <td>subject.History.Pre_1900_Military</td>\n",
       "    </tr>\n",
       "    <tr>\n",
       "      <th>923</th>\n",
       "      <td>Nazi_Germany</td>\n",
       "      <td>2.480684</td>\n",
       "      <td>subject.History.World_War_II</td>\n",
       "    </tr>\n",
       "    <tr>\n",
       "      <th>884</th>\n",
       "      <td>United_States_Declaration_of_Independence</td>\n",
       "      <td>2.474992</td>\n",
       "      <td>subject.History.North_American_History</td>\n",
       "    </tr>\n",
       "    <tr>\n",
       "      <th>944</th>\n",
       "      <td>Elizabeth_II_of_the_United_Kingdom</td>\n",
       "      <td>2.470971</td>\n",
       "      <td>subject.History.British_History</td>\n",
       "    </tr>\n",
       "    <tr>\n",
       "      <th>809</th>\n",
       "      <td>Cold_War</td>\n",
       "      <td>2.468385</td>\n",
       "      <td>subject.History.Recent_History</td>\n",
       "    </tr>\n",
       "    <tr>\n",
       "      <th>385</th>\n",
       "      <td>Soviet_Union</td>\n",
       "      <td>2.447202</td>\n",
       "      <td>subject.History.Recent_History</td>\n",
       "    </tr>\n",
       "  </tbody>\n",
       "</table>\n",
       "</div>"
      ],
      "text/plain": [
       "                                       article  centrality  \\\n",
       "62                                World_War_II    2.546083   \n",
       "13                              British_Empire    2.522856   \n",
       "239                              Great_Britain    2.491359   \n",
       "63                              Nuclear_weapon    2.487048   \n",
       "130                         American_Civil_War    2.486808   \n",
       "923                               Nazi_Germany    2.480684   \n",
       "884  United_States_Declaration_of_Independence    2.474992   \n",
       "944         Elizabeth_II_of_the_United_Kingdom    2.470971   \n",
       "809                                   Cold_War    2.468385   \n",
       "385                               Soviet_Union    2.447202   \n",
       "\n",
       "                                     category  \n",
       "62            subject.History.British_History  \n",
       "13            subject.History.British_History  \n",
       "239           subject.History.British_History  \n",
       "63   subject.History.Military_History_and_War  \n",
       "130         subject.History.Pre_1900_Military  \n",
       "923              subject.History.World_War_II  \n",
       "884    subject.History.North_American_History  \n",
       "944           subject.History.British_History  \n",
       "809            subject.History.Recent_History  \n",
       "385            subject.History.Recent_History  "
      ]
     },
     "execution_count": 208,
     "metadata": {},
     "output_type": "execute_result"
    }
   ],
   "source": [
    "history_sorted = history.sort_values(by=['centrality'],ascending=False)\n",
    "history_sorted.head(10)"
   ]
  },
  {
   "cell_type": "markdown",
   "id": "589a74a1",
   "metadata": {},
   "source": [
    "Let’s consider only the 30 most popular / more important events/subjects related to History. What can we say about them ?"
   ]
  },
  {
   "cell_type": "code",
   "execution_count": 209,
   "id": "1a023c64",
   "metadata": {},
   "outputs": [],
   "source": [
    "history30 = history_sorted.head(30)"
   ]
  },
  {
   "cell_type": "code",
   "execution_count": 210,
   "id": "8ba2818e",
   "metadata": {},
   "outputs": [
    {
     "data": {
      "image/png": "[encoded data removed]",
      "text/plain": [
       "<Figure size 640x480 with 1 Axes>"
      ]
     },
     "metadata": {},
     "output_type": "display_data"
    }
   ],
   "source": [
    "history30['category'].value_counts().plot(kind=\"bar\")\n",
    "plt.xlabel('History category')\n",
    "plt.ylabel('Absolute frequency of events')\n",
    "plt.title('Distribution of most important historical events\\' category');"
   ]
  },
  {
   "cell_type": "markdown",
   "id": "f41f8ae7",
   "metadata": {},
   "source": [
    "We face an issue here. Indeed, our first idea was to consider only the historical events to make some kind of chronological timeline. However, looking into the articles that we have, many of the ones related to history, especially the most central ones, are not historical events (for example British_Empire, Nuclear_Weapon…). The question is now, what can we do with those to characterize the history that is told by Wikispeedia’s graph? If we consider the category, then British History is predominant. Should we focus on Recent History ? Find a way to filter the events ? Make clusters ?\n",
    "\n",
    "All these questions are open and will be discussed or addressed later in this project."
   ]
  },
  {
   "cell_type": "markdown",
   "id": "62e030bb",
   "metadata": {},
   "source": [
    "# 6. Appendix"
   ]
  },
  {
   "cell_type": "markdown",
   "id": "b32fb290",
   "metadata": {},
   "source": [
    "The article names are URL-encoded.Thus, the following code allows to decode the article names. We did not us it here, but might use it in the future for better readability. "
   ]
  },
  {
   "cell_type": "code",
   "execution_count": null,
   "id": "a127e56f-ad5b-44e3-a818-86ef191e44ac",
   "metadata": {},
   "outputs": [],
   "source": [
    "from urllib.parse import unquote\n",
    "\n",
    "articles['article'] = articles['article'].apply(lambda x: unquote(x))\n",
    "categories['article'] = categories['article'].apply(lambda x: unquote(x))\n",
    "links['linkSource'] = links['linkSource'].apply(lambda x: unquote(x))\n",
    "links['linkTarget'] = links['linkTarget'].apply(lambda x: unquote(x))\n",
    "path_finished['path'] = path_finished['path'].apply(lambda x: unquote(x))\n",
    "path_unfinished['path'] = path_unfinished['path'].apply(lambda x: unquote(x))\n",
    "path_unfinished['target'] = path_unfinished['target'].apply(lambda x: unquote(x))"
   ]
  },
  {
   "cell_type": "code",
   "execution_count": null,
   "id": "e4164917",
   "metadata": {},
   "outputs": [],
   "source": []
  }
 ],
 "metadata": {
  "kernelspec": {
   "display_name": "Python 3.9.13 ('ada')",
   "language": "python",
   "name": "python3"
  },
  "language_info": {
   "codemirror_mode": {
    "name": "ipython",
    "version": 3
   },
   "file_extension": ".py",
   "mimetype": "text/x-python",
   "name": "python",
   "nbconvert_exporter": "python",
   "pygments_lexer": "ipython3",
   "version": "3.9.13"
  },
  "vscode": {
   "interpreter": {
    "hash": "dbade574d15fe17e8f9491db4f014f1a98c0fdcad9107a7475d20a32d7a2211c"
   }
  }
 },
 "nbformat": 4,
 "nbformat_minor": 5
}
