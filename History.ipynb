{
 "cells": [
  {
   "cell_type": "code",
   "execution_count": 1,
   "id": "c544f69f",
   "metadata": {},
   "outputs": [],
   "source": [
    "%matplotlib inline\n",
    "import pandas as pd\n",
    "import numpy as np\n",
    "import matplotlib.pyplot as plt"
   ]
  },
  {
   "cell_type": "code",
   "execution_count": 2,
   "id": "2629ac6d",
   "metadata": {},
   "outputs": [],
   "source": [
    "pd.options.display.max_colwidth = 200 #allows to desplay the entire strings in the dataframe"
   ]
  },
  {
   "cell_type": "markdown",
   "id": "c6172a5f",
   "metadata": {},
   "source": [
    "# Load Data"
   ]
  },
  {
   "cell_type": "code",
   "execution_count": 3,
   "id": "bf1d86e0",
   "metadata": {
    "scrolled": true
   },
   "outputs": [],
   "source": [
    "# Folder\n",
    "PATH_FOLDER = 'wikispeedia_paths-and-graph/'\n",
    "\n",
    "# Defining paths\n",
    "ARTICLES_DATA = PATH_FOLDER + \"articles.tsv\"\n",
    "CATEGORIES_DATA = PATH_FOLDER + \"categories.tsv\"\n",
    "LINKS_DATA = PATH_FOLDER + \"links.tsv\"\n",
    "PATH_FINISHED_DATA = PATH_FOLDER + \"paths_finished.tsv\"\n",
    "PATH_UNFINISHED_DATA = PATH_FOLDER + \"paths_unfinished.tsv\"\n",
    "SHORTESTPATH_DATA = PATH_FOLDER + \"shortest-path-distance-matrix.txt\"\n",
    "\n",
    "# Loading all data series\n",
    "articles = pd.read_csv(ARTICLES_DATA, header=None, names=['article'], comment='#')\n",
    "categories = pd.read_csv(CATEGORIES_DATA, sep='\\t', header=None, names=['article', 'category'], comment='#')\n",
    "links = pd.read_csv(LINKS_DATA, sep='\\t', header=None, names=[\"linkSource\", 'linkTarget'], comment='#')\n",
    "path_finished = pd.read_csv(PATH_FINISHED_DATA, sep='\\t', header=None, names=['hashedIpAddress', 'timestamp', 'durationInSec', 'path', 'rating'], comment='#')\n",
    "path_unfinished = pd.read_csv(PATH_UNFINISHED_DATA, sep='\\t', header=None, names=['hashedIpAddress', 'timestamp', 'durationInSec', 'path', 'target', 'type'], comment='#')\n",
    "shortest_path = pd.read_csv(SHORTESTPATH_DATA, sep='\\t', header=None, names=['shortestPath'], comment='#')\n"
   ]
  },
  {
   "cell_type": "markdown",
   "id": "3d832ff6",
   "metadata": {},
   "source": [
    "# Graph analysis to compute centrality"
   ]
  },
  {
   "cell_type": "code",
   "execution_count": 4,
   "id": "065e9937",
   "metadata": {},
   "outputs": [],
   "source": [
    "def check_character(headline, character):\n",
    "    '''Inputs:\n",
    "            headline: string\n",
    "            list_words: string\n",
    "        Return:\n",
    "            1 if the character is in the headline\n",
    "            0 otherwise\n",
    "    '''\n",
    "    if character in headline: #\n",
    "        return 1 \n",
    "    else:\n",
    "         return 0"
   ]
  },
  {
   "cell_type": "code",
   "execution_count": 5,
   "id": "d0089829",
   "metadata": {},
   "outputs": [],
   "source": [
    "path_finished['back'] = path_finished['path'].apply(lambda x : check_character(x, '<'))\n",
    "path_finished_filtered = path_finished[path_finished['back']==0]"
   ]
  },
  {
   "cell_type": "markdown",
   "id": "6e916632",
   "metadata": {},
   "source": [
    "## Creation of the graph"
   ]
  },
  {
   "cell_type": "code",
   "execution_count": 6,
   "id": "36b38606",
   "metadata": {},
   "outputs": [],
   "source": [
    "def Convert(string):\n",
    "    li = list(string.split(\";\"))\n",
    "    return li"
   ]
  },
  {
   "cell_type": "code",
   "execution_count": 7,
   "id": "632c8f19",
   "metadata": {},
   "outputs": [
    {
     "name": "stderr",
     "output_type": "stream",
     "text": [
      "<ipython-input-7-da8c3ace79c0>:1: SettingWithCopyWarning: \n",
      "A value is trying to be set on a copy of a slice from a DataFrame.\n",
      "Try using .loc[row_indexer,col_indexer] = value instead\n",
      "\n",
      "See the caveats in the documentation: https://pandas.pydata.org/pandas-docs/stable/user_guide/indexing.html#returning-a-view-versus-a-copy\n",
      "  path_finished_filtered['path'] = path_finished_filtered['path'].apply(lambda x : Convert(x))\n"
     ]
    }
   ],
   "source": [
    "path_finished_filtered['path'] = path_finished_filtered['path'].apply(lambda x : Convert(x))\n"
   ]
  },
  {
   "cell_type": "code",
   "execution_count": 8,
   "id": "edf88c53",
   "metadata": {},
   "outputs": [],
   "source": [
    "import networkx as nx"
   ]
  },
  {
   "cell_type": "code",
   "execution_count": 9,
   "id": "ec857fef",
   "metadata": {},
   "outputs": [],
   "source": [
    "edges = []\n",
    "for index, row in path_finished_filtered.iterrows(): \n",
    "    edges.extend(list(zip(row['path'][0:-2],row['path'][1:-1])))\n",
    "\n",
    "edges_wo_duplicates = [] #enleve duplicates des tuples\n",
    "for tup in edges:\n",
    "    if tup not in edges_wo_duplicates:\n",
    "        edges_wo_duplicates.append(tup)"
   ]
  },
  {
   "cell_type": "code",
   "execution_count": 10,
   "id": "f15cfb7e",
   "metadata": {},
   "outputs": [],
   "source": [
    "#compute weight by counting occurences of tuples in list\n",
    "import collections\n",
    "count = collections.defaultdict(int)\n",
    "for elem in edges:\n",
    "    count[elem] += 1"
   ]
  },
  {
   "cell_type": "code",
   "execution_count": 11,
   "id": "a431eac8",
   "metadata": {},
   "outputs": [],
   "source": [
    "G = nx.DiGraph()\n",
    "for t in edges_wo_duplicates:\n",
    "    G.add_edge(t[0],t[1],weight = count[t]) #normalement on a un graphe pondéré maintenant"
   ]
  },
  {
   "cell_type": "code",
   "execution_count": 12,
   "id": "c19736da",
   "metadata": {},
   "outputs": [],
   "source": [
    "G_distance_dict = {(e1, e2): 1 / weight for e1, e2, weight in G.edges(data='weight')}\n",
    "nx.set_edge_attributes(G, G_distance_dict, 'distance')"
   ]
  },
  {
   "cell_type": "code",
   "execution_count": 13,
   "id": "7d9da970",
   "metadata": {},
   "outputs": [],
   "source": [
    "clos_centrality = nx.closeness_centrality(G, u=None, distance='distance', wf_improved=True)"
   ]
  },
  {
   "cell_type": "code",
   "execution_count": 14,
   "id": "93608964",
   "metadata": {},
   "outputs": [],
   "source": [
    "#transform clos_centrality into a df\n",
    "centralities = pd.DataFrame.from_dict(clos_centrality, orient='index',columns=['centrality'])\n",
    "centralities = centralities.reset_index(level=0)\n",
    "centralities = centralities.rename(columns={'index': 'article'})"
   ]
  },
  {
   "cell_type": "code",
   "execution_count": 15,
   "id": "725f1990",
   "metadata": {
    "scrolled": true
   },
   "outputs": [
    {
     "data": {
      "text/html": [
       "<div>\n",
       "<style scoped>\n",
       "    .dataframe tbody tr th:only-of-type {\n",
       "        vertical-align: middle;\n",
       "    }\n",
       "\n",
       "    .dataframe tbody tr th {\n",
       "        vertical-align: top;\n",
       "    }\n",
       "\n",
       "    .dataframe thead th {\n",
       "        text-align: right;\n",
       "    }\n",
       "</style>\n",
       "<table border=\"1\" class=\"dataframe\">\n",
       "  <thead>\n",
       "    <tr style=\"text-align: right;\">\n",
       "      <th></th>\n",
       "      <th>article</th>\n",
       "      <th>centrality</th>\n",
       "      <th>category</th>\n",
       "    </tr>\n",
       "  </thead>\n",
       "  <tbody>\n",
       "    <tr>\n",
       "      <th>0</th>\n",
       "      <td>14th_century</td>\n",
       "      <td>1.822051</td>\n",
       "      <td>subject.History.General_history</td>\n",
       "    </tr>\n",
       "    <tr>\n",
       "      <th>1</th>\n",
       "      <td>15th_century</td>\n",
       "      <td>1.927752</td>\n",
       "      <td>subject.History.General_history</td>\n",
       "    </tr>\n",
       "    <tr>\n",
       "      <th>2</th>\n",
       "      <td>16th_century</td>\n",
       "      <td>2.031601</td>\n",
       "      <td>subject.History.General_history</td>\n",
       "    </tr>\n",
       "    <tr>\n",
       "      <th>3</th>\n",
       "      <td>Pacific_Ocean</td>\n",
       "      <td>2.515372</td>\n",
       "      <td>subject.Geography.General_Geography</td>\n",
       "    </tr>\n",
       "    <tr>\n",
       "      <th>4</th>\n",
       "      <td>Atlantic_Ocean</td>\n",
       "      <td>2.538788</td>\n",
       "      <td>subject.Geography.General_Geography</td>\n",
       "    </tr>\n",
       "  </tbody>\n",
       "</table>\n",
       "</div>"
      ],
      "text/plain": [
       "          article  centrality                             category\n",
       "0    14th_century    1.822051      subject.History.General_history\n",
       "1    15th_century    1.927752      subject.History.General_history\n",
       "2    16th_century    2.031601      subject.History.General_history\n",
       "3   Pacific_Ocean    2.515372  subject.Geography.General_Geography\n",
       "4  Atlantic_Ocean    2.538788  subject.Geography.General_Geography"
      ]
     },
     "execution_count": 15,
     "metadata": {},
     "output_type": "execute_result"
    }
   ],
   "source": [
    "centralities = centralities.merge(categories, on='article', how='left')\n",
    "centralities.head()"
   ]
  },
  {
   "cell_type": "code",
   "execution_count": 19,
   "id": "56fedcae",
   "metadata": {},
   "outputs": [],
   "source": [
    "centralities.dropna(inplace=True) "
   ]
  },
  {
   "cell_type": "markdown",
   "id": "594840ef",
   "metadata": {},
   "source": [
    "## Group the dataframe by category, and extract historical events"
   ]
  },
  {
   "cell_type": "code",
   "execution_count": 47,
   "id": "db32b965",
   "metadata": {},
   "outputs": [
    {
     "name": "stdout",
     "output_type": "stream",
     "text": [
      "There are 441 historical subjects in the dataset, that are divided in 332 different classes.\n"
     ]
    },
    {
     "name": "stderr",
     "output_type": "stream",
     "text": [
      "C:\\Users\\manon\\anaconda3\\lib\\site-packages\\pandas\\core\\generic.py:9286: SettingWithCopyWarning: \n",
      "A value is trying to be set on a copy of a slice from a DataFrame\n",
      "\n",
      "See the caveats in the documentation: https://pandas.pydata.org/pandas-docs/stable/user_guide/indexing.html#returning-a-view-versus-a-copy\n",
      "  return self._where(\n"
     ]
    }
   ],
   "source": [
    "#history = centralities.filter(lambda x: 'History' in str(x['category'])) \n",
    "history = centralities[centralities['category'].str.contains('History')]\n",
    "history['category'].mask(history['category'].str.contains('British_History') ,'subject.History.British_History', inplace=True)\n",
    "history_grouped = history.groupby(by=\"category\")\n",
    "print(\"There are {0} historical subjects in the dataset, that are divided in {1} different classes.\".format(history.nunique()[0],history.nunique()[1]))"
   ]
  },
  {
   "cell_type": "code",
   "execution_count": 48,
   "id": "330020ce",
   "metadata": {},
   "outputs": [
    {
     "data": {
      "text/html": [
       "<div>\n",
       "<style scoped>\n",
       "    .dataframe tbody tr th:only-of-type {\n",
       "        vertical-align: middle;\n",
       "    }\n",
       "\n",
       "    .dataframe tbody tr th {\n",
       "        vertical-align: top;\n",
       "    }\n",
       "\n",
       "    .dataframe thead th {\n",
       "        text-align: right;\n",
       "    }\n",
       "</style>\n",
       "<table border=\"1\" class=\"dataframe\">\n",
       "  <thead>\n",
       "    <tr style=\"text-align: right;\">\n",
       "      <th></th>\n",
       "      <th>article</th>\n",
       "      <th>centrality</th>\n",
       "      <th>category</th>\n",
       "    </tr>\n",
       "  </thead>\n",
       "  <tbody>\n",
       "    <tr>\n",
       "      <th>0</th>\n",
       "      <td>14th_century</td>\n",
       "      <td>1.822051</td>\n",
       "      <td>subject.History.General_history</td>\n",
       "    </tr>\n",
       "    <tr>\n",
       "      <th>1</th>\n",
       "      <td>15th_century</td>\n",
       "      <td>1.927752</td>\n",
       "      <td>subject.History.General_history</td>\n",
       "    </tr>\n",
       "    <tr>\n",
       "      <th>2</th>\n",
       "      <td>16th_century</td>\n",
       "      <td>2.031601</td>\n",
       "      <td>subject.History.General_history</td>\n",
       "    </tr>\n",
       "    <tr>\n",
       "      <th>7</th>\n",
       "      <td>Atlantic_slave_trade</td>\n",
       "      <td>2.310714</td>\n",
       "      <td>subject.History.British_History</td>\n",
       "    </tr>\n",
       "    <tr>\n",
       "      <th>13</th>\n",
       "      <td>British_Empire</td>\n",
       "      <td>2.522856</td>\n",
       "      <td>subject.History.British_History</td>\n",
       "    </tr>\n",
       "  </tbody>\n",
       "</table>\n",
       "</div>"
      ],
      "text/plain": [
       "                 article  centrality                         category\n",
       "0           14th_century    1.822051  subject.History.General_history\n",
       "1           15th_century    1.927752  subject.History.General_history\n",
       "2           16th_century    2.031601  subject.History.General_history\n",
       "7   Atlantic_slave_trade    2.310714  subject.History.British_History\n",
       "13        British_Empire    2.522856  subject.History.British_History"
      ]
     },
     "execution_count": 48,
     "metadata": {},
     "output_type": "execute_result"
    }
   ],
   "source": [
    "history.head()"
   ]
  },
  {
   "cell_type": "code",
   "execution_count": 50,
   "id": "2b43dd3f",
   "metadata": {
    "scrolled": true
   },
   "outputs": [
    {
     "data": {
      "text/html": [
       "<div>\n",
       "<style scoped>\n",
       "    .dataframe tbody tr th:only-of-type {\n",
       "        vertical-align: middle;\n",
       "    }\n",
       "\n",
       "    .dataframe tbody tr th {\n",
       "        vertical-align: top;\n",
       "    }\n",
       "\n",
       "    .dataframe thead th {\n",
       "        text-align: right;\n",
       "    }\n",
       "</style>\n",
       "<table border=\"1\" class=\"dataframe\">\n",
       "  <thead>\n",
       "    <tr style=\"text-align: right;\">\n",
       "      <th></th>\n",
       "      <th>article</th>\n",
       "      <th>centrality</th>\n",
       "      <th>category</th>\n",
       "    </tr>\n",
       "  </thead>\n",
       "  <tbody>\n",
       "    <tr>\n",
       "      <th>62</th>\n",
       "      <td>World_War_II</td>\n",
       "      <td>2.546083</td>\n",
       "      <td>subject.History.British_History</td>\n",
       "    </tr>\n",
       "    <tr>\n",
       "      <th>13</th>\n",
       "      <td>British_Empire</td>\n",
       "      <td>2.522856</td>\n",
       "      <td>subject.History.British_History</td>\n",
       "    </tr>\n",
       "    <tr>\n",
       "      <th>239</th>\n",
       "      <td>Great_Britain</td>\n",
       "      <td>2.491359</td>\n",
       "      <td>subject.History.British_History</td>\n",
       "    </tr>\n",
       "    <tr>\n",
       "      <th>63</th>\n",
       "      <td>Nuclear_weapon</td>\n",
       "      <td>2.487048</td>\n",
       "      <td>subject.History.Military_History_and_War</td>\n",
       "    </tr>\n",
       "    <tr>\n",
       "      <th>130</th>\n",
       "      <td>American_Civil_War</td>\n",
       "      <td>2.486808</td>\n",
       "      <td>subject.History.Pre_1900_Military</td>\n",
       "    </tr>\n",
       "    <tr>\n",
       "      <th>923</th>\n",
       "      <td>Nazi_Germany</td>\n",
       "      <td>2.480684</td>\n",
       "      <td>subject.History.World_War_II</td>\n",
       "    </tr>\n",
       "    <tr>\n",
       "      <th>884</th>\n",
       "      <td>United_States_Declaration_of_Independence</td>\n",
       "      <td>2.474992</td>\n",
       "      <td>subject.History.North_American_History</td>\n",
       "    </tr>\n",
       "    <tr>\n",
       "      <th>944</th>\n",
       "      <td>Elizabeth_II_of_the_United_Kingdom</td>\n",
       "      <td>2.470971</td>\n",
       "      <td>subject.History.British_History</td>\n",
       "    </tr>\n",
       "    <tr>\n",
       "      <th>809</th>\n",
       "      <td>Cold_War</td>\n",
       "      <td>2.468385</td>\n",
       "      <td>subject.History.Recent_History</td>\n",
       "    </tr>\n",
       "    <tr>\n",
       "      <th>385</th>\n",
       "      <td>Soviet_Union</td>\n",
       "      <td>2.447202</td>\n",
       "      <td>subject.History.Recent_History</td>\n",
       "    </tr>\n",
       "    <tr>\n",
       "      <th>664</th>\n",
       "      <td>September_11%2C_2001_attacks</td>\n",
       "      <td>2.428920</td>\n",
       "      <td>subject.History.Recent_History</td>\n",
       "    </tr>\n",
       "    <tr>\n",
       "      <th>530</th>\n",
       "      <td>Industrial_Revolution</td>\n",
       "      <td>2.424865</td>\n",
       "      <td>subject.History.General_history</td>\n",
       "    </tr>\n",
       "    <tr>\n",
       "      <th>15</th>\n",
       "      <td>Renaissance</td>\n",
       "      <td>2.406934</td>\n",
       "      <td>subject.History.General_history</td>\n",
       "    </tr>\n",
       "    <tr>\n",
       "      <th>16</th>\n",
       "      <td>Ancient_Greece</td>\n",
       "      <td>2.397382</td>\n",
       "      <td>subject.History.Ancient_History_Classical_History_and_Mythology</td>\n",
       "    </tr>\n",
       "    <tr>\n",
       "      <th>883</th>\n",
       "      <td>World_War_I</td>\n",
       "      <td>2.383521</td>\n",
       "      <td>subject.History.Military_History_and_War</td>\n",
       "    </tr>\n",
       "    <tr>\n",
       "      <th>921</th>\n",
       "      <td>Holy_Roman_Empire</td>\n",
       "      <td>2.376148</td>\n",
       "      <td>subject.History.General_history</td>\n",
       "    </tr>\n",
       "    <tr>\n",
       "      <th>2221</th>\n",
       "      <td>History_of_Anglo-Saxon_England</td>\n",
       "      <td>2.353578</td>\n",
       "      <td>subject.History.British_History</td>\n",
       "    </tr>\n",
       "    <tr>\n",
       "      <th>315</th>\n",
       "      <td>Attack_on_Pearl_Harbor</td>\n",
       "      <td>2.340787</td>\n",
       "      <td>subject.History.World_War_II</td>\n",
       "    </tr>\n",
       "    <tr>\n",
       "      <th>925</th>\n",
       "      <td>The_Holocaust</td>\n",
       "      <td>2.336835</td>\n",
       "      <td>subject.History.World_War_II</td>\n",
       "    </tr>\n",
       "    <tr>\n",
       "      <th>810</th>\n",
       "      <td>Vietnam_War</td>\n",
       "      <td>2.333098</td>\n",
       "      <td>subject.History.Military_History_and_War</td>\n",
       "    </tr>\n",
       "  </tbody>\n",
       "</table>\n",
       "</div>"
      ],
      "text/plain": [
       "                                        article  centrality  \\\n",
       "62                                 World_War_II    2.546083   \n",
       "13                               British_Empire    2.522856   \n",
       "239                               Great_Britain    2.491359   \n",
       "63                               Nuclear_weapon    2.487048   \n",
       "130                          American_Civil_War    2.486808   \n",
       "923                                Nazi_Germany    2.480684   \n",
       "884   United_States_Declaration_of_Independence    2.474992   \n",
       "944          Elizabeth_II_of_the_United_Kingdom    2.470971   \n",
       "809                                    Cold_War    2.468385   \n",
       "385                                Soviet_Union    2.447202   \n",
       "664                September_11%2C_2001_attacks    2.428920   \n",
       "530                       Industrial_Revolution    2.424865   \n",
       "15                                  Renaissance    2.406934   \n",
       "16                               Ancient_Greece    2.397382   \n",
       "883                                 World_War_I    2.383521   \n",
       "921                           Holy_Roman_Empire    2.376148   \n",
       "2221             History_of_Anglo-Saxon_England    2.353578   \n",
       "315                      Attack_on_Pearl_Harbor    2.340787   \n",
       "925                               The_Holocaust    2.336835   \n",
       "810                                 Vietnam_War    2.333098   \n",
       "\n",
       "                                                             category  \n",
       "62                                    subject.History.British_History  \n",
       "13                                    subject.History.British_History  \n",
       "239                                   subject.History.British_History  \n",
       "63                           subject.History.Military_History_and_War  \n",
       "130                                 subject.History.Pre_1900_Military  \n",
       "923                                      subject.History.World_War_II  \n",
       "884                            subject.History.North_American_History  \n",
       "944                                   subject.History.British_History  \n",
       "809                                    subject.History.Recent_History  \n",
       "385                                    subject.History.Recent_History  \n",
       "664                                    subject.History.Recent_History  \n",
       "530                                   subject.History.General_history  \n",
       "15                                    subject.History.General_history  \n",
       "16    subject.History.Ancient_History_Classical_History_and_Mythology  \n",
       "883                          subject.History.Military_History_and_War  \n",
       "921                                   subject.History.General_history  \n",
       "2221                                  subject.History.British_History  \n",
       "315                                      subject.History.World_War_II  \n",
       "925                                      subject.History.World_War_II  \n",
       "810                          subject.History.Military_History_and_War  "
      ]
     },
     "execution_count": 50,
     "metadata": {},
     "output_type": "execute_result"
    }
   ],
   "source": [
    "history_sorted = history.sort_values(by=['centrality'],ascending=False)\n",
    "history_sorted.head(20)"
   ]
  },
  {
   "cell_type": "markdown",
   "id": "589a74a1",
   "metadata": {},
   "source": [
    "Let’s consider only the 30 most popular / more important events/subjects related to History. What can we say about them ?"
   ]
  },
  {
   "cell_type": "code",
   "execution_count": 45,
   "id": "1a023c64",
   "metadata": {},
   "outputs": [],
   "source": [
    "history30 = history_sorted.head(30)"
   ]
  },
  {
   "cell_type": "code",
   "execution_count": 46,
   "id": "8ba2818e",
   "metadata": {},
   "outputs": [
    {
     "data": {
      "text/plain": [
       "<AxesSubplot:>"
      ]
     },
     "execution_count": 46,
     "metadata": {},
     "output_type": "execute_result"
    },
    {
     "data": {
      "image/png": "[encoded data removed]",
      "text/plain": [
       "<Figure size 432x288 with 1 Axes>"
      ]
     },
     "metadata": {
      "needs_background": "light"
     },
     "output_type": "display_data"
    }
   ],
   "source": [
    "history30['category'].value_counts().plot(kind=\"bar\")"
   ]
  },
  {
   "cell_type": "code",
   "execution_count": null,
   "id": "0bc865e3",
   "metadata": {},
   "outputs": [],
   "source": []
  }
 ],
 "metadata": {
  "kernelspec": {
   "display_name": "Python 3",
   "language": "python",
   "name": "python3"
  },
  "language_info": {
   "codemirror_mode": {
    "name": "ipython",
    "version": 3
   },
   "file_extension": ".py",
   "mimetype": "text/x-python",
   "name": "python",
   "nbconvert_exporter": "python",
   "pygments_lexer": "ipython3",
   "version": "3.8.8"
  }
 },
 "nbformat": 4,
 "nbformat_minor": 5
}
