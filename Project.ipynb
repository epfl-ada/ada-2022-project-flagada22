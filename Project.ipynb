{
 "cells": [
  {
   "cell_type": "markdown",
   "id": "4a3284f3-5ce7-490f-bc92-33dbd1c08f08",
   "metadata": {},
   "source": [
    "Preliminary analysis of the project data. One first imports all necessary packages"
   ]
  },
  {
   "cell_type": "code",
   "execution_count": 1,
   "id": "838adebd-3e11-419c-8af0-73097e2e3b32",
   "metadata": {},
   "outputs": [],
   "source": [
    "%matplotlib inline\n",
    "import pandas as pd\n",
    "import numpy as np\n",
    "import matplotlib.pyplot as plt"
   ]
  },
  {
   "cell_type": "markdown",
   "id": "a3286c52-4126-4e90-9068-aeee8ceb9a30",
   "metadata": {},
   "source": [
    "Data is loaded from the path and graph folder."
   ]
  },
  {
   "cell_type": "code",
   "execution_count": 3,
   "id": "ba2c61a1-047a-4e81-925e-8071aaff6e79",
   "metadata": {},
   "outputs": [
    {
     "data": {
      "text/html": [
       "<div>\n",
       "<style scoped>\n",
       "    .dataframe tbody tr th:only-of-type {\n",
       "        vertical-align: middle;\n",
       "    }\n",
       "\n",
       "    .dataframe tbody tr th {\n",
       "        vertical-align: top;\n",
       "    }\n",
       "\n",
       "    .dataframe thead th {\n",
       "        text-align: right;\n",
       "    }\n",
       "</style>\n",
       "<table border=\"1\" class=\"dataframe\">\n",
       "  <thead>\n",
       "    <tr style=\"text-align: right;\">\n",
       "      <th></th>\n",
       "      <th>article</th>\n",
       "      <th>category</th>\n",
       "    </tr>\n",
       "  </thead>\n",
       "  <tbody>\n",
       "    <tr>\n",
       "      <th>0</th>\n",
       "      <td>%C3%81ed%C3%A1n_mac_Gabr%C3%A1in</td>\n",
       "      <td>subject.History.British_History.British_Histor...</td>\n",
       "    </tr>\n",
       "    <tr>\n",
       "      <th>1</th>\n",
       "      <td>%C3%81ed%C3%A1n_mac_Gabr%C3%A1in</td>\n",
       "      <td>subject.People.Historical_figures</td>\n",
       "    </tr>\n",
       "    <tr>\n",
       "      <th>2</th>\n",
       "      <td>%C3%85land</td>\n",
       "      <td>subject.Countries</td>\n",
       "    </tr>\n",
       "    <tr>\n",
       "      <th>3</th>\n",
       "      <td>%C3%85land</td>\n",
       "      <td>subject.Geography.European_Geography.European_...</td>\n",
       "    </tr>\n",
       "    <tr>\n",
       "      <th>4</th>\n",
       "      <td>%C3%89douard_Manet</td>\n",
       "      <td>subject.People.Artists</td>\n",
       "    </tr>\n",
       "  </tbody>\n",
       "</table>\n",
       "</div>"
      ],
      "text/plain": [
       "                            article  \\\n",
       "0  %C3%81ed%C3%A1n_mac_Gabr%C3%A1in   \n",
       "1  %C3%81ed%C3%A1n_mac_Gabr%C3%A1in   \n",
       "2                        %C3%85land   \n",
       "3                        %C3%85land   \n",
       "4                %C3%89douard_Manet   \n",
       "\n",
       "                                            category  \n",
       "0  subject.History.British_History.British_Histor...  \n",
       "1                  subject.People.Historical_figures  \n",
       "2                                  subject.Countries  \n",
       "3  subject.Geography.European_Geography.European_...  \n",
       "4                             subject.People.Artists  "
      ]
     },
     "execution_count": 3,
     "metadata": {},
     "output_type": "execute_result"
    }
   ],
   "source": [
    "# Folder\n",
    "PATH_FOLDER = 'wikispeedia_paths-and-graph/'\n",
    "\n",
    "# Defining paths\n",
    "ARTICLES_DATA = PATH_FOLDER + \"articles.tsv\"\n",
    "CATEGORIES_DATA = PATH_FOLDER + \"categories.tsv\"\n",
    "LINKS_DATA = PATH_FOLDER + \"links.tsv\"\n",
    "PATH_FINISHED_DATA = PATH_FOLDER + \"paths_finished.tsv\"\n",
    "PATH_UNFINISHED_DATA = PATH_FOLDER + \"paths_unfinished.tsv\"\n",
    "SHORTESTPATH_DATA = PATH_FOLDER + \"shortest-path-distance-matrix.txt\"\n",
    "\n",
    "# Loading all data series\n",
    "articles = pd.read_csv(ARTICLES_DATA, header=None, names=['article'], comment='#')\n",
    "categories = pd.read_csv(CATEGORIES_DATA, sep='\\t', header=None, names=['article', 'category'], comment='#')\n",
    "links = pd.read_csv(LINKS_DATA, sep='\\t', header=None, names=[\"linkSource\", 'linkTarget'], comment='#')\n",
    "path_finished = pd.read_csv(PATH_FINISHED_DATA, sep='\\t', header=None, names=['hashedIpAddress', 'timestamp', 'durationInSec', 'path', 'rating'], comment='#')\n",
    "path_unfinished = pd.read_csv(PATH_UNFINISHED_DATA, sep='\\t', header=None, names=['hashedIpAddress', 'timestamp', 'durationInSec', 'path', 'target', 'type'], comment='#')\n",
    "shortest_path = pd.read_csv(SHORTESTPATH_DATA, sep='\\t', header=None, names=['shortestPath'], comment='#')\n",
    "categories.head()"
   ]
  },
  {
   "cell_type": "code",
   "execution_count": 4,
   "id": "babda838-d4c5-4d94-8df5-fe5cfef03751",
   "metadata": {},
   "outputs": [
    {
     "data": {
      "text/html": [
       "<div>\n",
       "<style scoped>\n",
       "    .dataframe tbody tr th:only-of-type {\n",
       "        vertical-align: middle;\n",
       "    }\n",
       "\n",
       "    .dataframe tbody tr th {\n",
       "        vertical-align: top;\n",
       "    }\n",
       "\n",
       "    .dataframe thead th {\n",
       "        text-align: right;\n",
       "    }\n",
       "</style>\n",
       "<table border=\"1\" class=\"dataframe\">\n",
       "  <thead>\n",
       "    <tr style=\"text-align: right;\">\n",
       "      <th></th>\n",
       "      <th>hashedIpAddress</th>\n",
       "      <th>timestamp</th>\n",
       "      <th>durationInSec</th>\n",
       "      <th>path</th>\n",
       "      <th>rating</th>\n",
       "    </tr>\n",
       "  </thead>\n",
       "  <tbody>\n",
       "    <tr>\n",
       "      <th>0</th>\n",
       "      <td>6a3701d319fc3754</td>\n",
       "      <td>2011-02-15 03:26:49</td>\n",
       "      <td>166</td>\n",
       "      <td>14th_century;15th_century;16th_century;Pacific...</td>\n",
       "      <td>NaN</td>\n",
       "    </tr>\n",
       "    <tr>\n",
       "      <th>1</th>\n",
       "      <td>3824310e536af032</td>\n",
       "      <td>2012-08-12 06:36:52</td>\n",
       "      <td>88</td>\n",
       "      <td>14th_century;Europe;Africa;Atlantic_slave_trad...</td>\n",
       "      <td>3.0</td>\n",
       "    </tr>\n",
       "    <tr>\n",
       "      <th>2</th>\n",
       "      <td>415612e93584d30e</td>\n",
       "      <td>2012-10-03 21:10:40</td>\n",
       "      <td>138</td>\n",
       "      <td>14th_century;Niger;Nigeria;British_Empire;Slav...</td>\n",
       "      <td>NaN</td>\n",
       "    </tr>\n",
       "    <tr>\n",
       "      <th>3</th>\n",
       "      <td>64dd5cd342e3780c</td>\n",
       "      <td>2010-02-08 07:25:25</td>\n",
       "      <td>37</td>\n",
       "      <td>14th_century;Renaissance;Ancient_Greece;Greece</td>\n",
       "      <td>NaN</td>\n",
       "    </tr>\n",
       "    <tr>\n",
       "      <th>4</th>\n",
       "      <td>015245d773376aab</td>\n",
       "      <td>2013-04-23 15:27:08</td>\n",
       "      <td>175</td>\n",
       "      <td>14th_century;Italy;Roman_Catholic_Church;HIV;R...</td>\n",
       "      <td>3.0</td>\n",
       "    </tr>\n",
       "  </tbody>\n",
       "</table>\n",
       "</div>"
      ],
      "text/plain": [
       "    hashedIpAddress           timestamp  durationInSec  \\\n",
       "0  6a3701d319fc3754 2011-02-15 03:26:49            166   \n",
       "1  3824310e536af032 2012-08-12 06:36:52             88   \n",
       "2  415612e93584d30e 2012-10-03 21:10:40            138   \n",
       "3  64dd5cd342e3780c 2010-02-08 07:25:25             37   \n",
       "4  015245d773376aab 2013-04-23 15:27:08            175   \n",
       "\n",
       "                                                path  rating  \n",
       "0  14th_century;15th_century;16th_century;Pacific...     NaN  \n",
       "1  14th_century;Europe;Africa;Atlantic_slave_trad...     3.0  \n",
       "2  14th_century;Niger;Nigeria;British_Empire;Slav...     NaN  \n",
       "3     14th_century;Renaissance;Ancient_Greece;Greece     NaN  \n",
       "4  14th_century;Italy;Roman_Catholic_Church;HIV;R...     3.0  "
      ]
     },
     "execution_count": 4,
     "metadata": {},
     "output_type": "execute_result"
    }
   ],
   "source": [
    "# Conversion of Unix to Christian time for the path files\n",
    "path_finished['timestamp'] = pd.to_datetime(path_finished['timestamp'], unit='s', origin='unix')\n",
    "path_unfinished['timestamp'] = pd.to_datetime(path_finished['timestamp'], unit='s', origin='unix')\n",
    "path_finished.head()"
   ]
  },
  {
   "cell_type": "markdown",
   "id": "036f28e3-6033-4050-a63f-d8c94b4975fd",
   "metadata": {},
   "source": [
    "One first checks if some Na values appear among categories."
   ]
  },
  {
   "cell_type": "code",
   "execution_count": 5,
   "id": "52d6e01b-d3fc-49a9-94c5-533439559ec9",
   "metadata": {},
   "outputs": [
    {
     "data": {
      "text/plain": [
       "article     0\n",
       "category    0\n",
       "dtype: int64"
      ]
     },
     "execution_count": 5,
     "metadata": {},
     "output_type": "execute_result"
    }
   ],
   "source": [
    "categories.isna().sum()"
   ]
  },
  {
   "cell_type": "markdown",
   "id": "adc72081-dfc8-43a6-90f5-f6c566a6a49b",
   "metadata": {},
   "source": [
    "One then groups all articles by category."
   ]
  },
  {
   "cell_type": "code",
   "execution_count": 30,
   "id": "08bd3652-225e-4230-9205-995fd69d5eb4",
   "metadata": {},
   "outputs": [
    {
     "name": "stdout",
     "output_type": "stream",
     "text": [
      "There are 129 categories in the dataset.\n"
     ]
    }
   ],
   "source": [
    "categories_grouped = categories.groupby(by=\"category\")\n",
    "nb_categories = categories_grouped.ngroups\n",
    "print(\"There are {} categories in the dataset.\".format(nb_categories))"
   ]
  },
  {
   "cell_type": "markdown",
   "id": "b8fe7db0-2ea4-4a1c-a915-a17cbe63b42f",
   "metadata": {},
   "source": [
    "The histogram provides the distribution of articles per category."
   ]
  },
  {
   "cell_type": "code",
   "execution_count": 9,
   "id": "3368540c-3944-4b14-a348-e66e9ad05774",
   "metadata": {},
   "outputs": [
    {
     "data": {
      "image/png": "[encoded data removed]",
      "text/plain": [
       "<Figure size 640x480 with 1 Axes>"
      ]
     },
     "metadata": {},
     "output_type": "display_data"
    }
   ],
   "source": [
    "nb_articles_per_category = categories_grouped.size()\n",
    "nb_articles_per_category.hist()\n",
    "plt.xlabel('Number of articles')\n",
    "plt.ylabel('Absolute frequency')\n",
    "plt.title('Distribution of articles per category');"
   ]
  },
  {
   "cell_type": "markdown",
   "id": "beebca86-0d06-467b-bcce-5dbe729dacc1",
   "metadata": {},
   "source": [
    "One then considers specific categories: countries, geographic regions and people. To get the number of articles belonging to each category, one checks if a given keyword belongs to the category string."
   ]
  },
  {
   "cell_type": "code",
   "execution_count": 41,
   "id": "fc154cda-267e-4239-8714-5e6cbc932185",
   "metadata": {},
   "outputs": [
    {
     "name": "stdout",
     "output_type": "stream",
     "text": [
      "There are 458 countries in the dataset.\n"
     ]
    }
   ],
   "source": [
    "countries = categories_grouped.filter(lambda x: 'Countries' in str(x['category']))\n",
    "print(\"There are {} countries in the dataset.\".format(countries.size))"
   ]
  },
  {
   "cell_type": "code",
   "execution_count": 42,
   "id": "ddfddded-7f3a-42d9-835e-3b5a4a3a491f",
   "metadata": {},
   "outputs": [
    {
     "name": "stdout",
     "output_type": "stream",
     "text": [
      "There are 1084 regions or cities in the dataset.\n"
     ]
    }
   ],
   "source": [
    "regions = categories_grouped.filter(lambda x: 'Geography' in str(x['category']))\n",
    "print(\"There are {} regions or cities in the dataset.\".format(regions.shape[0]))"
   ]
  },
  {
   "cell_type": "code",
   "execution_count": 44,
   "id": "8cab5bf8-01af-4a54-98f2-af0c5ea9b4e0",
   "metadata": {},
   "outputs": [
    {
     "name": "stdout",
     "output_type": "stream",
     "text": [
      "There are 711 people in the dataset.\n"
     ]
    }
   ],
   "source": [
    "people = categories_grouped.filter(lambda x: 'People' in str(x['category']))\n",
    "print(\"There are {} people in the dataset.\".format(people.shape[0]))"
   ]
  },
  {
   "cell_type": "code",
   "execution_count": null,
   "id": "12a23042-e8b2-429e-929c-5c13650d9e2d",
   "metadata": {},
   "outputs": [],
   "source": []
  }
 ],
 "metadata": {
  "kernelspec": {
   "display_name": "Python [conda env:ada] *",
   "language": "python",
   "name": "conda-env-ada-py"
  },
  "language_info": {
   "codemirror_mode": {
    "name": "ipython",
    "version": 3
   },
   "file_extension": ".py",
   "mimetype": "text/x-python",
   "name": "python",
   "nbconvert_exporter": "python",
   "pygments_lexer": "ipython3",
   "version": "3.9.13"
  }
 },
 "nbformat": 4,
 "nbformat_minor": 5
}
