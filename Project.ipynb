{
 "cells": [
  {
   "cell_type": "markdown",
   "id": "4a3284f3-5ce7-490f-bc92-33dbd1c08f08",
   "metadata": {},
   "source": [
    "Preliminary analysis of the project data. One first imports all necessary packages"
   ]
  },
  {
   "cell_type": "code",
   "execution_count": 284,
   "id": "838adebd-3e11-419c-8af0-73097e2e3b32",
   "metadata": {},
   "outputs": [],
   "source": [
    "%matplotlib inline\n",
    "import pandas as pd\n",
    "import numpy as np\n",
    "import matplotlib.pyplot as plt"
   ]
  },
  {
   "cell_type": "markdown",
   "id": "a3286c52-4126-4e90-9068-aeee8ceb9a30",
   "metadata": {},
   "source": [
    "# 1) Load Data:\n",
    "Data is loaded from the path and graph folder."
   ]
  },
  {
   "cell_type": "code",
   "execution_count": 285,
   "id": "ba2c61a1-047a-4e81-925e-8071aaff6e79",
   "metadata": {},
   "outputs": [],
   "source": [
    "# Folder\n",
    "PATH_FOLDER = 'wikispeedia_paths-and-graph/'\n",
    "\n",
    "# Defining paths\n",
    "ARTICLES_DATA = PATH_FOLDER + \"articles.tsv\"\n",
    "CATEGORIES_DATA = PATH_FOLDER + \"categories.tsv\"\n",
    "LINKS_DATA = PATH_FOLDER + \"links.tsv\"\n",
    "PATH_FINISHED_DATA = PATH_FOLDER + \"paths_finished.tsv\"\n",
    "PATH_UNFINISHED_DATA = PATH_FOLDER + \"paths_unfinished.tsv\"\n",
    "SHORTESTPATH_DATA = PATH_FOLDER + \"shortest-path-distance-matrix.txt\"\n",
    "\n",
    "# Loading all data series\n",
    "articles = pd.read_csv(ARTICLES_DATA, header=None, names=['article'], comment='#', encoding='utf-8')\n",
    "categories = pd.read_csv(CATEGORIES_DATA, sep='\\t', header=None, names=['article', 'category'], comment='#', encoding='utf-8')\n",
    "links = pd.read_csv(LINKS_DATA, sep='\\t', header=None, names=[\"linkSource\", 'linkTarget'], comment='#', encoding='utf-8')\n",
    "path_finished = pd.read_csv(PATH_FINISHED_DATA, sep='\\t', header=None, names=['hashedIpAddress', 'timestamp', 'durationInSec', 'path', 'rating'], comment='#', encoding='utf-8')\n",
    "path_unfinished = pd.read_csv(PATH_UNFINISHED_DATA, sep='\\t', header=None, names=['hashedIpAddress', 'timestamp', 'durationInSec', 'path', 'target', 'type'], comment='#', encoding='utf-8')\n",
    "shortest_path = pd.read_csv(SHORTESTPATH_DATA, sep='\\t', header=None, names=['shortestPath'], comment='#', encoding='utf-8')\n"
   ]
  },
  {
   "cell_type": "code",
   "execution_count": 286,
   "id": "cf728455",
   "metadata": {},
   "outputs": [
    {
     "data": {
      "text/html": [
       "<div>\n",
       "<style scoped>\n",
       "    .dataframe tbody tr th:only-of-type {\n",
       "        vertical-align: middle;\n",
       "    }\n",
       "\n",
       "    .dataframe tbody tr th {\n",
       "        vertical-align: top;\n",
       "    }\n",
       "\n",
       "    .dataframe thead th {\n",
       "        text-align: right;\n",
       "    }\n",
       "</style>\n",
       "<table border=\"1\" class=\"dataframe\">\n",
       "  <thead>\n",
       "    <tr style=\"text-align: right;\">\n",
       "      <th></th>\n",
       "      <th>article</th>\n",
       "      <th>category</th>\n",
       "    </tr>\n",
       "  </thead>\n",
       "  <tbody>\n",
       "    <tr>\n",
       "      <th>0</th>\n",
       "      <td>%C3%81ed%C3%A1n_mac_Gabr%C3%A1in</td>\n",
       "      <td>subject.History.British_History.British_Histor...</td>\n",
       "    </tr>\n",
       "    <tr>\n",
       "      <th>1</th>\n",
       "      <td>%C3%81ed%C3%A1n_mac_Gabr%C3%A1in</td>\n",
       "      <td>subject.People.Historical_figures</td>\n",
       "    </tr>\n",
       "    <tr>\n",
       "      <th>2</th>\n",
       "      <td>%C3%85land</td>\n",
       "      <td>subject.Countries</td>\n",
       "    </tr>\n",
       "    <tr>\n",
       "      <th>3</th>\n",
       "      <td>%C3%85land</td>\n",
       "      <td>subject.Geography.European_Geography.European_...</td>\n",
       "    </tr>\n",
       "    <tr>\n",
       "      <th>4</th>\n",
       "      <td>%C3%89douard_Manet</td>\n",
       "      <td>subject.People.Artists</td>\n",
       "    </tr>\n",
       "  </tbody>\n",
       "</table>\n",
       "</div>"
      ],
      "text/plain": [
       "                            article  \\\n",
       "0  %C3%81ed%C3%A1n_mac_Gabr%C3%A1in   \n",
       "1  %C3%81ed%C3%A1n_mac_Gabr%C3%A1in   \n",
       "2                        %C3%85land   \n",
       "3                        %C3%85land   \n",
       "4                %C3%89douard_Manet   \n",
       "\n",
       "                                            category  \n",
       "0  subject.History.British_History.British_Histor...  \n",
       "1                  subject.People.Historical_figures  \n",
       "2                                  subject.Countries  \n",
       "3  subject.Geography.European_Geography.European_...  \n",
       "4                             subject.People.Artists  "
      ]
     },
     "execution_count": 286,
     "metadata": {},
     "output_type": "execute_result"
    }
   ],
   "source": [
    "categories.head()"
   ]
  },
  {
   "cell_type": "code",
   "execution_count": 287,
   "id": "7703d534",
   "metadata": {},
   "outputs": [
    {
     "data": {
      "text/html": [
       "<div>\n",
       "<style scoped>\n",
       "    .dataframe tbody tr th:only-of-type {\n",
       "        vertical-align: middle;\n",
       "    }\n",
       "\n",
       "    .dataframe tbody tr th {\n",
       "        vertical-align: top;\n",
       "    }\n",
       "\n",
       "    .dataframe thead th {\n",
       "        text-align: right;\n",
       "    }\n",
       "</style>\n",
       "<table border=\"1\" class=\"dataframe\">\n",
       "  <thead>\n",
       "    <tr style=\"text-align: right;\">\n",
       "      <th></th>\n",
       "      <th>shortestPath</th>\n",
       "    </tr>\n",
       "  </thead>\n",
       "  <tbody>\n",
       "    <tr>\n",
       "      <th>0</th>\n",
       "      <td>0_____33333325634333435_2433544334_3_422343544...</td>\n",
       "    </tr>\n",
       "    <tr>\n",
       "      <th>1</th>\n",
       "      <td>_0____22222325623232424_2422544324_3_312242544...</td>\n",
       "    </tr>\n",
       "    <tr>\n",
       "      <th>2</th>\n",
       "      <td>__0___33222425623232324_2333444433_3_422343434...</td>\n",
       "    </tr>\n",
       "    <tr>\n",
       "      <th>3</th>\n",
       "      <td>___0__33333325634233334_2433434333_2_423343433...</td>\n",
       "    </tr>\n",
       "    <tr>\n",
       "      <th>4</th>\n",
       "      <td>____0_22323335633332435_2433545434_3_423343544...</td>\n",
       "    </tr>\n",
       "  </tbody>\n",
       "</table>\n",
       "</div>"
      ],
      "text/plain": [
       "                                        shortestPath\n",
       "0  0_____33333325634333435_2433544334_3_422343544...\n",
       "1  _0____22222325623232424_2422544324_3_312242544...\n",
       "2  __0___33222425623232324_2333444433_3_422343434...\n",
       "3  ___0__33333325634233334_2433434333_2_423343433...\n",
       "4  ____0_22323335633332435_2433545434_3_423343544..."
      ]
     },
     "execution_count": 287,
     "metadata": {},
     "output_type": "execute_result"
    }
   ],
   "source": [
    "# For now we don't use it \n",
    "shortest_path.head()"
   ]
  },
  {
   "cell_type": "code",
   "execution_count": 288,
   "id": "babda838-d4c5-4d94-8df5-fe5cfef03751",
   "metadata": {},
   "outputs": [
    {
     "data": {
      "text/html": [
       "<div>\n",
       "<style scoped>\n",
       "    .dataframe tbody tr th:only-of-type {\n",
       "        vertical-align: middle;\n",
       "    }\n",
       "\n",
       "    .dataframe tbody tr th {\n",
       "        vertical-align: top;\n",
       "    }\n",
       "\n",
       "    .dataframe thead th {\n",
       "        text-align: right;\n",
       "    }\n",
       "</style>\n",
       "<table border=\"1\" class=\"dataframe\">\n",
       "  <thead>\n",
       "    <tr style=\"text-align: right;\">\n",
       "      <th></th>\n",
       "      <th>hashedIpAddress</th>\n",
       "      <th>timestamp</th>\n",
       "      <th>durationInSec</th>\n",
       "      <th>path</th>\n",
       "      <th>rating</th>\n",
       "    </tr>\n",
       "  </thead>\n",
       "  <tbody>\n",
       "    <tr>\n",
       "      <th>0</th>\n",
       "      <td>6a3701d319fc3754</td>\n",
       "      <td>2011-02-15 03:26:49</td>\n",
       "      <td>166</td>\n",
       "      <td>14th_century;15th_century;16th_century;Pacific...</td>\n",
       "      <td>NaN</td>\n",
       "    </tr>\n",
       "    <tr>\n",
       "      <th>1</th>\n",
       "      <td>3824310e536af032</td>\n",
       "      <td>2012-08-12 06:36:52</td>\n",
       "      <td>88</td>\n",
       "      <td>14th_century;Europe;Africa;Atlantic_slave_trad...</td>\n",
       "      <td>3.0</td>\n",
       "    </tr>\n",
       "    <tr>\n",
       "      <th>2</th>\n",
       "      <td>415612e93584d30e</td>\n",
       "      <td>2012-10-03 21:10:40</td>\n",
       "      <td>138</td>\n",
       "      <td>14th_century;Niger;Nigeria;British_Empire;Slav...</td>\n",
       "      <td>NaN</td>\n",
       "    </tr>\n",
       "    <tr>\n",
       "      <th>3</th>\n",
       "      <td>64dd5cd342e3780c</td>\n",
       "      <td>2010-02-08 07:25:25</td>\n",
       "      <td>37</td>\n",
       "      <td>14th_century;Renaissance;Ancient_Greece;Greece</td>\n",
       "      <td>NaN</td>\n",
       "    </tr>\n",
       "    <tr>\n",
       "      <th>4</th>\n",
       "      <td>015245d773376aab</td>\n",
       "      <td>2013-04-23 15:27:08</td>\n",
       "      <td>175</td>\n",
       "      <td>14th_century;Italy;Roman_Catholic_Church;HIV;R...</td>\n",
       "      <td>3.0</td>\n",
       "    </tr>\n",
       "  </tbody>\n",
       "</table>\n",
       "</div>"
      ],
      "text/plain": [
       "    hashedIpAddress           timestamp  durationInSec  \\\n",
       "0  6a3701d319fc3754 2011-02-15 03:26:49            166   \n",
       "1  3824310e536af032 2012-08-12 06:36:52             88   \n",
       "2  415612e93584d30e 2012-10-03 21:10:40            138   \n",
       "3  64dd5cd342e3780c 2010-02-08 07:25:25             37   \n",
       "4  015245d773376aab 2013-04-23 15:27:08            175   \n",
       "\n",
       "                                                path  rating  \n",
       "0  14th_century;15th_century;16th_century;Pacific...     NaN  \n",
       "1  14th_century;Europe;Africa;Atlantic_slave_trad...     3.0  \n",
       "2  14th_century;Niger;Nigeria;British_Empire;Slav...     NaN  \n",
       "3     14th_century;Renaissance;Ancient_Greece;Greece     NaN  \n",
       "4  14th_century;Italy;Roman_Catholic_Church;HIV;R...     3.0  "
      ]
     },
     "execution_count": 288,
     "metadata": {},
     "output_type": "execute_result"
    }
   ],
   "source": [
    "# Conversion of Unix to Christian time for the path files\n",
    "path_finished['timestamp'] = pd.to_datetime(path_finished['timestamp'], unit='s', origin='unix')\n",
    "path_unfinished['timestamp'] = pd.to_datetime(path_finished['timestamp'], unit='s', origin='unix')\n",
    "path_finished.head()"
   ]
  },
  {
   "cell_type": "code",
   "execution_count": 289,
   "id": "7bb993c3",
   "metadata": {},
   "outputs": [],
   "source": [
    "# Adrticle names are URL-encoded. We can decode the article names for better readabilty using:\n",
    "#from urllib.parse import unquote\n",
    "\n",
    "#articles['article'].apply(lambda x : unquote(x))"
   ]
  },
  {
   "cell_type": "markdown",
   "id": "538c6fe8",
   "metadata": {},
   "source": [
    "# 2) Check the categories data:"
   ]
  },
  {
   "cell_type": "markdown",
   "id": "036f28e3-6033-4050-a63f-d8c94b4975fd",
   "metadata": {},
   "source": [
    "One first checks if some Na values appear among categories."
   ]
  },
  {
   "cell_type": "code",
   "execution_count": 290,
   "id": "52d6e01b-d3fc-49a9-94c5-533439559ec9",
   "metadata": {},
   "outputs": [
    {
     "data": {
      "text/plain": [
       "article     0\n",
       "category    0\n",
       "dtype: int64"
      ]
     },
     "execution_count": 290,
     "metadata": {},
     "output_type": "execute_result"
    }
   ],
   "source": [
    "categories.isna().sum()"
   ]
  },
  {
   "cell_type": "markdown",
   "id": "f86f91d4-6694-47c0-a9a7-ba5cf499713f",
   "metadata": {},
   "source": [
    "Overview on the dataset."
   ]
  },
  {
   "cell_type": "code",
   "execution_count": 291,
   "id": "0ee0a44e-4961-4a8f-81bd-7b37ec33d49c",
   "metadata": {},
   "outputs": [
    {
     "data": {
      "text/html": [
       "<div>\n",
       "<style scoped>\n",
       "    .dataframe tbody tr th:only-of-type {\n",
       "        vertical-align: middle;\n",
       "    }\n",
       "\n",
       "    .dataframe tbody tr th {\n",
       "        vertical-align: top;\n",
       "    }\n",
       "\n",
       "    .dataframe thead th {\n",
       "        text-align: right;\n",
       "    }\n",
       "</style>\n",
       "<table border=\"1\" class=\"dataframe\">\n",
       "  <thead>\n",
       "    <tr style=\"text-align: right;\">\n",
       "      <th></th>\n",
       "      <th>article</th>\n",
       "      <th>category</th>\n",
       "    </tr>\n",
       "  </thead>\n",
       "  <tbody>\n",
       "    <tr>\n",
       "      <th>count</th>\n",
       "      <td>5204</td>\n",
       "      <td>5204</td>\n",
       "    </tr>\n",
       "    <tr>\n",
       "      <th>unique</th>\n",
       "      <td>4598</td>\n",
       "      <td>129</td>\n",
       "    </tr>\n",
       "    <tr>\n",
       "      <th>top</th>\n",
       "      <td>Pottery</td>\n",
       "      <td>subject.Countries</td>\n",
       "    </tr>\n",
       "    <tr>\n",
       "      <th>freq</th>\n",
       "      <td>3</td>\n",
       "      <td>229</td>\n",
       "    </tr>\n",
       "  </tbody>\n",
       "</table>\n",
       "</div>"
      ],
      "text/plain": [
       "        article           category\n",
       "count      5204               5204\n",
       "unique     4598                129\n",
       "top     Pottery  subject.Countries\n",
       "freq          3                229"
      ]
     },
     "execution_count": 291,
     "metadata": {},
     "output_type": "execute_result"
    }
   ],
   "source": [
    "categories.describe()"
   ]
  },
  {
   "cell_type": "markdown",
   "id": "adc72081-dfc8-43a6-90f5-f6c566a6a49b",
   "metadata": {},
   "source": [
    "One then groups all articles by category."
   ]
  },
  {
   "cell_type": "code",
   "execution_count": 292,
   "id": "08bd3652-225e-4230-9205-995fd69d5eb4",
   "metadata": {},
   "outputs": [
    {
     "name": "stdout",
     "output_type": "stream",
     "text": [
      "There are 129 categories in the dataset.\n"
     ]
    }
   ],
   "source": [
    "categories_grouped = categories.groupby(by=\"category\")\n",
    "nb_categories = categories_grouped.ngroups\n",
    "print(\"There are {} categories in the dataset.\".format(nb_categories))"
   ]
  },
  {
   "cell_type": "markdown",
   "id": "b8fe7db0-2ea4-4a1c-a915-a17cbe63b42f",
   "metadata": {},
   "source": [
    "The histogram provides the distribution of articles per category.\n",
    "\n",
    "Juste une question (Manon): ça représente quoi l'axe x? est ce que c'est les différentes catégories? est ce qu'il faudrait pas du coup mettre aussi les noms de ces catégories? Enfin je suis pas trop sure de comprendre ce qui est représenté"
   ]
  },
  {
   "cell_type": "code",
   "execution_count": 293,
   "id": "3368540c-3944-4b14-a348-e66e9ad05774",
   "metadata": {},
   "outputs": [
    {
     "data": {
      "image/png": "[encoded data removed]",
      "text/plain": [
       "<Figure size 640x480 with 1 Axes>"
      ]
     },
     "metadata": {},
     "output_type": "display_data"
    }
   ],
   "source": [
    "nb_articles_per_category = categories_grouped.size()\n",
    "nb_articles_per_category.hist()\n",
    "plt.xlabel('Number of articles')\n",
    "plt.ylabel('Absolute frequency')\n",
    "plt.title('Distribution of articles per category');"
   ]
  },
  {
   "cell_type": "markdown",
   "id": "beebca86-0d06-467b-bcce-5dbe729dacc1",
   "metadata": {},
   "source": [
    "One then considers specific categories: countries, geographic regions and people. To get the number of articles belonging to each category, one checks if a given keyword belongs to the category string."
   ]
  },
  {
   "cell_type": "markdown",
   "id": "7fcf6fdd",
   "metadata": {},
   "source": [
    "### Countries:"
   ]
  },
  {
   "cell_type": "code",
   "execution_count": 294,
   "id": "fc154cda-267e-4239-8714-5e6cbc932185",
   "metadata": {},
   "outputs": [
    {
     "name": "stdout",
     "output_type": "stream",
     "text": [
      "There are 229 countries in the dataset.\n"
     ]
    },
    {
     "data": {
      "text/html": [
       "<div>\n",
       "<style scoped>\n",
       "    .dataframe tbody tr th:only-of-type {\n",
       "        vertical-align: middle;\n",
       "    }\n",
       "\n",
       "    .dataframe tbody tr th {\n",
       "        vertical-align: top;\n",
       "    }\n",
       "\n",
       "    .dataframe thead th {\n",
       "        text-align: right;\n",
       "    }\n",
       "</style>\n",
       "<table border=\"1\" class=\"dataframe\">\n",
       "  <thead>\n",
       "    <tr style=\"text-align: right;\">\n",
       "      <th></th>\n",
       "      <th>article</th>\n",
       "      <th>category</th>\n",
       "    </tr>\n",
       "  </thead>\n",
       "  <tbody>\n",
       "    <tr>\n",
       "      <th>2</th>\n",
       "      <td>%C3%85land</td>\n",
       "      <td>subject.Countries</td>\n",
       "    </tr>\n",
       "    <tr>\n",
       "      <th>5</th>\n",
       "      <td>%C3%89ire</td>\n",
       "      <td>subject.Countries</td>\n",
       "    </tr>\n",
       "    <tr>\n",
       "      <th>102</th>\n",
       "      <td>Abkhazia</td>\n",
       "      <td>subject.Countries</td>\n",
       "    </tr>\n",
       "    <tr>\n",
       "      <th>109</th>\n",
       "      <td>Abu_Dhabi</td>\n",
       "      <td>subject.Countries</td>\n",
       "    </tr>\n",
       "    <tr>\n",
       "      <th>141</th>\n",
       "      <td>Afghanistan</td>\n",
       "      <td>subject.Countries</td>\n",
       "    </tr>\n",
       "    <tr>\n",
       "      <th>...</th>\n",
       "      <td>...</td>\n",
       "      <td>...</td>\n",
       "    </tr>\n",
       "    <tr>\n",
       "      <th>5022</th>\n",
       "      <td>West_Bank</td>\n",
       "      <td>subject.Countries</td>\n",
       "    </tr>\n",
       "    <tr>\n",
       "      <th>5031</th>\n",
       "      <td>Western_Sahara</td>\n",
       "      <td>subject.Countries</td>\n",
       "    </tr>\n",
       "    <tr>\n",
       "      <th>5159</th>\n",
       "      <td>Yemen</td>\n",
       "      <td>subject.Countries</td>\n",
       "    </tr>\n",
       "    <tr>\n",
       "      <th>5182</th>\n",
       "      <td>Zambia</td>\n",
       "      <td>subject.Countries</td>\n",
       "    </tr>\n",
       "    <tr>\n",
       "      <th>5193</th>\n",
       "      <td>Zimbabwe</td>\n",
       "      <td>subject.Countries</td>\n",
       "    </tr>\n",
       "  </tbody>\n",
       "</table>\n",
       "<p>229 rows × 2 columns</p>\n",
       "</div>"
      ],
      "text/plain": [
       "             article           category\n",
       "2         %C3%85land  subject.Countries\n",
       "5          %C3%89ire  subject.Countries\n",
       "102         Abkhazia  subject.Countries\n",
       "109        Abu_Dhabi  subject.Countries\n",
       "141      Afghanistan  subject.Countries\n",
       "...              ...                ...\n",
       "5022       West_Bank  subject.Countries\n",
       "5031  Western_Sahara  subject.Countries\n",
       "5159           Yemen  subject.Countries\n",
       "5182          Zambia  subject.Countries\n",
       "5193        Zimbabwe  subject.Countries\n",
       "\n",
       "[229 rows x 2 columns]"
      ]
     },
     "execution_count": 294,
     "metadata": {},
     "output_type": "execute_result"
    }
   ],
   "source": [
    "#countries = categories_grouped.filter(lambda x: 'Countries' in str(x['category']))\n",
    "# (Flore) Version plus simple de le faire:\n",
    "countries = categories_grouped.get_group('subject.Countries')\n",
    "#print(\"There are {} countries in the dataset.\".format(all_countries.size))\n",
    "# (Flore) ATTENTION !! Ne pas utiliser .size mais len() pour avoir le nb de pays, etc, sinon donne pas la bonne chose\n",
    "print(\"There are {} countries in the dataset.\".format(len(countries)))\n",
    "\n",
    "countries"
   ]
  },
  {
   "cell_type": "code",
   "execution_count": 295,
   "id": "dbfbd4fe-8aa5-4e4d-a9a5-a94f5275c5a7",
   "metadata": {},
   "outputs": [
    {
     "data": {
      "text/html": [
       "<div>\n",
       "<style scoped>\n",
       "    .dataframe tbody tr th:only-of-type {\n",
       "        vertical-align: middle;\n",
       "    }\n",
       "\n",
       "    .dataframe tbody tr th {\n",
       "        vertical-align: top;\n",
       "    }\n",
       "\n",
       "    .dataframe thead th {\n",
       "        text-align: right;\n",
       "    }\n",
       "</style>\n",
       "<table border=\"1\" class=\"dataframe\">\n",
       "  <thead>\n",
       "    <tr style=\"text-align: right;\">\n",
       "      <th></th>\n",
       "      <th>article</th>\n",
       "      <th>category</th>\n",
       "    </tr>\n",
       "  </thead>\n",
       "  <tbody>\n",
       "    <tr>\n",
       "      <th>count</th>\n",
       "      <td>229</td>\n",
       "      <td>229</td>\n",
       "    </tr>\n",
       "    <tr>\n",
       "      <th>unique</th>\n",
       "      <td>229</td>\n",
       "      <td>1</td>\n",
       "    </tr>\n",
       "    <tr>\n",
       "      <th>top</th>\n",
       "      <td>%C3%85land</td>\n",
       "      <td>subject.Countries</td>\n",
       "    </tr>\n",
       "    <tr>\n",
       "      <th>freq</th>\n",
       "      <td>1</td>\n",
       "      <td>229</td>\n",
       "    </tr>\n",
       "  </tbody>\n",
       "</table>\n",
       "</div>"
      ],
      "text/plain": [
       "           article           category\n",
       "count          229                229\n",
       "unique         229                  1\n",
       "top     %C3%85land  subject.Countries\n",
       "freq             1                229"
      ]
     },
     "execution_count": 295,
     "metadata": {},
     "output_type": "execute_result"
    }
   ],
   "source": [
    "countries.describe()"
   ]
  },
  {
   "cell_type": "markdown",
   "id": "22d3c255",
   "metadata": {},
   "source": [
    "Group the countries by continent:"
   ]
  },
  {
   "cell_type": "code",
   "execution_count": 296,
   "id": "4e11c410",
   "metadata": {},
   "outputs": [
    {
     "name": "stdout",
     "output_type": "stream",
     "text": [
      "There are 56 European countries\n",
      "There are 37 Asian countries\n",
      "There are 57 African countries\n",
      "There are 48 Central/South American countries\n",
      "There are 18 Middle Eastern countries\n"
     ]
    }
   ],
   "source": [
    "European_countries= categories_grouped.get_group('subject.Geography.European_Geography.European_Countries')\n",
    "European_countries.insert(1, 'Continent', 'European')\n",
    "print('There are {} European countries'.format(len(European_countries)))\n",
    "\n",
    "Asian_countries= categories_grouped.get_group('subject.Geography.Geography_of_Asia.Asian_Countries')\n",
    "Asian_countries.insert(1, 'Continent', 'Asian')\n",
    "print('There are {} Asian countries'.format(len(Asian_countries)))\n",
    "\n",
    "\n",
    "African_countries= categories_grouped.get_group('subject.Geography.African_Geography.African_Countries')\n",
    "African_countries.insert(1, 'Continent', 'African')\n",
    "print('There are {} African countries'.format(len(African_countries)))\n",
    "\n",
    "SC_American_countries= categories_grouped.get_group('subject.Geography.Central_and_South_American_Geography.Central_and_South_American_Countries')\n",
    "SC_American_countries.insert(1, 'Continent', 'SC American')\n",
    "print('There are {} Central/South American countries'.format(len(SC_American_countries)))\n",
    "\n",
    "Mid_Eastern_countries= categories_grouped.get_group('subject.Geography.Geography_of_the_Middle_East.Middle_Eastern_Countries')\n",
    "Mid_Eastern_countries.insert(1, 'Continent', 'Middle Eastern')\n",
    "print('There are {} Middle Eastern countries'.format(len(Mid_Eastern_countries)))\n"
   ]
  },
  {
   "cell_type": "code",
   "execution_count": 297,
   "id": "138fcfa5",
   "metadata": {},
   "outputs": [],
   "source": [
    "#Need to do it differently for North American countries, because there is no .North_American_Countries category :(\n",
    "North_American_geography= categories_grouped.get_group('subject.Geography.North_American_Geography')\n",
    "North_American_countries = pd.DataFrame(columns = ['article','category'])\n",
    "for idx, NA_geo in enumerate(North_American_geography['article']):\n",
    "    if (NA_geo in countries['article'].unique()):\n",
    "        North_American_countries= pd.concat([North_American_countries, North_American_geography[North_American_geography.article==NA_geo]] ,join='outer')\n",
    "\n",
    "North_American_countries.insert(1, 'Continent', 'North American')"
   ]
  },
  {
   "cell_type": "code",
   "execution_count": 298,
   "id": "d160fd97",
   "metadata": {},
   "outputs": [],
   "source": [
    "#Same for Oceania/Australasia continent\n",
    "Geography_of_Oceania_Australasia = categories_grouped.get_group('subject.Geography.Geography_of_Oceania_Australasia')\n",
    "Oceania_Australasia_countries = pd.DataFrame(columns = ['article','category'])\n",
    "for idx, Oce_geo in enumerate(Geography_of_Oceania_Australasia['article']):\n",
    "    if (Oce_geo in countries['article'].unique()):\n",
    "        Oceania_Australasia_countries= pd.concat([Oceania_Australasia_countries, Geography_of_Oceania_Australasia[Geography_of_Oceania_Australasia.article==Oce_geo]] ,join='outer')\n",
    "\n",
    "Oceania_Australasia_countries.insert(1, 'Continent', 'Oceania Australasia')"
   ]
  },
  {
   "cell_type": "markdown",
   "id": "30d9c7ba",
   "metadata": {},
   "source": [
    "Add the continent information to the countries. NaN of category_x correspond that are not directly classified as a country, only as a country that belongs to a continent. Ex: Mayotte is a region of France but is actually an island located in Africa!"
   ]
  },
  {
   "cell_type": "code",
   "execution_count": 299,
   "id": "a4e3dffd",
   "metadata": {},
   "outputs": [
    {
     "data": {
      "text/html": [
       "<div>\n",
       "<style scoped>\n",
       "    .dataframe tbody tr th:only-of-type {\n",
       "        vertical-align: middle;\n",
       "    }\n",
       "\n",
       "    .dataframe tbody tr th {\n",
       "        vertical-align: top;\n",
       "    }\n",
       "\n",
       "    .dataframe thead th {\n",
       "        text-align: right;\n",
       "    }\n",
       "</style>\n",
       "<table border=\"1\" class=\"dataframe\">\n",
       "  <thead>\n",
       "    <tr style=\"text-align: right;\">\n",
       "      <th></th>\n",
       "      <th>article</th>\n",
       "      <th>category_x</th>\n",
       "      <th>Continent</th>\n",
       "      <th>category_y</th>\n",
       "    </tr>\n",
       "  </thead>\n",
       "  <tbody>\n",
       "    <tr>\n",
       "      <th>76</th>\n",
       "      <td>French_Guiana</td>\n",
       "      <td>subject.Countries</td>\n",
       "      <td>SC American</td>\n",
       "      <td>subject.Geography.Central_and_South_American_G...</td>\n",
       "    </tr>\n",
       "    <tr>\n",
       "      <th>29</th>\n",
       "      <td>Botswana</td>\n",
       "      <td>subject.Countries</td>\n",
       "      <td>African</td>\n",
       "      <td>subject.Geography.African_Geography.African_Co...</td>\n",
       "    </tr>\n",
       "    <tr>\n",
       "      <th>129</th>\n",
       "      <td>Martinique</td>\n",
       "      <td>subject.Countries</td>\n",
       "      <td>SC American</td>\n",
       "      <td>subject.Geography.Central_and_South_American_G...</td>\n",
       "    </tr>\n",
       "    <tr>\n",
       "      <th>104</th>\n",
       "      <td>Italy</td>\n",
       "      <td>subject.Countries</td>\n",
       "      <td>European</td>\n",
       "      <td>subject.Geography.European_Geography.European_...</td>\n",
       "    </tr>\n",
       "    <tr>\n",
       "      <th>34</th>\n",
       "      <td>Bulgaria</td>\n",
       "      <td>subject.Countries</td>\n",
       "      <td>European</td>\n",
       "      <td>subject.Geography.European_Geography.European_...</td>\n",
       "    </tr>\n",
       "    <tr>\n",
       "      <th>62</th>\n",
       "      <td>East_Timor</td>\n",
       "      <td>subject.Countries</td>\n",
       "      <td>Asian</td>\n",
       "      <td>subject.Geography.Geography_of_Asia.Asian_Coun...</td>\n",
       "    </tr>\n",
       "    <tr>\n",
       "      <th>172</th>\n",
       "      <td>Saint_Kitts_and_Nevis</td>\n",
       "      <td>subject.Countries</td>\n",
       "      <td>SC American</td>\n",
       "      <td>subject.Geography.Central_and_South_American_G...</td>\n",
       "    </tr>\n",
       "    <tr>\n",
       "      <th>67</th>\n",
       "      <td>Equatorial_Guinea</td>\n",
       "      <td>subject.Countries</td>\n",
       "      <td>African</td>\n",
       "      <td>subject.Geography.African_Geography.African_Co...</td>\n",
       "    </tr>\n",
       "    <tr>\n",
       "      <th>147</th>\n",
       "      <td>Nigeria</td>\n",
       "      <td>subject.Countries</td>\n",
       "      <td>African</td>\n",
       "      <td>subject.Geography.African_Geography.African_Co...</td>\n",
       "    </tr>\n",
       "    <tr>\n",
       "      <th>145</th>\n",
       "      <td>Nicaragua</td>\n",
       "      <td>subject.Countries</td>\n",
       "      <td>SC American</td>\n",
       "      <td>subject.Geography.Central_and_South_American_G...</td>\n",
       "    </tr>\n",
       "  </tbody>\n",
       "</table>\n",
       "</div>"
      ],
      "text/plain": [
       "                   article         category_x    Continent  \\\n",
       "76           French_Guiana  subject.Countries  SC American   \n",
       "29                Botswana  subject.Countries      African   \n",
       "129             Martinique  subject.Countries  SC American   \n",
       "104                  Italy  subject.Countries     European   \n",
       "34                Bulgaria  subject.Countries     European   \n",
       "62              East_Timor  subject.Countries        Asian   \n",
       "172  Saint_Kitts_and_Nevis  subject.Countries  SC American   \n",
       "67       Equatorial_Guinea  subject.Countries      African   \n",
       "147                Nigeria  subject.Countries      African   \n",
       "145              Nicaragua  subject.Countries  SC American   \n",
       "\n",
       "                                            category_y  \n",
       "76   subject.Geography.Central_and_South_American_G...  \n",
       "29   subject.Geography.African_Geography.African_Co...  \n",
       "129  subject.Geography.Central_and_South_American_G...  \n",
       "104  subject.Geography.European_Geography.European_...  \n",
       "34   subject.Geography.European_Geography.European_...  \n",
       "62   subject.Geography.Geography_of_Asia.Asian_Coun...  \n",
       "172  subject.Geography.Central_and_South_American_G...  \n",
       "67   subject.Geography.African_Geography.African_Co...  \n",
       "147  subject.Geography.African_Geography.African_Co...  \n",
       "145  subject.Geography.Central_and_South_American_G...  "
      ]
     },
     "execution_count": 299,
     "metadata": {},
     "output_type": "execute_result"
    }
   ],
   "source": [
    "all_continents = pd.concat([European_countries, Asian_countries, African_countries, SC_American_countries, Mid_Eastern_countries, North_American_countries, Oceania_Australasia_countries])\n",
    "all_countries = countries.merge(all_continents, how='outer', on = ['article'])\n",
    "all_countries.sample(10)"
   ]
  },
  {
   "cell_type": "markdown",
   "id": "2835cf49-0405-4335-8af6-b105c4bc82a6",
   "metadata": {},
   "source": [
    "Repartition of the number of countries per continent."
   ]
  },
  {
   "cell_type": "code",
   "execution_count": 300,
   "id": "ddfddded-7f3a-42d9-835e-3b5a4a3a491f",
   "metadata": {},
   "outputs": [
    {
     "data": {
      "text/plain": [
       "<AxesSubplot:>"
      ]
     },
     "execution_count": 300,
     "metadata": {},
     "output_type": "execute_result"
    },
    {
     "data": {
      "image/png": "[encoded data removed]",
      "text/plain": [
       "<Figure size 640x480 with 1 Axes>"
      ]
     },
     "metadata": {},
     "output_type": "display_data"
    }
   ],
   "source": [
    "all_countries['Continent'].value_counts().plot(kind=\"bar\")"
   ]
  },
  {
   "cell_type": "markdown",
   "id": "465145c0-1ef5-4f3f-9372-a2a21b831417",
   "metadata": {},
   "source": [
    "# People"
   ]
  },
  {
   "cell_type": "markdown",
   "id": "3f79bd0d-5bc5-465f-bf4e-5ec4b2fef904",
   "metadata": {},
   "source": [
    "One first determines how many classes of people there are, before creating groups."
   ]
  },
  {
   "cell_type": "code",
   "execution_count": 301,
   "id": "8cab5bf8-01af-4a54-98f2-af0c5ea9b4e0",
   "metadata": {},
   "outputs": [
    {
     "name": "stdout",
     "output_type": "stream",
     "text": [
      "There are 711 people in the dataset, that are divided in 21 different classes.\n"
     ]
    }
   ],
   "source": [
    "people = categories_grouped.filter(lambda x: 'People' in str(x['category'])) \n",
    "people_grouped = people.groupby(by=\"category\")\n",
    "nb_people_categories = people_grouped.ngroups\n",
    "print(\"There are {0} people in the dataset, that are divided in {1} different classes.\".format(len(people),nb_people_categories))\n",
    "\n",
    "# ATTENTION: Pour le nombre de personnes c'est pas tout à fait juste car certaines personnes apparaissent dans plusieurs catégories\n",
    "# Le code en dessous donne vraiment le nombre de personne "
   ]
  },
  {
   "cell_type": "code",
   "execution_count": 302,
   "id": "512c6e31",
   "metadata": {},
   "outputs": [
    {
     "name": "stdout",
     "output_type": "stream",
     "text": [
      "There are 698 people in the dataset, that are divided in 21 different classes.\n"
     ]
    }
   ],
   "source": [
    "#Count number of distinct elements in specified axis.\n",
    "people.nunique()\n",
    "print(\"There are {0} people in the dataset, that are divided in {1} different classes.\".format(people.nunique()[0],people.nunique()[1]))\n"
   ]
  },
  {
   "cell_type": "code",
   "execution_count": 303,
   "id": "d0e0dbca",
   "metadata": {},
   "outputs": [
    {
     "data": {
      "text/html": [
       "<div>\n",
       "<style scoped>\n",
       "    .dataframe tbody tr th:only-of-type {\n",
       "        vertical-align: middle;\n",
       "    }\n",
       "\n",
       "    .dataframe tbody tr th {\n",
       "        vertical-align: top;\n",
       "    }\n",
       "\n",
       "    .dataframe thead th {\n",
       "        text-align: right;\n",
       "    }\n",
       "</style>\n",
       "<table border=\"1\" class=\"dataframe\">\n",
       "  <thead>\n",
       "    <tr style=\"text-align: right;\">\n",
       "      <th></th>\n",
       "      <th>article</th>\n",
       "      <th>category</th>\n",
       "    </tr>\n",
       "  </thead>\n",
       "  <tbody>\n",
       "    <tr>\n",
       "      <th>1</th>\n",
       "      <td>%C3%81ed%C3%A1n_mac_Gabr%C3%A1in</td>\n",
       "      <td>subject.People.Historical_figures</td>\n",
       "    </tr>\n",
       "    <tr>\n",
       "      <th>4</th>\n",
       "      <td>%C3%89douard_Manet</td>\n",
       "      <td>subject.People.Artists</td>\n",
       "    </tr>\n",
       "    <tr>\n",
       "      <th>8</th>\n",
       "      <td>%C3%93engus_I_of_the_Picts</td>\n",
       "      <td>subject.People.Historical_figures</td>\n",
       "    </tr>\n",
       "    <tr>\n",
       "      <th>67</th>\n",
       "      <td>A._E._J._Collins</td>\n",
       "      <td>subject.People.Sports_and_games_people</td>\n",
       "    </tr>\n",
       "    <tr>\n",
       "      <th>88</th>\n",
       "      <td>Abbas_I_of_Persia</td>\n",
       "      <td>subject.People.Historical_figures</td>\n",
       "    </tr>\n",
       "    <tr>\n",
       "      <th>...</th>\n",
       "      <td>...</td>\n",
       "      <td>...</td>\n",
       "    </tr>\n",
       "    <tr>\n",
       "      <th>5188</th>\n",
       "      <td>Zhang_Qian</td>\n",
       "      <td>subject.People.Historical_figures</td>\n",
       "    </tr>\n",
       "    <tr>\n",
       "      <th>5190</th>\n",
       "      <td>Zheng_He</td>\n",
       "      <td>subject.People.Historical_figures</td>\n",
       "    </tr>\n",
       "    <tr>\n",
       "      <th>5191</th>\n",
       "      <td>Ziad_Jarrah</td>\n",
       "      <td>subject.People.Historical_figures</td>\n",
       "    </tr>\n",
       "    <tr>\n",
       "      <th>5197</th>\n",
       "      <td>Zionism</td>\n",
       "      <td>subject.People.Political_People</td>\n",
       "    </tr>\n",
       "    <tr>\n",
       "      <th>5200</th>\n",
       "      <td>Zoroaster</td>\n",
       "      <td>subject.People.Religious_figures_and_leaders</td>\n",
       "    </tr>\n",
       "  </tbody>\n",
       "</table>\n",
       "<p>711 rows × 2 columns</p>\n",
       "</div>"
      ],
      "text/plain": [
       "                               article  \\\n",
       "1     %C3%81ed%C3%A1n_mac_Gabr%C3%A1in   \n",
       "4                   %C3%89douard_Manet   \n",
       "8           %C3%93engus_I_of_the_Picts   \n",
       "67                    A._E._J._Collins   \n",
       "88                   Abbas_I_of_Persia   \n",
       "...                                ...   \n",
       "5188                        Zhang_Qian   \n",
       "5190                          Zheng_He   \n",
       "5191                       Ziad_Jarrah   \n",
       "5197                           Zionism   \n",
       "5200                         Zoroaster   \n",
       "\n",
       "                                          category  \n",
       "1                subject.People.Historical_figures  \n",
       "4                           subject.People.Artists  \n",
       "8                subject.People.Historical_figures  \n",
       "67          subject.People.Sports_and_games_people  \n",
       "88               subject.People.Historical_figures  \n",
       "...                                            ...  \n",
       "5188             subject.People.Historical_figures  \n",
       "5190             subject.People.Historical_figures  \n",
       "5191             subject.People.Historical_figures  \n",
       "5197               subject.People.Political_People  \n",
       "5200  subject.People.Religious_figures_and_leaders  \n",
       "\n",
       "[711 rows x 2 columns]"
      ]
     },
     "execution_count": 303,
     "metadata": {},
     "output_type": "execute_result"
    }
   ],
   "source": [
    "people"
   ]
  },
  {
   "cell_type": "markdown",
   "id": "bcc7000b-189b-4415-9d44-0f08d4b24b85",
   "metadata": {},
   "source": [
    "Let's have an overview of the 21 categories."
   ]
  },
  {
   "cell_type": "code",
   "execution_count": 304,
   "id": "a63c92a7-a678-4ebf-9057-87d0d8d35745",
   "metadata": {},
   "outputs": [
    {
     "data": {
      "text/plain": [
       "<AxesSubplot:>"
      ]
     },
     "execution_count": 304,
     "metadata": {},
     "output_type": "execute_result"
    },
    {
     "data": {
      "image/png": "[encoded data removed]",
      "text/plain": [
       "<Figure size 640x480 with 1 Axes>"
      ]
     },
     "metadata": {},
     "output_type": "display_data"
    }
   ],
   "source": [
    "people['category'].value_counts().plot(kind=\"bar\")"
   ]
  },
  {
   "cell_type": "markdown",
   "id": "3084fc8d-e53e-4a79-905b-a65b953180ff",
   "metadata": {},
   "source": [
    "One gathers those classes in bigger categories. But which criterion to choose?"
   ]
  },
  {
   "cell_type": "code",
   "execution_count": 305,
   "id": "43236265-1038-427c-98f4-7369a8a73f1a",
   "metadata": {},
   "outputs": [],
   "source": [
    "historical_figures = categories_grouped.get_group('subject.People.Historical_figures')"
   ]
  },
  {
   "cell_type": "markdown",
   "id": "efcb3178",
   "metadata": {},
   "source": [
    "### Try to extract usefull information from plaintext\n"
   ]
  },
  {
   "cell_type": "markdown",
   "id": "6066edf7",
   "metadata": {},
   "source": [
    "1) Test avec Albert Einstein:\n"
   ]
  },
  {
   "cell_type": "code",
   "execution_count": 323,
   "id": "0cfe7819",
   "metadata": {},
   "outputs": [],
   "source": [
    "import re\n",
    "\n",
    "PATH_FOLDER = 'plaintext_articles/'\n",
    "\n",
    "# Defining paths\n",
    "Article_Albert_Einstein = open(PATH_FOLDER +\"Albert_Einstein.txt\",'r')\n",
    "lines_AE = Article_Albert_Einstein.readlines()"
   ]
  },
  {
   "cell_type": "code",
   "execution_count": 307,
   "id": "bef1f82b",
   "metadata": {},
   "outputs": [
    {
     "name": "stdout",
     "output_type": "stream",
     "text": [
      "['      March 14, 1879']\n"
     ]
    }
   ],
   "source": [
    "# A list to append extracted data\n",
    "list_extracted_data = []\n",
    "for line in lines_AE:\n",
    "# Flag is True if the line starts (special character for start: \\A) with 'Id of the track'\n",
    "    flag = re.search('Born',line)\n",
    "    if flag:\n",
    "        start_index = re.search('Born',line).end()\n",
    "        end_index = re.search('\\n',line).start() \n",
    "# Select the indices from each line as it contains our extracted data\n",
    "        list_extracted_data.append(line[start_index:end_index])\n",
    "        break\n",
    "print(list_extracted_data)"
   ]
  },
  {
   "cell_type": "markdown",
   "id": "9b7e9799",
   "metadata": {},
   "source": [
    "2. Try to make it as functions:\n"
   ]
  },
  {
   "cell_type": "code",
   "execution_count": 319,
   "id": "7618886d",
   "metadata": {},
   "outputs": [],
   "source": [
    "def read_plain_text(article_name):\n",
    "    print(article_name)\n",
    "    article = open(PATH_FOLDER + article_name +\".txt\",'r')\n",
    "    lines_text = article.readlines()\n",
    "    return lines_text"
   ]
  },
  {
   "cell_type": "code",
   "execution_count": 312,
   "id": "61581ad5",
   "metadata": {},
   "outputs": [],
   "source": [
    "def extract_data_from_plain_text(article_name, list_extracted_data, word):\n",
    "\n",
    "    print(article_name)\n",
    "    lines_text = read_plain_text(str(article_name))\n",
    "    for line in lines_text:\n",
    "    # Flag is True if the line starts (special character for start: \\A) with 'Id of the track'\n",
    "        flag = re.search(word,line)\n",
    "        if flag:\n",
    "            start_index = re.search(word,line).end()\n",
    "            end_index = re.search('\\n',line).start() \n",
    "    # Select the indices from each line as it contains our extracted data\n",
    "            list_extracted_data.append(line[start_index:end_index])\n",
    "            print('Found word')\n",
    "            break\n",
    "    # If the word is not present at all (ex:didn't die) add Nan\n",
    "    if not flag:\n",
    "        list_extracted_data.append(['NaN'])\n",
    "        print('Not found')\n",
    "    print(list_extracted_data)\n",
    "    return list_extracted_data"
   ]
  },
  {
   "cell_type": "markdown",
   "id": "2da11e25",
   "metadata": {},
   "source": [
    "Try extracting the birth dates of the people:\n",
    "\n",
    "Je crois que ça fonctionne pas à cause des charatères spéciaux lol"
   ]
  },
  {
   "cell_type": "code",
   "execution_count": 320,
   "id": "2895e0f8",
   "metadata": {},
   "outputs": [
    {
     "name": "stdout",
     "output_type": "stream",
     "text": [
      "%C3%81ed%C3%A1n_mac_Gabr%C3%A1in\n",
      "done\n"
     ]
    },
    {
     "ename": "UnicodeDecodeError",
     "evalue": "'charmap' codec can't decode byte 0x81 in position 18: character maps to <undefined>",
     "output_type": "error",
     "traceback": [
      "\u001b[1;31m---------------------------------------------------------------------------\u001b[0m",
      "\u001b[1;31mUnicodeDecodeError\u001b[0m                        Traceback (most recent call last)",
      "\u001b[1;32mc:\\Users\\Flore.MININT-64PJ14C\\Documents\\EPFL\\MA3\\ADA\\ada-2022-project-flagada22\\Project.ipynb Cellule 47\u001b[0m in \u001b[0;36m<cell line: 2>\u001b[1;34m()\u001b[0m\n\u001b[0;32m      <a href='vscode-notebook-cell:/c%3A/Users/Flore.MININT-64PJ14C/Documents/EPFL/MA3/ADA/ada-2022-project-flagada22/Project.ipynb#Y346sZmlsZQ%3D%3D?line=0'>1</a>\u001b[0m birth_dates\u001b[39m=\u001b[39m[]\n\u001b[1;32m----> <a href='vscode-notebook-cell:/c%3A/Users/Flore.MININT-64PJ14C/Documents/EPFL/MA3/ADA/ada-2022-project-flagada22/Project.ipynb#Y346sZmlsZQ%3D%3D?line=1'>2</a>\u001b[0m test\u001b[39m=\u001b[39mpeople[\u001b[39m'\u001b[39;49m\u001b[39marticle\u001b[39;49m\u001b[39m'\u001b[39;49m]\u001b[39m.\u001b[39;49mapply(\u001b[39mlambda\u001b[39;49;00m x: read_plain_text(x))\n",
      "File \u001b[1;32mc:\\Users\\Flore.MININT-64PJ14C\\anaconda3\\envs\\ada\\lib\\site-packages\\pandas\\core\\series.py:4433\u001b[0m, in \u001b[0;36mSeries.apply\u001b[1;34m(self, func, convert_dtype, args, **kwargs)\u001b[0m\n\u001b[0;32m   4323\u001b[0m \u001b[39mdef\u001b[39;00m \u001b[39mapply\u001b[39m(\n\u001b[0;32m   4324\u001b[0m     \u001b[39mself\u001b[39m,\n\u001b[0;32m   4325\u001b[0m     func: AggFuncType,\n\u001b[1;32m   (...)\u001b[0m\n\u001b[0;32m   4328\u001b[0m     \u001b[39m*\u001b[39m\u001b[39m*\u001b[39mkwargs,\n\u001b[0;32m   4329\u001b[0m ) \u001b[39m-\u001b[39m\u001b[39m>\u001b[39m DataFrame \u001b[39m|\u001b[39m Series:\n\u001b[0;32m   4330\u001b[0m     \u001b[39m\"\"\"\u001b[39;00m\n\u001b[0;32m   4331\u001b[0m \u001b[39m    Invoke function on values of Series.\u001b[39;00m\n\u001b[0;32m   4332\u001b[0m \n\u001b[1;32m   (...)\u001b[0m\n\u001b[0;32m   4431\u001b[0m \u001b[39m    dtype: float64\u001b[39;00m\n\u001b[0;32m   4432\u001b[0m \u001b[39m    \"\"\"\u001b[39;00m\n\u001b[1;32m-> 4433\u001b[0m     \u001b[39mreturn\u001b[39;00m SeriesApply(\u001b[39mself\u001b[39;49m, func, convert_dtype, args, kwargs)\u001b[39m.\u001b[39;49mapply()\n",
      "File \u001b[1;32mc:\\Users\\Flore.MININT-64PJ14C\\anaconda3\\envs\\ada\\lib\\site-packages\\pandas\\core\\apply.py:1088\u001b[0m, in \u001b[0;36mSeriesApply.apply\u001b[1;34m(self)\u001b[0m\n\u001b[0;32m   1084\u001b[0m \u001b[39mif\u001b[39;00m \u001b[39misinstance\u001b[39m(\u001b[39mself\u001b[39m\u001b[39m.\u001b[39mf, \u001b[39mstr\u001b[39m):\n\u001b[0;32m   1085\u001b[0m     \u001b[39m# if we are a string, try to dispatch\u001b[39;00m\n\u001b[0;32m   1086\u001b[0m     \u001b[39mreturn\u001b[39;00m \u001b[39mself\u001b[39m\u001b[39m.\u001b[39mapply_str()\n\u001b[1;32m-> 1088\u001b[0m \u001b[39mreturn\u001b[39;00m \u001b[39mself\u001b[39;49m\u001b[39m.\u001b[39;49mapply_standard()\n",
      "File \u001b[1;32mc:\\Users\\Flore.MININT-64PJ14C\\anaconda3\\envs\\ada\\lib\\site-packages\\pandas\\core\\apply.py:1143\u001b[0m, in \u001b[0;36mSeriesApply.apply_standard\u001b[1;34m(self)\u001b[0m\n\u001b[0;32m   1137\u001b[0m         values \u001b[39m=\u001b[39m obj\u001b[39m.\u001b[39mastype(\u001b[39mobject\u001b[39m)\u001b[39m.\u001b[39m_values\n\u001b[0;32m   1138\u001b[0m         \u001b[39m# error: Argument 2 to \"map_infer\" has incompatible type\u001b[39;00m\n\u001b[0;32m   1139\u001b[0m         \u001b[39m# \"Union[Callable[..., Any], str, List[Union[Callable[..., Any], str]],\u001b[39;00m\n\u001b[0;32m   1140\u001b[0m         \u001b[39m# Dict[Hashable, Union[Union[Callable[..., Any], str],\u001b[39;00m\n\u001b[0;32m   1141\u001b[0m         \u001b[39m# List[Union[Callable[..., Any], str]]]]]\"; expected\u001b[39;00m\n\u001b[0;32m   1142\u001b[0m         \u001b[39m# \"Callable[[Any], Any]\"\u001b[39;00m\n\u001b[1;32m-> 1143\u001b[0m         mapped \u001b[39m=\u001b[39m lib\u001b[39m.\u001b[39;49mmap_infer(\n\u001b[0;32m   1144\u001b[0m             values,\n\u001b[0;32m   1145\u001b[0m             f,  \u001b[39m# type: ignore[arg-type]\u001b[39;49;00m\n\u001b[0;32m   1146\u001b[0m             convert\u001b[39m=\u001b[39;49m\u001b[39mself\u001b[39;49m\u001b[39m.\u001b[39;49mconvert_dtype,\n\u001b[0;32m   1147\u001b[0m         )\n\u001b[0;32m   1149\u001b[0m \u001b[39mif\u001b[39;00m \u001b[39mlen\u001b[39m(mapped) \u001b[39mand\u001b[39;00m \u001b[39misinstance\u001b[39m(mapped[\u001b[39m0\u001b[39m], ABCSeries):\n\u001b[0;32m   1150\u001b[0m     \u001b[39m# GH#43986 Need to do list(mapped) in order to get treated as nested\u001b[39;00m\n\u001b[0;32m   1151\u001b[0m     \u001b[39m#  See also GH#25959 regarding EA support\u001b[39;00m\n\u001b[0;32m   1152\u001b[0m     \u001b[39mreturn\u001b[39;00m obj\u001b[39m.\u001b[39m_constructor_expanddim(\u001b[39mlist\u001b[39m(mapped), index\u001b[39m=\u001b[39mobj\u001b[39m.\u001b[39mindex)\n",
      "File \u001b[1;32mc:\\Users\\Flore.MININT-64PJ14C\\anaconda3\\envs\\ada\\lib\\site-packages\\pandas\\_libs\\lib.pyx:2870\u001b[0m, in \u001b[0;36mpandas._libs.lib.map_infer\u001b[1;34m()\u001b[0m\n",
      "\u001b[1;32mc:\\Users\\Flore.MININT-64PJ14C\\Documents\\EPFL\\MA3\\ADA\\ada-2022-project-flagada22\\Project.ipynb Cellule 47\u001b[0m in \u001b[0;36m<lambda>\u001b[1;34m(x)\u001b[0m\n\u001b[0;32m      <a href='vscode-notebook-cell:/c%3A/Users/Flore.MININT-64PJ14C/Documents/EPFL/MA3/ADA/ada-2022-project-flagada22/Project.ipynb#Y346sZmlsZQ%3D%3D?line=0'>1</a>\u001b[0m birth_dates\u001b[39m=\u001b[39m[]\n\u001b[1;32m----> <a href='vscode-notebook-cell:/c%3A/Users/Flore.MININT-64PJ14C/Documents/EPFL/MA3/ADA/ada-2022-project-flagada22/Project.ipynb#Y346sZmlsZQ%3D%3D?line=1'>2</a>\u001b[0m test\u001b[39m=\u001b[39mpeople[\u001b[39m'\u001b[39m\u001b[39marticle\u001b[39m\u001b[39m'\u001b[39m]\u001b[39m.\u001b[39mapply(\u001b[39mlambda\u001b[39;00m x: read_plain_text(x))\n",
      "\u001b[1;32mc:\\Users\\Flore.MININT-64PJ14C\\Documents\\EPFL\\MA3\\ADA\\ada-2022-project-flagada22\\Project.ipynb Cellule 47\u001b[0m in \u001b[0;36mread_plain_text\u001b[1;34m(article_name)\u001b[0m\n\u001b[0;32m      <a href='vscode-notebook-cell:/c%3A/Users/Flore.MININT-64PJ14C/Documents/EPFL/MA3/ADA/ada-2022-project-flagada22/Project.ipynb#Y346sZmlsZQ%3D%3D?line=2'>3</a>\u001b[0m article \u001b[39m=\u001b[39m \u001b[39mopen\u001b[39m(PATH_FOLDER \u001b[39m+\u001b[39m article_name \u001b[39m+\u001b[39m\u001b[39m\"\u001b[39m\u001b[39m.txt\u001b[39m\u001b[39m\"\u001b[39m,\u001b[39m'\u001b[39m\u001b[39mr\u001b[39m\u001b[39m'\u001b[39m)\n\u001b[0;32m      <a href='vscode-notebook-cell:/c%3A/Users/Flore.MININT-64PJ14C/Documents/EPFL/MA3/ADA/ada-2022-project-flagada22/Project.ipynb#Y346sZmlsZQ%3D%3D?line=3'>4</a>\u001b[0m \u001b[39mprint\u001b[39m(\u001b[39m'\u001b[39m\u001b[39mdone\u001b[39m\u001b[39m'\u001b[39m)\n\u001b[1;32m----> <a href='vscode-notebook-cell:/c%3A/Users/Flore.MININT-64PJ14C/Documents/EPFL/MA3/ADA/ada-2022-project-flagada22/Project.ipynb#Y346sZmlsZQ%3D%3D?line=4'>5</a>\u001b[0m lines_text \u001b[39m=\u001b[39m article\u001b[39m.\u001b[39;49mreadlines()\n\u001b[0;32m      <a href='vscode-notebook-cell:/c%3A/Users/Flore.MININT-64PJ14C/Documents/EPFL/MA3/ADA/ada-2022-project-flagada22/Project.ipynb#Y346sZmlsZQ%3D%3D?line=5'>6</a>\u001b[0m \u001b[39mprint\u001b[39m(\u001b[39m'\u001b[39m\u001b[39mdone\u001b[39m\u001b[39m'\u001b[39m)\n\u001b[0;32m      <a href='vscode-notebook-cell:/c%3A/Users/Flore.MININT-64PJ14C/Documents/EPFL/MA3/ADA/ada-2022-project-flagada22/Project.ipynb#Y346sZmlsZQ%3D%3D?line=6'>7</a>\u001b[0m \u001b[39mreturn\u001b[39;00m lines_text\n",
      "File \u001b[1;32mc:\\Users\\Flore.MININT-64PJ14C\\anaconda3\\envs\\ada\\lib\\encodings\\cp1252.py:23\u001b[0m, in \u001b[0;36mIncrementalDecoder.decode\u001b[1;34m(self, input, final)\u001b[0m\n\u001b[0;32m     22\u001b[0m \u001b[39mdef\u001b[39;00m \u001b[39mdecode\u001b[39m(\u001b[39mself\u001b[39m, \u001b[39minput\u001b[39m, final\u001b[39m=\u001b[39m\u001b[39mFalse\u001b[39;00m):\n\u001b[1;32m---> 23\u001b[0m     \u001b[39mreturn\u001b[39;00m codecs\u001b[39m.\u001b[39;49mcharmap_decode(\u001b[39minput\u001b[39;49m,\u001b[39mself\u001b[39;49m\u001b[39m.\u001b[39;49merrors,decoding_table)[\u001b[39m0\u001b[39m]\n",
      "\u001b[1;31mUnicodeDecodeError\u001b[0m: 'charmap' codec can't decode byte 0x81 in position 18: character maps to <undefined>"
     ]
    }
   ],
   "source": [
    "birth_dates=[]\n",
    "test=people['article'].apply(lambda x: read_plain_text(x))\n",
    "\n"
   ]
  },
  {
   "cell_type": "code",
   "execution_count": 241,
   "id": "d4324368",
   "metadata": {},
   "outputs": [],
   "source": [
    "# Utiliser une fois qu'on aura extrès les dates\n",
    "#df['col'] = pd.to_datetime(df['col'])"
   ]
  },
  {
   "cell_type": "markdown",
   "id": "0642423b-54e7-4209-83ad-f1e3fddb49b6",
   "metadata": {},
   "source": [
    "# Linking people and countries"
   ]
  },
  {
   "cell_type": "markdown",
   "id": "f2441727-5e76-4daf-af60-3a735e4ea734",
   "metadata": {},
   "source": [
    "To see how countries and people are related, one looks at the links file and keeps only relationships showing how people are linked to countries and the converse."
   ]
  },
  {
   "cell_type": "code",
   "execution_count": 291,
   "id": "095536b2-e0d5-4c03-9777-df21526b6633",
   "metadata": {},
   "outputs": [
    {
     "data": {
      "text/html": [
       "<div>\n",
       "<style scoped>\n",
       "    .dataframe tbody tr th:only-of-type {\n",
       "        vertical-align: middle;\n",
       "    }\n",
       "\n",
       "    .dataframe tbody tr th {\n",
       "        vertical-align: top;\n",
       "    }\n",
       "\n",
       "    .dataframe thead th {\n",
       "        text-align: right;\n",
       "    }\n",
       "</style>\n",
       "<table border=\"1\" class=\"dataframe\">\n",
       "  <thead>\n",
       "    <tr style=\"text-align: right;\">\n",
       "      <th></th>\n",
       "      <th>linkSource</th>\n",
       "      <th>linkTarget</th>\n",
       "    </tr>\n",
       "  </thead>\n",
       "  <tbody>\n",
       "    <tr>\n",
       "      <th>0</th>\n",
       "      <td>%C3%81ed%C3%A1n_mac_Gabr%C3%A1in</td>\n",
       "      <td>Bede</td>\n",
       "    </tr>\n",
       "    <tr>\n",
       "      <th>1</th>\n",
       "      <td>%C3%81ed%C3%A1n_mac_Gabr%C3%A1in</td>\n",
       "      <td>Columba</td>\n",
       "    </tr>\n",
       "    <tr>\n",
       "      <th>2</th>\n",
       "      <td>%C3%81ed%C3%A1n_mac_Gabr%C3%A1in</td>\n",
       "      <td>D%C3%A1l_Riata</td>\n",
       "    </tr>\n",
       "    <tr>\n",
       "      <th>3</th>\n",
       "      <td>%C3%81ed%C3%A1n_mac_Gabr%C3%A1in</td>\n",
       "      <td>Great_Britain</td>\n",
       "    </tr>\n",
       "    <tr>\n",
       "      <th>4</th>\n",
       "      <td>%C3%81ed%C3%A1n_mac_Gabr%C3%A1in</td>\n",
       "      <td>Ireland</td>\n",
       "    </tr>\n",
       "  </tbody>\n",
       "</table>\n",
       "</div>"
      ],
      "text/plain": [
       "                         linkSource      linkTarget\n",
       "0  %C3%81ed%C3%A1n_mac_Gabr%C3%A1in            Bede\n",
       "1  %C3%81ed%C3%A1n_mac_Gabr%C3%A1in         Columba\n",
       "2  %C3%81ed%C3%A1n_mac_Gabr%C3%A1in  D%C3%A1l_Riata\n",
       "3  %C3%81ed%C3%A1n_mac_Gabr%C3%A1in   Great_Britain\n",
       "4  %C3%81ed%C3%A1n_mac_Gabr%C3%A1in         Ireland"
      ]
     },
     "execution_count": 291,
     "metadata": {},
     "output_type": "execute_result"
    }
   ],
   "source": [
    "links.head()"
   ]
  },
  {
   "cell_type": "code",
   "execution_count": 292,
   "id": "204889b5-89dd-46c5-b659-2bf8111081bf",
   "metadata": {},
   "outputs": [
    {
     "data": {
      "text/html": [
       "<div>\n",
       "<style scoped>\n",
       "    .dataframe tbody tr th:only-of-type {\n",
       "        vertical-align: middle;\n",
       "    }\n",
       "\n",
       "    .dataframe tbody tr th {\n",
       "        vertical-align: top;\n",
       "    }\n",
       "\n",
       "    .dataframe thead th {\n",
       "        text-align: right;\n",
       "    }\n",
       "</style>\n",
       "<table border=\"1\" class=\"dataframe\">\n",
       "  <thead>\n",
       "    <tr style=\"text-align: right;\">\n",
       "      <th></th>\n",
       "      <th>linkSource</th>\n",
       "      <th>linkTarget</th>\n",
       "    </tr>\n",
       "  </thead>\n",
       "  <tbody>\n",
       "    <tr>\n",
       "      <th>count</th>\n",
       "      <td>119882</td>\n",
       "      <td>119882</td>\n",
       "    </tr>\n",
       "    <tr>\n",
       "      <th>unique</th>\n",
       "      <td>4587</td>\n",
       "      <td>4135</td>\n",
       "    </tr>\n",
       "    <tr>\n",
       "      <th>top</th>\n",
       "      <td>United_States</td>\n",
       "      <td>United_States</td>\n",
       "    </tr>\n",
       "    <tr>\n",
       "      <th>freq</th>\n",
       "      <td>294</td>\n",
       "      <td>1551</td>\n",
       "    </tr>\n",
       "  </tbody>\n",
       "</table>\n",
       "</div>"
      ],
      "text/plain": [
       "           linkSource     linkTarget\n",
       "count          119882         119882\n",
       "unique           4587           4135\n",
       "top     United_States  United_States\n",
       "freq              294           1551"
      ]
     },
     "execution_count": 292,
     "metadata": {},
     "output_type": "execute_result"
    }
   ],
   "source": [
    "links.describe()"
   ]
  },
  {
   "cell_type": "markdown",
   "id": "2aaa9370-a72b-41de-97ee-d3183d21da08",
   "metadata": {},
   "source": [
    "The description already shows that the most common link source and target is the United States. This is non-trivial, since the metric is non-symmetric."
   ]
  },
  {
   "cell_type": "code",
   "execution_count": 293,
   "id": "b8120a52-5246-4ee5-a6a7-a323d84ca0c1",
   "metadata": {},
   "outputs": [
    {
     "data": {
      "text/plain": [
       "linkSource    0\n",
       "linkTarget    0\n",
       "dtype: int64"
      ]
     },
     "execution_count": 293,
     "metadata": {},
     "output_type": "execute_result"
    }
   ],
   "source": [
    "links.isna().sum()"
   ]
  },
  {
   "cell_type": "markdown",
   "id": "98957542-e270-4b16-848f-d2fb87b5aa86",
   "metadata": {},
   "source": [
    "No Na value appears in the file, so one can directly begin to play with data."
   ]
  },
  {
   "cell_type": "markdown",
   "id": "6ca8274f-e0e5-4b3a-8ed5-c9818bcf6304",
   "metadata": {},
   "source": [
    "One can now distinguish four different subsets that relate countries and people: 1) How a given source country reaches target people. 2) How a given target people is reached by source countries. 3) How a given source person reaches target countries. 4) How a given target country is reached by source people.\n",
    "Studying these four subsets should provide insights on the asymmetry degree of the relationships and the way people and countries are related."
   ]
  },
  {
   "cell_type": "markdown",
   "id": "110ae665-24cc-4cd7-8c2f-371a0467ca23",
   "metadata": {},
   "source": [
    "First, one divides the links dataset in two groups: one according to the source, the other to the target."
   ]
  },
  {
   "cell_type": "code",
   "execution_count": 294,
   "id": "106e87c4-5766-400b-b5a2-2b2cfcf5a650",
   "metadata": {},
   "outputs": [
    {
     "data": {
      "text/html": [
       "<div>\n",
       "<style scoped>\n",
       "    .dataframe tbody tr th:only-of-type {\n",
       "        vertical-align: middle;\n",
       "    }\n",
       "\n",
       "    .dataframe tbody tr th {\n",
       "        vertical-align: top;\n",
       "    }\n",
       "\n",
       "    .dataframe thead th {\n",
       "        text-align: right;\n",
       "    }\n",
       "</style>\n",
       "<table border=\"1\" class=\"dataframe\">\n",
       "  <thead>\n",
       "    <tr style=\"text-align: right;\">\n",
       "      <th></th>\n",
       "      <th>linkSource</th>\n",
       "      <th>linkTarget</th>\n",
       "    </tr>\n",
       "  </thead>\n",
       "  <tbody>\n",
       "    <tr>\n",
       "      <th>0</th>\n",
       "      <td>%C3%81ed%C3%A1n_mac_Gabr%C3%A1in</td>\n",
       "      <td>Bede</td>\n",
       "    </tr>\n",
       "    <tr>\n",
       "      <th>1</th>\n",
       "      <td>%C3%81ed%C3%A1n_mac_Gabr%C3%A1in</td>\n",
       "      <td>Columba</td>\n",
       "    </tr>\n",
       "    <tr>\n",
       "      <th>2</th>\n",
       "      <td>%C3%81ed%C3%A1n_mac_Gabr%C3%A1in</td>\n",
       "      <td>D%C3%A1l_Riata</td>\n",
       "    </tr>\n",
       "    <tr>\n",
       "      <th>3</th>\n",
       "      <td>%C3%81ed%C3%A1n_mac_Gabr%C3%A1in</td>\n",
       "      <td>Great_Britain</td>\n",
       "    </tr>\n",
       "    <tr>\n",
       "      <th>4</th>\n",
       "      <td>%C3%81ed%C3%A1n_mac_Gabr%C3%A1in</td>\n",
       "      <td>Ireland</td>\n",
       "    </tr>\n",
       "    <tr>\n",
       "      <th>...</th>\n",
       "      <td>...</td>\n",
       "      <td>...</td>\n",
       "    </tr>\n",
       "    <tr>\n",
       "      <th>119867</th>\n",
       "      <td>Zulu</td>\n",
       "      <td>AK-47</td>\n",
       "    </tr>\n",
       "    <tr>\n",
       "      <th>119868</th>\n",
       "      <td>Zulu</td>\n",
       "      <td>Bantu</td>\n",
       "    </tr>\n",
       "    <tr>\n",
       "      <th>119869</th>\n",
       "      <td>Zulu</td>\n",
       "      <td>Cape_Town</td>\n",
       "    </tr>\n",
       "    <tr>\n",
       "      <th>119870</th>\n",
       "      <td>Zulu</td>\n",
       "      <td>Christianity</td>\n",
       "    </tr>\n",
       "    <tr>\n",
       "      <th>119871</th>\n",
       "      <td>Zulu</td>\n",
       "      <td>English_language</td>\n",
       "    </tr>\n",
       "  </tbody>\n",
       "</table>\n",
       "<p>22500 rows × 2 columns</p>\n",
       "</div>"
      ],
      "text/plain": [
       "                              linkSource        linkTarget\n",
       "0       %C3%81ed%C3%A1n_mac_Gabr%C3%A1in              Bede\n",
       "1       %C3%81ed%C3%A1n_mac_Gabr%C3%A1in           Columba\n",
       "2       %C3%81ed%C3%A1n_mac_Gabr%C3%A1in    D%C3%A1l_Riata\n",
       "3       %C3%81ed%C3%A1n_mac_Gabr%C3%A1in     Great_Britain\n",
       "4       %C3%81ed%C3%A1n_mac_Gabr%C3%A1in           Ireland\n",
       "...                                  ...               ...\n",
       "119867                              Zulu             AK-47\n",
       "119868                              Zulu             Bantu\n",
       "119869                              Zulu         Cape_Town\n",
       "119870                              Zulu      Christianity\n",
       "119871                              Zulu  English_language\n",
       "\n",
       "[22500 rows x 2 columns]"
      ]
     },
     "execution_count": 294,
     "metadata": {},
     "output_type": "execute_result"
    }
   ],
   "source": [
    "grouped_source_links = links.groupby(by=\"linkSource\")\n",
    "grouped_source_links.head()"
   ]
  },
  {
   "cell_type": "code",
   "execution_count": 295,
   "id": "227a229e-cf29-4bb7-81fa-fdd3d54ca744",
   "metadata": {},
   "outputs": [
    {
     "data": {
      "text/html": [
       "<div>\n",
       "<style scoped>\n",
       "    .dataframe tbody tr th:only-of-type {\n",
       "        vertical-align: middle;\n",
       "    }\n",
       "\n",
       "    .dataframe tbody tr th {\n",
       "        vertical-align: top;\n",
       "    }\n",
       "\n",
       "    .dataframe thead tr th {\n",
       "        text-align: left;\n",
       "    }\n",
       "\n",
       "    .dataframe thead tr:last-of-type th {\n",
       "        text-align: right;\n",
       "    }\n",
       "</style>\n",
       "<table border=\"1\" class=\"dataframe\">\n",
       "  <thead>\n",
       "    <tr>\n",
       "      <th></th>\n",
       "      <th colspan=\"4\" halign=\"left\">linkTarget</th>\n",
       "    </tr>\n",
       "    <tr>\n",
       "      <th></th>\n",
       "      <th>count</th>\n",
       "      <th>unique</th>\n",
       "      <th>top</th>\n",
       "      <th>freq</th>\n",
       "    </tr>\n",
       "    <tr>\n",
       "      <th>linkSource</th>\n",
       "      <th></th>\n",
       "      <th></th>\n",
       "      <th></th>\n",
       "      <th></th>\n",
       "    </tr>\n",
       "  </thead>\n",
       "  <tbody>\n",
       "    <tr>\n",
       "      <th>%C3%81ed%C3%A1n_mac_Gabr%C3%A1in</th>\n",
       "      <td>11</td>\n",
       "      <td>11</td>\n",
       "      <td>Bede</td>\n",
       "      <td>1</td>\n",
       "    </tr>\n",
       "    <tr>\n",
       "      <th>%C3%85land</th>\n",
       "      <td>19</td>\n",
       "      <td>19</td>\n",
       "      <td>20th_century</td>\n",
       "      <td>1</td>\n",
       "    </tr>\n",
       "    <tr>\n",
       "      <th>%C3%89douard_Manet</th>\n",
       "      <td>20</td>\n",
       "      <td>20</td>\n",
       "      <td>Absinthe</td>\n",
       "      <td>1</td>\n",
       "    </tr>\n",
       "    <tr>\n",
       "      <th>%C3%89ire</th>\n",
       "      <td>8</td>\n",
       "      <td>8</td>\n",
       "      <td>Canada</td>\n",
       "      <td>1</td>\n",
       "    </tr>\n",
       "    <tr>\n",
       "      <th>%C3%93engus_I_of_the_Picts</th>\n",
       "      <td>10</td>\n",
       "      <td>10</td>\n",
       "      <td>D%C3%A1l_Riata</td>\n",
       "      <td>1</td>\n",
       "    </tr>\n",
       "    <tr>\n",
       "      <th>...</th>\n",
       "      <td>...</td>\n",
       "      <td>...</td>\n",
       "      <td>...</td>\n",
       "      <td>...</td>\n",
       "    </tr>\n",
       "    <tr>\n",
       "      <th>Zionism</th>\n",
       "      <td>74</td>\n",
       "      <td>74</td>\n",
       "      <td>18th_century</td>\n",
       "      <td>1</td>\n",
       "    </tr>\n",
       "    <tr>\n",
       "      <th>Zirconium</th>\n",
       "      <td>42</td>\n",
       "      <td>42</td>\n",
       "      <td>Aluminium</td>\n",
       "      <td>1</td>\n",
       "    </tr>\n",
       "    <tr>\n",
       "      <th>Zoroaster</th>\n",
       "      <td>28</td>\n",
       "      <td>28</td>\n",
       "      <td>18th_century</td>\n",
       "      <td>1</td>\n",
       "    </tr>\n",
       "    <tr>\n",
       "      <th>Zuid-Gelders</th>\n",
       "      <td>5</td>\n",
       "      <td>5</td>\n",
       "      <td>Brabantian</td>\n",
       "      <td>1</td>\n",
       "    </tr>\n",
       "    <tr>\n",
       "      <th>Zulu</th>\n",
       "      <td>15</td>\n",
       "      <td>15</td>\n",
       "      <td>AK-47</td>\n",
       "      <td>1</td>\n",
       "    </tr>\n",
       "  </tbody>\n",
       "</table>\n",
       "<p>4587 rows × 4 columns</p>\n",
       "</div>"
      ],
      "text/plain": [
       "                                 linkTarget                            \n",
       "                                      count unique             top freq\n",
       "linkSource                                                             \n",
       "%C3%81ed%C3%A1n_mac_Gabr%C3%A1in         11     11            Bede    1\n",
       "%C3%85land                               19     19    20th_century    1\n",
       "%C3%89douard_Manet                       20     20        Absinthe    1\n",
       "%C3%89ire                                 8      8          Canada    1\n",
       "%C3%93engus_I_of_the_Picts               10     10  D%C3%A1l_Riata    1\n",
       "...                                     ...    ...             ...  ...\n",
       "Zionism                                  74     74    18th_century    1\n",
       "Zirconium                                42     42       Aluminium    1\n",
       "Zoroaster                                28     28    18th_century    1\n",
       "Zuid-Gelders                              5      5      Brabantian    1\n",
       "Zulu                                     15     15           AK-47    1\n",
       "\n",
       "[4587 rows x 4 columns]"
      ]
     },
     "execution_count": 295,
     "metadata": {},
     "output_type": "execute_result"
    }
   ],
   "source": [
    "grouped_source_links.describe()"
   ]
  },
  {
   "cell_type": "code",
   "execution_count": 296,
   "id": "b73936f2-e0cd-4fb3-b1ca-15d32fcec4a5",
   "metadata": {},
   "outputs": [
    {
     "data": {
      "text/html": [
       "<div>\n",
       "<style scoped>\n",
       "    .dataframe tbody tr th:only-of-type {\n",
       "        vertical-align: middle;\n",
       "    }\n",
       "\n",
       "    .dataframe tbody tr th {\n",
       "        vertical-align: top;\n",
       "    }\n",
       "\n",
       "    .dataframe thead th {\n",
       "        text-align: right;\n",
       "    }\n",
       "</style>\n",
       "<table border=\"1\" class=\"dataframe\">\n",
       "  <thead>\n",
       "    <tr style=\"text-align: right;\">\n",
       "      <th></th>\n",
       "      <th>linkSource</th>\n",
       "      <th>linkTarget</th>\n",
       "    </tr>\n",
       "  </thead>\n",
       "  <tbody>\n",
       "    <tr>\n",
       "      <th>0</th>\n",
       "      <td>%C3%81ed%C3%A1n_mac_Gabr%C3%A1in</td>\n",
       "      <td>Bede</td>\n",
       "    </tr>\n",
       "    <tr>\n",
       "      <th>1</th>\n",
       "      <td>%C3%81ed%C3%A1n_mac_Gabr%C3%A1in</td>\n",
       "      <td>Columba</td>\n",
       "    </tr>\n",
       "    <tr>\n",
       "      <th>2</th>\n",
       "      <td>%C3%81ed%C3%A1n_mac_Gabr%C3%A1in</td>\n",
       "      <td>D%C3%A1l_Riata</td>\n",
       "    </tr>\n",
       "    <tr>\n",
       "      <th>3</th>\n",
       "      <td>%C3%81ed%C3%A1n_mac_Gabr%C3%A1in</td>\n",
       "      <td>Great_Britain</td>\n",
       "    </tr>\n",
       "    <tr>\n",
       "      <th>4</th>\n",
       "      <td>%C3%81ed%C3%A1n_mac_Gabr%C3%A1in</td>\n",
       "      <td>Ireland</td>\n",
       "    </tr>\n",
       "    <tr>\n",
       "      <th>...</th>\n",
       "      <td>...</td>\n",
       "      <td>...</td>\n",
       "    </tr>\n",
       "    <tr>\n",
       "      <th>119862</th>\n",
       "      <td>Zuid-Gelders</td>\n",
       "      <td>Brabantian</td>\n",
       "    </tr>\n",
       "    <tr>\n",
       "      <th>119864</th>\n",
       "      <td>Zuid-Gelders</td>\n",
       "      <td>East_Flemish</td>\n",
       "    </tr>\n",
       "    <tr>\n",
       "      <th>119872</th>\n",
       "      <td>Zulu</td>\n",
       "      <td>History_of_South_Africa</td>\n",
       "    </tr>\n",
       "    <tr>\n",
       "      <th>119873</th>\n",
       "      <td>Zulu</td>\n",
       "      <td>Ladysmith_Black_Mambazo</td>\n",
       "    </tr>\n",
       "    <tr>\n",
       "      <th>119876</th>\n",
       "      <td>Zulu</td>\n",
       "      <td>Shaka</td>\n",
       "    </tr>\n",
       "  </tbody>\n",
       "</table>\n",
       "<p>17221 rows × 2 columns</p>\n",
       "</div>"
      ],
      "text/plain": [
       "                              linkSource               linkTarget\n",
       "0       %C3%81ed%C3%A1n_mac_Gabr%C3%A1in                     Bede\n",
       "1       %C3%81ed%C3%A1n_mac_Gabr%C3%A1in                  Columba\n",
       "2       %C3%81ed%C3%A1n_mac_Gabr%C3%A1in           D%C3%A1l_Riata\n",
       "3       %C3%81ed%C3%A1n_mac_Gabr%C3%A1in            Great_Britain\n",
       "4       %C3%81ed%C3%A1n_mac_Gabr%C3%A1in                  Ireland\n",
       "...                                  ...                      ...\n",
       "119862                      Zuid-Gelders               Brabantian\n",
       "119864                      Zuid-Gelders             East_Flemish\n",
       "119872                              Zulu  History_of_South_Africa\n",
       "119873                              Zulu  Ladysmith_Black_Mambazo\n",
       "119876                              Zulu                    Shaka\n",
       "\n",
       "[17221 rows x 2 columns]"
      ]
     },
     "execution_count": 296,
     "metadata": {},
     "output_type": "execute_result"
    }
   ],
   "source": [
    "grouped_target_links = links.groupby(by=\"linkTarget\")\n",
    "grouped_target_links.head()"
   ]
  },
  {
   "cell_type": "code",
   "execution_count": 297,
   "id": "33d34d89-294c-4068-9c78-a29a3308d2d2",
   "metadata": {},
   "outputs": [
    {
     "data": {
      "text/html": [
       "<div>\n",
       "<style scoped>\n",
       "    .dataframe tbody tr th:only-of-type {\n",
       "        vertical-align: middle;\n",
       "    }\n",
       "\n",
       "    .dataframe tbody tr th {\n",
       "        vertical-align: top;\n",
       "    }\n",
       "\n",
       "    .dataframe thead tr th {\n",
       "        text-align: left;\n",
       "    }\n",
       "\n",
       "    .dataframe thead tr:last-of-type th {\n",
       "        text-align: right;\n",
       "    }\n",
       "</style>\n",
       "<table border=\"1\" class=\"dataframe\">\n",
       "  <thead>\n",
       "    <tr>\n",
       "      <th></th>\n",
       "      <th colspan=\"4\" halign=\"left\">linkSource</th>\n",
       "    </tr>\n",
       "    <tr>\n",
       "      <th></th>\n",
       "      <th>count</th>\n",
       "      <th>unique</th>\n",
       "      <th>top</th>\n",
       "      <th>freq</th>\n",
       "    </tr>\n",
       "    <tr>\n",
       "      <th>linkTarget</th>\n",
       "      <th></th>\n",
       "      <th></th>\n",
       "      <th></th>\n",
       "      <th></th>\n",
       "    </tr>\n",
       "  </thead>\n",
       "  <tbody>\n",
       "    <tr>\n",
       "      <th>10th_century</th>\n",
       "      <td>65</td>\n",
       "      <td>65</td>\n",
       "      <td>11th_century</td>\n",
       "      <td>1</td>\n",
       "    </tr>\n",
       "    <tr>\n",
       "      <th>11th_century</th>\n",
       "      <td>57</td>\n",
       "      <td>57</td>\n",
       "      <td>10th_century</td>\n",
       "      <td>1</td>\n",
       "    </tr>\n",
       "    <tr>\n",
       "      <th>12th_century</th>\n",
       "      <td>85</td>\n",
       "      <td>85</td>\n",
       "      <td>11th_century</td>\n",
       "      <td>1</td>\n",
       "    </tr>\n",
       "    <tr>\n",
       "      <th>13th_century</th>\n",
       "      <td>84</td>\n",
       "      <td>84</td>\n",
       "      <td>11th_century</td>\n",
       "      <td>1</td>\n",
       "    </tr>\n",
       "    <tr>\n",
       "      <th>14th_century</th>\n",
       "      <td>71</td>\n",
       "      <td>71</td>\n",
       "      <td>11th_century</td>\n",
       "      <td>1</td>\n",
       "    </tr>\n",
       "    <tr>\n",
       "      <th>...</th>\n",
       "      <td>...</td>\n",
       "      <td>...</td>\n",
       "      <td>...</td>\n",
       "      <td>...</td>\n",
       "    </tr>\n",
       "    <tr>\n",
       "      <th>Zionism</th>\n",
       "      <td>25</td>\n",
       "      <td>25</td>\n",
       "      <td>19th_century</td>\n",
       "      <td>1</td>\n",
       "    </tr>\n",
       "    <tr>\n",
       "      <th>Zirconium</th>\n",
       "      <td>15</td>\n",
       "      <td>15</td>\n",
       "      <td>Calcium</td>\n",
       "      <td>1</td>\n",
       "    </tr>\n",
       "    <tr>\n",
       "      <th>Zoroaster</th>\n",
       "      <td>9</td>\n",
       "      <td>9</td>\n",
       "      <td>Friedrich_Nietzsche</td>\n",
       "      <td>1</td>\n",
       "    </tr>\n",
       "    <tr>\n",
       "      <th>Zuid-Gelders</th>\n",
       "      <td>5</td>\n",
       "      <td>5</td>\n",
       "      <td>Brabantian</td>\n",
       "      <td>1</td>\n",
       "    </tr>\n",
       "    <tr>\n",
       "      <th>Zulu</th>\n",
       "      <td>14</td>\n",
       "      <td>14</td>\n",
       "      <td>19th_century</td>\n",
       "      <td>1</td>\n",
       "    </tr>\n",
       "  </tbody>\n",
       "</table>\n",
       "<p>4135 rows × 4 columns</p>\n",
       "</div>"
      ],
      "text/plain": [
       "             linkSource                                 \n",
       "                  count unique                  top freq\n",
       "linkTarget                                              \n",
       "10th_century         65     65         11th_century    1\n",
       "11th_century         57     57         10th_century    1\n",
       "12th_century         85     85         11th_century    1\n",
       "13th_century         84     84         11th_century    1\n",
       "14th_century         71     71         11th_century    1\n",
       "...                 ...    ...                  ...  ...\n",
       "Zionism              25     25         19th_century    1\n",
       "Zirconium            15     15              Calcium    1\n",
       "Zoroaster             9      9  Friedrich_Nietzsche    1\n",
       "Zuid-Gelders          5      5           Brabantian    1\n",
       "Zulu                 14     14         19th_century    1\n",
       "\n",
       "[4135 rows x 4 columns]"
      ]
     },
     "execution_count": 297,
     "metadata": {},
     "output_type": "execute_result"
    }
   ],
   "source": [
    "grouped_target_links.describe()"
   ]
  },
  {
   "cell_type": "markdown",
   "id": "12c38636-34ca-404a-85a1-80c48254629b",
   "metadata": {},
   "source": [
    "Filtering is made using the check_word function. It checks if the article belongs to the countries or people list."
   ]
  },
  {
   "cell_type": "code",
   "execution_count": 186,
   "id": "5db6816a-9898-4e22-95ea-d3cd7fbd211b",
   "metadata": {},
   "outputs": [],
   "source": [
    "import re\n",
    "\n",
    "def check_word(word, list_words):\n",
    "    '''Inputs:\n",
    "            word: string\n",
    "            list_words: string\n",
    "        Return:\n",
    "            True if the word is in the list_words\n",
    "            False otherwise\n",
    "    '''\n",
    "    if any(article in re.findall(r\"[\\w']+\", word) for article in list_words):\n",
    "        return True \n",
    "    else:\n",
    "         return False"
   ]
  },
  {
   "cell_type": "markdown",
   "id": "67b7c09b-3a38-4dc1-bd43-819957c0512b",
   "metadata": {},
   "source": [
    "One calls the four subsets as following: 1) country_to_people 2) people_from_country 3) people_to_country 4) country_from_people. One proceeds in two steps: first isolate the country or people of interest on one column, then on the other.\n",
    "\n",
    "Comment Killian: ça prend un temps fou à s'exécuter, dites si vous avez une méthode plus rapide."
   ]
  },
  {
   "cell_type": "code",
   "execution_count": 303,
   "id": "fc226a46-ba89-42e1-b87c-aec25c97bdc2",
   "metadata": {},
   "outputs": [
    {
     "name": "stdout",
     "output_type": "stream",
     "text": [
      "There are 127 countries that target people.\n",
      "There are 141 people that are targeted by countries.\n",
      "There are 1061 people that target countries.\n",
      "There are 145 countries that are targeted by people.\n"
     ]
    }
   ],
   "source": [
    "country_to_people = grouped_source_links.filter(lambda x : check_word(str(x['linkSource']), str(all_countries['article'])) & check_word(str(x['linkTarget']), str(people_grouped['article'])))\n",
    "print('There are {} countries that target people.'.format(len(country_to_people)))\n",
    "people_from_country = grouped_source_links.filter(lambda x :check_word(str(x['linkSource']), str(people_grouped['article'])) & check_word(str(x['linkTarget']), str(all_countries['article'])))\n",
    "print('There are {} people that are targeted by countries.'.format(len(people_from_country)))\n",
    "people_to_country = grouped_target_links.filter(lambda x : check_word(str(x['linkSource']), str(all_countries['article'])) & check_word(str(x['linkTarget']), str(people_grouped['article'])))\n",
    "print('There are {} people that target countries.'.format(len(people_to_country)))\n",
    "country_from_people = grouped_source_links.filter(lambda x : check_word(str(x['linkSource']), str(people_grouped['article'])) & check_word(str(x['linkTarget']), str(all_countries['article'])))\n",
    "print('There are {} countries that are targeted by people.'.format(len(country_from_people)))"
   ]
  },
  {
   "cell_type": "markdown",
   "id": "2c557595-58e0-45d9-bd2f-0561d75c2e26",
   "metadata": {},
   "source": [
    "# Links between articles"
   ]
  },
  {
   "cell_type": "markdown",
   "id": "e8a7b928-f2ee-4da6-a750-1f4809fc8edd",
   "metadata": {},
   "source": [
    "One first considers countries for the finished paths. What are their occurences?"
   ]
  },
  {
   "cell_type": "code",
   "execution_count": null,
   "id": "f3d9bb33-2bb5-442f-a21a-5270bf905c18",
   "metadata": {},
   "outputs": [],
   "source": [
    "path_finished.head()"
   ]
  },
  {
   "cell_type": "code",
   "execution_count": null,
   "id": "ec197e33-2c76-415f-936c-2235f7e8b1c6",
   "metadata": {},
   "outputs": [],
   "source": [
    "path_finished.describe()"
   ]
  },
  {
   "cell_type": "markdown",
   "id": "850da183-ebaa-43d8-997e-04da8149f524",
   "metadata": {},
   "source": [
    "Looking at the paths, one counts the number of occurencies of countries in them, with the function check_words_in_list."
   ]
  },
  {
   "cell_type": "code",
   "execution_count": null,
   "id": "944bbe12",
   "metadata": {},
   "outputs": [],
   "source": []
  },
  {
   "cell_type": "markdown",
   "id": "d0d0be0c",
   "metadata": {},
   "source": [
    "## Graph Analysis \n",
    "\n",
    "(Manon): J'ai lu un article très intéressant avec beaucoup de choses que l'on pourrait reprendre, je pensais commencer par essayer de regarder un peu comme ils font\n",
    "https://studentwork.prattsi.org/infovis/labs/exploring-the-network-behind-wikispeedia/ \\\\\n",
    "\n",
    "The idea is to focus on the graph of finished paths (at first) and then filter the paths where '<' occurs (i.e. the paths where the player had pressed the back button), but in a second step we could also decide to keep these paths but just delete the '<' as well as the previous page."
   ]
  },
  {
   "cell_type": "code",
   "execution_count": null,
   "id": "79a43569",
   "metadata": {},
   "outputs": [],
   "source": [
    "def check_character(headline, character):\n",
    "    '''Inputs:\n",
    "            headline: string\n",
    "            list_words: string\n",
    "        Return:\n",
    "            1 if the character is in the headline\n",
    "            0 otherwise\n",
    "    '''\n",
    "    if character in headline: #\n",
    "        return 1 \n",
    "    else:\n",
    "         return 0"
   ]
  },
  {
   "cell_type": "code",
   "execution_count": null,
   "id": "658ca3be",
   "metadata": {},
   "outputs": [],
   "source": [
    "path_finished['back'] = path_finished['path'].apply(lambda x : check_character(x, '<'))\n",
    "path_finished_filtered = path_finished[path_finished['back']==0]"
   ]
  },
  {
   "cell_type": "markdown",
   "id": "fda31fba",
   "metadata": {},
   "source": [
    "Then we need to create a graph. To this end, we will use `nx.add_path`. However, this function needs a list of successive nodes(i.e. the successsive articles). Thus we first need to transform the paths."
   ]
  },
  {
   "cell_type": "code",
   "execution_count": null,
   "id": "324e5521",
   "metadata": {},
   "outputs": [],
   "source": [
    "def Convert(string):\n",
    "    li = list(string.split(\";\"))\n",
    "    return li"
   ]
  },
  {
   "cell_type": "code",
   "execution_count": null,
   "id": "8e850c93",
   "metadata": {},
   "outputs": [],
   "source": [
    "path_finished_filtered['path'] = path_finished_filtered['path'].apply(lambda x : Convert(x))\n"
   ]
  },
  {
   "cell_type": "code",
   "execution_count": null,
   "id": "276114f3",
   "metadata": {},
   "outputs": [],
   "source": [
    "path_finished_filtered['path'][2]"
   ]
  },
  {
   "cell_type": "markdown",
   "id": "ce3e2d22",
   "metadata": {},
   "source": [
    "Eventually we create the graph: (To check (Manon): Je suis pas sure que an le créant comme je l'ai fait le poids des liaisons entre les noeuds et proportionnel au nombre de fois où j'ai mis la liaison)"
   ]
  },
  {
   "cell_type": "code",
   "execution_count": null,
   "id": "71620c75",
   "metadata": {},
   "outputs": [],
   "source": [
    "import networkx as nx\n",
    "\n",
    "G = nx.Graph()\n",
    "for index, row in path_finished_filtered.iterrows(): \n",
    "    nx.add_path(G, row['path'])\n",
    "    "
   ]
  },
  {
   "cell_type": "code",
   "execution_count": null,
   "id": "21731fad",
   "metadata": {
    "tags": []
   },
   "outputs": [],
   "source": [
    "list(G.nodes)"
   ]
  },
  {
   "cell_type": "code",
   "execution_count": null,
   "id": "b9aef7c4",
   "metadata": {},
   "outputs": [],
   "source": [
    "nx.info(G)"
   ]
  },
  {
   "cell_type": "code",
   "execution_count": null,
   "id": "03e431ba",
   "metadata": {
    "tags": []
   },
   "outputs": [],
   "source": [
    "nx.degree_histogram(G)"
   ]
  },
  {
   "cell_type": "markdown",
   "id": "d4611186",
   "metadata": {},
   "source": [
    "**Degree centrality :** This is based on the assumption that important nodes have many connections \\\n",
    "$d(v) = \\frac{d_v}{|N|-1}$ where $d_v$  is the degree of node $v$ and $N$ is the set of all nodes."
   ]
  },
  {
   "cell_type": "code",
   "execution_count": null,
   "id": "9488546c",
   "metadata": {},
   "outputs": [],
   "source": [
    "deg_centrality = nx.degree_centrality(G)\n",
    "deg_centrality_df = pd.DataFrame.from_dict(deg_centrality, orient='index')\n",
    "deg_centrality_df.idxmax() # As expected, the United_States "
   ]
  },
  {
   "cell_type": "markdown",
   "id": "a30d40a0",
   "metadata": {},
   "source": [
    "**Pagerank**"
   ]
  },
  {
   "cell_type": "code",
   "execution_count": null,
   "id": "76acd50b",
   "metadata": {},
   "outputs": [],
   "source": [
    "pr = nx.pagerank(G, alpha = 0.8)\n",
    "pr_df = pd.DataFrame.from_dict(pr, orient='index')\n",
    "pr_df.idxmax()"
   ]
  },
  {
   "cell_type": "markdown",
   "id": "8d18bc06",
   "metadata": {},
   "source": [
    "Il y a plein de mesures différentes pour mesurer l'importance des nodes, cf ce lien : https://www.geeksforgeeks.org/network-centrality-measures-in-a-graph-using-networkx-python/. Je n'en ai implémenté que deux pour le moment mais il faut choisir celui/celles qui sont le plus pertinent (Manon)\n",
    "\n",
    "Ensuite on peut mesurer la centralité et tout ce dont j'avais parlé directement avec le package `nx`, j'ai compris comment faire je crois, je continue dans la semaine."
   ]
  },
  {
   "cell_type": "code",
   "execution_count": null,
   "id": "bd4fb7f4",
   "metadata": {},
   "outputs": [],
   "source": []
  }
 ],
 "metadata": {
  "kernelspec": {
   "display_name": "Python [conda env:ada] *",
   "language": "python",
   "name": "conda-env-ada-py"
  },
  "language_info": {
   "codemirror_mode": {
    "name": "ipython",
    "version": 3
   },
   "file_extension": ".py",
   "mimetype": "text/x-python",
   "name": "python",
   "nbconvert_exporter": "python",
   "pygments_lexer": "ipython3",
   "version": "3.9.13"
  },
  "vscode": {
   "interpreter": {
    "hash": "dbade574d15fe17e8f9491db4f014f1a98c0fdcad9107a7475d20a32d7a2211c"
   }
  }
 },
 "nbformat": 4,
 "nbformat_minor": 5
}
